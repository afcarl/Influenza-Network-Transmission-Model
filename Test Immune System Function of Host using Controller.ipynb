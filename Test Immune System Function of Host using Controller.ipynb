{
 "metadata": {
  "name": "",
  "signature": "sha256:3eb01a20444caced2d437bc4b35739e117722df2330a8c722331888802060b11"
 },
 "nbformat": 3,
 "nbformat_minor": 0,
 "worksheets": [
  {
   "cells": [
    {
     "cell_type": "code",
     "collapsed": false,
     "input": [
      "from controller import Controller"
     ],
     "language": "python",
     "metadata": {},
     "outputs": [],
     "prompt_number": 1
    },
    {
     "cell_type": "code",
     "collapsed": false,
     "input": [
      "c = Controller()\n",
      "c.create_environment(num_hosts=4)\n",
      "for host in c.environments[0].hosts:\n",
      "    c.create_virus(host)\n",
      "\n",
      "timesteps = range(1, 20)\n",
      "\n",
      "virus_counts = []\n",
      "\n",
      "for i in timesteps:\n",
      "    c.increment_timestep()\n",
      "    virus_counts.append(c.get_host_virus_population(c.environments[0]))"
     ],
     "language": "python",
     "metadata": {},
     "outputs": [
      {
       "output_type": "stream",
       "stream": "stdout",
       "text": [
        "Removing 0 viruses out of 1 viruses.\n",
        "Removing 3 viruses out of 9 viruses.\n",
        "Removing 4 viruses out of 15 viruses.\n",
        "Removing 1 viruses out of 1 viruses.\n",
        "Removing 5 viruses out of 7 viruses.\n",
        "Removing 12 viruses out of 38 viruses.\n",
        "Removing 28 viruses out of 77 viruses.\n",
        "Removing 9 viruses out of 16 viruses.\n",
        "Removing 52 viruses out of 86 viruses.\n",
        "Removing 261 viruses out of 419 viruses."
       ]
      },
      {
       "output_type": "stream",
       "stream": "stdout",
       "text": [
        "\n",
        "Removing 45 viruses out of 73 viruses.\n",
        "Removing 28 viruses out of 48 viruses.\n",
        "Removing 717 viruses out of 1102 viruses."
       ]
      },
      {
       "output_type": "stream",
       "stream": "stdout",
       "text": [
        "\n",
        "Removing 98 viruses out of 140 viruses.\n",
        "Removing 93 viruses out of 136 viruses.\n",
        "Removing 1199 viruses out of 1689 viruses."
       ]
      },
      {
       "output_type": "stream",
       "stream": "stdout",
       "text": [
        "\n",
        "Removing 146 viruses out of 192 viruses."
       ]
      },
      {
       "output_type": "stream",
       "stream": "stdout",
       "text": [
        "\n",
        "Removing 277 viruses out of 375 viruses."
       ]
      },
      {
       "output_type": "stream",
       "stream": "stdout",
       "text": [
        "\n",
        "Removing 1091 viruses out of 1464 viruses."
       ]
      },
      {
       "output_type": "stream",
       "stream": "stdout",
       "text": [
        "\n",
        "Removing 238 viruses out of 306 viruses."
       ]
      },
      {
       "output_type": "stream",
       "stream": "stdout",
       "text": [
        "\n",
        "Removing 234 viruses out of 300 viruses.\n",
        "Removing 608 viruses out of 787 viruses."
       ]
      },
      {
       "output_type": "stream",
       "stream": "stdout",
       "text": [
        "\n",
        "Removing 120 viruses out of 140 viruses.\n",
        "Removing 387 viruses out of 500 viruses."
       ]
      },
      {
       "output_type": "stream",
       "stream": "stdout",
       "text": [
        "\n",
        "Removing 581 viruses out of 717 viruses."
       ]
      },
      {
       "output_type": "stream",
       "stream": "stdout",
       "text": [
        "\n",
        "Removing 114 viruses out of 132 viruses.\n",
        "Removing 523 viruses out of 639 viruses."
       ]
      },
      {
       "output_type": "stream",
       "stream": "stdout",
       "text": [
        "\n",
        "Removing 1031 viruses out of 1262 viruses."
       ]
      },
      {
       "output_type": "stream",
       "stream": "stdout",
       "text": [
        "\n",
        "Removing 138 viruses out of 170 viruses."
       ]
      },
      {
       "output_type": "stream",
       "stream": "stdout",
       "text": [
        "\n",
        "Removing 948 viruses out of 1124 viruses."
       ]
      },
      {
       "output_type": "stream",
       "stream": "stdout",
       "text": [
        "\n",
        "Removing 633 viruses out of 761 viruses."
       ]
      },
      {
       "output_type": "stream",
       "stream": "stdout",
       "text": [
        "\n",
        "Removing 145 viruses out of 174 viruses.\n",
        "Removing 191 viruses out of 220 viruses."
       ]
      },
      {
       "output_type": "stream",
       "stream": "stdout",
       "text": [
        "\n",
        "Removing 347 viruses out of 422 viruses."
       ]
      },
      {
       "output_type": "stream",
       "stream": "stdout",
       "text": [
        "\n",
        "Removing 88 viruses out of 107 viruses.\n",
        "Removing 31 viruses out of 37 viruses.\n",
        "Removing 482 viruses out of 549 viruses."
       ]
      },
      {
       "output_type": "stream",
       "stream": "stdout",
       "text": [
        "\n",
        "Removing 16 viruses out of 19 viruses.\n",
        "Removing 6 viruses out of 6 viruses.\n",
        "Removing 149 viruses out of 169 viruses.\n",
        "Removing 13 viruses out of 13 viruses.\n",
        "Removing 130 viruses out of 144 viruses."
       ]
      },
      {
       "output_type": "stream",
       "stream": "stdout",
       "text": [
        "\n",
        "Removing 116 viruses out of 130 viruses.\n",
        "Removing 87 viruses out of 100 viruses."
       ]
      },
      {
       "output_type": "stream",
       "stream": "stdout",
       "text": [
        "\n",
        "Removing 45 viruses out of 53 viruses.\n",
        "Removing 48 viruses out of 56 viruses.\n",
        "Removing 33 viruses out of 36 viruses.\n"
       ]
      }
     ],
     "prompt_number": 2
    },
    {
     "cell_type": "code",
     "collapsed": false,
     "input": [
      "print virus_counts\n",
      "plt.plot(virus_counts)"
     ],
     "language": "python",
     "metadata": {},
     "outputs": [
      {
       "output_type": "stream",
       "stream": "stdout",
       "text": [
        "[[1, 6, 11, 0], [2, 26, 49, 0], [7, 34, 158, 0], [28, 20, 385, 0], [42, 43, 490, 0], [46, 98, 373, 0], [68, 66, 179, 0], [20, 113, 136, 0], [18, 116, 231, 0], [32, 176, 128, 0], [29, 29, 75, 0], [19, 6, 67, 0], [3, 0, 20, 0], [0, 0, 14, 0], [0, 0, 14, 0], [0, 0, 13, 0], [0, 0, 8, 0], [0, 0, 8, 0], [0, 0, 3, 0]]\n"
       ]
      },
      {
       "metadata": {},
       "output_type": "pyout",
       "prompt_number": 3,
       "text": [
        "[<matplotlib.lines.Line2D at 0x1060dcb50>,\n",
        " <matplotlib.lines.Line2D at 0x1060dcdd0>,\n",
        " <matplotlib.lines.Line2D at 0x1060d0050>,\n",
        " <matplotlib.lines.Line2D at 0x1060d0210>]"
       ]
      },
      {
       "metadata": {},
       "output_type": "display_data",
       "png": "[encoded data removed]",
       "text": [
        "<matplotlib.figure.Figure at 0x1060bd350>"
       ]
      }
     ],
     "prompt_number": 3
    },
    {
     "cell_type": "code",
     "collapsed": false,
     "input": [],
     "language": "python",
     "metadata": {},
     "outputs": [],
     "prompt_number": 20
    },
    {
     "cell_type": "code",
     "collapsed": false,
     "input": [],
     "language": "python",
     "metadata": {},
     "outputs": []
    }
   ],
   "metadata": {}
  }
 ]
}