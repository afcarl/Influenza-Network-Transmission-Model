{
 "metadata": {
  "name": "",
  "signature": "sha256:d847852abacc747e3e9823480ea7afa5cd2bda73f4e388ddffeb3fceaf9cf7b2"
 },
 "nbformat": 3,
 "nbformat_minor": 0,
 "worksheets": [
  {
   "cells": [
    {
     "cell_type": "code",
     "collapsed": false,
     "input": [
      "from controller import Controller"
     ],
     "language": "python",
     "metadata": {},
     "outputs": [],
     "prompt_number": 1
    },
    {
     "cell_type": "code",
     "collapsed": false,
     "input": [
      "virus_counts_list = []\n",
      "\n",
      "for j in range(10):\n",
      "    c = Controller()\n",
      "    c.create_environment(num_hosts=1)\n",
      "    c.create_virus(c.environments[0].hosts[0])\n",
      "    \n",
      "    virus_counts = []\n",
      "\n",
      "    for i in range(30):\n",
      "        c.increment_timestep()\n",
      "\n",
      "        virus_counts.append(c.get_host_virus_population(c.environments[0]))\n",
      "        \n",
      "    virus_counts_list.append(virus_counts)"
     ],
     "language": "python",
     "metadata": {},
     "outputs": [
      {
       "output_type": "stream",
       "stream": "stdout",
       "text": [
        "Adding host 5a137... to environment a4866...\n",
        "Creating environment a4866\n",
        "Creating virus 2cae3 inside host 5a137\n",
        "Current time is 0. Incrementing time to 1\n",
        "Generating 3 progeny in host 5a137...\n",
        "5 progeny have been made from virus 2cae3 in host 5a137\n",
        "5 progeny generated in host 5a137.\n",
        "Current time is 1. Incrementing time to 2\n",
        "Generating 5 progeny in host 5a137...\n",
        "10 progeny have been made from virus 24f38 in host 5a137\n",
        "10 progeny generated in host 5a137.\n",
        "Current time is 2. Incrementing time to 3\n",
        "Generating 17 progeny in host 5a137...\n",
        "8 progeny have been made from virus f9333 in host 5a137\n",
        "6 progeny have been made from virus 284ea in host 5a137"
       ]
      },
      {
       "output_type": "stream",
       "stream": "stdout",
       "text": [
        "\n",
        "8 progeny have been made from virus 24f38 in host 5a137\n",
        "22 progeny generated in host 5a137.\n",
        "Current time is 3. Incrementing time to 4\n",
        "Generating 41 progeny in host 5a137...\n",
        "5 progeny have been made from virus be163 in host 5a137\n",
        "8 progeny have been made from virus 1ad60 in host 5a137\n",
        "8 progeny have been made from virus 6eb8e in host 5a137\n",
        "7 progeny have been made from virus 6f672 in host 5a137"
       ]
      },
      {
       "output_type": "stream",
       "stream": "stdout",
       "text": [
        "\n",
        "8 progeny have been made from virus d3153 in host 5a137\n",
        "9 progeny have been made from virus 7c1e4 in host 5a137\n",
        "45 progeny generated in host 5a137.\n",
        "Current time is 4. Incrementing time to 5\n",
        "Generating 96 progeny in host 5a137...\n",
        "7 progeny have been made from virus b1908 in host 5a137"
       ]
      },
      {
       "output_type": "stream",
       "stream": "stdout",
       "text": [
        "\n",
        "6 progeny have been made from virus d57d4 in host 5a137\n",
        "8 progeny have been made from virus 87a4e in host 5a137\n",
        "6 progeny have been made from virus 2b2cd in host 5a137\n",
        "5 progeny have been made from virus 49fe0 in host 5a137"
       ]
      },
      {
       "output_type": "stream",
       "stream": "stdout",
       "text": [
        "\n",
        "6 progeny have been made from virus 2ace4 in host 5a137\n",
        "9 progeny have been made from virus 22384 in host 5a137\n",
        "10 progeny have been made from virus 89094 in host 5a137"
       ]
      },
      {
       "output_type": "stream",
       "stream": "stdout",
       "text": [
        "\n",
        "5 progeny have been made from virus a264d in host 5a137\n",
        "9 progeny have been made from virus 8114f in host 5a137\n",
        "7 progeny have been made from virus 284ea in host 5a137"
       ]
      },
      {
       "output_type": "stream",
       "stream": "stdout",
       "text": [
        "\n",
        "5 progeny have been made from virus ea0c3 in host 5a137\n",
        "6 progeny have been made from virus 306c6 in host 5a137\n",
        "10 progeny have been made from virus b1908 in host 5a137\n",
        "99 progeny generated in host 5a137.\n",
        "Current time is 5. Incrementing time to 6\n",
        "Generating 69 progeny in host 5a137...\n",
        "5 progeny have been made from virus 08550 in host 5a137"
       ]
      },
      {
       "output_type": "stream",
       "stream": "stdout",
       "text": [
        "\n",
        "5 progeny have been made from virus 6240f in host 5a137\n",
        "7 progeny have been made from virus 3301f in host 5a137\n",
        "7 progeny have been made from virus 76d6a in host 5a137"
       ]
      },
      {
       "output_type": "stream",
       "stream": "stdout",
       "text": [
        "\n",
        "8 progeny have been made from virus 57ebc in host 5a137\n",
        "10 progeny have been made from virus 84046 in host 5a137"
       ]
      },
      {
       "output_type": "stream",
       "stream": "stdout",
       "text": [
        "\n",
        "8 progeny have been made from virus af706 in host 5a137\n",
        "5 progeny have been made from virus 4efe1 in host 5a137\n",
        "10 progeny have been made from virus 37880 in host 5a137"
       ]
      },
      {
       "output_type": "stream",
       "stream": "stdout",
       "text": [
        "\n",
        "6 progeny have been made from virus 8e0f0 in host 5a137\n",
        "71 progeny generated in host 5a137.\n",
        "Current time is 6. Incrementing time to 7\n",
        "Generating 10 progeny in host 5a137...\n",
        "8 progeny have been made from virus 49c66 in host 5a137\n",
        "8 progeny have been made from virus 3c2bb in host 5a137"
       ]
      },
      {
       "output_type": "stream",
       "stream": "stdout",
       "text": [
        "\n",
        "16 progeny generated in host 5a137.\n",
        "Current time is 7. Incrementing time to 8\n",
        "Generating 55 progeny in host 5a137...\n",
        "9 progeny have been made from virus 23a33 in host 5a137\n",
        "5 progeny have been made from virus 2134d in host 5a137\n",
        "8 progeny have been made from virus 0df60 in host 5a137"
       ]
      },
      {
       "output_type": "stream",
       "stream": "stdout",
       "text": [
        "\n",
        "5 progeny have been made from virus 0d693 in host 5a137\n",
        "7 progeny have been made from virus 3a42b in host 5a137\n",
        "9 progeny have been made from virus a0c4d in host 5a137"
       ]
      },
      {
       "output_type": "stream",
       "stream": "stdout",
       "text": [
        "\n",
        "6 progeny have been made from virus 65683 in host 5a137\n",
        "5 progeny have been made from virus 27630 in host 5a137\n",
        "9 progeny have been made from virus 41a41 in host 5a137"
       ]
      },
      {
       "output_type": "stream",
       "stream": "stdout",
       "text": [
        "\n",
        "63 progeny generated in host 5a137.\n",
        "Current time is 8. Incrementing time to 9\n",
        "Generating 40 progeny in host 5a137...\n",
        "8 progeny have been made from virus ff85d in host 5a137\n",
        "10 progeny have been made from virus 1ccf3 in host 5a137"
       ]
      },
      {
       "output_type": "stream",
       "stream": "stdout",
       "text": [
        "\n",
        "7 progeny have been made from virus 7a2f5 in host 5a137\n",
        "7 progeny have been made from virus a8500 in host 5a137\n",
        "5 progeny have been made from virus d71f4 in host 5a137"
       ]
      },
      {
       "output_type": "stream",
       "stream": "stdout",
       "text": [
        "\n",
        "10 progeny have been made from virus d71f4 in host 5a137\n",
        "47 progeny generated in host 5a137.\n",
        "Current time is 9. Incrementing time to 10\n",
        "Generating 12 progeny in host 5a137...\n",
        "5 progeny have been made from virus 0b442 in host 5a137\n",
        "7 progeny have been made from virus 9717e in host 5a137"
       ]
      },
      {
       "output_type": "stream",
       "stream": "stdout",
       "text": [
        "\n",
        "12 progeny generated in host 5a137.\n",
        "Current time is 10. Incrementing time to 11\n",
        "Generating 20 progeny in host 5a137...\n",
        "9 progeny have been made from virus 47816 in host 5a137\n",
        "8 progeny have been made from virus d305c in host 5a137"
       ]
      },
      {
       "output_type": "stream",
       "stream": "stdout",
       "text": [
        "\n",
        "7 progeny have been made from virus 2533a in host 5a137\n",
        "24 progeny generated in host 5a137.\n",
        "Current time is 11. Incrementing time to 12\n",
        "Generating 12 progeny in host 5a137...\n",
        "6 progeny have been made from virus 473be in host 5a137"
       ]
      },
      {
       "output_type": "stream",
       "stream": "stdout",
       "text": [
        "\n",
        "6 progeny have been made from virus 035e4 in host 5a137\n",
        "12 progeny generated in host 5a137.\n",
        "Current time is 12. Incrementing time to 13\n",
        "Generating 2 progeny in host 5a137...\n",
        "5 progeny have been made from virus 3f36e in host 5a137\n",
        "5 progeny generated in host 5a137.\n",
        "Current time is 13. Incrementing time to 14\n",
        "Generating 0 progeny in host 5a137...\n",
        "0 progeny generated in host 5a137.\n",
        "Current time is 14. Incrementing time to 15\n",
        "Current time is 15. Incrementing time to 16\n",
        "Current time is 16. Incrementing time to 17\n",
        "Current time is 17. Incrementing time to 18\n",
        "Current time is 18. Incrementing time to 19\n",
        "Current time is 19. Incrementing time to 20\n",
        "Current time is 20. Incrementing time to 21\n",
        "Current time is 21. Incrementing time to 22\n",
        "Current time is 22. Incrementing time to 23\n",
        "Current time is 23. Incrementing time to 24\n",
        "Current time is 24. Incrementing time to 25\n",
        "Current time is 25. Incrementing time to 26\n",
        "Current time is 26. Incrementing time to 27\n",
        "Current time is 27. Incrementing time to 28\n",
        "Current time is 28. Incrementing time to 29\n",
        "Current time is 29. Incrementing time to 30\n",
        "Adding host eff71... to environment 843e3...\n",
        "Creating environment 843e3\n",
        "Creating virus 6c0ab inside host eff71"
       ]
      },
      {
       "output_type": "stream",
       "stream": "stdout",
       "text": [
        "\n",
        "Current time is 0. Incrementing time to 1\n",
        "Generating 0 progeny in host eff71...\n",
        "0 progeny generated in host eff71.\n",
        "Current time is 1. Incrementing time to 2\n",
        "Generating 0 progeny in host eff71...\n",
        "0 progeny generated in host eff71.\n",
        "Current time is 2. Incrementing time to 3\n",
        "Generating 0 progeny in host eff71...\n",
        "0 progeny generated in host eff71.\n",
        "Current time is 3. Incrementing time to 4\n",
        "Current time is 4. Incrementing time to 5\n",
        "Current time is 5. Incrementing time to 6\n",
        "Current time is 6. Incrementing time to 7\n",
        "Current time is 7. Incrementing time to 8\n",
        "Current time is 8. Incrementing time to 9\n",
        "Current time is 9. Incrementing time to 10\n",
        "Current time is 10. Incrementing time to 11\n",
        "Current time is 11. Incrementing time to 12\n",
        "Current time is 12. Incrementing time to 13\n",
        "Current time is 13. Incrementing time to 14\n",
        "Current time is 14. Incrementing time to 15\n",
        "Current time is 15. Incrementing time to 16\n",
        "Current time is 16. Incrementing time to 17\n",
        "Current time is 17. Incrementing time to 18\n",
        "Current time is 18. Incrementing time to 19\n",
        "Current time is 19. Incrementing time to 20\n",
        "Current time is 20. Incrementing time to 21\n",
        "Current time is 21. Incrementing time to 22\n",
        "Current time is 22. Incrementing time to 23\n",
        "Current time is 23. Incrementing time to 24\n",
        "Current time is 24. Incrementing time to 25\n",
        "Current time is 25. Incrementing time to 26\n",
        "Current time is 26. Incrementing time to 27\n",
        "Current time is 27. Incrementing time to 28\n",
        "Current time is 28. Incrementing time to 29\n",
        "Current time is 29. Incrementing time to 30\n",
        "Adding host e049e... to environment a4834...\n",
        "Creating environment a4834\n",
        "Creating virus 18eeb inside host e049e\n",
        "Current time is 0. Incrementing time to 1\n",
        "Generating 6 progeny in host e049e...\n",
        "7 progeny have been made from virus 18eeb in host e049e\n",
        "7 progeny generated in host e049e.\n",
        "Current time is 1. Incrementing time to 2\n",
        "Generating 21 progeny in host e049e...\n",
        "5 progeny have been made from virus 1fcc3 in host e049e\n",
        "9 progeny have been made from virus 3c317 in host e049e"
       ]
      },
      {
       "output_type": "stream",
       "stream": "stdout",
       "text": [
        "\n",
        "9 progeny have been made from virus 18eeb in host e049e\n",
        "23 progeny generated in host e049e.\n",
        "Current time is 2. Incrementing time to 3\n",
        "Generating 90 progeny in host e049e...\n",
        "5 progeny have been made from virus 90ba6 in host e049e\n",
        "10 progeny have been made from virus 5ac98 in host e049e"
       ]
      },
      {
       "output_type": "stream",
       "stream": "stdout",
       "text": [
        "\n",
        "8 progeny have been made from virus 54295 in host e049e\n",
        "6 progeny have been made from virus cfe8c in host e049e\n",
        "7 progeny have been made from virus 6ef9a in host e049e\n",
        "7 progeny have been made from virus 5ac98 in host e049e"
       ]
      },
      {
       "output_type": "stream",
       "stream": "stdout",
       "text": [
        "\n",
        "6 progeny have been made from virus f4e53 in host e049e\n",
        "6 progeny have been made from virus d5aa4 in host e049e\n",
        "10 progeny have been made from virus 1fcc3 in host e049e"
       ]
      },
      {
       "output_type": "stream",
       "stream": "stdout",
       "text": [
        "\n",
        "7 progeny have been made from virus 61833 in host e049e\n",
        "7 progeny have been made from virus db870 in host e049e\n",
        "9 progeny have been made from virus cfe8c in host e049e"
       ]
      },
      {
       "output_type": "stream",
       "stream": "stdout",
       "text": [
        "\n",
        "9 progeny have been made from virus 10f92 in host e049e\n",
        "97 progeny generated in host e049e.\n",
        "Current time is 3. Incrementing time to 4\n",
        "Generating 206 progeny in host e049e...\n",
        "5 progeny have been made from virus 6df95 in host e049e\n",
        "10 progeny have been made from virus a1d89 in host e049e"
       ]
      },
      {
       "output_type": "stream",
       "stream": "stdout",
       "text": [
        "\n",
        "10 progeny have been made from virus 4afd9 in host e049e\n",
        "5 progeny have been made from virus 4448d in host e049e\n",
        "9 progeny have been made from virus 17f65 in host e049e"
       ]
      },
      {
       "output_type": "stream",
       "stream": "stdout",
       "text": [
        "\n",
        "9 progeny have been made from virus 345d4 in host e049e\n",
        "5 progeny have been made from virus 9868e in host e049e\n",
        "5 progeny have been made from virus 1843b in host e049e\n",
        "8 progeny have been made from virus dd599 in host e049e"
       ]
      },
      {
       "output_type": "stream",
       "stream": "stdout",
       "text": [
        "\n",
        "6 progeny have been made from virus 79343 in host e049e\n",
        "7 progeny have been made from virus c14f7 in host e049e\n",
        "10 progeny have been made from virus 84b34 in host e049e"
       ]
      },
      {
       "output_type": "stream",
       "stream": "stdout",
       "text": [
        "\n",
        "9 progeny have been made from virus 4a62b in host e049e\n",
        "6 progeny have been made from virus 7d778 in host e049e"
       ]
      },
      {
       "output_type": "stream",
       "stream": "stdout",
       "text": [
        "\n",
        "10 progeny have been made from virus 7ed92 in host e049e\n",
        "8 progeny have been made from virus 18eeb in host e049e"
       ]
      },
      {
       "output_type": "stream",
       "stream": "stdout",
       "text": [
        "\n",
        "10 progeny have been made from virus f809c in host e049e\n",
        "8 progeny have been made from virus 1f8dd in host e049e"
       ]
      },
      {
       "output_type": "stream",
       "stream": "stdout",
       "text": [
        "\n",
        "9 progeny have been made from virus 0a765 in host e049e\n",
        "8 progeny have been made from virus 2e715 in host e049e"
       ]
      },
      {
       "output_type": "stream",
       "stream": "stdout",
       "text": [
        "\n",
        "7 progeny have been made from virus 8c59b in host e049e\n",
        "5 progeny have been made from virus 329bd in host e049e\n",
        "9 progeny have been made from virus fd15a in host e049e"
       ]
      },
      {
       "output_type": "stream",
       "stream": "stdout",
       "text": [
        "\n",
        "10 progeny have been made from virus c74aa in host e049e\n",
        "8 progeny have been made from virus bb9a6 in host e049e"
       ]
      },
      {
       "output_type": "stream",
       "stream": "stdout",
       "text": [
        "\n",
        "7 progeny have been made from virus 2b10a in host e049e\n",
        "10 progeny have been made from virus c2561 in host e049e"
       ]
      },
      {
       "output_type": "stream",
       "stream": "stdout",
       "text": [
        "\n",
        "213 progeny generated in host e049e.\n",
        "Current time is 4. Incrementing time to 5\n",
        "Generating 419 progeny in host e049e...\n",
        "7 progeny have been made from virus c4180 in host e049e\n",
        "8 progeny have been made from virus 0aae5 in host e049e"
       ]
      },
      {
       "output_type": "stream",
       "stream": "stdout",
       "text": [
        "\n",
        "10 progeny have been made from virus 79c00 in host e049e\n",
        "5 progeny have been made from virus 8f368 in host e049e\n",
        "10 progeny have been made from virus 1e6b5 in host e049e"
       ]
      },
      {
       "output_type": "stream",
       "stream": "stdout",
       "text": [
        "\n",
        "6 progeny have been made from virus 2cf6e in host e049e\n",
        "9 progeny have been made from virus 1f79a in host e049e"
       ]
      },
      {
       "output_type": "stream",
       "stream": "stdout",
       "text": [
        "\n",
        "6 progeny have been made from virus 623a4 in host e049e\n",
        "9 progeny have been made from virus cea9f in host e049e"
       ]
      },
      {
       "output_type": "stream",
       "stream": "stdout",
       "text": [
        "\n",
        "10 progeny have been made from virus 7c1ac in host e049e\n",
        "5 progeny have been made from virus 7c405 in host e049e"
       ]
      },
      {
       "output_type": "stream",
       "stream": "stdout",
       "text": [
        "\n",
        "9 progeny have been made from virus a9602 in host e049e\n",
        "10 progeny have been made from virus 0aae5 in host e049e"
       ]
      },
      {
       "output_type": "stream",
       "stream": "stdout",
       "text": [
        "\n",
        "8 progeny have been made from virus f7d0b in host e049e\n",
        "8 progeny have been made from virus 13283 in host e049e"
       ]
      },
      {
       "output_type": "stream",
       "stream": "stdout",
       "text": [
        "\n",
        "5 progeny have been made from virus 9f51d in host e049e\n",
        "10 progeny have been made from virus 01d48 in host e049e"
       ]
      },
      {
       "output_type": "stream",
       "stream": "stdout",
       "text": [
        "\n",
        "5 progeny have been made from virus 93b16 in host e049e\n",
        "6 progeny have been made from virus 66598 in host e049e"
       ]
      },
      {
       "output_type": "stream",
       "stream": "stdout",
       "text": [
        "\n",
        "5 progeny have been made from virus 5214c in host e049e\n",
        "6 progeny have been made from virus 1f08b in host e049e"
       ]
      },
      {
       "output_type": "stream",
       "stream": "stdout",
       "text": [
        "\n",
        "8 progeny have been made from virus e2c99 in host e049e\n",
        "10 progeny have been made from virus 26eef in host e049e"
       ]
      },
      {
       "output_type": "stream",
       "stream": "stdout",
       "text": [
        "\n",
        "9 progeny have been made from virus 0edd6 in host e049e\n",
        "8 progeny have been made from virus dc597 in host e049e"
       ]
      },
      {
       "output_type": "stream",
       "stream": "stdout",
       "text": [
        "\n",
        "7 progeny have been made from virus c5bc8 in host e049e\n",
        "9 progeny have been made from virus c0e91 in host e049e"
       ]
      },
      {
       "output_type": "stream",
       "stream": "stdout",
       "text": [
        "\n",
        "8 progeny have been made from virus e74e1 in host e049e\n",
        "5 progeny have been made from virus b3922 in host e049e"
       ]
      },
      {
       "output_type": "stream",
       "stream": "stdout",
       "text": [
        "\n",
        "10 progeny have been made from virus ec421 in host e049e\n",
        "8 progeny have been made from virus ec421 in host e049e"
       ]
      },
      {
       "output_type": "stream",
       "stream": "stdout",
       "text": [
        "\n",
        "10 progeny have been made from virus 16519 in host e049e\n",
        "7 progeny have been made from virus d3ca2 in host e049e"
       ]
      },
      {
       "output_type": "stream",
       "stream": "stdout",
       "text": [
        "\n",
        "5 progeny have been made from virus a29dc in host e049e\n",
        "6 progeny have been made from virus 269c1 in host e049e\n",
        "9 progeny have been made from virus 32833 in host e049e"
       ]
      },
      {
       "output_type": "stream",
       "stream": "stdout",
       "text": [
        "\n",
        "8 progeny have been made from virus 01d48 in host e049e\n",
        "6 progeny have been made from virus 7c405 in host e049e"
       ]
      },
      {
       "output_type": "stream",
       "stream": "stdout",
       "text": [
        "\n",
        "7 progeny have been made from virus 35790 in host e049e\n",
        "9 progeny have been made from virus 77f8d in host e049e"
       ]
      },
      {
       "output_type": "stream",
       "stream": "stdout",
       "text": [
        "\n",
        "10 progeny have been made from virus 8f368 in host e049e"
       ]
      },
      {
       "output_type": "stream",
       "stream": "stdout",
       "text": [
        "\n",
        "8 progeny have been made from virus 2ed3f in host e049e"
       ]
      },
      {
       "output_type": "stream",
       "stream": "stdout",
       "text": [
        "\n",
        "9 progeny have been made from virus ad2aa in host e049e\n",
        "5 progeny have been made from virus 3cd4d in host e049e"
       ]
      },
      {
       "output_type": "stream",
       "stream": "stdout",
       "text": [
        "\n",
        "6 progeny have been made from virus 59537 in host e049e\n",
        "9 progeny have been made from virus 363da in host e049e"
       ]
      },
      {
       "output_type": "stream",
       "stream": "stdout",
       "text": [
        "\n",
        "5 progeny have been made from virus e6a47 in host e049e\n",
        "7 progeny have been made from virus 95e75 in host e049e"
       ]
      },
      {
       "output_type": "stream",
       "stream": "stdout",
       "text": [
        "\n",
        "7 progeny have been made from virus c4180 in host e049e\n",
        "5 progeny have been made from virus a519e in host e049e"
       ]
      },
      {
       "output_type": "stream",
       "stream": "stdout",
       "text": [
        "\n",
        "5 progeny have been made from virus f00a8 in host e049e\n",
        "10 progeny have been made from virus 98839 in host e049e"
       ]
      },
      {
       "output_type": "stream",
       "stream": "stdout",
       "text": [
        "\n",
        "5 progeny have been made from virus 27382 in host e049e\n",
        "6 progeny have been made from virus 1f79a in host e049e"
       ]
      },
      {
       "output_type": "stream",
       "stream": "stdout",
       "text": [
        "\n",
        "6 progeny have been made from virus 5eab6 in host e049e\n",
        "7 progeny have been made from virus 1dde5 in host e049e"
       ]
      },
      {
       "output_type": "stream",
       "stream": "stdout",
       "text": [
        "\n",
        "8 progeny have been made from virus b4a73 in host e049e\n",
        "424 progeny generated in host e049e.\n",
        "Current time is 5. Incrementing time to 6"
       ]
      },
      {
       "output_type": "stream",
       "stream": "stdout",
       "text": [
        "\n",
        "Generating 171 progeny in host e049e...\n",
        "5 progeny have been made from virus c55ce in host e049e\n",
        "8 progeny have been made from virus 9116a in host e049e"
       ]
      },
      {
       "output_type": "stream",
       "stream": "stdout",
       "text": [
        "\n",
        "10 progeny have been made from virus 9942d in host e049e"
       ]
      },
      {
       "output_type": "stream",
       "stream": "stdout",
       "text": [
        "\n",
        "6 progeny have been made from virus 636e3 in host e049e\n",
        "7 progeny have been made from virus c0e91 in host e049e"
       ]
      },
      {
       "output_type": "stream",
       "stream": "stdout",
       "text": [
        "\n",
        "7 progeny have been made from virus d3f85 in host e049e\n",
        "6 progeny have been made from virus 328b9 in host e049e"
       ]
      },
      {
       "output_type": "stream",
       "stream": "stdout",
       "text": [
        "\n",
        "10 progeny have been made from virus ed165 in host e049e"
       ]
      },
      {
       "output_type": "stream",
       "stream": "stdout",
       "text": [
        "\n",
        "7 progeny have been made from virus d9549 in host e049e\n",
        "9 progeny have been made from virus c1c49 in host e049e"
       ]
      },
      {
       "output_type": "stream",
       "stream": "stdout",
       "text": [
        "\n",
        "6 progeny have been made from virus 3c28c in host e049e\n",
        "7 progeny have been made from virus 82ad2 in host e049e"
       ]
      },
      {
       "output_type": "stream",
       "stream": "stdout",
       "text": [
        "\n",
        "6 progeny have been made from virus 47849 in host e049e\n",
        "5 progeny have been made from virus 103db in host e049e"
       ]
      },
      {
       "output_type": "stream",
       "stream": "stdout",
       "text": [
        "\n",
        "6 progeny have been made from virus f8f21 in host e049e\n",
        "6 progeny have been made from virus e2a3d in host e049e"
       ]
      },
      {
       "output_type": "stream",
       "stream": "stdout",
       "text": [
        "\n",
        "5 progeny have been made from virus e243f in host e049e\n",
        "7 progeny have been made from virus f3a49 in host e049e"
       ]
      },
      {
       "output_type": "stream",
       "stream": "stdout",
       "text": [
        "\n",
        "7 progeny have been made from virus 9866a in host e049e\n",
        "5 progeny have been made from virus 81a5c in host e049e"
       ]
      },
      {
       "output_type": "stream",
       "stream": "stdout",
       "text": [
        "\n",
        "9 progeny have been made from virus 5eab6 in host e049e"
       ]
      },
      {
       "output_type": "stream",
       "stream": "stdout",
       "text": [
        "\n",
        "6 progeny have been made from virus 86414 in host e049e\n",
        "8 progeny have been made from virus 6b476 in host e049e"
       ]
      },
      {
       "output_type": "stream",
       "stream": "stdout",
       "text": [
        "\n",
        "8 progeny have been made from virus 9866a in host e049e\n",
        "7 progeny have been made from virus 34733 in host e049e"
       ]
      },
      {
       "output_type": "stream",
       "stream": "stdout",
       "text": [
        "\n",
        "173 progeny generated in host e049e.\n",
        "Current time is 6. Incrementing time to 7\n",
        "Generating 61 progeny in host e049e...\n",
        "9 progeny have been made from virus 8e578 in host e049e"
       ]
      },
      {
       "output_type": "stream",
       "stream": "stdout",
       "text": [
        "\n",
        "5 progeny have been made from virus 64e1f in host e049e\n",
        "9 progeny have been made from virus de72c in host e049e"
       ]
      },
      {
       "output_type": "stream",
       "stream": "stdout",
       "text": [
        "\n",
        "9 progeny have been made from virus 1c996 in host e049e"
       ]
      },
      {
       "output_type": "stream",
       "stream": "stdout",
       "text": [
        "\n",
        "8 progeny have been made from virus c6f1d in host e049e"
       ]
      },
      {
       "output_type": "stream",
       "stream": "stdout",
       "text": [
        "\n",
        "6 progeny have been made from virus 93b16 in host e049e\n",
        "6 progeny have been made from virus 5353d in host e049e"
       ]
      },
      {
       "output_type": "stream",
       "stream": "stdout",
       "text": [
        "\n",
        "9 progeny have been made from virus 4fc41 in host e049e"
       ]
      },
      {
       "output_type": "stream",
       "stream": "stdout",
       "text": [
        "\n",
        "61 progeny generated in host e049e.\n",
        "Current time is 7. Incrementing time to 8\n",
        "Generating 159 progeny in host e049e...\n",
        "10 progeny have been made from virus 73591 in host e049e"
       ]
      },
      {
       "output_type": "stream",
       "stream": "stdout",
       "text": [
        "\n",
        "9 progeny have been made from virus 7b938 in host e049e"
       ]
      },
      {
       "output_type": "stream",
       "stream": "stdout",
       "text": [
        "\n",
        "9 progeny have been made from virus e254d in host e049e"
       ]
      },
      {
       "output_type": "stream",
       "stream": "stdout",
       "text": [
        "\n",
        "5 progeny have been made from virus 6802b in host e049e\n",
        "7 progeny have been made from virus 0f6b2 in host e049e"
       ]
      },
      {
       "output_type": "stream",
       "stream": "stdout",
       "text": [
        "\n",
        "6 progeny have been made from virus 2097e in host e049e\n",
        "7 progeny have been made from virus 97728 in host e049e"
       ]
      },
      {
       "output_type": "stream",
       "stream": "stdout",
       "text": [
        "\n",
        "7 progeny have been made from virus c16fc in host e049e"
       ]
      },
      {
       "output_type": "stream",
       "stream": "stdout",
       "text": [
        "\n",
        "5 progeny have been made from virus e254d in host e049e\n",
        "7 progeny have been made from virus 6802b in host e049e"
       ]
      },
      {
       "output_type": "stream",
       "stream": "stdout",
       "text": [
        "\n",
        "10 progeny have been made from virus 7a967 in host e049e"
       ]
      },
      {
       "output_type": "stream",
       "stream": "stdout",
       "text": [
        "\n",
        "5 progeny have been made from virus 85ccb in host e049e\n",
        "8 progeny have been made from virus f35e8 in host e049e"
       ]
      },
      {
       "output_type": "stream",
       "stream": "stdout",
       "text": [
        "\n",
        "5 progeny have been made from virus eb16c in host e049e\n",
        "10 progeny have been made from virus 92771 in host e049e"
       ]
      },
      {
       "output_type": "stream",
       "stream": "stdout",
       "text": [
        "\n",
        "9 progeny have been made from virus af8e7 in host e049e"
       ]
      },
      {
       "output_type": "stream",
       "stream": "stdout",
       "text": [
        "\n",
        "8 progeny have been made from virus a69b0 in host e049e"
       ]
      },
      {
       "output_type": "stream",
       "stream": "stdout",
       "text": [
        "\n",
        "5 progeny have been made from virus 271e8 in host e049e\n",
        "10 progeny have been made from virus 2bce8 in host e049e"
       ]
      },
      {
       "output_type": "stream",
       "stream": "stdout",
       "text": [
        "\n",
        "10 progeny have been made from virus 8890e in host e049e"
       ]
      },
      {
       "output_type": "stream",
       "stream": "stdout",
       "text": [
        "\n",
        "9 progeny have been made from virus 7a2e2 in host e049e"
       ]
      },
      {
       "output_type": "stream",
       "stream": "stdout",
       "text": [
        "\n",
        "161 progeny generated in host e049e.\n",
        "Current time is 8. Incrementing time to 9\n",
        "Generating 8 progeny in host e049e...\n",
        "10 progeny have been made from virus 9f5ae in host e049e"
       ]
      },
      {
       "output_type": "stream",
       "stream": "stdout",
       "text": [
        "\n",
        "10 progeny generated in host e049e.\n",
        "Current time is 9. Incrementing time to 10\n",
        "Generating 8 progeny in host e049e...\n",
        "7 progeny have been made from virus 61c89 in host e049e"
       ]
      },
      {
       "output_type": "stream",
       "stream": "stdout",
       "text": [
        "\n",
        "8 progeny have been made from virus 73157 in host e049e"
       ]
      },
      {
       "output_type": "stream",
       "stream": "stdout",
       "text": [
        "\n",
        "15 progeny generated in host e049e.\n",
        "Current time is 10. Incrementing time to 11\n",
        "Generating 7 progeny in host e049e...\n",
        "10 progeny have been made from virus 330d8 in host e049e"
       ]
      },
      {
       "output_type": "stream",
       "stream": "stdout",
       "text": [
        "\n",
        "10 progeny generated in host e049e.\n",
        "Current time is 11. Incrementing time to 12\n",
        "Generating 9 progeny in host e049e...\n",
        "7 progeny have been made from virus 638c1 in host e049e"
       ]
      },
      {
       "output_type": "stream",
       "stream": "stdout",
       "text": [
        "\n",
        "7 progeny have been made from virus 8eacd in host e049e"
       ]
      },
      {
       "output_type": "stream",
       "stream": "stdout",
       "text": [
        "\n",
        "14 progeny generated in host e049e.\n",
        "Current time is 12. Incrementing time to 13\n",
        "Generating 6 progeny in host e049e...\n",
        "10 progeny have been made from virus 9faf3 in host e049e"
       ]
      },
      {
       "output_type": "stream",
       "stream": "stdout",
       "text": [
        "\n",
        "10 progeny generated in host e049e.\n",
        "Current time is 13. Incrementing time to 14\n",
        "Generating 11 progeny in host e049e...\n",
        "5 progeny have been made from virus 12fcf in host e049e\n",
        "9 progeny have been made from virus b8b3d in host e049e"
       ]
      },
      {
       "output_type": "stream",
       "stream": "stdout",
       "text": [
        "\n",
        "14 progeny generated in host e049e.\n",
        "Current time is 14. Incrementing time to 15\n",
        "Generating 1 progeny in host e049e...\n",
        "7 progeny have been made from virus 47041 in host e049e"
       ]
      },
      {
       "output_type": "stream",
       "stream": "stdout",
       "text": [
        "\n",
        "7 progeny generated in host e049e.\n",
        "Current time is 15. Incrementing time to 16\n",
        "Generating 1 progeny in host e049e...\n",
        "10 progeny have been made from virus 86c6a in host e049e"
       ]
      },
      {
       "output_type": "stream",
       "stream": "stdout",
       "text": [
        "\n",
        "10 progeny generated in host e049e.\n",
        "Current time is 16. Incrementing time to 17\n",
        "Generating 1 progeny in host e049e...\n",
        "7 progeny have been made from virus cbe5a in host e049e"
       ]
      },
      {
       "output_type": "stream",
       "stream": "stdout",
       "text": [
        "\n",
        "7 progeny generated in host e049e.\n",
        "Current time is 17. Incrementing time to 18\n",
        "Generating 1 progeny in host e049e...\n",
        "6 progeny have been made from virus 77d67 in host e049e\n",
        "6 progeny generated in host e049e.\n",
        "Current time is 18. Incrementing time to 19\n",
        "Generating 0 progeny in host e049e...\n",
        "0 progeny generated in host e049e.\n",
        "Current time is 19. Incrementing time to 20\n",
        "Current time is 20. Incrementing time to 21\n",
        "Current time is 21. Incrementing time to 22\n",
        "Current time is 22. Incrementing time to 23\n",
        "Current time is 23. Incrementing time to 24\n",
        "Current time is 24. Incrementing time to 25\n",
        "Current time is 25. Incrementing time to 26\n",
        "Current time is 26. Incrementing time to 27\n",
        "Current time is 27. Incrementing time to 28\n",
        "Current time is 28. Incrementing time to 29\n",
        "Current time is 29. Incrementing time to 30\n",
        "Adding host f18e6... to environment 95c15...\n",
        "Creating environment 95c15\n",
        "Creating virus 45e71 inside host f18e6"
       ]
      },
      {
       "output_type": "stream",
       "stream": "stdout",
       "text": [
        "\n",
        "Current time is 0. Incrementing time to 1\n",
        "Generating 0 progeny in host f18e6...\n",
        "0 progeny generated in host f18e6.\n",
        "Current time is 1. Incrementing time to 2\n",
        "Generating 0 progeny in host f18e6...\n",
        "0 progeny generated in host f18e6.\n",
        "Current time is 2. Incrementing time to 3\n",
        "Current time is 3. Incrementing time to 4\n",
        "Current time is 4. Incrementing time to 5\n",
        "Current time is 5. Incrementing time to 6\n",
        "Current time is 6. Incrementing time to 7\n",
        "Current time is 7. Incrementing time to 8\n",
        "Current time is 8. Incrementing time to 9\n",
        "Current time is 9. Incrementing time to 10\n",
        "Current time is 10. Incrementing time to 11\n",
        "Current time is 11. Incrementing time to 12\n",
        "Current time is 12. Incrementing time to 13\n",
        "Current time is 13. Incrementing time to 14\n",
        "Current time is 14. Incrementing time to 15\n",
        "Current time is 15. Incrementing time to 16\n",
        "Current time is 16. Incrementing time to 17\n",
        "Current time is 17. Incrementing time to 18\n",
        "Current time is 18. Incrementing time to 19\n",
        "Current time is 19. Incrementing time to 20\n",
        "Current time is 20. Incrementing time to 21\n",
        "Current time is 21. Incrementing time to 22\n",
        "Current time is 22. Incrementing time to 23\n",
        "Current time is 23. Incrementing time to 24\n",
        "Current time is 24. Incrementing time to 25\n",
        "Current time is 25. Incrementing time to 26\n",
        "Current time is 26. Incrementing time to 27\n",
        "Current time is 27. Incrementing time to 28\n",
        "Current time is 28. Incrementing time to 29\n",
        "Current time is 29. Incrementing time to 30\n",
        "Adding host ed590... to environment bd992...\n",
        "Creating environment bd992\n",
        "Creating virus 323c9 inside host ed590\n",
        "Current time is 0. Incrementing time to 1\n",
        "Generating 0 progeny in host ed590...\n",
        "0 progeny generated in host ed590.\n",
        "Current time is 1. Incrementing time to 2\n",
        "Generating 0 progeny in host ed590...\n",
        "0 progeny generated in host ed590.\n",
        "Current time is 2. Incrementing time to 3\n",
        "Generating 2 progeny in host ed590...\n",
        "10 progeny have been made from virus 323c9 in host ed590\n",
        "10 progeny generated in host ed590.\n",
        "Current time is 3. Incrementing time to 4\n",
        "Generating 7 progeny in host ed590...\n",
        "9 progeny have been made from virus 92fd9 in host ed590\n",
        "9 progeny generated in host ed590.\n",
        "Current time is 4. Incrementing time to 5\n",
        "Generating 10 progeny in host ed590...\n",
        "8 progeny have been made from virus 600f7 in host ed590"
       ]
      },
      {
       "output_type": "stream",
       "stream": "stdout",
       "text": [
        "\n",
        "8 progeny have been made from virus 8eaa8 in host ed590\n",
        "16 progeny generated in host ed590.\n",
        "Current time is 5. Incrementing time to 6\n",
        "Generating 20 progeny in host ed590...\n",
        "9 progeny have been made from virus 47af6 in host ed590\n",
        "6 progeny have been made from virus 4e7d1 in host ed590"
       ]
      },
      {
       "output_type": "stream",
       "stream": "stdout",
       "text": [
        "\n",
        "10 progeny have been made from virus 4e6eb in host ed590\n",
        "25 progeny generated in host ed590.\n",
        "Current time is 6. Incrementing time to 7\n",
        "Generating 4 progeny in host ed590...\n",
        "10 progeny have been made from virus 58f1e in host ed590\n",
        "10 progeny generated in host ed590.\n",
        "Current time is 7. Incrementing time to 8\n",
        "Generating 23 progeny in host ed590...\n",
        "7 progeny have been made from virus ec3de in host ed590"
       ]
      },
      {
       "output_type": "stream",
       "stream": "stdout",
       "text": [
        "\n",
        "7 progeny have been made from virus 12582 in host ed590\n",
        "10 progeny have been made from virus 12582 in host ed590\n",
        "24 progeny generated in host ed590.\n",
        "Current time is 8. Incrementing time to 9\n",
        "Generating 9 progeny in host ed590...\n",
        "9 progeny have been made from virus 1ec12 in host ed590"
       ]
      },
      {
       "output_type": "stream",
       "stream": "stdout",
       "text": [
        "\n",
        "9 progeny generated in host ed590.\n",
        "Current time is 9. Incrementing time to 10\n",
        "Generating 6 progeny in host ed590...\n",
        "8 progeny have been made from virus 9f0ae in host ed590\n",
        "8 progeny generated in host ed590.\n",
        "Current time is 10. Incrementing time to 11\n",
        "Generating 5 progeny in host ed590...\n",
        "10 progeny have been made from virus b6192 in host ed590"
       ]
      },
      {
       "output_type": "stream",
       "stream": "stdout",
       "text": [
        "\n",
        "10 progeny generated in host ed590.\n",
        "Current time is 11. Incrementing time to 12\n",
        "Generating 3 progeny in host ed590...\n",
        "9 progeny have been made from virus 7efae in host ed590\n",
        "9 progeny generated in host ed590.\n",
        "Current time is 12. Incrementing time to 13\n",
        "Generating 7 progeny in host ed590...\n",
        "10 progeny have been made from virus f9b77 in host ed590"
       ]
      },
      {
       "output_type": "stream",
       "stream": "stdout",
       "text": [
        "\n",
        "10 progeny generated in host ed590.\n",
        "Current time is 13. Incrementing time to 14\n",
        "Generating 11 progeny in host ed590...\n",
        "5 progeny have been made from virus 66a12 in host ed590\n",
        "10 progeny have been made from virus 6a4bf in host ed590\n",
        "15 progeny generated in host ed590.\n",
        "Current time is 14. Incrementing time to 15\n",
        "Generating 10 progeny in host ed590...\n",
        "7 progeny have been made from virus cd1e5 in host ed590"
       ]
      },
      {
       "output_type": "stream",
       "stream": "stdout",
       "text": [
        "\n",
        "9 progeny have been made from virus b2f8c in host ed590\n",
        "16 progeny generated in host ed590.\n",
        "Current time is 15. Incrementing time to 16\n",
        "Generating 13 progeny in host ed590...\n",
        "7 progeny have been made from virus a3e9e in host ed590"
       ]
      },
      {
       "output_type": "stream",
       "stream": "stdout",
       "text": [
        "\n",
        "10 progeny have been made from virus 4375f in host ed590\n",
        "17 progeny generated in host ed590.\n",
        "Current time is 16. Incrementing time to 17\n",
        "Generating 3 progeny in host ed590...\n",
        "9 progeny have been made from virus ae09b in host ed590"
       ]
      },
      {
       "output_type": "stream",
       "stream": "stdout",
       "text": [
        "\n",
        "9 progeny generated in host ed590.\n",
        "Current time is 17. Incrementing time to 18\n",
        "Generating 8 progeny in host ed590...\n",
        "9 progeny have been made from virus fc1b8 in host ed590\n",
        "9 progeny generated in host ed590.\n",
        "Current time is 18. Incrementing time to 19\n",
        "Generating 0 progeny in host ed590...\n",
        "0 progeny generated in host ed590.\n",
        "Current time is 19. Incrementing time to 20\n",
        "Generating 0 progeny in host ed590...\n",
        "0 progeny generated in host ed590.\n",
        "Current time is 20. Incrementing time to 21\n",
        "Current time is 21. Incrementing time to 22\n",
        "Current time is 22. Incrementing time to 23\n",
        "Current time is 23. Incrementing time to 24\n",
        "Current time is 24. Incrementing time to 25\n",
        "Current time is 25. Incrementing time to 26\n",
        "Current time is 26. Incrementing time to 27\n",
        "Current time is 27. Incrementing time to 28\n",
        "Current time is 28. Incrementing time to 29\n",
        "Current time is 29. Incrementing time to 30\n",
        "Adding host 2ec67... to environment 27f71...\n",
        "Creating environment 27f71\n",
        "Creating virus 42f3f inside host 2ec67\n",
        "Current time is 0. Incrementing time to 1\n",
        "Generating 6 progeny in host 2ec67...\n",
        "9 progeny have been made from virus 42f3f in host 2ec67"
       ]
      },
      {
       "output_type": "stream",
       "stream": "stdout",
       "text": [
        "\n",
        "9 progeny generated in host 2ec67.\n",
        "Current time is 1. Incrementing time to 2\n",
        "Generating 7 progeny in host 2ec67...\n",
        "9 progeny have been made from virus d7ee5 in host 2ec67\n",
        "9 progeny generated in host 2ec67.\n",
        "Current time is 2. Incrementing time to 3\n",
        "Generating 40 progeny in host 2ec67...\n",
        "10 progeny have been made from virus 92575 in host 2ec67\n",
        "8 progeny have been made from virus 505aa in host 2ec67"
       ]
      },
      {
       "output_type": "stream",
       "stream": "stdout",
       "text": [
        "\n",
        "9 progeny have been made from virus cf4ef in host 2ec67\n",
        "8 progeny have been made from virus e7f40 in host 2ec67"
       ]
      },
      {
       "output_type": "stream",
       "stream": "stdout",
       "text": [
        "\n",
        "10 progeny have been made from virus 505aa in host 2ec67\n",
        "45 progeny generated in host 2ec67.\n",
        "Current time is 3. Incrementing time to 4\n",
        "Generating 67 progeny in host 2ec67...\n",
        "9 progeny have been made from virus f7fd1 in host 2ec67\n",
        "8 progeny have been made from virus f8f4b in host 2ec67"
       ]
      },
      {
       "output_type": "stream",
       "stream": "stdout",
       "text": [
        "\n",
        "7 progeny have been made from virus 0de17 in host 2ec67\n",
        "6 progeny have been made from virus a5a65 in host 2ec67\n",
        "7 progeny have been made from virus 61dce in host 2ec67"
       ]
      },
      {
       "output_type": "stream",
       "stream": "stdout",
       "text": [
        "\n",
        "7 progeny have been made from virus 09c9c in host 2ec67\n",
        "9 progeny have been made from virus 7fdbe in host 2ec67"
       ]
      },
      {
       "output_type": "stream",
       "stream": "stdout",
       "text": [
        "\n",
        "8 progeny have been made from virus 5f67f in host 2ec67\n",
        "9 progeny have been made from virus c9f16 in host 2ec67"
       ]
      },
      {
       "output_type": "stream",
       "stream": "stdout",
       "text": [
        "\n",
        "70 progeny generated in host 2ec67.\n",
        "Current time is 4. Incrementing time to 5\n",
        "Generating 83 progeny in host 2ec67...\n",
        "7 progeny have been made from virus 1072f in host 2ec67\n",
        "9 progeny have been made from virus 2a0e8 in host 2ec67\n",
        "9 progeny have been made from virus 1a811 in host 2ec67"
       ]
      },
      {
       "output_type": "stream",
       "stream": "stdout",
       "text": [
        "\n",
        "5 progeny have been made from virus 678ac in host 2ec67\n",
        "7 progeny have been made from virus 3853c in host 2ec67\n",
        "6 progeny have been made from virus 27ae6 in host 2ec67"
       ]
      },
      {
       "output_type": "stream",
       "stream": "stdout",
       "text": [
        "\n",
        "6 progeny have been made from virus 86e6e in host 2ec67\n",
        "5 progeny have been made from virus 678ac in host 2ec67\n",
        "10 progeny have been made from virus 75dbc in host 2ec67"
       ]
      },
      {
       "output_type": "stream",
       "stream": "stdout",
       "text": [
        "\n",
        "7 progeny have been made from virus bb026 in host 2ec67\n",
        "6 progeny have been made from virus e587e in host 2ec67"
       ]
      },
      {
       "output_type": "stream",
       "stream": "stdout",
       "text": [
        "\n",
        "6 progeny have been made from virus d83dd in host 2ec67\n",
        "83 progeny generated in host 2ec67.\n",
        "Current time is 5. Incrementing time to 6\n",
        "Generating 61 progeny in host 2ec67...\n",
        "8 progeny have been made from virus 30d3b in host 2ec67"
       ]
      },
      {
       "output_type": "stream",
       "stream": "stdout",
       "text": [
        "\n",
        "7 progeny have been made from virus 9c2b7 in host 2ec67\n",
        "6 progeny have been made from virus 3686a in host 2ec67\n",
        "7 progeny have been made from virus e587e in host 2ec67"
       ]
      },
      {
       "output_type": "stream",
       "stream": "stdout",
       "text": [
        "\n",
        "8 progeny have been made from virus 5831b in host 2ec67\n",
        "10 progeny have been made from virus 455f6 in host 2ec67"
       ]
      },
      {
       "output_type": "stream",
       "stream": "stdout",
       "text": [
        "\n",
        "10 progeny have been made from virus ab608 in host 2ec67"
       ]
      },
      {
       "output_type": "stream",
       "stream": "stdout",
       "text": [
        "\n",
        "5 progeny have been made from virus 7a88a in host 2ec67\n",
        "61 progeny generated in host 2ec67.\n",
        "Current time is 6. Incrementing time to 7\n",
        "Generating 91 progeny in host 2ec67...\n",
        "8 progeny have been made from virus 9917f in host 2ec67"
       ]
      },
      {
       "output_type": "stream",
       "stream": "stdout",
       "text": [
        "\n",
        "9 progeny have been made from virus 10958 in host 2ec67\n",
        "9 progeny have been made from virus 9be92 in host 2ec67"
       ]
      },
      {
       "output_type": "stream",
       "stream": "stdout",
       "text": [
        "\n",
        "5 progeny have been made from virus 03481 in host 2ec67\n",
        "5 progeny have been made from virus ab56b in host 2ec67\n"
       ]
      },
      {
       "output_type": "stream",
       "stream": "stdout",
       "text": [
        "5 progeny have been made from virus 5af4b in host 2ec67\n",
        "10 progeny have been made from virus 7af1c in host 2ec67\n",
        "5 progeny have been made from virus c1f7d in host 2ec67"
       ]
      },
      {
       "output_type": "stream",
       "stream": "stdout",
       "text": [
        "\n",
        "5 progeny have been made from virus 2c8d9 in host 2ec67\n",
        "7 progeny have been made from virus 0250b in host 2ec67"
       ]
      },
      {
       "output_type": "stream",
       "stream": "stdout",
       "text": [
        "\n",
        "9 progeny have been made from virus 0250b in host 2ec67\n",
        "5 progeny have been made from virus 6ba2a in host 2ec67"
       ]
      },
      {
       "output_type": "stream",
       "stream": "stdout",
       "text": [
        "\n",
        "9 progeny have been made from virus ab56b in host 2ec67\n",
        "91 progeny generated in host 2ec67.\n",
        "Current time is 7. Incrementing time to 8\n",
        "Generating 9 progeny in host 2ec67...\n",
        "7 progeny have been made from virus 52304 in host 2ec67"
       ]
      },
      {
       "output_type": "stream",
       "stream": "stdout",
       "text": [
        "\n",
        "6 progeny have been made from virus 5f24a in host 2ec67\n",
        "13 progeny generated in host 2ec67.\n",
        "Current time is 8. Incrementing time to 9\n",
        "Generating 18 progeny in host 2ec67...\n",
        "7 progeny have been made from virus aaadd in host 2ec67"
       ]
      },
      {
       "output_type": "stream",
       "stream": "stdout",
       "text": [
        "\n",
        "5 progeny have been made from virus c5c2e in host 2ec67\n",
        "7 progeny have been made from virus 8ba20 in host 2ec67"
       ]
      },
      {
       "output_type": "stream",
       "stream": "stdout",
       "text": [
        "\n",
        "19 progeny generated in host 2ec67.\n",
        "Current time is 9. Incrementing time to 10\n",
        "Generating 0 progeny in host 2ec67...\n",
        "0 progeny generated in host 2ec67.\n",
        "Current time is 10. Incrementing time to 11\n",
        "Generating 3 progeny in host 2ec67...\n",
        "10 progeny have been made from virus 7aa9d in host 2ec67"
       ]
      },
      {
       "output_type": "stream",
       "stream": "stdout",
       "text": [
        "\n",
        "10 progeny generated in host 2ec67.\n",
        "Current time is 11. Incrementing time to 12\n",
        "Generating 3 progeny in host 2ec67...\n",
        "7 progeny have been made from virus 3aa2a in host 2ec67\n",
        "7 progeny generated in host 2ec67.\n",
        "Current time is 12. Incrementing time to 13\n",
        "Generating 5 progeny in host 2ec67...\n",
        "8 progeny have been made from virus 46e74 in host 2ec67"
       ]
      },
      {
       "output_type": "stream",
       "stream": "stdout",
       "text": [
        "\n",
        "8 progeny generated in host 2ec67.\n",
        "Current time is 13. Incrementing time to 14\n",
        "Generating 9 progeny in host 2ec67...\n",
        "5 progeny have been made from virus 1a0b6 in host 2ec67\n",
        "9 progeny have been made from virus d0a8d in host 2ec67"
       ]
      },
      {
       "output_type": "stream",
       "stream": "stdout",
       "text": [
        "\n",
        "14 progeny generated in host 2ec67.\n",
        "Current time is 14. Incrementing time to 15\n",
        "Generating 12 progeny in host 2ec67...\n",
        "6 progeny have been made from virus bf9ce in host 2ec67\n",
        "5 progeny have been made from virus 237d7 in host 2ec67"
       ]
      },
      {
       "output_type": "stream",
       "stream": "stdout",
       "text": [
        "\n",
        "10 progeny have been made from virus f55ce in host 2ec67\n",
        "21 progeny generated in host 2ec67.\n",
        "Current time is 15. Incrementing time to 16\n",
        "Generating 6 progeny in host 2ec67...\n",
        "10 progeny have been made from virus 1eeed in host 2ec67"
       ]
      },
      {
       "output_type": "stream",
       "stream": "stdout",
       "text": [
        "\n",
        "10 progeny generated in host 2ec67.\n",
        "Current time is 16. Incrementing time to 17\n",
        "Generating 5 progeny in host 2ec67...\n",
        "7 progeny have been made from virus 0fd99 in host 2ec67\n",
        "7 progeny generated in host 2ec67.\n",
        "Current time is 17. Incrementing time to 18\n",
        "Generating 6 progeny in host 2ec67...\n",
        "9 progeny have been made from virus 0b788 in host 2ec67"
       ]
      },
      {
       "output_type": "stream",
       "stream": "stdout",
       "text": [
        "\n",
        "9 progeny generated in host 2ec67.\n",
        "Current time is 18. Incrementing time to 19\n",
        "Generating 9 progeny in host 2ec67...\n",
        "10 progeny have been made from virus c946e in host 2ec67"
       ]
      },
      {
       "output_type": "stream",
       "stream": "stdout",
       "text": [
        "\n",
        "10 progeny generated in host 2ec67.\n",
        "Current time is 19. Incrementing time to 20\n",
        "Generating 3 progeny in host 2ec67...\n",
        "10 progeny have been made from virus f4202 in host 2ec67"
       ]
      },
      {
       "output_type": "stream",
       "stream": "stdout",
       "text": [
        "\n",
        "10 progeny generated in host 2ec67.\n",
        "Current time is 20. Incrementing time to 21\n",
        "Generating 2 progeny in host 2ec67...\n",
        "5 progeny have been made from virus ddd2e in host 2ec67\n",
        "5 progeny generated in host 2ec67.\n",
        "Current time is 21. Incrementing time to 22\n",
        "Generating 0 progeny in host 2ec67...\n",
        "0 progeny generated in host 2ec67.\n",
        "Current time is 22. Incrementing time to 23\n",
        "Current time is 23. Incrementing time to 24\n",
        "Current time is 24. Incrementing time to 25\n",
        "Current time is 25. Incrementing time to 26\n",
        "Current time is 26. Incrementing time to 27\n",
        "Current time is 27. Incrementing time to 28\n",
        "Current time is 28. Incrementing time to 29\n",
        "Current time is 29. Incrementing time to 30\n",
        "Adding host 08e4e... to environment 36756...\n",
        "Creating environment 36756\n",
        "Creating virus b29a1 inside host 08e4e\n",
        "Current time is 0. Incrementing time to 1\n",
        "Generating 0 progeny in host 08e4e...\n",
        "0 progeny generated in host 08e4e.\n",
        "Current time is 1. Incrementing time to 2\n",
        "Current time is 2. Incrementing time to 3\n",
        "Current time is 3. Incrementing time to 4\n",
        "Current time is 4. Incrementing time to 5\n",
        "Current time is 5. Incrementing time to 6\n",
        "Current time is 6. Incrementing time to 7\n",
        "Current time is 7. Incrementing time to 8\n",
        "Current time is 8. Incrementing time to 9\n",
        "Current time is 9. Incrementing time to 10\n",
        "Current time is 10. Incrementing time to 11\n",
        "Current time is 11. Incrementing time to 12\n",
        "Current time is 12. Incrementing time to 13\n",
        "Current time is 13. Incrementing time to 14\n",
        "Current time is 14. Incrementing time to 15\n",
        "Current time is 15. Incrementing time to 16\n",
        "Current time is 16. Incrementing time to 17\n",
        "Current time is 17. Incrementing time to 18\n",
        "Current time is 18. Incrementing time to 19\n",
        "Current time is 19. Incrementing time to 20\n",
        "Current time is 20. Incrementing time to 21\n",
        "Current time is 21. Incrementing time to 22\n",
        "Current time is 22. Incrementing time to 23\n",
        "Current time is 23. Incrementing time to 24\n",
        "Current time is 24. Incrementing time to 25\n",
        "Current time is 25. Incrementing time to 26\n",
        "Current time is 26. Incrementing time to 27\n",
        "Current time is 27. Incrementing time to 28\n",
        "Current time is 28. Incrementing time to 29\n",
        "Current time is 29. Incrementing time to 30\n",
        "Adding host d61f5... to environment 380b2...\n",
        "Creating environment 380b2\n",
        "Creating virus 1d6fa inside host d61f5"
       ]
      },
      {
       "output_type": "stream",
       "stream": "stdout",
       "text": [
        "\n",
        "Current time is 0. Incrementing time to 1\n",
        "Generating 4 progeny in host d61f5...\n",
        "6 progeny have been made from virus 1d6fa in host d61f5\n",
        "6 progeny generated in host d61f5.\n",
        "Current time is 1. Incrementing time to 2\n",
        "Generating 9 progeny in host d61f5...\n",
        "9 progeny have been made from virus 6ce8b in host d61f5\n",
        "9 progeny generated in host d61f5.\n",
        "Current time is 2. Incrementing time to 3\n",
        "Generating 13 progeny in host d61f5...\n",
        "10 progeny have been made from virus da9a9 in host d61f5\n",
        "9 progeny have been made from virus 1d6fa in host d61f5"
       ]
      },
      {
       "output_type": "stream",
       "stream": "stdout",
       "text": [
        "\n",
        "19 progeny generated in host d61f5.\n",
        "Current time is 3. Incrementing time to 4\n",
        "Generating 44 progeny in host d61f5...\n",
        "6 progeny have been made from virus b3ea1 in host d61f5\n",
        "8 progeny have been made from virus 799fe in host d61f5\n",
        "5 progeny have been made from virus 98bd0 in host d61f5\n",
        "5 progeny have been made from virus f8092 in host d61f5"
       ]
      },
      {
       "output_type": "stream",
       "stream": "stdout",
       "text": [
        "\n",
        "7 progeny have been made from virus 79f99 in host d61f5\n",
        "9 progeny have been made from virus 9c019 in host d61f5\n",
        "8 progeny have been made from virus 1982c in host d61f5\n",
        "48 progeny generated in host d61f5.\n",
        "Current time is 4. Incrementing time to 5\n",
        "Generating 31 progeny in host d61f5...\n",
        "7 progeny have been made from virus 4289c in host d61f5"
       ]
      },
      {
       "output_type": "stream",
       "stream": "stdout",
       "text": [
        "\n",
        "6 progeny have been made from virus 968f8 in host d61f5\n",
        "7 progeny have been made from virus d88c3 in host d61f5\n",
        "9 progeny have been made from virus bbb00 in host d61f5"
       ]
      },
      {
       "output_type": "stream",
       "stream": "stdout",
       "text": [
        "\n",
        "8 progeny have been made from virus cb132 in host d61f5\n",
        "37 progeny generated in host d61f5.\n",
        "Current time is 5. Incrementing time to 6\n",
        "Generating 65 progeny in host d61f5...\n",
        "7 progeny have been made from virus e599c in host d61f5\n",
        "9 progeny have been made from virus 188bc in host d61f5"
       ]
      },
      {
       "output_type": "stream",
       "stream": "stdout",
       "text": [
        "\n",
        "6 progeny have been made from virus f4ee1 in host d61f5\n",
        "8 progeny have been made from virus 968f8 in host d61f5\n",
        "6 progeny have been made from virus 86842 in host d61f5"
       ]
      },
      {
       "output_type": "stream",
       "stream": "stdout",
       "text": [
        "\n",
        "10 progeny have been made from virus bf80d in host d61f5\n",
        "9 progeny have been made from virus 99b81 in host d61f5\n",
        "8 progeny have been made from virus 99b81 in host d61f5"
       ]
      },
      {
       "output_type": "stream",
       "stream": "stdout",
       "text": [
        "\n",
        "9 progeny have been made from virus 939eb in host d61f5\n",
        "72 progeny generated in host d61f5.\n",
        "Current time is 6. Incrementing time to 7\n",
        "Generating 9 progeny in host d61f5...\n",
        "8 progeny have been made from virus b1991 in host d61f5"
       ]
      },
      {
       "output_type": "stream",
       "stream": "stdout",
       "text": [
        "\n",
        "10 progeny have been made from virus c8d00 in host d61f5\n",
        "18 progeny generated in host d61f5.\n",
        "Current time is 7. Incrementing time to 8\n",
        "Generating 3 progeny in host d61f5...\n",
        "6 progeny have been made from virus 00912 in host d61f5"
       ]
      },
      {
       "output_type": "stream",
       "stream": "stdout",
       "text": [
        "\n",
        "6 progeny generated in host d61f5.\n",
        "Current time is 8. Incrementing time to 9\n",
        "Generating 8 progeny in host d61f5...\n",
        "10 progeny have been made from virus c76a4 in host d61f5\n",
        "10 progeny generated in host d61f5.\n",
        "Current time is 9. Incrementing time to 10\n",
        "Generating 14 progeny in host d61f5...\n",
        "8 progeny have been made from virus d930c in host d61f5"
       ]
      },
      {
       "output_type": "stream",
       "stream": "stdout",
       "text": [
        "\n",
        "10 progeny have been made from virus d2266 in host d61f5\n",
        "18 progeny generated in host d61f5.\n",
        "Current time is 10. Incrementing time to 11\n",
        "Generating 11 progeny in host d61f5...\n",
        "10 progeny have been made from virus 24051 in host d61f5"
       ]
      },
      {
       "output_type": "stream",
       "stream": "stdout",
       "text": [
        "\n",
        "6 progeny have been made from virus 6fd97 in host d61f5\n",
        "16 progeny generated in host d61f5.\n",
        "Current time is 11. Incrementing time to 12\n",
        "Generating 16 progeny in host d61f5...\n",
        "10 progeny have been made from virus 9d719 in host d61f5"
       ]
      },
      {
       "output_type": "stream",
       "stream": "stdout",
       "text": [
        "\n",
        "6 progeny have been made from virus 9d719 in host d61f5\n",
        "16 progeny generated in host d61f5.\n",
        "Current time is 12. Incrementing time to 13\n",
        "Generating 17 progeny in host d61f5...\n",
        "7 progeny have been made from virus c981f in host d61f5\n",
        "7 progeny have been made from virus 10a4c in host d61f5"
       ]
      },
      {
       "output_type": "stream",
       "stream": "stdout",
       "text": [
        "\n",
        "9 progeny have been made from virus 6a9d0 in host d61f5\n",
        "23 progeny generated in host d61f5.\n",
        "Current time is 13. Incrementing time to 14\n",
        "Generating 17 progeny in host d61f5...\n",
        "10 progeny have been made from virus 847d7 in host d61f5"
       ]
      },
      {
       "output_type": "stream",
       "stream": "stdout",
       "text": [
        "\n",
        "7 progeny have been made from virus 20171 in host d61f5\n",
        "17 progeny generated in host d61f5.\n",
        "Current time is 14. Incrementing time to 15\n",
        "Generating 1 progeny in host d61f5...\n",
        "5 progeny have been made from virus cadb2 in host d61f5\n",
        "5 progeny generated in host d61f5.\n",
        "Current time is 15. Incrementing time to 16\n",
        "Generating 3 progeny in host d61f5...\n",
        "5 progeny have been made from virus dccec in host d61f5"
       ]
      },
      {
       "output_type": "stream",
       "stream": "stdout",
       "text": [
        "\n",
        "5 progeny generated in host d61f5.\n",
        "Current time is 16. Incrementing time to 17\n",
        "Generating 1 progeny in host d61f5...\n",
        "7 progeny have been made from virus 0280f in host d61f5\n",
        "7 progeny generated in host d61f5.\n",
        "Current time is 17. Incrementing time to 18\n",
        "Generating 3 progeny in host d61f5...\n",
        "5 progeny have been made from virus 8f799 in host d61f5"
       ]
      },
      {
       "output_type": "stream",
       "stream": "stdout",
       "text": [
        "\n",
        "5 progeny generated in host d61f5.\n",
        "Current time is 18. Incrementing time to 19\n",
        "Generating 4 progeny in host d61f5...\n",
        "7 progeny have been made from virus 29fae in host d61f5\n",
        "7 progeny generated in host d61f5.\n",
        "Current time is 19. Incrementing time to 20\n",
        "Generating 1 progeny in host d61f5...\n",
        "5 progeny have been made from virus 107a6 in host d61f5"
       ]
      },
      {
       "output_type": "stream",
       "stream": "stdout",
       "text": [
        "\n",
        "5 progeny generated in host d61f5.\n",
        "Current time is 20. Incrementing time to 21\n",
        "Generating 0 progeny in host d61f5...\n",
        "0 progeny generated in host d61f5.\n",
        "Current time is 21. Incrementing time to 22\n",
        "Generating 0 progeny in host d61f5...\n",
        "0 progeny generated in host d61f5.\n",
        "Current time is 22. Incrementing time to 23\n",
        "Current time is 23. Incrementing time to 24\n",
        "Current time is 24. Incrementing time to 25\n",
        "Current time is 25. Incrementing time to 26\n",
        "Current time is 26. Incrementing time to 27\n",
        "Current time is 27. Incrementing time to 28\n",
        "Current time is 28. Incrementing time to 29\n",
        "Current time is 29. Incrementing time to 30\n",
        "Adding host 7fa3b... to environment cd823...\n",
        "Creating environment cd823\n",
        "Creating virus 57a9d inside host 7fa3b\n",
        "Current time is 0. Incrementing time to 1\n",
        "Generating 0 progeny in host 7fa3b...\n",
        "0 progeny generated in host 7fa3b.\n",
        "Current time is 1. Incrementing time to 2\n",
        "Generating 3 progeny in host 7fa3b...\n",
        "7 progeny have been made from virus 57a9d in host 7fa3b\n",
        "7 progeny generated in host 7fa3b.\n",
        "Current time is 2. Incrementing time to 3\n",
        "Generating 15 progeny in host 7fa3b...\n",
        "8 progeny have been made from virus 0b436 in host 7fa3b\n",
        "8 progeny have been made from virus ed09e in host 7fa3b"
       ]
      },
      {
       "output_type": "stream",
       "stream": "stdout",
       "text": [
        "\n",
        "16 progeny generated in host 7fa3b.\n",
        "Current time is 3. Incrementing time to 4\n",
        "Generating 10 progeny in host 7fa3b...\n",
        "9 progeny have been made from virus 46042 in host 7fa3b\n",
        "9 progeny have been made from virus 46042 in host 7fa3b\n",
        "18 progeny generated in host 7fa3b.\n",
        "Current time is 4. Incrementing time to 5\n",
        "Generating 6 progeny in host 7fa3b...\n",
        "9 progeny have been made from virus 1647c in host 7fa3b"
       ]
      },
      {
       "output_type": "stream",
       "stream": "stdout",
       "text": [
        "\n",
        "9 progeny generated in host 7fa3b.\n",
        "Current time is 5. Incrementing time to 6\n",
        "Generating 19 progeny in host 7fa3b...\n",
        "7 progeny have been made from virus f1e48 in host 7fa3b\n",
        "6 progeny have been made from virus bdd49 in host 7fa3b\n",
        "5 progeny have been made from virus f1e48 in host 7fa3b"
       ]
      },
      {
       "output_type": "stream",
       "stream": "stdout",
       "text": [
        "\n",
        "10 progeny have been made from virus 3ec5f in host 7fa3b\n",
        "28 progeny generated in host 7fa3b.\n",
        "Current time is 6. Incrementing time to 7\n",
        "Generating 6 progeny in host 7fa3b...\n",
        "10 progeny have been made from virus c0b58 in host 7fa3b"
       ]
      },
      {
       "output_type": "stream",
       "stream": "stdout",
       "text": [
        "\n",
        "10 progeny generated in host 7fa3b.\n",
        "Current time is 7. Incrementing time to 8\n",
        "Generating 5 progeny in host 7fa3b...\n",
        "10 progeny have been made from virus 9f58c in host 7fa3b\n",
        "10 progeny generated in host 7fa3b.\n",
        "Current time is 8. Incrementing time to 9\n",
        "Generating 4 progeny in host 7fa3b...\n",
        "10 progeny have been made from virus 36025 in host 7fa3b"
       ]
      },
      {
       "output_type": "stream",
       "stream": "stdout",
       "text": [
        "\n",
        "10 progeny generated in host 7fa3b.\n",
        "Current time is 9. Incrementing time to 10\n",
        "Generating 2 progeny in host 7fa3b...\n",
        "7 progeny have been made from virus 68f21 in host 7fa3b\n",
        "7 progeny generated in host 7fa3b.\n",
        "Current time is 10. Incrementing time to 11\n",
        "Generating 4 progeny in host 7fa3b...\n",
        "6 progeny have been made from virus 989d1 in host 7fa3b\n",
        "6 progeny generated in host 7fa3b.\n",
        "Current time is 11. Incrementing time to 12\n",
        "Generating 2 progeny in host 7fa3b...\n",
        "9 progeny have been made from virus 529f6 in host 7fa3b"
       ]
      },
      {
       "output_type": "stream",
       "stream": "stdout",
       "text": [
        "\n",
        "9 progeny generated in host 7fa3b.\n",
        "Current time is 12. Incrementing time to 13\n",
        "Generating 12 progeny in host 7fa3b...\n",
        "5 progeny have been made from virus 15b6e in host 7fa3b\n",
        "5 progeny have been made from virus 4f5e5 in host 7fa3b\n",
        "5 progeny have been made from virus 968a4 in host 7fa3b"
       ]
      },
      {
       "output_type": "stream",
       "stream": "stdout",
       "text": [
        "\n",
        "15 progeny generated in host 7fa3b.\n",
        "Current time is 13. Incrementing time to 14\n",
        "Generating 0 progeny in host 7fa3b...\n",
        "0 progeny generated in host 7fa3b.\n",
        "Current time is 14. Incrementing time to 15\n",
        "Generating 0 progeny in host 7fa3b...\n",
        "0 progeny generated in host 7fa3b.\n",
        "Current time is 15. Incrementing time to 16\n",
        "Current time is 16. Incrementing time to 17\n",
        "Current time is 17. Incrementing time to 18\n",
        "Current time is 18. Incrementing time to 19\n",
        "Current time is 19. Incrementing time to 20\n",
        "Current time is 20. Incrementing time to 21\n",
        "Current time is 21. Incrementing time to 22\n",
        "Current time is 22. Incrementing time to 23\n",
        "Current time is 23. Incrementing time to 24\n",
        "Current time is 24. Incrementing time to 25\n",
        "Current time is 25. Incrementing time to 26\n",
        "Current time is 26. Incrementing time to 27\n",
        "Current time is 27. Incrementing time to 28\n",
        "Current time is 28. Incrementing time to 29\n",
        "Current time is 29. Incrementing time to 30\n",
        "Adding host bbf23... to environment c8657...\n",
        "Creating environment c8657\n",
        "Creating virus a4392 inside host bbf23\n",
        "Current time is 0. Incrementing time to 1\n",
        "Generating 0 progeny in host bbf23...\n",
        "0 progeny generated in host bbf23.\n",
        "Current time is 1. Incrementing time to 2\n",
        "Generating 3 progeny in host bbf23...\n",
        "9 progeny have been made from virus a4392 in host bbf23\n",
        "9 progeny generated in host bbf23.\n",
        "Current time is 2. Incrementing time to 3\n",
        "Generating 23 progeny in host bbf23...\n",
        "7 progeny have been made from virus 6a2e9 in host bbf23\n",
        "10 progeny have been made from virus 124ba in host bbf23"
       ]
      },
      {
       "output_type": "stream",
       "stream": "stdout",
       "text": [
        "\n",
        "7 progeny have been made from virus 6a2e9 in host bbf23\n",
        "24 progeny generated in host bbf23.\n",
        "Current time is 3. Incrementing time to 4\n",
        "Generating 59 progeny in host bbf23...\n",
        "9 progeny have been made from virus 3bc04 in host bbf23\n",
        "6 progeny have been made from virus 7efd0 in host bbf23"
       ]
      },
      {
       "output_type": "stream",
       "stream": "stdout",
       "text": [
        "\n",
        "9 progeny have been made from virus 479cb in host bbf23\n",
        "5 progeny have been made from virus e4ac6 in host bbf23\n",
        "5 progeny have been made from virus e1c54 in host bbf23\n",
        "6 progeny have been made from virus 17fbf in host bbf23"
       ]
      },
      {
       "output_type": "stream",
       "stream": "stdout",
       "text": [
        "\n",
        "5 progeny have been made from virus aa8a4 in host bbf23\n",
        "5 progeny have been made from virus 3bc04 in host bbf23\n",
        "7 progeny have been made from virus d8742 in host bbf23\n",
        "9 progeny have been made from virus 9efb8 in host bbf23"
       ]
      },
      {
       "output_type": "stream",
       "stream": "stdout",
       "text": [
        "\n",
        "66 progeny generated in host bbf23.\n",
        "Current time is 4. Incrementing time to 5\n",
        "Generating 26 progeny in host bbf23...\n",
        "8 progeny have been made from virus 3991d in host bbf23\n",
        "9 progeny have been made from virus c1515 in host bbf23"
       ]
      },
      {
       "output_type": "stream",
       "stream": "stdout",
       "text": [
        "\n",
        "6 progeny have been made from virus 20d61 in host bbf23\n",
        "6 progeny have been made from virus 7e97d in host bbf23\n",
        "29 progeny generated in host bbf23.\n",
        "Current time is 5. Incrementing time to 6\n",
        "Generating 7 progeny in host bbf23...\n",
        "7 progeny have been made from virus 4cc92 in host bbf23"
       ]
      },
      {
       "output_type": "stream",
       "stream": "stdout",
       "text": [
        "\n",
        "7 progeny generated in host bbf23.\n",
        "Current time is 6. Incrementing time to 7\n",
        "Generating 1 progeny in host bbf23...\n",
        "9 progeny have been made from virus 28750 in host bbf23\n",
        "9 progeny generated in host bbf23.\n",
        "Current time is 7. Incrementing time to 8\n",
        "Generating 9 progeny in host bbf23...\n",
        "8 progeny have been made from virus fe2e3 in host bbf23\n",
        "6 progeny have been made from virus ec0b1 in host bbf23"
       ]
      },
      {
       "output_type": "stream",
       "stream": "stdout",
       "text": [
        "\n",
        "14 progeny generated in host bbf23.\n",
        "Current time is 8. Incrementing time to 9\n",
        "Generating 21 progeny in host bbf23...\n",
        "7 progeny have been made from virus 29cb4 in host bbf23\n",
        "8 progeny have been made from virus 0b42b in host bbf23\n",
        "5 progeny have been made from virus a4220 in host bbf23"
       ]
      },
      {
       "output_type": "stream",
       "stream": "stdout",
       "text": [
        "\n",
        "6 progeny have been made from virus ae8d7 in host bbf23\n",
        "26 progeny generated in host bbf23.\n",
        "Current time is 9. Incrementing time to 10\n",
        "Generating 25 progeny in host bbf23...\n",
        "6 progeny have been made from virus 01e54 in host bbf23\n",
        "10 progeny have been made from virus 33477 in host bbf23"
       ]
      },
      {
       "output_type": "stream",
       "stream": "stdout",
       "text": [
        "\n",
        "5 progeny have been made from virus 9e134 in host bbf23\n",
        "5 progeny have been made from virus 8566d in host bbf23\n",
        "26 progeny generated in host bbf23.\n",
        "Current time is 10. Incrementing time to 11\n",
        "Generating 34 progeny in host bbf23...\n",
        "7 progeny have been made from virus 69b92 in host bbf23"
       ]
      },
      {
       "output_type": "stream",
       "stream": "stdout",
       "text": [
        "\n",
        "10 progeny have been made from virus 3ad70 in host bbf23\n",
        "5 progeny have been made from virus 72679 in host bbf23"
       ]
      },
      {
       "output_type": "stream",
       "stream": "stdout",
       "text": [
        "\n",
        "9 progeny have been made from virus 89de0 in host bbf23\n",
        "5 progeny have been made from virus ebb50 in host bbf23"
       ]
      },
      {
       "output_type": "stream",
       "stream": "stdout",
       "text": [
        "\n",
        "36 progeny generated in host bbf23.\n",
        "Current time is 11. Incrementing time to 12\n",
        "Generating 19 progeny in host bbf23...\n",
        "5 progeny have been made from virus d180d in host bbf23\n",
        "9 progeny have been made from virus 81e39 in host bbf23\n",
        "6 progeny have been made from virus 72679 in host bbf23"
       ]
      },
      {
       "output_type": "stream",
       "stream": "stdout",
       "text": [
        "\n",
        "20 progeny generated in host bbf23.\n",
        "Current time is 12. Incrementing time to 13\n",
        "Generating 9 progeny in host bbf23...\n",
        "8 progeny have been made from virus ae286 in host bbf23\n",
        "9 progeny have been made from virus 15a49 in host bbf23"
       ]
      },
      {
       "output_type": "stream",
       "stream": "stdout",
       "text": [
        "\n",
        "17 progeny generated in host bbf23.\n",
        "Current time is 13. Incrementing time to 14\n",
        "Generating 1 progeny in host bbf23...\n",
        "6 progeny have been made from virus cbd25 in host bbf23\n",
        "6 progeny generated in host bbf23.\n",
        "Current time is 14. Incrementing time to 15\n",
        "Generating 4 progeny in host bbf23...\n",
        "6 progeny have been made from virus b24d8 in host bbf23\n",
        "6 progeny generated in host bbf23.\n",
        "Current time is 15. Incrementing time to 16\n",
        "Generating 1 progeny in host bbf23...\n",
        "8 progeny have been made from virus 2529b in host bbf23"
       ]
      },
      {
       "output_type": "stream",
       "stream": "stdout",
       "text": [
        "\n",
        "8 progeny generated in host bbf23.\n",
        "Current time is 16. Incrementing time to 17\n",
        "Generating 7 progeny in host bbf23...\n",
        "8 progeny have been made from virus b15f5 in host bbf23\n",
        "8 progeny generated in host bbf23.\n",
        "Current time is 17. Incrementing time to 18\n",
        "Generating 3 progeny in host bbf23...\n",
        "10 progeny have been made from virus 8cd2c in host bbf23"
       ]
      },
      {
       "output_type": "stream",
       "stream": "stdout",
       "text": [
        "\n",
        "10 progeny generated in host bbf23.\n",
        "Current time is 18. Incrementing time to 19\n",
        "Generating 0 progeny in host bbf23...\n",
        "0 progeny generated in host bbf23.\n",
        "Current time is 19. Incrementing time to 20\n",
        "Generating 1 progeny in host bbf23...\n",
        "8 progeny have been made from virus f4451 in host bbf23\n",
        "8 progeny generated in host bbf23.\n",
        "Current time is 20. Incrementing time to 21\n",
        "Generating 2 progeny in host bbf23...\n",
        "7 progeny have been made from virus 12cbb in host bbf23"
       ]
      },
      {
       "output_type": "stream",
       "stream": "stdout",
       "text": [
        "\n",
        "7 progeny generated in host bbf23.\n",
        "Current time is 21. Incrementing time to 22\n",
        "Generating 3 progeny in host bbf23...\n",
        "7 progeny have been made from virus 93ed9 in host bbf23\n",
        "7 progeny generated in host bbf23.\n",
        "Current time is 22. Incrementing time to 23\n",
        "Generating 1 progeny in host bbf23...\n",
        "9 progeny have been made from virus e2da6 in host bbf23"
       ]
      },
      {
       "output_type": "stream",
       "stream": "stdout",
       "text": [
        "\n",
        "9 progeny generated in host bbf23.\n",
        "Current time is 23. Incrementing time to 24\n",
        "Generating 3 progeny in host bbf23...\n",
        "10 progeny have been made from virus ea7e6 in host bbf23"
       ]
      },
      {
       "output_type": "stream",
       "stream": "stdout",
       "text": [
        "\n",
        "10 progeny generated in host bbf23.\n",
        "Current time is 24. Incrementing time to 25\n",
        "Generating 2 progeny in host bbf23...\n",
        "10 progeny have been made from virus 2f506 in host bbf23\n",
        "10 progeny generated in host bbf23.\n",
        "Current time is 25. Incrementing time to 26\n",
        "Generating 4 progeny in host bbf23...\n",
        "9 progeny have been made from virus 1f2cc in host bbf23"
       ]
      },
      {
       "output_type": "stream",
       "stream": "stdout",
       "text": [
        "\n",
        "9 progeny generated in host bbf23.\n",
        "Current time is 26. Incrementing time to 27\n",
        "Generating 0 progeny in host bbf23...\n",
        "0 progeny generated in host bbf23.\n",
        "Current time is 27. Incrementing time to 28\n",
        "Generating 0 progeny in host bbf23...\n",
        "0 progeny generated in host bbf23.\n",
        "Current time is 28. Incrementing time to 29\n",
        "Current time is 29. Incrementing time to 30\n"
       ]
      }
     ],
     "prompt_number": 2
    },
    {
     "cell_type": "code",
     "collapsed": false,
     "input": [
      "virus_counts_list"
     ],
     "language": "python",
     "metadata": {},
     "outputs": [
      {
       "metadata": {},
       "output_type": "pyout",
       "prompt_number": 3,
       "text": [
        "[[[6],\n",
        "  [11],\n",
        "  [26],\n",
        "  [53],\n",
        "  [115],\n",
        "  [100],\n",
        "  [36],\n",
        "  [70],\n",
        "  [58],\n",
        "  [24],\n",
        "  [26],\n",
        "  [17],\n",
        "  [8],\n",
        "  [0],\n",
        "  [0],\n",
        "  [0],\n",
        "  [0],\n",
        "  [0],\n",
        "  [0],\n",
        "  [0],\n",
        "  [0],\n",
        "  [0],\n",
        "  [0],\n",
        "  [0],\n",
        "  [0],\n",
        "  [0],\n",
        "  [0],\n",
        "  [0],\n",
        "  [0],\n",
        "  [0]],\n",
        " [[1],\n",
        "  [1],\n",
        "  [0],\n",
        "  [0],\n",
        "  [0],\n",
        "  [0],\n",
        "  [0],\n",
        "  [0],\n",
        "  [0],\n",
        "  [0],\n",
        "  [0],\n",
        "  [0],\n",
        "  [0],\n",
        "  [0],\n",
        "  [0],\n",
        "  [0],\n",
        "  [0],\n",
        "  [0],\n",
        "  [0],\n",
        "  [0],\n",
        "  [0],\n",
        "  [0],\n",
        "  [0],\n",
        "  [0],\n",
        "  [0],\n",
        "  [0],\n",
        "  [0],\n",
        "  [0],\n",
        "  [0],\n",
        "  [0]],\n",
        " [[8],\n",
        "  [27],\n",
        "  [111],\n",
        "  [250],\n",
        "  [491],\n",
        "  [287],\n",
        "  [111],\n",
        "  [178],\n",
        "  [39],\n",
        "  [20],\n",
        "  [12],\n",
        "  [15],\n",
        "  [13],\n",
        "  [16],\n",
        "  [9],\n",
        "  [10],\n",
        "  [9],\n",
        "  [7],\n",
        "  [0],\n",
        "  [0],\n",
        "  [0],\n",
        "  [0],\n",
        "  [0],\n",
        "  [0],\n",
        "  [0],\n",
        "  [0],\n",
        "  [0],\n",
        "  [0],\n",
        "  [0],\n",
        "  [0]],\n",
        " [[1],\n",
        "  [0],\n",
        "  [0],\n",
        "  [0],\n",
        "  [0],\n",
        "  [0],\n",
        "  [0],\n",
        "  [0],\n",
        "  [0],\n",
        "  [0],\n",
        "  [0],\n",
        "  [0],\n",
        "  [0],\n",
        "  [0],\n",
        "  [0],\n",
        "  [0],\n",
        "  [0],\n",
        "  [0],\n",
        "  [0],\n",
        "  [0],\n",
        "  [0],\n",
        "  [0],\n",
        "  [0],\n",
        "  [0],\n",
        "  [0],\n",
        "  [0],\n",
        "  [0],\n",
        "  [0],\n",
        "  [0],\n",
        "  [0]],\n",
        " [[1],\n",
        "  [1],\n",
        "  [10],\n",
        "  [12],\n",
        "  [20],\n",
        "  [28],\n",
        "  [17],\n",
        "  [26],\n",
        "  [12],\n",
        "  [11],\n",
        "  [12],\n",
        "  [12],\n",
        "  [11],\n",
        "  [16],\n",
        "  [17],\n",
        "  [19],\n",
        "  [9],\n",
        "  [10],\n",
        "  [1],\n",
        "  [0],\n",
        "  [0],\n",
        "  [0],\n",
        "  [0],\n",
        "  [0],\n",
        "  [0],\n",
        "  [0],\n",
        "  [0],\n",
        "  [0],\n",
        "  [0],\n",
        "  [0]],\n",
        " [[10],\n",
        "  [15],\n",
        "  [53],\n",
        "  [88],\n",
        "  [105],\n",
        "  [85],\n",
        "  [115],\n",
        "  [32],\n",
        "  [25],\n",
        "  [6],\n",
        "  [10],\n",
        "  [7],\n",
        "  [9],\n",
        "  [14],\n",
        "  [22],\n",
        "  [13],\n",
        "  [7],\n",
        "  [9],\n",
        "  [11],\n",
        "  [10],\n",
        "  [7],\n",
        "  [0],\n",
        "  [0],\n",
        "  [0],\n",
        "  [0],\n",
        "  [0],\n",
        "  [0],\n",
        "  [0],\n",
        "  [0],\n",
        "  [0]],\n",
        " [[0],\n",
        "  [0],\n",
        "  [0],\n",
        "  [0],\n",
        "  [0],\n",
        "  [0],\n",
        "  [0],\n",
        "  [0],\n",
        "  [0],\n",
        "  [0],\n",
        "  [0],\n",
        "  [0],\n",
        "  [0],\n",
        "  [0],\n",
        "  [0],\n",
        "  [0],\n",
        "  [0],\n",
        "  [0],\n",
        "  [0],\n",
        "  [0],\n",
        "  [0],\n",
        "  [0],\n",
        "  [0],\n",
        "  [0],\n",
        "  [0],\n",
        "  [0],\n",
        "  [0],\n",
        "  [0],\n",
        "  [0],\n",
        "  [0]],\n",
        " [[7],\n",
        "  [10],\n",
        "  [26],\n",
        "  [59],\n",
        "  [50],\n",
        "  [84],\n",
        "  [30],\n",
        "  [13],\n",
        "  [11],\n",
        "  [21],\n",
        "  [18],\n",
        "  [20],\n",
        "  [27],\n",
        "  [19],\n",
        "  [8],\n",
        "  [6],\n",
        "  [7],\n",
        "  [5],\n",
        "  [8],\n",
        "  [6],\n",
        "  [2],\n",
        "  [0],\n",
        "  [0],\n",
        "  [0],\n",
        "  [0],\n",
        "  [0],\n",
        "  [0],\n",
        "  [0],\n",
        "  [0],\n",
        "  [0]],\n",
        " [[1],\n",
        "  [8],\n",
        "  [21],\n",
        "  [26],\n",
        "  [15],\n",
        "  [30],\n",
        "  [18],\n",
        "  [17],\n",
        "  [11],\n",
        "  [9],\n",
        "  [8],\n",
        "  [10],\n",
        "  [15],\n",
        "  [1],\n",
        "  [0],\n",
        "  [0],\n",
        "  [0],\n",
        "  [0],\n",
        "  [0],\n",
        "  [0],\n",
        "  [0],\n",
        "  [0],\n",
        "  [0],\n",
        "  [0],\n",
        "  [0],\n",
        "  [0],\n",
        "  [0],\n",
        "  [0],\n",
        "  [0],\n",
        "  [0]],\n",
        " [[1],\n",
        "  [10],\n",
        "  [27],\n",
        "  [76],\n",
        "  [50],\n",
        "  [21],\n",
        "  [13],\n",
        "  [18],\n",
        "  [30],\n",
        "  [33],\n",
        "  [45],\n",
        "  [27],\n",
        "  [19],\n",
        "  [9],\n",
        "  [8],\n",
        "  [10],\n",
        "  [11],\n",
        "  [13],\n",
        "  [2],\n",
        "  [8],\n",
        "  [7],\n",
        "  [8],\n",
        "  [9],\n",
        "  [11],\n",
        "  [11],\n",
        "  [9],\n",
        "  [1],\n",
        "  [0],\n",
        "  [0],\n",
        "  [0]]]"
       ]
      }
     ],
     "prompt_number": 3
    },
    {
     "cell_type": "code",
     "collapsed": false,
     "input": [
      "for v in virus_counts_list:\n",
      "    plt.plot(v, color='blue', alpha=0.5)"
     ],
     "language": "python",
     "metadata": {},
     "outputs": [
      {
       "metadata": {},
       "output_type": "display_data",
       "png": "[encoded data removed]",
       "text": [
        "<matplotlib.figure.Figure at 0x1058f82d0>"
       ]
      }
     ],
     "prompt_number": 5
    },
    {
     "cell_type": "code",
     "collapsed": false,
     "input": [],
     "language": "python",
     "metadata": {},
     "outputs": [],
     "prompt_number": 4
    }
   ],
   "metadata": {}
  }
 ]
}