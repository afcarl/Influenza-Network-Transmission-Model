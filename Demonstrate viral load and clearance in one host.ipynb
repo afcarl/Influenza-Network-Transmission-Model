{
 "metadata": {
  "name": "",
  "signature": "sha256:3f008eac616498894ed75f97a55d896b3512962ab7c183febb0ad3fb8ea83d65"
 },
 "nbformat": 3,
 "nbformat_minor": 0,
 "worksheets": [
  {
   "cells": [
    {
     "cell_type": "markdown",
     "metadata": {},
     "source": [
      "# Pre-Run Comments\n",
      "\n",
      "Note that the number of iterations being run can be changed. \n",
      "\n",
      "* If testing, change to a small number, like 3.\n",
      "* If generating results, change to a large number, like 10000."
     ]
    },
    {
     "cell_type": "code",
     "collapsed": false,
     "input": [
      "from controller import Controller\n",
      "from time import time"
     ],
     "language": "python",
     "metadata": {},
     "outputs": [],
     "prompt_number": 1
    },
    {
     "cell_type": "code",
     "collapsed": false,
     "input": [
      "virus_counts_list = []\n",
      "times = []\n",
      "\n",
      "for j in range(1):\n",
      "#     print('Current iteration: %s' % j)\n",
      "    t1 = time()\n",
      "    c = Controller()\n",
      "    c.create_environment(num_hosts=1)\n",
      "    c.create_virus(c.environments[0].hosts[0])\n",
      "    \n",
      "    virus_counts = []\n",
      "\n",
      "    for i in range(30):\n",
      "        c.increment_timestep()\n",
      "\n",
      "        virus_counts.append(c.get_host_virus_population(c.environments[0]))\n",
      "    t2 = time()\n",
      "    print('Runtime for loop %s was %03f' % (j, t2-t1))\n",
      "    \n",
      "    virus_counts_list.append(virus_counts)\n",
      "    times.append(t2-t1)"
     ],
     "language": "python",
     "metadata": {},
     "outputs": [
      {
       "output_type": "stream",
       "stream": "stdout",
       "text": [
        "Runtime for loop 0 was 43.171730\n"
       ]
      }
     ],
     "prompt_number": 2
    },
    {
     "cell_type": "code",
     "collapsed": false,
     "input": [
      "plt.figure(0)\n",
      "for v in virus_counts_list:\n",
      "    plt.plot(v, color='blue', alpha=0.1)\n",
      "plt.xlabel('Time (days)')\n",
      "plt.ylabel('Viral Load')\n",
      "plt.title('Viral Load Dynamics in One Host')\n",
      "# plt.savefig('Kinetic MC/Viral Load Dynamics in One Host.pdf')\n",
      "plt.show()"
     ],
     "language": "python",
     "metadata": {},
     "outputs": [
      {
       "metadata": {},
       "output_type": "display_data",
       "png": "[encoded data removed]",
       "text": [
        "<matplotlib.figure.Figure at 0x10c266790>"
       ]
      }
     ],
     "prompt_number": 3
    },
    {
     "cell_type": "code",
     "collapsed": false,
     "input": [],
     "language": "python",
     "metadata": {},
     "outputs": [],
     "prompt_number": 3
    }
   ],
   "metadata": {}
  }
 ]
}