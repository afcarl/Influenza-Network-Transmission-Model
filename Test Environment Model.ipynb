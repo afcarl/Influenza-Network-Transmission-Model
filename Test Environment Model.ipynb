{
 "metadata": {
  "name": "",
  "signature": "sha256:75b3d507dddfaeb6af4c14615f8f6bca6f0c45501529c6a255b7b93f436afd07"
 },
 "nbformat": 3,
 "nbformat_minor": 0,
 "worksheets": [
  {
   "cells": [
    {
     "cell_type": "code",
     "collapsed": false,
     "input": [
      "from environment import Environment\n",
      "import networkx as nx\n",
      "from random import random"
     ],
     "language": "python",
     "metadata": {},
     "outputs": [],
     "prompt_number": 1
    },
    {
     "cell_type": "code",
     "collapsed": false,
     "input": [
      "# Create an environment with 2 viruses\n",
      "e = Environment(num_viruses=2)\n",
      "\n",
      "# Get the virus IDs\n",
      "e.GetViruses()"
     ],
     "language": "python",
     "metadata": {},
     "outputs": [
      {
       "metadata": {},
       "output_type": "pyout",
       "prompt_number": 2,
       "text": [
        "[0, 1]"
       ]
      }
     ],
     "prompt_number": 2
    },
    {
     "cell_type": "code",
     "collapsed": false,
     "input": [
      "# For each virus, print each segment's ID and sequence\n",
      "for virus in e.GetViruses():\n",
      "    print virus.GetSegments()"
     ],
     "language": "python",
     "metadata": {},
     "outputs": [
      {
       "output_type": "stream",
       "stream": "stdout",
       "text": [
        "[0 GCATGCGGTT, 1 CATATAACAA]\n",
        "[0 ATAAGCGTAA, 1 GAAATGCGGC]\n"
       ]
      }
     ],
     "prompt_number": 3
    },
    {
     "cell_type": "code",
     "collapsed": false,
     "input": [
      "# Pick any two viruses in the current set of viruses in the environment, and subject them to a random reassortment process.\n",
      "e.RandomlyReassortTwoViruses(mutate=False)\n",
      "# If a set with two elements is printed out, then both viruses were the parents.\n",
      "# If a set with one element only is printed, then only that virus was the parent.\n",
      "e.GetViruses()"
     ],
     "language": "python",
     "metadata": {},
     "outputs": [
      {
       "output_type": "stream",
       "stream": "stdout",
       "text": [
        "set([0, 1])\n"
       ]
      },
      {
       "metadata": {},
       "output_type": "pyout",
       "prompt_number": 4,
       "text": [
        "[0, 1, 2]"
       ]
      }
     ],
     "prompt_number": 4
    },
    {
     "cell_type": "code",
     "collapsed": false,
     "input": [
      "# Once again, print the virus sequences to verify that the reassortment did (or did not) take place.\n",
      "for virus in e.GetViruses():\n",
      "    print virus.GetSegments()"
     ],
     "language": "python",
     "metadata": {},
     "outputs": [
      {
       "output_type": "stream",
       "stream": "stdout",
       "text": [
        "[0 GCATGCGGTT, 1 CATATAACAA]\n",
        "[0 ATAAGCGTAA, 1 GAAATGCGGC]\n",
        "[0 GCATGCGGTT, 1 GAAATGCGGC]\n"
       ]
      }
     ],
     "prompt_number": 5
    },
    {
     "cell_type": "code",
     "collapsed": false,
     "input": [
      "# Subject the environment to 10 rounds of replication. Allow the viruses to mutate with some probability (here it is 0.5)\n",
      "replication_rounds = range(10)\n",
      "for n in replication_rounds:\n",
      "    cointoss = random()\n",
      "    if cointoss > 0.5:\n",
      "        mutate = True\n",
      "    else:\n",
      "        mutate = False\n",
      "    e.ReplicateAVirus(mutate)"
     ],
     "language": "python",
     "metadata": {},
     "outputs": [],
     "prompt_number": 6
    },
    {
     "cell_type": "code",
     "collapsed": false,
     "input": [
      "for virus in e.GetViruses():\n",
      "    print virus, virus.GetSegments(), virus.mutated, virus.reassorted"
     ],
     "language": "python",
     "metadata": {},
     "outputs": [
      {
       "output_type": "stream",
       "stream": "stdout",
       "text": [
        "0 [0 GCATGCGGTT, 1 CATATAACAA] False False\n",
        "1 [0 ATAAGCGTAA, 1 GAAATGCGGC] False False\n",
        "2 [0 GCATGCGGTT, 1 GAAATGCGGC] False True\n",
        "3 [0 ATAAGCGTAA, 1 GAAATGCGGC] False False\n",
        "4 [0 ATAAGCGTAA, 1 GAAATGCGGT] True False\n",
        "5 [0 ATAAGCGTAA, 1 GAAATGCGGT] False False\n",
        "6 [0 GCATGCGGTT, 1 GAACTGCGGC] True False\n",
        "7 [0 ATAAGCGTTA, 1 GAAATGCGGC] True False\n",
        "8 [0 GCATGCGGTT, 1 GAAATGCGGC] False False\n",
        "9 [0 GCATGCGGTT, 1 GAAATGCGGC] False False\n",
        "10 [0 GCATGCCGTT, 1 GAACTGCGGC] True False\n",
        "11 [0 GCATACGGTT, 1 GAAATGCGGC] True False\n",
        "12 [0 GCATGCTGTT, 1 GAACTGCGGC] True False\n"
       ]
      }
     ],
     "prompt_number": 7
    },
    {
     "cell_type": "code",
     "collapsed": false,
     "input": [
      "print len(e.GetViruses())"
     ],
     "language": "python",
     "metadata": {},
     "outputs": [
      {
       "output_type": "stream",
       "stream": "stdout",
       "text": [
        "13\n"
       ]
      }
     ],
     "prompt_number": 8
    },
    {
     "cell_type": "code",
     "collapsed": false,
     "input": [
      "e.RandomlyReassortTwoViruses(mutate=False)\n",
      "e.RandomlyReassortTwoViruses(mutate=False)"
     ],
     "language": "python",
     "metadata": {},
     "outputs": [
      {
       "output_type": "stream",
       "stream": "stdout",
       "text": [
        "set([11])\n",
        "set([4])\n"
       ]
      }
     ],
     "prompt_number": 9
    },
    {
     "cell_type": "code",
     "collapsed": false,
     "input": [
      "for virus in e.GetViruses():\n",
      "    print virus, virus.GetSegments(), virus.mutated, virus.reassorted"
     ],
     "language": "python",
     "metadata": {},
     "outputs": [
      {
       "output_type": "stream",
       "stream": "stdout",
       "text": [
        "0 [0 GCATGCGGTT, 1 CATATAACAA] False False\n",
        "1 [0 ATAAGCGTAA, 1 GAAATGCGGC] False False\n",
        "2 [0 GCATGCGGTT, 1 GAAATGCGGC] False True\n",
        "3 [0 ATAAGCGTAA, 1 GAAATGCGGC] False False\n",
        "4 [0 ATAAGCGTAA, 1 GAAATGCGGT] True False\n",
        "5 [0 ATAAGCGTAA, 1 GAAATGCGGT] False False\n",
        "6 [0 GCATGCGGTT, 1 GAACTGCGGC] True False\n",
        "7 [0 ATAAGCGTTA, 1 GAAATGCGGC] True False\n",
        "8 [0 GCATGCGGTT, 1 GAAATGCGGC] False False\n",
        "9 [0 GCATGCGGTT, 1 GAAATGCGGC] False False\n",
        "10 [0 GCATGCCGTT, 1 GAACTGCGGC] True False\n",
        "11 [0 GCATACGGTT, 1 GAAATGCGGC] True False\n",
        "12 [0 GCATGCTGTT, 1 GAACTGCGGC] True False\n",
        "13 [0 GCATACGGTT, 1 GAAATGCGGC] False False\n",
        "14 [0 ATAAGCGTAA, 1 GAAATGCGGT] False False\n"
       ]
      }
     ],
     "prompt_number": 10
    },
    {
     "cell_type": "markdown",
     "metadata": {},
     "source": [
      "Visualize the network model"
     ]
    },
    {
     "cell_type": "code",
     "collapsed": false,
     "input": [
      "G = nx.DiGraph()"
     ],
     "language": "python",
     "metadata": {},
     "outputs": [],
     "prompt_number": 11
    },
    {
     "cell_type": "code",
     "collapsed": false,
     "input": [
      "for virus in e.GetViruses():\n",
      "    parent = virus.GetParent()\n",
      "    child = virus.GetID()\n",
      "    if parent == None:\n",
      "        G.add_node(child)\n",
      "    elif type(parent) == int:\n",
      "        G.add_edge(parent, child, weight=1)\n",
      "    elif len(parent) == 2:\n",
      "        G.add_edge(parent[0], child, weight=0.5)\n",
      "        G.add_edge(parent[1], child, weight=0.5)\n"
     ],
     "language": "python",
     "metadata": {},
     "outputs": [],
     "prompt_number": 12
    },
    {
     "cell_type": "code",
     "collapsed": false,
     "input": [
      "G.nodes()"
     ],
     "language": "python",
     "metadata": {},
     "outputs": [
      {
       "metadata": {},
       "output_type": "pyout",
       "prompt_number": 13,
       "text": [
        "[0, 1, 2, 3, 4, 5, 6, 7, 8, 9, 10, 11, 12, 13, 14]"
       ]
      }
     ],
     "prompt_number": 13
    },
    {
     "cell_type": "code",
     "collapsed": false,
     "input": [
      "G.edges()"
     ],
     "language": "python",
     "metadata": {},
     "outputs": [
      {
       "metadata": {},
       "output_type": "pyout",
       "prompt_number": 14,
       "text": [
        "[(0, 2),\n",
        " (1, 2),\n",
        " (1, 3),\n",
        " (1, 4),\n",
        " (1, 7),\n",
        " (2, 8),\n",
        " (2, 11),\n",
        " (2, 6),\n",
        " (4, 5),\n",
        " (4, 14),\n",
        " (6, 10),\n",
        " (6, 12),\n",
        " (8, 9),\n",
        " (11, 13)]"
       ]
      }
     ],
     "prompt_number": 14
    },
    {
     "cell_type": "code",
     "collapsed": false,
     "input": [
      "nx.draw_circular(G)"
     ],
     "language": "python",
     "metadata": {},
     "outputs": [
      {
       "metadata": {},
       "output_type": "display_data",
       "png": "[encoded data removed]",
       "text": [
        "<matplotlib.figure.Figure at 0x10610f5d0>"
       ]
      }
     ],
     "prompt_number": 15
    },
    {
     "cell_type": "code",
     "collapsed": false,
     "input": [],
     "language": "python",
     "metadata": {},
     "outputs": [],
     "prompt_number": 15
    },
    {
     "cell_type": "code",
     "collapsed": false,
     "input": [],
     "language": "python",
     "metadata": {},
     "outputs": []
    }
   ],
   "metadata": {}
  }
 ]
}