{
 "metadata": {
  "name": "",
  "signature": "sha256:550b27b2eb1ce3c2b114dfa4f9f0edc2e4e602d7c3430f5bb4fe7b3d2e98017e"
 },
 "nbformat": 3,
 "nbformat_minor": 0,
 "worksheets": [
  {
   "cells": [
    {
     "cell_type": "code",
     "collapsed": false,
     "input": [
      "from environment import Environment\n",
      "import networkx as nx\n",
      "from random import random"
     ],
     "language": "python",
     "metadata": {},
     "outputs": [],
     "prompt_number": 1
    },
    {
     "cell_type": "code",
     "collapsed": false,
     "input": [
      "# Create an environment with 2 viruses\n",
      "e = Environment(num_viruses=2, virus_type='influenza')\n",
      "\n",
      "# Get the virus IDs\n",
      "e.GetViruses()"
     ],
     "language": "python",
     "metadata": {},
     "outputs": [
      {
       "metadata": {},
       "output_type": "pyout",
       "prompt_number": 2,
       "text": [
        "[[0, None], [1, None]]"
       ]
      }
     ],
     "prompt_number": 2
    },
    {
     "cell_type": "code",
     "collapsed": false,
     "input": [
      "# For each virus, print each segment's ID and sequence\n",
      "for virus in e.GetViruses():\n",
      "    print virus"
     ],
     "language": "python",
     "metadata": {},
     "outputs": [
      {
       "output_type": "stream",
       "stream": "stdout",
       "text": [
        "[0, None]\n",
        "[1, None]\n"
       ]
      }
     ],
     "prompt_number": 3
    },
    {
     "cell_type": "code",
     "collapsed": false,
     "input": [
      "# Get a particular virus that is not present in the set.\n",
      "e.GetVirus(2)"
     ],
     "language": "python",
     "metadata": {},
     "outputs": [
      {
       "output_type": "stream",
       "stream": "stdout",
       "text": [
        "ERROR: The virus ID should be between 0 and 1.\n"
       ]
      }
     ],
     "prompt_number": 4
    },
    {
     "cell_type": "code",
     "collapsed": false,
     "input": [
      "# Get a particular virus that is present in the set.\n",
      "e.GetVirus(1)"
     ],
     "language": "python",
     "metadata": {},
     "outputs": [
      {
       "metadata": {},
       "output_type": "pyout",
       "prompt_number": 5,
       "text": [
        "[1, None]"
       ]
      }
     ],
     "prompt_number": 5
    },
    {
     "cell_type": "code",
     "collapsed": false,
     "input": [
      "# Pick any two viruses in the current set of viruses in the environment, and subject them to a random reassortment process.\n",
      "e.RandomlyReassortTwoViruses(mutate=False)\n",
      "# If the new virus that is appended had two parents, then it would have a tuple (i, j) as the second element in the list.\n",
      "# If the new virus that is appended had one parent, then it would have a single integer as the second element in the list.\n",
      "e.GetViruses()"
     ],
     "language": "python",
     "metadata": {},
     "outputs": [
      {
       "metadata": {},
       "output_type": "pyout",
       "prompt_number": 6,
       "text": [
        "[[0, None], [1, None], [2, (0, 1)]]"
       ]
      }
     ],
     "prompt_number": 6
    },
    {
     "cell_type": "code",
     "collapsed": false,
     "input": [
      "# Subject the environment to 10 rounds of replication. Allow the viruses to mutate with some probability (here it is 0.5)\n",
      "replication_rounds = range(10)\n",
      "for n in replication_rounds:\n",
      "    cointoss = random()\n",
      "    if cointoss > 0.5:\n",
      "        mutate = True\n",
      "    else:\n",
      "        mutate = False\n",
      "    e.ReplicateAVirus(mutate)"
     ],
     "language": "python",
     "metadata": {},
     "outputs": [],
     "prompt_number": 7
    },
    {
     "cell_type": "code",
     "collapsed": false,
     "input": [
      "for virus in e.GetViruses():\n",
      "    print virus, virus.IsMutated(), virus.IsReassorted()"
     ],
     "language": "python",
     "metadata": {},
     "outputs": [
      {
       "output_type": "stream",
       "stream": "stdout",
       "text": [
        "[0, None] True False\n",
        "[1, None] True False\n",
        "[2, (0, 1)] True True\n",
        "[3, 1] False False\n",
        "[4, 0] True False\n",
        "[5, 1] False False\n",
        "[6, 3] False False\n",
        "[7, 6] True False\n",
        "[8, 2] True False\n",
        "[9, 4] True False\n",
        "[10, 7] False False\n",
        "[11, 1] False False\n",
        "[12, 3] True False\n"
       ]
      }
     ],
     "prompt_number": 8
    },
    {
     "cell_type": "code",
     "collapsed": false,
     "input": [
      "print len(e.GetViruses())"
     ],
     "language": "python",
     "metadata": {},
     "outputs": [
      {
       "output_type": "stream",
       "stream": "stdout",
       "text": [
        "13\n"
       ]
      }
     ],
     "prompt_number": 9
    },
    {
     "cell_type": "code",
     "collapsed": false,
     "input": [
      "# Randomly reassort two viruses again.\n",
      "e.RandomlyReassortTwoViruses(mutate=False)\n",
      "e.RandomlyReassortTwoViruses(mutate=False)"
     ],
     "language": "python",
     "metadata": {},
     "outputs": [],
     "prompt_number": 10
    },
    {
     "cell_type": "code",
     "collapsed": false,
     "input": [
      "# Print out the viruses present in the environment.\n",
      "for virus in e.GetViruses():\n",
      "    print virus, virus.mutated, virus.reassorted"
     ],
     "language": "python",
     "metadata": {},
     "outputs": [
      {
       "output_type": "stream",
       "stream": "stdout",
       "text": [
        "[0, None] True False\n",
        "[1, None] True False\n",
        "[2, (0, 1)] True True\n",
        "[3, 1] False False\n",
        "[4, 0] True False\n",
        "[5, 1] False False\n",
        "[6, 3] False False\n",
        "[7, 6] True False\n",
        "[8, 2] True False\n",
        "[9, 4] True False\n",
        "[10, 7] False False\n",
        "[11, 1] False False\n",
        "[12, 3] True False\n",
        "[13, 3] True False\n",
        "[14, (5, 6)] True True\n"
       ]
      }
     ],
     "prompt_number": 11
    },
    {
     "cell_type": "markdown",
     "metadata": {},
     "source": [
      "# Visualize the network\n",
      "\n",
      "Below, we use NetworkX and matplotlib to visualize the network."
     ]
    },
    {
     "cell_type": "code",
     "collapsed": false,
     "input": [
      "G = nx.DiGraph()"
     ],
     "language": "python",
     "metadata": {},
     "outputs": [],
     "prompt_number": 12
    },
    {
     "cell_type": "code",
     "collapsed": false,
     "input": [
      "for virus in e.GetViruses():\n",
      "    parent = virus.GetParent()\n",
      "    child = virus.GetID()\n",
      "    if parent == None:\n",
      "        G.add_node(child)\n",
      "    elif type(parent) == int:\n",
      "        G.add_edge(parent, child, weight=1)\n",
      "    elif len(parent) == 2:\n",
      "        G.add_edge(parent[0], child, weight=0.5)\n",
      "        G.add_edge(parent[1], child, weight=0.5)\n"
     ],
     "language": "python",
     "metadata": {},
     "outputs": [],
     "prompt_number": 13
    },
    {
     "cell_type": "code",
     "collapsed": false,
     "input": [
      "G.nodes()"
     ],
     "language": "python",
     "metadata": {},
     "outputs": [
      {
       "metadata": {},
       "output_type": "pyout",
       "prompt_number": 14,
       "text": [
        "[0, 1, 2, 3, 4, 5, 6, 7, 8, 9, 10, 11, 12, 13, 14]"
       ]
      }
     ],
     "prompt_number": 14
    },
    {
     "cell_type": "code",
     "collapsed": false,
     "input": [
      "G.edges()"
     ],
     "language": "python",
     "metadata": {},
     "outputs": [
      {
       "metadata": {},
       "output_type": "pyout",
       "prompt_number": 15,
       "text": [
        "[(0, 2),\n",
        " (0, 4),\n",
        " (1, 11),\n",
        " (1, 2),\n",
        " (1, 3),\n",
        " (1, 5),\n",
        " (2, 8),\n",
        " (3, 12),\n",
        " (3, 13),\n",
        " (3, 6),\n",
        " (4, 9),\n",
        " (5, 14),\n",
        " (6, 14),\n",
        " (6, 7),\n",
        " (7, 10)]"
       ]
      }
     ],
     "prompt_number": 15
    },
    {
     "cell_type": "code",
     "collapsed": false,
     "input": [
      "nx.draw_circular(G)"
     ],
     "language": "python",
     "metadata": {},
     "outputs": [
      {
       "metadata": {},
       "output_type": "display_data",
       "png": "[encoded data removed]",
       "text": [
        "<matplotlib.figure.Figure at 0x1060488d0>"
       ]
      }
     ],
     "prompt_number": 16
    },
    {
     "cell_type": "code",
     "collapsed": false,
     "input": [],
     "language": "python",
     "metadata": {},
     "outputs": [],
     "prompt_number": 16
    }
   ],
   "metadata": {}
  }
 ]
}