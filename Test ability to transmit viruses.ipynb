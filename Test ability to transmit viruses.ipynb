{
 "metadata": {
  "name": "",
  "signature": "sha256:c371f094ecd4b83148e947d511f039008f5b62dd7c3f9d21eb75f1aa7a268b6b"
 },
 "nbformat": 3,
 "nbformat_minor": 0,
 "worksheets": [
  {
   "cells": [
    {
     "cell_type": "code",
     "collapsed": false,
     "input": [
      "from controller import Controller\n",
      "import matplotlib.pyplot as plt"
     ],
     "language": "python",
     "metadata": {},
     "outputs": [],
     "prompt_number": 1
    },
    {
     "cell_type": "code",
     "collapsed": false,
     "input": [
      "c = Controller()\n",
      "c.create_environment(num_hosts=100)\n",
      "i = 0\n",
      "for host in c.environments[0].hosts:\n",
      "    if i < 10:\n",
      "        c.create_virus(host)\n",
      "        i += 1\n",
      "        \n",
      "c.environments[0]"
     ],
     "language": "python",
     "metadata": {},
     "outputs": [
      {
       "metadata": {},
       "output_type": "pyout",
       "prompt_number": 2,
       "text": [
        "Environment 0d921e32e67dade55962ec165664431d690966140c2a20e69ddf36da121233b6c489f3baf57967f52598e0f4d48e60b04e7d864b7adaf7f8630d68e1c42ef382 with 100 hosts."
       ]
      }
     ]
    },
    {
     "cell_type": "code",
     "collapsed": false,
     "input": [
      "timesteps = range(100)\n",
      "\n",
      "num_infected_hosts = []\n",
      "virus_counts = []\n",
      "\n",
      "for i in timesteps:\n",
      "    \n",
      "    c.increment_timestep()\n",
      "    c.make_many_infections_happen(c.environments[0], 1)\n",
      "    \n",
      "    num_infected_hosts.append(c.get_num_of_infected_hosts(c.environments[0]))\n",
      "    virus_counts.append(c.get_host_virus_population(c.environments[0]))\n",
      "    total_viruses = sum(v for v in c.get_host_virus_population(c.environments[0]))\n",
      "    print i, \"%s infected\" % c.get_num_of_infected_hosts(c.environments[0]), \"%s viruses \\n\" % total_viruses"
     ],
     "language": "python",
     "metadata": {},
     "outputs": [
      {
       "output_type": "stream",
       "stream": "stdout",
       "text": [
        "0 9 infected 61 viruses \n",
        "\n",
        "1"
       ]
      },
      {
       "output_type": "stream",
       "stream": "stdout",
       "text": [
        " 9 infected 165 viruses \n",
        "\n",
        "2"
       ]
      },
      {
       "output_type": "stream",
       "stream": "stdout",
       "text": [
        " 9 infected 441 viruses \n",
        "\n",
        "3"
       ]
      },
      {
       "output_type": "stream",
       "stream": "stdout",
       "text": [
        " 10 infected 647 viruses \n",
        "\n",
        "4"
       ]
      },
      {
       "output_type": "stream",
       "stream": "stdout",
       "text": [
        " 11 infected 1239 viruses \n",
        "\n",
        "5"
       ]
      },
      {
       "output_type": "stream",
       "stream": "stdout",
       "text": [
        " 12 infected 1750 viruses \n",
        "\n",
        "6"
       ]
      },
      {
       "output_type": "stream",
       "stream": "stdout",
       "text": [
        " 13 infected 2536 viruses \n",
        "\n",
        "7"
       ]
      },
      {
       "output_type": "stream",
       "stream": "stdout",
       "text": [
        " 14 infected 4078 viruses \n",
        "\n",
        "8"
       ]
      },
      {
       "output_type": "stream",
       "stream": "stdout",
       "text": [
        " 15 infected 3168 viruses \n",
        "\n",
        "9"
       ]
      },
      {
       "output_type": "stream",
       "stream": "stdout",
       "text": [
        " 16 infected 2141 viruses \n",
        "\n",
        "10"
       ]
      },
      {
       "output_type": "stream",
       "stream": "stdout",
       "text": [
        " 17 infected 2614 viruses \n",
        "\n",
        "11"
       ]
      },
      {
       "output_type": "stream",
       "stream": "stdout",
       "text": [
        " 17 infected 2692 viruses \n",
        "\n",
        "12"
       ]
      },
      {
       "output_type": "stream",
       "stream": "stdout",
       "text": [
        " 18 infected 2342 viruses \n",
        "\n",
        "13"
       ]
      },
      {
       "output_type": "stream",
       "stream": "stdout",
       "text": [
        " 19 infected 2099 viruses \n",
        "\n",
        "14"
       ]
      },
      {
       "output_type": "stream",
       "stream": "stdout",
       "text": [
        " 20 infected 2186 viruses \n",
        "\n",
        "15"
       ]
      }
     ]
    },
    {
     "cell_type": "code",
     "collapsed": false,
     "input": [
      "print num_infected_hosts\n",
      "# print virus_counts"
     ],
     "language": "python",
     "metadata": {},
     "outputs": []
    },
    {
     "cell_type": "code",
     "collapsed": false,
     "input": [
      "plt.plot(num_infected_hosts)\n",
      "plt.ylim(0, max(num_infected_hosts))\n",
      "plt.show()"
     ],
     "language": "python",
     "metadata": {},
     "outputs": []
    },
    {
     "cell_type": "code",
     "collapsed": false,
     "input": [
      "plt.plot(virus_counts)\n",
      "plt.show()"
     ],
     "language": "python",
     "metadata": {},
     "outputs": []
    },
    {
     "cell_type": "code",
     "collapsed": false,
     "input": [],
     "language": "python",
     "metadata": {},
     "outputs": []
    },
    {
     "cell_type": "code",
     "collapsed": false,
     "input": [],
     "language": "python",
     "metadata": {},
     "outputs": []
    }
   ],
   "metadata": {}
  }
 ]
}