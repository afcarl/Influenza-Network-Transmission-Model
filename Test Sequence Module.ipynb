{
 "metadata": {
  "name": "",
  "signature": "sha256:c17309a9981b682f18795d1702e76468710d54c45b04e2aedac43ccbcf39c4e0"
 },
 "nbformat": 3,
 "nbformat_minor": 0,
 "worksheets": [
  {
   "cells": [
    {
     "cell_type": "code",
     "collapsed": false,
     "input": [
      "from sequence import Sequence"
     ],
     "language": "python",
     "metadata": {},
     "outputs": [],
     "prompt_number": 1
    },
    {
     "cell_type": "code",
     "collapsed": false,
     "input": [
      "sequence = Sequence()"
     ],
     "language": "python",
     "metadata": {},
     "outputs": [],
     "prompt_number": 2
    },
    {
     "cell_type": "code",
     "collapsed": false,
     "input": [
      "sequence"
     ],
     "language": "python",
     "metadata": {},
     "outputs": [
      {
       "metadata": {},
       "output_type": "pyout",
       "prompt_number": 3,
       "text": [
        "TGCCAACGAG"
       ]
      }
     ],
     "prompt_number": 3
    },
    {
     "cell_type": "code",
     "collapsed": false,
     "input": [
      "sequence2 = Sequence(length=300)\n",
      "sequence2"
     ],
     "language": "python",
     "metadata": {},
     "outputs": [
      {
       "metadata": {},
       "output_type": "pyout",
       "prompt_number": 4,
       "text": [
        "TGTGGTGCCCCAATACGGTACGGTTCCTTCTACACTAATATTCGGTACGTGCTCTACATTGTGAGCCAGCCCGGAGATTAGAAGACATGTATTGAAAGCAGAATTCCGGCAAATTATTTCCAATCGGTGGGATCAGGGAGCGGTTCCGGGGCCGAAAAACAGAGACGTGAGGATATCTGACCTAACTAGGCACATGGGGGTTAGCCACCACGGTTTGAAGCTTGGCTCTGGAGTCAACCCACCCGGACGCCGGCCATTTCAAGCTGGAGCCACTTAAGCACAGTGCAAATGGCTAATGAG"
       ]
      }
     ],
     "prompt_number": 4
    },
    {
     "cell_type": "code",
     "collapsed": false,
     "input": [
      "sequence3 = Sequence(sequence='ATGC')\n",
      "sequence3"
     ],
     "language": "python",
     "metadata": {},
     "outputs": [
      {
       "metadata": {},
       "output_type": "pyout",
       "prompt_number": 5,
       "text": [
        "ATGC"
       ]
      }
     ],
     "prompt_number": 5
    },
    {
     "cell_type": "code",
     "collapsed": false,
     "input": [
      "sequence2.Mutate(num_positions=10)\n",
      "sequence2"
     ],
     "language": "python",
     "metadata": {},
     "outputs": [
      {
       "output_type": "stream",
       "stream": "stdout",
       "text": [
        "[78, 277, 241, 159, 192, 283, 246, 278, 229, 257]\n"
       ]
      },
      {
       "metadata": {},
       "output_type": "pyout",
       "prompt_number": 6,
       "text": [
        "TGTGGTGCCCCAATACGGTACGGTTCCTTCTACACTAATATTCGGTACGTGCTCTACATTGTGAGCCAGCCCGGAGATCAGAAGACATGTATTGAAAGCAGAATTCCGGCAAATTATTTCCAATCGGTGGGATCAGGGAGCGGTTCCGGGGCCGAAAAAGAGAGACGTGAGGATATCTGACCTAACTAGGCAAATGGGGGTTAGCCACCACGGTTTGAAGCTTGGCTCTTGAGTCAACCCATCCGGCCGCCGGCCATGTCAAGCTGGAGCCACTTAACTACAGAGCAAATGGCTAATGAG"
       ]
      }
     ],
     "prompt_number": 6
    },
    {
     "cell_type": "code",
     "collapsed": false,
     "input": [],
     "language": "python",
     "metadata": {},
     "outputs": [],
     "prompt_number": 6
    }
   ],
   "metadata": {}
  }
 ]
}