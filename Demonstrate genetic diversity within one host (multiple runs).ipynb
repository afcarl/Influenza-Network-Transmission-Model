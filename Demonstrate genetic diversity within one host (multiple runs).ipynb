{
 "metadata": {
  "name": "",
  "signature": "sha256:a97d5162523b63022c3f2c6828f1efb4a8d760f964e3d532562019dc5bdc2e84"
 },
 "nbformat": 3,
 "nbformat_minor": 0,
 "worksheets": [
  {
   "cells": [
    {
     "cell_type": "code",
     "collapsed": false,
     "input": [
      "from controller import Controller\n",
      "import numpy as np"
     ],
     "language": "python",
     "metadata": {},
     "outputs": [],
     "prompt_number": 5
    },
    {
     "cell_type": "code",
     "collapsed": false,
     "input": [
      "# This will be used for plotting genetic distances vs. time\n",
      "\n",
      "runs = 10\n",
      "time_max_spread = []\n",
      "max_spread_vals = []\n",
      "\n",
      "for i in range(runs):\n",
      "    \n",
      "    d = Controller()\n",
      "    d.create_environment()\n",
      "    d.create_host(d.environments[0])\n",
      "    d.create_virus(d.environments[0].hosts[0])\n",
      "\n",
      "    distances = []\n",
      "    times = []\n",
      "\n",
      "    viral_loads = []\n",
      "    average_distances = []\n",
      "    distance_stdev = []\n",
      "    timers = []\n",
      "\n",
      "    timesteps = 30\n",
      "    # i = 0\n",
      "    for i in range(timesteps):\n",
      "    #     i += 1\n",
      "        d.increment_timestep()\n",
      "        hamming_distances = d.get_hamming_distances(d.environments[0].hosts[0].viruses)\n",
      "\n",
      "        if len(hamming_distances) > 0:\n",
      "            for distance in hamming_distances:\n",
      "                distances.append(distance)\n",
      "                times.append(i)\n",
      "        if len(hamming_distances) == 0:\n",
      "            times.append(i)\n",
      "            distances.append(0)\n",
      "\n",
      "\n",
      "        viral_loads.append(d.get_host_virus_population(d.environments[0]))\n",
      "\n",
      "        s = sum(distance for distance in hamming_distances)\n",
      "        n = float(len(d.environments[0].hosts[0].viruses))\n",
      "        timers.append(i)\n",
      "\n",
      "        if n > 0:\n",
      "            average_distance = s / (2*n)\n",
      "            average_distances.append(average_distance)\n",
      "            distance_stdev.append(np.std(hamming_distances))\n",
      "\n",
      "\n",
      "        if n == 0:\n",
      "            average_distances.append(0)\n",
      "            distance_stdev.append(0)\n",
      "    \n",
      "    # Append the maximum stdev value to max_spread_values\n",
      "    max_spread = max(distance_stdev)\n",
      "    max_spread_vals.append(max_spread)\n",
      "    \n",
      "    # Append the time of max stdev value to time_max_spread\n",
      "    tms = timers[distance_stdev.index(max_spread)]\n",
      "    time_max_spread.append(tms)"
     ],
     "language": "python",
     "metadata": {},
     "outputs": [],
     "prompt_number": 6
    },
    {
     "cell_type": "code",
     "collapsed": false,
     "input": [
      "print max_spread_vals, time_max_spread\n",
      "print len(max_spread_vals)\n",
      "print len(time_max_spread)"
     ],
     "language": "python",
     "metadata": {},
     "outputs": [
      {
       "output_type": "stream",
       "stream": "stdout",
       "text": [
        "[0.55081806486355045, 0.5830951894845301, 0.0, 0.0, 0, 0.6781419786518722, 0.5, 0.0, 0.36393540579591471, 0.60028285513817514] [6, 9, 0, 0, 0, 23, 12, 0, 2, 10]\n",
        "10\n",
        "10\n"
       ]
      }
     ],
     "prompt_number": 7
    },
    {
     "cell_type": "code",
     "collapsed": false,
     "input": [
      "plt.figure(0)\n",
      "# plt.plot(average_distances, 'b-', alpha=1, label='Avg Number of Mutations Per Segment')\n",
      "# plt.fill_between(range(len(average_distances)), np.array(average_distances) - np.array(distance_stdev), \n",
      "#                  np.array(average_distances) + np.array(distance_stdev), color='blue', alpha=0.1)\n",
      "plt.scatter(time_max_spread, max_spread_vals, color='blue', alpha=0.1, label='Genetic distance spread')\n",
      "plt.legend(loc=\"best\")\n",
      "plt.xlabel('Time (days)')\n",
      "plt.ylabel('Genetic distance standard deviation')\n",
      "plt.title('Virus Genetic Distance Dynamics')\n",
      "plt.xlim(-1, max(time_max_spread) + 0.1 * max(time_max_spread))\n",
      "plt.ylim(0-0.1*max(max_spread_vals), max(max_spread_vals) + 0.1*max(max_spread_vals))\n",
      "plt.savefig('Kinetic MC/Time of Max Genetic Spread.pdf')\n",
      "plt.show()"
     ],
     "language": "python",
     "metadata": {},
     "outputs": [
      {
       "metadata": {},
       "output_type": "display_data",
       "png": "[encoded data removed]",
       "text": [
        "<matplotlib.figure.Figure at 0x10a4d6f50>"
       ]
      }
     ],
     "prompt_number": 8
    },
    {
     "cell_type": "code",
     "collapsed": false,
     "input": [],
     "language": "python",
     "metadata": {},
     "outputs": [],
     "prompt_number": 8
    }
   ],
   "metadata": {}
  }
 ]
}