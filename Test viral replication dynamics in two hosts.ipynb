{
 "metadata": {
  "name": "",
  "signature": "sha256:26430235ad484f390012286fd17cdae86d358e688f76d5ecdd103f38a820c450"
 },
 "nbformat": 3,
 "nbformat_minor": 0,
 "worksheets": [
  {
   "cells": [
    {
     "cell_type": "markdown",
     "metadata": {},
     "source": [
      "Here, I pass one virus to another host, and see what the replication dynamics are like."
     ]
    },
    {
     "cell_type": "code",
     "collapsed": false,
     "input": [
      "from controller import Controller"
     ],
     "language": "python",
     "metadata": {},
     "outputs": [],
     "prompt_number": 36
    },
    {
     "cell_type": "code",
     "collapsed": false,
     "input": [
      "c = Controller()"
     ],
     "language": "python",
     "metadata": {},
     "outputs": [],
     "prompt_number": 37
    },
    {
     "cell_type": "code",
     "collapsed": false,
     "input": [
      "c.create_environment(num_hosts=2)"
     ],
     "language": "python",
     "metadata": {},
     "outputs": [],
     "prompt_number": 38
    },
    {
     "cell_type": "code",
     "collapsed": false,
     "input": [
      "c.create_virus(host=c.environments[0].hosts[0])"
     ],
     "language": "python",
     "metadata": {},
     "outputs": [],
     "prompt_number": 39
    },
    {
     "cell_type": "code",
     "collapsed": false,
     "input": [
      "virus_counts = []\n",
      "for i in range(30):\n",
      "    print i\n",
      "    c.increment_timestep()\n",
      "    \n",
      "    virus_counts.append(c.get_host_virus_population(c.environments[0]))\n",
      "    \n",
      "    if i == 10:\n",
      "        c.make_one_infection_happen(c.environments[0])"
     ],
     "language": "python",
     "metadata": {},
     "outputs": [
      {
       "output_type": "stream",
       "stream": "stdout",
       "text": [
        "0\n",
        "4 progeny leftover.\n",
        "9 progeny generated.\n",
        "1\n",
        "4 progeny leftover.\n",
        "10 progeny generated."
       ]
      },
      {
       "output_type": "stream",
       "stream": "stdout",
       "text": [
        "\n",
        "2\n",
        "34 progeny leftover.\n",
        "40 progeny generated."
       ]
      },
      {
       "output_type": "stream",
       "stream": "stdout",
       "text": [
        "\n",
        "3\n",
        "104 progeny leftover.\n",
        "105 progeny generated."
       ]
      },
      {
       "output_type": "stream",
       "stream": "stdout",
       "text": [
        "\n",
        "4\n",
        "47 progeny leftover.\n",
        "54 progeny generated."
       ]
      },
      {
       "output_type": "stream",
       "stream": "stdout",
       "text": [
        "\n",
        "5\n",
        "159 progeny leftover.\n",
        "163 progeny generated."
       ]
      },
      {
       "output_type": "stream",
       "stream": "stdout",
       "text": [
        "\n",
        "6\n",
        "169 progeny leftover.\n",
        "173 progeny generated."
       ]
      },
      {
       "output_type": "stream",
       "stream": "stdout",
       "text": [
        "\n",
        "7\n",
        "213 progeny leftover.\n",
        "216 progeny generated."
       ]
      },
      {
       "output_type": "stream",
       "stream": "stdout",
       "text": [
        "\n",
        "8\n",
        "351 progeny leftover.\n",
        "353 progeny generated."
       ]
      },
      {
       "output_type": "stream",
       "stream": "stdout",
       "text": [
        "\n",
        "9\n",
        "460 progeny leftover.\n",
        "466 progeny generated."
       ]
      },
      {
       "output_type": "stream",
       "stream": "stdout",
       "text": [
        "\n",
        "10\n",
        "555 progeny leftover.\n",
        "558 progeny generated."
       ]
      },
      {
       "output_type": "stream",
       "stream": "stdout",
       "text": [
        "\n",
        "11\n",
        "244 progeny leftover.\n",
        "253 progeny generated."
       ]
      },
      {
       "output_type": "stream",
       "stream": "stdout",
       "text": [
        "\n",
        "63 progeny leftover.\n",
        "63 progeny generated."
       ]
      },
      {
       "output_type": "stream",
       "stream": "stdout",
       "text": [
        "\n",
        "12\n",
        "222 progeny leftover.\n",
        "223 progeny generated."
       ]
      },
      {
       "output_type": "stream",
       "stream": "stdout",
       "text": [
        "\n",
        "205 progeny leftover.\n",
        "209 progeny generated."
       ]
      },
      {
       "output_type": "stream",
       "stream": "stdout",
       "text": [
        "\n",
        "13\n",
        "258 progeny leftover.\n",
        "261 progeny generated."
       ]
      },
      {
       "output_type": "stream",
       "stream": "stdout",
       "text": [
        "\n",
        "457 progeny leftover.\n",
        "460 progeny generated."
       ]
      },
      {
       "output_type": "stream",
       "stream": "stdout",
       "text": [
        "\n",
        "14\n",
        "5 progeny leftover.\n",
        "6 progeny generated."
       ]
      },
      {
       "output_type": "stream",
       "stream": "stdout",
       "text": [
        "\n",
        "389 progeny leftover.\n",
        "398 progeny generated."
       ]
      },
      {
       "output_type": "stream",
       "stream": "stdout",
       "text": [
        "\n",
        "15\n",
        "30 progeny leftover.\n",
        "34 progeny generated."
       ]
      },
      {
       "output_type": "stream",
       "stream": "stdout",
       "text": [
        "\n",
        "64 progeny leftover.\n",
        "68 progeny generated."
       ]
      },
      {
       "output_type": "stream",
       "stream": "stdout",
       "text": [
        "\n",
        "16\n",
        "19 progeny leftover.\n",
        "21 progeny generated."
       ]
      },
      {
       "output_type": "stream",
       "stream": "stdout",
       "text": [
        "\n",
        "74 progeny leftover.\n",
        "75 progeny generated."
       ]
      },
      {
       "output_type": "stream",
       "stream": "stdout",
       "text": [
        "\n",
        "17\n",
        "0 progeny leftover.\n",
        "0 progeny generated.\n",
        "227 progeny leftover.\n",
        "233 progeny generated."
       ]
      },
      {
       "output_type": "stream",
       "stream": "stdout",
       "text": [
        "\n",
        "18\n",
        "0 progeny leftover.\n",
        "0 progeny generated.\n",
        "290 progeny leftover.\n",
        "295 progeny generated."
       ]
      },
      {
       "output_type": "stream",
       "stream": "stdout",
       "text": [
        "\n",
        "19\n",
        "39 progeny leftover.\n",
        "43 progeny generated."
       ]
      },
      {
       "output_type": "stream",
       "stream": "stdout",
       "text": [
        "\n",
        "20\n",
        "77 progeny leftover.\n",
        "79 progeny generated."
       ]
      },
      {
       "output_type": "stream",
       "stream": "stdout",
       "text": [
        "\n",
        "21\n",
        "56 progeny leftover.\n",
        "64 progeny generated."
       ]
      },
      {
       "output_type": "stream",
       "stream": "stdout",
       "text": [
        "\n",
        "22\n",
        "68 progeny leftover.\n",
        "68 progeny generated."
       ]
      },
      {
       "output_type": "stream",
       "stream": "stdout",
       "text": [
        "\n",
        "23\n",
        "67 progeny leftover.\n",
        "74 progeny generated."
       ]
      },
      {
       "output_type": "stream",
       "stream": "stdout",
       "text": [
        "\n",
        "24\n",
        "62 progeny leftover.\n",
        "69 progeny generated."
       ]
      },
      {
       "output_type": "stream",
       "stream": "stdout",
       "text": [
        "\n",
        "25\n",
        "45 progeny leftover.\n",
        "46 progeny generated."
       ]
      },
      {
       "output_type": "stream",
       "stream": "stdout",
       "text": [
        "\n",
        "26\n",
        "8 progeny leftover.\n",
        "12 progeny generated."
       ]
      },
      {
       "output_type": "stream",
       "stream": "stdout",
       "text": [
        "\n",
        "27\n",
        "13 progeny leftover.\n",
        "17 progeny generated."
       ]
      },
      {
       "output_type": "stream",
       "stream": "stdout",
       "text": [
        "\n",
        "28\n",
        "16 progeny leftover.\n",
        "25 progeny generated."
       ]
      },
      {
       "output_type": "stream",
       "stream": "stdout",
       "text": [
        "\n",
        "29\n",
        "0 progeny leftover.\n",
        "0 progeny generated.\n"
       ]
      }
     ],
     "prompt_number": 40
    },
    {
     "cell_type": "code",
     "collapsed": false,
     "input": [
      "plt.plot(virus_counts)\n",
      "plt.show()"
     ],
     "language": "python",
     "metadata": {},
     "outputs": [
      {
       "metadata": {},
       "output_type": "display_data",
       "png": "[encoded data removed]",
       "text": [
        "<matplotlib.figure.Figure at 0x1060a2c50>"
       ]
      }
     ],
     "prompt_number": 41
    },
    {
     "cell_type": "code",
     "collapsed": false,
     "input": [
      "virus_counts"
     ],
     "language": "python",
     "metadata": {},
     "outputs": [
      {
       "metadata": {},
       "output_type": "pyout",
       "prompt_number": 42,
       "text": [
        "[[10, 0],\n",
        " [13, 0],\n",
        " [48, 0],\n",
        " [126, 0],\n",
        " [89, 0],\n",
        " [179, 0],\n",
        " [210, 0],\n",
        " [269, 0],\n",
        " [396, 0],\n",
        " [534, 0],\n",
        " [652, 0],\n",
        " [341, 70],\n",
        " [262, 240],\n",
        " [290, 546],\n",
        " [38, 582],\n",
        " [40, 228],\n",
        " [27, 124],\n",
        " [1, 266],\n",
        " [0, 338],\n",
        " [0, 106],\n",
        " [0, 97],\n",
        " [0, 82],\n",
        " [0, 82],\n",
        " [0, 83],\n",
        " [0, 81],\n",
        " [0, 56],\n",
        " [0, 18],\n",
        " [0, 20],\n",
        " [0, 26],\n",
        " [0, 2]]"
       ]
      }
     ],
     "prompt_number": 42
    },
    {
     "cell_type": "code",
     "collapsed": false,
     "input": [],
     "language": "python",
     "metadata": {},
     "outputs": [],
     "prompt_number": 42
    }
   ],
   "metadata": {}
  }
 ]
}