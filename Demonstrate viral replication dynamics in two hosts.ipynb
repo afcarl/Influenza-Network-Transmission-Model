{
 "metadata": {
  "name": "",
  "signature": "sha256:c7ede2dfbac2cb4e4340c8182ef8d2b7c54bacdfdc1794104701c14e03430a79"
 },
 "nbformat": 3,
 "nbformat_minor": 0,
 "worksheets": [
  {
   "cells": [
    {
     "cell_type": "markdown",
     "metadata": {},
     "source": [
      "Here, I pass one virus to another host, and see what the replication dynamics are like."
     ]
    },
    {
     "cell_type": "code",
     "collapsed": false,
     "input": [
      "from controller import Controller"
     ],
     "language": "python",
     "metadata": {},
     "outputs": [],
     "prompt_number": 13
    },
    {
     "cell_type": "code",
     "collapsed": false,
     "input": [
      "c = Controller()"
     ],
     "language": "python",
     "metadata": {},
     "outputs": [],
     "prompt_number": 14
    },
    {
     "cell_type": "code",
     "collapsed": false,
     "input": [
      "c.create_environment(num_hosts=2)"
     ],
     "language": "python",
     "metadata": {},
     "outputs": [
      {
       "output_type": "stream",
       "stream": "stdout",
       "text": [
        "Adding host ef073... to environment 632e2...\n",
        "Adding host 351b3... to environment 632e2...\n",
        "Creating environment 632e2...\n"
       ]
      }
     ],
     "prompt_number": 15
    },
    {
     "cell_type": "code",
     "collapsed": false,
     "input": [
      "c.create_virus(host=c.environments[0].hosts[0])"
     ],
     "language": "python",
     "metadata": {},
     "outputs": [
      {
       "output_type": "stream",
       "stream": "stdout",
       "text": [
        "Creating virus 4680e...\n"
       ]
      }
     ],
     "prompt_number": 16
    },
    {
     "cell_type": "code",
     "collapsed": false,
     "input": [
      "virus_counts = []\n",
      "for i in range(40):\n",
      "    c.increment_timestep()\n",
      "    \n",
      "    virus_counts.append(c.get_host_virus_population(c.environments[0]))\n",
      "    \n",
      "    if i == 10:\n",
      "        c.make_one_infection_happen(c.environments[0])"
     ],
     "language": "python",
     "metadata": {},
     "outputs": [
      {
       "output_type": "stream",
       "stream": "stdout",
       "text": [
        "Current time is 0. Incrementing time to 1\n",
        "Generating 6 progeny in host ef073...\n",
        "10 progeny have been made from virus 4680e in host ef073\n",
        "10 progeny generated in host ef073.\n",
        "Current time is 1. Incrementing time to 2\n",
        "Generating 1 progeny in host ef073...\n",
        "10 progeny have been made from virus 7accf in host ef073\n",
        "10 progeny generated in host ef073.\n",
        "Current time is 2. Incrementing time to 3\n",
        "Generating 24 progeny in host ef073...\n",
        "9 progeny have been made from virus 778a8 in host ef073"
       ]
      },
      {
       "output_type": "stream",
       "stream": "stdout",
       "text": [
        "\n",
        "9 progeny have been made from virus 6f79a in host ef073\n",
        "8 progeny have been made from virus 7671c in host ef073\n",
        "26 progeny generated in host ef073.\n",
        "Current time is 3. Incrementing time to 4\n",
        "Generating 47 progeny in host ef073...\n",
        "9 progeny have been made from virus 6236f in host ef073"
       ]
      },
      {
       "output_type": "stream",
       "stream": "stdout",
       "text": [
        "\n",
        "7 progeny have been made from virus 59192 in host ef073\n",
        "8 progeny have been made from virus f24dc in host ef073\n",
        "7 progeny have been made from virus c905c in host ef073\n",
        "9 progeny have been made from virus e2d22 in host ef073"
       ]
      },
      {
       "output_type": "stream",
       "stream": "stdout",
       "text": [
        "\n",
        "8 progeny have been made from virus 1c481 in host ef073\n",
        "48 progeny generated in host ef073.\n",
        "Current time is 4. Incrementing time to 5\n",
        "Generating 74 progeny in host ef073...\n",
        "10 progeny have been made from virus da6bc in host ef073\n",
        "8 progeny have been made from virus d57fd in host ef073"
       ]
      },
      {
       "output_type": "stream",
       "stream": "stdout",
       "text": [
        "\n",
        "7 progeny have been made from virus 1a6f8 in host ef073\n",
        "9 progeny have been made from virus 6dc72 in host ef073\n",
        "7 progeny have been made from virus 25d40 in host ef073"
       ]
      },
      {
       "output_type": "stream",
       "stream": "stdout",
       "text": [
        "\n",
        "7 progeny have been made from virus f6f32 in host ef073\n",
        "6 progeny have been made from virus 47489 in host ef073\n",
        "9 progeny have been made from virus 1ba69 in host ef073\n",
        "9 progeny have been made from virus e05e9 in host ef073"
       ]
      },
      {
       "output_type": "stream",
       "stream": "stdout",
       "text": [
        "\n",
        "7 progeny have been made from virus 59192 in host ef073\n",
        "79 progeny generated in host ef073.\n",
        "Current time is 5. Incrementing time to 6\n",
        "Generating 38 progeny in host ef073...\n",
        "7 progeny have been made from virus 62fa7 in host ef073\n",
        "10 progeny have been made from virus 83f9c in host ef073"
       ]
      },
      {
       "output_type": "stream",
       "stream": "stdout",
       "text": [
        "\n",
        "8 progeny have been made from virus 1cf9b in host ef073\n",
        "7 progeny have been made from virus 78b35 in host ef073\n",
        "8 progeny have been made from virus a2011 in host ef073"
       ]
      },
      {
       "output_type": "stream",
       "stream": "stdout",
       "text": [
        "\n",
        "40 progeny generated in host ef073.\n",
        "Current time is 6. Incrementing time to 7\n",
        "Generating 40 progeny in host ef073...\n",
        "10 progeny have been made from virus 2e1a9 in host ef073\n",
        "9 progeny have been made from virus 9e92b in host ef073"
       ]
      },
      {
       "output_type": "stream",
       "stream": "stdout",
       "text": [
        "\n",
        "9 progeny have been made from virus 94df7 in host ef073\n",
        "10 progeny have been made from virus 7c9a5 in host ef073"
       ]
      },
      {
       "output_type": "stream",
       "stream": "stdout",
       "text": [
        "\n",
        "7 progeny have been made from virus 657dd in host ef073\n",
        "45 progeny generated in host ef073.\n",
        "Current time is 7. Incrementing time to 8\n",
        "Generating 22 progeny in host ef073...\n",
        "9 progeny have been made from virus 6d903 in host ef073"
       ]
      },
      {
       "output_type": "stream",
       "stream": "stdout",
       "text": [
        "\n",
        "7 progeny have been made from virus 95590 in host ef073\n",
        "5 progeny have been made from virus 227cd in host ef073\n",
        "6 progeny have been made from virus 9e92b in host ef073"
       ]
      },
      {
       "output_type": "stream",
       "stream": "stdout",
       "text": [
        "\n",
        "27 progeny generated in host ef073.\n",
        "Current time is 8. Incrementing time to 9\n",
        "Generating 41 progeny in host ef073...\n",
        "5 progeny have been made from virus 21ae9 in host ef073\n",
        "9 progeny have been made from virus df694 in host ef073\n",
        "7 progeny have been made from virus 2ba4c in host ef073"
       ]
      },
      {
       "output_type": "stream",
       "stream": "stdout",
       "text": [
        "\n",
        "8 progeny have been made from virus 2df61 in host ef073\n",
        "8 progeny have been made from virus 08e38 in host ef073\n",
        "7 progeny have been made from virus af702 in host ef073"
       ]
      },
      {
       "output_type": "stream",
       "stream": "stdout",
       "text": [
        "\n",
        "44 progeny generated in host ef073.\n",
        "Current time is 9. Incrementing time to 10\n",
        "Generating 46 progeny in host ef073...\n",
        "8 progeny have been made from virus 6e83c in host ef073\n",
        "6 progeny have been made from virus 2c92d in host ef073\n",
        "7 progeny have been made from virus 6e83c in host ef073"
       ]
      },
      {
       "output_type": "stream",
       "stream": "stdout",
       "text": [
        "\n",
        "8 progeny have been made from virus 570e7 in host ef073\n",
        "5 progeny have been made from virus c0b6c in host ef073\n",
        "5 progeny have been made from virus 6e83c in host ef073"
       ]
      },
      {
       "output_type": "stream",
       "stream": "stdout",
       "text": [
        "\n",
        "10 progeny have been made from virus c776f in host ef073\n",
        "49 progeny generated in host ef073.\n",
        "Current time is 10. Incrementing time to 11\n",
        "Generating 28 progeny in host ef073...\n",
        "8 progeny have been made from virus 993e4 in host ef073"
       ]
      },
      {
       "output_type": "stream",
       "stream": "stdout",
       "text": [
        "\n",
        "8 progeny have been made from virus 5a61d in host ef073\n",
        "7 progeny have been made from virus dfaa2 in host ef073"
       ]
      },
      {
       "output_type": "stream",
       "stream": "stdout",
       "text": [
        "\n",
        "8 progeny have been made from virus 5f69e in host ef073\n",
        "31 progeny generated in host ef073.\n",
        "Current time is 11. Incrementing time to 12\n",
        "Generating 22 progeny in host ef073...\n",
        "6 progeny have been made from virus f44a0 in host ef073\n",
        "5 progeny have been made from virus b6403 in host ef073"
       ]
      },
      {
       "output_type": "stream",
       "stream": "stdout",
       "text": [
        "\n",
        "10 progeny have been made from virus ff112 in host ef073\n",
        "10 progeny have been made from virus f1aa1 in host ef073"
       ]
      },
      {
       "output_type": "stream",
       "stream": "stdout",
       "text": [
        "\n",
        "31 progeny generated in host ef073.\n",
        "Generating 13 progeny in host 351b3...\n",
        "7 progeny have been made from virus 8c563 in host 351b3\n",
        "6 progeny have been made from virus 8c563 in host 351b3\n",
        "13 progeny generated in host 351b3.\n",
        "Current time is 12. Incrementing time to 13\n",
        "Generating 6 progeny in host ef073...\n",
        "8 progeny have been made from virus e9483 in host ef073"
       ]
      },
      {
       "output_type": "stream",
       "stream": "stdout",
       "text": [
        "\n",
        "8 progeny generated in host ef073.\n",
        "Generating 68 progeny in host 351b3...\n",
        "7 progeny have been made from virus 836b6 in host 351b3\n",
        "9 progeny have been made from virus b1f30 in host 351b3"
       ]
      },
      {
       "output_type": "stream",
       "stream": "stdout",
       "text": [
        "\n",
        "7 progeny have been made from virus fd1e6 in host 351b3\n",
        "8 progeny have been made from virus 46f20 in host 351b3\n",
        "5 progeny have been made from virus c66dd in host 351b3"
       ]
      },
      {
       "output_type": "stream",
       "stream": "stdout",
       "text": [
        "\n",
        "10 progeny have been made from virus 394b6 in host 351b3\n",
        "10 progeny have been made from virus 42a41 in host 351b3"
       ]
      },
      {
       "output_type": "stream",
       "stream": "stdout",
       "text": [
        "\n",
        "9 progeny have been made from virus fd1e6 in host 351b3\n",
        "10 progeny have been made from virus 85dc8 in host 351b3"
       ]
      },
      {
       "output_type": "stream",
       "stream": "stdout",
       "text": [
        "\n",
        "75 progeny generated in host 351b3.\n",
        "Current time is 13. Incrementing time to 14\n",
        "Generating 11 progeny in host ef073...\n",
        "8 progeny have been made from virus 5e5d7 in host ef073\n",
        "9 progeny have been made from virus 9f64c in host ef073"
       ]
      },
      {
       "output_type": "stream",
       "stream": "stdout",
       "text": [
        "\n",
        "17 progeny generated in host ef073.\n",
        "Generating 161 progeny in host 351b3...\n",
        "6 progeny have been made from virus 0ed11 in host 351b3\n",
        "9 progeny have been made from virus 394b6 in host 351b3"
       ]
      },
      {
       "output_type": "stream",
       "stream": "stdout",
       "text": [
        "\n",
        "9 progeny have been made from virus 99af3 in host 351b3\n",
        "6 progeny have been made from virus bbdc2 in host 351b3"
       ]
      },
      {
       "output_type": "stream",
       "stream": "stdout",
       "text": [
        "\n",
        "7 progeny have been made from virus f76b8 in host 351b3\n",
        "9 progeny have been made from virus 46f20 in host 351b3"
       ]
      },
      {
       "output_type": "stream",
       "stream": "stdout",
       "text": [
        "\n",
        "9 progeny have been made from virus 45b9d in host 351b3\n",
        "6 progeny have been made from virus 0dc73 in host 351b3"
       ]
      },
      {
       "output_type": "stream",
       "stream": "stdout",
       "text": [
        "\n",
        "6 progeny have been made from virus 46f20 in host 351b3\n",
        "5 progeny have been made from virus 6d325 in host 351b3"
       ]
      },
      {
       "output_type": "stream",
       "stream": "stdout",
       "text": [
        "\n",
        "8 progeny have been made from virus 42f97 in host 351b3\n",
        "5 progeny have been made from virus 13bed in host 351b3"
       ]
      },
      {
       "output_type": "stream",
       "stream": "stdout",
       "text": [
        "\n",
        "8 progeny have been made from virus 17649 in host 351b3\n",
        "8 progeny have been made from virus 2ae26 in host 351b3"
       ]
      },
      {
       "output_type": "stream",
       "stream": "stdout",
       "text": [
        "\n",
        "5 progeny have been made from virus 3ab0f in host 351b3\n",
        "8 progeny have been made from virus 1d9b2 in host 351b3"
       ]
      },
      {
       "output_type": "stream",
       "stream": "stdout",
       "text": [
        "\n",
        "6 progeny have been made from virus 42f97 in host 351b3\n",
        "7 progeny have been made from virus 48cdb in host 351b3"
       ]
      },
      {
       "output_type": "stream",
       "stream": "stdout",
       "text": [
        "\n",
        "8 progeny have been made from virus 66f16 in host 351b3\n",
        "10 progeny have been made from virus a2f9d in host 351b3"
       ]
      },
      {
       "output_type": "stream",
       "stream": "stdout",
       "text": [
        "\n",
        "5 progeny have been made from virus 48cdb in host 351b3\n",
        "6 progeny have been made from virus 9699c in host 351b3"
       ]
      },
      {
       "output_type": "stream",
       "stream": "stdout",
       "text": [
        "\n",
        "10 progeny have been made from virus 6844a in host 351b3"
       ]
      },
      {
       "output_type": "stream",
       "stream": "stdout",
       "text": [
        "\n",
        "166 progeny generated in host 351b3.\n",
        "Current time is 14. Incrementing time to 15\n",
        "Generating 1 progeny in host ef073...\n",
        "5 progeny have been made from virus aa1b8 in host ef073\n",
        "5 progeny generated in host ef073.\n",
        "Generating 351 progeny in host 351b3...\n",
        "10 progeny have been made from virus c29ad in host 351b3"
       ]
      },
      {
       "output_type": "stream",
       "stream": "stdout",
       "text": [
        "\n",
        "5 progeny have been made from virus 0a185 in host 351b3\n",
        "9 progeny have been made from virus 387a8 in host 351b3"
       ]
      },
      {
       "output_type": "stream",
       "stream": "stdout",
       "text": [
        "\n",
        "6 progeny have been made from virus 394b6 in host 351b3\n",
        "8 progeny have been made from virus 91b5d in host 351b3"
       ]
      },
      {
       "output_type": "stream",
       "stream": "stdout",
       "text": [
        "\n",
        "9 progeny have been made from virus d760a in host 351b3"
       ]
      },
      {
       "output_type": "stream",
       "stream": "stdout",
       "text": [
        "\n",
        "10 progeny have been made from virus 394b6 in host 351b3"
       ]
      },
      {
       "output_type": "stream",
       "stream": "stdout",
       "text": [
        "\n",
        "5 progeny have been made from virus 15427 in host 351b3\n",
        "5 progeny have been made from virus 0470a in host 351b3"
       ]
      },
      {
       "output_type": "stream",
       "stream": "stdout",
       "text": [
        "\n",
        "8 progeny have been made from virus 3c375 in host 351b3"
       ]
      },
      {
       "output_type": "stream",
       "stream": "stdout",
       "text": [
        "\n",
        "7 progeny have been made from virus 2936e in host 351b3\n",
        "8 progeny have been made from virus 12ad0 in host 351b3"
       ]
      },
      {
       "output_type": "stream",
       "stream": "stdout",
       "text": [
        "\n",
        "8 progeny have been made from virus ef425 in host 351b3"
       ]
      },
      {
       "output_type": "stream",
       "stream": "stdout",
       "text": [
        "\n",
        "7 progeny have been made from virus da2ea in host 351b3\n",
        "5 progeny have been made from virus 73c0d in host 351b3"
       ]
      },
      {
       "output_type": "stream",
       "stream": "stdout",
       "text": [
        "\n",
        "10 progeny have been made from virus c52a2 in host 351b3"
       ]
      },
      {
       "output_type": "stream",
       "stream": "stdout",
       "text": [
        "\n",
        "9 progeny have been made from virus c7683 in host 351b3"
       ]
      },
      {
       "output_type": "stream",
       "stream": "stdout",
       "text": [
        "\n",
        "6 progeny have been made from virus 483da in host 351b3\n",
        "10 progeny have been made from virus a460b in host 351b3"
       ]
      },
      {
       "output_type": "stream",
       "stream": "stdout",
       "text": [
        "\n",
        "10 progeny have been made from virus cfde2 in host 351b3"
       ]
      },
      {
       "output_type": "stream",
       "stream": "stdout",
       "text": [
        "\n",
        "5 progeny have been made from virus 27790 in host 351b3\n",
        "6 progeny have been made from virus d760a in host 351b3"
       ]
      },
      {
       "output_type": "stream",
       "stream": "stdout",
       "text": [
        "\n",
        "7 progeny have been made from virus ab48b in host 351b3\n",
        "6 progeny have been made from virus b4a24 in host 351b3"
       ]
      },
      {
       "output_type": "stream",
       "stream": "stdout",
       "text": [
        "\n",
        "6 progeny have been made from virus cfb25 in host 351b3\n",
        "7 progeny have been made from virus 0a8b4 in host 351b3"
       ]
      },
      {
       "output_type": "stream",
       "stream": "stdout",
       "text": [
        "\n",
        "6 progeny have been made from virus 328b9 in host 351b3\n",
        "5 progeny have been made from virus 19739 in host 351b3"
       ]
      },
      {
       "output_type": "stream",
       "stream": "stdout",
       "text": [
        "\n",
        "7 progeny have been made from virus 78031 in host 351b3"
       ]
      },
      {
       "output_type": "stream",
       "stream": "stdout",
       "text": [
        "\n",
        "6 progeny have been made from virus a7e3b in host 351b3\n",
        "5 progeny have been made from virus ab48b in host 351b3"
       ]
      },
      {
       "output_type": "stream",
       "stream": "stdout",
       "text": [
        "\n",
        "6 progeny have been made from virus f96d4 in host 351b3\n",
        "9 progeny have been made from virus c7683 in host 351b3"
       ]
      },
      {
       "output_type": "stream",
       "stream": "stdout",
       "text": [
        "\n",
        "8 progeny have been made from virus eebea in host 351b3"
       ]
      },
      {
       "output_type": "stream",
       "stream": "stdout",
       "text": [
        "\n",
        "6 progeny have been made from virus fb7cc in host 351b3\n",
        "6 progeny have been made from virus b7a71 in host 351b3"
       ]
      },
      {
       "output_type": "stream",
       "stream": "stdout",
       "text": [
        "\n",
        "8 progeny have been made from virus ab48b in host 351b3"
       ]
      },
      {
       "output_type": "stream",
       "stream": "stdout",
       "text": [
        "\n",
        "10 progeny have been made from virus c8ede in host 351b3"
       ]
      },
      {
       "output_type": "stream",
       "stream": "stdout",
       "text": [
        "\n",
        "9 progeny have been made from virus ab6a2 in host 351b3"
       ]
      },
      {
       "output_type": "stream",
       "stream": "stdout",
       "text": [
        "\n",
        "7 progeny have been made from virus 387a8 in host 351b3"
       ]
      },
      {
       "output_type": "stream",
       "stream": "stdout",
       "text": [
        "\n",
        "5 progeny have been made from virus d8ea9 in host 351b3\n",
        "10 progeny have been made from virus 5998c in host 351b3"
       ]
      },
      {
       "output_type": "stream",
       "stream": "stdout",
       "text": [
        "\n",
        "10 progeny have been made from virus f5786 in host 351b3"
       ]
      },
      {
       "output_type": "stream",
       "stream": "stdout",
       "text": [
        "\n",
        "7 progeny have been made from virus 85a5a in host 351b3"
       ]
      },
      {
       "output_type": "stream",
       "stream": "stdout",
       "text": [
        "\n",
        "6 progeny have been made from virus da2ea in host 351b3\n",
        "6 progeny have been made from virus cd12d in host 351b3"
       ]
      },
      {
       "output_type": "stream",
       "stream": "stdout",
       "text": [
        "\n",
        "10 progeny have been made from virus 2a586 in host 351b3"
       ]
      },
      {
       "output_type": "stream",
       "stream": "stdout",
       "text": [
        "\n",
        "7 progeny have been made from virus 0fbef in host 351b3"
       ]
      },
      {
       "output_type": "stream",
       "stream": "stdout",
       "text": [
        "\n",
        "351 progeny generated in host 351b3.\n",
        "Current time is 15. Incrementing time to 16\n",
        "Generating 2 progeny in host ef073...\n",
        "10 progeny have been made from virus b8378 in host ef073"
       ]
      },
      {
       "output_type": "stream",
       "stream": "stdout",
       "text": [
        "\n",
        "10 progeny generated in host ef073.\n",
        "Generating 322 progeny in host 351b3...\n",
        "9 progeny have been made from virus b1edb in host 351b3"
       ]
      },
      {
       "output_type": "stream",
       "stream": "stdout",
       "text": [
        "\n",
        "10 progeny have been made from virus 9eac6 in host 351b3"
       ]
      },
      {
       "output_type": "stream",
       "stream": "stdout",
       "text": [
        "\n",
        "7 progeny have been made from virus 6f594 in host 351b3\n",
        "9 progeny have been made from virus c7683 in host 351b3"
       ]
      },
      {
       "output_type": "stream",
       "stream": "stdout",
       "text": [
        "\n",
        "8 progeny have been made from virus 2409b in host 351b3"
       ]
      },
      {
       "output_type": "stream",
       "stream": "stdout",
       "text": [
        "\n",
        "9 progeny have been made from virus b3a95 in host 351b3"
       ]
      },
      {
       "output_type": "stream",
       "stream": "stdout",
       "text": [
        "\n",
        "6 progeny have been made from virus 17a85 in host 351b3\n",
        "6 progeny have been made from virus 7f0e6 in host 351b3"
       ]
      },
      {
       "output_type": "stream",
       "stream": "stdout",
       "text": [
        "\n",
        "9 progeny have been made from virus 5f8e5 in host 351b3"
       ]
      },
      {
       "output_type": "stream",
       "stream": "stdout",
       "text": [
        "\n",
        "5 progeny have been made from virus 2bbc6 in host 351b3\n",
        "10 progeny have been made from virus 73714 in host 351b3"
       ]
      },
      {
       "output_type": "stream",
       "stream": "stdout",
       "text": [
        "\n",
        "5 progeny have been made from virus 86481 in host 351b3\n",
        "10 progeny have been made from virus 3828e in host 351b3"
       ]
      },
      {
       "output_type": "stream",
       "stream": "stdout",
       "text": [
        "\n",
        "8 progeny have been made from virus e1170 in host 351b3"
       ]
      },
      {
       "output_type": "stream",
       "stream": "stdout",
       "text": [
        "\n",
        "9 progeny have been made from virus f3e0b in host 351b3"
       ]
      },
      {
       "output_type": "stream",
       "stream": "stdout",
       "text": [
        "\n",
        "7 progeny have been made from virus d23bf in host 351b3"
       ]
      },
      {
       "output_type": "stream",
       "stream": "stdout",
       "text": [
        "\n",
        "7 progeny have been made from virus 455f0 in host 351b3"
       ]
      },
      {
       "output_type": "stream",
       "stream": "stdout",
       "text": [
        "\n",
        "8 progeny have been made from virus 8d5d4 in host 351b3"
       ]
      },
      {
       "output_type": "stream",
       "stream": "stdout",
       "text": [
        "\n",
        "9 progeny have been made from virus 64567 in host 351b3"
       ]
      },
      {
       "output_type": "stream",
       "stream": "stdout",
       "text": [
        "\n",
        "9 progeny have been made from virus b494d in host 351b3"
       ]
      },
      {
       "output_type": "stream",
       "stream": "stdout",
       "text": [
        "\n",
        "8 progeny have been made from virus 5ca78 in host 351b3"
       ]
      },
      {
       "output_type": "stream",
       "stream": "stdout",
       "text": [
        "\n",
        "8 progeny have been made from virus 17ee0 in host 351b3"
       ]
      },
      {
       "output_type": "stream",
       "stream": "stdout",
       "text": [
        "\n",
        "7 progeny have been made from virus 8eaa4 in host 351b3"
       ]
      },
      {
       "output_type": "stream",
       "stream": "stdout",
       "text": [
        "\n",
        "10 progeny have been made from virus 36ccc in host 351b3"
       ]
      },
      {
       "output_type": "stream",
       "stream": "stdout",
       "text": [
        "\n",
        "5 progeny have been made from virus 11f65 in host 351b3\n",
        "8 progeny have been made from virus 1cbcc in host 351b3"
       ]
      },
      {
       "output_type": "stream",
       "stream": "stdout",
       "text": [
        "\n",
        "10 progeny have been made from virus b8a2f in host 351b3"
       ]
      },
      {
       "output_type": "stream",
       "stream": "stdout",
       "text": [
        "\n",
        "8 progeny have been made from virus b7417 in host 351b3"
       ]
      },
      {
       "output_type": "stream",
       "stream": "stdout",
       "text": [
        "\n",
        "5 progeny have been made from virus aee7e in host 351b3\n",
        "9 progeny have been made from virus 7dad1 in host 351b3"
       ]
      },
      {
       "output_type": "stream",
       "stream": "stdout",
       "text": [
        "\n",
        "10 progeny have been made from virus 40bb3 in host 351b3"
       ]
      },
      {
       "output_type": "stream",
       "stream": "stdout",
       "text": [
        "\n",
        "8 progeny have been made from virus 1194f in host 351b3"
       ]
      },
      {
       "output_type": "stream",
       "stream": "stdout",
       "text": [
        "\n",
        "9 progeny have been made from virus 9fa12 in host 351b3"
       ]
      },
      {
       "output_type": "stream",
       "stream": "stdout",
       "text": [
        "\n",
        "7 progeny have been made from virus 13275 in host 351b3"
       ]
      },
      {
       "output_type": "stream",
       "stream": "stdout",
       "text": [
        "\n",
        "7 progeny have been made from virus 4788b in host 351b3"
       ]
      },
      {
       "output_type": "stream",
       "stream": "stdout",
       "text": [
        "\n",
        "9 progeny have been made from virus 7f761 in host 351b3"
       ]
      },
      {
       "output_type": "stream",
       "stream": "stdout",
       "text": [
        "\n",
        "8 progeny have been made from virus e791a in host 351b3"
       ]
      },
      {
       "output_type": "stream",
       "stream": "stdout",
       "text": [
        "\n",
        "7 progeny have been made from virus 23c43 in host 351b3"
       ]
      },
      {
       "output_type": "stream",
       "stream": "stdout",
       "text": [
        "\n",
        "5 progeny have been made from virus 66219 in host 351b3\n",
        "9 progeny have been made from virus 9a776 in host 351b3"
       ]
      },
      {
       "output_type": "stream",
       "stream": "stdout",
       "text": [
        "\n",
        "8 progeny have been made from virus a1013 in host 351b3"
       ]
      },
      {
       "output_type": "stream",
       "stream": "stdout",
       "text": [
        "\n",
        "325 progeny generated in host 351b3.\n",
        "Current time is 16. Incrementing time to 17\n",
        "Generating 2 progeny in host ef073...\n",
        "6 progeny have been made from virus 2e8bd in host ef073"
       ]
      },
      {
       "output_type": "stream",
       "stream": "stdout",
       "text": [
        "\n",
        "6 progeny generated in host ef073.\n",
        "Generating 650 progeny in host 351b3...\n",
        "10 progeny have been made from virus 3b441 in host 351b3"
       ]
      },
      {
       "output_type": "stream",
       "stream": "stdout",
       "text": [
        "\n",
        "7 progeny have been made from virus 2cf63 in host 351b3"
       ]
      },
      {
       "output_type": "stream",
       "stream": "stdout",
       "text": [
        "\n",
        "6 progeny have been made from virus d6bef in host 351b3\n",
        "9 progeny have been made from virus 5eb2b in host 351b3"
       ]
      },
      {
       "output_type": "stream",
       "stream": "stdout",
       "text": [
        "\n",
        "9 progeny have been made from virus 5533d in host 351b3"
       ]
      },
      {
       "output_type": "stream",
       "stream": "stdout",
       "text": [
        "\n",
        "9 progeny have been made from virus 5b332 in host 351b3"
       ]
      },
      {
       "output_type": "stream",
       "stream": "stdout",
       "text": [
        "\n",
        "6 progeny have been made from virus b5131 in host 351b3\n",
        "9 progeny have been made from virus 6f707 in host 351b3"
       ]
      },
      {
       "output_type": "stream",
       "stream": "stdout",
       "text": [
        "\n",
        "7 progeny have been made from virus 114e1 in host 351b3"
       ]
      },
      {
       "output_type": "stream",
       "stream": "stdout",
       "text": [
        "\n",
        "8 progeny have been made from virus 3b9bb in host 351b3"
       ]
      },
      {
       "output_type": "stream",
       "stream": "stdout",
       "text": [
        "\n",
        "7 progeny have been made from virus 1503d in host 351b3"
       ]
      },
      {
       "output_type": "stream",
       "stream": "stdout",
       "text": [
        "\n",
        "6 progeny have been made from virus a9b86 in host 351b3\n",
        "5 progeny have been made from virus 8ba23 in host 351b3"
       ]
      },
      {
       "output_type": "stream",
       "stream": "stdout",
       "text": [
        "\n",
        "6 progeny have been made from virus adbb6 in host 351b3"
       ]
      },
      {
       "output_type": "stream",
       "stream": "stdout",
       "text": [
        "\n",
        "10 progeny have been made from virus 86505 in host 351b3"
       ]
      },
      {
       "output_type": "stream",
       "stream": "stdout",
       "text": [
        "\n",
        "7 progeny have been made from virus fdf74 in host 351b3"
       ]
      },
      {
       "output_type": "stream",
       "stream": "stdout",
       "text": [
        "\n",
        "5 progeny have been made from virus 86436 in host 351b3\n",
        "6 progeny have been made from virus b2c11 in host 351b3"
       ]
      },
      {
       "output_type": "stream",
       "stream": "stdout",
       "text": [
        "\n",
        "9 progeny have been made from virus a7433 in host 351b3"
       ]
      },
      {
       "output_type": "stream",
       "stream": "stdout",
       "text": [
        "\n",
        "10 progeny have been made from virus 8abc2 in host 351b3"
       ]
      },
      {
       "output_type": "stream",
       "stream": "stdout",
       "text": [
        "\n",
        "9 progeny have been made from virus 1d836 in host 351b3"
       ]
      },
      {
       "output_type": "stream",
       "stream": "stdout",
       "text": [
        "\n",
        "7 progeny have been made from virus aed04 in host 351b3"
       ]
      },
      {
       "output_type": "stream",
       "stream": "stdout",
       "text": [
        "\n",
        "10 progeny have been made from virus a6bb8 in host 351b3"
       ]
      },
      {
       "output_type": "stream",
       "stream": "stdout",
       "text": [
        "\n",
        "7 progeny have been made from virus cfe40 in host 351b3"
       ]
      },
      {
       "output_type": "stream",
       "stream": "stdout",
       "text": [
        "\n",
        "6 progeny have been made from virus 85f6a in host 351b3\n",
        "8 progeny have been made from virus 9b6c3 in host 351b3"
       ]
      },
      {
       "output_type": "stream",
       "stream": "stdout",
       "text": [
        "\n",
        "6 progeny have been made from virus 76599 in host 351b3"
       ]
      },
      {
       "output_type": "stream",
       "stream": "stdout",
       "text": [
        "\n",
        "10 progeny have been made from virus c327e in host 351b3"
       ]
      },
      {
       "output_type": "stream",
       "stream": "stdout",
       "text": [
        "\n",
        "8 progeny have been made from virus d2171 in host 351b3"
       ]
      },
      {
       "output_type": "stream",
       "stream": "stdout",
       "text": [
        "\n",
        "10 progeny have been made from virus 02d88 in host 351b3"
       ]
      },
      {
       "output_type": "stream",
       "stream": "stdout",
       "text": [
        "\n",
        "9 progeny have been made from virus 47d10 in host 351b3"
       ]
      },
      {
       "output_type": "stream",
       "stream": "stdout",
       "text": [
        "\n",
        "9 progeny have been made from virus 9db8b in host 351b3"
       ]
      },
      {
       "output_type": "stream",
       "stream": "stdout",
       "text": [
        "\n",
        "6 progeny have been made from virus e2d7b in host 351b3"
       ]
      },
      {
       "output_type": "stream",
       "stream": "stdout",
       "text": [
        "\n",
        "7 progeny have been made from virus 9eac6 in host 351b3"
       ]
      },
      {
       "output_type": "stream",
       "stream": "stdout",
       "text": [
        "\n",
        "8 progeny have been made from virus 1b1fc in host 351b3"
       ]
      },
      {
       "output_type": "stream",
       "stream": "stdout",
       "text": [
        "\n",
        "5 progeny have been made from virus d7161 in host 351b3"
       ]
      },
      {
       "output_type": "stream",
       "stream": "stdout",
       "text": [
        "\n",
        "6 progeny have been made from virus 9a8ac in host 351b3"
       ]
      },
      {
       "output_type": "stream",
       "stream": "stdout",
       "text": [
        "\n",
        "8 progeny have been made from virus 76599 in host 351b3"
       ]
      },
      {
       "output_type": "stream",
       "stream": "stdout",
       "text": [
        "\n",
        "6 progeny have been made from virus 64ee1 in host 351b3\n",
        "5 progeny have been made from virus ed954 in host 351b3"
       ]
      },
      {
       "output_type": "stream",
       "stream": "stdout",
       "text": [
        "\n",
        "7 progeny have been made from virus fe349 in host 351b3"
       ]
      },
      {
       "output_type": "stream",
       "stream": "stdout",
       "text": [
        "\n",
        "7 progeny have been made from virus 65841 in host 351b3"
       ]
      },
      {
       "output_type": "stream",
       "stream": "stdout",
       "text": [
        "\n",
        "9 progeny have been made from virus 2005a in host 351b3"
       ]
      },
      {
       "output_type": "stream",
       "stream": "stdout",
       "text": [
        "\n",
        "7 progeny have been made from virus 66219 in host 351b3"
       ]
      },
      {
       "output_type": "stream",
       "stream": "stdout",
       "text": [
        "\n",
        "7 progeny have been made from virus e1f4a in host 351b3"
       ]
      },
      {
       "output_type": "stream",
       "stream": "stdout",
       "text": [
        "\n",
        "6 progeny have been made from virus 10f62 in host 351b3"
       ]
      },
      {
       "output_type": "stream",
       "stream": "stdout",
       "text": [
        "\n",
        "6 progeny have been made from virus db82b in host 351b3"
       ]
      },
      {
       "output_type": "stream",
       "stream": "stdout",
       "text": [
        "\n",
        "8 progeny have been made from virus 28f51 in host 351b3"
       ]
      },
      {
       "output_type": "stream",
       "stream": "stdout",
       "text": [
        "\n",
        "10 progeny have been made from virus b48ef in host 351b3"
       ]
      },
      {
       "output_type": "stream",
       "stream": "stdout",
       "text": [
        "\n",
        "9 progeny have been made from virus 86505 in host 351b3"
       ]
      },
      {
       "output_type": "stream",
       "stream": "stdout",
       "text": [
        "\n",
        "8 progeny have been made from virus 62152 in host 351b3"
       ]
      },
      {
       "output_type": "stream",
       "stream": "stdout",
       "text": [
        "\n",
        "7 progeny have been made from virus ee6c9 in host 351b3"
       ]
      },
      {
       "output_type": "stream",
       "stream": "stdout",
       "text": [
        "\n",
        "5 progeny have been made from virus 22056 in host 351b3\n",
        "9 progeny have been made from virus aaa5c in host 351b3"
       ]
      },
      {
       "output_type": "stream",
       "stream": "stdout",
       "text": [
        "\n",
        "7 progeny have been made from virus 2005a in host 351b3"
       ]
      },
      {
       "output_type": "stream",
       "stream": "stdout",
       "text": [
        "\n",
        "6 progeny have been made from virus 834ce in host 351b3"
       ]
      },
      {
       "output_type": "stream",
       "stream": "stdout",
       "text": [
        "\n",
        "6 progeny have been made from virus 1d836 in host 351b3"
       ]
      },
      {
       "output_type": "stream",
       "stream": "stdout",
       "text": [
        "\n",
        "10 progeny have been made from virus dc2e3 in host 351b3"
       ]
      },
      {
       "output_type": "stream",
       "stream": "stdout",
       "text": [
        "\n",
        "10 progeny have been made from virus 0ab7f in host 351b3"
       ]
      },
      {
       "output_type": "stream",
       "stream": "stdout",
       "text": [
        "\n",
        "10 progeny have been made from virus 4a06a in host 351b3"
       ]
      },
      {
       "output_type": "stream",
       "stream": "stdout",
       "text": [
        "\n",
        "6 progeny have been made from virus 34120 in host 351b3"
       ]
      },
      {
       "output_type": "stream",
       "stream": "stdout",
       "text": [
        "\n",
        "8 progeny have been made from virus a444e in host 351b3"
       ]
      },
      {
       "output_type": "stream",
       "stream": "stdout",
       "text": [
        "\n",
        "8 progeny have been made from virus d4790 in host 351b3"
       ]
      },
      {
       "output_type": "stream",
       "stream": "stdout",
       "text": [
        "\n",
        "5 progeny have been made from virus 267c1 in host 351b3\n",
        "9 progeny have been made from virus 9db8b in host 351b3"
       ]
      },
      {
       "output_type": "stream",
       "stream": "stdout",
       "text": [
        "\n",
        "10 progeny have been made from virus 83fec in host 351b3"
       ]
      },
      {
       "output_type": "stream",
       "stream": "stdout",
       "text": [
        "\n",
        "7 progeny have been made from virus 5ef2b in host 351b3"
       ]
      },
      {
       "output_type": "stream",
       "stream": "stdout",
       "text": [
        "\n",
        "10 progeny have been made from virus c327e in host 351b3"
       ]
      },
      {
       "output_type": "stream",
       "stream": "stdout",
       "text": [
        "\n",
        "6 progeny have been made from virus 2005a in host 351b3"
       ]
      },
      {
       "output_type": "stream",
       "stream": "stdout",
       "text": [
        "\n",
        "5 progeny have been made from virus 6d085 in host 351b3"
       ]
      },
      {
       "output_type": "stream",
       "stream": "stdout",
       "text": [
        "\n",
        "9 progeny have been made from virus bc03a in host 351b3"
       ]
      },
      {
       "output_type": "stream",
       "stream": "stdout",
       "text": [
        "\n",
        "7 progeny have been made from virus fcbdd in host 351b3"
       ]
      },
      {
       "output_type": "stream",
       "stream": "stdout",
       "text": [
        "\n",
        "5 progeny have been made from virus e16a5 in host 351b3"
       ]
      },
      {
       "output_type": "stream",
       "stream": "stdout",
       "text": [
        "\n",
        "5 progeny have been made from virus 20086 in host 351b3"
       ]
      },
      {
       "output_type": "stream",
       "stream": "stdout",
       "text": [
        "\n",
        "10 progeny have been made from virus 8f2d9 in host 351b3"
       ]
      },
      {
       "output_type": "stream",
       "stream": "stdout",
       "text": [
        "\n",
        "5 progeny have been made from virus 555ee in host 351b3"
       ]
      },
      {
       "output_type": "stream",
       "stream": "stdout",
       "text": [
        "\n",
        "7 progeny have been made from virus 3b441 in host 351b3"
       ]
      },
      {
       "output_type": "stream",
       "stream": "stdout",
       "text": [
        "\n",
        "10 progeny have been made from virus fe349 in host 351b3"
       ]
      },
      {
       "output_type": "stream",
       "stream": "stdout",
       "text": [
        "\n",
        "5 progeny have been made from virus fbbc4 in host 351b3"
       ]
      },
      {
       "output_type": "stream",
       "stream": "stdout",
       "text": [
        "\n",
        "9 progeny have been made from virus 0f029 in host 351b3"
       ]
      },
      {
       "output_type": "stream",
       "stream": "stdout",
       "text": [
        "\n",
        "8 progeny have been made from virus 5ffc9 in host 351b3"
       ]
      },
      {
       "output_type": "stream",
       "stream": "stdout",
       "text": [
        "\n",
        "7 progeny have been made from virus 76c0d in host 351b3"
       ]
      },
      {
       "output_type": "stream",
       "stream": "stdout",
       "text": [
        "\n",
        "10 progeny have been made from virus 8d5d4 in host 351b3"
       ]
      },
      {
       "output_type": "stream",
       "stream": "stdout",
       "text": [
        "\n",
        "7 progeny have been made from virus f37fa in host 351b3"
       ]
      },
      {
       "output_type": "stream",
       "stream": "stdout",
       "text": [
        "\n",
        "8 progeny have been made from virus ccdfe in host 351b3"
       ]
      },
      {
       "output_type": "stream",
       "stream": "stdout",
       "text": [
        "\n",
        "8 progeny have been made from virus 55558 in host 351b3"
       ]
      },
      {
       "output_type": "stream",
       "stream": "stdout",
       "text": [
        "\n",
        "10 progeny have been made from virus aa908 in host 351b3"
       ]
      },
      {
       "output_type": "stream",
       "stream": "stdout",
       "text": [
        "\n",
        "659 progeny generated in host 351b3.\n",
        "Current time is 17. Incrementing time to 18\n",
        "Generating 2 progeny in host ef073...\n",
        "5 progeny have been made from virus ca4a9 in host ef073"
       ]
      },
      {
       "output_type": "stream",
       "stream": "stdout",
       "text": [
        "\n",
        "5 progeny generated in host ef073.\n",
        "Generating 18 progeny in host 351b3...\n",
        "7 progeny have been made from virus e9574 in host 351b3"
       ]
      },
      {
       "output_type": "stream",
       "stream": "stdout",
       "text": [
        "\n",
        "8 progeny have been made from virus 208b2 in host 351b3"
       ]
      },
      {
       "output_type": "stream",
       "stream": "stdout",
       "text": [
        "\n",
        "7 progeny have been made from virus fbf93 in host 351b3"
       ]
      },
      {
       "output_type": "stream",
       "stream": "stdout",
       "text": [
        "\n",
        "22 progeny generated in host 351b3.\n",
        "Current time is 18. Incrementing time to 19\n",
        "Generating 3 progeny in host ef073...\n",
        "8 progeny have been made from virus 8361d in host ef073"
       ]
      },
      {
       "output_type": "stream",
       "stream": "stdout",
       "text": [
        "\n",
        "8 progeny generated in host ef073.\n",
        "Generating 253 progeny in host 351b3...\n",
        "6 progeny have been made from virus e11a6 in host 351b3"
       ]
      },
      {
       "output_type": "stream",
       "stream": "stdout",
       "text": [
        "\n",
        "10 progeny have been made from virus 21472 in host 351b3"
       ]
      },
      {
       "output_type": "stream",
       "stream": "stdout",
       "text": [
        "\n",
        "9 progeny have been made from virus 465a9 in host 351b3"
       ]
      },
      {
       "output_type": "stream",
       "stream": "stdout",
       "text": [
        "\n",
        "5 progeny have been made from virus b48ef in host 351b3"
       ]
      },
      {
       "output_type": "stream",
       "stream": "stdout",
       "text": [
        "\n",
        "7 progeny have been made from virus 2b3c8 in host 351b3"
       ]
      },
      {
       "output_type": "stream",
       "stream": "stdout",
       "text": [
        "\n",
        "6 progeny have been made from virus 509c2 in host 351b3"
       ]
      },
      {
       "output_type": "stream",
       "stream": "stdout",
       "text": [
        "\n",
        "8 progeny have been made from virus 8b570 in host 351b3"
       ]
      },
      {
       "output_type": "stream",
       "stream": "stdout",
       "text": [
        "\n",
        "6 progeny have been made from virus b02dd in host 351b3"
       ]
      },
      {
       "output_type": "stream",
       "stream": "stdout",
       "text": [
        "\n",
        "8 progeny have been made from virus 04240 in host 351b3"
       ]
      },
      {
       "output_type": "stream",
       "stream": "stdout",
       "text": [
        "\n",
        "5 progeny have been made from virus db115 in host 351b3"
       ]
      },
      {
       "output_type": "stream",
       "stream": "stdout",
       "text": [
        "\n",
        "6 progeny have been made from virus 43327 in host 351b3"
       ]
      },
      {
       "output_type": "stream",
       "stream": "stdout",
       "text": [
        "\n",
        "7 progeny have been made from virus e79ad in host 351b3"
       ]
      },
      {
       "output_type": "stream",
       "stream": "stdout",
       "text": [
        "\n",
        "7 progeny have been made from virus 841f6 in host 351b3"
       ]
      },
      {
       "output_type": "stream",
       "stream": "stdout",
       "text": [
        "\n",
        "7 progeny have been made from virus 7c716 in host 351b3"
       ]
      },
      {
       "output_type": "stream",
       "stream": "stdout",
       "text": [
        "\n",
        "10 progeny have been made from virus bd05e in host 351b3"
       ]
      },
      {
       "output_type": "stream",
       "stream": "stdout",
       "text": [
        "\n",
        "9 progeny have been made from virus 06dd1 in host 351b3"
       ]
      },
      {
       "output_type": "stream",
       "stream": "stdout",
       "text": [
        "\n",
        "7 progeny have been made from virus 93e8a in host 351b3"
       ]
      },
      {
       "output_type": "stream",
       "stream": "stdout",
       "text": [
        "\n",
        "9 progeny have been made from virus 018c2 in host 351b3"
       ]
      },
      {
       "output_type": "stream",
       "stream": "stdout",
       "text": [
        "\n",
        "9 progeny have been made from virus 6bd0d in host 351b3"
       ]
      },
      {
       "output_type": "stream",
       "stream": "stdout",
       "text": [
        "\n",
        "8 progeny have been made from virus 69b71 in host 351b3"
       ]
      },
      {
       "output_type": "stream",
       "stream": "stdout",
       "text": [
        "\n",
        "9 progeny have been made from virus df86e in host 351b3"
       ]
      },
      {
       "output_type": "stream",
       "stream": "stdout",
       "text": [
        "\n",
        "5 progeny have been made from virus 465a9 in host 351b3"
       ]
      },
      {
       "output_type": "stream",
       "stream": "stdout",
       "text": [
        "\n",
        "10 progeny have been made from virus d7cf1 in host 351b3"
       ]
      },
      {
       "output_type": "stream",
       "stream": "stdout",
       "text": [
        "\n",
        "6 progeny have been made from virus 71625 in host 351b3"
       ]
      },
      {
       "output_type": "stream",
       "stream": "stdout",
       "text": [
        "\n",
        "9 progeny have been made from virus d7cf1 in host 351b3"
       ]
      },
      {
       "output_type": "stream",
       "stream": "stdout",
       "text": [
        "\n",
        "5 progeny have been made from virus 7c716 in host 351b3"
       ]
      },
      {
       "output_type": "stream",
       "stream": "stdout",
       "text": [
        "\n",
        "6 progeny have been made from virus c813c in host 351b3"
       ]
      },
      {
       "output_type": "stream",
       "stream": "stdout",
       "text": [
        "\n",
        "5 progeny have been made from virus 04240 in host 351b3"
       ]
      },
      {
       "output_type": "stream",
       "stream": "stdout",
       "text": [
        "\n",
        "8 progeny have been made from virus d7cf1 in host 351b3"
       ]
      },
      {
       "output_type": "stream",
       "stream": "stdout",
       "text": [
        "\n",
        "7 progeny have been made from virus 9658f in host 351b3"
       ]
      },
      {
       "output_type": "stream",
       "stream": "stdout",
       "text": [
        "\n",
        "9 progeny have been made from virus 246f9 in host 351b3"
       ]
      },
      {
       "output_type": "stream",
       "stream": "stdout",
       "text": [
        "\n",
        "7 progeny have been made from virus 34699 in host 351b3"
       ]
      },
      {
       "output_type": "stream",
       "stream": "stdout",
       "text": [
        "\n",
        "10 progeny have been made from virus 4cdc2 in host 351b3"
       ]
      },
      {
       "output_type": "stream",
       "stream": "stdout",
       "text": [
        "\n",
        "8 progeny have been made from virus 4c881 in host 351b3"
       ]
      },
      {
       "output_type": "stream",
       "stream": "stdout",
       "text": [
        "\n",
        "253 progeny generated in host 351b3.\n",
        "Current time is 19. Incrementing time to 20\n",
        "Generating 4 progeny in host ef073...\n",
        "9 progeny have been made from virus 8dfb4 in host ef073"
       ]
      },
      {
       "output_type": "stream",
       "stream": "stdout",
       "text": [
        "\n",
        "9 progeny generated in host ef073.\n",
        "Generating 322 progeny in host 351b3...\n",
        "6 progeny have been made from virus efc51 in host 351b3"
       ]
      },
      {
       "output_type": "stream",
       "stream": "stdout",
       "text": [
        "\n",
        "6 progeny have been made from virus e8467 in host 351b3"
       ]
      },
      {
       "output_type": "stream",
       "stream": "stdout",
       "text": [
        "\n",
        "9 progeny have been made from virus 4cc8a in host 351b3"
       ]
      },
      {
       "output_type": "stream",
       "stream": "stdout",
       "text": [
        "\n",
        "5 progeny have been made from virus 48a6a in host 351b3"
       ]
      },
      {
       "output_type": "stream",
       "stream": "stdout",
       "text": [
        "\n",
        "6 progeny have been made from virus 17b79 in host 351b3"
       ]
      },
      {
       "output_type": "stream",
       "stream": "stdout",
       "text": [
        "\n",
        "6 progeny have been made from virus 29b8f in host 351b3"
       ]
      },
      {
       "output_type": "stream",
       "stream": "stdout",
       "text": [
        "\n",
        "7 progeny have been made from virus 3a852 in host 351b3"
       ]
      },
      {
       "output_type": "stream",
       "stream": "stdout",
       "text": [
        "\n",
        "7 progeny have been made from virus 5711b in host 351b3"
       ]
      },
      {
       "output_type": "stream",
       "stream": "stdout",
       "text": [
        "\n",
        "10 progeny have been made from virus 80e4f in host 351b3"
       ]
      },
      {
       "output_type": "stream",
       "stream": "stdout",
       "text": [
        "\n",
        "5 progeny have been made from virus b48e7 in host 351b3"
       ]
      },
      {
       "output_type": "stream",
       "stream": "stdout",
       "text": [
        "\n",
        "10 progeny have been made from virus 27936 in host 351b3"
       ]
      },
      {
       "output_type": "stream",
       "stream": "stdout",
       "text": [
        "\n",
        "7 progeny have been made from virus 17b79 in host 351b3"
       ]
      },
      {
       "output_type": "stream",
       "stream": "stdout",
       "text": [
        "\n",
        "5 progeny have been made from virus b3a7d in host 351b3"
       ]
      },
      {
       "output_type": "stream",
       "stream": "stdout",
       "text": [
        "\n",
        "5 progeny have been made from virus 48a5e in host 351b3"
       ]
      },
      {
       "output_type": "stream",
       "stream": "stdout",
       "text": [
        "\n",
        "10 progeny have been made from virus 6a798 in host 351b3"
       ]
      },
      {
       "output_type": "stream",
       "stream": "stdout",
       "text": [
        "\n",
        "5 progeny have been made from virus 39529 in host 351b3"
       ]
      },
      {
       "output_type": "stream",
       "stream": "stdout",
       "text": [
        "\n",
        "10 progeny have been made from virus b3d00 in host 351b3"
       ]
      },
      {
       "output_type": "stream",
       "stream": "stdout",
       "text": [
        "\n",
        "5 progeny have been made from virus 5133d in host 351b3"
       ]
      },
      {
       "output_type": "stream",
       "stream": "stdout",
       "text": [
        "\n",
        "9 progeny have been made from virus 14d6b in host 351b3"
       ]
      },
      {
       "output_type": "stream",
       "stream": "stdout",
       "text": [
        "\n",
        "6 progeny have been made from virus 7e60f in host 351b3"
       ]
      },
      {
       "output_type": "stream",
       "stream": "stdout",
       "text": [
        "\n",
        "7 progeny have been made from virus d9090 in host 351b3"
       ]
      },
      {
       "output_type": "stream",
       "stream": "stdout",
       "text": [
        "\n",
        "5 progeny have been made from virus ffd30 in host 351b3"
       ]
      },
      {
       "output_type": "stream",
       "stream": "stdout",
       "text": [
        "\n",
        "9 progeny have been made from virus f35f7 in host 351b3"
       ]
      },
      {
       "output_type": "stream",
       "stream": "stdout",
       "text": [
        "\n",
        "5 progeny have been made from virus 5e5bd in host 351b3"
       ]
      },
      {
       "output_type": "stream",
       "stream": "stdout",
       "text": [
        "\n",
        "7 progeny have been made from virus 0f8e4 in host 351b3"
       ]
      },
      {
       "output_type": "stream",
       "stream": "stdout",
       "text": [
        "\n",
        "10 progeny have been made from virus 19298 in host 351b3"
       ]
      },
      {
       "output_type": "stream",
       "stream": "stdout",
       "text": [
        "\n",
        "6 progeny have been made from virus 132ac in host 351b3"
       ]
      },
      {
       "output_type": "stream",
       "stream": "stdout",
       "text": [
        "\n",
        "5 progeny have been made from virus ff2d9 in host 351b3"
       ]
      },
      {
       "output_type": "stream",
       "stream": "stdout",
       "text": [
        "\n",
        "8 progeny have been made from virus 3da2c in host 351b3"
       ]
      },
      {
       "output_type": "stream",
       "stream": "stdout",
       "text": [
        "\n",
        "6 progeny have been made from virus a444e in host 351b3"
       ]
      },
      {
       "output_type": "stream",
       "stream": "stdout",
       "text": [
        "\n",
        "9 progeny have been made from virus 12495 in host 351b3"
       ]
      },
      {
       "output_type": "stream",
       "stream": "stdout",
       "text": [
        "\n",
        "8 progeny have been made from virus 87186 in host 351b3"
       ]
      },
      {
       "output_type": "stream",
       "stream": "stdout",
       "text": [
        "\n",
        "10 progeny have been made from virus 4983d in host 351b3"
       ]
      },
      {
       "output_type": "stream",
       "stream": "stdout",
       "text": [
        "\n",
        "8 progeny have been made from virus 4984b in host 351b3"
       ]
      },
      {
       "output_type": "stream",
       "stream": "stdout",
       "text": [
        "\n",
        "9 progeny have been made from virus 3d90a in host 351b3"
       ]
      },
      {
       "output_type": "stream",
       "stream": "stdout",
       "text": [
        "\n",
        "7 progeny have been made from virus 7be21 in host 351b3"
       ]
      },
      {
       "output_type": "stream",
       "stream": "stdout",
       "text": [
        "\n",
        "5 progeny have been made from virus d6fb5 in host 351b3"
       ]
      },
      {
       "output_type": "stream",
       "stream": "stdout",
       "text": [
        "\n",
        "7 progeny have been made from virus 87186 in host 351b3"
       ]
      },
      {
       "output_type": "stream",
       "stream": "stdout",
       "text": [
        "\n",
        "6 progeny have been made from virus 43b5d in host 351b3"
       ]
      },
      {
       "output_type": "stream",
       "stream": "stdout",
       "text": [
        "\n",
        "5 progeny have been made from virus ee0aa in host 351b3"
       ]
      },
      {
       "output_type": "stream",
       "stream": "stdout",
       "text": [
        "\n",
        "9 progeny have been made from virus 69b71 in host 351b3"
       ]
      },
      {
       "output_type": "stream",
       "stream": "stdout",
       "text": [
        "\n",
        "5 progeny have been made from virus 3f0d9 in host 351b3"
       ]
      },
      {
       "output_type": "stream",
       "stream": "stdout",
       "text": [
        "\n",
        "8 progeny have been made from virus b59a9 in host 351b3"
       ]
      },
      {
       "output_type": "stream",
       "stream": "stdout",
       "text": [
        "\n",
        "7 progeny have been made from virus 2550a in host 351b3"
       ]
      },
      {
       "output_type": "stream",
       "stream": "stdout",
       "text": [
        "\n",
        "6 progeny have been made from virus e6260 in host 351b3"
       ]
      },
      {
       "output_type": "stream",
       "stream": "stdout",
       "text": [
        "\n",
        "6 progeny have been made from virus 4134b in host 351b3"
       ]
      },
      {
       "output_type": "stream",
       "stream": "stdout",
       "text": [
        "\n",
        "322 progeny generated in host 351b3.\n",
        "Current time is 20. Incrementing time to 21\n",
        "Generating 2 progeny in host ef073...\n",
        "7 progeny have been made from virus 2d289 in host ef073"
       ]
      },
      {
       "output_type": "stream",
       "stream": "stdout",
       "text": [
        "\n",
        "7 progeny generated in host ef073.\n",
        "Generating 406 progeny in host 351b3...\n",
        "9 progeny have been made from virus 97b4e in host 351b3"
       ]
      },
      {
       "output_type": "stream",
       "stream": "stdout",
       "text": [
        "\n",
        "7 progeny have been made from virus 87f01 in host 351b3"
       ]
      },
      {
       "output_type": "stream",
       "stream": "stdout",
       "text": [
        "\n",
        "7 progeny have been made from virus a1bda in host 351b3"
       ]
      },
      {
       "output_type": "stream",
       "stream": "stdout",
       "text": [
        "\n",
        "6 progeny have been made from virus 414fc in host 351b3"
       ]
      },
      {
       "output_type": "stream",
       "stream": "stdout",
       "text": [
        "\n",
        "7 progeny have been made from virus 28ec9 in host 351b3"
       ]
      },
      {
       "output_type": "stream",
       "stream": "stdout",
       "text": [
        "\n",
        "6 progeny have been made from virus bb10e in host 351b3"
       ]
      },
      {
       "output_type": "stream",
       "stream": "stdout",
       "text": [
        "\n",
        "10 progeny have been made from virus ec14a in host 351b3"
       ]
      },
      {
       "output_type": "stream",
       "stream": "stdout",
       "text": [
        "\n",
        "6 progeny have been made from virus 1251d in host 351b3"
       ]
      },
      {
       "output_type": "stream",
       "stream": "stdout",
       "text": [
        "\n",
        "8 progeny have been made from virus bb10e in host 351b3"
       ]
      },
      {
       "output_type": "stream",
       "stream": "stdout",
       "text": [
        "\n",
        "8 progeny have been made from virus 396fb in host 351b3"
       ]
      },
      {
       "output_type": "stream",
       "stream": "stdout",
       "text": [
        "\n",
        "6 progeny have been made from virus ec14a in host 351b3"
       ]
      },
      {
       "output_type": "stream",
       "stream": "stdout",
       "text": [
        "\n",
        "6 progeny have been made from virus ad01b in host 351b3"
       ]
      },
      {
       "output_type": "stream",
       "stream": "stdout",
       "text": [
        "\n",
        "5 progeny have been made from virus a5747 in host 351b3"
       ]
      },
      {
       "output_type": "stream",
       "stream": "stdout",
       "text": [
        "\n",
        "10 progeny have been made from virus 80362 in host 351b3"
       ]
      },
      {
       "output_type": "stream",
       "stream": "stdout",
       "text": [
        "\n",
        "5 progeny have been made from virus 18ebb in host 351b3"
       ]
      },
      {
       "output_type": "stream",
       "stream": "stdout",
       "text": [
        "\n",
        "6 progeny have been made from virus 4ef31 in host 351b3"
       ]
      },
      {
       "output_type": "stream",
       "stream": "stdout",
       "text": [
        "\n",
        "7 progeny have been made from virus cc78a in host 351b3"
       ]
      },
      {
       "output_type": "stream",
       "stream": "stdout",
       "text": [
        "\n",
        "6 progeny have been made from virus 56bc2 in host 351b3"
       ]
      },
      {
       "output_type": "stream",
       "stream": "stdout",
       "text": [
        "\n",
        "7 progeny have been made from virus cc78a in host 351b3"
       ]
      },
      {
       "output_type": "stream",
       "stream": "stdout",
       "text": [
        "\n",
        "9 progeny have been made from virus 0504d in host 351b3"
       ]
      },
      {
       "output_type": "stream",
       "stream": "stdout",
       "text": [
        "\n",
        "9 progeny have been made from virus 8ae9b in host 351b3"
       ]
      },
      {
       "output_type": "stream",
       "stream": "stdout",
       "text": [
        "\n",
        "5 progeny have been made from virus 8ba2b in host 351b3"
       ]
      },
      {
       "output_type": "stream",
       "stream": "stdout",
       "text": [
        "\n",
        "5 progeny have been made from virus 8efad in host 351b3"
       ]
      },
      {
       "output_type": "stream",
       "stream": "stdout",
       "text": [
        "\n",
        "8 progeny have been made from virus 959a2 in host 351b3"
       ]
      },
      {
       "output_type": "stream",
       "stream": "stdout",
       "text": [
        "\n",
        "5 progeny have been made from virus 1f13d in host 351b3"
       ]
      },
      {
       "output_type": "stream",
       "stream": "stdout",
       "text": [
        "\n",
        "7 progeny have been made from virus 47182 in host 351b3"
       ]
      },
      {
       "output_type": "stream",
       "stream": "stdout",
       "text": [
        "\n",
        "7 progeny have been made from virus 8ae9b in host 351b3"
       ]
      },
      {
       "output_type": "stream",
       "stream": "stdout",
       "text": [
        "\n",
        "10 progeny have been made from virus 54088 in host 351b3"
       ]
      },
      {
       "output_type": "stream",
       "stream": "stdout",
       "text": [
        "\n",
        "8 progeny have been made from virus d63d6 in host 351b3"
       ]
      },
      {
       "output_type": "stream",
       "stream": "stdout",
       "text": [
        "\n",
        "9 progeny have been made from virus 47469 in host 351b3"
       ]
      },
      {
       "output_type": "stream",
       "stream": "stdout",
       "text": [
        "\n",
        "8 progeny have been made from virus 3bf20 in host 351b3"
       ]
      },
      {
       "output_type": "stream",
       "stream": "stdout",
       "text": [
        "\n",
        "6 progeny have been made from virus 5e4e0 in host 351b3"
       ]
      },
      {
       "output_type": "stream",
       "stream": "stdout",
       "text": [
        "\n",
        "7 progeny have been made from virus c548a in host 351b3"
       ]
      },
      {
       "output_type": "stream",
       "stream": "stdout",
       "text": [
        "\n",
        "5 progeny have been made from virus 6614d in host 351b3"
       ]
      },
      {
       "output_type": "stream",
       "stream": "stdout",
       "text": [
        "\n",
        "7 progeny have been made from virus 56bc2 in host 351b3"
       ]
      },
      {
       "output_type": "stream",
       "stream": "stdout",
       "text": [
        "\n",
        "6 progeny have been made from virus db28a in host 351b3"
       ]
      },
      {
       "output_type": "stream",
       "stream": "stdout",
       "text": [
        "\n",
        "7 progeny have been made from virus cff52 in host 351b3"
       ]
      },
      {
       "output_type": "stream",
       "stream": "stdout",
       "text": [
        "\n",
        "8 progeny have been made from virus 10c8b in host 351b3"
       ]
      },
      {
       "output_type": "stream",
       "stream": "stdout",
       "text": [
        "\n",
        "10 progeny have been made from virus dacb7 in host 351b3"
       ]
      },
      {
       "output_type": "stream",
       "stream": "stdout",
       "text": [
        "\n",
        "8 progeny have been made from virus 74d92 in host 351b3"
       ]
      },
      {
       "output_type": "stream",
       "stream": "stdout",
       "text": [
        "\n",
        "9 progeny have been made from virus 27515 in host 351b3"
       ]
      },
      {
       "output_type": "stream",
       "stream": "stdout",
       "text": [
        "\n",
        "7 progeny have been made from virus e0641 in host 351b3"
       ]
      },
      {
       "output_type": "stream",
       "stream": "stdout",
       "text": [
        "\n",
        "7 progeny have been made from virus a51bb in host 351b3"
       ]
      },
      {
       "output_type": "stream",
       "stream": "stdout",
       "text": [
        "\n",
        "5 progeny have been made from virus fbf24 in host 351b3"
       ]
      },
      {
       "output_type": "stream",
       "stream": "stdout",
       "text": [
        "\n",
        "7 progeny have been made from virus 6fc06 in host 351b3"
       ]
      },
      {
       "output_type": "stream",
       "stream": "stdout",
       "text": [
        "\n",
        "9 progeny have been made from virus 87a0a in host 351b3"
       ]
      },
      {
       "output_type": "stream",
       "stream": "stdout",
       "text": [
        "\n",
        "5 progeny have been made from virus 30687 in host 351b3"
       ]
      },
      {
       "output_type": "stream",
       "stream": "stdout",
       "text": [
        "\n",
        "7 progeny have been made from virus f1ff1 in host 351b3"
       ]
      },
      {
       "output_type": "stream",
       "stream": "stdout",
       "text": [
        "\n",
        "8 progeny have been made from virus 23e99 in host 351b3"
       ]
      },
      {
       "output_type": "stream",
       "stream": "stdout",
       "text": [
        "\n",
        "8 progeny have been made from virus a835b in host 351b3"
       ]
      },
      {
       "output_type": "stream",
       "stream": "stdout",
       "text": [
        "\n",
        "10 progeny have been made from virus 6cc7d in host 351b3"
       ]
      },
      {
       "output_type": "stream",
       "stream": "stdout",
       "text": [
        "\n",
        "5 progeny have been made from virus f1e53 in host 351b3"
       ]
      },
      {
       "output_type": "stream",
       "stream": "stdout",
       "text": [
        "\n",
        "6 progeny have been made from virus dbf9d in host 351b3"
       ]
      },
      {
       "output_type": "stream",
       "stream": "stdout",
       "text": [
        "\n",
        "6 progeny have been made from virus 77c6c in host 351b3"
       ]
      },
      {
       "output_type": "stream",
       "stream": "stdout",
       "text": [
        "\n",
        "7 progeny have been made from virus 2ef70 in host 351b3"
       ]
      },
      {
       "output_type": "stream",
       "stream": "stdout",
       "text": [
        "\n",
        "8 progeny have been made from virus b907e in host 351b3"
       ]
      },
      {
       "output_type": "stream",
       "stream": "stdout",
       "text": [
        "\n",
        "6 progeny have been made from virus 1aab6 in host 351b3"
       ]
      },
      {
       "output_type": "stream",
       "stream": "stdout",
       "text": [
        "\n",
        "406 progeny generated in host 351b3.\n",
        "Current time is 21. Incrementing time to 22\n",
        "Generating 3 progeny in host ef073...\n",
        "6 progeny have been made from virus 12782 in host ef073"
       ]
      },
      {
       "output_type": "stream",
       "stream": "stdout",
       "text": [
        "\n",
        "6 progeny generated in host ef073.\n",
        "Generating 256 progeny in host 351b3...\n",
        "7 progeny have been made from virus 748fe in host 351b3"
       ]
      },
      {
       "output_type": "stream",
       "stream": "stdout",
       "text": [
        "\n",
        "10 progeny have been made from virus 01eb7 in host 351b3"
       ]
      },
      {
       "output_type": "stream",
       "stream": "stdout",
       "text": [
        "\n",
        "7 progeny have been made from virus bbade in host 351b3"
       ]
      },
      {
       "output_type": "stream",
       "stream": "stdout",
       "text": [
        "\n",
        "7 progeny have been made from virus a07d6 in host 351b3"
       ]
      },
      {
       "output_type": "stream",
       "stream": "stdout",
       "text": [
        "\n",
        "9 progeny have been made from virus f1d05 in host 351b3"
       ]
      },
      {
       "output_type": "stream",
       "stream": "stdout",
       "text": [
        "\n",
        "6 progeny have been made from virus b4fe4 in host 351b3"
       ]
      },
      {
       "output_type": "stream",
       "stream": "stdout",
       "text": [
        "\n",
        "8 progeny have been made from virus 48de9 in host 351b3"
       ]
      },
      {
       "output_type": "stream",
       "stream": "stdout",
       "text": [
        "\n",
        "5 progeny have been made from virus 2a763 in host 351b3"
       ]
      },
      {
       "output_type": "stream",
       "stream": "stdout",
       "text": [
        "\n",
        "8 progeny have been made from virus caa86 in host 351b3"
       ]
      },
      {
       "output_type": "stream",
       "stream": "stdout",
       "text": [
        "\n",
        "5 progeny have been made from virus ba39c in host 351b3"
       ]
      },
      {
       "output_type": "stream",
       "stream": "stdout",
       "text": [
        "\n",
        "8 progeny have been made from virus 68ae4 in host 351b3"
       ]
      },
      {
       "output_type": "stream",
       "stream": "stdout",
       "text": [
        "\n",
        "6 progeny have been made from virus 6b827 in host 351b3"
       ]
      },
      {
       "output_type": "stream",
       "stream": "stdout",
       "text": [
        "\n",
        "6 progeny have been made from virus 89f18 in host 351b3"
       ]
      },
      {
       "output_type": "stream",
       "stream": "stdout",
       "text": [
        "\n",
        "6 progeny have been made from virus 92421 in host 351b3"
       ]
      },
      {
       "output_type": "stream",
       "stream": "stdout",
       "text": [
        "\n",
        "10 progeny have been made from virus 8d1e3 in host 351b3"
       ]
      },
      {
       "output_type": "stream",
       "stream": "stdout",
       "text": [
        "\n",
        "10 progeny have been made from virus 1ed6d in host 351b3"
       ]
      },
      {
       "output_type": "stream",
       "stream": "stdout",
       "text": [
        "\n",
        "6 progeny have been made from virus 1878a in host 351b3"
       ]
      },
      {
       "output_type": "stream",
       "stream": "stdout",
       "text": [
        "\n",
        "9 progeny have been made from virus 3d8e8 in host 351b3"
       ]
      },
      {
       "output_type": "stream",
       "stream": "stdout",
       "text": [
        "\n",
        "9 progeny have been made from virus 0b2d7 in host 351b3"
       ]
      },
      {
       "output_type": "stream",
       "stream": "stdout",
       "text": [
        "\n",
        "6 progeny have been made from virus ebc73 in host 351b3"
       ]
      },
      {
       "output_type": "stream",
       "stream": "stdout",
       "text": [
        "\n",
        "9 progeny have been made from virus a7622 in host 351b3"
       ]
      },
      {
       "output_type": "stream",
       "stream": "stdout",
       "text": [
        "\n",
        "10 progeny have been made from virus a2dad in host 351b3"
       ]
      },
      {
       "output_type": "stream",
       "stream": "stdout",
       "text": [
        "\n",
        "7 progeny have been made from virus 268c2 in host 351b3"
       ]
      },
      {
       "output_type": "stream",
       "stream": "stdout",
       "text": [
        "\n",
        "6 progeny have been made from virus 45776 in host 351b3"
       ]
      },
      {
       "output_type": "stream",
       "stream": "stdout",
       "text": [
        "\n",
        "9 progeny have been made from virus 5a207 in host 351b3"
       ]
      },
      {
       "output_type": "stream",
       "stream": "stdout",
       "text": [
        "\n",
        "10 progeny have been made from virus 97a21 in host 351b3"
       ]
      },
      {
       "output_type": "stream",
       "stream": "stdout",
       "text": [
        "\n",
        "5 progeny have been made from virus 7e83e in host 351b3"
       ]
      },
      {
       "output_type": "stream",
       "stream": "stdout",
       "text": [
        "\n",
        "10 progeny have been made from virus 477b9 in host 351b3"
       ]
      },
      {
       "output_type": "stream",
       "stream": "stdout",
       "text": [
        "\n",
        "8 progeny have been made from virus 3563d in host 351b3"
       ]
      },
      {
       "output_type": "stream",
       "stream": "stdout",
       "text": [
        "\n",
        "6 progeny have been made from virus 14bbd in host 351b3"
       ]
      },
      {
       "output_type": "stream",
       "stream": "stdout",
       "text": [
        "\n",
        "9 progeny have been made from virus 87f28 in host 351b3"
       ]
      },
      {
       "output_type": "stream",
       "stream": "stdout",
       "text": [
        "\n",
        "7 progeny have been made from virus 48de9 in host 351b3"
       ]
      },
      {
       "output_type": "stream",
       "stream": "stdout",
       "text": [
        "\n",
        "10 progeny have been made from virus a8918 in host 351b3"
       ]
      },
      {
       "output_type": "stream",
       "stream": "stdout",
       "text": [
        "\n",
        "10 progeny have been made from virus 3fd0d in host 351b3"
       ]
      },
      {
       "output_type": "stream",
       "stream": "stdout",
       "text": [
        "\n",
        "264 progeny generated in host 351b3.\n",
        "Current time is 22. Incrementing time to 23\n",
        "Generating 3 progeny in host ef073...\n",
        "5 progeny have been made from virus c189c in host ef073"
       ]
      },
      {
       "output_type": "stream",
       "stream": "stdout",
       "text": [
        "\n",
        "5 progeny generated in host ef073.\n",
        "Generating 181 progeny in host 351b3...\n",
        "6 progeny have been made from virus 941c2 in host 351b3"
       ]
      },
      {
       "output_type": "stream",
       "stream": "stdout",
       "text": [
        "\n",
        "7 progeny have been made from virus 555af in host 351b3"
       ]
      },
      {
       "output_type": "stream",
       "stream": "stdout",
       "text": [
        "\n",
        "5 progeny have been made from virus b9624 in host 351b3"
       ]
      },
      {
       "output_type": "stream",
       "stream": "stdout",
       "text": [
        "\n",
        "7 progeny have been made from virus cdf35 in host 351b3"
       ]
      },
      {
       "output_type": "stream",
       "stream": "stdout",
       "text": [
        "\n",
        "7 progeny have been made from virus 7656d in host 351b3"
       ]
      },
      {
       "output_type": "stream",
       "stream": "stdout",
       "text": [
        "\n",
        "7 progeny have been made from virus da999 in host 351b3"
       ]
      },
      {
       "output_type": "stream",
       "stream": "stdout",
       "text": [
        "\n",
        "8 progeny have been made from virus 0b92d in host 351b3"
       ]
      },
      {
       "output_type": "stream",
       "stream": "stdout",
       "text": [
        "\n",
        "10 progeny have been made from virus 1ad9d in host 351b3"
       ]
      },
      {
       "output_type": "stream",
       "stream": "stdout",
       "text": [
        "\n",
        "8 progeny have been made from virus 051b8 in host 351b3"
       ]
      },
      {
       "output_type": "stream",
       "stream": "stdout",
       "text": [
        "\n",
        "10 progeny have been made from virus 25ccb in host 351b3"
       ]
      },
      {
       "output_type": "stream",
       "stream": "stdout",
       "text": [
        "\n",
        "9 progeny have been made from virus 75d19 in host 351b3"
       ]
      },
      {
       "output_type": "stream",
       "stream": "stdout",
       "text": [
        "\n",
        "6 progeny have been made from virus 6d54b in host 351b3"
       ]
      },
      {
       "output_type": "stream",
       "stream": "stdout",
       "text": [
        "\n",
        "8 progeny have been made from virus 16a6a in host 351b3"
       ]
      },
      {
       "output_type": "stream",
       "stream": "stdout",
       "text": [
        "\n",
        "10 progeny have been made from virus b319d in host 351b3"
       ]
      },
      {
       "output_type": "stream",
       "stream": "stdout",
       "text": [
        "\n",
        "7 progeny have been made from virus 4965c in host 351b3"
       ]
      },
      {
       "output_type": "stream",
       "stream": "stdout",
       "text": [
        "\n",
        "5 progeny have been made from virus d6d5e in host 351b3"
       ]
      },
      {
       "output_type": "stream",
       "stream": "stdout",
       "text": [
        "\n",
        "10 progeny have been made from virus 262f8 in host 351b3"
       ]
      },
      {
       "output_type": "stream",
       "stream": "stdout",
       "text": [
        "\n",
        "5 progeny have been made from virus 86e3c in host 351b3"
       ]
      },
      {
       "output_type": "stream",
       "stream": "stdout",
       "text": [
        "\n",
        "10 progeny have been made from virus 1f0e1 in host 351b3"
       ]
      },
      {
       "output_type": "stream",
       "stream": "stdout",
       "text": [
        "\n",
        "7 progeny have been made from virus 3f38c in host 351b3"
       ]
      },
      {
       "output_type": "stream",
       "stream": "stdout",
       "text": [
        "\n",
        "5 progeny have been made from virus 70bc2 in host 351b3"
       ]
      },
      {
       "output_type": "stream",
       "stream": "stdout",
       "text": [
        "\n",
        "5 progeny have been made from virus 80385 in host 351b3"
       ]
      },
      {
       "output_type": "stream",
       "stream": "stdout",
       "text": [
        "\n",
        "8 progeny have been made from virus b7dc0 in host 351b3"
       ]
      },
      {
       "output_type": "stream",
       "stream": "stdout",
       "text": [
        "\n",
        "6 progeny have been made from virus e4159 in host 351b3"
       ]
      },
      {
       "output_type": "stream",
       "stream": "stdout",
       "text": [
        "\n",
        "5 progeny have been made from virus 86514 in host 351b3"
       ]
      },
      {
       "output_type": "stream",
       "stream": "stdout",
       "text": [
        "\n",
        "181 progeny generated in host 351b3.\n",
        "Current time is 23. Incrementing time to 24\n",
        "Generating 2 progeny in host ef073...\n",
        "7 progeny have been made from virus 70f07 in host ef073"
       ]
      },
      {
       "output_type": "stream",
       "stream": "stdout",
       "text": [
        "\n",
        "7 progeny generated in host ef073.\n",
        "Generating 141 progeny in host 351b3...\n",
        "5 progeny have been made from virus 656da in host 351b3"
       ]
      },
      {
       "output_type": "stream",
       "stream": "stdout",
       "text": [
        "\n",
        "6 progeny have been made from virus 381cb in host 351b3"
       ]
      },
      {
       "output_type": "stream",
       "stream": "stdout",
       "text": [
        "\n",
        "6 progeny have been made from virus 70af6 in host 351b3"
       ]
      },
      {
       "output_type": "stream",
       "stream": "stdout",
       "text": [
        "\n",
        "6 progeny have been made from virus a62bf in host 351b3"
       ]
      },
      {
       "output_type": "stream",
       "stream": "stdout",
       "text": [
        "\n",
        "8 progeny have been made from virus ddcc0 in host 351b3"
       ]
      },
      {
       "output_type": "stream",
       "stream": "stdout",
       "text": [
        "\n",
        "7 progeny have been made from virus 00761 in host 351b3"
       ]
      },
      {
       "output_type": "stream",
       "stream": "stdout",
       "text": [
        "\n",
        "10 progeny have been made from virus adfd2 in host 351b3"
       ]
      },
      {
       "output_type": "stream",
       "stream": "stdout",
       "text": [
        "\n",
        "8 progeny have been made from virus bb540 in host 351b3"
       ]
      },
      {
       "output_type": "stream",
       "stream": "stdout",
       "text": [
        "\n",
        "6 progeny have been made from virus e888e in host 351b3"
       ]
      },
      {
       "output_type": "stream",
       "stream": "stdout",
       "text": [
        "\n",
        "5 progeny have been made from virus 442cc in host 351b3"
       ]
      },
      {
       "output_type": "stream",
       "stream": "stdout",
       "text": [
        "\n",
        "5 progeny have been made from virus 8360e in host 351b3"
       ]
      },
      {
       "output_type": "stream",
       "stream": "stdout",
       "text": [
        "\n",
        "8 progeny have been made from virus 1863f in host 351b3"
       ]
      },
      {
       "output_type": "stream",
       "stream": "stdout",
       "text": [
        "\n",
        "7 progeny have been made from virus 1e4c3 in host 351b3"
       ]
      },
      {
       "output_type": "stream",
       "stream": "stdout",
       "text": [
        "\n",
        "8 progeny have been made from virus 1b345 in host 351b3"
       ]
      },
      {
       "output_type": "stream",
       "stream": "stdout",
       "text": [
        "\n",
        "10 progeny have been made from virus f66a5 in host 351b3"
       ]
      },
      {
       "output_type": "stream",
       "stream": "stdout",
       "text": [
        "\n",
        "5 progeny have been made from virus b6fa5 in host 351b3"
       ]
      },
      {
       "output_type": "stream",
       "stream": "stdout",
       "text": [
        "\n",
        "5 progeny have been made from virus 364b6 in host 351b3"
       ]
      },
      {
       "output_type": "stream",
       "stream": "stdout",
       "text": [
        "\n",
        "5 progeny have been made from virus 41304 in host 351b3"
       ]
      },
      {
       "output_type": "stream",
       "stream": "stdout",
       "text": [
        "\n",
        "9 progeny have been made from virus 6d54e in host 351b3"
       ]
      },
      {
       "output_type": "stream",
       "stream": "stdout",
       "text": [
        "\n",
        "9 progeny have been made from virus 4b92d in host 351b3"
       ]
      },
      {
       "output_type": "stream",
       "stream": "stdout",
       "text": [
        "\n",
        "10 progeny have been made from virus 03ea4 in host 351b3"
       ]
      },
      {
       "output_type": "stream",
       "stream": "stdout",
       "text": [
        "\n",
        "148 progeny generated in host 351b3.\n",
        "Current time is 24. Incrementing time to 25\n",
        "Generating 6 progeny in host ef073...\n",
        "6 progeny have been made from virus f7079 in host ef073"
       ]
      },
      {
       "output_type": "stream",
       "stream": "stdout",
       "text": [
        "\n",
        "6 progeny generated in host ef073.\n",
        "Generating 5 progeny in host 351b3...\n",
        "6 progeny have been made from virus be0ff in host 351b3"
       ]
      },
      {
       "output_type": "stream",
       "stream": "stdout",
       "text": [
        "\n",
        "6 progeny generated in host 351b3.\n",
        "Current time is 25. Incrementing time to 26\n",
        "Generating 4 progeny in host ef073...\n",
        "6 progeny have been made from virus 854ea in host ef073"
       ]
      },
      {
       "output_type": "stream",
       "stream": "stdout",
       "text": [
        "\n",
        "6 progeny generated in host ef073.\n",
        "Generating 9 progeny in host 351b3...\n",
        "9 progeny have been made from virus 133a1 in host 351b3"
       ]
      },
      {
       "output_type": "stream",
       "stream": "stdout",
       "text": [
        "\n",
        "9 progeny generated in host 351b3.\n",
        "Current time is 26. Incrementing time to 27\n",
        "Generating 3 progeny in host ef073...\n",
        "7 progeny have been made from virus 1daa2 in host ef073"
       ]
      },
      {
       "output_type": "stream",
       "stream": "stdout",
       "text": [
        "\n",
        "7 progeny generated in host ef073.\n",
        "Generating 6 progeny in host 351b3...\n",
        "7 progeny have been made from virus 4204c in host 351b3"
       ]
      },
      {
       "output_type": "stream",
       "stream": "stdout",
       "text": [
        "\n",
        "7 progeny generated in host 351b3.\n",
        "Current time is 27. Incrementing time to 28\n",
        "Generating 5 progeny in host ef073...\n",
        "10 progeny have been made from virus f9c53 in host ef073"
       ]
      },
      {
       "output_type": "stream",
       "stream": "stdout",
       "text": [
        "\n",
        "10 progeny generated in host ef073.\n",
        "Generating 2 progeny in host 351b3...\n",
        "5 progeny have been made from virus 2a80a in host 351b3"
       ]
      },
      {
       "output_type": "stream",
       "stream": "stdout",
       "text": [
        "\n",
        "5 progeny generated in host 351b3.\n",
        "Current time is 28. Incrementing time to 29\n",
        "Generating 5 progeny in host ef073...\n",
        "6 progeny have been made from virus 08f5d in host ef073"
       ]
      },
      {
       "output_type": "stream",
       "stream": "stdout",
       "text": [
        "\n",
        "6 progeny generated in host ef073.\n",
        "Generating 1 progeny in host 351b3...\n",
        "8 progeny have been made from virus 833fe in host 351b3"
       ]
      },
      {
       "output_type": "stream",
       "stream": "stdout",
       "text": [
        "\n",
        "8 progeny generated in host 351b3.\n",
        "Current time is 29. Incrementing time to 30\n",
        "Generating 1 progeny in host ef073...\n",
        "6 progeny have been made from virus 8076d in host ef073"
       ]
      },
      {
       "output_type": "stream",
       "stream": "stdout",
       "text": [
        "\n",
        "6 progeny generated in host ef073.\n",
        "Generating 1 progeny in host 351b3...\n",
        "6 progeny have been made from virus 84406 in host 351b3"
       ]
      },
      {
       "output_type": "stream",
       "stream": "stdout",
       "text": [
        "\n",
        "6 progeny generated in host 351b3.\n",
        "Current time is 30. Incrementing time to 31\n",
        "Generating 2 progeny in host ef073...\n",
        "10 progeny have been made from virus 760de in host ef073"
       ]
      },
      {
       "output_type": "stream",
       "stream": "stdout",
       "text": [
        "\n",
        "10 progeny generated in host ef073.\n",
        "Generating 0 progeny in host 351b3...\n",
        "0 progeny generated in host 351b3.\n",
        "Current time is 31. Incrementing time to 32\n",
        "Generating 2 progeny in host ef073...\n",
        "8 progeny have been made from virus 02d4b in host ef073"
       ]
      },
      {
       "output_type": "stream",
       "stream": "stdout",
       "text": [
        "\n",
        "8 progeny generated in host ef073.\n",
        "Current time is 32. Incrementing time to 33\n",
        "Generating 4 progeny in host ef073...\n",
        "6 progeny have been made from virus e7efb in host ef073"
       ]
      },
      {
       "output_type": "stream",
       "stream": "stdout",
       "text": [
        "\n",
        "6 progeny generated in host ef073.\n",
        "Current time is 33. Incrementing time to 34\n",
        "Generating 5 progeny in host ef073...\n",
        "8 progeny have been made from virus cea89 in host ef073"
       ]
      },
      {
       "output_type": "stream",
       "stream": "stdout",
       "text": [
        "\n",
        "8 progeny generated in host ef073.\n",
        "Current time is 34. Incrementing time to 35\n",
        "Generating 5 progeny in host ef073...\n",
        "5 progeny have been made from virus c4ba7 in host ef073"
       ]
      },
      {
       "output_type": "stream",
       "stream": "stdout",
       "text": [
        "\n",
        "5 progeny generated in host ef073.\n",
        "Current time is 35. Incrementing time to 36\n",
        "Generating 0 progeny in host ef073...\n",
        "0 progeny generated in host ef073.\n",
        "Current time is 36. Incrementing time to 37\n",
        "Current time is 37. Incrementing time to 38\n",
        "Current time is 38. Incrementing time to 39\n",
        "Current time is 39. Incrementing time to 40\n"
       ]
      }
     ],
     "prompt_number": 17
    },
    {
     "cell_type": "code",
     "collapsed": false,
     "input": [
      "plt.plot(virus_counts, alpha=1)\n",
      "plt.legend(['Host 1', 'Host 2'])\n",
      "plt.xlabel('Time (days)')\n",
      "plt.ylabel('Viral Load')\n",
      "plt.title('Viral Load Dynamics')\n",
      "plt.show()"
     ],
     "language": "python",
     "metadata": {},
     "outputs": [
      {
       "metadata": {},
       "output_type": "display_data",
       "png": "[encoded data removed]",
       "text": [
        "<matplotlib.figure.Figure at 0x106035dd0>"
       ]
      }
     ],
     "prompt_number": 18
    },
    {
     "cell_type": "code",
     "collapsed": false,
     "input": [],
     "language": "python",
     "metadata": {},
     "outputs": [],
     "prompt_number": 18
    }
   ],
   "metadata": {}
  }
 ]
}