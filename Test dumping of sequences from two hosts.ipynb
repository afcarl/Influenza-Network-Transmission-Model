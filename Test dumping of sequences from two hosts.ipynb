{
 "metadata": {
  "name": "",
  "signature": "sha256:d39f88d0cbc0340fa4f54a5a9d15aa1e4d945c1bde64234bba5a4faa1dabfb55"
 },
 "nbformat": 3,
 "nbformat_minor": 0,
 "worksheets": [
  {
   "cells": [
    {
     "cell_type": "code",
     "collapsed": false,
     "input": [
      "from controller import Controller"
     ],
     "language": "python",
     "metadata": {},
     "outputs": [],
     "prompt_number": 12
    },
    {
     "cell_type": "code",
     "collapsed": false,
     "input": [
      "c = Controller()\n",
      "c.create_environment(num_hosts=2)\n",
      "c.create_virus(host=c.environments[0].hosts[0])"
     ],
     "language": "python",
     "metadata": {},
     "outputs": [],
     "prompt_number": 13
    },
    {
     "cell_type": "code",
     "collapsed": false,
     "input": [
      "virus_counts = []\n",
      "mutations = []\n",
      "for i in range(30):\n",
      "    print('Time = %s' % i)\n",
      "    c.increment_timestep()\n",
      "    \n",
      "    virus_counts.append(c.get_host_virus_population(c.environments[0]))\n",
      "    \n",
      "    if i == 5 and len(c.environments[0].hosts[0].viruses) > 0:\n",
      "        maxnum = len(c.environments[0].hosts[0].viruses)\n",
      "#         print maxnum\n",
      "        mutations.append(c.environments[0].hosts[0].viruses[maxnum - 1].mutations())\n",
      "    \n",
      "    if i == 10 and len(c.environments[0].hosts[0].viruses) > 0:\n",
      "        c.make_one_infection_happen(c.environments[0])\n",
      "        maxnum = len(c.environments[0].hosts[0].viruses)\n",
      "        print maxnum\n",
      "        mutations.append(c.environments[0].hosts[0].viruses[maxnum - 1].mutations())\n",
      "    \n",
      "    if i == 15 and len(c.environments[0].hosts[0].viruses) > 0:\n",
      "        maxnum = len(c.environments[0].hosts[0].viruses)\n",
      "        mutations.append(c.environments[0].hosts[0].viruses[maxnum - 1].mutations())\n",
      "        \n",
      "    if i == 25 and len(c.environments[0].hosts[1].viruses) > 0:\n",
      "        maxnum = len(c.environments[0].hosts[1].viruses)\n",
      "        mutations.append(c.environments[0].hosts[1].viruses[maxnum - 1].mutations())"
     ],
     "language": "python",
     "metadata": {},
     "outputs": [
      {
       "output_type": "stream",
       "stream": "stdout",
       "text": [
        "Time = 0\n",
        "Time = 1\n",
        "Time = 2"
       ]
      },
      {
       "output_type": "stream",
       "stream": "stdout",
       "text": [
        "\n",
        "Time = 3"
       ]
      },
      {
       "output_type": "stream",
       "stream": "stdout",
       "text": [
        "\n",
        "Time = 4"
       ]
      },
      {
       "output_type": "stream",
       "stream": "stdout",
       "text": [
        "\n",
        "Time = 5"
       ]
      },
      {
       "output_type": "stream",
       "stream": "stdout",
       "text": [
        "\n",
        "Time = 6"
       ]
      },
      {
       "output_type": "stream",
       "stream": "stdout",
       "text": [
        "\n",
        "Time = 7"
       ]
      },
      {
       "output_type": "stream",
       "stream": "stdout",
       "text": [
        "\n",
        "Time = 8"
       ]
      },
      {
       "output_type": "stream",
       "stream": "stdout",
       "text": [
        "\n",
        "Time = 9"
       ]
      },
      {
       "output_type": "stream",
       "stream": "stdout",
       "text": [
        "\n",
        "Time = 10"
       ]
      },
      {
       "output_type": "stream",
       "stream": "stdout",
       "text": [
        "\n",
        "1"
       ]
      },
      {
       "output_type": "stream",
       "stream": "stdout",
       "text": [
        "\n",
        "Time = 11\n",
        "Time = 12\n",
        "Time = 13"
       ]
      },
      {
       "output_type": "stream",
       "stream": "stdout",
       "text": [
        "\n",
        "Time = 14\n",
        "Time = 15"
       ]
      },
      {
       "output_type": "stream",
       "stream": "stdout",
       "text": [
        "\n",
        "Time = 16"
       ]
      },
      {
       "output_type": "stream",
       "stream": "stdout",
       "text": [
        "\n",
        "Time = 17"
       ]
      },
      {
       "output_type": "stream",
       "stream": "stdout",
       "text": [
        "\n",
        "Time = 18\n",
        "Time = 19"
       ]
      },
      {
       "output_type": "stream",
       "stream": "stdout",
       "text": [
        "\n",
        "Time = 20"
       ]
      },
      {
       "output_type": "stream",
       "stream": "stdout",
       "text": [
        "\n",
        "Time = 21"
       ]
      },
      {
       "output_type": "stream",
       "stream": "stdout",
       "text": [
        "\n",
        "Time = 22"
       ]
      },
      {
       "output_type": "stream",
       "stream": "stdout",
       "text": [
        "\n",
        "Time = 23"
       ]
      },
      {
       "output_type": "stream",
       "stream": "stdout",
       "text": [
        "\n",
        "Time = 24\n",
        "Time = 25\n",
        "Time = 26\n",
        "Time = 27\n",
        "Time = 28\n",
        "Time = 29\n"
       ]
      }
     ],
     "prompt_number": 14
    },
    {
     "cell_type": "code",
     "collapsed": false,
     "input": [
      "plt.plot(virus_counts)\n",
      "plt.show()"
     ],
     "language": "python",
     "metadata": {},
     "outputs": [
      {
       "metadata": {},
       "output_type": "display_data",
       "png": "[encoded data removed]",
       "text": [
        "<matplotlib.figure.Figure at 0x105f3f210>"
       ]
      }
     ],
     "prompt_number": 15
    },
    {
     "cell_type": "code",
     "collapsed": false,
     "input": [
      "len(mutations)"
     ],
     "language": "python",
     "metadata": {},
     "outputs": [
      {
       "metadata": {},
       "output_type": "pyout",
       "prompt_number": 23,
       "text": [
        "2"
       ]
      }
     ],
     "prompt_number": 23
    },
    {
     "cell_type": "code",
     "collapsed": false,
     "input": [],
     "language": "python",
     "metadata": {},
     "outputs": [],
     "prompt_number": 16
    }
   ],
   "metadata": {}
  }
 ]
}