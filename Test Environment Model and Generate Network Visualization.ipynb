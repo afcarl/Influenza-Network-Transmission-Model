{
 "metadata": {
  "name": "",
  "signature": "sha256:c1afa8fb332ba04d851b38601df7921a8736f77bae19b649cc5cf0c922823cd2"
 },
 "nbformat": 3,
 "nbformat_minor": 0,
 "worksheets": [
  {
   "cells": [
    {
     "cell_type": "code",
     "collapsed": false,
     "input": [
      "from environment import Environment\n",
      "import networkx as nx\n",
      "from random import random"
     ],
     "language": "python",
     "metadata": {},
     "outputs": [],
     "prompt_number": 1
    },
    {
     "cell_type": "code",
     "collapsed": false,
     "input": [
      "# Create an environment with 2 viruses\n",
      "e = Environment(num_viruses=2)\n",
      "\n",
      "# Get the virus IDs\n",
      "e.GetViruses()"
     ],
     "language": "python",
     "metadata": {},
     "outputs": [
      {
       "metadata": {},
       "output_type": "pyout",
       "prompt_number": 2,
       "text": [
        "[[0, None, ['GATTCAAAGC', 'TAGAGCGTAA']],\n",
        " [1, None, ['TTACTAGATC', 'CAGGCCGACA']]]"
       ]
      }
     ],
     "prompt_number": 2
    },
    {
     "cell_type": "code",
     "collapsed": false,
     "input": [
      "# For each virus, print each segment's ID and sequence\n",
      "for virus in e.GetViruses():\n",
      "    print virus"
     ],
     "language": "python",
     "metadata": {},
     "outputs": [
      {
       "output_type": "stream",
       "stream": "stdout",
       "text": [
        "[0, None, ['GATTCAAAGC', 'TAGAGCGTAA']]\n",
        "[1, None, ['TTACTAGATC', 'CAGGCCGACA']]\n"
       ]
      }
     ],
     "prompt_number": 3
    },
    {
     "cell_type": "code",
     "collapsed": false,
     "input": [
      "# Get a particular virus that is not present in the set.\n",
      "e.GetVirus(2)"
     ],
     "language": "python",
     "metadata": {},
     "outputs": [
      {
       "output_type": "stream",
       "stream": "stdout",
       "text": [
        "ERROR: The virus ID should be between 0 and the number of viruses in the environment.\n"
       ]
      }
     ],
     "prompt_number": 4
    },
    {
     "cell_type": "code",
     "collapsed": false,
     "input": [
      "# Get a particular virus that is present in the set.\n",
      "e.GetVirus(1)"
     ],
     "language": "python",
     "metadata": {},
     "outputs": [
      {
       "metadata": {},
       "output_type": "pyout",
       "prompt_number": 5,
       "text": [
        "[1, None, ['TTACTAGATC', 'CAGGCCGACA']]"
       ]
      }
     ],
     "prompt_number": 5
    },
    {
     "cell_type": "code",
     "collapsed": false,
     "input": [
      "# Pick any two viruses in the current set of viruses in the environment, and subject them to a random reassortment process.\n",
      "e.RandomlyReassortTwoViruses(mutate=False)\n",
      "# If the new virus that is appended had two parents, then it would have a tuple (i, j) as the second element in the list.\n",
      "# If the new virus that is appended had one parent, then it would have a single integer as the second element in the list.\n",
      "e.GetViruses()"
     ],
     "language": "python",
     "metadata": {},
     "outputs": [
      {
       "metadata": {},
       "output_type": "pyout",
       "prompt_number": 6,
       "text": [
        "[[0, None, ['GATTCAAAGC', 'TAGAGCGTAA']],\n",
        " [1, None, ['TTACTAGATC', 'CAGGCCGACA']],\n",
        " [2, (0, 1), ['GATTCAAAGC', 'CAGGCCGACA']]]"
       ]
      }
     ],
     "prompt_number": 6
    },
    {
     "cell_type": "code",
     "collapsed": false,
     "input": [
      "# Once again, print the virus sequences to verify that the reassortment did (or did not) take place.\n",
      "for virus in e.GetViruses():\n",
      "    print virus.GetSegments()"
     ],
     "language": "python",
     "metadata": {},
     "outputs": [
      {
       "output_type": "stream",
       "stream": "stdout",
       "text": [
        "[0 GATTCAAAGC, 1 TAGAGCGTAA]\n",
        "[0 TTACTAGATC, 1 CAGGCCGACA]\n",
        "[0 GATTCAAAGC, 1 CAGGCCGACA]\n"
       ]
      }
     ],
     "prompt_number": 7
    },
    {
     "cell_type": "code",
     "collapsed": false,
     "input": [
      "# Subject the environment to 10 rounds of replication. Allow the viruses to mutate with some probability (here it is 0.5)\n",
      "replication_rounds = range(10)\n",
      "for n in replication_rounds:\n",
      "    cointoss = random()\n",
      "    if cointoss > 0.5:\n",
      "        mutate = True\n",
      "    else:\n",
      "        mutate = False\n",
      "    e.ReplicateAVirus(mutate)"
     ],
     "language": "python",
     "metadata": {},
     "outputs": [],
     "prompt_number": 8
    },
    {
     "cell_type": "code",
     "collapsed": false,
     "input": [
      "for virus in e.GetViruses():\n",
      "    print virus, virus.IsMutated(), virus.IsReassorted()"
     ],
     "language": "python",
     "metadata": {},
     "outputs": [
      {
       "output_type": "stream",
       "stream": "stdout",
       "text": [
        "[0, None, ['GATTCAAAGC', 'TAGAGCGTAA']] False False\n",
        "[1, None, ['TTACTAGATC', 'CAGGCCGACA']] False False\n",
        "[2, (0, 1), ['GATTCAAAGC', 'CAGGCCGACA']] False True\n",
        "[3, 0, ['GATTCAAAGC', 'TAGAGCGTAA']] False False\n",
        "[4, 3, ['GATTCAAAGC', 'TAGAGTGTAA']] True False\n",
        "[5, 4, ['GGTTCAAAGC', 'TAGAGTGTAA']] True False\n",
        "[6, 5, ['GGTTCAAAGC', 'TAGAGTGTAG']] True False\n",
        "[7, 0, ['GATTCAAAGC', 'TAGAGCGTAA']] False False\n",
        "[8, 0, ['GTTTCAAAGC', 'TAGAGCGTAA']] True False\n",
        "[9, 1, ['TTACTAGATC', 'CAGGCCGACA']] False False\n",
        "[10, 7, ['GATTCAAAGC', 'TAGAGCGTAA']] False False\n",
        "[11, 6, ['TGTTCAAAGC', 'TAGAGTGTAG']] True False\n",
        "[12, 6, ['GGTTCAAAGC', 'TAGAGTGTAG']] False False\n"
       ]
      }
     ],
     "prompt_number": 9
    },
    {
     "cell_type": "code",
     "collapsed": false,
     "input": [
      "print len(e.GetViruses())"
     ],
     "language": "python",
     "metadata": {},
     "outputs": [
      {
       "output_type": "stream",
       "stream": "stdout",
       "text": [
        "13\n"
       ]
      }
     ],
     "prompt_number": 10
    },
    {
     "cell_type": "code",
     "collapsed": false,
     "input": [
      "# Randomly reassort two viruses again.\n",
      "e.RandomlyReassortTwoViruses(mutate=False)\n",
      "e.RandomlyReassortTwoViruses(mutate=False)"
     ],
     "language": "python",
     "metadata": {},
     "outputs": [],
     "prompt_number": 11
    },
    {
     "cell_type": "code",
     "collapsed": false,
     "input": [
      "# Print out the viruses present in the environment.\n",
      "for virus in e.GetViruses():\n",
      "    print virus, virus.GetSegments(), virus.mutated, virus.reassorted"
     ],
     "language": "python",
     "metadata": {},
     "outputs": [
      {
       "output_type": "stream",
       "stream": "stdout",
       "text": [
        "[0, None, ['GATTCAAAGC', 'TAGAGCGTAA']] [0 GATTCAAAGC, 1 TAGAGCGTAA] False False\n",
        "[1, None, ['TTACTAGATC', 'CAGGCCGACA']] [0 TTACTAGATC, 1 CAGGCCGACA] False False\n",
        "[2, (0, 1), ['GATTCAAAGC', 'CAGGCCGACA']] [0 GATTCAAAGC, 1 CAGGCCGACA] False True\n",
        "[3, 0, ['GATTCAAAGC', 'TAGAGCGTAA']] [0 GATTCAAAGC, 1 TAGAGCGTAA] False False\n",
        "[4, 3, ['GATTCAAAGC', 'TAGAGTGTAA']] [0 GATTCAAAGC, 1 TAGAGTGTAA] True False\n",
        "[5, 4, ['GGTTCAAAGC', 'TAGAGTGTAA']] [0 GGTTCAAAGC, 1 TAGAGTGTAA] True False\n",
        "[6, 5, ['GGTTCAAAGC', 'TAGAGTGTAG']] [0 GGTTCAAAGC, 1 TAGAGTGTAG] True False\n",
        "[7, 0, ['GATTCAAAGC', 'TAGAGCGTAA']] [0 GATTCAAAGC, 1 TAGAGCGTAA] False False\n",
        "[8, 0, ['GTTTCAAAGC', 'TAGAGCGTAA']] [0 GTTTCAAAGC, 1 TAGAGCGTAA] True False\n",
        "[9, 1, ['TTACTAGATC', 'CAGGCCGACA']] [0 TTACTAGATC, 1 CAGGCCGACA] False False\n",
        "[10, 7, ['GATTCAAAGC', 'TAGAGCGTAA']] [0 GATTCAAAGC, 1 TAGAGCGTAA] False False\n",
        "[11, 6, ['TGTTCAAAGC', 'TAGAGTGTAG']] [0 TGTTCAAAGC, 1 TAGAGTGTAG] True False\n",
        "[12, 6, ['GGTTCAAAGC', 'TAGAGTGTAG']] [0 GGTTCAAAGC, 1 TAGAGTGTAG] False False\n",
        "[13, (10, 12), ['GGTTCAAAGC', 'TAGAGCGTAA']] [0 GGTTCAAAGC, 1 TAGAGCGTAA] False True\n",
        "[14, 12, ['GGTTCAAAGC', 'TAGAGTGTAG']] [0 GGTTCAAAGC, 1 TAGAGTGTAG] False False\n"
       ]
      }
     ],
     "prompt_number": 12
    },
    {
     "cell_type": "markdown",
     "metadata": {},
     "source": [
      "# Visualize the network\n",
      "\n",
      "Below, we use NetworkX and matplotlib to visualize the network."
     ]
    },
    {
     "cell_type": "code",
     "collapsed": false,
     "input": [
      "G = nx.DiGraph()"
     ],
     "language": "python",
     "metadata": {},
     "outputs": [],
     "prompt_number": 13
    },
    {
     "cell_type": "code",
     "collapsed": false,
     "input": [
      "for virus in e.GetViruses():\n",
      "    parent = virus.GetParent()\n",
      "    child = virus.GetID()\n",
      "    if parent == None:\n",
      "        G.add_node(child)\n",
      "    elif type(parent) == int:\n",
      "        G.add_edge(parent, child, weight=1)\n",
      "    elif len(parent) == 2:\n",
      "        G.add_edge(parent[0], child, weight=0.5)\n",
      "        G.add_edge(parent[1], child, weight=0.5)\n"
     ],
     "language": "python",
     "metadata": {},
     "outputs": [],
     "prompt_number": 14
    },
    {
     "cell_type": "code",
     "collapsed": false,
     "input": [
      "G.nodes()"
     ],
     "language": "python",
     "metadata": {},
     "outputs": [
      {
       "metadata": {},
       "output_type": "pyout",
       "prompt_number": 15,
       "text": [
        "[0, 1, 2, 3, 4, 5, 6, 7, 8, 9, 10, 11, 12, 13, 14]"
       ]
      }
     ],
     "prompt_number": 15
    },
    {
     "cell_type": "code",
     "collapsed": false,
     "input": [
      "G.edges()"
     ],
     "language": "python",
     "metadata": {},
     "outputs": [
      {
       "metadata": {},
       "output_type": "pyout",
       "prompt_number": 16,
       "text": [
        "[(0, 8),\n",
        " (0, 2),\n",
        " (0, 3),\n",
        " (0, 7),\n",
        " (1, 9),\n",
        " (1, 2),\n",
        " (3, 4),\n",
        " (4, 5),\n",
        " (5, 6),\n",
        " (6, 11),\n",
        " (6, 12),\n",
        " (7, 10),\n",
        " (10, 13),\n",
        " (12, 13),\n",
        " (12, 14)]"
       ]
      }
     ],
     "prompt_number": 16
    },
    {
     "cell_type": "code",
     "collapsed": false,
     "input": [
      "nx.draw_circular(G)"
     ],
     "language": "python",
     "metadata": {},
     "outputs": [
      {
       "metadata": {},
       "output_type": "display_data",
       "png": "[encoded data removed]",
       "text": [
        "<matplotlib.figure.Figure at 0x10604c810>"
       ]
      }
     ],
     "prompt_number": 17
    },
    {
     "cell_type": "code",
     "collapsed": false,
     "input": [],
     "language": "python",
     "metadata": {},
     "outputs": [],
     "prompt_number": 17
    }
   ],
   "metadata": {}
  }
 ]
}