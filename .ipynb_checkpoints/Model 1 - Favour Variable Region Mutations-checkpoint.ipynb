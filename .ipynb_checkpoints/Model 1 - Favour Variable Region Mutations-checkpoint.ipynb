{
 "metadata": {
  "name": "",
  "signature": "sha256:b7d0d71d27b59e7f765d7bc25ff7a1129bc4e73ad21328c40f9f4f7868fdacf0"
 },
 "nbformat": 3,
 "nbformat_minor": 0,
 "worksheets": [
  {
   "cells": [
    {
     "cell_type": "markdown",
     "metadata": {},
     "source": [
      "# Introduction\n",
      "\n",
      "In this notebook, the goal is to explicitly model the simplest process that can happen within an environment containing influenza viruses. Here, the following parameters are used:\n",
      "\n",
      "1. Only 1 smallfluvirus seeding.\n",
      "2. No reassortments happen.\n",
      "3. At each time step, replicate a virus.\n",
      "    1. 90% probability of mutation in varialbe region\n",
      "    2. 9% probability of single point mutation anywhere\n",
      "    3. 1% probability of no mutation\n",
      "4. Stop replicating when population size = 20\n",
      "\n",
      "At the end, we do two things:\n",
      "\n",
      "1. Dump all sequences out.\n",
      "2. Sample 50 sequences, and dump those."
     ]
    },
    {
     "cell_type": "code",
     "collapsed": false,
     "input": [
      "from environment import Environment\n",
      "from sampler import Sampler\n",
      "from random import random"
     ],
     "language": "python",
     "metadata": {},
     "outputs": [],
     "prompt_number": 1
    },
    {
     "cell_type": "code",
     "collapsed": false,
     "input": [
      "e = Environment(num_viruses=1, virus_type='influenza')"
     ],
     "language": "python",
     "metadata": {},
     "outputs": [
      {
       "output_type": "stream",
       "stream": "stdout",
       "text": [
        "[124]\n",
        "[295, 292, 209, 208, 255, 214, 267, 260, 232, 297, 283, 272, 206, 278, 269, 293, 220, 224, 205, 273]\n",
        "[146]\n"
       ]
      }
     ],
     "prompt_number": 2
    },
    {
     "cell_type": "code",
     "collapsed": false,
     "input": [
      "while len(e.GetViruses()) < 20:\n",
      "    cointoss = random()\n",
      "    \n",
      "    # 1% probability of replicating with no mutation\n",
      "    if cointoss <= 0.01:\n",
      "        e.ReplicateAVirus()\n",
      "    \n",
      "    # 9% probability of replicating while mutating single position anywhere\n",
      "    if cointoss > 0.01 and cointoss <= 0.1:\n",
      "        e.ReplicateAVirus(mutate=True, date=len(e.GetViruses()))\n",
      "    \n",
      "    # 90% probability of replicating while mutating 20 positions in the variable region and mutating a single position anywhere\n",
      "    else:\n",
      "        e.ReplicateAVirus(mutate=True, mutate_variable_region=True, date=len(e.GetViruses()))"
     ],
     "language": "python",
     "metadata": {},
     "outputs": [
      {
       "ename": "TypeError",
       "evalue": "ReplicateAVirus() got an unexpected keyword argument 'creation_date'",
       "output_type": "pyerr",
       "traceback": [
        "\u001b[0;31m---------------------------------------------------------------------------\u001b[0m\n\u001b[0;31mTypeError\u001b[0m                                 Traceback (most recent call last)",
        "\u001b[0;32m<ipython-input-3-aa6557bc065c>\u001b[0m in \u001b[0;36m<module>\u001b[0;34m()\u001b[0m\n\u001b[1;32m     12\u001b[0m     \u001b[0;31m# 90% probability of replicating while mutating 20 positions in the variable region and mutating a single position anywhere\u001b[0m\u001b[0;34m\u001b[0m\u001b[0;34m\u001b[0m\u001b[0m\n\u001b[1;32m     13\u001b[0m     \u001b[0;32melse\u001b[0m\u001b[0;34m:\u001b[0m\u001b[0;34m\u001b[0m\u001b[0m\n\u001b[0;32m---> 14\u001b[0;31m         \u001b[0me\u001b[0m\u001b[0;34m.\u001b[0m\u001b[0mReplicateAVirus\u001b[0m\u001b[0;34m(\u001b[0m\u001b[0mmutate\u001b[0m\u001b[0;34m=\u001b[0m\u001b[0mTrue\u001b[0m\u001b[0;34m,\u001b[0m \u001b[0mmutate_variable_region\u001b[0m\u001b[0;34m=\u001b[0m\u001b[0mTrue\u001b[0m\u001b[0;34m,\u001b[0m \u001b[0mcreation_date\u001b[0m\u001b[0;34m=\u001b[0m\u001b[0mlen\u001b[0m\u001b[0;34m(\u001b[0m\u001b[0me\u001b[0m\u001b[0;34m.\u001b[0m\u001b[0mGetViruses\u001b[0m\u001b[0;34m(\u001b[0m\u001b[0;34m)\u001b[0m\u001b[0;34m)\u001b[0m\u001b[0;34m)\u001b[0m\u001b[0;34m\u001b[0m\u001b[0m\n\u001b[0m",
        "\u001b[0;31mTypeError\u001b[0m: ReplicateAVirus() got an unexpected keyword argument 'creation_date'"
       ]
      }
     ],
     "prompt_number": 3
    },
    {
     "cell_type": "code",
     "collapsed": false,
     "input": [
      "len(e.GetViruses())"
     ],
     "language": "python",
     "metadata": {},
     "outputs": []
    },
    {
     "cell_type": "code",
     "collapsed": false,
     "input": [
      "s = Sampler()\n",
      "s.SampleVirusesFromEnvironment(e, 'all')\n",
      "s.DumpSequences()"
     ],
     "language": "python",
     "metadata": {},
     "outputs": []
    },
    {
     "cell_type": "code",
     "collapsed": false,
     "input": [
      "s.GenerateNetworkVisualization()"
     ],
     "language": "python",
     "metadata": {},
     "outputs": []
    },
    {
     "cell_type": "code",
     "collapsed": false,
     "input": [
      "s.SampleVirusesFromEnvironment(e, 10)\n",
      "s.DumpSequences()"
     ],
     "language": "python",
     "metadata": {},
     "outputs": []
    },
    {
     "cell_type": "code",
     "collapsed": false,
     "input": [
      "s.GenerateNetworkVisualization()"
     ],
     "language": "python",
     "metadata": {},
     "outputs": []
    }
   ],
   "metadata": {}
  }
 ]
}