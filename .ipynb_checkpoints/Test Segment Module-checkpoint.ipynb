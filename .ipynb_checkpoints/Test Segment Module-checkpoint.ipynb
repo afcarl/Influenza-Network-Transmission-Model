{
 "metadata": {
  "name": "",
  "signature": "sha256:eddfc9ccd3db0fe1d70e110b0216388c80d984c89c297580e203f25f035e0cdb"
 },
 "nbformat": 3,
 "nbformat_minor": 0,
 "worksheets": [
  {
   "cells": [
    {
     "cell_type": "code",
     "collapsed": false,
     "input": [
      "from segment import Segment"
     ],
     "language": "python",
     "metadata": {},
     "outputs": [],
     "prompt_number": 1
    },
    {
     "cell_type": "code",
     "collapsed": false,
     "input": [
      "segment = Segment(segment_number=0, mutation_rate=0.03)\n",
      "segment.compute_sequence()"
     ],
     "language": "python",
     "metadata": {},
     "outputs": [
      {
       "metadata": {},
       "output_type": "pyout",
       "prompt_number": 3,
       "text": [
        "'GTTAATATCGTTGACGAGAGGATGCCAACCAGTTGGTCCTCACGCATATGTTTCTGGACACGACCGATGATGAATAAACGAATACGTCAGTCCAACGAGCGGTATGTGCGGAACCAGAGTAGAACCGCAACCGGATCCATGTGCTGTATCGCGGAGAAGAGCCGATGGAATAAACTGGCGGGGATTAGGCCGCCTAGCTATAGGTAAAGGGAATGATTCCATGACGATTGGAATACGGTTAGTTAGGTAAAATTATGAGGCCCTGTAAGTCCATACCGGGAGCACCATTGCATTCAAACTATCGAGCGACTCCCTGTTACTTAAGTCTACTCAGCAGGGTACCTACTGCCTAAGTGACCCGTATTCCGTTCTTACATATCATCTAGACTGGGGATGGTACGGGTATGAAGTACAAAGGCCACCGAGAGTTGAGCTATGCCAGCGAACATGCTAAGGAACGCGAAAGTGTGCTGAGTCCCGCTGTTATGGCCAGCGGTTCACAAGGCCAACTTACTACTTAAGTTCCAGTCCGAGTAAGGGTCACCGTTTCGGTCTCCCTCCAGGAGCGCGGAAGGTGGCTCATTTGTTCACGATAGGAGGTGTGTTGATCCTTTTACGACTGCATCCCGGCACGGGTTCTTTCACGAGCCGAGTGCTTCGGCAGATGCTGTACCCTCTCATTAGTGCGTCAAGTTTTAACGTGTGTGCTGTGGCCCTTCGGATGTCCTGCTCCATTGTCAGTTTAATAGGCGCAGTTGTGTAGGATACGGCCGGGCGAGTCACCCGTTAGACCGTGGCCCTAGATTTAGTGGAAAAGAATCAACAAGTTTACACAAGCTGATCAACGACTAGCGTCCCAAATCACTCTGCCAAGGTTCACAATGATTCGATCTCATTCGACATGGTCTGCAGAGCCACCGCGTATCGCACAATACCTCTTTTGGACGGACACGCGAACATCCCGATGCTAGAACGCTCTCCTGCGAAACATGAGCGGCCC'"
       ]
      }
     ],
     "prompt_number": 3
    },
    {
     "cell_type": "code",
     "collapsed": false,
     "input": [
      "segment.mutations"
     ],
     "language": "python",
     "metadata": {},
     "outputs": [
      {
       "metadata": {},
       "output_type": "pyout",
       "prompt_number": 4,
       "text": [
        "{}"
       ]
      }
     ],
     "prompt_number": 4
    },
    {
     "cell_type": "code",
     "collapsed": false,
     "input": [
      "segment.mutate()\n",
      "segment.compute_sequence()"
     ],
     "language": "python",
     "metadata": {},
     "outputs": [
      {
       "metadata": {},
       "output_type": "pyout",
       "prompt_number": 5,
       "text": [
        "'GTTAATATCGTTGACGAGAGGATGCCAACCACTTGGTCCTTACGCATATGTTTCTGGACACGACCGATGATGAATAAACGAATACGTCAGTCCAACGAGCGGTATGTGCGGAACCAGAGTAGAAGCGCAACCGGATCCATGTGCTGTAACGCGGAGAAGAGCCGATGGAATAAACTGGCGGGGATTAGGCCGCCTAGCTATAGGTAAAGGGAATGATTCCATGACGATTGGAATACGGTTATTTAGGTAAATTTATGAGGCCCTGTAAGTCCGTACCGGGAGCACCATTGCATTGAAACTTTCGAGCGACTCCCTGTTACTTAAGTCTACTCAGCTGGGTACCTACTGCCTAAGTGACCCGTATTCCGTTCTTACATATCATCTAGACTGGGGATGGTACGGGTATGAAGTACAAAGGCCACCGAGAGTTGAGCTATGCCAGCGAACTTGCTAAGGAACGCGAGAGTGTGCTGAGTCCCGCTGTTATGGGCAGCGGTTCACAAGGCCAACTTACTACTTAAGTTCCAGTCCGAGTTAGGGTCACCGTTTCGGTCTCCCGCCAGGAGCGCGGAAGGTGGCTCATTTGTTCACGATAGGAGGTGTGTTGATCCTTTTACGACTGCATCCCGGCACGGGTTCATTCACGAGCCGAGTGCTTCGGCACATGCTGTACTCTCTCATTAGTGCGTCAAGTTTGAACGTGTGAGCTGTGGCCCTTCGGATGTCCTGCTCCATGGTCATTTTAATAGGCGCAGTTGTGTAGGATACGGCCGGGAGAGTCACCCGTTAGACCGTGGCCCTAGATTTAGTGGAAAAGAATTAACAAGTTTACACAAGATGATCAACGACTAGCGTCCCAAATCACTCTGCCAAGGTTCACAATGATTCGATCTCATTAGACATGGTCTGCAGAGCCACCGCGTATCGCACAATACCTCTTTTGGACGGACACGGGAATATCCCGATGCTGGAACGCTCTCCTGCGTAACATGCGCGGCCC'"
       ]
      }
     ],
     "prompt_number": 5
    },
    {
     "cell_type": "code",
     "collapsed": false,
     "input": [
      "segment.mutations"
     ],
     "language": "python",
     "metadata": {},
     "outputs": [
      {
       "metadata": {},
       "output_type": "pyout",
       "prompt_number": 6,
       "text": [
        "{31: 'C',\n",
        " 40: 'T',\n",
        " 124: 'G',\n",
        " 148: 'A',\n",
        " 241: 'T',\n",
        " 251: 'T',\n",
        " 272: 'G',\n",
        " 294: 'G',\n",
        " 300: 'T',\n",
        " 335: 'T',\n",
        " 447: 'T',\n",
        " 463: 'G',\n",
        " 489: 'G',\n",
        " 535: 'T',\n",
        " 558: 'G',\n",
        " 639: 'A',\n",
        " 663: 'C',\n",
        " 673: 'T',\n",
        " 696: 'G',\n",
        " 705: 'A',\n",
        " 735: 'G',\n",
        " 740: 'T',\n",
        " 775: 'A',\n",
        " 820: 'T',\n",
        " 837: 'A',\n",
        " 897: 'A',\n",
        " 953: 'G',\n",
        " 957: 'T',\n",
        " 969: 'G',\n",
        " 985: 'T',\n",
        " 992: 'C'}"
       ]
      }
     ],
     "prompt_number": 6
    },
    {
     "cell_type": "code",
     "collapsed": false,
     "input": [
      "segment"
     ],
     "language": "python",
     "metadata": {},
     "outputs": [
      {
       "metadata": {},
       "output_type": "pyout",
       "prompt_number": 7,
       "text": [
        "Segment 0"
       ]
      }
     ],
     "prompt_number": 7
    },
    {
     "cell_type": "code",
     "collapsed": false,
     "input": [
      "segment.get_segment_number()"
     ],
     "language": "python",
     "metadata": {},
     "outputs": [
      {
       "metadata": {},
       "output_type": "pyout",
       "prompt_number": 8,
       "text": [
        "0"
       ]
      }
     ],
     "prompt_number": 8
    },
    {
     "cell_type": "code",
     "collapsed": false,
     "input": [],
     "language": "python",
     "metadata": {},
     "outputs": []
    }
   ],
   "metadata": {}
  }
 ]
}