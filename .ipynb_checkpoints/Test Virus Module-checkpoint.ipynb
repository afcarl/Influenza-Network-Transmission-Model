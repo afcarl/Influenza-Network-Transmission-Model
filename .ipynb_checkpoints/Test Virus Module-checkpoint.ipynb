{
 "metadata": {
  "name": "",
  "signature": "sha256:f16681c4f9d880ffac2ce453d6ea26e8d79bd370adfcbade3f77961213c4fd1c"
 },
 "nbformat": 3,
 "nbformat_minor": 0,
 "worksheets": [
  {
   "cells": [
    {
     "cell_type": "code",
     "collapsed": false,
     "input": [
      "from virus import Virus\n",
      "from host import Host\n",
      "from environment import Environment"
     ],
     "language": "python",
     "metadata": {},
     "outputs": [],
     "prompt_number": 1
    },
    {
     "cell_type": "code",
     "collapsed": false,
     "input": [
      "e = Environment()\n",
      "h1 = Host(environment=e)\n",
      "h2 = Host(environment=e)\n",
      "v = Virus(creation_date=1, host=h1)\n",
      "v"
     ],
     "language": "python",
     "metadata": {},
     "outputs": [
      {
       "metadata": {},
       "output_type": "pyout",
       "prompt_number": 2,
       "text": [
        "e6ba5e5292dd3ebe23a69641128ef60b71b553eff3632142d2cd14479fc84c677b6a3db1908723e33b2a441bda8bf80eb7df2d86f97d0bfb56ac7035803a5a54"
       ]
      }
     ],
     "prompt_number": 2
    },
    {
     "cell_type": "code",
     "collapsed": false,
     "input": [
      "v.get_sequence()"
     ],
     "language": "python",
     "metadata": {},
     "outputs": [
      {
       "metadata": {},
       "output_type": "pyout",
       "prompt_number": 3,
       "text": [
        "['ATCAGTCGCC', 'GACGTGACGC']"
       ]
      }
     ],
     "prompt_number": 3
    },
    {
     "cell_type": "code",
     "collapsed": false,
     "input": [
      "v.compute_genome_length()"
     ],
     "language": "python",
     "metadata": {},
     "outputs": [
      {
       "metadata": {},
       "output_type": "pyout",
       "prompt_number": 4,
       "text": [
        "20"
       ]
      }
     ],
     "prompt_number": 4
    },
    {
     "cell_type": "code",
     "collapsed": false,
     "input": [],
     "language": "python",
     "metadata": {},
     "outputs": [],
     "prompt_number": 4
    },
    {
     "cell_type": "code",
     "collapsed": false,
     "input": [
      "v.segments"
     ],
     "language": "python",
     "metadata": {},
     "outputs": [
      {
       "metadata": {},
       "output_type": "pyout",
       "prompt_number": 5,
       "text": [
        "[Segment 0, Segment 1]"
       ]
      }
     ],
     "prompt_number": 5
    },
    {
     "cell_type": "code",
     "collapsed": false,
     "input": [
      "v.segments[0].mutate()\n",
      "v.segments[0].compute_sequence()"
     ],
     "language": "python",
     "metadata": {},
     "outputs": [
      {
       "metadata": {},
       "output_type": "pyout",
       "prompt_number": 6,
       "text": [
        "'ATCAGTCGCC'"
       ]
      }
     ],
     "prompt_number": 6
    },
    {
     "cell_type": "code",
     "collapsed": false,
     "input": [
      "v.mutate()"
     ],
     "language": "python",
     "metadata": {},
     "outputs": [],
     "prompt_number": 7
    },
    {
     "cell_type": "code",
     "collapsed": false,
     "input": [
      "v.get_sequence()"
     ],
     "language": "python",
     "metadata": {},
     "outputs": [
      {
       "metadata": {},
       "output_type": "pyout",
       "prompt_number": 8,
       "text": [
        "['ATCAGTCGCC', 'GACGTGAAGC']"
       ]
      }
     ],
     "prompt_number": 8
    },
    {
     "cell_type": "code",
     "collapsed": false,
     "input": [
      "x = v.replicate(date=1)\n",
      "x"
     ],
     "language": "python",
     "metadata": {},
     "outputs": [
      {
       "metadata": {},
       "output_type": "pyout",
       "prompt_number": 9,
       "text": [
        "88bd1e3810a0a79a2779df244a82d4097f43d996c55feefdb6aa5100c7154de083fd037d9d7a475558bd1009c420753c68bf2290e2d19436970a30c57ef4d19b"
       ]
      }
     ],
     "prompt_number": 9
    },
    {
     "cell_type": "code",
     "collapsed": false,
     "input": [
      "h1, h2"
     ],
     "language": "python",
     "metadata": {},
     "outputs": [
      {
       "metadata": {},
       "output_type": "pyout",
       "prompt_number": 10,
       "text": [
        "(Host fd5abef2d059e7eb22abe67bd6bd675e057fd8d1460499be8b04f65a3143d56e35a93cba9b618c28fad72e75cb1459dcf652adc7dd481eecbb18e8334f8583ae infected with 2 viruses.,\n",
        " Host 32480086fbfb4397d830562ff6082b3ed3fc86cf338ccfcddcd87b60256dacd4b2089be0a1d6ededa81179647eabb482c5d5de1557c84b682332cd44ba922bcb infected with 0 viruses.)"
       ]
      }
     ],
     "prompt_number": 10
    },
    {
     "cell_type": "code",
     "collapsed": false,
     "input": [
      "v"
     ],
     "language": "python",
     "metadata": {},
     "outputs": [
      {
       "metadata": {},
       "output_type": "pyout",
       "prompt_number": 11,
       "text": [
        "e6ba5e5292dd3ebe23a69641128ef60b71b553eff3632142d2cd14479fc84c677b6a3db1908723e33b2a441bda8bf80eb7df2d86f97d0bfb56ac7035803a5a54"
       ]
      }
     ],
     "prompt_number": 11
    },
    {
     "cell_type": "code",
     "collapsed": false,
     "input": [
      "x.mutate()\n",
      "x.segments"
     ],
     "language": "python",
     "metadata": {},
     "outputs": [
      {
       "metadata": {},
       "output_type": "pyout",
       "prompt_number": 14,
       "text": [
        "[Segment 0, Segment 1]"
       ]
      }
     ],
     "prompt_number": 14
    },
    {
     "cell_type": "code",
     "collapsed": false,
     "input": [
      "x.get_sequence()"
     ],
     "language": "python",
     "metadata": {},
     "outputs": [
      {
       "metadata": {},
       "output_type": "pyout",
       "prompt_number": 16,
       "text": [
        "['ATCAGTCGCC', 'GATGTAAAAC']"
       ]
      }
     ],
     "prompt_number": 16
    },
    {
     "cell_type": "code",
     "collapsed": false,
     "input": [
      "viruses = [x, v]\n",
      "viruses"
     ],
     "language": "python",
     "metadata": {},
     "outputs": []
    },
    {
     "cell_type": "code",
     "collapsed": false,
     "input": [
      "y = x.replicate(date=3)\n",
      "y"
     ],
     "language": "python",
     "metadata": {},
     "outputs": [
      {
       "metadata": {},
       "output_type": "pyout",
       "prompt_number": 17,
       "text": [
        "6385791c6a6b6d09a472569179d14d9ef15665f433d54c79b68084beda7b8f7b969dd08f79ad4f24c5d0db30437bb119bd4bac852b6eb7aa51438466514b1539"
       ]
      }
     ],
     "prompt_number": 17
    },
    {
     "cell_type": "code",
     "collapsed": false,
     "input": [
      "z = y.replicate(date=4)\n",
      "z"
     ],
     "language": "python",
     "metadata": {},
     "outputs": [
      {
       "metadata": {},
       "output_type": "pyout",
       "prompt_number": 18,
       "text": [
        "187109d509a77da34f683f203b7d3b02d3cc555be438e940f61de48ff9d0bbfecaedf61dfb763ba7d9bd6a97d86db05f098b9b019f3e3baa4edb2650d11eff01"
       ]
      }
     ],
     "prompt_number": 18
    },
    {
     "cell_type": "code",
     "collapsed": false,
     "input": [
      "h1, h2"
     ],
     "language": "python",
     "metadata": {},
     "outputs": [
      {
       "metadata": {},
       "output_type": "pyout",
       "prompt_number": 19,
       "text": [
        "(Host fd5abef2d059e7eb22abe67bd6bd675e057fd8d1460499be8b04f65a3143d56e35a93cba9b618c28fad72e75cb1459dcf652adc7dd481eecbb18e8334f8583ae infected with 4 viruses.,\n",
        " Host 32480086fbfb4397d830562ff6082b3ed3fc86cf338ccfcddcd87b60256dacd4b2089be0a1d6ededa81179647eabb482c5d5de1557c84b682332cd44ba922bcb infected with 0 viruses.)"
       ]
      }
     ],
     "prompt_number": 19
    },
    {
     "cell_type": "code",
     "collapsed": false,
     "input": [
      "h1.infect(h2)"
     ],
     "language": "python",
     "metadata": {},
     "outputs": []
    },
    {
     "cell_type": "code",
     "collapsed": false,
     "input": [
      "h2.GetViruses()"
     ],
     "language": "python",
     "metadata": {},
     "outputs": []
    },
    {
     "cell_type": "code",
     "collapsed": false,
     "input": [
      "h1.GetViruses()"
     ],
     "language": "python",
     "metadata": {},
     "outputs": []
    },
    {
     "cell_type": "code",
     "collapsed": false,
     "input": [],
     "language": "python",
     "metadata": {},
     "outputs": []
    },
    {
     "cell_type": "code",
     "collapsed": false,
     "input": [],
     "language": "python",
     "metadata": {},
     "outputs": []
    }
   ],
   "metadata": {}
  }
 ]
}