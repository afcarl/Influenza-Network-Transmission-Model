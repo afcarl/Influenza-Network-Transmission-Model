{
 "metadata": {
  "name": "",
  "signature": "sha256:960709b9225ec933b6375d15cdfe192fb8986dff1296e639f1158ca95f404c28"
 },
 "nbformat": 3,
 "nbformat_minor": 0,
 "worksheets": [
  {
   "cells": [
    {
     "cell_type": "markdown",
     "metadata": {},
     "source": [
      "# Pre-Run Comments\n",
      "\n",
      "Note that the number of iterations being run can be changed. \n",
      "\n",
      "* If testing, change to a small number, like 3.\n",
      "* If generating results, change to a large number, like 10000."
     ]
    },
    {
     "cell_type": "code",
     "collapsed": false,
     "input": [
      "from controller import Controller"
     ],
     "language": "python",
     "metadata": {},
     "outputs": [],
     "prompt_number": 16
    },
    {
     "cell_type": "code",
     "collapsed": false,
     "input": [
      "virus_counts_list = []\n",
      "\n",
      "for j in range(3):\n",
      "    print('Current iteration: %s' % j)\n",
      "    c = Controller()\n",
      "    c.create_environment(num_hosts=1)\n",
      "    c.create_virus(c.environments[0].hosts[0])\n",
      "    \n",
      "    virus_counts = []\n",
      "\n",
      "    for i in range(30):\n",
      "        c.increment_timestep()\n",
      "\n",
      "        virus_counts.append(c.get_host_virus_population(c.environments[0]))\n",
      "        \n",
      "    virus_counts_list.append(virus_counts)"
     ],
     "language": "python",
     "metadata": {},
     "outputs": [
      {
       "output_type": "stream",
       "stream": "stdout",
       "text": [
        "Current iteration: 0\n",
        "Current iteration: 1"
       ]
      },
      {
       "output_type": "stream",
       "stream": "stdout",
       "text": [
        "\n",
        "Current iteration: 2"
       ]
      },
      {
       "output_type": "stream",
       "stream": "stdout",
       "text": [
        "\n"
       ]
      }
     ],
     "prompt_number": 17
    },
    {
     "cell_type": "code",
     "collapsed": false,
     "input": [
      "plt.figure(0)\n",
      "for v in virus_counts_list:\n",
      "    plt.plot(v, color='blue', alpha=0.1)\n",
      "plt.xlabel('Time (days)')\n",
      "plt.ylabel('Viral Load')\n",
      "plt.title('Viral Load Dynamics in One Host')\n",
      "plt.savefig('Kinetic MC/Viral Load Dynamics in One Host.pdf')\n",
      "plt.show()"
     ],
     "language": "python",
     "metadata": {},
     "outputs": [
      {
       "metadata": {},
       "output_type": "display_data",
       "png": "[encoded data removed]",
       "text": [
        "<matplotlib.figure.Figure at 0x1062029d0>"
       ]
      }
     ],
     "prompt_number": 18
    },
    {
     "cell_type": "code",
     "collapsed": false,
     "input": [],
     "language": "python",
     "metadata": {},
     "outputs": [],
     "prompt_number": 18
    }
   ],
   "metadata": {}
  }
 ]
}