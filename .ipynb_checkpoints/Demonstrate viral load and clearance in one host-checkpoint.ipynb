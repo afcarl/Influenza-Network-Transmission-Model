{
 "metadata": {
  "name": "",
  "signature": "sha256:6235b9554880b92797e0deca5cceeb3b7bf6b186a8ad8252399a383609e4a0ab"
 },
 "nbformat": 3,
 "nbformat_minor": 0,
 "worksheets": [
  {
   "cells": [
    {
     "cell_type": "code",
     "collapsed": false,
     "input": [
      "from controller import Controller"
     ],
     "language": "python",
     "metadata": {},
     "outputs": [],
     "prompt_number": 1
    },
    {
     "cell_type": "code",
     "collapsed": false,
     "input": [
      "virus_counts_list = []\n",
      "\n",
      "for j in range(10):\n",
      "    c = Controller()\n",
      "    c.create_environment(num_hosts=1)\n",
      "    c.create_virus(c.environments[0].hosts[0])\n",
      "    \n",
      "    virus_counts = []\n",
      "\n",
      "    for i in range(30):\n",
      "        c.increment_timestep()\n",
      "\n",
      "        virus_counts.append(c.get_host_virus_population(c.environments[0]))\n",
      "        \n",
      "    virus_counts_list.append(virus_counts)"
     ],
     "language": "python",
     "metadata": {},
     "outputs": [
      {
       "output_type": "stream",
       "stream": "stdout",
       "text": [
        "Adding host d0d44... to environment 6798f...\n",
        "Creating environment 6798f\n",
        "Creating virus 04ec3 inside host d0d44\n",
        "Current time is 0. Incrementing time to 1\n",
        "Generating 6 progeny in host d0d44...\n",
        "5 progeny have been made from virus 04ec3 in host d0d44\n",
        "5 progeny have been made from virus 04ec3 in host d0d44\n",
        "10 progeny generated in host d0d44.\n",
        "Current time is 1. Incrementing time to 2\n",
        "Generating 14 progeny in host d0d44...\n",
        "5 progeny have been made from virus e58b5 in host d0d44\n",
        "6 progeny have been made from virus ea785 in host d0d44\n",
        "7 progeny have been made from virus e58b5 in host d0d44"
       ]
      },
      {
       "output_type": "stream",
       "stream": "stdout",
       "text": [
        "\n",
        "18 progeny generated in host d0d44.\n",
        "Current time is 2. Incrementing time to 3\n",
        "Generating 41 progeny in host d0d44...\n",
        "8 progeny have been made from virus 04ec3 in host d0d44\n",
        "9 progeny have been made from virus 433a4 in host d0d44\n",
        "6 progeny have been made from virus ddad8 in host d0d44\n",
        "10 progeny have been made from virus ddad8 in host d0d44"
       ]
      },
      {
       "output_type": "stream",
       "stream": "stdout",
       "text": [
        "\n",
        "9 progeny have been made from virus 75043 in host d0d44\n",
        "42 progeny generated in host d0d44.\n",
        "Current time is 3. Incrementing time to 4\n",
        "Generating 27 progeny in host d0d44...\n",
        "10 progeny have been made from virus 784f9 in host d0d44\n",
        "9 progeny have been made from virus 86524 in host d0d44"
       ]
      },
      {
       "output_type": "stream",
       "stream": "stdout",
       "text": [
        "\n",
        "10 progeny have been made from virus ed9f7 in host d0d44\n",
        "29 progeny generated in host d0d44.\n",
        "Current time is 4. Incrementing time to 5\n",
        "Generating 96 progeny in host d0d44...\n",
        "9 progeny have been made from virus 64c7d in host d0d44\n",
        "10 progeny have been made from virus f52a2 in host d0d44"
       ]
      },
      {
       "output_type": "stream",
       "stream": "stdout",
       "text": [
        "\n",
        "9 progeny have been made from virus cafa6 in host d0d44\n",
        "7 progeny have been made from virus 85d00 in host d0d44\n",
        "8 progeny have been made from virus 8e2a8 in host d0d44"
       ]
      },
      {
       "output_type": "stream",
       "stream": "stdout",
       "text": [
        "\n",
        "8 progeny have been made from virus d6f5e in host d0d44\n",
        "8 progeny have been made from virus ca76a in host d0d44\n",
        "6 progeny have been made from virus 85d00 in host d0d44"
       ]
      },
      {
       "output_type": "stream",
       "stream": "stdout",
       "text": [
        "\n",
        "10 progeny have been made from virus d6f5e in host d0d44\n",
        "6 progeny have been made from virus 64c7d in host d0d44\n",
        "9 progeny have been made from virus 8e2a8 in host d0d44"
       ]
      },
      {
       "output_type": "stream",
       "stream": "stdout",
       "text": [
        "\n",
        "5 progeny have been made from virus 267ba in host d0d44\n",
        "7 progeny have been made from virus 784f9 in host d0d44\n",
        "102 progeny generated in host d0d44.\n",
        "Current time is 5. Incrementing time to 6\n",
        "Generating 185 progeny in host d0d44...\n",
        "8 progeny have been made from virus 7f31b in host d0d44"
       ]
      },
      {
       "output_type": "stream",
       "stream": "stdout",
       "text": [
        "\n",
        "6 progeny have been made from virus 9e04b in host d0d44\n",
        "7 progeny have been made from virus 7e35e in host d0d44\n",
        "6 progeny have been made from virus 3bffd in host d0d44\n",
        "8 progeny have been made from virus 7dc22 in host d0d44"
       ]
      },
      {
       "output_type": "stream",
       "stream": "stdout",
       "text": [
        "\n",
        "6 progeny have been made from virus f99e4 in host d0d44\n",
        "6 progeny have been made from virus 6e530 in host d0d44\n",
        "8 progeny have been made from virus 94e86 in host d0d44"
       ]
      },
      {
       "output_type": "stream",
       "stream": "stdout",
       "text": [
        "\n",
        "10 progeny have been made from virus 0a93f in host d0d44\n",
        "10 progeny have been made from virus 8f439 in host d0d44"
       ]
      },
      {
       "output_type": "stream",
       "stream": "stdout",
       "text": [
        "\n",
        "5 progeny have been made from virus 66b02 in host d0d44\n",
        "6 progeny have been made from virus f3ab6 in host d0d44\n",
        "7 progeny have been made from virus 8f439 in host d0d44\n",
        "8 progeny have been made from virus ce928 in host d0d44"
       ]
      },
      {
       "output_type": "stream",
       "stream": "stdout",
       "text": [
        "\n",
        "7 progeny have been made from virus 9337e in host d0d44\n",
        "5 progeny have been made from virus c16e8 in host d0d44\n",
        "7 progeny have been made from virus f8e97 in host d0d44"
       ]
      },
      {
       "output_type": "stream",
       "stream": "stdout",
       "text": [
        "\n",
        "9 progeny have been made from virus a43b1 in host d0d44\n",
        "10 progeny have been made from virus 19374 in host d0d44"
       ]
      },
      {
       "output_type": "stream",
       "stream": "stdout",
       "text": [
        "\n",
        "6 progeny have been made from virus 9c195 in host d0d44\n",
        "6 progeny have been made from virus e0c47 in host d0d44\n",
        "7 progeny have been made from virus 179fa in host d0d44"
       ]
      },
      {
       "output_type": "stream",
       "stream": "stdout",
       "text": [
        "\n",
        "6 progeny have been made from virus 3374d in host d0d44\n",
        "7 progeny have been made from virus dbcb9 in host d0d44\n",
        "10 progeny have been made from virus 85ac3 in host d0d44"
       ]
      },
      {
       "output_type": "stream",
       "stream": "stdout",
       "text": [
        "\n",
        "6 progeny have been made from virus ec147 in host d0d44\n",
        "187 progeny generated in host d0d44.\n",
        "Current time is 6. Incrementing time to 7\n",
        "Generating 89 progeny in host d0d44...\n",
        "7 progeny have been made from virus 35dc2 in host d0d44\n",
        "10 progeny have been made from virus 6a152 in host d0d44"
       ]
      },
      {
       "output_type": "stream",
       "stream": "stdout",
       "text": [
        "\n",
        "8 progeny have been made from virus bebbf in host d0d44\n",
        "7 progeny have been made from virus 14550 in host d0d44"
       ]
      },
      {
       "output_type": "stream",
       "stream": "stdout",
       "text": [
        "\n",
        "6 progeny have been made from virus db653 in host d0d44\n",
        "5 progeny have been made from virus 8fa65 in host d0d44\n",
        "5 progeny have been made from virus 0096f in host d0d44"
       ]
      },
      {
       "output_type": "stream",
       "stream": "stdout",
       "text": [
        "\n",
        "5 progeny have been made from virus e748a in host d0d44\n",
        "6 progeny have been made from virus dbcc1 in host d0d44"
       ]
      },
      {
       "output_type": "stream",
       "stream": "stdout",
       "text": [
        "\n",
        "7 progeny have been made from virus 83788 in host d0d44\n",
        "8 progeny have been made from virus 80536 in host d0d44"
       ]
      },
      {
       "output_type": "stream",
       "stream": "stdout",
       "text": [
        "\n",
        "10 progeny have been made from virus dc18a in host d0d44\n",
        "8 progeny have been made from virus c5f4b in host d0d44"
       ]
      },
      {
       "output_type": "stream",
       "stream": "stdout",
       "text": [
        "\n",
        "92 progeny generated in host d0d44.\n",
        "Current time is 7. Incrementing time to 8\n",
        "Generating 138 progeny in host d0d44...\n",
        "9 progeny have been made from virus 37a4e in host d0d44\n",
        "8 progeny have been made from virus 15dd4 in host d0d44"
       ]
      },
      {
       "output_type": "stream",
       "stream": "stdout",
       "text": [
        "\n",
        "7 progeny have been made from virus 84892 in host d0d44\n",
        "9 progeny have been made from virus 9c513 in host d0d44"
       ]
      },
      {
       "output_type": "stream",
       "stream": "stdout",
       "text": [
        "\n",
        "10 progeny have been made from virus 13383 in host d0d44\n",
        "8 progeny have been made from virus 21b8e in host d0d44"
       ]
      },
      {
       "output_type": "stream",
       "stream": "stdout",
       "text": [
        "\n",
        "10 progeny have been made from virus e9992 in host d0d44\n",
        "9 progeny have been made from virus 0c9a8 in host d0d44"
       ]
      },
      {
       "output_type": "stream",
       "stream": "stdout",
       "text": [
        "\n",
        "6 progeny have been made from virus a414d in host d0d44\n",
        "5 progeny have been made from virus f1fca in host d0d44"
       ]
      },
      {
       "output_type": "stream",
       "stream": "stdout",
       "text": [
        "\n",
        "10 progeny have been made from virus 0c9a8 in host d0d44\n",
        "6 progeny have been made from virus 0998f in host d0d44"
       ]
      },
      {
       "output_type": "stream",
       "stream": "stdout",
       "text": [
        "\n",
        "5 progeny have been made from virus da760 in host d0d44\n",
        "6 progeny have been made from virus 50863 in host d0d44"
       ]
      },
      {
       "output_type": "stream",
       "stream": "stdout",
       "text": [
        "\n",
        "6 progeny have been made from virus 0a93f in host d0d44\n",
        "6 progeny have been made from virus 784c2 in host d0d44"
       ]
      },
      {
       "output_type": "stream",
       "stream": "stdout",
       "text": [
        "\n",
        "9 progeny have been made from virus aabfd in host d0d44\n",
        "5 progeny have been made from virus cba17 in host d0d44"
       ]
      },
      {
       "output_type": "stream",
       "stream": "stdout",
       "text": [
        "\n",
        "9 progeny have been made from virus bebbf in host d0d44\n",
        "143 progeny generated in host d0d44.\n",
        "Current time is 8. Incrementing time to 9\n",
        "Generating 32 progeny in host d0d44...\n",
        "8 progeny have been made from virus a4b60 in host d0d44"
       ]
      },
      {
       "output_type": "stream",
       "stream": "stdout",
       "text": [
        "\n",
        "8 progeny have been made from virus 83010 in host d0d44\n",
        "9 progeny have been made from virus 4899a in host d0d44"
       ]
      },
      {
       "output_type": "stream",
       "stream": "stdout",
       "text": [
        "\n",
        "5 progeny have been made from virus b91bf in host d0d44\n",
        "8 progeny have been made from virus 6958e in host d0d44"
       ]
      },
      {
       "output_type": "stream",
       "stream": "stdout",
       "text": [
        "\n",
        "38 progeny generated in host d0d44.\n",
        "Current time is 9. Incrementing time to 10\n",
        "Generating 86 progeny in host d0d44...\n",
        "6 progeny have been made from virus 90a84 in host d0d44\n",
        "9 progeny have been made from virus 58fa0 in host d0d44"
       ]
      },
      {
       "output_type": "stream",
       "stream": "stdout",
       "text": [
        "\n",
        "9 progeny have been made from virus b2352 in host d0d44"
       ]
      },
      {
       "output_type": "stream",
       "stream": "stdout",
       "text": [
        "\n",
        "10 progeny have been made from virus 80466 in host d0d44"
       ]
      },
      {
       "output_type": "stream",
       "stream": "stdout",
       "text": [
        "\n",
        "7 progeny have been made from virus 1d0fb in host d0d44\n",
        "6 progeny have been made from virus 80466 in host d0d44"
       ]
      },
      {
       "output_type": "stream",
       "stream": "stdout",
       "text": [
        "\n",
        "9 progeny have been made from virus 976a9 in host d0d44\n",
        "7 progeny have been made from virus e154d in host d0d44"
       ]
      },
      {
       "output_type": "stream",
       "stream": "stdout",
       "text": [
        "\n",
        "7 progeny have been made from virus e29c3 in host d0d44\n",
        "9 progeny have been made from virus cda06 in host d0d44"
       ]
      },
      {
       "output_type": "stream",
       "stream": "stdout",
       "text": [
        "\n",
        "6 progeny have been made from virus 71fba in host d0d44\n",
        "9 progeny have been made from virus 88e7f in host d0d44"
       ]
      },
      {
       "output_type": "stream",
       "stream": "stdout",
       "text": [
        "\n",
        "94 progeny generated in host d0d44.\n",
        "Current time is 10. Incrementing time to 11\n",
        "Generating 100 progeny in host d0d44...\n",
        "9 progeny have been made from virus 2bb05 in host d0d44"
       ]
      },
      {
       "output_type": "stream",
       "stream": "stdout",
       "text": [
        "\n",
        "9 progeny have been made from virus a61e6 in host d0d44\n",
        "9 progeny have been made from virus 9e81c in host d0d44"
       ]
      },
      {
       "output_type": "stream",
       "stream": "stdout",
       "text": [
        "\n",
        "8 progeny have been made from virus 0c716 in host d0d44"
       ]
      },
      {
       "output_type": "stream",
       "stream": "stdout",
       "text": [
        "\n",
        "8 progeny have been made from virus 8a681 in host d0d44"
       ]
      },
      {
       "output_type": "stream",
       "stream": "stdout",
       "text": [
        "\n",
        "8 progeny have been made from virus 04eaf in host d0d44\n",
        "7 progeny have been made from virus 5207e in host d0d44"
       ]
      },
      {
       "output_type": "stream",
       "stream": "stdout",
       "text": [
        "\n",
        "10 progeny have been made from virus 8a681 in host d0d44"
       ]
      },
      {
       "output_type": "stream",
       "stream": "stdout",
       "text": [
        "\n",
        "7 progeny have been made from virus cfb73 in host d0d44\n",
        "8 progeny have been made from virus 01b68 in host d0d44"
       ]
      },
      {
       "output_type": "stream",
       "stream": "stdout",
       "text": [
        "\n",
        "6 progeny have been made from virus a25b2 in host d0d44\n",
        "5 progeny have been made from virus d47b4 in host d0d44"
       ]
      },
      {
       "output_type": "stream",
       "stream": "stdout",
       "text": [
        "\n",
        "8 progeny have been made from virus 8a681 in host d0d44\n",
        "102 progeny generated in host d0d44.\n",
        "Current time is 11. Incrementing time to 12\n",
        "Generating 25 progeny in host d0d44...\n",
        "5 progeny have been made from virus 29653 in host d0d44"
       ]
      },
      {
       "output_type": "stream",
       "stream": "stdout",
       "text": [
        "\n",
        "8 progeny have been made from virus ced38 in host d0d44"
       ]
      },
      {
       "output_type": "stream",
       "stream": "stdout",
       "text": [
        "\n",
        "10 progeny have been made from virus 0b1c6 in host d0d44"
       ]
      },
      {
       "output_type": "stream",
       "stream": "stdout",
       "text": [
        "\n",
        "5 progeny have been made from virus 07f11 in host d0d44\n",
        "28 progeny generated in host d0d44.\n",
        "Current time is 12. Incrementing time to 13\n",
        "Generating 22 progeny in host d0d44...\n",
        "6 progeny have been made from virus 91084 in host d0d44"
       ]
      },
      {
       "output_type": "stream",
       "stream": "stdout",
       "text": [
        "\n",
        "5 progeny have been made from virus 79bd5 in host d0d44\n",
        "6 progeny have been made from virus 86a0d in host d0d44"
       ]
      },
      {
       "output_type": "stream",
       "stream": "stdout",
       "text": [
        "\n",
        "6 progeny have been made from virus 0713d in host d0d44\n",
        "23 progeny generated in host d0d44.\n",
        "Current time is 13. Incrementing time to 14\n",
        "Generating 4 progeny in host d0d44...\n",
        "6 progeny have been made from virus c83d1 in host d0d44"
       ]
      },
      {
       "output_type": "stream",
       "stream": "stdout",
       "text": [
        "\n",
        "6 progeny generated in host d0d44.\n",
        "Current time is 14. Incrementing time to 15\n",
        "Generating 4 progeny in host d0d44...\n",
        "6 progeny have been made from virus d5bc8 in host d0d44\n",
        "6 progeny generated in host d0d44.\n",
        "Current time is 15. Incrementing time to 16\n",
        "Generating 2 progeny in host d0d44...\n",
        "7 progeny have been made from virus d46ce in host d0d44"
       ]
      },
      {
       "output_type": "stream",
       "stream": "stdout",
       "text": [
        "\n",
        "7 progeny generated in host d0d44.\n",
        "Current time is 16. Incrementing time to 17\n",
        "Generating 3 progeny in host d0d44...\n",
        "5 progeny have been made from virus 9f2b4 in host d0d44\n",
        "5 progeny generated in host d0d44.\n",
        "Current time is 17. Incrementing time to 18\n",
        "Generating 2 progeny in host d0d44...\n",
        "7 progeny have been made from virus f3ad5 in host d0d44"
       ]
      },
      {
       "output_type": "stream",
       "stream": "stdout",
       "text": [
        "\n",
        "7 progeny generated in host d0d44.\n",
        "Current time is 18. Incrementing time to 19\n",
        "Generating 7 progeny in host d0d44...\n",
        "8 progeny have been made from virus 69bc5 in host d0d44"
       ]
      },
      {
       "output_type": "stream",
       "stream": "stdout",
       "text": [
        "\n",
        "8 progeny generated in host d0d44.\n",
        "Current time is 19. Incrementing time to 20\n",
        "Generating 5 progeny in host d0d44...\n",
        "9 progeny have been made from virus 7e33c in host d0d44"
       ]
      },
      {
       "output_type": "stream",
       "stream": "stdout",
       "text": [
        "\n",
        "9 progeny generated in host d0d44.\n",
        "Current time is 20. Incrementing time to 21\n",
        "Generating 3 progeny in host d0d44...\n",
        "8 progeny have been made from virus ae818 in host d0d44"
       ]
      },
      {
       "output_type": "stream",
       "stream": "stdout",
       "text": [
        "\n",
        "8 progeny generated in host d0d44.\n",
        "Current time is 21. Incrementing time to 22\n",
        "Generating 6 progeny in host d0d44...\n",
        "9 progeny have been made from virus d8a77 in host d0d44"
       ]
      },
      {
       "output_type": "stream",
       "stream": "stdout",
       "text": [
        "\n",
        "9 progeny generated in host d0d44.\n",
        "Current time is 22. Incrementing time to 23\n",
        "Generating 0 progeny in host d0d44...\n",
        "0 progeny generated in host d0d44.\n",
        "Current time is 23. Incrementing time to 24\n",
        "Current time is 24. Incrementing time to 25\n",
        "Current time is 25. Incrementing time to 26\n",
        "Current time is 26. Incrementing time to 27\n",
        "Current time is 27. Incrementing time to 28\n",
        "Current time is 28. Incrementing time to 29\n",
        "Current time is 29. Incrementing time to 30\n",
        "Adding host 6058f... to environment 9fc59...\n",
        "Creating environment 9fc59\n",
        "Creating virus 170ef inside host 6058f\n",
        "Current time is 0. Incrementing time to 1\n",
        "Generating 0 progeny in host 6058f...\n",
        "0 progeny generated in host 6058f.\n",
        "Current time is 1. Incrementing time to 2\n",
        "Generating 8 progeny in host 6058f...\n",
        "8 progeny have been made from virus 170ef in host 6058f\n",
        "8 progeny generated in host 6058f.\n",
        "Current time is 2. Incrementing time to 3\n",
        "Generating 22 progeny in host 6058f...\n",
        "6 progeny have been made from virus 362a8 in host 6058f\n",
        "7 progeny have been made from virus 79938 in host 6058f\n",
        "7 progeny have been made from virus 170ef in host 6058f"
       ]
      },
      {
       "output_type": "stream",
       "stream": "stdout",
       "text": [
        "\n",
        "5 progeny have been made from virus 671a4 in host 6058f\n",
        "25 progeny generated in host 6058f.\n",
        "Current time is 3. Incrementing time to 4\n",
        "Generating 23 progeny in host 6058f...\n",
        "9 progeny have been made from virus d4eb2 in host 6058f\n",
        "8 progeny have been made from virus e38bc in host 6058f\n",
        "5 progeny have been made from virus e4ef9 in host 6058f"
       ]
      },
      {
       "output_type": "stream",
       "stream": "stdout",
       "text": [
        "\n",
        "5 progeny have been made from virus 4c354 in host 6058f\n",
        "27 progeny generated in host 6058f.\n",
        "Current time is 4. Incrementing time to 5\n",
        "Generating 41 progeny in host 6058f...\n",
        "8 progeny have been made from virus 348a1 in host 6058f\n",
        "10 progeny have been made from virus d567e in host 6058f"
       ]
      },
      {
       "output_type": "stream",
       "stream": "stdout",
       "text": [
        "\n",
        "8 progeny have been made from virus 19751 in host 6058f\n",
        "8 progeny have been made from virus 88f6e in host 6058f\n",
        "10 progeny have been made from virus 9ab8e in host 6058f"
       ]
      },
      {
       "output_type": "stream",
       "stream": "stdout",
       "text": [
        "\n",
        "44 progeny generated in host 6058f.\n",
        "Current time is 5. Incrementing time to 6\n",
        "Generating 22 progeny in host 6058f...\n",
        "5 progeny have been made from virus 7d0c5 in host 6058f\n",
        "8 progeny have been made from virus 94758 in host 6058f\n",
        "5 progeny have been made from virus 422a9 in host 6058f"
       ]
      },
      {
       "output_type": "stream",
       "stream": "stdout",
       "text": [
        "\n",
        "7 progeny have been made from virus 7e490 in host 6058f\n",
        "25 progeny generated in host 6058f.\n",
        "Current time is 6. Incrementing time to 7\n",
        "Generating 48 progeny in host 6058f...\n",
        "6 progeny have been made from virus 4c717 in host 6058f\n",
        "5 progeny have been made from virus 9ad35 in host 6058f"
       ]
      },
      {
       "output_type": "stream",
       "stream": "stdout",
       "text": [
        "\n",
        "6 progeny have been made from virus 9ac15 in host 6058f\n",
        "5 progeny have been made from virus 825e8 in host 6058f\n",
        "8 progeny have been made from virus 55070 in host 6058f"
       ]
      },
      {
       "output_type": "stream",
       "stream": "stdout",
       "text": [
        "\n",
        "5 progeny have been made from virus d6814 in host 6058f\n",
        "7 progeny have been made from virus 94758 in host 6058f\n",
        "9 progeny have been made from virus a6bd5 in host 6058f"
       ]
      },
      {
       "output_type": "stream",
       "stream": "stdout",
       "text": [
        "\n",
        "51 progeny generated in host 6058f.\n",
        "Current time is 7. Incrementing time to 8\n",
        "Generating 45 progeny in host 6058f...\n",
        "7 progeny have been made from virus 7fb2e in host 6058f\n",
        "5 progeny have been made from virus ec3b2 in host 6058f\n",
        "8 progeny have been made from virus 04e91 in host 6058f"
       ]
      },
      {
       "output_type": "stream",
       "stream": "stdout",
       "text": [
        "\n",
        "5 progeny have been made from virus bfab4 in host 6058f\n",
        "6 progeny have been made from virus 7fb2e in host 6058f\n",
        "9 progeny have been made from virus 35087 in host 6058f"
       ]
      },
      {
       "output_type": "stream",
       "stream": "stdout",
       "text": [
        "\n",
        "5 progeny have been made from virus 7fb2e in host 6058f\n",
        "45 progeny generated in host 6058f.\n",
        "Current time is 8. Incrementing time to 9\n",
        "Generating 10 progeny in host 6058f...\n",
        "5 progeny have been made from virus 77bb0 in host 6058f\n",
        "9 progeny have been made from virus f4fc9 in host 6058f"
       ]
      },
      {
       "output_type": "stream",
       "stream": "stdout",
       "text": [
        "\n",
        "14 progeny generated in host 6058f.\n",
        "Current time is 9. Incrementing time to 10\n",
        "Generating 14 progeny in host 6058f...\n",
        "6 progeny have been made from virus ee62f in host 6058f\n",
        "7 progeny have been made from virus de334 in host 6058f\n",
        "5 progeny have been made from virus 49837 in host 6058f"
       ]
      },
      {
       "output_type": "stream",
       "stream": "stdout",
       "text": [
        "\n",
        "18 progeny generated in host 6058f.\n",
        "Current time is 10. Incrementing time to 11\n",
        "Generating 3 progeny in host 6058f...\n",
        "8 progeny have been made from virus 666a6 in host 6058f\n",
        "8 progeny generated in host 6058f.\n",
        "Current time is 11. Incrementing time to 12\n",
        "Generating 7 progeny in host 6058f...\n",
        "7 progeny have been made from virus 70504 in host 6058f"
       ]
      },
      {
       "output_type": "stream",
       "stream": "stdout",
       "text": [
        "\n",
        "7 progeny generated in host 6058f.\n",
        "Current time is 12. Incrementing time to 13\n",
        "Generating 3 progeny in host 6058f...\n",
        "8 progeny have been made from virus 5f6d0 in host 6058f\n",
        "8 progeny generated in host 6058f.\n",
        "Current time is 13. Incrementing time to 14\n",
        "Generating 6 progeny in host 6058f...\n",
        "7 progeny have been made from virus a3bdc in host 6058f\n",
        "7 progeny generated in host 6058f.\n",
        "Current time is 14. Incrementing time to 15\n",
        "Generating 3 progeny in host 6058f...\n",
        "7 progeny have been made from virus d53c0 in host 6058f"
       ]
      },
      {
       "output_type": "stream",
       "stream": "stdout",
       "text": [
        "\n",
        "7 progeny generated in host 6058f.\n",
        "Current time is 15. Incrementing time to 16\n",
        "Generating 2 progeny in host 6058f...\n",
        "10 progeny have been made from virus 35ca5 in host 6058f\n",
        "10 progeny generated in host 6058f.\n",
        "Current time is 16. Incrementing time to 17\n",
        "Generating 2 progeny in host 6058f...\n",
        "10 progeny have been made from virus cd9dd in host 6058f"
       ]
      },
      {
       "output_type": "stream",
       "stream": "stdout",
       "text": [
        "\n",
        "10 progeny generated in host 6058f.\n",
        "Current time is 17. Incrementing time to 18\n",
        "Generating 7 progeny in host 6058f...\n",
        "9 progeny have been made from virus ad30d in host 6058f\n",
        "9 progeny generated in host 6058f.\n",
        "Current time is 18. Incrementing time to 19\n",
        "Generating 1 progeny in host 6058f...\n",
        "6 progeny have been made from virus 32a42 in host 6058f"
       ]
      },
      {
       "output_type": "stream",
       "stream": "stdout",
       "text": [
        "\n",
        "6 progeny generated in host 6058f.\n",
        "Current time is 19. Incrementing time to 20\n",
        "Generating 8 progeny in host 6058f...\n",
        "6 progeny have been made from virus 41e2e in host 6058f\n",
        "9 progeny have been made from virus a00a4 in host 6058f"
       ]
      },
      {
       "output_type": "stream",
       "stream": "stdout",
       "text": [
        "\n",
        "15 progeny generated in host 6058f.\n",
        "Current time is 20. Incrementing time to 21\n",
        "Generating 4 progeny in host 6058f...\n",
        "9 progeny have been made from virus bddc1 in host 6058f\n",
        "9 progeny generated in host 6058f.\n",
        "Current time is 21. Incrementing time to 22\n",
        "Generating 3 progeny in host 6058f...\n",
        "8 progeny have been made from virus 39e22 in host 6058f"
       ]
      },
      {
       "output_type": "stream",
       "stream": "stdout",
       "text": [
        "\n",
        "8 progeny generated in host 6058f.\n",
        "Current time is 22. Incrementing time to 23\n",
        "Generating 5 progeny in host 6058f...\n",
        "8 progeny have been made from virus 4a971 in host 6058f\n",
        "8 progeny generated in host 6058f.\n",
        "Current time is 23. Incrementing time to 24\n",
        "Generating 0 progeny in host 6058f...\n",
        "0 progeny generated in host 6058f.\n",
        "Current time is 24. Incrementing time to 25\n",
        "Current time is 25. Incrementing time to 26\n",
        "Current time is 26. Incrementing time to 27\n",
        "Current time is 27. Incrementing time to 28\n",
        "Current time is 28. Incrementing time to 29\n",
        "Current time is 29. Incrementing time to 30\n",
        "Adding host 9c683... to environment 864f6...\n",
        "Creating environment 864f6\n",
        "Creating virus 07ff2 inside host 9c683\n",
        "Current time is 0. Incrementing time to 1\n",
        "Generating 4 progeny in host 9c683...\n",
        "9 progeny have been made from virus 07ff2 in host 9c683"
       ]
      },
      {
       "output_type": "stream",
       "stream": "stdout",
       "text": [
        "\n",
        "9 progeny generated in host 9c683.\n",
        "Current time is 1. Incrementing time to 2\n",
        "Generating 19 progeny in host 9c683...\n",
        "7 progeny have been made from virus 56170 in host 9c683\n",
        "8 progeny have been made from virus 12303 in host 9c683\n",
        "7 progeny have been made from virus f4a00 in host 9c683\n",
        "22 progeny generated in host 9c683.\n",
        "Current time is 2. Incrementing time to 3\n",
        "Generating 81 progeny in host 9c683...\n",
        "5 progeny have been made from virus e08b1 in host 9c683"
       ]
      },
      {
       "output_type": "stream",
       "stream": "stdout",
       "text": [
        "\n",
        "10 progeny have been made from virus 2b5b9 in host 9c683\n",
        "9 progeny have been made from virus 83c09 in host 9c683\n",
        "9 progeny have been made from virus e09e8 in host 9c683"
       ]
      },
      {
       "output_type": "stream",
       "stream": "stdout",
       "text": [
        "\n",
        "9 progeny have been made from virus f34c7 in host 9c683\n",
        "8 progeny have been made from virus 8a42e in host 9c683\n",
        "9 progeny have been made from virus 0967a in host 9c683\n",
        "8 progeny have been made from virus 4ad1b in host 9c683"
       ]
      },
      {
       "output_type": "stream",
       "stream": "stdout",
       "text": [
        "\n",
        "5 progeny have been made from virus 8a42e in host 9c683\n",
        "5 progeny have been made from virus 99576 in host 9c683\n",
        "5 progeny have been made from virus 9a040 in host 9c683\n",
        "82 progeny generated in host 9c683.\n",
        "Current time is 3. Incrementing time to 4\n",
        "Generating 11 progeny in host 9c683...\n",
        "10 progeny have been made from virus da5e2 in host 9c683"
       ]
      },
      {
       "output_type": "stream",
       "stream": "stdout",
       "text": [
        "\n",
        "8 progeny have been made from virus 93648 in host 9c683\n",
        "18 progeny generated in host 9c683.\n",
        "Current time is 4. Incrementing time to 5\n",
        "Generating 60 progeny in host 9c683...\n",
        "5 progeny have been made from virus 0a8e5 in host 9c683\n",
        "7 progeny have been made from virus d4fa0 in host 9c683"
       ]
      },
      {
       "output_type": "stream",
       "stream": "stdout",
       "text": [
        "\n",
        "5 progeny have been made from virus d8c32 in host 9c683\n",
        "7 progeny have been made from virus 94e93 in host 9c683\n",
        "7 progeny have been made from virus f7e5c in host 9c683"
       ]
      },
      {
       "output_type": "stream",
       "stream": "stdout",
       "text": [
        "\n",
        "8 progeny have been made from virus 37651 in host 9c683\n",
        "8 progeny have been made from virus 11adf in host 9c683"
       ]
      },
      {
       "output_type": "stream",
       "stream": "stdout",
       "text": [
        "\n",
        "8 progeny have been made from virus 33ea7 in host 9c683\n",
        "6 progeny have been made from virus c9db0 in host 9c683\n",
        "61 progeny generated in host 9c683.\n",
        "Current time is 5. Incrementing time to 6\n",
        "Generating 125 progeny in host 9c683...\n",
        "10 progeny have been made from virus 07dbc in host 9c683"
       ]
      },
      {
       "output_type": "stream",
       "stream": "stdout",
       "text": [
        "\n",
        "6 progeny have been made from virus 9860d in host 9c683\n",
        "7 progeny have been made from virus f3152 in host 9c683\n",
        "7 progeny have been made from virus 04bfe in host 9c683"
       ]
      },
      {
       "output_type": "stream",
       "stream": "stdout",
       "text": [
        "\n",
        "5 progeny have been made from virus f9be0 in host 9c683\n",
        "6 progeny have been made from virus 941f8 in host 9c683\n",
        "7 progeny have been made from virus 7d683 in host 9c683"
       ]
      },
      {
       "output_type": "stream",
       "stream": "stdout",
       "text": [
        "\n",
        "6 progeny have been made from virus 14d88 in host 9c683\n",
        "5 progeny have been made from virus 6cd93 in host 9c683\n",
        "8 progeny have been made from virus 07dbc in host 9c683"
       ]
      },
      {
       "output_type": "stream",
       "stream": "stdout",
       "text": [
        "\n",
        "9 progeny have been made from virus 0cebe in host 9c683\n",
        "10 progeny have been made from virus bbbcb in host 9c683"
       ]
      },
      {
       "output_type": "stream",
       "stream": "stdout",
       "text": [
        "\n",
        "5 progeny have been made from virus bbc70 in host 9c683\n",
        "5 progeny have been made from virus 45646 in host 9c683\n",
        "7 progeny have been made from virus df2c7 in host 9c683"
       ]
      },
      {
       "output_type": "stream",
       "stream": "stdout",
       "text": [
        "\n",
        "9 progeny have been made from virus ea2df in host 9c683\n",
        "5 progeny have been made from virus fa732 in host 9c683\n",
        "6 progeny have been made from virus 041d8 in host 9c683"
       ]
      },
      {
       "output_type": "stream",
       "stream": "stdout",
       "text": [
        "\n",
        "7 progeny have been made from virus 9aa56 in host 9c683\n",
        "130 progeny generated in host 9c683.\n",
        "Current time is 6. Incrementing time to 7\n",
        "Generating 191 progeny in host 9c683...\n",
        "10 progeny have been made from virus b47cf in host 9c683"
       ]
      },
      {
       "output_type": "stream",
       "stream": "stdout",
       "text": [
        "\n",
        "8 progeny have been made from virus 51d1d in host 9c683\n",
        "5 progeny have been made from virus bd8d3 in host 9c683"
       ]
      },
      {
       "output_type": "stream",
       "stream": "stdout",
       "text": [
        "\n",
        "9 progeny have been made from virus e2de8 in host 9c683\n",
        "7 progeny have been made from virus 041d8 in host 9c683"
       ]
      },
      {
       "output_type": "stream",
       "stream": "stdout",
       "text": [
        "\n",
        "9 progeny have been made from virus 04b2c in host 9c683\n",
        "7 progeny have been made from virus c7d7f in host 9c683"
       ]
      },
      {
       "output_type": "stream",
       "stream": "stdout",
       "text": [
        "\n",
        "10 progeny have been made from virus 43c44 in host 9c683\n",
        "8 progeny have been made from virus 88a8b in host 9c683"
       ]
      },
      {
       "output_type": "stream",
       "stream": "stdout",
       "text": [
        "\n",
        "5 progeny have been made from virus a5e7c in host 9c683\n",
        "10 progeny have been made from virus 572c5 in host 9c683"
       ]
      },
      {
       "output_type": "stream",
       "stream": "stdout",
       "text": [
        "\n",
        "5 progeny have been made from virus cf223 in host 9c683\n",
        "8 progeny have been made from virus 81030 in host 9c683"
       ]
      },
      {
       "output_type": "stream",
       "stream": "stdout",
       "text": [
        "\n",
        "8 progeny have been made from virus fa3d6 in host 9c683\n",
        "8 progeny have been made from virus e1d25 in host 9c683"
       ]
      },
      {
       "output_type": "stream",
       "stream": "stdout",
       "text": [
        "\n",
        "6 progeny have been made from virus 4ed2f in host 9c683\n",
        "9 progeny have been made from virus afa5e in host 9c683"
       ]
      },
      {
       "output_type": "stream",
       "stream": "stdout",
       "text": [
        "\n",
        "5 progeny have been made from virus 368c7 in host 9c683\n",
        "9 progeny have been made from virus 6b450 in host 9c683"
       ]
      },
      {
       "output_type": "stream",
       "stream": "stdout",
       "text": [
        "\n",
        "10 progeny have been made from virus cae9c in host 9c683"
       ]
      },
      {
       "output_type": "stream",
       "stream": "stdout",
       "text": [
        "\n",
        "6 progeny have been made from virus da2ec in host 9c683\n",
        "10 progeny have been made from virus 39f0e in host 9c683"
       ]
      },
      {
       "output_type": "stream",
       "stream": "stdout",
       "text": [
        "\n",
        "10 progeny have been made from virus 9b865 in host 9c683"
       ]
      },
      {
       "output_type": "stream",
       "stream": "stdout",
       "text": [
        "\n",
        "10 progeny have been made from virus e06b5 in host 9c683"
       ]
      },
      {
       "output_type": "stream",
       "stream": "stdout",
       "text": [
        "\n",
        "192 progeny generated in host 9c683.\n",
        "Current time is 7. Incrementing time to 8\n",
        "Generating 162 progeny in host 9c683...\n",
        "7 progeny have been made from virus aff27 in host 9c683\n",
        "10 progeny have been made from virus 21eaa in host 9c683"
       ]
      },
      {
       "output_type": "stream",
       "stream": "stdout",
       "text": [
        "\n",
        "7 progeny have been made from virus 4cdbb in host 9c683\n",
        "5 progeny have been made from virus aa2d2 in host 9c683"
       ]
      },
      {
       "output_type": "stream",
       "stream": "stdout",
       "text": [
        "\n",
        "10 progeny have been made from virus 4b83b in host 9c683\n",
        "10 progeny have been made from virus 49029 in host 9c683"
       ]
      },
      {
       "output_type": "stream",
       "stream": "stdout",
       "text": [
        "\n",
        "10 progeny have been made from virus b7637 in host 9c683"
       ]
      },
      {
       "output_type": "stream",
       "stream": "stdout",
       "text": [
        "\n",
        "5 progeny have been made from virus f16b3 in host 9c683\n",
        "6 progeny have been made from virus f3e8a in host 9c683"
       ]
      },
      {
       "output_type": "stream",
       "stream": "stdout",
       "text": [
        "\n",
        "5 progeny have been made from virus ca55d in host 9c683\n",
        "8 progeny have been made from virus 146c3 in host 9c683"
       ]
      },
      {
       "output_type": "stream",
       "stream": "stdout",
       "text": [
        "\n",
        "8 progeny have been made from virus 21eaa in host 9c683\n",
        "7 progeny have been made from virus 69171 in host 9c683"
       ]
      },
      {
       "output_type": "stream",
       "stream": "stdout",
       "text": [
        "\n",
        "6 progeny have been made from virus bf348 in host 9c683\n",
        "7 progeny have been made from virus 5038f in host 9c683"
       ]
      },
      {
       "output_type": "stream",
       "stream": "stdout",
       "text": [
        "\n",
        "6 progeny have been made from virus 03e14 in host 9c683\n",
        "10 progeny have been made from virus 8f0c0 in host 9c683"
       ]
      },
      {
       "output_type": "stream",
       "stream": "stdout",
       "text": [
        "\n",
        "5 progeny have been made from virus 50b79 in host 9c683\n",
        "9 progeny have been made from virus aa2d2 in host 9c683"
       ]
      },
      {
       "output_type": "stream",
       "stream": "stdout",
       "text": [
        "\n",
        "5 progeny have been made from virus 10bcd in host 9c683\n",
        "10 progeny have been made from virus 533b9 in host 9c683"
       ]
      },
      {
       "output_type": "stream",
       "stream": "stdout",
       "text": [
        "\n",
        "7 progeny have been made from virus c7fde in host 9c683\n",
        "163 progeny generated in host 9c683.\n",
        "Current time is 8. Incrementing time to 9\n",
        "Generating 183 progeny in host 9c683...\n",
        "9 progeny have been made from virus 5baeb in host 9c683"
       ]
      },
      {
       "output_type": "stream",
       "stream": "stdout",
       "text": [
        "\n",
        "5 progeny have been made from virus 194dd in host 9c683\n",
        "6 progeny have been made from virus 88a20 in host 9c683"
       ]
      },
      {
       "output_type": "stream",
       "stream": "stdout",
       "text": [
        "\n",
        "6 progeny have been made from virus e5104 in host 9c683\n",
        "5 progeny have been made from virus d769c in host 9c683"
       ]
      },
      {
       "output_type": "stream",
       "stream": "stdout",
       "text": [
        "\n",
        "7 progeny have been made from virus c1b0f in host 9c683\n",
        "7 progeny have been made from virus d769c in host 9c683"
       ]
      },
      {
       "output_type": "stream",
       "stream": "stdout",
       "text": [
        "\n",
        "5 progeny have been made from virus a7aa8 in host 9c683\n",
        "10 progeny have been made from virus 438d7 in host 9c683"
       ]
      },
      {
       "output_type": "stream",
       "stream": "stdout",
       "text": [
        "\n",
        "8 progeny have been made from virus d7a9c in host 9c683"
       ]
      },
      {
       "output_type": "stream",
       "stream": "stdout",
       "text": [
        "\n",
        "10 progeny have been made from virus 94118 in host 9c683"
       ]
      },
      {
       "output_type": "stream",
       "stream": "stdout",
       "text": [
        "\n",
        "7 progeny have been made from virus d4332 in host 9c683"
       ]
      },
      {
       "output_type": "stream",
       "stream": "stdout",
       "text": [
        "\n",
        "5 progeny have been made from virus 5a10f in host 9c683\n",
        "7 progeny have been made from virus 8546b in host 9c683"
       ]
      },
      {
       "output_type": "stream",
       "stream": "stdout",
       "text": [
        "\n",
        "5 progeny have been made from virus 60446 in host 9c683\n",
        "8 progeny have been made from virus dfdc9 in host 9c683"
       ]
      },
      {
       "output_type": "stream",
       "stream": "stdout",
       "text": [
        "\n",
        "7 progeny have been made from virus 405ca in host 9c683\n",
        "10 progeny have been made from virus 8546b in host 9c683"
       ]
      },
      {
       "output_type": "stream",
       "stream": "stdout",
       "text": [
        "\n",
        "6 progeny have been made from virus 9bc8c in host 9c683\n",
        "6 progeny have been made from virus 262e9 in host 9c683"
       ]
      },
      {
       "output_type": "stream",
       "stream": "stdout",
       "text": [
        "\n",
        "10 progeny have been made from virus 7986c in host 9c683"
       ]
      },
      {
       "output_type": "stream",
       "stream": "stdout",
       "text": [
        "\n",
        "9 progeny have been made from virus a377d in host 9c683"
       ]
      },
      {
       "output_type": "stream",
       "stream": "stdout",
       "text": [
        "\n",
        "9 progeny have been made from virus 2d6cf in host 9c683"
       ]
      },
      {
       "output_type": "stream",
       "stream": "stdout",
       "text": [
        "\n",
        "7 progeny have been made from virus d4332 in host 9c683"
       ]
      },
      {
       "output_type": "stream",
       "stream": "stdout",
       "text": [
        "\n",
        "5 progeny have been made from virus 3fee5 in host 9c683\n",
        "9 progeny have been made from virus db5ed in host 9c683"
       ]
      },
      {
       "output_type": "stream",
       "stream": "stdout",
       "text": [
        "\n",
        "188 progeny generated in host 9c683.\n",
        "Current time is 9. Incrementing time to 10\n",
        "Generating 57 progeny in host 9c683...\n",
        "5 progeny have been made from virus 55109 in host 9c683\n",
        "10 progeny have been made from virus 86fba in host 9c683"
       ]
      },
      {
       "output_type": "stream",
       "stream": "stdout",
       "text": [
        "\n",
        "9 progeny have been made from virus 27fac in host 9c683"
       ]
      },
      {
       "output_type": "stream",
       "stream": "stdout",
       "text": [
        "\n",
        "6 progeny have been made from virus d7234 in host 9c683\n",
        "5 progeny have been made from virus 4efff in host 9c683"
       ]
      },
      {
       "output_type": "stream",
       "stream": "stdout",
       "text": [
        "\n",
        "7 progeny have been made from virus 3c26f in host 9c683"
       ]
      },
      {
       "output_type": "stream",
       "stream": "stdout",
       "text": [
        "\n",
        "9 progeny have been made from virus ab66a in host 9c683"
       ]
      },
      {
       "output_type": "stream",
       "stream": "stdout",
       "text": [
        "\n",
        "5 progeny have been made from virus 22d6e in host 9c683\n",
        "6 progeny have been made from virus 60d7d in host 9c683"
       ]
      },
      {
       "output_type": "stream",
       "stream": "stdout",
       "text": [
        "\n",
        "62 progeny generated in host 9c683.\n",
        "Current time is 10. Incrementing time to 11\n",
        "Generating 106 progeny in host 9c683...\n",
        "7 progeny have been made from virus 194d7 in host 9c683"
       ]
      },
      {
       "output_type": "stream",
       "stream": "stdout",
       "text": [
        "\n",
        "8 progeny have been made from virus 2d54d in host 9c683"
       ]
      },
      {
       "output_type": "stream",
       "stream": "stdout",
       "text": [
        "\n",
        "5 progeny have been made from virus 3b7e4 in host 9c683\n",
        "9 progeny have been made from virus 6b270 in host 9c683"
       ]
      },
      {
       "output_type": "stream",
       "stream": "stdout",
       "text": [
        "\n",
        "9 progeny have been made from virus 06e4e in host 9c683"
       ]
      },
      {
       "output_type": "stream",
       "stream": "stdout",
       "text": [
        "\n",
        "6 progeny have been made from virus 16ec1 in host 9c683\n",
        "8 progeny have been made from virus 2db68 in host 9c683"
       ]
      },
      {
       "output_type": "stream",
       "stream": "stdout",
       "text": [
        "\n",
        "9 progeny have been made from virus f13ee in host 9c683"
       ]
      },
      {
       "output_type": "stream",
       "stream": "stdout",
       "text": [
        "\n",
        "7 progeny have been made from virus 9c741 in host 9c683"
       ]
      },
      {
       "output_type": "stream",
       "stream": "stdout",
       "text": [
        "\n",
        "8 progeny have been made from virus 63f1f in host 9c683"
       ]
      },
      {
       "output_type": "stream",
       "stream": "stdout",
       "text": [
        "\n",
        "7 progeny have been made from virus ff453 in host 9c683"
       ]
      },
      {
       "output_type": "stream",
       "stream": "stdout",
       "text": [
        "\n",
        "6 progeny have been made from virus 8c98d in host 9c683\n",
        "6 progeny have been made from virus c7481 in host 9c683"
       ]
      },
      {
       "output_type": "stream",
       "stream": "stdout",
       "text": [
        "\n",
        "7 progeny have been made from virus d9889 in host 9c683"
       ]
      },
      {
       "output_type": "stream",
       "stream": "stdout",
       "text": [
        "\n",
        "7 progeny have been made from virus b9a64 in host 9c683"
       ]
      },
      {
       "output_type": "stream",
       "stream": "stdout",
       "text": [
        "\n",
        "109 progeny generated in host 9c683.\n",
        "Current time is 11. Incrementing time to 12\n",
        "Generating 130 progeny in host 9c683...\n",
        "10 progeny have been made from virus 7fe5e in host 9c683"
       ]
      },
      {
       "output_type": "stream",
       "stream": "stdout",
       "text": [
        "\n",
        "6 progeny have been made from virus 41cd7 in host 9c683\n",
        "5 progeny have been made from virus 5e6f9 in host 9c683"
       ]
      },
      {
       "output_type": "stream",
       "stream": "stdout",
       "text": [
        "\n",
        "10 progeny have been made from virus c69fd in host 9c683"
       ]
      },
      {
       "output_type": "stream",
       "stream": "stdout",
       "text": [
        "\n",
        "6 progeny have been made from virus 0fae2 in host 9c683\n",
        "6 progeny have been made from virus c791b in host 9c683"
       ]
      },
      {
       "output_type": "stream",
       "stream": "stdout",
       "text": [
        "\n",
        "7 progeny have been made from virus 845bc in host 9c683"
       ]
      },
      {
       "output_type": "stream",
       "stream": "stdout",
       "text": [
        "\n",
        "7 progeny have been made from virus 076f5 in host 9c683"
       ]
      },
      {
       "output_type": "stream",
       "stream": "stdout",
       "text": [
        "\n",
        "5 progeny have been made from virus ab3b1 in host 9c683\n",
        "8 progeny have been made from virus cb9ef in host 9c683"
       ]
      },
      {
       "output_type": "stream",
       "stream": "stdout",
       "text": [
        "\n",
        "7 progeny have been made from virus 98e97 in host 9c683"
       ]
      },
      {
       "output_type": "stream",
       "stream": "stdout",
       "text": [
        "\n",
        "5 progeny have been made from virus fdc44 in host 9c683\n",
        "10 progeny have been made from virus e07c0 in host 9c683"
       ]
      },
      {
       "output_type": "stream",
       "stream": "stdout",
       "text": [
        "\n",
        "10 progeny have been made from virus 237de in host 9c683"
       ]
      },
      {
       "output_type": "stream",
       "stream": "stdout",
       "text": [
        "\n",
        "5 progeny have been made from virus 14faf in host 9c683\n",
        "5 progeny have been made from virus f3386 in host 9c683"
       ]
      },
      {
       "output_type": "stream",
       "stream": "stdout",
       "text": [
        "\n",
        "7 progeny have been made from virus 3fa7c in host 9c683"
       ]
      },
      {
       "output_type": "stream",
       "stream": "stdout",
       "text": [
        "\n",
        "5 progeny have been made from virus 81338 in host 9c683\n",
        "7 progeny have been made from virus e9c61 in host 9c683"
       ]
      },
      {
       "output_type": "stream",
       "stream": "stdout",
       "text": [
        "\n",
        "131 progeny generated in host 9c683.\n",
        "Current time is 12. Incrementing time to 13\n",
        "Generating 46 progeny in host 9c683...\n",
        "7 progeny have been made from virus 4c0de in host 9c683"
       ]
      },
      {
       "output_type": "stream",
       "stream": "stdout",
       "text": [
        "\n",
        "8 progeny have been made from virus c8b70 in host 9c683"
       ]
      },
      {
       "output_type": "stream",
       "stream": "stdout",
       "text": [
        "\n",
        "10 progeny have been made from virus a9667 in host 9c683"
       ]
      },
      {
       "output_type": "stream",
       "stream": "stdout",
       "text": [
        "\n",
        "6 progeny have been made from virus 30c99 in host 9c683"
       ]
      },
      {
       "output_type": "stream",
       "stream": "stdout",
       "text": [
        "\n",
        "10 progeny have been made from virus cd75f in host 9c683"
       ]
      },
      {
       "output_type": "stream",
       "stream": "stdout",
       "text": [
        "\n",
        "9 progeny have been made from virus e07c0 in host 9c683"
       ]
      },
      {
       "output_type": "stream",
       "stream": "stdout",
       "text": [
        "\n",
        "50 progeny generated in host 9c683.\n",
        "Current time is 13. Incrementing time to 14\n",
        "Generating 16 progeny in host 9c683...\n",
        "8 progeny have been made from virus c335b in host 9c683"
       ]
      },
      {
       "output_type": "stream",
       "stream": "stdout",
       "text": [
        "\n",
        "9 progeny have been made from virus f6c68 in host 9c683"
       ]
      },
      {
       "output_type": "stream",
       "stream": "stdout",
       "text": [
        "\n",
        "17 progeny generated in host 9c683.\n",
        "Current time is 14. Incrementing time to 15\n",
        "Generating 22 progeny in host 9c683...\n",
        "5 progeny have been made from virus b9ada in host 9c683"
       ]
      },
      {
       "output_type": "stream",
       "stream": "stdout",
       "text": [
        "\n",
        "7 progeny have been made from virus b8a81 in host 9c683"
       ]
      },
      {
       "output_type": "stream",
       "stream": "stdout",
       "text": [
        "\n",
        "8 progeny have been made from virus d76b6 in host 9c683"
       ]
      },
      {
       "output_type": "stream",
       "stream": "stdout",
       "text": [
        "\n",
        "7 progeny have been made from virus d76b6 in host 9c683"
       ]
      },
      {
       "output_type": "stream",
       "stream": "stdout",
       "text": [
        "\n",
        "27 progeny generated in host 9c683.\n",
        "Current time is 15. Incrementing time to 16\n",
        "Generating 22 progeny in host 9c683...\n",
        "10 progeny have been made from virus 9a8e9 in host 9c683"
       ]
      },
      {
       "output_type": "stream",
       "stream": "stdout",
       "text": [
        "\n",
        "6 progeny have been made from virus 486b0 in host 9c683"
       ]
      },
      {
       "output_type": "stream",
       "stream": "stdout",
       "text": [
        "\n",
        "8 progeny have been made from virus 949a4 in host 9c683"
       ]
      },
      {
       "output_type": "stream",
       "stream": "stdout",
       "text": [
        "\n",
        "24 progeny generated in host 9c683.\n",
        "Current time is 16. Incrementing time to 17\n",
        "Generating 3 progeny in host 9c683...\n",
        "10 progeny have been made from virus 796d8 in host 9c683"
       ]
      },
      {
       "output_type": "stream",
       "stream": "stdout",
       "text": [
        "\n",
        "10 progeny generated in host 9c683.\n",
        "Current time is 17. Incrementing time to 18\n",
        "Generating 6 progeny in host 9c683...\n",
        "9 progeny have been made from virus c9d29 in host 9c683"
       ]
      },
      {
       "output_type": "stream",
       "stream": "stdout",
       "text": [
        "\n",
        "9 progeny generated in host 9c683.\n",
        "Current time is 18. Incrementing time to 19\n",
        "Generating 0 progeny in host 9c683...\n",
        "0 progeny generated in host 9c683.\n",
        "Current time is 19. Incrementing time to 20\n",
        "Generating 1 progeny in host 9c683...\n",
        "5 progeny have been made from virus 9f7f1 in host 9c683"
       ]
      },
      {
       "output_type": "stream",
       "stream": "stdout",
       "text": [
        "\n",
        "5 progeny generated in host 9c683.\n",
        "Current time is 20. Incrementing time to 21\n",
        "Generating 1 progeny in host 9c683...\n",
        "6 progeny have been made from virus 23c85 in host 9c683\n",
        "6 progeny generated in host 9c683.\n",
        "Current time is 21. Incrementing time to 22\n",
        "Generating 4 progeny in host 9c683...\n",
        "8 progeny have been made from virus 0ad07 in host 9c683"
       ]
      },
      {
       "output_type": "stream",
       "stream": "stdout",
       "text": [
        "\n",
        "8 progeny generated in host 9c683.\n",
        "Current time is 22. Incrementing time to 23\n",
        "Generating 4 progeny in host 9c683...\n",
        "5 progeny have been made from virus 7f9d0 in host 9c683"
       ]
      },
      {
       "output_type": "stream",
       "stream": "stdout",
       "text": [
        "\n",
        "5 progeny generated in host 9c683.\n",
        "Current time is 23. Incrementing time to 24\n",
        "Generating 0 progeny in host 9c683...\n",
        "0 progeny generated in host 9c683.\n",
        "Current time is 24. Incrementing time to 25\n",
        "Generating 2 progeny in host 9c683...\n",
        "10 progeny have been made from virus 27157 in host 9c683"
       ]
      },
      {
       "output_type": "stream",
       "stream": "stdout",
       "text": [
        "\n",
        "10 progeny generated in host 9c683.\n",
        "Current time is 25. Incrementing time to 26\n",
        "Generating 6 progeny in host 9c683...\n",
        "7 progeny have been made from virus 47301 in host 9c683"
       ]
      },
      {
       "output_type": "stream",
       "stream": "stdout",
       "text": [
        "\n",
        "7 progeny generated in host 9c683.\n",
        "Current time is 26. Incrementing time to 27\n",
        "Generating 1 progeny in host 9c683...\n",
        "8 progeny have been made from virus fca81 in host 9c683"
       ]
      },
      {
       "output_type": "stream",
       "stream": "stdout",
       "text": [
        "\n",
        "8 progeny generated in host 9c683.\n",
        "Current time is 27. Incrementing time to 28\n",
        "Generating 0 progeny in host 9c683...\n",
        "0 progeny generated in host 9c683.\n",
        "Current time is 28. Incrementing time to 29\n",
        "Generating 0 progeny in host 9c683...\n",
        "0 progeny generated in host 9c683.\n",
        "Current time is 29. Incrementing time to 30\n",
        "Adding host 6b4f5... to environment 74c9a...\n",
        "Creating environment 74c9a\n",
        "Creating virus facf8 inside host 6b4f5\n",
        "Current time is 0. Incrementing time to 1\n",
        "Generating 9 progeny in host 6b4f5...\n",
        "10 progeny have been made from virus facf8 in host 6b4f5\n",
        "10 progeny generated in host 6b4f5.\n",
        "Current time is 1. Incrementing time to 2\n",
        "Generating 33 progeny in host 6b4f5...\n",
        "8 progeny have been made from virus 764b4 in host 6b4f5\n",
        "7 progeny have been made from virus facf8 in host 6b4f5"
       ]
      },
      {
       "output_type": "stream",
       "stream": "stdout",
       "text": [
        "\n",
        "6 progeny have been made from virus d719a in host 6b4f5\n",
        "8 progeny have been made from virus 53127 in host 6b4f5\n",
        "10 progeny have been made from virus facf8 in host 6b4f5"
       ]
      },
      {
       "output_type": "stream",
       "stream": "stdout",
       "text": [
        "\n",
        "39 progeny generated in host 6b4f5.\n",
        "Current time is 2. Incrementing time to 3\n",
        "Generating 120 progeny in host 6b4f5...\n",
        "5 progeny have been made from virus 24c68 in host 6b4f5\n",
        "8 progeny have been made from virus a8cbb in host 6b4f5\n",
        "7 progeny have been made from virus 8047d in host 6b4f5\n",
        "10 progeny have been made from virus 731a4 in host 6b4f5"
       ]
      },
      {
       "output_type": "stream",
       "stream": "stdout",
       "text": [
        "\n",
        "6 progeny have been made from virus 80719 in host 6b4f5\n",
        "10 progeny have been made from virus e91a7 in host 6b4f5\n",
        "9 progeny have been made from virus cc60f in host 6b4f5"
       ]
      },
      {
       "output_type": "stream",
       "stream": "stdout",
       "text": [
        "\n",
        "9 progeny have been made from virus b749a in host 6b4f5\n",
        "9 progeny have been made from virus 8ccc4 in host 6b4f5"
       ]
      },
      {
       "output_type": "stream",
       "stream": "stdout",
       "text": [
        "\n",
        "7 progeny have been made from virus 54a18 in host 6b4f5\n",
        "6 progeny have been made from virus 0da83 in host 6b4f5\n",
        "8 progeny have been made from virus 625a7 in host 6b4f5"
       ]
      },
      {
       "output_type": "stream",
       "stream": "stdout",
       "text": [
        "\n",
        "6 progeny have been made from virus ecad9 in host 6b4f5\n",
        "6 progeny have been made from virus 8ccc4 in host 6b4f5\n",
        "9 progeny have been made from virus ecad9 in host 6b4f5"
       ]
      },
      {
       "output_type": "stream",
       "stream": "stdout",
       "text": [
        "\n",
        "5 progeny have been made from virus 80067 in host 6b4f5\n",
        "120 progeny generated in host 6b4f5.\n",
        "Current time is 3. Incrementing time to 4\n",
        "Generating 201 progeny in host 6b4f5...\n",
        "6 progeny have been made from virus 94756 in host 6b4f5\n",
        "7 progeny have been made from virus afd85 in host 6b4f5"
       ]
      },
      {
       "output_type": "stream",
       "stream": "stdout",
       "text": [
        "\n",
        "8 progeny have been made from virus d4ff1 in host 6b4f5\n",
        "9 progeny have been made from virus 0e661 in host 6b4f5"
       ]
      },
      {
       "output_type": "stream",
       "stream": "stdout",
       "text": [
        "\n",
        "10 progeny have been made from virus 0e204 in host 6b4f5\n",
        "5 progeny have been made from virus 1a181 in host 6b4f5"
       ]
      },
      {
       "output_type": "stream",
       "stream": "stdout",
       "text": [
        "\n",
        "9 progeny have been made from virus 260ce in host 6b4f5\n",
        "9 progeny have been made from virus c9f83 in host 6b4f5"
       ]
      },
      {
       "output_type": "stream",
       "stream": "stdout",
       "text": [
        "\n",
        "8 progeny have been made from virus d2614 in host 6b4f5\n",
        "6 progeny have been made from virus 97239 in host 6b4f5"
       ]
      },
      {
       "output_type": "stream",
       "stream": "stdout",
       "text": [
        "\n",
        "5 progeny have been made from virus bf5f3 in host 6b4f5\n",
        "10 progeny have been made from virus afd85 in host 6b4f5"
       ]
      },
      {
       "output_type": "stream",
       "stream": "stdout",
       "text": [
        "\n",
        "7 progeny have been made from virus 299ca in host 6b4f5\n",
        "7 progeny have been made from virus dded0 in host 6b4f5"
       ]
      },
      {
       "output_type": "stream",
       "stream": "stdout",
       "text": [
        "\n",
        "6 progeny have been made from virus dd7b5 in host 6b4f5\n",
        "10 progeny have been made from virus d2614 in host 6b4f5"
       ]
      },
      {
       "output_type": "stream",
       "stream": "stdout",
       "text": [
        "\n",
        "10 progeny have been made from virus 0e098 in host 6b4f5\n",
        "7 progeny have been made from virus 36fab in host 6b4f5"
       ]
      },
      {
       "output_type": "stream",
       "stream": "stdout",
       "text": [
        "\n",
        "5 progeny have been made from virus 3765b in host 6b4f5\n",
        "10 progeny have been made from virus 9c0c0 in host 6b4f5"
       ]
      },
      {
       "output_type": "stream",
       "stream": "stdout",
       "text": [
        "\n",
        "5 progeny have been made from virus 5eeac in host 6b4f5\n",
        "9 progeny have been made from virus 6a55e in host 6b4f5"
       ]
      },
      {
       "output_type": "stream",
       "stream": "stdout",
       "text": [
        "\n",
        "6 progeny have been made from virus 43872 in host 6b4f5\n",
        "9 progeny have been made from virus f7c9d in host 6b4f5"
       ]
      },
      {
       "output_type": "stream",
       "stream": "stdout",
       "text": [
        "\n",
        "8 progeny have been made from virus 94756 in host 6b4f5\n",
        "5 progeny have been made from virus 21a5d in host 6b4f5"
       ]
      },
      {
       "output_type": "stream",
       "stream": "stdout",
       "text": [
        "\n",
        "8 progeny have been made from virus 1b99a in host 6b4f5\n",
        "204 progeny generated in host 6b4f5.\n",
        "Current time is 4. Incrementing time to 5\n",
        "Generating 373 progeny in host 6b4f5...\n",
        "8 progeny have been made from virus b4c36 in host 6b4f5"
       ]
      },
      {
       "output_type": "stream",
       "stream": "stdout",
       "text": [
        "\n",
        "8 progeny have been made from virus 50bb4 in host 6b4f5\n",
        "9 progeny have been made from virus f229e in host 6b4f5"
       ]
      },
      {
       "output_type": "stream",
       "stream": "stdout",
       "text": [
        "\n",
        "6 progeny have been made from virus 1c299 in host 6b4f5\n",
        "7 progeny have been made from virus 87991 in host 6b4f5\n",
        "9 progeny have been made from virus bf383 in host 6b4f5"
       ]
      },
      {
       "output_type": "stream",
       "stream": "stdout",
       "text": [
        "\n",
        "7 progeny have been made from virus ebedb in host 6b4f5\n",
        "7 progeny have been made from virus 204d8 in host 6b4f5"
       ]
      },
      {
       "output_type": "stream",
       "stream": "stdout",
       "text": [
        "\n",
        "9 progeny have been made from virus c89ad in host 6b4f5\n",
        "6 progeny have been made from virus 814c0 in host 6b4f5"
       ]
      },
      {
       "output_type": "stream",
       "stream": "stdout",
       "text": [
        "\n",
        "10 progeny have been made from virus 82abb in host 6b4f5\n",
        "7 progeny have been made from virus 6ba8a in host 6b4f5"
       ]
      },
      {
       "output_type": "stream",
       "stream": "stdout",
       "text": [
        "\n",
        "9 progeny have been made from virus 779b2 in host 6b4f5\n",
        "10 progeny have been made from virus d7556 in host 6b4f5"
       ]
      },
      {
       "output_type": "stream",
       "stream": "stdout",
       "text": [
        "\n",
        "7 progeny have been made from virus 88361 in host 6b4f5\n",
        "8 progeny have been made from virus 4a046 in host 6b4f5"
       ]
      },
      {
       "output_type": "stream",
       "stream": "stdout",
       "text": [
        "\n",
        "9 progeny have been made from virus 223e7 in host 6b4f5\n",
        "7 progeny have been made from virus 99feb in host 6b4f5"
       ]
      },
      {
       "output_type": "stream",
       "stream": "stdout",
       "text": [
        "\n",
        "10 progeny have been made from virus 355cd in host 6b4f5"
       ]
      },
      {
       "output_type": "stream",
       "stream": "stdout",
       "text": [
        "\n",
        "7 progeny have been made from virus c09e8 in host 6b4f5\n",
        "7 progeny have been made from virus 83cc8 in host 6b4f5"
       ]
      },
      {
       "output_type": "stream",
       "stream": "stdout",
       "text": [
        "\n",
        "6 progeny have been made from virus 6c098 in host 6b4f5\n",
        "10 progeny have been made from virus 7c127 in host 6b4f5"
       ]
      },
      {
       "output_type": "stream",
       "stream": "stdout",
       "text": [
        "\n",
        "8 progeny have been made from virus 33060 in host 6b4f5\n",
        "8 progeny have been made from virus a2da0 in host 6b4f5"
       ]
      },
      {
       "output_type": "stream",
       "stream": "stdout",
       "text": [
        "\n",
        "8 progeny have been made from virus 18561 in host 6b4f5\n",
        "9 progeny have been made from virus c89ad in host 6b4f5"
       ]
      },
      {
       "output_type": "stream",
       "stream": "stdout",
       "text": [
        "\n",
        "6 progeny have been made from virus 88361 in host 6b4f5\n",
        "6 progeny have been made from virus eddef in host 6b4f5"
       ]
      },
      {
       "output_type": "stream",
       "stream": "stdout",
       "text": [
        "\n",
        "7 progeny have been made from virus 11b8e in host 6b4f5\n",
        "7 progeny have been made from virus c829d in host 6b4f5"
       ]
      },
      {
       "output_type": "stream",
       "stream": "stdout",
       "text": [
        "\n",
        "8 progeny have been made from virus aeff8 in host 6b4f5\n",
        "9 progeny have been made from virus e184a in host 6b4f5"
       ]
      },
      {
       "output_type": "stream",
       "stream": "stdout",
       "text": [
        "\n",
        "10 progeny have been made from virus 46c9f in host 6b4f5"
       ]
      },
      {
       "output_type": "stream",
       "stream": "stdout",
       "text": [
        "\n",
        "5 progeny have been made from virus b791e in host 6b4f5\n",
        "10 progeny have been made from virus 23661 in host 6b4f5"
       ]
      },
      {
       "output_type": "stream",
       "stream": "stdout",
       "text": [
        "\n",
        "8 progeny have been made from virus c2087 in host 6b4f5\n",
        "8 progeny have been made from virus ea82a in host 6b4f5"
       ]
      },
      {
       "output_type": "stream",
       "stream": "stdout",
       "text": [
        "\n",
        "9 progeny have been made from virus f474d in host 6b4f5"
       ]
      },
      {
       "output_type": "stream",
       "stream": "stdout",
       "text": [
        "\n",
        "10 progeny have been made from virus 7ba81 in host 6b4f5"
       ]
      },
      {
       "output_type": "stream",
       "stream": "stdout",
       "text": [
        "\n",
        "5 progeny have been made from virus 20f28 in host 6b4f5\n",
        "8 progeny have been made from virus 6ba8a in host 6b4f5"
       ]
      },
      {
       "output_type": "stream",
       "stream": "stdout",
       "text": [
        "\n",
        "9 progeny have been made from virus 83cc8 in host 6b4f5"
       ]
      },
      {
       "output_type": "stream",
       "stream": "stdout",
       "text": [
        "\n",
        "7 progeny have been made from virus 2b003 in host 6b4f5\n",
        "6 progeny have been made from virus 3765b in host 6b4f5"
       ]
      },
      {
       "output_type": "stream",
       "stream": "stdout",
       "text": [
        "\n",
        "7 progeny have been made from virus 1f42b in host 6b4f5\n",
        "5 progeny have been made from virus bf19a in host 6b4f5"
       ]
      },
      {
       "output_type": "stream",
       "stream": "stdout",
       "text": [
        "\n",
        "8 progeny have been made from virus 84abf in host 6b4f5"
       ]
      },
      {
       "output_type": "stream",
       "stream": "stdout",
       "text": [
        "\n",
        "374 progeny generated in host 6b4f5.\n",
        "Current time is 5. Incrementing time to 6\n",
        "Generating 119 progeny in host 6b4f5...\n",
        "6 progeny have been made from virus 0caa5 in host 6b4f5\n",
        "5 progeny have been made from virus 63d22 in host 6b4f5"
       ]
      },
      {
       "output_type": "stream",
       "stream": "stdout",
       "text": [
        "\n",
        "8 progeny have been made from virus 89bcc in host 6b4f5"
       ]
      },
      {
       "output_type": "stream",
       "stream": "stdout",
       "text": [
        "\n",
        "10 progeny have been made from virus 24d00 in host 6b4f5"
       ]
      },
      {
       "output_type": "stream",
       "stream": "stdout",
       "text": [
        "\n",
        "7 progeny have been made from virus 3acd6 in host 6b4f5\n",
        "7 progeny have been made from virus c8688 in host 6b4f5"
       ]
      },
      {
       "output_type": "stream",
       "stream": "stdout",
       "text": [
        "\n",
        "5 progeny have been made from virus 0081d in host 6b4f5\n",
        "7 progeny have been made from virus 2f217 in host 6b4f5"
       ]
      },
      {
       "output_type": "stream",
       "stream": "stdout",
       "text": [
        "\n",
        "6 progeny have been made from virus 0491f in host 6b4f5\n",
        "5 progeny have been made from virus d4d9b in host 6b4f5"
       ]
      },
      {
       "output_type": "stream",
       "stream": "stdout",
       "text": [
        "\n",
        "5 progeny have been made from virus a8bd2 in host 6b4f5\n",
        "9 progeny have been made from virus 3567e in host 6b4f5"
       ]
      },
      {
       "output_type": "stream",
       "stream": "stdout",
       "text": [
        "\n",
        "8 progeny have been made from virus fce51 in host 6b4f5"
       ]
      },
      {
       "output_type": "stream",
       "stream": "stdout",
       "text": [
        "\n",
        "8 progeny have been made from virus b5e4c in host 6b4f5\n",
        "7 progeny have been made from virus e7c75 in host 6b4f5"
       ]
      },
      {
       "output_type": "stream",
       "stream": "stdout",
       "text": [
        "\n",
        "5 progeny have been made from virus 7cc67 in host 6b4f5\n",
        "6 progeny have been made from virus 470a3 in host 6b4f5"
       ]
      },
      {
       "output_type": "stream",
       "stream": "stdout",
       "text": [
        "\n",
        "5 progeny have been made from virus d1c7f in host 6b4f5\n",
        "119 progeny generated in host 6b4f5.\n",
        "Current time is 6. Incrementing time to 7\n",
        "Generating 234 progeny in host 6b4f5...\n",
        "8 progeny have been made from virus aad16 in host 6b4f5"
       ]
      },
      {
       "output_type": "stream",
       "stream": "stdout",
       "text": [
        "\n",
        "9 progeny have been made from virus b61df in host 6b4f5"
       ]
      },
      {
       "output_type": "stream",
       "stream": "stdout",
       "text": [
        "\n",
        "5 progeny have been made from virus 5983b in host 6b4f5\n",
        "7 progeny have been made from virus cb51a in host 6b4f5"
       ]
      },
      {
       "output_type": "stream",
       "stream": "stdout",
       "text": [
        "\n",
        "5 progeny have been made from virus a5eca in host 6b4f5\n",
        "10 progeny have been made from virus 45094 in host 6b4f5"
       ]
      },
      {
       "output_type": "stream",
       "stream": "stdout",
       "text": [
        "\n",
        "6 progeny have been made from virus 70a13 in host 6b4f5\n",
        "5 progeny have been made from virus aa6c4 in host 6b4f5"
       ]
      },
      {
       "output_type": "stream",
       "stream": "stdout",
       "text": [
        "\n",
        "6 progeny have been made from virus 1268a in host 6b4f5\n",
        "8 progeny have been made from virus ef68e in host 6b4f5"
       ]
      },
      {
       "output_type": "stream",
       "stream": "stdout",
       "text": [
        "\n",
        "5 progeny have been made from virus 169c1 in host 6b4f5\n",
        "6 progeny have been made from virus 1528e in host 6b4f5"
       ]
      },
      {
       "output_type": "stream",
       "stream": "stdout",
       "text": [
        "\n",
        "8 progeny have been made from virus cf86e in host 6b4f5"
       ]
      },
      {
       "output_type": "stream",
       "stream": "stdout",
       "text": [
        "\n",
        "5 progeny have been made from virus f5a70 in host 6b4f5\n",
        "10 progeny have been made from virus 4d537 in host 6b4f5"
       ]
      },
      {
       "output_type": "stream",
       "stream": "stdout",
       "text": [
        "\n",
        "10 progeny have been made from virus eee6a in host 6b4f5"
       ]
      },
      {
       "output_type": "stream",
       "stream": "stdout",
       "text": [
        "\n",
        "10 progeny have been made from virus bdaf1 in host 6b4f5"
       ]
      },
      {
       "output_type": "stream",
       "stream": "stdout",
       "text": [
        "\n",
        "9 progeny have been made from virus e7e90 in host 6b4f5"
       ]
      },
      {
       "output_type": "stream",
       "stream": "stdout",
       "text": [
        "\n",
        "9 progeny have been made from virus d16f9 in host 6b4f5"
       ]
      },
      {
       "output_type": "stream",
       "stream": "stdout",
       "text": [
        "\n",
        "9 progeny have been made from virus 621b5 in host 6b4f5"
       ]
      },
      {
       "output_type": "stream",
       "stream": "stdout",
       "text": [
        "\n",
        "5 progeny have been made from virus 62a1d in host 6b4f5\n",
        "8 progeny have been made from virus 8c228 in host 6b4f5"
       ]
      },
      {
       "output_type": "stream",
       "stream": "stdout",
       "text": [
        "\n",
        "8 progeny have been made from virus ba0f1 in host 6b4f5"
       ]
      },
      {
       "output_type": "stream",
       "stream": "stdout",
       "text": [
        "\n",
        "8 progeny have been made from virus aecb8 in host 6b4f5"
       ]
      },
      {
       "output_type": "stream",
       "stream": "stdout",
       "text": [
        "\n",
        "6 progeny have been made from virus e90e5 in host 6b4f5"
       ]
      },
      {
       "output_type": "stream",
       "stream": "stdout",
       "text": [
        "\n",
        "10 progeny have been made from virus d50ec in host 6b4f5"
       ]
      },
      {
       "output_type": "stream",
       "stream": "stdout",
       "text": [
        "\n",
        "6 progeny have been made from virus 7d4be in host 6b4f5\n",
        "5 progeny have been made from virus 7f279 in host 6b4f5"
       ]
      },
      {
       "output_type": "stream",
       "stream": "stdout",
       "text": [
        "\n",
        "9 progeny have been made from virus 62b29 in host 6b4f5"
       ]
      },
      {
       "output_type": "stream",
       "stream": "stdout",
       "text": [
        "\n",
        "10 progeny have been made from virus 566c0 in host 6b4f5"
       ]
      },
      {
       "output_type": "stream",
       "stream": "stdout",
       "text": [
        "\n",
        "8 progeny have been made from virus ad22d in host 6b4f5"
       ]
      },
      {
       "output_type": "stream",
       "stream": "stdout",
       "text": [
        "\n",
        "10 progeny have been made from virus 00256 in host 6b4f5"
       ]
      },
      {
       "output_type": "stream",
       "stream": "stdout",
       "text": [
        "\n",
        "243 progeny generated in host 6b4f5.\n",
        "Current time is 7. Incrementing time to 8\n",
        "Generating 109 progeny in host 6b4f5...\n",
        "9 progeny have been made from virus 9bc1b in host 6b4f5"
       ]
      },
      {
       "output_type": "stream",
       "stream": "stdout",
       "text": [
        "\n",
        "7 progeny have been made from virus c4b05 in host 6b4f5"
       ]
      },
      {
       "output_type": "stream",
       "stream": "stdout",
       "text": [
        "\n",
        "5 progeny have been made from virus 36b0a in host 6b4f5\n",
        "10 progeny have been made from virus 4d537 in host 6b4f5"
       ]
      },
      {
       "output_type": "stream",
       "stream": "stdout",
       "text": [
        "\n",
        "7 progeny have been made from virus aa64e in host 6b4f5"
       ]
      },
      {
       "output_type": "stream",
       "stream": "stdout",
       "text": [
        "\n",
        "9 progeny have been made from virus 1b080 in host 6b4f5"
       ]
      },
      {
       "output_type": "stream",
       "stream": "stdout",
       "text": [
        "\n",
        "8 progeny have been made from virus 840bd in host 6b4f5"
       ]
      },
      {
       "output_type": "stream",
       "stream": "stdout",
       "text": [
        "\n",
        "7 progeny have been made from virus 5ddfb in host 6b4f5"
       ]
      },
      {
       "output_type": "stream",
       "stream": "stdout",
       "text": [
        "\n",
        "6 progeny have been made from virus a31a7 in host 6b4f5"
       ]
      },
      {
       "output_type": "stream",
       "stream": "stdout",
       "text": [
        "\n",
        "5 progeny have been made from virus 1a8cb in host 6b4f5\n",
        "8 progeny have been made from virus b39b3 in host 6b4f5"
       ]
      },
      {
       "output_type": "stream",
       "stream": "stdout",
       "text": [
        "\n",
        "7 progeny have been made from virus 4d524 in host 6b4f5"
       ]
      },
      {
       "output_type": "stream",
       "stream": "stdout",
       "text": [
        "\n",
        "8 progeny have been made from virus 34550 in host 6b4f5"
       ]
      },
      {
       "output_type": "stream",
       "stream": "stdout",
       "text": [
        "\n",
        "10 progeny have been made from virus d4d9b in host 6b4f5"
       ]
      },
      {
       "output_type": "stream",
       "stream": "stdout",
       "text": [
        "\n",
        "7 progeny have been made from virus d4d9b in host 6b4f5"
       ]
      },
      {
       "output_type": "stream",
       "stream": "stdout",
       "text": [
        "\n",
        "113 progeny generated in host 6b4f5.\n",
        "Current time is 8. Incrementing time to 9\n",
        "Generating 66 progeny in host 6b4f5...\n",
        "6 progeny have been made from virus 975ce in host 6b4f5"
       ]
      },
      {
       "output_type": "stream",
       "stream": "stdout",
       "text": [
        "\n",
        "9 progeny have been made from virus cc69a in host 6b4f5"
       ]
      },
      {
       "output_type": "stream",
       "stream": "stdout",
       "text": [
        "\n",
        "5 progeny have been made from virus f3439 in host 6b4f5\n",
        "9 progeny have been made from virus edd2c in host 6b4f5"
       ]
      },
      {
       "output_type": "stream",
       "stream": "stdout",
       "text": [
        "\n",
        "6 progeny have been made from virus fd930 in host 6b4f5"
       ]
      },
      {
       "output_type": "stream",
       "stream": "stdout",
       "text": [
        "\n",
        "9 progeny have been made from virus 589dc in host 6b4f5"
       ]
      },
      {
       "output_type": "stream",
       "stream": "stdout",
       "text": [
        "\n",
        "9 progeny have been made from virus 9629a in host 6b4f5"
       ]
      },
      {
       "output_type": "stream",
       "stream": "stdout",
       "text": [
        "\n",
        "8 progeny have been made from virus d7f22 in host 6b4f5"
       ]
      },
      {
       "output_type": "stream",
       "stream": "stdout",
       "text": [
        "\n",
        "7 progeny have been made from virus df20d in host 6b4f5\n",
        "68 progeny generated in host 6b4f5.\n",
        "Current time is 9. Incrementing time to 10\n",
        "Generating 19 progeny in host 6b4f5...\n",
        "10 progeny have been made from virus 1b080 in host 6b4f5"
       ]
      },
      {
       "output_type": "stream",
       "stream": "stdout",
       "text": [
        "\n",
        "5 progeny have been made from virus c3505 in host 6b4f5\n",
        "5 progeny have been made from virus b2437 in host 6b4f5"
       ]
      },
      {
       "output_type": "stream",
       "stream": "stdout",
       "text": [
        "\n",
        "20 progeny generated in host 6b4f5.\n",
        "Current time is 10. Incrementing time to 11\n",
        "Generating 36 progeny in host 6b4f5...\n",
        "8 progeny have been made from virus 4ce3a in host 6b4f5"
       ]
      },
      {
       "output_type": "stream",
       "stream": "stdout",
       "text": [
        "\n",
        "7 progeny have been made from virus 2bae2 in host 6b4f5"
       ]
      },
      {
       "output_type": "stream",
       "stream": "stdout",
       "text": [
        "\n",
        "7 progeny have been made from virus 88f2e in host 6b4f5"
       ]
      },
      {
       "output_type": "stream",
       "stream": "stdout",
       "text": [
        "\n",
        "6 progeny have been made from virus abb86 in host 6b4f5"
       ]
      },
      {
       "output_type": "stream",
       "stream": "stdout",
       "text": [
        "\n",
        "9 progeny have been made from virus 91fed in host 6b4f5"
       ]
      },
      {
       "output_type": "stream",
       "stream": "stdout",
       "text": [
        "\n",
        "37 progeny generated in host 6b4f5.\n",
        "Current time is 11. Incrementing time to 12\n",
        "Generating 38 progeny in host 6b4f5...\n",
        "6 progeny have been made from virus 1bf76 in host 6b4f5"
       ]
      },
      {
       "output_type": "stream",
       "stream": "stdout",
       "text": [
        "\n",
        "7 progeny have been made from virus ab67a in host 6b4f5"
       ]
      },
      {
       "output_type": "stream",
       "stream": "stdout",
       "text": [
        "\n",
        "9 progeny have been made from virus ab67a in host 6b4f5"
       ]
      },
      {
       "output_type": "stream",
       "stream": "stdout",
       "text": [
        "\n",
        "10 progeny have been made from virus a23ab in host 6b4f5"
       ]
      },
      {
       "output_type": "stream",
       "stream": "stdout",
       "text": [
        "\n",
        "5 progeny have been made from virus f85a0 in host 6b4f5\n",
        "10 progeny have been made from virus f85a0 in host 6b4f5"
       ]
      },
      {
       "output_type": "stream",
       "stream": "stdout",
       "text": [
        "\n",
        "47 progeny generated in host 6b4f5.\n",
        "Current time is 12. Incrementing time to 13\n",
        "Generating 69 progeny in host 6b4f5...\n",
        "6 progeny have been made from virus 6bf68 in host 6b4f5"
       ]
      },
      {
       "output_type": "stream",
       "stream": "stdout",
       "text": [
        "\n",
        "5 progeny have been made from virus 482e0 in host 6b4f5\n",
        "6 progeny have been made from virus 9aca2 in host 6b4f5"
       ]
      },
      {
       "output_type": "stream",
       "stream": "stdout",
       "text": [
        "\n",
        "7 progeny have been made from virus 15bd6 in host 6b4f5"
       ]
      },
      {
       "output_type": "stream",
       "stream": "stdout",
       "text": [
        "\n",
        "10 progeny have been made from virus 47d2c in host 6b4f5"
       ]
      },
      {
       "output_type": "stream",
       "stream": "stdout",
       "text": [
        "\n",
        "6 progeny have been made from virus c7a30 in host 6b4f5\n",
        "6 progeny have been made from virus 4976c in host 6b4f5"
       ]
      },
      {
       "output_type": "stream",
       "stream": "stdout",
       "text": [
        "\n",
        "6 progeny have been made from virus 52c5e in host 6b4f5"
       ]
      },
      {
       "output_type": "stream",
       "stream": "stdout",
       "text": [
        "\n",
        "7 progeny have been made from virus 77a88 in host 6b4f5"
       ]
      },
      {
       "output_type": "stream",
       "stream": "stdout",
       "text": [
        "\n",
        "10 progeny have been made from virus 15bd6 in host 6b4f5"
       ]
      },
      {
       "output_type": "stream",
       "stream": "stdout",
       "text": [
        "\n",
        "69 progeny generated in host 6b4f5.\n",
        "Current time is 13. Incrementing time to 14\n",
        "Generating 17 progeny in host 6b4f5...\n",
        "8 progeny have been made from virus 7f610 in host 6b4f5"
       ]
      },
      {
       "output_type": "stream",
       "stream": "stdout",
       "text": [
        "\n",
        "6 progeny have been made from virus 4d4d7 in host 6b4f5"
       ]
      },
      {
       "output_type": "stream",
       "stream": "stdout",
       "text": [
        "\n",
        "10 progeny have been made from virus 61141 in host 6b4f5"
       ]
      },
      {
       "output_type": "stream",
       "stream": "stdout",
       "text": [
        "\n",
        "24 progeny generated in host 6b4f5.\n",
        "Current time is 14. Incrementing time to 15\n",
        "Generating 32 progeny in host 6b4f5...\n",
        "7 progeny have been made from virus fa75d in host 6b4f5"
       ]
      },
      {
       "output_type": "stream",
       "stream": "stdout",
       "text": [
        "\n",
        "6 progeny have been made from virus a8c40 in host 6b4f5"
       ]
      },
      {
       "output_type": "stream",
       "stream": "stdout",
       "text": [
        "\n",
        "5 progeny have been made from virus 76db8 in host 6b4f5\n",
        "10 progeny have been made from virus bfc6b in host 6b4f5"
       ]
      },
      {
       "output_type": "stream",
       "stream": "stdout",
       "text": [
        "\n",
        "10 progeny have been made from virus ac8c7 in host 6b4f5"
       ]
      },
      {
       "output_type": "stream",
       "stream": "stdout",
       "text": [
        "\n",
        "38 progeny generated in host 6b4f5.\n",
        "Current time is 15. Incrementing time to 16\n",
        "Generating 34 progeny in host 6b4f5...\n",
        "7 progeny have been made from virus 5305a in host 6b4f5"
       ]
      },
      {
       "output_type": "stream",
       "stream": "stdout",
       "text": [
        "\n",
        "5 progeny have been made from virus a7ff3 in host 6b4f5"
       ]
      },
      {
       "output_type": "stream",
       "stream": "stdout",
       "text": [
        "\n",
        "9 progeny have been made from virus 2ae17 in host 6b4f5"
       ]
      },
      {
       "output_type": "stream",
       "stream": "stdout",
       "text": [
        "\n",
        "7 progeny have been made from virus e263a in host 6b4f5"
       ]
      },
      {
       "output_type": "stream",
       "stream": "stdout",
       "text": [
        "\n",
        "9 progeny have been made from virus 2677d in host 6b4f5"
       ]
      },
      {
       "output_type": "stream",
       "stream": "stdout",
       "text": [
        "\n",
        "37 progeny generated in host 6b4f5.\n",
        "Current time is 16. Incrementing time to 17\n",
        "Generating 34 progeny in host 6b4f5...\n",
        "8 progeny have been made from virus a6341 in host 6b4f5"
       ]
      },
      {
       "output_type": "stream",
       "stream": "stdout",
       "text": [
        "\n",
        "5 progeny have been made from virus c7cb1 in host 6b4f5"
       ]
      },
      {
       "output_type": "stream",
       "stream": "stdout",
       "text": [
        "\n",
        "10 progeny have been made from virus 60b7d in host 6b4f5"
       ]
      },
      {
       "output_type": "stream",
       "stream": "stdout",
       "text": [
        "\n",
        "10 progeny have been made from virus e2338 in host 6b4f5"
       ]
      },
      {
       "output_type": "stream",
       "stream": "stdout",
       "text": [
        "\n",
        "8 progeny have been made from virus 7f306 in host 6b4f5"
       ]
      },
      {
       "output_type": "stream",
       "stream": "stdout",
       "text": [
        "\n",
        "41 progeny generated in host 6b4f5.\n",
        "Current time is 17. Incrementing time to 18\n",
        "Generating 11 progeny in host 6b4f5...\n",
        "5 progeny have been made from virus 30b36 in host 6b4f5"
       ]
      },
      {
       "output_type": "stream",
       "stream": "stdout",
       "text": [
        "\n",
        "10 progeny have been made from virus fde6f in host 6b4f5"
       ]
      },
      {
       "output_type": "stream",
       "stream": "stdout",
       "text": [
        "\n",
        "15 progeny generated in host 6b4f5.\n",
        "Current time is 18. Incrementing time to 19\n",
        "Generating 3 progeny in host 6b4f5...\n",
        "5 progeny have been made from virus 59bf1 in host 6b4f5"
       ]
      },
      {
       "output_type": "stream",
       "stream": "stdout",
       "text": [
        "\n",
        "5 progeny generated in host 6b4f5.\n",
        "Current time is 19. Incrementing time to 20\n",
        "Generating 0 progeny in host 6b4f5...\n",
        "0 progeny generated in host 6b4f5.\n",
        "Current time is 20. Incrementing time to 21\n",
        "Generating 1 progeny in host 6b4f5...\n",
        "9 progeny have been made from virus cd775 in host 6b4f5"
       ]
      },
      {
       "output_type": "stream",
       "stream": "stdout",
       "text": [
        "\n",
        "9 progeny generated in host 6b4f5.\n",
        "Current time is 21. Incrementing time to 22\n",
        "Generating 0 progeny in host 6b4f5...\n",
        "0 progeny generated in host 6b4f5.\n",
        "Current time is 22. Incrementing time to 23\n",
        "Generating 0 progeny in host 6b4f5...\n",
        "0 progeny generated in host 6b4f5.\n",
        "Current time is 23. Incrementing time to 24\n",
        "Generating 1 progeny in host 6b4f5...\n",
        "5 progeny have been made from virus 9bdad in host 6b4f5"
       ]
      },
      {
       "output_type": "stream",
       "stream": "stdout",
       "text": [
        "\n",
        "5 progeny generated in host 6b4f5.\n",
        "Current time is 24. Incrementing time to 25\n",
        "Generating 2 progeny in host 6b4f5...\n",
        "10 progeny have been made from virus 4b250 in host 6b4f5"
       ]
      },
      {
       "output_type": "stream",
       "stream": "stdout",
       "text": [
        "\n",
        "10 progeny generated in host 6b4f5.\n",
        "Current time is 25. Incrementing time to 26\n",
        "Generating 2 progeny in host 6b4f5...\n",
        "6 progeny have been made from virus 4c52b in host 6b4f5"
       ]
      },
      {
       "output_type": "stream",
       "stream": "stdout",
       "text": [
        "\n",
        "6 progeny generated in host 6b4f5.\n",
        "Current time is 26. Incrementing time to 27\n",
        "Generating 0 progeny in host 6b4f5...\n",
        "0 progeny generated in host 6b4f5.\n",
        "Current time is 27. Incrementing time to 28\n",
        "Current time is 28. Incrementing time to 29\n",
        "Current time is 29. Incrementing time to 30\n",
        "Adding host 73305... to environment 7e7e8...\n",
        "Creating environment 7e7e8\n",
        "Creating virus 14881 inside host 73305\n",
        "Current time is 0. Incrementing time to 1\n",
        "Generating 0 progeny in host 73305...\n",
        "0 progeny generated in host 73305.\n",
        "Current time is 1. Incrementing time to 2\n",
        "Generating 2 progeny in host 73305...\n",
        "10 progeny have been made from virus 14881 in host 73305\n",
        "10 progeny generated in host 73305.\n",
        "Current time is 2. Incrementing time to 3\n",
        "Generating 6 progeny in host 73305...\n",
        "5 progeny have been made from virus 14881 in host 73305"
       ]
      },
      {
       "output_type": "stream",
       "stream": "stdout",
       "text": [
        "\n",
        "9 progeny have been made from virus 2d600 in host 73305\n",
        "14 progeny generated in host 73305.\n",
        "Current time is 3. Incrementing time to 4\n",
        "Generating 10 progeny in host 73305...\n",
        "8 progeny have been made from virus 58592 in host 73305\n",
        "6 progeny have been made from virus d0fb5 in host 73305\n",
        "14 progeny generated in host 73305.\n",
        "Current time is 4. Incrementing time to 5\n",
        "Generating 31 progeny in host 73305...\n",
        "8 progeny have been made from virus cab3a in host 73305"
       ]
      },
      {
       "output_type": "stream",
       "stream": "stdout",
       "text": [
        "\n",
        "5 progeny have been made from virus d0199 in host 73305\n",
        "7 progeny have been made from virus d0199 in host 73305\n",
        "8 progeny have been made from virus 1384d in host 73305\n",
        "6 progeny have been made from virus 4152f in host 73305"
       ]
      },
      {
       "output_type": "stream",
       "stream": "stdout",
       "text": [
        "\n",
        "34 progeny generated in host 73305.\n",
        "Current time is 5. Incrementing time to 6\n",
        "Generating 33 progeny in host 73305...\n",
        "5 progeny have been made from virus 3fb99 in host 73305\n",
        "9 progeny have been made from virus 39a11 in host 73305\n",
        "10 progeny have been made from virus e654a in host 73305"
       ]
      },
      {
       "output_type": "stream",
       "stream": "stdout",
       "text": [
        "\n",
        "6 progeny have been made from virus 03a3c in host 73305\n",
        "5 progeny have been made from virus 07f7a in host 73305\n",
        "35 progeny generated in host 73305.\n",
        "Current time is 6. Incrementing time to 7\n",
        "Generating 31 progeny in host 73305...\n",
        "8 progeny have been made from virus b22f0 in host 73305"
       ]
      },
      {
       "output_type": "stream",
       "stream": "stdout",
       "text": [
        "\n",
        "7 progeny have been made from virus 5d3c2 in host 73305\n",
        "8 progeny have been made from virus e1d05 in host 73305\n",
        "8 progeny have been made from virus 435a3 in host 73305"
       ]
      },
      {
       "output_type": "stream",
       "stream": "stdout",
       "text": [
        "\n",
        "31 progeny generated in host 73305.\n",
        "Current time is 7. Incrementing time to 8\n",
        "Generating 15 progeny in host 73305...\n",
        "10 progeny have been made from virus e281e in host 73305\n",
        "9 progeny have been made from virus c9883 in host 73305"
       ]
      },
      {
       "output_type": "stream",
       "stream": "stdout",
       "text": [
        "\n",
        "19 progeny generated in host 73305.\n",
        "Current time is 8. Incrementing time to 9\n",
        "Generating 31 progeny in host 73305...\n",
        "10 progeny have been made from virus eaafb in host 73305\n",
        "7 progeny have been made from virus 33023 in host 73305\n",
        "7 progeny have been made from virus b992a in host 73305"
       ]
      },
      {
       "output_type": "stream",
       "stream": "stdout",
       "text": [
        "\n",
        "7 progeny have been made from virus 1d466 in host 73305\n",
        "31 progeny generated in host 73305.\n",
        "Current time is 9. Incrementing time to 10\n",
        "Generating 47 progeny in host 73305...\n",
        "6 progeny have been made from virus ff62a in host 73305\n",
        "5 progeny have been made from virus 9da5e in host 73305"
       ]
      },
      {
       "output_type": "stream",
       "stream": "stdout",
       "text": [
        "\n",
        "7 progeny have been made from virus 964c0 in host 73305\n",
        "9 progeny have been made from virus ef3c9 in host 73305\n",
        "7 progeny have been made from virus 04440 in host 73305"
       ]
      },
      {
       "output_type": "stream",
       "stream": "stdout",
       "text": [
        "\n",
        "6 progeny have been made from virus 40c1d in host 73305\n",
        "8 progeny have been made from virus 3e0dd in host 73305\n",
        "48 progeny generated in host 73305.\n",
        "Current time is 10. Incrementing time to 11\n",
        "Generating 57 progeny in host 73305...\n",
        "10 progeny have been made from virus b6189 in host 73305"
       ]
      },
      {
       "output_type": "stream",
       "stream": "stdout",
       "text": [
        "\n",
        "8 progeny have been made from virus 734ee in host 73305\n",
        "6 progeny have been made from virus 70e95 in host 73305\n",
        "9 progeny have been made from virus ed714 in host 73305"
       ]
      },
      {
       "output_type": "stream",
       "stream": "stdout",
       "text": [
        "\n",
        "5 progeny have been made from virus f7d73 in host 73305\n",
        "5 progeny have been made from virus 9bf2c in host 73305\n",
        "5 progeny have been made from virus c929c in host 73305"
       ]
      },
      {
       "output_type": "stream",
       "stream": "stdout",
       "text": [
        "\n",
        "6 progeny have been made from virus 36cbe in host 73305\n",
        "8 progeny have been made from virus 38685 in host 73305"
       ]
      },
      {
       "output_type": "stream",
       "stream": "stdout",
       "text": [
        "\n",
        "62 progeny generated in host 73305.\n",
        "Current time is 11. Incrementing time to 12\n",
        "Generating 32 progeny in host 73305...\n",
        "5 progeny have been made from virus 4e561 in host 73305\n",
        "9 progeny have been made from virus 5ae99 in host 73305\n",
        "5 progeny have been made from virus 81df5 in host 73305"
       ]
      },
      {
       "output_type": "stream",
       "stream": "stdout",
       "text": [
        "\n",
        "5 progeny have been made from virus bcd1b in host 73305\n",
        "10 progeny have been made from virus e8d5a in host 73305"
       ]
      },
      {
       "output_type": "stream",
       "stream": "stdout",
       "text": [
        "\n",
        "34 progeny generated in host 73305.\n",
        "Current time is 12. Incrementing time to 13\n",
        "Generating 26 progeny in host 73305...\n",
        "7 progeny have been made from virus af127 in host 73305\n",
        "8 progeny have been made from virus 20dcc in host 73305"
       ]
      },
      {
       "output_type": "stream",
       "stream": "stdout",
       "text": [
        "\n",
        "8 progeny have been made from virus b8673 in host 73305\n",
        "8 progeny have been made from virus 552f1 in host 73305"
       ]
      },
      {
       "output_type": "stream",
       "stream": "stdout",
       "text": [
        "\n",
        "31 progeny generated in host 73305.\n",
        "Current time is 13. Incrementing time to 14\n",
        "Generating 27 progeny in host 73305...\n",
        "7 progeny have been made from virus 0a3f4 in host 73305\n",
        "10 progeny have been made from virus 0a3f4 in host 73305"
       ]
      },
      {
       "output_type": "stream",
       "stream": "stdout",
       "text": [
        "\n",
        "6 progeny have been made from virus 57b8d in host 73305\n",
        "10 progeny have been made from virus df124 in host 73305"
       ]
      },
      {
       "output_type": "stream",
       "stream": "stdout",
       "text": [
        "\n",
        "33 progeny generated in host 73305.\n",
        "Current time is 14. Incrementing time to 15\n",
        "Generating 20 progeny in host 73305...\n",
        "7 progeny have been made from virus 42cd5 in host 73305\n",
        "10 progeny have been made from virus e7660 in host 73305"
       ]
      },
      {
       "output_type": "stream",
       "stream": "stdout",
       "text": [
        "\n",
        "5 progeny have been made from virus 942af in host 73305\n",
        "22 progeny generated in host 73305.\n",
        "Current time is 15. Incrementing time to 16\n",
        "Generating 13 progeny in host 73305...\n",
        "7 progeny have been made from virus b26ad in host 73305"
       ]
      },
      {
       "output_type": "stream",
       "stream": "stdout",
       "text": [
        "\n",
        "8 progeny have been made from virus 5f22b in host 73305\n",
        "15 progeny generated in host 73305.\n",
        "Current time is 16. Incrementing time to 17\n",
        "Generating 11 progeny in host 73305...\n",
        "7 progeny have been made from virus 5dd02 in host 73305"
       ]
      },
      {
       "output_type": "stream",
       "stream": "stdout",
       "text": [
        "\n",
        "6 progeny have been made from virus 14c7b in host 73305\n",
        "13 progeny generated in host 73305.\n",
        "Current time is 17. Incrementing time to 18\n",
        "Generating 11 progeny in host 73305...\n",
        "9 progeny have been made from virus 3c3a1 in host 73305"
       ]
      },
      {
       "output_type": "stream",
       "stream": "stdout",
       "text": [
        "\n",
        "6 progeny have been made from virus 77e40 in host 73305\n",
        "15 progeny generated in host 73305.\n",
        "Current time is 18. Incrementing time to 19\n",
        "Generating 5 progeny in host 73305...\n",
        "7 progeny have been made from virus 2ec29 in host 73305"
       ]
      },
      {
       "output_type": "stream",
       "stream": "stdout",
       "text": [
        "\n",
        "7 progeny generated in host 73305.\n",
        "Current time is 19. Incrementing time to 20\n",
        "Generating 7 progeny in host 73305...\n",
        "5 progeny have been made from virus 9cdc5 in host 73305\n",
        "7 progeny have been made from virus dc721 in host 73305\n",
        "12 progeny generated in host 73305.\n",
        "Current time is 20. Incrementing time to 21\n",
        "Generating 2 progeny in host 73305...\n",
        "9 progeny have been made from virus aeee0 in host 73305"
       ]
      },
      {
       "output_type": "stream",
       "stream": "stdout",
       "text": [
        "\n",
        "9 progeny generated in host 73305.\n",
        "Current time is 21. Incrementing time to 22\n",
        "Generating 1 progeny in host 73305...\n",
        "10 progeny have been made from virus c67e2 in host 73305\n",
        "10 progeny generated in host 73305.\n",
        "Current time is 22. Incrementing time to 23\n",
        "Generating 0 progeny in host 73305...\n",
        "0 progeny generated in host 73305.\n",
        "Current time is 23. Incrementing time to 24\n",
        "Generating 0 progeny in host 73305...\n",
        "0 progeny generated in host 73305.\n",
        "Current time is 24. Incrementing time to 25\n",
        "Current time is 25. Incrementing time to 26\n",
        "Current time is 26. Incrementing time to 27\n",
        "Current time is 27. Incrementing time to 28\n",
        "Current time is 28. Incrementing time to 29\n",
        "Current time is 29. Incrementing time to 30\n",
        "Adding host d4382... to environment d4b7c...\n",
        "Creating environment d4b7c\n",
        "Creating virus 2efc8 inside host d4382\n",
        "Current time is 0. Incrementing time to 1\n",
        "Generating 3 progeny in host d4382...\n",
        "8 progeny have been made from virus 2efc8 in host d4382"
       ]
      },
      {
       "output_type": "stream",
       "stream": "stdout",
       "text": [
        "\n",
        "8 progeny generated in host d4382.\n",
        "Current time is 1. Incrementing time to 2\n",
        "Generating 27 progeny in host d4382...\n",
        "10 progeny have been made from virus dfb7c in host d4382\n",
        "6 progeny have been made from virus a8882 in host d4382\n",
        "9 progeny have been made from virus 2efc8 in host d4382"
       ]
      },
      {
       "output_type": "stream",
       "stream": "stdout",
       "text": [
        "\n",
        "7 progeny have been made from virus 9fcb8 in host d4382\n",
        "32 progeny generated in host d4382.\n",
        "Current time is 2. Incrementing time to 3\n",
        "Generating 21 progeny in host d4382...\n",
        "8 progeny have been made from virus fb0be in host d4382\n",
        "9 progeny have been made from virus 9fe43 in host d4382"
       ]
      },
      {
       "output_type": "stream",
       "stream": "stdout",
       "text": [
        "\n",
        "9 progeny have been made from virus 2c9a6 in host d4382\n",
        "26 progeny generated in host d4382.\n",
        "Current time is 3. Incrementing time to 4\n",
        "Generating 54 progeny in host d4382...\n",
        "6 progeny have been made from virus fc1fb in host d4382\n",
        "5 progeny have been made from virus 24b24 in host d4382"
       ]
      },
      {
       "output_type": "stream",
       "stream": "stdout",
       "text": [
        "\n",
        "5 progeny have been made from virus fb4d0 in host d4382\n",
        "5 progeny have been made from virus 2aa45 in host d4382\n",
        "6 progeny have been made from virus 711b3 in host d4382\n",
        "10 progeny have been made from virus fb0be in host d4382"
       ]
      },
      {
       "output_type": "stream",
       "stream": "stdout",
       "text": [
        "\n",
        "10 progeny have been made from virus dfb7c in host d4382\n",
        "5 progeny have been made from virus 7b435 in host d4382\n",
        "7 progeny have been made from virus 086cd in host d4382"
       ]
      },
      {
       "output_type": "stream",
       "stream": "stdout",
       "text": [
        "\n",
        "59 progeny generated in host d4382.\n",
        "Current time is 4. Incrementing time to 5\n",
        "Generating 15 progeny in host d4382...\n",
        "6 progeny have been made from virus 3ad2e in host d4382\n",
        "6 progeny have been made from virus 32255 in host d4382\n",
        "7 progeny have been made from virus b8ebc in host d4382"
       ]
      },
      {
       "output_type": "stream",
       "stream": "stdout",
       "text": [
        "\n",
        "19 progeny generated in host d4382.\n",
        "Current time is 5. Incrementing time to 6\n",
        "Generating 44 progeny in host d4382...\n",
        "8 progeny have been made from virus 61e9e in host d4382\n",
        "5 progeny have been made from virus 083c7 in host d4382\n",
        "6 progeny have been made from virus 6a8eb in host d4382"
       ]
      },
      {
       "output_type": "stream",
       "stream": "stdout",
       "text": [
        "\n",
        "5 progeny have been made from virus a8811 in host d4382\n",
        "5 progeny have been made from virus 650ab in host d4382\n",
        "7 progeny have been made from virus 650ab in host d4382"
       ]
      },
      {
       "output_type": "stream",
       "stream": "stdout",
       "text": [
        "\n",
        "10 progeny have been made from virus 9ced8 in host d4382\n",
        "46 progeny generated in host d4382.\n",
        "Current time is 6. Incrementing time to 7\n",
        "Generating 60 progeny in host d4382...\n",
        "9 progeny have been made from virus 54bc4 in host d4382"
       ]
      },
      {
       "output_type": "stream",
       "stream": "stdout",
       "text": [
        "\n",
        "5 progeny have been made from virus 5f244 in host d4382\n",
        "6 progeny have been made from virus 9ae48 in host d4382\n",
        "6 progeny have been made from virus 77716 in host d4382\n",
        "8 progeny have been made from virus 52d1a in host d4382"
       ]
      },
      {
       "output_type": "stream",
       "stream": "stdout",
       "text": [
        "\n",
        "6 progeny have been made from virus 0b1d9 in host d4382\n",
        "7 progeny have been made from virus 6a8eb in host d4382"
       ]
      },
      {
       "output_type": "stream",
       "stream": "stdout",
       "text": [
        "\n",
        "8 progeny have been made from virus 6d561 in host d4382\n",
        "7 progeny have been made from virus 7cfe5 in host d4382"
       ]
      },
      {
       "output_type": "stream",
       "stream": "stdout",
       "text": [
        "\n",
        "62 progeny generated in host d4382.\n",
        "Current time is 7. Incrementing time to 8\n",
        "Generating 91 progeny in host d4382...\n",
        "8 progeny have been made from virus 02428 in host d4382\n",
        "7 progeny have been made from virus d8392 in host d4382\n",
        "8 progeny have been made from virus 2f75a in host d4382"
       ]
      },
      {
       "output_type": "stream",
       "stream": "stdout",
       "text": [
        "\n",
        "6 progeny have been made from virus 365ff in host d4382\n",
        "5 progeny have been made from virus 60a81 in host d4382\n",
        "7 progeny have been made from virus 59759 in host d4382"
       ]
      },
      {
       "output_type": "stream",
       "stream": "stdout",
       "text": [
        "\n",
        "7 progeny have been made from virus 17166 in host d4382\n",
        "10 progeny have been made from virus 84986 in host d4382"
       ]
      },
      {
       "output_type": "stream",
       "stream": "stdout",
       "text": [
        "\n",
        "5 progeny have been made from virus 7fe4d in host d4382\n",
        "6 progeny have been made from virus 62df8 in host d4382\n",
        "7 progeny have been made from virus 9be40 in host d4382"
       ]
      },
      {
       "output_type": "stream",
       "stream": "stdout",
       "text": [
        "\n",
        "10 progeny have been made from virus cbe60 in host d4382\n",
        "5 progeny have been made from virus a2e6a in host d4382"
       ]
      },
      {
       "output_type": "stream",
       "stream": "stdout",
       "text": [
        "\n",
        "91 progeny generated in host d4382.\n",
        "Current time is 8. Incrementing time to 9\n",
        "Generating 0 progeny in host d4382...\n",
        "0 progeny generated in host d4382.\n",
        "Current time is 9. Incrementing time to 10\n",
        "Generating 12 progeny in host d4382...\n",
        "9 progeny have been made from virus adcc2 in host d4382\n",
        "8 progeny have been made from virus 58901 in host d4382\n",
        "17 progeny generated in host d4382.\n",
        "Current time is 10. Incrementing time to 11\n",
        "Generating 8 progeny in host d4382...\n",
        "6 progeny have been made from virus adcc2 in host d4382"
       ]
      },
      {
       "output_type": "stream",
       "stream": "stdout",
       "text": [
        "\n",
        "9 progeny have been made from virus 17a89 in host d4382\n",
        "15 progeny generated in host d4382.\n",
        "Current time is 11. Incrementing time to 12\n",
        "Generating 24 progeny in host d4382...\n",
        "8 progeny have been made from virus 79987 in host d4382"
       ]
      },
      {
       "output_type": "stream",
       "stream": "stdout",
       "text": [
        "\n",
        "8 progeny have been made from virus e722b in host d4382\n",
        "9 progeny have been made from virus 05dfb in host d4382\n",
        "25 progeny generated in host d4382.\n",
        "Current time is 12. Incrementing time to 13\n",
        "Generating 3 progeny in host d4382...\n",
        "8 progeny have been made from virus a987e in host d4382"
       ]
      },
      {
       "output_type": "stream",
       "stream": "stdout",
       "text": [
        "\n",
        "8 progeny generated in host d4382.\n",
        "Current time is 13. Incrementing time to 14\n",
        "Generating 2 progeny in host d4382...\n",
        "9 progeny have been made from virus 9cbdf in host d4382\n",
        "9 progeny generated in host d4382.\n",
        "Current time is 14. Incrementing time to 15\n",
        "Generating 1 progeny in host d4382...\n",
        "10 progeny have been made from virus f772d in host d4382"
       ]
      },
      {
       "output_type": "stream",
       "stream": "stdout",
       "text": [
        "\n",
        "10 progeny generated in host d4382.\n",
        "Current time is 15. Incrementing time to 16\n",
        "Generating 5 progeny in host d4382...\n",
        "5 progeny have been made from virus 6ab15 in host d4382\n",
        "5 progeny generated in host d4382.\n",
        "Current time is 16. Incrementing time to 17\n",
        "Generating 2 progeny in host d4382...\n",
        "6 progeny have been made from virus 60e5c in host d4382"
       ]
      },
      {
       "output_type": "stream",
       "stream": "stdout",
       "text": [
        "\n",
        "6 progeny generated in host d4382.\n",
        "Current time is 17. Incrementing time to 18\n",
        "Generating 3 progeny in host d4382...\n",
        "6 progeny have been made from virus bdf0b in host d4382\n",
        "6 progeny generated in host d4382.\n",
        "Current time is 18. Incrementing time to 19\n",
        "Generating 8 progeny in host d4382...\n",
        "9 progeny have been made from virus 6a2ab in host d4382"
       ]
      },
      {
       "output_type": "stream",
       "stream": "stdout",
       "text": [
        "\n",
        "9 progeny generated in host d4382.\n",
        "Current time is 19. Incrementing time to 20\n",
        "Generating 10 progeny in host d4382...\n",
        "9 progeny have been made from virus 87d6d in host d4382\n",
        "8 progeny have been made from virus cd925 in host d4382"
       ]
      },
      {
       "output_type": "stream",
       "stream": "stdout",
       "text": [
        "\n",
        "17 progeny generated in host d4382.\n",
        "Current time is 20. Incrementing time to 21\n",
        "Generating 0 progeny in host d4382...\n",
        "0 progeny generated in host d4382.\n",
        "Current time is 21. Incrementing time to 22\n",
        "Current time is 22. Incrementing time to 23\n",
        "Current time is 23. Incrementing time to 24\n",
        "Current time is 24. Incrementing time to 25\n",
        "Current time is 25. Incrementing time to 26\n",
        "Current time is 26. Incrementing time to 27\n",
        "Current time is 27. Incrementing time to 28\n",
        "Current time is 28. Incrementing time to 29\n",
        "Current time is 29. Incrementing time to 30\n",
        "Adding host 617c2... to environment eeaac...\n",
        "Creating environment eeaac\n",
        "Creating virus 1a69d inside host 617c2\n",
        "Current time is 0. Incrementing time to 1\n",
        "Generating 0 progeny in host 617c2...\n",
        "0 progeny generated in host 617c2.\n",
        "Current time is 1. Incrementing time to 2\n",
        "Generating 0 progeny in host 617c2...\n",
        "0 progeny generated in host 617c2.\n",
        "Current time is 2. Incrementing time to 3\n",
        "Generating 0 progeny in host 617c2...\n",
        "0 progeny generated in host 617c2.\n",
        "Current time is 3. Incrementing time to 4\n",
        "Current time is 4. Incrementing time to 5\n",
        "Current time is 5. Incrementing time to 6\n",
        "Current time is 6. Incrementing time to 7\n",
        "Current time is 7. Incrementing time to 8\n",
        "Current time is 8. Incrementing time to 9\n",
        "Current time is 9. Incrementing time to 10\n",
        "Current time is 10. Incrementing time to 11\n",
        "Current time is 11. Incrementing time to 12\n",
        "Current time is 12. Incrementing time to 13\n",
        "Current time is 13. Incrementing time to 14\n",
        "Current time is 14. Incrementing time to 15\n",
        "Current time is 15. Incrementing time to 16\n",
        "Current time is 16. Incrementing time to 17\n",
        "Current time is 17. Incrementing time to 18\n",
        "Current time is 18. Incrementing time to 19\n",
        "Current time is 19. Incrementing time to 20\n",
        "Current time is 20. Incrementing time to 21\n",
        "Current time is 21. Incrementing time to 22\n",
        "Current time is 22. Incrementing time to 23\n",
        "Current time is 23. Incrementing time to 24\n",
        "Current time is 24. Incrementing time to 25\n",
        "Current time is 25. Incrementing time to 26\n",
        "Current time is 26. Incrementing time to 27\n",
        "Current time is 27. Incrementing time to 28\n",
        "Current time is 28. Incrementing time to 29\n",
        "Current time is 29. Incrementing time to 30\n",
        "Adding host 3c795... to environment 2df03...\n",
        "Creating environment 2df03\n",
        "Creating virus 9887d inside host 3c795\n",
        "Current time is 0. Incrementing time to 1\n",
        "Generating 0 progeny in host 3c795...\n",
        "0 progeny generated in host 3c795.\n",
        "Current time is 1. Incrementing time to 2\n",
        "Generating 4 progeny in host 3c795...\n",
        "5 progeny have been made from virus 9887d in host 3c795\n",
        "5 progeny generated in host 3c795.\n",
        "Current time is 2. Incrementing time to 3\n",
        "Generating 13 progeny in host 3c795...\n",
        "8 progeny have been made from virus 3ef82 in host 3c795"
       ]
      },
      {
       "output_type": "stream",
       "stream": "stdout",
       "text": [
        "\n",
        "6 progeny have been made from virus bd157 in host 3c795\n",
        "14 progeny generated in host 3c795.\n",
        "Current time is 3. Incrementing time to 4\n",
        "Generating 14 progeny in host 3c795...\n",
        "8 progeny have been made from virus e21ee in host 3c795\n",
        "10 progeny have been made from virus 5b371 in host 3c795"
       ]
      },
      {
       "output_type": "stream",
       "stream": "stdout",
       "text": [
        "\n",
        "18 progeny generated in host 3c795.\n",
        "Current time is 4. Incrementing time to 5\n",
        "Generating 44 progeny in host 3c795...\n",
        "6 progeny have been made from virus db961 in host 3c795\n",
        "5 progeny have been made from virus ccfa2 in host 3c795\n",
        "5 progeny have been made from virus 58b11 in host 3c795\n",
        "6 progeny have been made from virus cb118 in host 3c795"
       ]
      },
      {
       "output_type": "stream",
       "stream": "stdout",
       "text": [
        "\n",
        "9 progeny have been made from virus 5b371 in host 3c795\n",
        "6 progeny have been made from virus da38f in host 3c795\n",
        "8 progeny have been made from virus ccfa2 in host 3c795\n",
        "45 progeny generated in host 3c795.\n",
        "Current time is 5. Incrementing time to 6\n",
        "Generating 71 progeny in host 3c795...\n",
        "5 progeny have been made from virus 225ab in host 3c795"
       ]
      },
      {
       "output_type": "stream",
       "stream": "stdout",
       "text": [
        "\n",
        "10 progeny have been made from virus d3f47 in host 3c795\n",
        "5 progeny have been made from virus bcdc6 in host 3c795\n",
        "5 progeny have been made from virus 14360 in host 3c795\n",
        "10 progeny have been made from virus 53c51 in host 3c795"
       ]
      },
      {
       "output_type": "stream",
       "stream": "stdout",
       "text": [
        "\n",
        "8 progeny have been made from virus 89d74 in host 3c795\n",
        "8 progeny have been made from virus d6584 in host 3c795\n",
        "9 progeny have been made from virus 65025 in host 3c795"
       ]
      },
      {
       "output_type": "stream",
       "stream": "stdout",
       "text": [
        "\n",
        "7 progeny have been made from virus 0f0d2 in host 3c795\n",
        "7 progeny have been made from virus b59a3 in host 3c795\n",
        "74 progeny generated in host 3c795.\n",
        "Current time is 6. Incrementing time to 7\n",
        "Generating 86 progeny in host 3c795...\n",
        "6 progeny have been made from virus d3f47 in host 3c795"
       ]
      },
      {
       "output_type": "stream",
       "stream": "stdout",
       "text": [
        "\n",
        "7 progeny have been made from virus 5c42f in host 3c795\n",
        "8 progeny have been made from virus 1dba8 in host 3c795"
       ]
      },
      {
       "output_type": "stream",
       "stream": "stdout",
       "text": [
        "\n",
        "7 progeny have been made from virus af3fb in host 3c795\n",
        "5 progeny have been made from virus 7980e in host 3c795\n",
        "10 progeny have been made from virus 7e1a1 in host 3c795\n",
        "6 progeny have been made from virus 215f8 in host 3c795"
       ]
      },
      {
       "output_type": "stream",
       "stream": "stdout",
       "text": [
        "\n",
        "10 progeny have been made from virus 4f680 in host 3c795\n",
        "9 progeny have been made from virus 76c5f in host 3c795"
       ]
      },
      {
       "output_type": "stream",
       "stream": "stdout",
       "text": [
        "\n",
        "9 progeny have been made from virus af3fb in host 3c795\n",
        "6 progeny have been made from virus 45587 in host 3c795\n",
        "6 progeny have been made from virus be724 in host 3c795"
       ]
      },
      {
       "output_type": "stream",
       "stream": "stdout",
       "text": [
        "\n",
        "89 progeny generated in host 3c795.\n",
        "Current time is 7. Incrementing time to 8\n",
        "Generating 64 progeny in host 3c795...\n",
        "8 progeny have been made from virus 428c3 in host 3c795\n",
        "9 progeny have been made from virus 011a1 in host 3c795"
       ]
      },
      {
       "output_type": "stream",
       "stream": "stdout",
       "text": [
        "\n",
        "6 progeny have been made from virus 1f9f8 in host 3c795\n",
        "7 progeny have been made from virus 78ed4 in host 3c795\n",
        "9 progeny have been made from virus c1df2 in host 3c795"
       ]
      },
      {
       "output_type": "stream",
       "stream": "stdout",
       "text": [
        "\n",
        "10 progeny have been made from virus 2cbdb in host 3c795\n",
        "5 progeny have been made from virus b1cd4 in host 3c795\n",
        "9 progeny have been made from virus adc23 in host 3c795"
       ]
      },
      {
       "output_type": "stream",
       "stream": "stdout",
       "text": [
        "\n",
        "7 progeny have been made from virus 3da9e in host 3c795\n",
        "70 progeny generated in host 3c795.\n",
        "Current time is 8. Incrementing time to 9\n",
        "Generating 58 progeny in host 3c795...\n",
        "5 progeny have been made from virus 90ede in host 3c795\n",
        "8 progeny have been made from virus 37be3 in host 3c795"
       ]
      },
      {
       "output_type": "stream",
       "stream": "stdout",
       "text": [
        "\n",
        "8 progeny have been made from virus 9caaa in host 3c795\n",
        "6 progeny have been made from virus 9caaa in host 3c795\n",
        "10 progeny have been made from virus a1ac3 in host 3c795"
       ]
      },
      {
       "output_type": "stream",
       "stream": "stdout",
       "text": [
        "\n",
        "5 progeny have been made from virus 1f9f8 in host 3c795\n",
        "7 progeny have been made from virus bd8d1 in host 3c795"
       ]
      },
      {
       "output_type": "stream",
       "stream": "stdout",
       "text": [
        "\n",
        "9 progeny have been made from virus bd8d1 in host 3c795\n",
        "58 progeny generated in host 3c795.\n",
        "Current time is 9. Incrementing time to 10\n",
        "Generating 71 progeny in host 3c795...\n",
        "8 progeny have been made from virus 88db4 in host 3c795\n",
        "10 progeny have been made from virus 9b016 in host 3c795"
       ]
      },
      {
       "output_type": "stream",
       "stream": "stdout",
       "text": [
        "\n",
        "8 progeny have been made from virus dc764 in host 3c795\n",
        "8 progeny have been made from virus 728fe in host 3c795"
       ]
      },
      {
       "output_type": "stream",
       "stream": "stdout",
       "text": [
        "\n",
        "7 progeny have been made from virus 9b016 in host 3c795\n",
        "7 progeny have been made from virus dd1a4 in host 3c795\n",
        "8 progeny have been made from virus d5a24 in host 3c795"
       ]
      },
      {
       "output_type": "stream",
       "stream": "stdout",
       "text": [
        "\n",
        "8 progeny have been made from virus fb968 in host 3c795\n",
        "6 progeny have been made from virus addb6 in host 3c795"
       ]
      },
      {
       "output_type": "stream",
       "stream": "stdout",
       "text": [
        "\n",
        "9 progeny have been made from virus c9950 in host 3c795\n",
        "79 progeny generated in host 3c795.\n",
        "Current time is 10. Incrementing time to 11\n",
        "Generating 63 progeny in host 3c795...\n",
        "6 progeny have been made from virus f6bd9 in host 3c795"
       ]
      },
      {
       "output_type": "stream",
       "stream": "stdout",
       "text": [
        "\n",
        "5 progeny have been made from virus 13ed6 in host 3c795\n",
        "5 progeny have been made from virus 8bf8b in host 3c795\n",
        "9 progeny have been made from virus ee821 in host 3c795"
       ]
      },
      {
       "output_type": "stream",
       "stream": "stdout",
       "text": [
        "\n",
        "9 progeny have been made from virus ff064 in host 3c795\n",
        "8 progeny have been made from virus 10cf9 in host 3c795"
       ]
      },
      {
       "output_type": "stream",
       "stream": "stdout",
       "text": [
        "\n",
        "9 progeny have been made from virus 766aa in host 3c795\n",
        "6 progeny have been made from virus 43c1f in host 3c795"
       ]
      },
      {
       "output_type": "stream",
       "stream": "stdout",
       "text": [
        "\n",
        "6 progeny have been made from virus 88302 in host 3c795\n",
        "63 progeny generated in host 3c795.\n",
        "Current time is 11. Incrementing time to 12\n",
        "Generating 0 progeny in host 3c795...\n",
        "0 progeny generated in host 3c795.\n",
        "Current time is 12. Incrementing time to 13\n",
        "Generating 10 progeny in host 3c795...\n",
        "8 progeny have been made from virus 98f18 in host 3c795"
       ]
      },
      {
       "output_type": "stream",
       "stream": "stdout",
       "text": [
        "\n",
        "10 progeny have been made from virus 43709 in host 3c795\n",
        "18 progeny generated in host 3c795.\n",
        "Current time is 13. Incrementing time to 14\n",
        "Generating 9 progeny in host 3c795...\n",
        "6 progeny have been made from virus 36ca5 in host 3c795"
       ]
      },
      {
       "output_type": "stream",
       "stream": "stdout",
       "text": [
        "\n",
        "8 progeny have been made from virus cf6cf in host 3c795\n",
        "14 progeny generated in host 3c795.\n",
        "Current time is 14. Incrementing time to 15\n",
        "Generating 8 progeny in host 3c795...\n",
        "9 progeny have been made from virus 058e1 in host 3c795"
       ]
      },
      {
       "output_type": "stream",
       "stream": "stdout",
       "text": [
        "\n",
        "9 progeny generated in host 3c795.\n",
        "Current time is 15. Incrementing time to 16\n",
        "Generating 11 progeny in host 3c795...\n",
        "8 progeny have been made from virus 058e1 in host 3c795\n",
        "10 progeny have been made from virus bd278 in host 3c795"
       ]
      },
      {
       "output_type": "stream",
       "stream": "stdout",
       "text": [
        "\n",
        "18 progeny generated in host 3c795.\n",
        "Current time is 16. Incrementing time to 17\n",
        "Generating 0 progeny in host 3c795...\n",
        "0 progeny generated in host 3c795.\n",
        "Current time is 17. Incrementing time to 18\n",
        "Generating 0 progeny in host 3c795...\n",
        "0 progeny generated in host 3c795.\n",
        "Current time is 18. Incrementing time to 19\n",
        "Current time is 19. Incrementing time to 20\n",
        "Current time is 20. Incrementing time to 21\n",
        "Current time is 21. Incrementing time to 22\n",
        "Current time is 22. Incrementing time to 23\n",
        "Current time is 23. Incrementing time to 24\n",
        "Current time is 24. Incrementing time to 25\n",
        "Current time is 25. Incrementing time to 26\n",
        "Current time is 26. Incrementing time to 27\n",
        "Current time is 27. Incrementing time to 28\n",
        "Current time is 28. Incrementing time to 29\n",
        "Current time is 29. Incrementing time to 30\n",
        "Adding host bd615... to environment bbb1b...\n",
        "Creating environment bbb1b\n",
        "Creating virus ddbc4 inside host bd615\n",
        "Current time is 0. Incrementing time to 1\n",
        "Generating 6 progeny in host bd615...\n",
        "9 progeny have been made from virus ddbc4 in host bd615\n",
        "9 progeny generated in host bd615.\n",
        "Current time is 1. Incrementing time to 2\n",
        "Generating 36 progeny in host bd615...\n",
        "8 progeny have been made from virus 1db18 in host bd615\n",
        "8 progeny have been made from virus ddbc4 in host bd615"
       ]
      },
      {
       "output_type": "stream",
       "stream": "stdout",
       "text": [
        "\n",
        "8 progeny have been made from virus 52a30 in host bd615\n",
        "8 progeny have been made from virus ddbc4 in host bd615\n",
        "6 progeny have been made from virus ac453 in host bd615\n",
        "38 progeny generated in host bd615.\n",
        "Current time is 2. Incrementing time to 3\n",
        "Generating 28 progeny in host bd615...\n",
        "5 progeny have been made from virus 84ce7 in host bd615"
       ]
      },
      {
       "output_type": "stream",
       "stream": "stdout",
       "text": [
        "\n",
        "6 progeny have been made from virus 66c12 in host bd615\n",
        "8 progeny have been made from virus caeb4 in host bd615\n",
        "8 progeny have been made from virus f5e1f in host bd615"
       ]
      },
      {
       "output_type": "stream",
       "stream": "stdout",
       "text": [
        "\n",
        "5 progeny have been made from virus f0225 in host bd615\n",
        "32 progeny generated in host bd615.\n",
        "Current time is 3. Incrementing time to 4\n",
        "Generating 23 progeny in host bd615...\n",
        "7 progeny have been made from virus a97a1 in host bd615\n",
        "9 progeny have been made from virus c2ded in host bd615"
       ]
      },
      {
       "output_type": "stream",
       "stream": "stdout",
       "text": [
        "\n",
        "8 progeny have been made from virus 93b2e in host bd615\n",
        "24 progeny generated in host bd615.\n",
        "Current time is 4. Incrementing time to 5\n",
        "Generating 78 progeny in host bd615...\n",
        "6 progeny have been made from virus 79113 in host bd615\n",
        "10 progeny have been made from virus f7376 in host bd615"
       ]
      },
      {
       "output_type": "stream",
       "stream": "stdout",
       "text": [
        "\n",
        "9 progeny have been made from virus 5133c in host bd615\n",
        "7 progeny have been made from virus 89519 in host bd615"
       ]
      },
      {
       "output_type": "stream",
       "stream": "stdout",
       "text": [
        "\n",
        "9 progeny have been made from virus 5cb3c in host bd615\n",
        "10 progeny have been made from virus a989d in host bd615"
       ]
      },
      {
       "output_type": "stream",
       "stream": "stdout",
       "text": [
        "\n",
        "5 progeny have been made from virus bf4db in host bd615\n",
        "9 progeny have been made from virus a884e in host bd615\n",
        "6 progeny have been made from virus 442e1 in host bd615"
       ]
      },
      {
       "output_type": "stream",
       "stream": "stdout",
       "text": [
        "\n",
        "6 progeny have been made from virus 5cb3c in host bd615\n",
        "5 progeny have been made from virus f7376 in host bd615\n",
        "82 progeny generated in host bd615.\n",
        "Current time is 5. Incrementing time to 6\n",
        "Generating 31 progeny in host bd615...\n",
        "5 progeny have been made from virus 7ec73 in host bd615"
       ]
      },
      {
       "output_type": "stream",
       "stream": "stdout",
       "text": [
        "\n",
        "9 progeny have been made from virus b9486 in host bd615\n",
        "7 progeny have been made from virus 33b00 in host bd615"
       ]
      },
      {
       "output_type": "stream",
       "stream": "stdout",
       "text": [
        "\n",
        "8 progeny have been made from virus 0df18 in host bd615\n",
        "5 progeny have been made from virus 53e46 in host bd615\n",
        "34 progeny generated in host bd615.\n",
        "Current time is 6. Incrementing time to 7\n",
        "Generating 13 progeny in host bd615...\n",
        "8 progeny have been made from virus 1a46d in host bd615"
       ]
      },
      {
       "output_type": "stream",
       "stream": "stdout",
       "text": [
        "\n",
        "8 progeny have been made from virus 90df3 in host bd615\n",
        "16 progeny generated in host bd615.\n",
        "Current time is 7. Incrementing time to 8\n",
        "Generating 18 progeny in host bd615...\n",
        "7 progeny have been made from virus 37f72 in host bd615"
       ]
      },
      {
       "output_type": "stream",
       "stream": "stdout",
       "text": [
        "\n",
        "9 progeny have been made from virus 4e8a8 in host bd615\n",
        "6 progeny have been made from virus 20d18 in host bd615"
       ]
      },
      {
       "output_type": "stream",
       "stream": "stdout",
       "text": [
        "\n",
        "22 progeny generated in host bd615.\n",
        "Current time is 8. Incrementing time to 9\n",
        "Generating 23 progeny in host bd615...\n",
        "7 progeny have been made from virus a0fe3 in host bd615\n",
        "8 progeny have been made from virus 4d8f5 in host bd615"
       ]
      },
      {
       "output_type": "stream",
       "stream": "stdout",
       "text": [
        "\n",
        "6 progeny have been made from virus 606ab in host bd615\n",
        "5 progeny have been made from virus a4a6b in host bd615\n",
        "26 progeny generated in host bd615.\n",
        "Current time is 9. Incrementing time to 10\n",
        "Generating 9 progeny in host bd615...\n",
        "10 progeny have been made from virus 77d3a in host bd615"
       ]
      },
      {
       "output_type": "stream",
       "stream": "stdout",
       "text": [
        "\n",
        "10 progeny generated in host bd615.\n",
        "Current time is 10. Incrementing time to 11\n",
        "Generating 19 progeny in host bd615...\n",
        "5 progeny have been made from virus 92509 in host bd615\n",
        "5 progeny have been made from virus aa295 in host bd615\n",
        "7 progeny have been made from virus ffc0c in host bd615"
       ]
      },
      {
       "output_type": "stream",
       "stream": "stdout",
       "text": [
        "\n",
        "6 progeny have been made from virus 4703c in host bd615\n",
        "23 progeny generated in host bd615.\n",
        "Current time is 11. Incrementing time to 12\n",
        "Generating 13 progeny in host bd615...\n",
        "7 progeny have been made from virus 97d1b in host bd615\n",
        "8 progeny have been made from virus f4003 in host bd615"
       ]
      },
      {
       "output_type": "stream",
       "stream": "stdout",
       "text": [
        "\n",
        "15 progeny generated in host bd615.\n",
        "Current time is 12. Incrementing time to 13\n",
        "Generating 8 progeny in host bd615...\n",
        "5 progeny have been made from virus 6f722 in host bd615\n",
        "6 progeny have been made from virus 87072 in host bd615"
       ]
      },
      {
       "output_type": "stream",
       "stream": "stdout",
       "text": [
        "\n",
        "11 progeny generated in host bd615.\n",
        "Current time is 13. Incrementing time to 14\n",
        "Generating 5 progeny in host bd615...\n",
        "9 progeny have been made from virus 10bc0 in host bd615\n",
        "9 progeny generated in host bd615.\n",
        "Current time is 14. Incrementing time to 15\n",
        "Generating 5 progeny in host bd615...\n",
        "6 progeny have been made from virus 206ee in host bd615\n",
        "6 progeny generated in host bd615.\n",
        "Current time is 15. Incrementing time to 16\n",
        "Generating 2 progeny in host bd615...\n",
        "7 progeny have been made from virus b2bb0 in host bd615"
       ]
      },
      {
       "output_type": "stream",
       "stream": "stdout",
       "text": [
        "\n",
        "7 progeny generated in host bd615.\n",
        "Current time is 16. Incrementing time to 17\n",
        "Generating 0 progeny in host bd615...\n",
        "0 progeny generated in host bd615.\n",
        "Current time is 17. Incrementing time to 18\n",
        "Generating 0 progeny in host bd615...\n",
        "0 progeny generated in host bd615.\n",
        "Current time is 18. Incrementing time to 19\n",
        "Current time is 19. Incrementing time to 20\n",
        "Current time is 20. Incrementing time to 21\n",
        "Current time is 21. Incrementing time to 22\n",
        "Current time is 22. Incrementing time to 23\n",
        "Current time is 23. Incrementing time to 24\n",
        "Current time is 24. Incrementing time to 25\n",
        "Current time is 25. Incrementing time to 26\n",
        "Current time is 26. Incrementing time to 27\n",
        "Current time is 27. Incrementing time to 28\n",
        "Current time is 28. Incrementing time to 29\n",
        "Current time is 29. Incrementing time to 30\n",
        "Adding host e9d61... to environment 0f150...\n",
        "Creating environment 0f150\n",
        "Creating virus bd890 inside host e9d61\n",
        "Current time is 0. Incrementing time to 1\n",
        "Generating 6 progeny in host e9d61...\n",
        "9 progeny have been made from virus bd890 in host e9d61\n",
        "9 progeny generated in host e9d61.\n",
        "Current time is 1. Incrementing time to 2\n",
        "Generating 25 progeny in host e9d61...\n",
        "6 progeny have been made from virus 43d54 in host e9d61\n",
        "8 progeny have been made from virus 43d54 in host e9d61"
       ]
      },
      {
       "output_type": "stream",
       "stream": "stdout",
       "text": [
        "\n",
        "10 progeny have been made from virus 7f2e7 in host e9d61\n",
        "5 progeny have been made from virus 6b17d in host e9d61\n",
        "29 progeny generated in host e9d61.\n",
        "Current time is 2. Incrementing time to 3\n",
        "Generating 63 progeny in host e9d61...\n",
        "8 progeny have been made from virus 4f343 in host e9d61"
       ]
      },
      {
       "output_type": "stream",
       "stream": "stdout",
       "text": [
        "\n",
        "9 progeny have been made from virus 0b962 in host e9d61\n",
        "10 progeny have been made from virus 33647 in host e9d61\n",
        "8 progeny have been made from virus a71fb in host e9d61"
       ]
      },
      {
       "output_type": "stream",
       "stream": "stdout",
       "text": [
        "\n",
        "7 progeny have been made from virus 48798 in host e9d61\n",
        "7 progeny have been made from virus a71fb in host e9d61\n",
        "8 progeny have been made from virus 11ea2 in host e9d61"
       ]
      },
      {
       "output_type": "stream",
       "stream": "stdout",
       "text": [
        "\n",
        "7 progeny have been made from virus ab8ca in host e9d61\n",
        "64 progeny generated in host e9d61.\n",
        "Current time is 3. Incrementing time to 4\n",
        "Generating 156 progeny in host e9d61...\n",
        "7 progeny have been made from virus 2f6fb in host e9d61\n",
        "9 progeny have been made from virus 009c8 in host e9d61\n",
        "10 progeny have been made from virus 882a3 in host e9d61"
       ]
      },
      {
       "output_type": "stream",
       "stream": "stdout",
       "text": [
        "\n",
        "5 progeny have been made from virus 882a3 in host e9d61\n",
        "9 progeny have been made from virus a65fe in host e9d61\n",
        "6 progeny have been made from virus 588c8 in host e9d61"
       ]
      },
      {
       "output_type": "stream",
       "stream": "stdout",
       "text": [
        "\n",
        "7 progeny have been made from virus 09365 in host e9d61\n",
        "7 progeny have been made from virus 94aa3 in host e9d61\n",
        "5 progeny have been made from virus ee30e in host e9d61\n",
        "6 progeny have been made from virus 4f7f3 in host e9d61"
       ]
      },
      {
       "output_type": "stream",
       "stream": "stdout",
       "text": [
        "\n",
        "10 progeny have been made from virus 84db7 in host e9d61\n",
        "8 progeny have been made from virus 43855 in host e9d61"
       ]
      },
      {
       "output_type": "stream",
       "stream": "stdout",
       "text": [
        "\n",
        "9 progeny have been made from virus 41e73 in host e9d61\n",
        "5 progeny have been made from virus cff3a in host e9d61\n",
        "10 progeny have been made from virus 43855 in host e9d61"
       ]
      },
      {
       "output_type": "stream",
       "stream": "stdout",
       "text": [
        "\n",
        "5 progeny have been made from virus a65fe in host e9d61\n",
        "9 progeny have been made from virus 73305 in host e9d61\n",
        "10 progeny have been made from virus 41e6c in host e9d61"
       ]
      },
      {
       "output_type": "stream",
       "stream": "stdout",
       "text": [
        "\n",
        "10 progeny have been made from virus b6834 in host e9d61\n",
        "9 progeny have been made from virus 33418 in host e9d61"
       ]
      },
      {
       "output_type": "stream",
       "stream": "stdout",
       "text": [
        "\n",
        "156 progeny generated in host e9d61.\n",
        "Current time is 4. Incrementing time to 5\n",
        "Generating 36 progeny in host e9d61...\n",
        "10 progeny have been made from virus f9426 in host e9d61\n",
        "10 progeny have been made from virus ef872 in host e9d61"
       ]
      },
      {
       "output_type": "stream",
       "stream": "stdout",
       "text": [
        "\n",
        "8 progeny have been made from virus c8e29 in host e9d61\n",
        "7 progeny have been made from virus 285fc in host e9d61"
       ]
      },
      {
       "output_type": "stream",
       "stream": "stdout",
       "text": [
        "\n",
        "6 progeny have been made from virus f67f3 in host e9d61\n",
        "41 progeny generated in host e9d61.\n",
        "Current time is 5. Incrementing time to 6\n",
        "Generating 56 progeny in host e9d61...\n",
        "9 progeny have been made from virus 2bf56 in host e9d61"
       ]
      },
      {
       "output_type": "stream",
       "stream": "stdout",
       "text": [
        "\n",
        "10 progeny have been made from virus c0c92 in host e9d61\n",
        "8 progeny have been made from virus 0508e in host e9d61"
       ]
      },
      {
       "output_type": "stream",
       "stream": "stdout",
       "text": [
        "\n",
        "7 progeny have been made from virus 473bf in host e9d61\n",
        "7 progeny have been made from virus 49799 in host e9d61"
       ]
      },
      {
       "output_type": "stream",
       "stream": "stdout",
       "text": [
        "\n",
        "10 progeny have been made from virus 729a6 in host e9d61\n",
        "7 progeny have been made from virus 903c9 in host e9d61"
       ]
      },
      {
       "output_type": "stream",
       "stream": "stdout",
       "text": [
        "\n",
        "58 progeny generated in host e9d61.\n",
        "Current time is 6. Incrementing time to 7\n",
        "Generating 27 progeny in host e9d61...\n",
        "6 progeny have been made from virus 4ce84 in host e9d61\n",
        "10 progeny have been made from virus 0b0c1 in host e9d61"
       ]
      },
      {
       "output_type": "stream",
       "stream": "stdout",
       "text": [
        "\n",
        "6 progeny have been made from virus 65121 in host e9d61\n",
        "7 progeny have been made from virus 4ce84 in host e9d61\n",
        "29 progeny generated in host e9d61.\n",
        "Current time is 7. Incrementing time to 8\n",
        "Generating 17 progeny in host e9d61...\n",
        "7 progeny have been made from virus b1abb in host e9d61"
       ]
      },
      {
       "output_type": "stream",
       "stream": "stdout",
       "text": [
        "\n",
        "10 progeny have been made from virus 56844 in host e9d61"
       ]
      },
      {
       "output_type": "stream",
       "stream": "stdout",
       "text": [
        "\n",
        "17 progeny generated in host e9d61.\n",
        "Current time is 8. Incrementing time to 9\n",
        "Generating 15 progeny in host e9d61...\n",
        "8 progeny have been made from virus 71eff in host e9d61\n",
        "5 progeny have been made from virus 4d542 in host e9d61"
       ]
      },
      {
       "output_type": "stream",
       "stream": "stdout",
       "text": [
        "\n",
        "10 progeny have been made from virus d2a3c in host e9d61\n",
        "23 progeny generated in host e9d61.\n",
        "Current time is 9. Incrementing time to 10\n",
        "Generating 12 progeny in host e9d61...\n",
        "8 progeny have been made from virus dd58f in host e9d61"
       ]
      },
      {
       "output_type": "stream",
       "stream": "stdout",
       "text": [
        "\n",
        "8 progeny have been made from virus dd58f in host e9d61\n",
        "16 progeny generated in host e9d61.\n",
        "Current time is 10. Incrementing time to 11\n",
        "Generating 6 progeny in host e9d61...\n",
        "10 progeny have been made from virus c62a3 in host e9d61"
       ]
      },
      {
       "output_type": "stream",
       "stream": "stdout",
       "text": [
        "\n",
        "10 progeny generated in host e9d61.\n",
        "Current time is 11. Incrementing time to 12\n",
        "Generating 2 progeny in host e9d61...\n",
        "8 progeny have been made from virus 1ee25 in host e9d61\n",
        "8 progeny generated in host e9d61.\n",
        "Current time is 12. Incrementing time to 13\n",
        "Generating 8 progeny in host e9d61...\n",
        "9 progeny have been made from virus cb8f7 in host e9d61"
       ]
      },
      {
       "output_type": "stream",
       "stream": "stdout",
       "text": [
        "\n",
        "9 progeny generated in host e9d61.\n",
        "Current time is 13. Incrementing time to 14\n",
        "Generating 1 progeny in host e9d61...\n",
        "10 progeny have been made from virus 729de in host e9d61"
       ]
      },
      {
       "output_type": "stream",
       "stream": "stdout",
       "text": [
        "\n",
        "10 progeny generated in host e9d61.\n",
        "Current time is 14. Incrementing time to 15\n",
        "Generating 4 progeny in host e9d61...\n",
        "5 progeny have been made from virus ea5eb in host e9d61\n",
        "5 progeny generated in host e9d61.\n",
        "Current time is 15. Incrementing time to 16\n",
        "Generating 1 progeny in host e9d61...\n",
        "9 progeny have been made from virus feb19 in host e9d61"
       ]
      },
      {
       "output_type": "stream",
       "stream": "stdout",
       "text": [
        "\n",
        "9 progeny generated in host e9d61.\n",
        "Current time is 16. Incrementing time to 17\n",
        "Generating 4 progeny in host e9d61...\n",
        "8 progeny have been made from virus cb9a5 in host e9d61\n",
        "8 progeny generated in host e9d61.\n",
        "Current time is 17. Incrementing time to 18\n",
        "Generating 0 progeny in host e9d61...\n",
        "0 progeny generated in host e9d61.\n",
        "Current time is 18. Incrementing time to 19\n",
        "Current time is 19. Incrementing time to 20\n",
        "Current time is 20. Incrementing time to 21\n",
        "Current time is 21. Incrementing time to 22\n",
        "Current time is 22. Incrementing time to 23\n",
        "Current time is 23. Incrementing time to 24\n",
        "Current time is 24. Incrementing time to 25\n",
        "Current time is 25. Incrementing time to 26\n",
        "Current time is 26. Incrementing time to 27\n",
        "Current time is 27. Incrementing time to 28\n",
        "Current time is 28. Incrementing time to 29\n",
        "Current time is 29. Incrementing time to 30\n",
        "Adding host 73d7e... to environment afc2c...\n",
        "Creating environment afc2c\n",
        "Creating virus e7cc4 inside host 73d7e\n",
        "Current time is 0. Incrementing time to 1\n",
        "Generating 0 progeny in host 73d7e...\n",
        "0 progeny generated in host 73d7e.\n",
        "Current time is 1. Incrementing time to 2\n",
        "Current time is 2. Incrementing time to 3\n",
        "Current time is 3. Incrementing time to 4\n",
        "Current time is 4. Incrementing time to 5\n",
        "Current time is 5. Incrementing time to 6\n",
        "Current time is 6. Incrementing time to 7\n",
        "Current time is 7. Incrementing time to 8\n",
        "Current time is 8. Incrementing time to 9\n",
        "Current time is 9. Incrementing time to 10\n",
        "Current time is 10. Incrementing time to 11\n",
        "Current time is 11. Incrementing time to 12\n",
        "Current time is 12. Incrementing time to 13\n",
        "Current time is 13. Incrementing time to 14\n",
        "Current time is 14. Incrementing time to 15\n",
        "Current time is 15. Incrementing time to 16\n",
        "Current time is 16. Incrementing time to 17\n",
        "Current time is 17. Incrementing time to 18\n",
        "Current time is 18. Incrementing time to 19\n",
        "Current time is 19. Incrementing time to 20\n",
        "Current time is 20. Incrementing time to 21\n",
        "Current time is 21. Incrementing time to 22\n",
        "Current time is 22. Incrementing time to 23\n",
        "Current time is 23. Incrementing time to 24\n",
        "Current time is 24. Incrementing time to 25\n",
        "Current time is 25. Incrementing time to 26\n",
        "Current time is 26. Incrementing time to 27\n",
        "Current time is 27. Incrementing time to 28\n",
        "Current time is 28. Incrementing time to 29\n",
        "Current time is 29. Incrementing time to 30\n",
        "Adding host 9103a... to environment 0b3bb...\n",
        "Creating environment 0b3bb\n",
        "Creating virus 42f8a inside host 9103a"
       ]
      },
      {
       "output_type": "stream",
       "stream": "stdout",
       "text": [
        "\n",
        "Current time is 0. Incrementing time to 1\n",
        "Generating 5 progeny in host 9103a...\n",
        "9 progeny have been made from virus 42f8a in host 9103a\n",
        "9 progeny generated in host 9103a.\n",
        "Current time is 1. Incrementing time to 2\n",
        "Generating 22 progeny in host 9103a...\n",
        "9 progeny have been made from virus b0e42 in host 9103a\n",
        "8 progeny have been made from virus 53f55 in host 9103a"
       ]
      },
      {
       "output_type": "stream",
       "stream": "stdout",
       "text": [
        "\n",
        "9 progeny have been made from virus 181df in host 9103a\n",
        "26 progeny generated in host 9103a.\n",
        "Current time is 2. Incrementing time to 3\n",
        "Generating 33 progeny in host 9103a...\n",
        "7 progeny have been made from virus 103f3 in host 9103a\n",
        "7 progeny have been made from virus a47f8 in host 9103a\n",
        "10 progeny have been made from virus 103f3 in host 9103a"
       ]
      },
      {
       "output_type": "stream",
       "stream": "stdout",
       "text": [
        "\n",
        "7 progeny have been made from virus 2ce5c in host 9103a\n",
        "6 progeny have been made from virus e0d3a in host 9103a\n",
        "37 progeny generated in host 9103a.\n",
        "Current time is 3. Incrementing time to 4\n",
        "Generating 79 progeny in host 9103a...\n",
        "8 progeny have been made from virus 982b3 in host 9103a"
       ]
      },
      {
       "output_type": "stream",
       "stream": "stdout",
       "text": [
        "\n",
        "10 progeny have been made from virus 854df in host 9103a\n",
        "5 progeny have been made from virus 836d4 in host 9103a\n",
        "5 progeny have been made from virus af48e in host 9103a"
       ]
      },
      {
       "output_type": "stream",
       "stream": "stdout",
       "text": [
        "\n",
        "9 progeny have been made from virus d4c23 in host 9103a\n",
        "8 progeny have been made from virus 42a8f in host 9103a\n",
        "9 progeny have been made from virus bf910 in host 9103a"
       ]
      },
      {
       "output_type": "stream",
       "stream": "stdout",
       "text": [
        "\n",
        "9 progeny have been made from virus dfc7c in host 9103a\n",
        "6 progeny have been made from virus 38436 in host 9103a\n",
        "9 progeny have been made from virus a6fd1 in host 9103a"
       ]
      },
      {
       "output_type": "stream",
       "stream": "stdout",
       "text": [
        "\n",
        "8 progeny have been made from virus c4ac5 in host 9103a\n",
        "86 progeny generated in host 9103a.\n",
        "Current time is 4. Incrementing time to 5\n",
        "Generating 126 progeny in host 9103a...\n",
        "7 progeny have been made from virus 09135 in host 9103a\n",
        "9 progeny have been made from virus 62cae in host 9103a"
       ]
      },
      {
       "output_type": "stream",
       "stream": "stdout",
       "text": [
        "\n",
        "8 progeny have been made from virus 71d35 in host 9103a\n",
        "6 progeny have been made from virus ea31b in host 9103a\n",
        "6 progeny have been made from virus c3574 in host 9103a"
       ]
      },
      {
       "output_type": "stream",
       "stream": "stdout",
       "text": [
        "\n",
        "5 progeny have been made from virus 18f9f in host 9103a\n",
        "10 progeny have been made from virus d43c3 in host 9103a"
       ]
      },
      {
       "output_type": "stream",
       "stream": "stdout",
       "text": [
        "\n",
        "8 progeny have been made from virus d7117 in host 9103a\n",
        "7 progeny have been made from virus 76fb4 in host 9103a\n",
        "7 progeny have been made from virus 6202e in host 9103a"
       ]
      },
      {
       "output_type": "stream",
       "stream": "stdout",
       "text": [
        "\n",
        "8 progeny have been made from virus 01d9d in host 9103a\n",
        "9 progeny have been made from virus 82696 in host 9103a"
       ]
      },
      {
       "output_type": "stream",
       "stream": "stdout",
       "text": [
        "\n",
        "5 progeny have been made from virus 7b78e in host 9103a\n",
        "10 progeny have been made from virus 92890 in host 9103a"
       ]
      },
      {
       "output_type": "stream",
       "stream": "stdout",
       "text": [
        "\n",
        "6 progeny have been made from virus 5a8f7 in host 9103a\n",
        "10 progeny have been made from virus f4fb7 in host 9103a"
       ]
      },
      {
       "output_type": "stream",
       "stream": "stdout",
       "text": [
        "\n",
        "8 progeny have been made from virus 71d35 in host 9103a\n",
        "129 progeny generated in host 9103a.\n",
        "Current time is 5. Incrementing time to 6\n",
        "Generating 128 progeny in host 9103a...\n",
        "7 progeny have been made from virus c2fe5 in host 9103a"
       ]
      },
      {
       "output_type": "stream",
       "stream": "stdout",
       "text": [
        "\n",
        "5 progeny have been made from virus 7bfee in host 9103a\n",
        "8 progeny have been made from virus ee073 in host 9103a\n",
        "6 progeny have been made from virus a795d in host 9103a"
       ]
      },
      {
       "output_type": "stream",
       "stream": "stdout",
       "text": [
        "\n",
        "10 progeny have been made from virus b1ae2 in host 9103a\n",
        "10 progeny have been made from virus a795d in host 9103a"
       ]
      },
      {
       "output_type": "stream",
       "stream": "stdout",
       "text": [
        "\n",
        "5 progeny have been made from virus 846f4 in host 9103a\n",
        "9 progeny have been made from virus 47314 in host 9103a"
       ]
      },
      {
       "output_type": "stream",
       "stream": "stdout",
       "text": [
        "\n",
        "6 progeny have been made from virus 715d7 in host 9103a\n",
        "10 progeny have been made from virus f3057 in host 9103a"
       ]
      },
      {
       "output_type": "stream",
       "stream": "stdout",
       "text": [
        "\n",
        "9 progeny have been made from virus 6baa5 in host 9103a\n",
        "8 progeny have been made from virus 114c4 in host 9103a"
       ]
      },
      {
       "output_type": "stream",
       "stream": "stdout",
       "text": [
        "\n",
        "7 progeny have been made from virus 5a8f7 in host 9103a\n",
        "7 progeny have been made from virus 7192b in host 9103a\n",
        "6 progeny have been made from virus e16cc in host 9103a"
       ]
      },
      {
       "output_type": "stream",
       "stream": "stdout",
       "text": [
        "\n",
        "10 progeny have been made from virus 98075 in host 9103a\n",
        "7 progeny have been made from virus 4b596 in host 9103a"
       ]
      },
      {
       "output_type": "stream",
       "stream": "stdout",
       "text": [
        "\n",
        "130 progeny generated in host 9103a.\n",
        "Current time is 6. Incrementing time to 7\n",
        "Generating 19 progeny in host 9103a...\n",
        "7 progeny have been made from virus 2d44c in host 9103a\n",
        "5 progeny have been made from virus 75e5f in host 9103a"
       ]
      },
      {
       "output_type": "stream",
       "stream": "stdout",
       "text": [
        "\n",
        "6 progeny have been made from virus 5161c in host 9103a\n",
        "5 progeny have been made from virus 064aa in host 9103a\n",
        "23 progeny generated in host 9103a.\n",
        "Current time is 7. Incrementing time to 8\n",
        "Generating 70 progeny in host 9103a...\n",
        "9 progeny have been made from virus 2d44c in host 9103a"
       ]
      },
      {
       "output_type": "stream",
       "stream": "stdout",
       "text": [
        "\n",
        "7 progeny have been made from virus 8857e in host 9103a\n",
        "6 progeny have been made from virus ef074 in host 9103a"
       ]
      },
      {
       "output_type": "stream",
       "stream": "stdout",
       "text": [
        "\n",
        "7 progeny have been made from virus 5ac11 in host 9103a\n",
        "7 progeny have been made from virus cf3b1 in host 9103a"
       ]
      },
      {
       "output_type": "stream",
       "stream": "stdout",
       "text": [
        "\n",
        "7 progeny have been made from virus 1b289 in host 9103a\n",
        "8 progeny have been made from virus 2d44c in host 9103a"
       ]
      },
      {
       "output_type": "stream",
       "stream": "stdout",
       "text": [
        "\n",
        "10 progeny have been made from virus 23b35 in host 9103a\n",
        "8 progeny have been made from virus 054c7 in host 9103a"
       ]
      },
      {
       "output_type": "stream",
       "stream": "stdout",
       "text": [
        "\n",
        "5 progeny have been made from virus 15fc5 in host 9103a\n",
        "74 progeny generated in host 9103a.\n",
        "Current time is 8. Incrementing time to 9\n",
        "Generating 23 progeny in host 9103a...\n",
        "7 progeny have been made from virus 8ac14 in host 9103a"
       ]
      },
      {
       "output_type": "stream",
       "stream": "stdout",
       "text": [
        "\n",
        "10 progeny have been made from virus 873d0 in host 9103a\n",
        "6 progeny have been made from virus b5728 in host 9103a"
       ]
      },
      {
       "output_type": "stream",
       "stream": "stdout",
       "text": [
        "\n",
        "23 progeny generated in host 9103a.\n",
        "Current time is 9. Incrementing time to 10\n",
        "Generating 7 progeny in host 9103a...\n",
        "9 progeny have been made from virus d7400 in host 9103a\n",
        "9 progeny generated in host 9103a.\n",
        "Current time is 10. Incrementing time to 11\n",
        "Generating 16 progeny in host 9103a...\n",
        "9 progeny have been made from virus 1206a in host 9103a"
       ]
      },
      {
       "output_type": "stream",
       "stream": "stdout",
       "text": [
        "\n",
        "9 progeny have been made from virus d0da4 in host 9103a\n",
        "18 progeny generated in host 9103a.\n",
        "Current time is 11. Incrementing time to 12\n",
        "Generating 23 progeny in host 9103a...\n",
        "5 progeny have been made from virus b9317 in host 9103a"
       ]
      },
      {
       "output_type": "stream",
       "stream": "stdout",
       "text": [
        "\n",
        "9 progeny have been made from virus fa59b in host 9103a"
       ]
      },
      {
       "output_type": "stream",
       "stream": "stdout",
       "text": [
        "\n",
        "6 progeny have been made from virus 2e5cd in host 9103a\n",
        "9 progeny have been made from virus fa6eb in host 9103a"
       ]
      },
      {
       "output_type": "stream",
       "stream": "stdout",
       "text": [
        "\n",
        "29 progeny generated in host 9103a.\n",
        "Current time is 12. Incrementing time to 13\n",
        "Generating 20 progeny in host 9103a...\n",
        "10 progeny have been made from virus 7ab83 in host 9103a"
       ]
      },
      {
       "output_type": "stream",
       "stream": "stdout",
       "text": [
        "\n",
        "10 progeny have been made from virus 300fc in host 9103a\n",
        "20 progeny generated in host 9103a.\n",
        "Current time is 13. Incrementing time to 14\n",
        "Generating 16 progeny in host 9103a...\n",
        "10 progeny have been made from virus 5d40b in host 9103a"
       ]
      },
      {
       "output_type": "stream",
       "stream": "stdout",
       "text": [
        "\n",
        "7 progeny have been made from virus 96a2e in host 9103a\n",
        "17 progeny generated in host 9103a.\n",
        "Current time is 14. Incrementing time to 15\n",
        "Generating 1 progeny in host 9103a...\n",
        "5 progeny have been made from virus a7776 in host 9103a\n",
        "5 progeny generated in host 9103a.\n",
        "Current time is 15. Incrementing time to 16\n",
        "Generating 2 progeny in host 9103a..."
       ]
      },
      {
       "output_type": "stream",
       "stream": "stdout",
       "text": [
        "\n",
        "7 progeny have been made from virus 0c3c2 in host 9103a\n",
        "7 progeny generated in host 9103a.\n",
        "Current time is 16. Incrementing time to 17\n",
        "Generating 5 progeny in host 9103a...\n",
        "10 progeny have been made from virus 94344 in host 9103a"
       ]
      },
      {
       "output_type": "stream",
       "stream": "stdout",
       "text": [
        "\n",
        "10 progeny generated in host 9103a.\n",
        "Current time is 17. Incrementing time to 18\n",
        "Generating 4 progeny in host 9103a...\n",
        "7 progeny have been made from virus 0521c in host 9103a\n",
        "7 progeny generated in host 9103a.\n",
        "Current time is 18. Incrementing time to 19\n",
        "Generating 2 progeny in host 9103a...\n",
        "5 progeny have been made from virus 66e67 in host 9103a"
       ]
      },
      {
       "output_type": "stream",
       "stream": "stdout",
       "text": [
        "\n",
        "5 progeny generated in host 9103a.\n",
        "Current time is 19. Incrementing time to 20\n",
        "Generating 2 progeny in host 9103a...\n",
        "6 progeny have been made from virus 72852 in host 9103a\n",
        "6 progeny generated in host 9103a.\n",
        "Current time is 20. Incrementing time to 21\n",
        "Generating 0 progeny in host 9103a...\n",
        "0 progeny generated in host 9103a.\n",
        "Current time is 21. Incrementing time to 22\n",
        "Generating 1 progeny in host 9103a...\n",
        "7 progeny have been made from virus c4f84 in host 9103a"
       ]
      },
      {
       "output_type": "stream",
       "stream": "stdout",
       "text": [
        "\n",
        "7 progeny generated in host 9103a.\n",
        "Current time is 22. Incrementing time to 23\n",
        "Generating 3 progeny in host 9103a...\n",
        "8 progeny have been made from virus 5fd59 in host 9103a"
       ]
      },
      {
       "output_type": "stream",
       "stream": "stdout",
       "text": [
        "\n",
        "8 progeny generated in host 9103a.\n",
        "Current time is 23. Incrementing time to 24\n",
        "Generating 1 progeny in host 9103a...\n",
        "6 progeny have been made from virus 8ac9f in host 9103a\n",
        "6 progeny generated in host 9103a.\n",
        "Current time is 24. Incrementing time to 25\n",
        "Generating 2 progeny in host 9103a...\n",
        "9 progeny have been made from virus 4d789 in host 9103a"
       ]
      },
      {
       "output_type": "stream",
       "stream": "stdout",
       "text": [
        "\n",
        "9 progeny generated in host 9103a.\n",
        "Current time is 25. Incrementing time to 26\n",
        "Generating 1 progeny in host 9103a...\n",
        "10 progeny have been made from virus 3db9d in host 9103a"
       ]
      },
      {
       "output_type": "stream",
       "stream": "stdout",
       "text": [
        "\n",
        "10 progeny generated in host 9103a.\n",
        "Current time is 26. Incrementing time to 27\n",
        "Generating 3 progeny in host 9103a...\n",
        "7 progeny have been made from virus 9ed15 in host 9103a\n",
        "7 progeny generated in host 9103a.\n",
        "Current time is 27. Incrementing time to 28\n",
        "Generating 1 progeny in host 9103a...\n",
        "7 progeny have been made from virus 586b8 in host 9103a"
       ]
      },
      {
       "output_type": "stream",
       "stream": "stdout",
       "text": [
        "\n",
        "7 progeny generated in host 9103a.\n",
        "Current time is 28. Incrementing time to 29\n",
        "Generating 0 progeny in host 9103a...\n",
        "0 progeny generated in host 9103a.\n",
        "Current time is 29. Incrementing time to 30\n",
        "Adding host a77a2... to environment a678b...\n",
        "Creating environment a678b\n",
        "Creating virus 84482 inside host a77a2\n",
        "Current time is 0. Incrementing time to 1\n",
        "Generating 5 progeny in host a77a2...\n",
        "5 progeny have been made from virus 84482 in host a77a2\n",
        "5 progeny generated in host a77a2.\n",
        "Current time is 1. Incrementing time to 2\n",
        "Generating 7 progeny in host a77a2...\n",
        "6 progeny have been made from virus 47922 in host a77a2\n",
        "5 progeny have been made from virus 8f8d2 in host a77a2\n",
        "11 progeny generated in host a77a2.\n",
        "Current time is 2. Incrementing time to 3\n",
        "Generating 3 progeny in host a77a2...\n",
        "6 progeny have been made from virus 009e3 in host a77a2\n",
        "6 progeny generated in host a77a2.\n",
        "Current time is 3. Incrementing time to 4\n",
        "Generating 30 progeny in host a77a2...\n",
        "7 progeny have been made from virus df8c8 in host a77a2"
       ]
      },
      {
       "output_type": "stream",
       "stream": "stdout",
       "text": [
        "\n",
        "8 progeny have been made from virus 19279 in host a77a2\n",
        "10 progeny have been made from virus 025ed in host a77a2\n",
        "9 progeny have been made from virus 100bd in host a77a2"
       ]
      },
      {
       "output_type": "stream",
       "stream": "stdout",
       "text": [
        "\n",
        "34 progeny generated in host a77a2.\n",
        "Current time is 4. Incrementing time to 5\n",
        "Generating 33 progeny in host a77a2...\n",
        "8 progeny have been made from virus ba42b in host a77a2\n",
        "9 progeny have been made from virus df51b in host a77a2"
       ]
      },
      {
       "output_type": "stream",
       "stream": "stdout",
       "text": [
        "\n",
        "6 progeny have been made from virus ca063 in host a77a2\n",
        "6 progeny have been made from virus 1b67d in host a77a2\n",
        "5 progeny have been made from virus c9fbb in host a77a2\n",
        "34 progeny generated in host a77a2.\n",
        "Current time is 5. Incrementing time to 6\n",
        "Generating 7 progeny in host a77a2...\n",
        "7 progeny have been made from virus d6c02 in host a77a2"
       ]
      },
      {
       "output_type": "stream",
       "stream": "stdout",
       "text": [
        "\n",
        "7 progeny generated in host a77a2.\n",
        "Current time is 6. Incrementing time to 7\n",
        "Generating 19 progeny in host a77a2...\n",
        "6 progeny have been made from virus 5f2d3 in host a77a2\n",
        "8 progeny have been made from virus 3fc03 in host a77a2\n",
        "6 progeny have been made from virus fa6c1 in host a77a2"
       ]
      },
      {
       "output_type": "stream",
       "stream": "stdout",
       "text": [
        "\n",
        "20 progeny generated in host a77a2.\n",
        "Current time is 7. Incrementing time to 8\n",
        "Generating 17 progeny in host a77a2...\n",
        "5 progeny have been made from virus 288b9 in host a77a2\n",
        "7 progeny have been made from virus 58265 in host a77a2\n",
        "10 progeny have been made from virus 0d6ca in host a77a2"
       ]
      },
      {
       "output_type": "stream",
       "stream": "stdout",
       "text": [
        "\n",
        "22 progeny generated in host a77a2.\n",
        "Current time is 8. Incrementing time to 9\n",
        "Generating 37 progeny in host a77a2...\n",
        "9 progeny have been made from virus 5cdc8 in host a77a2\n",
        "8 progeny have been made from virus fe01e in host a77a2"
       ]
      },
      {
       "output_type": "stream",
       "stream": "stdout",
       "text": [
        "\n",
        "10 progeny have been made from virus 74aa6 in host a77a2\n",
        "10 progeny have been made from virus f0349 in host a77a2"
       ]
      },
      {
       "output_type": "stream",
       "stream": "stdout",
       "text": [
        "\n",
        "37 progeny generated in host a77a2.\n",
        "Current time is 9. Incrementing time to 10\n",
        "Generating 25 progeny in host a77a2...\n",
        "10 progeny have been made from virus 1f2fb in host a77a2\n",
        "7 progeny have been made from virus 8f726 in host a77a2"
       ]
      },
      {
       "output_type": "stream",
       "stream": "stdout",
       "text": [
        "\n",
        "8 progeny have been made from virus 228fe in host a77a2\n",
        "25 progeny generated in host a77a2.\n",
        "Current time is 10. Incrementing time to 11\n",
        "Generating 25 progeny in host a77a2...\n",
        "9 progeny have been made from virus e0638 in host a77a2\n",
        "7 progeny have been made from virus 94e7f in host a77a2"
       ]
      },
      {
       "output_type": "stream",
       "stream": "stdout",
       "text": [
        "\n",
        "5 progeny have been made from virus 3269c in host a77a2\n",
        "7 progeny have been made from virus a8883 in host a77a2\n",
        "28 progeny generated in host a77a2.\n",
        "Current time is 11. Incrementing time to 12\n",
        "Generating 39 progeny in host a77a2...\n",
        "5 progeny have been made from virus b36ca in host a77a2\n",
        "7 progeny have been made from virus 1f10d in host a77a2"
       ]
      },
      {
       "output_type": "stream",
       "stream": "stdout",
       "text": [
        "\n",
        "8 progeny have been made from virus 6ffad in host a77a2\n",
        "10 progeny have been made from virus 9a100 in host a77a2"
       ]
      },
      {
       "output_type": "stream",
       "stream": "stdout",
       "text": [
        "\n",
        "7 progeny have been made from virus 3af8f in host a77a2\n",
        "5 progeny have been made from virus 579b3 in host a77a2\n",
        "42 progeny generated in host a77a2.\n",
        "Current time is 12. Incrementing time to 13\n",
        "Generating 42 progeny in host a77a2...\n",
        "5 progeny have been made from virus 339c4 in host a77a2"
       ]
      },
      {
       "output_type": "stream",
       "stream": "stdout",
       "text": [
        "\n",
        "9 progeny have been made from virus e75de in host a77a2\n",
        "7 progeny have been made from virus 101cb in host a77a2\n",
        "5 progeny have been made from virus 4b5eb in host a77a2"
       ]
      },
      {
       "output_type": "stream",
       "stream": "stdout",
       "text": [
        "\n",
        "6 progeny have been made from virus 4b5eb in host a77a2\n",
        "5 progeny have been made from virus 91a0f in host a77a2\n",
        "8 progeny have been made from virus 71cf7 in host a77a2"
       ]
      },
      {
       "output_type": "stream",
       "stream": "stdout",
       "text": [
        "\n",
        "45 progeny generated in host a77a2.\n",
        "Current time is 13. Incrementing time to 14\n",
        "Generating 19 progeny in host a77a2...\n",
        "5 progeny have been made from virus 52162 in host a77a2\n",
        "9 progeny have been made from virus cc090 in host a77a2"
       ]
      },
      {
       "output_type": "stream",
       "stream": "stdout",
       "text": [
        "\n",
        "8 progeny have been made from virus b5819 in host a77a2\n",
        "22 progeny generated in host a77a2.\n",
        "Current time is 14. Incrementing time to 15\n",
        "Generating 3 progeny in host a77a2...\n",
        "6 progeny have been made from virus 5b2d7 in host a77a2"
       ]
      },
      {
       "output_type": "stream",
       "stream": "stdout",
       "text": [
        "\n",
        "6 progeny generated in host a77a2.\n",
        "Current time is 15. Incrementing time to 16\n",
        "Generating 0 progeny in host a77a2...\n",
        "0 progeny generated in host a77a2.\n",
        "Current time is 16. Incrementing time to 17\n",
        "Generating 0 progeny in host a77a2...\n",
        "0 progeny generated in host a77a2.\n",
        "Current time is 17. Incrementing time to 18\n",
        "Current time is 18. Incrementing time to 19\n",
        "Current time is 19. Incrementing time to 20\n",
        "Current time is 20. Incrementing time to 21\n",
        "Current time is 21. Incrementing time to 22\n",
        "Current time is 22. Incrementing time to 23\n",
        "Current time is 23. Incrementing time to 24\n",
        "Current time is 24. Incrementing time to 25\n",
        "Current time is 25. Incrementing time to 26\n",
        "Current time is 26. Incrementing time to 27\n",
        "Current time is 27. Incrementing time to 28\n",
        "Current time is 28. Incrementing time to 29\n",
        "Current time is 29. Incrementing time to 30\n",
        "Adding host 05aeb... to environment 91bb8...\n",
        "Creating environment 91bb8\n",
        "Creating virus 6ea9a inside host 05aeb\n",
        "Current time is 0. Incrementing time to 1\n",
        "Generating 7 progeny in host 05aeb...\n",
        "9 progeny have been made from virus 6ea9a in host 05aeb\n",
        "9 progeny generated in host 05aeb.\n",
        "Current time is 1. Incrementing time to 2\n",
        "Generating 9 progeny in host 05aeb...\n",
        "5 progeny have been made from virus 467a4 in host 05aeb\n",
        "8 progeny have been made from virus de160 in host 05aeb\n",
        "13 progeny generated in host 05aeb.\n",
        "Current time is 2. Incrementing time to 3\n",
        "Generating 49 progeny in host 05aeb...\n",
        "5 progeny have been made from virus de160 in host 05aeb"
       ]
      },
      {
       "output_type": "stream",
       "stream": "stdout",
       "text": [
        "\n",
        "5 progeny have been made from virus d90f1 in host 05aeb\n",
        "9 progeny have been made from virus 49b11 in host 05aeb\n",
        "6 progeny have been made from virus d8a1d in host 05aeb\n",
        "10 progeny have been made from virus b1b45 in host 05aeb"
       ]
      },
      {
       "output_type": "stream",
       "stream": "stdout",
       "text": [
        "\n",
        "10 progeny have been made from virus 5a7f1 in host 05aeb\n",
        "8 progeny have been made from virus 587e9 in host 05aeb"
       ]
      },
      {
       "output_type": "stream",
       "stream": "stdout",
       "text": [
        "\n",
        "53 progeny generated in host 05aeb.\n",
        "Current time is 3. Incrementing time to 4\n",
        "Generating 122 progeny in host 05aeb...\n",
        "9 progeny have been made from virus 31a0e in host 05aeb\n",
        "9 progeny have been made from virus 4792e in host 05aeb"
       ]
      },
      {
       "output_type": "stream",
       "stream": "stdout",
       "text": [
        "\n",
        "9 progeny have been made from virus d6036 in host 05aeb\n",
        "8 progeny have been made from virus ff174 in host 05aeb\n",
        "6 progeny have been made from virus 58f7e in host 05aeb"
       ]
      },
      {
       "output_type": "stream",
       "stream": "stdout",
       "text": [
        "\n",
        "8 progeny have been made from virus 24296 in host 05aeb\n",
        "10 progeny have been made from virus aa062 in host 05aeb"
       ]
      },
      {
       "output_type": "stream",
       "stream": "stdout",
       "text": [
        "\n",
        "7 progeny have been made from virus d6036 in host 05aeb\n",
        "8 progeny have been made from virus 3f90f in host 05aeb\n",
        "9 progeny have been made from virus f3b16 in host 05aeb"
       ]
      },
      {
       "output_type": "stream",
       "stream": "stdout",
       "text": [
        "\n",
        "6 progeny have been made from virus 07bbb in host 05aeb\n",
        "8 progeny have been made from virus 99ab6 in host 05aeb\n",
        "9 progeny have been made from virus 86e25 in host 05aeb"
       ]
      },
      {
       "output_type": "stream",
       "stream": "stdout",
       "text": [
        "\n",
        "6 progeny have been made from virus 870c7 in host 05aeb\n",
        "10 progeny have been made from virus 6ea9a in host 05aeb"
       ]
      },
      {
       "output_type": "stream",
       "stream": "stdout",
       "text": [
        "\n",
        "122 progeny generated in host 05aeb.\n",
        "Current time is 4. Incrementing time to 5\n",
        "Generating 249 progeny in host 05aeb...\n",
        "5 progeny have been made from virus 0f277 in host 05aeb\n",
        "7 progeny have been made from virus 084b3 in host 05aeb\n",
        "10 progeny have been made from virus c7243 in host 05aeb"
       ]
      },
      {
       "output_type": "stream",
       "stream": "stdout",
       "text": [
        "\n",
        "10 progeny have been made from virus a4c43 in host 05aeb\n",
        "8 progeny have been made from virus 308de in host 05aeb"
       ]
      },
      {
       "output_type": "stream",
       "stream": "stdout",
       "text": [
        "\n",
        "6 progeny have been made from virus e35ca in host 05aeb\n",
        "5 progeny have been made from virus f445c in host 05aeb\n",
        "10 progeny have been made from virus 434ec in host 05aeb"
       ]
      },
      {
       "output_type": "stream",
       "stream": "stdout",
       "text": [
        "\n",
        "5 progeny have been made from virus afbd5 in host 05aeb\n",
        "10 progeny have been made from virus 1e2d9 in host 05aeb"
       ]
      },
      {
       "output_type": "stream",
       "stream": "stdout",
       "text": [
        "\n",
        "7 progeny have been made from virus 308de in host 05aeb\n",
        "7 progeny have been made from virus bb138 in host 05aeb\n",
        "10 progeny have been made from virus 084b3 in host 05aeb"
       ]
      },
      {
       "output_type": "stream",
       "stream": "stdout",
       "text": [
        "\n",
        "5 progeny have been made from virus c88c5 in host 05aeb\n",
        "10 progeny have been made from virus 00a57 in host 05aeb"
       ]
      },
      {
       "output_type": "stream",
       "stream": "stdout",
       "text": [
        "\n",
        "8 progeny have been made from virus 9517d in host 05aeb"
       ]
      },
      {
       "output_type": "stream",
       "stream": "stdout",
       "text": [
        "\n",
        "10 progeny have been made from virus c5eb4 in host 05aeb"
       ]
      },
      {
       "output_type": "stream",
       "stream": "stdout",
       "text": [
        "\n",
        "7 progeny have been made from virus 724b3 in host 05aeb"
       ]
      },
      {
       "output_type": "stream",
       "stream": "stdout",
       "text": [
        "\n",
        "5 progeny have been made from virus c5eb4 in host 05aeb\n",
        "6 progeny have been made from virus 1e2d9 in host 05aeb"
       ]
      },
      {
       "output_type": "stream",
       "stream": "stdout",
       "text": [
        "\n",
        "7 progeny have been made from virus 81848 in host 05aeb\n",
        "9 progeny have been made from virus bbf47 in host 05aeb"
       ]
      },
      {
       "output_type": "stream",
       "stream": "stdout",
       "text": [
        "\n",
        "5 progeny have been made from virus 9517d in host 05aeb\n",
        "9 progeny have been made from virus 0ca3f in host 05aeb"
       ]
      },
      {
       "output_type": "stream",
       "stream": "stdout",
       "text": [
        "\n",
        "10 progeny have been made from virus bbf47 in host 05aeb"
       ]
      },
      {
       "output_type": "stream",
       "stream": "stdout",
       "text": [
        "\n",
        "6 progeny have been made from virus 84cad in host 05aeb"
       ]
      },
      {
       "output_type": "stream",
       "stream": "stdout",
       "text": [
        "\n",
        "5 progeny have been made from virus 81848 in host 05aeb\n",
        "7 progeny have been made from virus 4ab2a in host 05aeb"
       ]
      },
      {
       "output_type": "stream",
       "stream": "stdout",
       "text": [
        "\n",
        "6 progeny have been made from virus 2ec3b in host 05aeb"
       ]
      },
      {
       "output_type": "stream",
       "stream": "stdout",
       "text": [
        "\n",
        "10 progeny have been made from virus 55ae9 in host 05aeb"
       ]
      },
      {
       "output_type": "stream",
       "stream": "stdout",
       "text": [
        "\n",
        "8 progeny have been made from virus 1e2d9 in host 05aeb"
       ]
      },
      {
       "output_type": "stream",
       "stream": "stdout",
       "text": [
        "\n",
        "7 progeny have been made from virus 1e2d9 in host 05aeb"
       ]
      },
      {
       "output_type": "stream",
       "stream": "stdout",
       "text": [
        "\n",
        "10 progeny have been made from virus 40bd2 in host 05aeb"
       ]
      },
      {
       "output_type": "stream",
       "stream": "stdout",
       "text": [
        "\n",
        "250 progeny generated in host 05aeb.\n",
        "Current time is 5. Incrementing time to 6\n",
        "Generating 356 progeny in host 05aeb...\n",
        "9 progeny have been made from virus c837b in host 05aeb"
       ]
      },
      {
       "output_type": "stream",
       "stream": "stdout",
       "text": [
        "\n",
        "10 progeny have been made from virus 552b1 in host 05aeb"
       ]
      },
      {
       "output_type": "stream",
       "stream": "stdout",
       "text": [
        "\n",
        "7 progeny have been made from virus 359fa in host 05aeb"
       ]
      },
      {
       "output_type": "stream",
       "stream": "stdout",
       "text": [
        "\n",
        "8 progeny have been made from virus dd85f in host 05aeb"
       ]
      },
      {
       "output_type": "stream",
       "stream": "stdout",
       "text": [
        "\n",
        "5 progeny have been made from virus 12880 in host 05aeb"
       ]
      },
      {
       "output_type": "stream",
       "stream": "stdout",
       "text": [
        "\n",
        "10 progeny have been made from virus 29e80 in host 05aeb"
       ]
      },
      {
       "output_type": "stream",
       "stream": "stdout",
       "text": [
        "\n",
        "10 progeny have been made from virus 16287 in host 05aeb"
       ]
      },
      {
       "output_type": "stream",
       "stream": "stdout",
       "text": [
        "\n",
        "5 progeny have been made from virus 2bbf9 in host 05aeb"
       ]
      },
      {
       "output_type": "stream",
       "stream": "stdout",
       "text": [
        "\n",
        "5 progeny have been made from virus da932 in host 05aeb"
       ]
      },
      {
       "output_type": "stream",
       "stream": "stdout",
       "text": [
        "\n",
        "5 progeny have been made from virus c5a96 in host 05aeb"
       ]
      },
      {
       "output_type": "stream",
       "stream": "stdout",
       "text": [
        "\n",
        "9 progeny have been made from virus 27487 in host 05aeb"
       ]
      },
      {
       "output_type": "stream",
       "stream": "stdout",
       "text": [
        "\n",
        "7 progeny have been made from virus b22ec in host 05aeb"
       ]
      },
      {
       "output_type": "stream",
       "stream": "stdout",
       "text": [
        "\n",
        "6 progeny have been made from virus 9971e in host 05aeb"
       ]
      },
      {
       "output_type": "stream",
       "stream": "stdout",
       "text": [
        "\n",
        "10 progeny have been made from virus 63005 in host 05aeb"
       ]
      },
      {
       "output_type": "stream",
       "stream": "stdout",
       "text": [
        "\n",
        "6 progeny have been made from virus 9e750 in host 05aeb"
       ]
      },
      {
       "output_type": "stream",
       "stream": "stdout",
       "text": [
        "\n",
        "10 progeny have been made from virus 8b343 in host 05aeb"
       ]
      },
      {
       "output_type": "stream",
       "stream": "stdout",
       "text": [
        "\n",
        "9 progeny have been made from virus 9d6db in host 05aeb"
       ]
      },
      {
       "output_type": "stream",
       "stream": "stdout",
       "text": [
        "\n",
        "6 progeny have been made from virus 6d973 in host 05aeb"
       ]
      },
      {
       "output_type": "stream",
       "stream": "stdout",
       "text": [
        "\n",
        "8 progeny have been made from virus 7dda9 in host 05aeb"
       ]
      },
      {
       "output_type": "stream",
       "stream": "stdout",
       "text": [
        "\n",
        "6 progeny have been made from virus 07325 in host 05aeb\n",
        "6 progeny have been made from virus 5c462 in host 05aeb"
       ]
      },
      {
       "output_type": "stream",
       "stream": "stdout",
       "text": [
        "\n",
        "7 progeny have been made from virus 330e2 in host 05aeb\n",
        "5 progeny have been made from virus 464da in host 05aeb"
       ]
      },
      {
       "output_type": "stream",
       "stream": "stdout",
       "text": [
        "\n",
        "10 progeny have been made from virus e12a9 in host 05aeb"
       ]
      },
      {
       "output_type": "stream",
       "stream": "stdout",
       "text": [
        "\n",
        "7 progeny have been made from virus c5a96 in host 05aeb\n",
        "6 progeny have been made from virus c9a77 in host 05aeb"
       ]
      },
      {
       "output_type": "stream",
       "stream": "stdout",
       "text": [
        "\n",
        "10 progeny have been made from virus 25c1a in host 05aeb"
       ]
      },
      {
       "output_type": "stream",
       "stream": "stdout",
       "text": [
        "\n",
        "10 progeny have been made from virus 75fee in host 05aeb"
       ]
      },
      {
       "output_type": "stream",
       "stream": "stdout",
       "text": [
        "\n",
        "8 progeny have been made from virus d6c0d in host 05aeb"
       ]
      },
      {
       "output_type": "stream",
       "stream": "stdout",
       "text": [
        "\n",
        "5 progeny have been made from virus 8ceb6 in host 05aeb\n",
        "7 progeny have been made from virus d21ee in host 05aeb"
       ]
      },
      {
       "output_type": "stream",
       "stream": "stdout",
       "text": [
        "\n",
        "8 progeny have been made from virus 12880 in host 05aeb\n",
        "9 progeny have been made from virus 7f8ce in host 05aeb"
       ]
      },
      {
       "output_type": "stream",
       "stream": "stdout",
       "text": [
        "\n",
        "10 progeny have been made from virus 93eec in host 05aeb\n",
        "10 progeny have been made from virus 648f8 in host 05aeb"
       ]
      },
      {
       "output_type": "stream",
       "stream": "stdout",
       "text": [
        "\n",
        "6 progeny have been made from virus 2a309 in host 05aeb\n",
        "9 progeny have been made from virus 5a18a in host 05aeb"
       ]
      },
      {
       "output_type": "stream",
       "stream": "stdout",
       "text": [
        "\n",
        "9 progeny have been made from virus 27a1b in host 05aeb"
       ]
      },
      {
       "output_type": "stream",
       "stream": "stdout",
       "text": [
        "\n",
        "7 progeny have been made from virus a448a in host 05aeb\n",
        "6 progeny have been made from virus 75039 in host 05aeb"
       ]
      },
      {
       "output_type": "stream",
       "stream": "stdout",
       "text": [
        "\n",
        "5 progeny have been made from virus 61b4d in host 05aeb\n",
        "10 progeny have been made from virus 05579 in host 05aeb"
       ]
      },
      {
       "output_type": "stream",
       "stream": "stdout",
       "text": [
        "\n",
        "5 progeny have been made from virus f7786 in host 05aeb\n",
        "9 progeny have been made from virus 7bccf in host 05aeb"
       ]
      },
      {
       "output_type": "stream",
       "stream": "stdout",
       "text": [
        "\n",
        "9 progeny have been made from virus dd312 in host 05aeb"
       ]
      },
      {
       "output_type": "stream",
       "stream": "stdout",
       "text": [
        "\n",
        "9 progeny have been made from virus 053d9 in host 05aeb"
       ]
      },
      {
       "output_type": "stream",
       "stream": "stdout",
       "text": [
        "\n",
        "8 progeny have been made from virus bc141 in host 05aeb\n",
        "361 progeny generated in host 05aeb.\n",
        "Current time is 6. Incrementing time to 7"
       ]
      },
      {
       "output_type": "stream",
       "stream": "stdout",
       "text": [
        "\n",
        "Generating 265 progeny in host 05aeb...\n",
        "5 progeny have been made from virus db3f3 in host 05aeb\n",
        "7 progeny have been made from virus 2df25 in host 05aeb"
       ]
      },
      {
       "output_type": "stream",
       "stream": "stdout",
       "text": [
        "\n",
        "5 progeny have been made from virus dd808 in host 05aeb\n",
        "5 progeny have been made from virus c18ca in host 05aeb"
       ]
      },
      {
       "output_type": "stream",
       "stream": "stdout",
       "text": [
        "\n",
        "10 progeny have been made from virus f41ae in host 05aeb"
       ]
      },
      {
       "output_type": "stream",
       "stream": "stdout",
       "text": [
        "\n",
        "6 progeny have been made from virus 1b2db in host 05aeb\n",
        "8 progeny have been made from virus c8dfb in host 05aeb"
       ]
      },
      {
       "output_type": "stream",
       "stream": "stdout",
       "text": [
        "\n",
        "10 progeny have been made from virus 923cb in host 05aeb"
       ]
      },
      {
       "output_type": "stream",
       "stream": "stdout",
       "text": [
        "\n",
        "6 progeny have been made from virus acd26 in host 05aeb\n",
        "9 progeny have been made from virus 4b4ee in host 05aeb"
       ]
      },
      {
       "output_type": "stream",
       "stream": "stdout",
       "text": [
        "\n",
        "5 progeny have been made from virus 79f3f in host 05aeb\n",
        "9 progeny have been made from virus 9df9b in host 05aeb"
       ]
      },
      {
       "output_type": "stream",
       "stream": "stdout",
       "text": [
        "\n",
        "5 progeny have been made from virus 6a55e in host 05aeb"
       ]
      },
      {
       "output_type": "stream",
       "stream": "stdout",
       "text": [
        "\n",
        "10 progeny have been made from virus be29b in host 05aeb"
       ]
      },
      {
       "output_type": "stream",
       "stream": "stdout",
       "text": [
        "\n",
        "6 progeny have been made from virus 60fa3 in host 05aeb"
       ]
      },
      {
       "output_type": "stream",
       "stream": "stdout",
       "text": [
        "\n",
        "6 progeny have been made from virus 00c81 in host 05aeb\n",
        "8 progeny have been made from virus cde4f in host 05aeb"
       ]
      },
      {
       "output_type": "stream",
       "stream": "stdout",
       "text": [
        "\n",
        "9 progeny have been made from virus a9f67 in host 05aeb"
       ]
      },
      {
       "output_type": "stream",
       "stream": "stdout",
       "text": [
        "\n",
        "6 progeny have been made from virus f169c in host 05aeb\n",
        "9 progeny have been made from virus ca9c5 in host 05aeb"
       ]
      },
      {
       "output_type": "stream",
       "stream": "stdout",
       "text": [
        "\n",
        "8 progeny have been made from virus 6a55e in host 05aeb"
       ]
      },
      {
       "output_type": "stream",
       "stream": "stdout",
       "text": [
        "\n",
        "6 progeny have been made from virus c6e17 in host 05aeb\n",
        "9 progeny have been made from virus facff in host 05aeb"
       ]
      },
      {
       "output_type": "stream",
       "stream": "stdout",
       "text": [
        "\n",
        "6 progeny have been made from virus 30708 in host 05aeb\n",
        "10 progeny have been made from virus 6e3d0 in host 05aeb"
       ]
      },
      {
       "output_type": "stream",
       "stream": "stdout",
       "text": [
        "\n",
        "5 progeny have been made from virus beefc in host 05aeb\n",
        "10 progeny have been made from virus 609ea in host 05aeb"
       ]
      },
      {
       "output_type": "stream",
       "stream": "stdout",
       "text": [
        "\n",
        "10 progeny have been made from virus 77b50 in host 05aeb"
       ]
      },
      {
       "output_type": "stream",
       "stream": "stdout",
       "text": [
        "\n",
        "7 progeny have been made from virus a8629 in host 05aeb"
       ]
      },
      {
       "output_type": "stream",
       "stream": "stdout",
       "text": [
        "\n",
        "10 progeny have been made from virus 6e3d0 in host 05aeb"
       ]
      },
      {
       "output_type": "stream",
       "stream": "stdout",
       "text": [
        "\n",
        "8 progeny have been made from virus 1d24d in host 05aeb"
       ]
      },
      {
       "output_type": "stream",
       "stream": "stdout",
       "text": [
        "\n",
        "6 progeny have been made from virus 0ca76 in host 05aeb"
       ]
      },
      {
       "output_type": "stream",
       "stream": "stdout",
       "text": [
        "\n",
        "6 progeny have been made from virus 52cf7 in host 05aeb"
       ]
      },
      {
       "output_type": "stream",
       "stream": "stdout",
       "text": [
        "\n",
        "6 progeny have been made from virus 75039 in host 05aeb\n",
        "5 progeny have been made from virus 52cf7 in host 05aeb"
       ]
      },
      {
       "output_type": "stream",
       "stream": "stdout",
       "text": [
        "\n",
        "10 progeny have been made from virus 327fc in host 05aeb"
       ]
      },
      {
       "output_type": "stream",
       "stream": "stdout",
       "text": [
        "\n",
        "266 progeny generated in host 05aeb.\n",
        "Current time is 7. Incrementing time to 8\n",
        "Generating 54 progeny in host 05aeb...\n",
        "7 progeny have been made from virus ed50d in host 05aeb"
       ]
      },
      {
       "output_type": "stream",
       "stream": "stdout",
       "text": [
        "\n",
        "6 progeny have been made from virus c272c in host 05aeb"
       ]
      },
      {
       "output_type": "stream",
       "stream": "stdout",
       "text": [
        "\n",
        "5 progeny have been made from virus bca18 in host 05aeb\n",
        "9 progeny have been made from virus 3c5b7 in host 05aeb"
       ]
      },
      {
       "output_type": "stream",
       "stream": "stdout",
       "text": [
        "\n",
        "6 progeny have been made from virus 088c2 in host 05aeb\n",
        "7 progeny have been made from virus 327e2 in host 05aeb"
       ]
      },
      {
       "output_type": "stream",
       "stream": "stdout",
       "text": [
        "\n",
        "5 progeny have been made from virus 33b05 in host 05aeb\n",
        "9 progeny have been made from virus 08e35 in host 05aeb"
       ]
      },
      {
       "output_type": "stream",
       "stream": "stdout",
       "text": [
        "\n",
        "54 progeny generated in host 05aeb.\n",
        "Current time is 8. Incrementing time to 9\n",
        "Generating 48 progeny in host 05aeb...\n",
        "7 progeny have been made from virus 60af7 in host 05aeb"
       ]
      },
      {
       "output_type": "stream",
       "stream": "stdout",
       "text": [
        "\n",
        "8 progeny have been made from virus 00d05 in host 05aeb"
       ]
      },
      {
       "output_type": "stream",
       "stream": "stdout",
       "text": [
        "\n",
        "7 progeny have been made from virus d0197 in host 05aeb"
       ]
      },
      {
       "output_type": "stream",
       "stream": "stdout",
       "text": [
        "\n",
        "5 progeny have been made from virus aac6a in host 05aeb\n",
        "8 progeny have been made from virus 4833f in host 05aeb"
       ]
      },
      {
       "output_type": "stream",
       "stream": "stdout",
       "text": [
        "\n",
        "9 progeny have been made from virus efd87 in host 05aeb"
       ]
      },
      {
       "output_type": "stream",
       "stream": "stdout",
       "text": [
        "\n",
        "5 progeny have been made from virus d1f6d in host 05aeb\n",
        "49 progeny generated in host 05aeb.\n",
        "Current time is 9. Incrementing time to 10"
       ]
      },
      {
       "output_type": "stream",
       "stream": "stdout",
       "text": [
        "\n",
        "Generating 66 progeny in host 05aeb...\n",
        "10 progeny have been made from virus 7cb48 in host 05aeb"
       ]
      },
      {
       "output_type": "stream",
       "stream": "stdout",
       "text": [
        "\n",
        "8 progeny have been made from virus e4b82 in host 05aeb"
       ]
      },
      {
       "output_type": "stream",
       "stream": "stdout",
       "text": [
        "\n",
        "8 progeny have been made from virus f0413 in host 05aeb"
       ]
      },
      {
       "output_type": "stream",
       "stream": "stdout",
       "text": [
        "\n",
        "8 progeny have been made from virus d1f6d in host 05aeb"
       ]
      },
      {
       "output_type": "stream",
       "stream": "stdout",
       "text": [
        "\n",
        "5 progeny have been made from virus e98bc in host 05aeb\n",
        "9 progeny have been made from virus 7cb48 in host 05aeb"
       ]
      },
      {
       "output_type": "stream",
       "stream": "stdout",
       "text": [
        "\n",
        "5 progeny have been made from virus 5282e in host 05aeb\n",
        "8 progeny have been made from virus c9eb5 in host 05aeb"
       ]
      },
      {
       "output_type": "stream",
       "stream": "stdout",
       "text": [
        "\n",
        "10 progeny have been made from virus 6a9c6 in host 05aeb"
       ]
      },
      {
       "output_type": "stream",
       "stream": "stdout",
       "text": [
        "\n",
        "71 progeny generated in host 05aeb.\n",
        "Current time is 10. Incrementing time to 11\n",
        "Generating 30 progeny in host 05aeb...\n",
        "5 progeny have been made from virus 50d15 in host 05aeb"
       ]
      },
      {
       "output_type": "stream",
       "stream": "stdout",
       "text": [
        "\n",
        "6 progeny have been made from virus 18399 in host 05aeb\n",
        "5 progeny have been made from virus d5a32 in host 05aeb"
       ]
      },
      {
       "output_type": "stream",
       "stream": "stdout",
       "text": [
        "\n",
        "5 progeny have been made from virus 9fffc in host 05aeb"
       ]
      },
      {
       "output_type": "stream",
       "stream": "stdout",
       "text": [
        "\n",
        "9 progeny have been made from virus 6a9c6 in host 05aeb"
       ]
      },
      {
       "output_type": "stream",
       "stream": "stdout",
       "text": [
        "\n",
        "30 progeny generated in host 05aeb.\n",
        "Current time is 11. Incrementing time to 12\n",
        "Generating 15 progeny in host 05aeb...\n",
        "5 progeny have been made from virus d8458 in host 05aeb"
       ]
      },
      {
       "output_type": "stream",
       "stream": "stdout",
       "text": [
        "\n",
        "5 progeny have been made from virus e4ed4 in host 05aeb"
       ]
      },
      {
       "output_type": "stream",
       "stream": "stdout",
       "text": [
        "\n",
        "9 progeny have been made from virus 56b34 in host 05aeb"
       ]
      },
      {
       "output_type": "stream",
       "stream": "stdout",
       "text": [
        "\n",
        "19 progeny generated in host 05aeb.\n",
        "Current time is 12. Incrementing time to 13\n",
        "Generating 2 progeny in host 05aeb...\n",
        "9 progeny have been made from virus 2be37 in host 05aeb"
       ]
      },
      {
       "output_type": "stream",
       "stream": "stdout",
       "text": [
        "\n",
        "9 progeny generated in host 05aeb.\n",
        "Current time is 13. Incrementing time to 14\n",
        "Generating 4 progeny in host 05aeb...\n",
        "9 progeny have been made from virus e1cae in host 05aeb"
       ]
      },
      {
       "output_type": "stream",
       "stream": "stdout",
       "text": [
        "\n",
        "9 progeny generated in host 05aeb.\n",
        "Current time is 14. Incrementing time to 15\n",
        "Generating 3 progeny in host 05aeb...\n",
        "7 progeny have been made from virus 2ff55 in host 05aeb"
       ]
      },
      {
       "output_type": "stream",
       "stream": "stdout",
       "text": [
        "\n",
        "7 progeny generated in host 05aeb.\n",
        "Current time is 15. Incrementing time to 16\n",
        "Generating 4 progeny in host 05aeb...\n",
        "8 progeny have been made from virus c5564 in host 05aeb"
       ]
      },
      {
       "output_type": "stream",
       "stream": "stdout",
       "text": [
        "\n",
        "8 progeny generated in host 05aeb.\n",
        "Current time is 16. Incrementing time to 17\n",
        "Generating 0 progeny in host 05aeb...\n",
        "0 progeny generated in host 05aeb.\n",
        "Current time is 17. Incrementing time to 18\n",
        "Current time is 18. Incrementing time to 19\n",
        "Current time is 19. Incrementing time to 20\n",
        "Current time is 20. Incrementing time to 21\n",
        "Current time is 21. Incrementing time to 22\n",
        "Current time is 22. Incrementing time to 23\n",
        "Current time is 23. Incrementing time to 24\n",
        "Current time is 24. Incrementing time to 25\n",
        "Current time is 25. Incrementing time to 26\n",
        "Current time is 26. Incrementing time to 27\n",
        "Current time is 27. Incrementing time to 28\n",
        "Current time is 28. Incrementing time to 29\n",
        "Current time is 29. Incrementing time to 30\n",
        "Adding host cbab4... to environment 211ac...\n",
        "Creating environment 211ac\n",
        "Creating virus c5929 inside host cbab4\n",
        "Current time is 0. Incrementing time to 1\n",
        "Generating 4 progeny in host cbab4...\n",
        "7 progeny have been made from virus c5929 in host cbab4\n",
        "7 progeny generated in host cbab4.\n",
        "Current time is 1. Incrementing time to 2\n",
        "Generating 12 progeny in host cbab4...\n",
        "10 progeny have been made from virus 8766e in host cbab4\n",
        "5 progeny have been made from virus 25dc6 in host cbab4\n",
        "15 progeny generated in host cbab4.\n",
        "Current time is 2. Incrementing time to 3\n",
        "Generating 50 progeny in host cbab4...\n",
        "6 progeny have been made from virus 7de46 in host cbab4"
       ]
      },
      {
       "output_type": "stream",
       "stream": "stdout",
       "text": [
        "\n",
        "7 progeny have been made from virus c5929 in host cbab4\n",
        "9 progeny have been made from virus bd418 in host cbab4\n",
        "10 progeny have been made from virus 9c012 in host cbab4"
       ]
      },
      {
       "output_type": "stream",
       "stream": "stdout",
       "text": [
        "\n",
        "8 progeny have been made from virus f01d8 in host cbab4\n",
        "10 progeny have been made from virus f6b5d in host cbab4"
       ]
      },
      {
       "output_type": "stream",
       "stream": "stdout",
       "text": [
        "\n",
        "50 progeny generated in host cbab4.\n",
        "Current time is 3. Incrementing time to 4\n",
        "Generating 35 progeny in host cbab4...\n",
        "9 progeny have been made from virus 378dd in host cbab4\n",
        "8 progeny have been made from virus d41f1 in host cbab4"
       ]
      },
      {
       "output_type": "stream",
       "stream": "stdout",
       "text": [
        "\n",
        "7 progeny have been made from virus 4a53b in host cbab4\n",
        "8 progeny have been made from virus 54590 in host cbab4"
       ]
      },
      {
       "output_type": "stream",
       "stream": "stdout",
       "text": [
        "\n",
        "5 progeny have been made from virus f5f5e in host cbab4\n",
        "37 progeny generated in host cbab4.\n",
        "Current time is 4. Incrementing time to 5\n",
        "Generating 10 progeny in host cbab4...\n",
        "10 progeny have been made from virus f6cec in host cbab4"
       ]
      },
      {
       "output_type": "stream",
       "stream": "stdout",
       "text": [
        "\n",
        "10 progeny generated in host cbab4.\n",
        "Current time is 5. Incrementing time to 6\n",
        "Generating 11 progeny in host cbab4...\n",
        "6 progeny have been made from virus 31652 in host cbab4\n",
        "7 progeny have been made from virus ece74 in host cbab4\n",
        "13 progeny generated in host cbab4.\n",
        "Current time is 6. Incrementing time to 7\n",
        "Generating 3 progeny in host cbab4...\n",
        "7 progeny have been made from virus 77ab3 in host cbab4"
       ]
      },
      {
       "output_type": "stream",
       "stream": "stdout",
       "text": [
        "\n",
        "7 progeny generated in host cbab4.\n",
        "Current time is 7. Incrementing time to 8\n",
        "Generating 14 progeny in host cbab4...\n",
        "5 progeny have been made from virus 37dda in host cbab4\n",
        "7 progeny have been made from virus 7a17b in host cbab4\n",
        "10 progeny have been made from virus 7a17b in host cbab4"
       ]
      },
      {
       "output_type": "stream",
       "stream": "stdout",
       "text": [
        "\n",
        "22 progeny generated in host cbab4.\n",
        "Current time is 8. Incrementing time to 9\n",
        "Generating 12 progeny in host cbab4...\n",
        "9 progeny have been made from virus 0531b in host cbab4\n",
        "8 progeny have been made from virus 634dc in host cbab4"
       ]
      },
      {
       "output_type": "stream",
       "stream": "stdout",
       "text": [
        "\n",
        "17 progeny generated in host cbab4.\n",
        "Current time is 9. Incrementing time to 10\n",
        "Generating 20 progeny in host cbab4...\n",
        "10 progeny have been made from virus df65f in host cbab4\n",
        "7 progeny have been made from virus 53704 in host cbab4"
       ]
      },
      {
       "output_type": "stream",
       "stream": "stdout",
       "text": [
        "\n",
        "7 progeny have been made from virus e7dbc in host cbab4\n",
        "24 progeny generated in host cbab4.\n",
        "Current time is 10. Incrementing time to 11\n",
        "Generating 11 progeny in host cbab4...\n",
        "5 progeny have been made from virus f151d in host cbab4\n",
        "9 progeny have been made from virus 4517e in host cbab4"
       ]
      },
      {
       "output_type": "stream",
       "stream": "stdout",
       "text": [
        "\n",
        "14 progeny generated in host cbab4.\n",
        "Current time is 11. Incrementing time to 12\n",
        "Generating 3 progeny in host cbab4...\n",
        "7 progeny have been made from virus 52b89 in host cbab4\n",
        "7 progeny generated in host cbab4.\n",
        "Current time is 12. Incrementing time to 13\n",
        "Generating 2 progeny in host cbab4...\n",
        "6 progeny have been made from virus 6abea in host cbab4"
       ]
      },
      {
       "output_type": "stream",
       "stream": "stdout",
       "text": [
        "\n",
        "6 progeny generated in host cbab4.\n",
        "Current time is 13. Incrementing time to 14\n",
        "Generating 5 progeny in host cbab4...\n",
        "10 progeny have been made from virus 0280a in host cbab4\n",
        "10 progeny generated in host cbab4.\n",
        "Current time is 14. Incrementing time to 15\n",
        "Generating 7 progeny in host cbab4...\n",
        "10 progeny have been made from virus 10e2f in host cbab4"
       ]
      },
      {
       "output_type": "stream",
       "stream": "stdout",
       "text": [
        "\n",
        "10 progeny generated in host cbab4.\n",
        "Current time is 15. Incrementing time to 16\n",
        "Generating 11 progeny in host cbab4...\n",
        "10 progeny have been made from virus c8a1c in host cbab4"
       ]
      },
      {
       "output_type": "stream",
       "stream": "stdout",
       "text": [
        "\n",
        "8 progeny have been made from virus fd8b2 in host cbab4"
       ]
      },
      {
       "output_type": "stream",
       "stream": "stdout",
       "text": [
        "\n",
        "18 progeny generated in host cbab4.\n",
        "Current time is 16. Incrementing time to 17\n",
        "Generating 8 progeny in host cbab4...\n",
        "9 progeny have been made from virus 96a30 in host cbab4"
       ]
      },
      {
       "output_type": "stream",
       "stream": "stdout",
       "text": [
        "\n",
        "9 progeny generated in host cbab4.\n",
        "Current time is 17. Incrementing time to 18\n",
        "Generating 8 progeny in host cbab4...\n",
        "8 progeny have been made from virus ebf7a in host cbab4"
       ]
      },
      {
       "output_type": "stream",
       "stream": "stdout",
       "text": [
        "\n",
        "8 progeny generated in host cbab4.\n",
        "Current time is 18. Incrementing time to 19\n",
        "Generating 2 progeny in host cbab4...\n",
        "5 progeny have been made from virus 73a1d in host cbab4\n",
        "5 progeny generated in host cbab4.\n",
        "Current time is 19. Incrementing time to 20\n",
        "Generating 2 progeny in host cbab4...\n",
        "8 progeny have been made from virus 03a83 in host cbab4"
       ]
      },
      {
       "output_type": "stream",
       "stream": "stdout",
       "text": [
        "\n",
        "8 progeny generated in host cbab4.\n",
        "Current time is 20. Incrementing time to 21\n",
        "Generating 3 progeny in host cbab4...\n",
        "7 progeny have been made from virus d4f62 in host cbab4\n",
        "7 progeny generated in host cbab4.\n",
        "Current time is 21. Incrementing time to 22\n",
        "Generating 5 progeny in host cbab4...\n",
        "9 progeny have been made from virus 9f644 in host cbab4"
       ]
      },
      {
       "output_type": "stream",
       "stream": "stdout",
       "text": [
        "\n",
        "9 progeny generated in host cbab4.\n",
        "Current time is 22. Incrementing time to 23\n",
        "Generating 2 progeny in host cbab4...\n",
        "10 progeny have been made from virus bdf55 in host cbab4\n",
        "10 progeny generated in host cbab4.\n",
        "Current time is 23. Incrementing time to 24\n",
        "Generating 6 progeny in host cbab4...\n",
        "10 progeny have been made from virus 4e396 in host cbab4"
       ]
      },
      {
       "output_type": "stream",
       "stream": "stdout",
       "text": [
        "\n",
        "10 progeny generated in host cbab4.\n",
        "Current time is 24. Incrementing time to 25\n",
        "Generating 11 progeny in host cbab4...\n",
        "9 progeny have been made from virus e6de6 in host cbab4"
       ]
      },
      {
       "output_type": "stream",
       "stream": "stdout",
       "text": [
        "\n",
        "5 progeny have been made from virus b9fc6 in host cbab4\n",
        "14 progeny generated in host cbab4.\n",
        "Current time is 25. Incrementing time to 26\n",
        "Generating 5 progeny in host cbab4...\n",
        "9 progeny have been made from virus e70d0 in host cbab4"
       ]
      },
      {
       "output_type": "stream",
       "stream": "stdout",
       "text": [
        "\n",
        "9 progeny generated in host cbab4.\n",
        "Current time is 26. Incrementing time to 27\n",
        "Generating 1 progeny in host cbab4...\n",
        "5 progeny have been made from virus 2486e in host cbab4\n",
        "5 progeny generated in host cbab4.\n",
        "Current time is 27. Incrementing time to 28\n",
        "Generating 0 progeny in host cbab4...\n",
        "0 progeny generated in host cbab4.\n",
        "Current time is 28. Incrementing time to 29\n",
        "Current time is 29. Incrementing time to 30\n",
        "Adding host 49614... to environment 86120...\n",
        "Creating environment 86120\n",
        "Creating virus fc6e4 inside host 49614\n",
        "Current time is 0. Incrementing time to 1\n",
        "Generating 2 progeny in host 49614...\n",
        "7 progeny have been made from virus fc6e4 in host 49614"
       ]
      },
      {
       "output_type": "stream",
       "stream": "stdout",
       "text": [
        "\n",
        "7 progeny generated in host 49614.\n",
        "Current time is 1. Incrementing time to 2\n",
        "Generating 6 progeny in host 49614...\n",
        "6 progeny have been made from virus 6c823 in host 49614\n",
        "6 progeny generated in host 49614.\n",
        "Current time is 2. Incrementing time to 3\n",
        "Generating 5 progeny in host 49614...\n",
        "6 progeny have been made from virus d1e80 in host 49614\n",
        "6 progeny generated in host 49614.\n",
        "Current time is 3. Incrementing time to 4\n",
        "Generating 0 progeny in host 49614...\n",
        "0 progeny generated in host 49614.\n",
        "Current time is 4. Incrementing time to 5\n",
        "Generating 1 progeny in host 49614...\n",
        "8 progeny have been made from virus 88f81 in host 49614"
       ]
      },
      {
       "output_type": "stream",
       "stream": "stdout",
       "text": [
        "\n",
        "8 progeny generated in host 49614.\n",
        "Current time is 5. Incrementing time to 6\n",
        "Generating 15 progeny in host 49614...\n",
        "10 progeny have been made from virus a6653 in host 49614\n",
        "10 progeny have been made from virus 89195 in host 49614\n",
        "20 progeny generated in host 49614.\n",
        "Current time is 6. Incrementing time to 7\n",
        "Generating 16 progeny in host 49614...\n",
        "10 progeny have been made from virus 1b37d in host 49614"
       ]
      },
      {
       "output_type": "stream",
       "stream": "stdout",
       "text": [
        "\n",
        "10 progeny have been made from virus febe4 in host 49614\n",
        "20 progeny generated in host 49614.\n",
        "Current time is 7. Incrementing time to 8\n",
        "Generating 2 progeny in host 49614...\n",
        "7 progeny have been made from virus 67bef in host 49614"
       ]
      },
      {
       "output_type": "stream",
       "stream": "stdout",
       "text": [
        "\n",
        "7 progeny generated in host 49614.\n",
        "Current time is 8. Incrementing time to 9\n",
        "Generating 0 progeny in host 49614...\n",
        "0 progeny generated in host 49614.\n",
        "Current time is 9. Incrementing time to 10\n",
        "Generating 0 progeny in host 49614...\n",
        "0 progeny generated in host 49614.\n",
        "Current time is 10. Incrementing time to 11\n",
        "Current time is 11. Incrementing time to 12\n",
        "Current time is 12. Incrementing time to 13\n",
        "Current time is 13. Incrementing time to 14\n",
        "Current time is 14. Incrementing time to 15\n",
        "Current time is 15. Incrementing time to 16\n",
        "Current time is 16. Incrementing time to 17\n",
        "Current time is 17. Incrementing time to 18\n",
        "Current time is 18. Incrementing time to 19\n",
        "Current time is 19. Incrementing time to 20\n",
        "Current time is 20. Incrementing time to 21\n",
        "Current time is 21. Incrementing time to 22\n",
        "Current time is 22. Incrementing time to 23\n",
        "Current time is 23. Incrementing time to 24\n",
        "Current time is 24. Incrementing time to 25\n",
        "Current time is 25. Incrementing time to 26\n",
        "Current time is 26. Incrementing time to 27\n",
        "Current time is 27. Incrementing time to 28\n",
        "Current time is 28. Incrementing time to 29\n",
        "Current time is 29. Incrementing time to 30\n",
        "Adding host 86883... to environment 35c7c...\n",
        "Creating environment 35c7c\n",
        "Creating virus 64caa inside host 86883\n",
        "Current time is 0. Incrementing time to 1\n",
        "Generating 9 progeny in host 86883...\n",
        "5 progeny have been made from virus 64caa in host 86883\n",
        "5 progeny have been made from virus 64caa in host 86883\n",
        "10 progeny generated in host 86883.\n",
        "Current time is 1. Incrementing time to 2\n",
        "Generating 25 progeny in host 86883...\n",
        "5 progeny have been made from virus 69c3a in host 86883\n",
        "6 progeny have been made from virus 88233 in host 86883\n",
        "8 progeny have been made from virus 5a6b9 in host 86883"
       ]
      },
      {
       "output_type": "stream",
       "stream": "stdout",
       "text": [
        "\n",
        "6 progeny have been made from virus 302d4 in host 86883\n",
        "25 progeny generated in host 86883.\n",
        "Current time is 2. Incrementing time to 3\n",
        "Generating 31 progeny in host 86883...\n",
        "9 progeny have been made from virus 92064 in host 86883\n",
        "10 progeny have been made from virus 83f0c in host 86883"
       ]
      },
      {
       "output_type": "stream",
       "stream": "stdout",
       "text": [
        "\n",
        "5 progeny have been made from virus 5a6b9 in host 86883\n",
        "8 progeny have been made from virus 3258e in host 86883"
       ]
      },
      {
       "output_type": "stream",
       "stream": "stdout",
       "text": [
        "\n",
        "32 progeny generated in host 86883.\n",
        "Current time is 3. Incrementing time to 4\n",
        "Generating 25 progeny in host 86883...\n",
        "8 progeny have been made from virus 8b86b in host 86883\n",
        "10 progeny have been made from virus 4920f in host 86883"
       ]
      },
      {
       "output_type": "stream",
       "stream": "stdout",
       "text": [
        "\n",
        "8 progeny have been made from virus 55c46 in host 86883\n",
        "26 progeny generated in host 86883.\n",
        "Current time is 4. Incrementing time to 5\n",
        "Generating 45 progeny in host 86883...\n",
        "5 progeny have been made from virus 0e78e in host 86883\n",
        "8 progeny have been made from virus d9851 in host 86883"
       ]
      },
      {
       "output_type": "stream",
       "stream": "stdout",
       "text": [
        "\n",
        "10 progeny have been made from virus 8309c in host 86883\n",
        "9 progeny have been made from virus 12a99 in host 86883\n",
        "8 progeny have been made from virus 4afa0 in host 86883"
       ]
      },
      {
       "output_type": "stream",
       "stream": "stdout",
       "text": [
        "\n",
        "5 progeny have been made from virus 41128 in host 86883\n",
        "45 progeny generated in host 86883.\n",
        "Current time is 5. Incrementing time to 6\n",
        "Generating 42 progeny in host 86883...\n",
        "8 progeny have been made from virus 14578 in host 86883\n",
        "10 progeny have been made from virus 9366c in host 86883"
       ]
      },
      {
       "output_type": "stream",
       "stream": "stdout",
       "text": [
        "\n",
        "6 progeny have been made from virus b179d in host 86883\n",
        "9 progeny have been made from virus bbf3b in host 86883"
       ]
      },
      {
       "output_type": "stream",
       "stream": "stdout",
       "text": [
        "\n",
        "7 progeny have been made from virus 14c2a in host 86883\n",
        "7 progeny have been made from virus 97b15 in host 86883"
       ]
      },
      {
       "output_type": "stream",
       "stream": "stdout",
       "text": [
        "\n",
        "47 progeny generated in host 86883.\n",
        "Current time is 6. Incrementing time to 7\n",
        "Generating 43 progeny in host 86883...\n",
        "9 progeny have been made from virus 6b21f in host 86883\n",
        "5 progeny have been made from virus 4a6a6 in host 86883\n",
        "7 progeny have been made from virus fa94c in host 86883"
       ]
      },
      {
       "output_type": "stream",
       "stream": "stdout",
       "text": [
        "\n",
        "9 progeny have been made from virus ddaac in host 86883\n",
        "10 progeny have been made from virus 80cbd in host 86883"
       ]
      },
      {
       "output_type": "stream",
       "stream": "stdout",
       "text": [
        "\n",
        "6 progeny have been made from virus 80cbd in host 86883\n",
        "46 progeny generated in host 86883.\n",
        "Current time is 7. Incrementing time to 8\n",
        "Generating 48 progeny in host 86883...\n",
        "8 progeny have been made from virus f882b in host 86883\n",
        "8 progeny have been made from virus 2345e in host 86883"
       ]
      },
      {
       "output_type": "stream",
       "stream": "stdout",
       "text": [
        "\n",
        "6 progeny have been made from virus aa33c in host 86883\n",
        "9 progeny have been made from virus c79ef in host 86883\n",
        "8 progeny have been made from virus da21b in host 86883"
       ]
      },
      {
       "output_type": "stream",
       "stream": "stdout",
       "text": [
        "\n",
        "5 progeny have been made from virus 2add3 in host 86883\n",
        "8 progeny have been made from virus a610e in host 86883\n",
        "52 progeny generated in host 86883.\n",
        "Current time is 8. Incrementing time to 9\n",
        "Generating 43 progeny in host 86883...\n",
        "6 progeny have been made from virus 9a32b in host 86883"
       ]
      },
      {
       "output_type": "stream",
       "stream": "stdout",
       "text": [
        "\n",
        "8 progeny have been made from virus c07fa in host 86883\n",
        "10 progeny have been made from virus bdf4d in host 86883"
       ]
      },
      {
       "output_type": "stream",
       "stream": "stdout",
       "text": [
        "\n",
        "7 progeny have been made from virus fdded in host 86883\n",
        "9 progeny have been made from virus bdf4d in host 86883"
       ]
      },
      {
       "output_type": "stream",
       "stream": "stdout",
       "text": [
        "\n",
        "10 progeny have been made from virus 9079d in host 86883\n",
        "50 progeny generated in host 86883.\n",
        "Current time is 9. Incrementing time to 10\n",
        "Generating 6 progeny in host 86883...\n",
        "10 progeny have been made from virus e71c8 in host 86883"
       ]
      },
      {
       "output_type": "stream",
       "stream": "stdout",
       "text": [
        "\n",
        "10 progeny generated in host 86883.\n",
        "Current time is 10. Incrementing time to 11\n",
        "Generating 20 progeny in host 86883...\n",
        "9 progeny have been made from virus c826e in host 86883\n",
        "8 progeny have been made from virus 3e109 in host 86883\n",
        "5 progeny have been made from virus 786ef in host 86883"
       ]
      },
      {
       "output_type": "stream",
       "stream": "stdout",
       "text": [
        "\n",
        "22 progeny generated in host 86883.\n",
        "Current time is 11. Incrementing time to 12\n",
        "Generating 26 progeny in host 86883...\n",
        "8 progeny have been made from virus dd13e in host 86883\n",
        "8 progeny have been made from virus 0e519 in host 86883"
       ]
      },
      {
       "output_type": "stream",
       "stream": "stdout",
       "text": [
        "\n",
        "10 progeny have been made from virus df613 in host 86883\n",
        "26 progeny generated in host 86883.\n",
        "Current time is 12. Incrementing time to 13\n",
        "Generating 0 progeny in host 86883...\n",
        "0 progeny generated in host 86883.\n",
        "Current time is 13. Incrementing time to 14\n",
        "Generating 0 progeny in host 86883...\n",
        "0 progeny generated in host 86883.\n",
        "Current time is 14. Incrementing time to 15\n",
        "Current time is 15. Incrementing time to 16\n",
        "Current time is 16. Incrementing time to 17\n",
        "Current time is 17. Incrementing time to 18\n",
        "Current time is 18. Incrementing time to 19\n",
        "Current time is 19. Incrementing time to 20\n",
        "Current time is 20. Incrementing time to 21\n",
        "Current time is 21. Incrementing time to 22\n",
        "Current time is 22. Incrementing time to 23\n",
        "Current time is 23. Incrementing time to 24\n",
        "Current time is 24. Incrementing time to 25\n",
        "Current time is 25. Incrementing time to 26\n",
        "Current time is 26. Incrementing time to 27\n",
        "Current time is 27. Incrementing time to 28\n",
        "Current time is 28. Incrementing time to 29\n",
        "Current time is 29. Incrementing time to 30\n",
        "Adding host fef30... to environment 1bf7c...\n",
        "Creating environment 1bf7c\n",
        "Creating virus 96f44 inside host fef30\n",
        "Current time is 0. Incrementing time to 1\n",
        "Generating 2 progeny in host fef30...\n",
        "6 progeny have been made from virus 96f44 in host fef30\n",
        "6 progeny generated in host fef30.\n",
        "Current time is 1. Incrementing time to 2\n",
        "Generating 12 progeny in host fef30...\n",
        "10 progeny have been made from virus f8e6e in host fef30"
       ]
      },
      {
       "output_type": "stream",
       "stream": "stdout",
       "text": [
        "\n",
        "5 progeny have been made from virus 94fa7 in host fef30\n",
        "15 progeny generated in host fef30.\n",
        "Current time is 2. Incrementing time to 3\n",
        "Generating 15 progeny in host fef30...\n",
        "7 progeny have been made from virus f8e6e in host fef30\n",
        "5 progeny have been made from virus 27d82 in host fef30\n",
        "5 progeny have been made from virus 27d82 in host fef30\n",
        "17 progeny generated in host fef30.\n",
        "Current time is 3. Incrementing time to 4\n",
        "Generating 12 progeny in host fef30...\n",
        "7 progeny have been made from virus 2f82f in host fef30\n",
        "10 progeny have been made from virus 44621 in host fef30"
       ]
      },
      {
       "output_type": "stream",
       "stream": "stdout",
       "text": [
        "\n",
        "17 progeny generated in host fef30.\n",
        "Current time is 4. Incrementing time to 5\n",
        "Generating 65 progeny in host fef30...\n",
        "8 progeny have been made from virus de6b2 in host fef30\n",
        "9 progeny have been made from virus ceb32 in host fef30\n",
        "6 progeny have been made from virus e0109 in host fef30\n",
        "6 progeny have been made from virus 2427c in host fef30"
       ]
      },
      {
       "output_type": "stream",
       "stream": "stdout",
       "text": [
        "\n",
        "8 progeny have been made from virus fb6c1 in host fef30\n",
        "10 progeny have been made from virus fb6c1 in host fef30\n",
        "6 progeny have been made from virus 8bb49 in host fef30"
       ]
      },
      {
       "output_type": "stream",
       "stream": "stdout",
       "text": [
        "\n",
        "7 progeny have been made from virus 0cf8c in host fef30\n",
        "9 progeny have been made from virus 21a82 in host fef30\n",
        "69 progeny generated in host fef30.\n",
        "Current time is 5. Incrementing time to 6\n",
        "Generating 83 progeny in host fef30...\n",
        "8 progeny have been made from virus dcc0e in host fef30"
       ]
      },
      {
       "output_type": "stream",
       "stream": "stdout",
       "text": [
        "\n",
        "7 progeny have been made from virus a28e4 in host fef30\n",
        "5 progeny have been made from virus 8eb64 in host fef30\n",
        "8 progeny have been made from virus a28e4 in host fef30\n",
        "9 progeny have been made from virus f7bac in host fef30"
       ]
      },
      {
       "output_type": "stream",
       "stream": "stdout",
       "text": [
        "\n",
        "9 progeny have been made from virus 28bc2 in host fef30\n",
        "7 progeny have been made from virus 25cd7 in host fef30\n",
        "7 progeny have been made from virus 6ccc2 in host fef30"
       ]
      },
      {
       "output_type": "stream",
       "stream": "stdout",
       "text": [
        "\n",
        "9 progeny have been made from virus 51b76 in host fef30\n",
        "10 progeny have been made from virus 9691a in host fef30"
       ]
      },
      {
       "output_type": "stream",
       "stream": "stdout",
       "text": [
        "\n",
        "6 progeny have been made from virus cb2cd in host fef30\n",
        "85 progeny generated in host fef30.\n",
        "Current time is 6. Incrementing time to 7\n",
        "Generating 30 progeny in host fef30...\n",
        "6 progeny have been made from virus 8fb45 in host fef30\n",
        "10 progeny have been made from virus 02ba5 in host fef30"
       ]
      },
      {
       "output_type": "stream",
       "stream": "stdout",
       "text": [
        "\n",
        "6 progeny have been made from virus 49c2c in host fef30\n",
        "5 progeny have been made from virus f0632 in host fef30\n",
        "9 progeny have been made from virus 924a4 in host fef30"
       ]
      },
      {
       "output_type": "stream",
       "stream": "stdout",
       "text": [
        "\n",
        "36 progeny generated in host fef30.\n",
        "Current time is 7. Incrementing time to 8\n",
        "Generating 57 progeny in host fef30...\n",
        "9 progeny have been made from virus 57439 in host fef30\n",
        "5 progeny have been made from virus b33dc in host fef30\n",
        "9 progeny have been made from virus 950d8 in host fef30"
       ]
      },
      {
       "output_type": "stream",
       "stream": "stdout",
       "text": [
        "\n",
        "6 progeny have been made from virus 57439 in host fef30\n",
        "7 progeny have been made from virus 1177a in host fef30"
       ]
      },
      {
       "output_type": "stream",
       "stream": "stdout",
       "text": [
        "\n",
        "7 progeny have been made from virus f0f6c in host fef30\n",
        "9 progeny have been made from virus 61757 in host fef30"
       ]
      },
      {
       "output_type": "stream",
       "stream": "stdout",
       "text": [
        "\n",
        "9 progeny have been made from virus bc75b in host fef30\n",
        "61 progeny generated in host fef30.\n",
        "Current time is 8. Incrementing time to 9\n",
        "Generating 8 progeny in host fef30...\n",
        "6 progeny have been made from virus 9391d in host fef30\n",
        "7 progeny have been made from virus 02100 in host fef30"
       ]
      },
      {
       "output_type": "stream",
       "stream": "stdout",
       "text": [
        "\n",
        "13 progeny generated in host fef30.\n",
        "Current time is 9. Incrementing time to 10\n",
        "Generating 23 progeny in host fef30...\n",
        "7 progeny have been made from virus abdc1 in host fef30\n",
        "10 progeny have been made from virus 6ffdf in host fef30\n",
        "6 progeny have been made from virus 69d78 in host fef30"
       ]
      },
      {
       "output_type": "stream",
       "stream": "stdout",
       "text": [
        "\n",
        "23 progeny generated in host fef30.\n",
        "Current time is 10. Incrementing time to 11\n",
        "Generating 20 progeny in host fef30...\n",
        "5 progeny have been made from virus caea7 in host fef30\n",
        "6 progeny have been made from virus c155f in host fef30\n",
        "5 progeny have been made from virus ffdfe in host fef30"
       ]
      },
      {
       "output_type": "stream",
       "stream": "stdout",
       "text": [
        "\n",
        "10 progeny have been made from virus c3d1e in host fef30\n",
        "26 progeny generated in host fef30.\n",
        "Current time is 11. Incrementing time to 12\n",
        "Generating 11 progeny in host fef30...\n",
        "9 progeny have been made from virus 2ad7c in host fef30"
       ]
      },
      {
       "output_type": "stream",
       "stream": "stdout",
       "text": [
        "\n",
        "5 progeny have been made from virus 5c003 in host fef30\n",
        "14 progeny generated in host fef30.\n",
        "Current time is 12. Incrementing time to 13\n",
        "Generating 7 progeny in host fef30...\n",
        "5 progeny have been made from virus 8a44d in host fef30\n",
        "6 progeny have been made from virus 8a44d in host fef30\n",
        "11 progeny generated in host fef30.\n",
        "Current time is 13. Incrementing time to 14\n",
        "Generating 10 progeny in host fef30...\n",
        "6 progeny have been made from virus d2a8b in host fef30"
       ]
      },
      {
       "output_type": "stream",
       "stream": "stdout",
       "text": [
        "\n",
        "7 progeny have been made from virus ba4a3 in host fef30\n",
        "13 progeny generated in host fef30.\n",
        "Current time is 14. Incrementing time to 15\n",
        "Generating 8 progeny in host fef30...\n",
        "10 progeny have been made from virus 3bd1c in host fef30"
       ]
      },
      {
       "output_type": "stream",
       "stream": "stdout",
       "text": [
        "\n",
        "10 progeny generated in host fef30.\n",
        "Current time is 15. Incrementing time to 16\n",
        "Generating 11 progeny in host fef30...\n",
        "7 progeny have been made from virus 5d68b in host fef30\n",
        "9 progeny have been made from virus 1c068 in host fef30"
       ]
      },
      {
       "output_type": "stream",
       "stream": "stdout",
       "text": [
        "\n",
        "16 progeny generated in host fef30.\n",
        "Current time is 16. Incrementing time to 17\n",
        "Generating 0 progeny in host fef30...\n",
        "0 progeny generated in host fef30.\n",
        "Current time is 17. Incrementing time to 18\n",
        "Generating 0 progeny in host fef30...\n",
        "0 progeny generated in host fef30.\n",
        "Current time is 18. Incrementing time to 19\n",
        "Current time is 19. Incrementing time to 20\n",
        "Current time is 20. Incrementing time to 21\n",
        "Current time is 21. Incrementing time to 22\n",
        "Current time is 22. Incrementing time to 23\n",
        "Current time is 23. Incrementing time to 24\n",
        "Current time is 24. Incrementing time to 25\n",
        "Current time is 25. Incrementing time to 26\n",
        "Current time is 26. Incrementing time to 27\n",
        "Current time is 27. Incrementing time to 28\n",
        "Current time is 28. Incrementing time to 29\n",
        "Current time is 29. Incrementing time to 30\n",
        "Adding host cc747... to environment f0f37...\n",
        "Creating environment f0f37\n",
        "Creating virus bf4df inside host cc747\n",
        "Current time is 0. Incrementing time to 1\n",
        "Generating 5 progeny in host cc747...\n",
        "6 progeny have been made from virus bf4df in host cc747\n",
        "6 progeny generated in host cc747.\n",
        "Current time is 1. Incrementing time to 2\n",
        "Generating 13 progeny in host cc747...\n",
        "8 progeny have been made from virus 599b2 in host cc747\n",
        "10 progeny have been made from virus e2cfc in host cc747\n",
        "18 progeny generated in host cc747.\n",
        "Current time is 2. Incrementing time to 3\n",
        "Generating 69 progeny in host cc747...\n",
        "9 progeny have been made from virus 62d12 in host cc747"
       ]
      },
      {
       "output_type": "stream",
       "stream": "stdout",
       "text": [
        "\n",
        "7 progeny have been made from virus 263c5 in host cc747\n",
        "8 progeny have been made from virus 47022 in host cc747\n",
        "7 progeny have been made from virus 206ad in host cc747\n",
        "5 progeny have been made from virus 1dca5 in host cc747"
       ]
      },
      {
       "output_type": "stream",
       "stream": "stdout",
       "text": [
        "\n",
        "5 progeny have been made from virus 351e9 in host cc747\n",
        "6 progeny have been made from virus 6b796 in host cc747\n",
        "5 progeny have been made from virus 47022 in host cc747\n",
        "6 progeny have been made from virus e2cfc in host cc747"
       ]
      },
      {
       "output_type": "stream",
       "stream": "stdout",
       "text": [
        "\n",
        "9 progeny have been made from virus 5fcf2 in host cc747\n",
        "5 progeny have been made from virus 351e9 in host cc747\n",
        "72 progeny generated in host cc747.\n",
        "Current time is 3. Incrementing time to 4\n",
        "Generating 102 progeny in host cc747...\n",
        "8 progeny have been made from virus 62d12 in host cc747\n",
        "7 progeny have been made from virus 71125 in host cc747"
       ]
      },
      {
       "output_type": "stream",
       "stream": "stdout",
       "text": [
        "\n",
        "6 progeny have been made from virus c3aad in host cc747\n",
        "9 progeny have been made from virus b54ed in host cc747\n",
        "9 progeny have been made from virus 79897 in host cc747"
       ]
      },
      {
       "output_type": "stream",
       "stream": "stdout",
       "text": [
        "\n",
        "10 progeny have been made from virus 01b55 in host cc747\n",
        "8 progeny have been made from virus 3603e in host cc747\n",
        "8 progeny have been made from virus b4bf3 in host cc747"
       ]
      },
      {
       "output_type": "stream",
       "stream": "stdout",
       "text": [
        "\n",
        "8 progeny have been made from virus 88a5b in host cc747\n",
        "7 progeny have been made from virus 49cd1 in host cc747\n",
        "5 progeny have been made from virus 6ce69 in host cc747\n",
        "7 progeny have been made from virus 8f490 in host cc747"
       ]
      },
      {
       "output_type": "stream",
       "stream": "stdout",
       "text": [
        "\n",
        "6 progeny have been made from virus 85a4f in host cc747\n",
        "9 progeny have been made from virus c0952 in host cc747\n",
        "107 progeny generated in host cc747.\n",
        "Current time is 4. Incrementing time to 5\n",
        "Generating 161 progeny in host cc747...\n",
        "9 progeny have been made from virus 0482e in host cc747"
       ]
      },
      {
       "output_type": "stream",
       "stream": "stdout",
       "text": [
        "\n",
        "10 progeny have been made from virus 157a3 in host cc747\n",
        "5 progeny have been made from virus d34a2 in host cc747\n",
        "5 progeny have been made from virus d4c1c in host cc747"
       ]
      },
      {
       "output_type": "stream",
       "stream": "stdout",
       "text": [
        "\n",
        "9 progeny have been made from virus 0d009 in host cc747\n",
        "7 progeny have been made from virus 2b24c in host cc747\n",
        "7 progeny have been made from virus 94d7e in host cc747"
       ]
      },
      {
       "output_type": "stream",
       "stream": "stdout",
       "text": [
        "\n",
        "8 progeny have been made from virus 008fd in host cc747\n",
        "6 progeny have been made from virus b66d3 in host cc747\n",
        "8 progeny have been made from virus 5f559 in host cc747"
       ]
      },
      {
       "output_type": "stream",
       "stream": "stdout",
       "text": [
        "\n",
        "9 progeny have been made from virus 3715d in host cc747\n",
        "8 progeny have been made from virus 183cd in host cc747"
       ]
      },
      {
       "output_type": "stream",
       "stream": "stdout",
       "text": [
        "\n",
        "7 progeny have been made from virus 7ad96 in host cc747\n",
        "8 progeny have been made from virus 6f9d4 in host cc747"
       ]
      },
      {
       "output_type": "stream",
       "stream": "stdout",
       "text": [
        "\n",
        "8 progeny have been made from virus 9ee25 in host cc747\n",
        "9 progeny have been made from virus a1fd3 in host cc747"
       ]
      },
      {
       "output_type": "stream",
       "stream": "stdout",
       "text": [
        "\n",
        "9 progeny have been made from virus 6f236 in host cc747\n",
        "7 progeny have been made from virus 0482e in host cc747"
       ]
      },
      {
       "output_type": "stream",
       "stream": "stdout",
       "text": [
        "\n",
        "7 progeny have been made from virus 3516e in host cc747\n",
        "10 progeny have been made from virus 0f3b7 in host cc747"
       ]
      },
      {
       "output_type": "stream",
       "stream": "stdout",
       "text": [
        "\n",
        "7 progeny have been made from virus 5f559 in host cc747\n",
        "163 progeny generated in host cc747.\n",
        "Current time is 5. Incrementing time to 6\n",
        "Generating 303 progeny in host cc747...\n",
        "5 progeny have been made from virus 70ed8 in host cc747\n",
        "7 progeny have been made from virus 5213a in host cc747"
       ]
      },
      {
       "output_type": "stream",
       "stream": "stdout",
       "text": [
        "\n",
        "10 progeny have been made from virus 09c26 in host cc747\n",
        "8 progeny have been made from virus 9b5b0 in host cc747"
       ]
      },
      {
       "output_type": "stream",
       "stream": "stdout",
       "text": [
        "\n",
        "7 progeny have been made from virus 7ac07 in host cc747\n",
        "7 progeny have been made from virus 87d02 in host cc747\n",
        "8 progeny have been made from virus 70343 in host cc747"
       ]
      },
      {
       "output_type": "stream",
       "stream": "stdout",
       "text": [
        "\n",
        "9 progeny have been made from virus a16b7 in host cc747\n",
        "9 progeny have been made from virus 0d009 in host cc747"
       ]
      },
      {
       "output_type": "stream",
       "stream": "stdout",
       "text": [
        "\n",
        "9 progeny have been made from virus 9df4f in host cc747\n",
        "10 progeny have been made from virus bdb68 in host cc747"
       ]
      },
      {
       "output_type": "stream",
       "stream": "stdout",
       "text": [
        "\n",
        "10 progeny have been made from virus bc9f4 in host cc747\n",
        "5 progeny have been made from virus 810f6 in host cc747"
       ]
      },
      {
       "output_type": "stream",
       "stream": "stdout",
       "text": [
        "\n",
        "9 progeny have been made from virus 889a1 in host cc747\n",
        "9 progeny have been made from virus 26b03 in host cc747"
       ]
      },
      {
       "output_type": "stream",
       "stream": "stdout",
       "text": [
        "\n",
        "10 progeny have been made from virus acd16 in host cc747\n",
        "7 progeny have been made from virus e0a9a in host cc747"
       ]
      },
      {
       "output_type": "stream",
       "stream": "stdout",
       "text": [
        "\n",
        "8 progeny have been made from virus 7a5a8 in host cc747\n",
        "6 progeny have been made from virus 889a1 in host cc747"
       ]
      },
      {
       "output_type": "stream",
       "stream": "stdout",
       "text": [
        "\n",
        "9 progeny have been made from virus eca91 in host cc747\n",
        "8 progeny have been made from virus 8a3b0 in host cc747"
       ]
      },
      {
       "output_type": "stream",
       "stream": "stdout",
       "text": [
        "\n",
        "9 progeny have been made from virus 91741 in host cc747\n",
        "6 progeny have been made from virus c6c94 in host cc747"
       ]
      },
      {
       "output_type": "stream",
       "stream": "stdout",
       "text": [
        "\n",
        "6 progeny have been made from virus 38c92 in host cc747\n",
        "5 progeny have been made from virus 6b551 in host cc747\n",
        "5 progeny have been made from virus f9f3a in host cc747"
       ]
      },
      {
       "output_type": "stream",
       "stream": "stdout",
       "text": [
        "\n",
        "8 progeny have been made from virus 1da89 in host cc747\n",
        "9 progeny have been made from virus 79897 in host cc747"
       ]
      },
      {
       "output_type": "stream",
       "stream": "stdout",
       "text": [
        "\n",
        "10 progeny have been made from virus c5fa8 in host cc747\n",
        "5 progeny have been made from virus 0ebef in host cc747"
       ]
      },
      {
       "output_type": "stream",
       "stream": "stdout",
       "text": [
        "\n",
        "8 progeny have been made from virus e57d9 in host cc747\n",
        "5 progeny have been made from virus a16b7 in host cc747"
       ]
      },
      {
       "output_type": "stream",
       "stream": "stdout",
       "text": [
        "\n",
        "9 progeny have been made from virus a2dbe in host cc747\n",
        "9 progeny have been made from virus 0ebef in host cc747"
       ]
      },
      {
       "output_type": "stream",
       "stream": "stdout",
       "text": [
        "\n",
        "8 progeny have been made from virus 3a8e8 in host cc747\n",
        "10 progeny have been made from virus 6751a in host cc747"
       ]
      },
      {
       "output_type": "stream",
       "stream": "stdout",
       "text": [
        "\n",
        "7 progeny have been made from virus f8f93 in host cc747\n",
        "5 progeny have been made from virus 34a2d in host cc747"
       ]
      },
      {
       "output_type": "stream",
       "stream": "stdout",
       "text": [
        "\n",
        "8 progeny have been made from virus d8b6a in host cc747\n",
        "6 progeny have been made from virus f437f in host cc747"
       ]
      },
      {
       "output_type": "stream",
       "stream": "stdout",
       "text": [
        "\n",
        "308 progeny generated in host cc747.\n",
        "Current time is 6. Incrementing time to 7\n",
        "Generating 231 progeny in host cc747...\n",
        "7 progeny have been made from virus 1c48f in host cc747\n",
        "5 progeny have been made from virus f7685 in host cc747"
       ]
      },
      {
       "output_type": "stream",
       "stream": "stdout",
       "text": [
        "\n",
        "6 progeny have been made from virus e2c79 in host cc747\n",
        "9 progeny have been made from virus 8643e in host cc747"
       ]
      },
      {
       "output_type": "stream",
       "stream": "stdout",
       "text": [
        "\n",
        "10 progeny have been made from virus 4e531 in host cc747"
       ]
      },
      {
       "output_type": "stream",
       "stream": "stdout",
       "text": [
        "\n",
        "8 progeny have been made from virus 47e7c in host cc747\n",
        "5 progeny have been made from virus 14f3a in host cc747"
       ]
      },
      {
       "output_type": "stream",
       "stream": "stdout",
       "text": [
        "\n",
        "6 progeny have been made from virus b0df1 in host cc747\n",
        "10 progeny have been made from virus b37a4 in host cc747"
       ]
      },
      {
       "output_type": "stream",
       "stream": "stdout",
       "text": [
        "\n",
        "10 progeny have been made from virus 302d4 in host cc747"
       ]
      },
      {
       "output_type": "stream",
       "stream": "stdout",
       "text": [
        "\n",
        "7 progeny have been made from virus 88521 in host cc747"
       ]
      },
      {
       "output_type": "stream",
       "stream": "stdout",
       "text": [
        "\n",
        "7 progeny have been made from virus 86e13 in host cc747\n",
        "10 progeny have been made from virus 0f0b4 in host cc747"
       ]
      },
      {
       "output_type": "stream",
       "stream": "stdout",
       "text": [
        "\n",
        "10 progeny have been made from virus 9c7a8 in host cc747"
       ]
      },
      {
       "output_type": "stream",
       "stream": "stdout",
       "text": [
        "\n",
        "5 progeny have been made from virus 8454e in host cc747\n",
        "10 progeny have been made from virus cc8d4 in host cc747"
       ]
      },
      {
       "output_type": "stream",
       "stream": "stdout",
       "text": [
        "\n",
        "10 progeny have been made from virus 0e4a7 in host cc747"
       ]
      },
      {
       "output_type": "stream",
       "stream": "stdout",
       "text": [
        "\n",
        "5 progeny have been made from virus ff624 in host cc747\n",
        "10 progeny have been made from virus 2c479 in host cc747"
       ]
      },
      {
       "output_type": "stream",
       "stream": "stdout",
       "text": [
        "\n",
        "9 progeny have been made from virus ab626 in host cc747"
       ]
      },
      {
       "output_type": "stream",
       "stream": "stdout",
       "text": [
        "\n",
        "10 progeny have been made from virus 42505 in host cc747"
       ]
      },
      {
       "output_type": "stream",
       "stream": "stdout",
       "text": [
        "\n",
        "8 progeny have been made from virus 67cef in host cc747"
       ]
      },
      {
       "output_type": "stream",
       "stream": "stdout",
       "text": [
        "\n",
        "8 progeny have been made from virus 73fe9 in host cc747"
       ]
      },
      {
       "output_type": "stream",
       "stream": "stdout",
       "text": [
        "\n",
        "7 progeny have been made from virus 8b40d in host cc747\n",
        "8 progeny have been made from virus 35db4 in host cc747"
       ]
      },
      {
       "output_type": "stream",
       "stream": "stdout",
       "text": [
        "\n",
        "6 progeny have been made from virus 548df in host cc747\n",
        "10 progeny have been made from virus 1d305 in host cc747"
       ]
      },
      {
       "output_type": "stream",
       "stream": "stdout",
       "text": [
        "\n",
        "5 progeny have been made from virus 2417b in host cc747\n",
        "10 progeny have been made from virus 62fca in host cc747"
       ]
      },
      {
       "output_type": "stream",
       "stream": "stdout",
       "text": [
        "\n",
        "231 progeny generated in host cc747.\n",
        "Current time is 7. Incrementing time to 8\n",
        "Generating 404 progeny in host cc747...\n",
        "9 progeny have been made from virus 4b028 in host cc747"
       ]
      },
      {
       "output_type": "stream",
       "stream": "stdout",
       "text": [
        "\n",
        "8 progeny have been made from virus 98f82 in host cc747\n",
        "9 progeny have been made from virus a83b9 in host cc747"
       ]
      },
      {
       "output_type": "stream",
       "stream": "stdout",
       "text": [
        "\n",
        "7 progeny have been made from virus 7de49 in host cc747"
       ]
      },
      {
       "output_type": "stream",
       "stream": "stdout",
       "text": [
        "\n",
        "6 progeny have been made from virus b08fe in host cc747\n",
        "6 progeny have been made from virus b9941 in host cc747"
       ]
      },
      {
       "output_type": "stream",
       "stream": "stdout",
       "text": [
        "\n",
        "6 progeny have been made from virus 9ed13 in host cc747\n",
        "9 progeny have been made from virus a6d8f in host cc747"
       ]
      },
      {
       "output_type": "stream",
       "stream": "stdout",
       "text": [
        "\n",
        "5 progeny have been made from virus ddaed in host cc747\n",
        "5 progeny have been made from virus 0080b in host cc747"
       ]
      },
      {
       "output_type": "stream",
       "stream": "stdout",
       "text": [
        "\n",
        "10 progeny have been made from virus c3cbc in host cc747"
       ]
      },
      {
       "output_type": "stream",
       "stream": "stdout",
       "text": [
        "\n",
        "7 progeny have been made from virus 2b150 in host cc747\n",
        "10 progeny have been made from virus edc8e in host cc747"
       ]
      },
      {
       "output_type": "stream",
       "stream": "stdout",
       "text": [
        "\n",
        "5 progeny have been made from virus e71db in host cc747\n",
        "7 progeny have been made from virus a6384 in host cc747"
       ]
      },
      {
       "output_type": "stream",
       "stream": "stdout",
       "text": [
        "\n",
        "7 progeny have been made from virus 8b40d in host cc747"
       ]
      },
      {
       "output_type": "stream",
       "stream": "stdout",
       "text": [
        "\n",
        "7 progeny have been made from virus 1c68a in host cc747"
       ]
      },
      {
       "output_type": "stream",
       "stream": "stdout",
       "text": [
        "\n",
        "10 progeny have been made from virus 302d4 in host cc747"
       ]
      },
      {
       "output_type": "stream",
       "stream": "stdout",
       "text": [
        "\n",
        "7 progeny have been made from virus 62a4b in host cc747"
       ]
      },
      {
       "output_type": "stream",
       "stream": "stdout",
       "text": [
        "\n",
        "5 progeny have been made from virus cc02d in host cc747\n",
        "8 progeny have been made from virus bdb23 in host cc747"
       ]
      },
      {
       "output_type": "stream",
       "stream": "stdout",
       "text": [
        "\n",
        "5 progeny have been made from virus 4cc41 in host cc747\n",
        "6 progeny have been made from virus 6957c in host cc747"
       ]
      },
      {
       "output_type": "stream",
       "stream": "stdout",
       "text": [
        "\n",
        "8 progeny have been made from virus 79150 in host cc747\n",
        "5 progeny have been made from virus aaf0d in host cc747"
       ]
      },
      {
       "output_type": "stream",
       "stream": "stdout",
       "text": [
        "\n",
        "7 progeny have been made from virus f7f05 in host cc747"
       ]
      },
      {
       "output_type": "stream",
       "stream": "stdout",
       "text": [
        "\n",
        "5 progeny have been made from virus 99458 in host cc747\n",
        "6 progeny have been made from virus 6ad03 in host cc747"
       ]
      },
      {
       "output_type": "stream",
       "stream": "stdout",
       "text": [
        "\n",
        "10 progeny have been made from virus a929a in host cc747"
       ]
      },
      {
       "output_type": "stream",
       "stream": "stdout",
       "text": [
        "\n",
        "6 progeny have been made from virus 24b82 in host cc747\n",
        "9 progeny have been made from virus 6ad03 in host cc747"
       ]
      },
      {
       "output_type": "stream",
       "stream": "stdout",
       "text": [
        "\n",
        "10 progeny have been made from virus b45c8 in host cc747"
       ]
      },
      {
       "output_type": "stream",
       "stream": "stdout",
       "text": [
        "\n",
        "9 progeny have been made from virus 11782 in host cc747"
       ]
      },
      {
       "output_type": "stream",
       "stream": "stdout",
       "text": [
        "\n",
        "7 progeny have been made from virus 36b9c in host cc747"
       ]
      },
      {
       "output_type": "stream",
       "stream": "stdout",
       "text": [
        "\n",
        "9 progeny have been made from virus 01f90 in host cc747"
       ]
      },
      {
       "output_type": "stream",
       "stream": "stdout",
       "text": [
        "\n",
        "8 progeny have been made from virus 4687e in host cc747"
       ]
      },
      {
       "output_type": "stream",
       "stream": "stdout",
       "text": [
        "\n",
        "9 progeny have been made from virus 86314 in host cc747"
       ]
      },
      {
       "output_type": "stream",
       "stream": "stdout",
       "text": [
        "\n",
        "8 progeny have been made from virus 78302 in host cc747"
       ]
      },
      {
       "output_type": "stream",
       "stream": "stdout",
       "text": [
        "\n",
        "8 progeny have been made from virus c95d5 in host cc747"
       ]
      },
      {
       "output_type": "stream",
       "stream": "stdout",
       "text": [
        "\n",
        "8 progeny have been made from virus 0276b in host cc747"
       ]
      },
      {
       "output_type": "stream",
       "stream": "stdout",
       "text": [
        "\n",
        "9 progeny have been made from virus 9ce5f in host cc747"
       ]
      },
      {
       "output_type": "stream",
       "stream": "stdout",
       "text": [
        "\n",
        "6 progeny have been made from virus 062c1 in host cc747"
       ]
      },
      {
       "output_type": "stream",
       "stream": "stdout",
       "text": [
        "\n",
        "9 progeny have been made from virus f7b61 in host cc747"
       ]
      },
      {
       "output_type": "stream",
       "stream": "stdout",
       "text": [
        "\n",
        "6 progeny have been made from virus 75a09 in host cc747\n",
        "9 progeny have been made from virus f98ec in host cc747"
       ]
      },
      {
       "output_type": "stream",
       "stream": "stdout",
       "text": [
        "\n",
        "7 progeny have been made from virus 4e826 in host cc747"
       ]
      },
      {
       "output_type": "stream",
       "stream": "stdout",
       "text": [
        "\n",
        "6 progeny have been made from virus a6384 in host cc747"
       ]
      },
      {
       "output_type": "stream",
       "stream": "stdout",
       "text": [
        "\n",
        "10 progeny have been made from virus a518e in host cc747"
       ]
      },
      {
       "output_type": "stream",
       "stream": "stdout",
       "text": [
        "\n",
        "10 progeny have been made from virus c3cbc in host cc747"
       ]
      },
      {
       "output_type": "stream",
       "stream": "stdout",
       "text": [
        "\n",
        "9 progeny have been made from virus 915a0 in host cc747"
       ]
      },
      {
       "output_type": "stream",
       "stream": "stdout",
       "text": [
        "\n",
        "7 progeny have been made from virus 8f863 in host cc747"
       ]
      },
      {
       "output_type": "stream",
       "stream": "stdout",
       "text": [
        "\n",
        "10 progeny have been made from virus 89741 in host cc747"
       ]
      },
      {
       "output_type": "stream",
       "stream": "stdout",
       "text": [
        "\n",
        "7 progeny have been made from virus e25f4 in host cc747"
       ]
      },
      {
       "output_type": "stream",
       "stream": "stdout",
       "text": [
        "\n",
        "10 progeny have been made from virus b074f in host cc747"
       ]
      },
      {
       "output_type": "stream",
       "stream": "stdout",
       "text": [
        "\n",
        "411 progeny generated in host cc747.\n",
        "Current time is 8. Incrementing time to 9\n",
        "Generating 234 progeny in host cc747...\n",
        "9 progeny have been made from virus 8cd45 in host cc747"
       ]
      },
      {
       "output_type": "stream",
       "stream": "stdout",
       "text": [
        "\n",
        "9 progeny have been made from virus 76767 in host cc747"
       ]
      },
      {
       "output_type": "stream",
       "stream": "stdout",
       "text": [
        "\n",
        "8 progeny have been made from virus 6cf27 in host cc747"
       ]
      },
      {
       "output_type": "stream",
       "stream": "stdout",
       "text": [
        "\n",
        "8 progeny have been made from virus 490bd in host cc747"
       ]
      },
      {
       "output_type": "stream",
       "stream": "stdout",
       "text": [
        "\n",
        "8 progeny have been made from virus 70627 in host cc747"
       ]
      },
      {
       "output_type": "stream",
       "stream": "stdout",
       "text": [
        "\n",
        "6 progeny have been made from virus 7e593 in host cc747"
       ]
      },
      {
       "output_type": "stream",
       "stream": "stdout",
       "text": [
        "\n",
        "6 progeny have been made from virus db4f1 in host cc747"
       ]
      },
      {
       "output_type": "stream",
       "stream": "stdout",
       "text": [
        "\n",
        "9 progeny have been made from virus 64e42 in host cc747"
       ]
      },
      {
       "output_type": "stream",
       "stream": "stdout",
       "text": [
        "\n",
        "7 progeny have been made from virus 8037a in host cc747"
       ]
      },
      {
       "output_type": "stream",
       "stream": "stdout",
       "text": [
        "\n",
        "8 progeny have been made from virus 7d0be in host cc747"
       ]
      },
      {
       "output_type": "stream",
       "stream": "stdout",
       "text": [
        "\n",
        "8 progeny have been made from virus f1737 in host cc747"
       ]
      },
      {
       "output_type": "stream",
       "stream": "stdout",
       "text": [
        "\n",
        "7 progeny have been made from virus bea9f in host cc747"
       ]
      },
      {
       "output_type": "stream",
       "stream": "stdout",
       "text": [
        "\n",
        "8 progeny have been made from virus 56910 in host cc747"
       ]
      },
      {
       "output_type": "stream",
       "stream": "stdout",
       "text": [
        "\n",
        "8 progeny have been made from virus 6e1a5 in host cc747"
       ]
      },
      {
       "output_type": "stream",
       "stream": "stdout",
       "text": [
        "\n",
        "8 progeny have been made from virus 67771 in host cc747"
       ]
      },
      {
       "output_type": "stream",
       "stream": "stdout",
       "text": [
        "\n",
        "8 progeny have been made from virus 44e9b in host cc747"
       ]
      },
      {
       "output_type": "stream",
       "stream": "stdout",
       "text": [
        "\n",
        "10 progeny have been made from virus c0cf1 in host cc747"
       ]
      },
      {
       "output_type": "stream",
       "stream": "stdout",
       "text": [
        "\n",
        "8 progeny have been made from virus 3363f in host cc747"
       ]
      },
      {
       "output_type": "stream",
       "stream": "stdout",
       "text": [
        "\n",
        "9 progeny have been made from virus ab9a5 in host cc747"
       ]
      },
      {
       "output_type": "stream",
       "stream": "stdout",
       "text": [
        "\n",
        "5 progeny have been made from virus e3efd in host cc747\n",
        "10 progeny have been made from virus 90916 in host cc747"
       ]
      },
      {
       "output_type": "stream",
       "stream": "stdout",
       "text": [
        "\n",
        "6 progeny have been made from virus 13753 in host cc747"
       ]
      },
      {
       "output_type": "stream",
       "stream": "stdout",
       "text": [
        "\n",
        "6 progeny have been made from virus 2cd1c in host cc747"
       ]
      },
      {
       "output_type": "stream",
       "stream": "stdout",
       "text": [
        "\n",
        "8 progeny have been made from virus 6cd29 in host cc747"
       ]
      },
      {
       "output_type": "stream",
       "stream": "stdout",
       "text": [
        "\n",
        "6 progeny have been made from virus 08421 in host cc747"
       ]
      },
      {
       "output_type": "stream",
       "stream": "stdout",
       "text": [
        "\n",
        "9 progeny have been made from virus f9f73 in host cc747"
       ]
      },
      {
       "output_type": "stream",
       "stream": "stdout",
       "text": [
        "\n",
        "8 progeny have been made from virus 09ef3 in host cc747"
       ]
      },
      {
       "output_type": "stream",
       "stream": "stdout",
       "text": [
        "\n",
        "5 progeny have been made from virus 0cba6 in host cc747"
       ]
      },
      {
       "output_type": "stream",
       "stream": "stdout",
       "text": [
        "\n",
        "8 progeny have been made from virus 9d6da in host cc747"
       ]
      },
      {
       "output_type": "stream",
       "stream": "stdout",
       "text": [
        "\n",
        "6 progeny have been made from virus 445fc in host cc747\n",
        "10 progeny have been made from virus 6cd29 in host cc747"
       ]
      },
      {
       "output_type": "stream",
       "stream": "stdout",
       "text": [
        "\n",
        "239 progeny generated in host cc747.\n",
        "Current time is 9. Incrementing time to 10\n",
        "Generating 431 progeny in host cc747...\n",
        "7 progeny have been made from virus 2d6f6 in host cc747"
       ]
      },
      {
       "output_type": "stream",
       "stream": "stdout",
       "text": [
        "\n",
        "6 progeny have been made from virus 1f34a in host cc747"
       ]
      },
      {
       "output_type": "stream",
       "stream": "stdout",
       "text": [
        "\n",
        "9 progeny have been made from virus 86228 in host cc747"
       ]
      },
      {
       "output_type": "stream",
       "stream": "stdout",
       "text": [
        "\n",
        "9 progeny have been made from virus 57542 in host cc747"
       ]
      },
      {
       "output_type": "stream",
       "stream": "stdout",
       "text": [
        "\n",
        "10 progeny have been made from virus 7ef4f in host cc747"
       ]
      },
      {
       "output_type": "stream",
       "stream": "stdout",
       "text": [
        "\n",
        "8 progeny have been made from virus c60ca in host cc747"
       ]
      },
      {
       "output_type": "stream",
       "stream": "stdout",
       "text": [
        "\n",
        "5 progeny have been made from virus a6314 in host cc747"
       ]
      },
      {
       "output_type": "stream",
       "stream": "stdout",
       "text": [
        "\n",
        "10 progeny have been made from virus e5d3c in host cc747"
       ]
      },
      {
       "output_type": "stream",
       "stream": "stdout",
       "text": [
        "\n",
        "8 progeny have been made from virus 3f006 in host cc747"
       ]
      },
      {
       "output_type": "stream",
       "stream": "stdout",
       "text": [
        "\n",
        "10 progeny have been made from virus e5df6 in host cc747"
       ]
      },
      {
       "output_type": "stream",
       "stream": "stdout",
       "text": [
        "\n",
        "8 progeny have been made from virus ca411 in host cc747"
       ]
      },
      {
       "output_type": "stream",
       "stream": "stdout",
       "text": [
        "\n",
        "10 progeny have been made from virus 73d2d in host cc747"
       ]
      },
      {
       "output_type": "stream",
       "stream": "stdout",
       "text": [
        "\n",
        "5 progeny have been made from virus c9d1f in host cc747\n",
        "6 progeny have been made from virus 9d37a in host cc747"
       ]
      },
      {
       "output_type": "stream",
       "stream": "stdout",
       "text": [
        "\n",
        "10 progeny have been made from virus ed850 in host cc747"
       ]
      },
      {
       "output_type": "stream",
       "stream": "stdout",
       "text": [
        "\n",
        "10 progeny have been made from virus 869ac in host cc747"
       ]
      },
      {
       "output_type": "stream",
       "stream": "stdout",
       "text": [
        "\n",
        "10 progeny have been made from virus e5d3c in host cc747"
       ]
      },
      {
       "output_type": "stream",
       "stream": "stdout",
       "text": [
        "\n",
        "10 progeny have been made from virus eac7f in host cc747"
       ]
      },
      {
       "output_type": "stream",
       "stream": "stdout",
       "text": [
        "\n",
        "8 progeny have been made from virus 02116 in host cc747"
       ]
      },
      {
       "output_type": "stream",
       "stream": "stdout",
       "text": [
        "\n",
        "6 progeny have been made from virus ea72c in host cc747"
       ]
      },
      {
       "output_type": "stream",
       "stream": "stdout",
       "text": [
        "\n",
        "7 progeny have been made from virus 79ef9 in host cc747"
       ]
      },
      {
       "output_type": "stream",
       "stream": "stdout",
       "text": [
        "\n",
        "7 progeny have been made from virus ed850 in host cc747"
       ]
      },
      {
       "output_type": "stream",
       "stream": "stdout",
       "text": [
        "\n",
        "8 progeny have been made from virus 68472 in host cc747"
       ]
      },
      {
       "output_type": "stream",
       "stream": "stdout",
       "text": [
        "\n",
        "6 progeny have been made from virus 56126 in host cc747"
       ]
      },
      {
       "output_type": "stream",
       "stream": "stdout",
       "text": [
        "\n",
        "6 progeny have been made from virus 20a9f in host cc747"
       ]
      },
      {
       "output_type": "stream",
       "stream": "stdout",
       "text": [
        "\n",
        "7 progeny have been made from virus 57542 in host cc747"
       ]
      },
      {
       "output_type": "stream",
       "stream": "stdout",
       "text": [
        "\n",
        "6 progeny have been made from virus c4785 in host cc747"
       ]
      },
      {
       "output_type": "stream",
       "stream": "stdout",
       "text": [
        "\n",
        "5 progeny have been made from virus bf455 in host cc747"
       ]
      },
      {
       "output_type": "stream",
       "stream": "stdout",
       "text": [
        "\n",
        "10 progeny have been made from virus dcba6 in host cc747"
       ]
      },
      {
       "output_type": "stream",
       "stream": "stdout",
       "text": [
        "\n",
        "9 progeny have been made from virus 88b37 in host cc747"
       ]
      },
      {
       "output_type": "stream",
       "stream": "stdout",
       "text": [
        "\n",
        "6 progeny have been made from virus 68472 in host cc747"
       ]
      },
      {
       "output_type": "stream",
       "stream": "stdout",
       "text": [
        "\n",
        "6 progeny have been made from virus fe7cb in host cc747"
       ]
      },
      {
       "output_type": "stream",
       "stream": "stdout",
       "text": [
        "\n",
        "6 progeny have been made from virus 20a9f in host cc747"
       ]
      },
      {
       "output_type": "stream",
       "stream": "stdout",
       "text": [
        "\n",
        "6 progeny have been made from virus 6c771 in host cc747\n",
        "6 progeny have been made from virus fa802 in host cc747"
       ]
      },
      {
       "output_type": "stream",
       "stream": "stdout",
       "text": [
        "\n",
        "8 progeny have been made from virus bf910 in host cc747"
       ]
      },
      {
       "output_type": "stream",
       "stream": "stdout",
       "text": [
        "\n",
        "6 progeny have been made from virus 60429 in host cc747"
       ]
      },
      {
       "output_type": "stream",
       "stream": "stdout",
       "text": [
        "\n",
        "7 progeny have been made from virus e2661 in host cc747"
       ]
      },
      {
       "output_type": "stream",
       "stream": "stdout",
       "text": [
        "\n",
        "6 progeny have been made from virus 9af5d in host cc747"
       ]
      },
      {
       "output_type": "stream",
       "stream": "stdout",
       "text": [
        "\n",
        "8 progeny have been made from virus b10dc in host cc747"
       ]
      },
      {
       "output_type": "stream",
       "stream": "stdout",
       "text": [
        "\n",
        "5 progeny have been made from virus bc269 in host cc747\n",
        "10 progeny have been made from virus 6fa17 in host cc747"
       ]
      },
      {
       "output_type": "stream",
       "stream": "stdout",
       "text": [
        "\n",
        "9 progeny have been made from virus dfbcf in host cc747"
       ]
      },
      {
       "output_type": "stream",
       "stream": "stdout",
       "text": [
        "\n",
        "5 progeny have been made from virus 51e2c in host cc747\n",
        "7 progeny have been made from virus 2316c in host cc747"
       ]
      },
      {
       "output_type": "stream",
       "stream": "stdout",
       "text": [
        "\n",
        "5 progeny have been made from virus 91c7b in host cc747"
       ]
      },
      {
       "output_type": "stream",
       "stream": "stdout",
       "text": [
        "\n",
        "9 progeny have been made from virus 31af1 in host cc747"
       ]
      },
      {
       "output_type": "stream",
       "stream": "stdout",
       "text": [
        "\n",
        "9 progeny have been made from virus bc269 in host cc747"
       ]
      },
      {
       "output_type": "stream",
       "stream": "stdout",
       "text": [
        "\n",
        "10 progeny have been made from virus b31c6 in host cc747"
       ]
      },
      {
       "output_type": "stream",
       "stream": "stdout",
       "text": [
        "\n",
        "5 progeny have been made from virus 8fa7b in host cc747\n",
        "6 progeny have been made from virus 99a65 in host cc747"
       ]
      },
      {
       "output_type": "stream",
       "stream": "stdout",
       "text": [
        "\n",
        "7 progeny have been made from virus 29e6d in host cc747"
       ]
      },
      {
       "output_type": "stream",
       "stream": "stdout",
       "text": [
        "\n",
        "10 progeny have been made from virus 91c7b in host cc747"
       ]
      },
      {
       "output_type": "stream",
       "stream": "stdout",
       "text": [
        "\n",
        "9 progeny have been made from virus bd6ed in host cc747"
       ]
      },
      {
       "output_type": "stream",
       "stream": "stdout",
       "text": [
        "\n",
        "8 progeny have been made from virus 9361f in host cc747"
       ]
      },
      {
       "output_type": "stream",
       "stream": "stdout",
       "text": [
        "\n",
        "5 progeny have been made from virus 07063 in host cc747"
       ]
      },
      {
       "output_type": "stream",
       "stream": "stdout",
       "text": [
        "\n",
        "10 progeny have been made from virus a8977 in host cc747"
       ]
      },
      {
       "output_type": "stream",
       "stream": "stdout",
       "text": [
        "\n",
        "10 progeny have been made from virus 549c7 in host cc747"
       ]
      },
      {
       "output_type": "stream",
       "stream": "stdout",
       "text": [
        "\n",
        "440 progeny generated in host cc747.\n",
        "Current time is 10. Incrementing time to 11\n",
        "Generating 296 progeny in host cc747...\n",
        "6 progeny have been made from virus 2ec71 in host cc747"
       ]
      },
      {
       "output_type": "stream",
       "stream": "stdout",
       "text": [
        "\n",
        "9 progeny have been made from virus 01130 in host cc747"
       ]
      },
      {
       "output_type": "stream",
       "stream": "stdout",
       "text": [
        "\n",
        "7 progeny have been made from virus b7f3d in host cc747"
       ]
      },
      {
       "output_type": "stream",
       "stream": "stdout",
       "text": [
        "\n",
        "8 progeny have been made from virus 292e0 in host cc747"
       ]
      },
      {
       "output_type": "stream",
       "stream": "stdout",
       "text": [
        "\n",
        "8 progeny have been made from virus 0a095 in host cc747"
       ]
      },
      {
       "output_type": "stream",
       "stream": "stdout",
       "text": [
        "\n",
        "5 progeny have been made from virus d36fe in host cc747"
       ]
      },
      {
       "output_type": "stream",
       "stream": "stdout",
       "text": [
        "\n",
        "9 progeny have been made from virus c34b0 in host cc747"
       ]
      },
      {
       "output_type": "stream",
       "stream": "stdout",
       "text": [
        "\n",
        "8 progeny have been made from virus 14c7c in host cc747"
       ]
      },
      {
       "output_type": "stream",
       "stream": "stdout",
       "text": [
        "\n",
        "7 progeny have been made from virus 7ada4 in host cc747"
       ]
      },
      {
       "output_type": "stream",
       "stream": "stdout",
       "text": [
        "\n",
        "10 progeny have been made from virus dc390 in host cc747"
       ]
      },
      {
       "output_type": "stream",
       "stream": "stdout",
       "text": [
        "\n",
        "8 progeny have been made from virus 5bd9d in host cc747"
       ]
      },
      {
       "output_type": "stream",
       "stream": "stdout",
       "text": [
        "\n",
        "6 progeny have been made from virus 19acd in host cc747"
       ]
      },
      {
       "output_type": "stream",
       "stream": "stdout",
       "text": [
        "\n",
        "10 progeny have been made from virus b5d65 in host cc747"
       ]
      },
      {
       "output_type": "stream",
       "stream": "stdout",
       "text": [
        "\n",
        "5 progeny have been made from virus 824d3 in host cc747\n",
        "10 progeny have been made from virus 13596 in host cc747"
       ]
      },
      {
       "output_type": "stream",
       "stream": "stdout",
       "text": [
        "\n",
        "6 progeny have been made from virus 1d943 in host cc747"
       ]
      },
      {
       "output_type": "stream",
       "stream": "stdout",
       "text": [
        "\n",
        "9 progeny have been made from virus 41bb2 in host cc747"
       ]
      },
      {
       "output_type": "stream",
       "stream": "stdout",
       "text": [
        "\n",
        "8 progeny have been made from virus 2ae0e in host cc747"
       ]
      },
      {
       "output_type": "stream",
       "stream": "stdout",
       "text": [
        "\n",
        "5 progeny have been made from virus e0b5f in host cc747"
       ]
      },
      {
       "output_type": "stream",
       "stream": "stdout",
       "text": [
        "\n",
        "5 progeny have been made from virus b7f3d in host cc747\n",
        "5 progeny have been made from virus 9f7c2 in host cc747"
       ]
      },
      {
       "output_type": "stream",
       "stream": "stdout",
       "text": [
        "\n",
        "6 progeny have been made from virus bda84 in host cc747"
       ]
      },
      {
       "output_type": "stream",
       "stream": "stdout",
       "text": [
        "\n",
        "8 progeny have been made from virus a6686 in host cc747"
       ]
      },
      {
       "output_type": "stream",
       "stream": "stdout",
       "text": [
        "\n",
        "7 progeny have been made from virus 2116a in host cc747"
       ]
      },
      {
       "output_type": "stream",
       "stream": "stdout",
       "text": [
        "\n",
        "5 progeny have been made from virus fc081 in host cc747"
       ]
      },
      {
       "output_type": "stream",
       "stream": "stdout",
       "text": [
        "\n",
        "8 progeny have been made from virus ca73c in host cc747"
       ]
      },
      {
       "output_type": "stream",
       "stream": "stdout",
       "text": [
        "\n",
        "9 progeny have been made from virus 6a52e in host cc747"
       ]
      },
      {
       "output_type": "stream",
       "stream": "stdout",
       "text": [
        "\n",
        "7 progeny have been made from virus 95f81 in host cc747"
       ]
      },
      {
       "output_type": "stream",
       "stream": "stdout",
       "text": [
        "\n",
        "10 progeny have been made from virus 4023f in host cc747"
       ]
      },
      {
       "output_type": "stream",
       "stream": "stdout",
       "text": [
        "\n",
        "5 progeny have been made from virus 97b8f in host cc747"
       ]
      },
      {
       "output_type": "stream",
       "stream": "stdout",
       "text": [
        "\n",
        "8 progeny have been made from virus a702d in host cc747"
       ]
      },
      {
       "output_type": "stream",
       "stream": "stdout",
       "text": [
        "\n",
        "10 progeny have been made from virus 69c07 in host cc747"
       ]
      },
      {
       "output_type": "stream",
       "stream": "stdout",
       "text": [
        "\n",
        "5 progeny have been made from virus ca36a in host cc747"
       ]
      },
      {
       "output_type": "stream",
       "stream": "stdout",
       "text": [
        "\n",
        "10 progeny have been made from virus fddca in host cc747"
       ]
      },
      {
       "output_type": "stream",
       "stream": "stdout",
       "text": [
        "\n",
        "8 progeny have been made from virus 2116a in host cc747"
       ]
      },
      {
       "output_type": "stream",
       "stream": "stdout",
       "text": [
        "\n",
        "9 progeny have been made from virus 64071 in host cc747"
       ]
      },
      {
       "output_type": "stream",
       "stream": "stdout",
       "text": [
        "\n",
        "10 progeny have been made from virus 6a41b in host cc747"
       ]
      },
      {
       "output_type": "stream",
       "stream": "stdout",
       "text": [
        "\n",
        "6 progeny have been made from virus 5f7d4 in host cc747"
       ]
      },
      {
       "output_type": "stream",
       "stream": "stdout",
       "text": [
        "\n",
        "6 progeny have been made from virus 9be84 in host cc747"
       ]
      },
      {
       "output_type": "stream",
       "stream": "stdout",
       "text": [
        "\n",
        "10 progeny have been made from virus 2ac30 in host cc747"
       ]
      },
      {
       "output_type": "stream",
       "stream": "stdout",
       "text": [
        "\n",
        "301 progeny generated in host cc747.\n",
        "Current time is 11. Incrementing time to 12\n",
        "Generating 310 progeny in host cc747...\n",
        "8 progeny have been made from virus 2a60b in host cc747"
       ]
      },
      {
       "output_type": "stream",
       "stream": "stdout",
       "text": [
        "\n",
        "7 progeny have been made from virus 1d943 in host cc747"
       ]
      },
      {
       "output_type": "stream",
       "stream": "stdout",
       "text": [
        "\n",
        "5 progeny have been made from virus 14103 in host cc747"
       ]
      },
      {
       "output_type": "stream",
       "stream": "stdout",
       "text": [
        "\n",
        "10 progeny have been made from virus 5d612 in host cc747"
       ]
      },
      {
       "output_type": "stream",
       "stream": "stdout",
       "text": [
        "\n",
        "6 progeny have been made from virus 4b928 in host cc747"
       ]
      },
      {
       "output_type": "stream",
       "stream": "stdout",
       "text": [
        "\n",
        "7 progeny have been made from virus 95a91 in host cc747"
       ]
      },
      {
       "output_type": "stream",
       "stream": "stdout",
       "text": [
        "\n",
        "8 progeny have been made from virus 88798 in host cc747"
       ]
      },
      {
       "output_type": "stream",
       "stream": "stdout",
       "text": [
        "\n",
        "7 progeny have been made from virus c42a1 in host cc747"
       ]
      },
      {
       "output_type": "stream",
       "stream": "stdout",
       "text": [
        "\n",
        "7 progeny have been made from virus ff715 in host cc747"
       ]
      },
      {
       "output_type": "stream",
       "stream": "stdout",
       "text": [
        "\n",
        "6 progeny have been made from virus 6206d in host cc747"
       ]
      },
      {
       "output_type": "stream",
       "stream": "stdout",
       "text": [
        "\n",
        "5 progeny have been made from virus dd678 in host cc747"
       ]
      },
      {
       "output_type": "stream",
       "stream": "stdout",
       "text": [
        "\n",
        "6 progeny have been made from virus b679d in host cc747"
       ]
      },
      {
       "output_type": "stream",
       "stream": "stdout",
       "text": [
        "\n",
        "7 progeny have been made from virus 7db43 in host cc747"
       ]
      },
      {
       "output_type": "stream",
       "stream": "stdout",
       "text": [
        "\n",
        "7 progeny have been made from virus 5d339 in host cc747"
       ]
      },
      {
       "output_type": "stream",
       "stream": "stdout",
       "text": [
        "\n",
        "6 progeny have been made from virus 6d599 in host cc747"
       ]
      },
      {
       "output_type": "stream",
       "stream": "stdout",
       "text": [
        "\n",
        "10 progeny have been made from virus b3ea8 in host cc747"
       ]
      },
      {
       "output_type": "stream",
       "stream": "stdout",
       "text": [
        "\n",
        "10 progeny have been made from virus 39c6d in host cc747"
       ]
      },
      {
       "output_type": "stream",
       "stream": "stdout",
       "text": [
        "\n",
        "6 progeny have been made from virus 39e1b in host cc747"
       ]
      },
      {
       "output_type": "stream",
       "stream": "stdout",
       "text": [
        "\n",
        "5 progeny have been made from virus 34d95 in host cc747"
       ]
      },
      {
       "output_type": "stream",
       "stream": "stdout",
       "text": [
        "\n",
        "6 progeny have been made from virus 7b467 in host cc747"
       ]
      },
      {
       "output_type": "stream",
       "stream": "stdout",
       "text": [
        "\n",
        "9 progeny have been made from virus de1ba in host cc747"
       ]
      },
      {
       "output_type": "stream",
       "stream": "stdout",
       "text": [
        "\n",
        "9 progeny have been made from virus ad6a3 in host cc747"
       ]
      },
      {
       "output_type": "stream",
       "stream": "stdout",
       "text": [
        "\n",
        "8 progeny have been made from virus d42eb in host cc747"
       ]
      },
      {
       "output_type": "stream",
       "stream": "stdout",
       "text": [
        "\n",
        "10 progeny have been made from virus 5d339 in host cc747"
       ]
      },
      {
       "output_type": "stream",
       "stream": "stdout",
       "text": [
        "\n",
        "5 progeny have been made from virus 5a32a in host cc747"
       ]
      },
      {
       "output_type": "stream",
       "stream": "stdout",
       "text": [
        "\n",
        "9 progeny have been made from virus e801f in host cc747"
       ]
      },
      {
       "output_type": "stream",
       "stream": "stdout",
       "text": [
        "\n",
        "5 progeny have been made from virus 4a058 in host cc747"
       ]
      },
      {
       "output_type": "stream",
       "stream": "stdout",
       "text": [
        "\n",
        "8 progeny have been made from virus 602c4 in host cc747"
       ]
      },
      {
       "output_type": "stream",
       "stream": "stdout",
       "text": [
        "\n",
        "7 progeny have been made from virus 6bc1b in host cc747"
       ]
      },
      {
       "output_type": "stream",
       "stream": "stdout",
       "text": [
        "\n",
        "6 progeny have been made from virus f48fc in host cc747"
       ]
      },
      {
       "output_type": "stream",
       "stream": "stdout",
       "text": [
        "\n",
        "6 progeny have been made from virus f649c in host cc747"
       ]
      },
      {
       "output_type": "stream",
       "stream": "stdout",
       "text": [
        "\n",
        "8 progeny have been made from virus 32bad in host cc747"
       ]
      },
      {
       "output_type": "stream",
       "stream": "stdout",
       "text": [
        "\n",
        "7 progeny have been made from virus 997d2 in host cc747"
       ]
      },
      {
       "output_type": "stream",
       "stream": "stdout",
       "text": [
        "\n",
        "9 progeny have been made from virus 02152 in host cc747"
       ]
      },
      {
       "output_type": "stream",
       "stream": "stdout",
       "text": [
        "\n",
        "10 progeny have been made from virus cb259 in host cc747"
       ]
      },
      {
       "output_type": "stream",
       "stream": "stdout",
       "text": [
        "\n",
        "10 progeny have been made from virus 97736 in host cc747"
       ]
      },
      {
       "output_type": "stream",
       "stream": "stdout",
       "text": [
        "\n",
        "8 progeny have been made from virus 4a2ba in host cc747"
       ]
      },
      {
       "output_type": "stream",
       "stream": "stdout",
       "text": [
        "\n",
        "5 progeny have been made from virus 72cf3 in host cc747"
       ]
      },
      {
       "output_type": "stream",
       "stream": "stdout",
       "text": [
        "\n",
        "8 progeny have been made from virus 06d5c in host cc747"
       ]
      },
      {
       "output_type": "stream",
       "stream": "stdout",
       "text": [
        "\n",
        "8 progeny have been made from virus 5d339 in host cc747"
       ]
      },
      {
       "output_type": "stream",
       "stream": "stdout",
       "text": [
        "\n",
        "10 progeny have been made from virus a41f6 in host cc747"
       ]
      },
      {
       "output_type": "stream",
       "stream": "stdout",
       "text": [
        "\n",
        "10 progeny have been made from virus ad679 in host cc747"
       ]
      },
      {
       "output_type": "stream",
       "stream": "stdout",
       "text": [
        "\n",
        "314 progeny generated in host cc747.\n",
        "Current time is 12. Incrementing time to 13\n",
        "Generating 12 progeny in host cc747...\n",
        "9 progeny have been made from virus 43e34 in host cc747"
       ]
      },
      {
       "output_type": "stream",
       "stream": "stdout",
       "text": [
        "\n",
        "10 progeny have been made from virus 74241 in host cc747"
       ]
      },
      {
       "output_type": "stream",
       "stream": "stdout",
       "text": [
        "\n",
        "19 progeny generated in host cc747.\n",
        "Current time is 13. Incrementing time to 14\n",
        "Generating 13 progeny in host cc747...\n",
        "7 progeny have been made from virus 205ce in host cc747"
       ]
      },
      {
       "output_type": "stream",
       "stream": "stdout",
       "text": [
        "\n",
        "10 progeny have been made from virus eb773 in host cc747"
       ]
      },
      {
       "output_type": "stream",
       "stream": "stdout",
       "text": [
        "\n",
        "17 progeny generated in host cc747.\n",
        "Current time is 14. Incrementing time to 15\n",
        "Generating 28 progeny in host cc747...\n",
        "8 progeny have been made from virus 52477 in host cc747"
       ]
      },
      {
       "output_type": "stream",
       "stream": "stdout",
       "text": [
        "\n",
        "9 progeny have been made from virus 991cf in host cc747"
       ]
      },
      {
       "output_type": "stream",
       "stream": "stdout",
       "text": [
        "\n",
        "10 progeny have been made from virus 3c412 in host cc747"
       ]
      },
      {
       "output_type": "stream",
       "stream": "stdout",
       "text": [
        "\n",
        "6 progeny have been made from virus 991cf in host cc747"
       ]
      },
      {
       "output_type": "stream",
       "stream": "stdout",
       "text": [
        "\n",
        "33 progeny generated in host cc747.\n",
        "Current time is 15. Incrementing time to 16\n",
        "Generating 7 progeny in host cc747...\n",
        "8 progeny have been made from virus d06d5 in host cc747"
       ]
      },
      {
       "output_type": "stream",
       "stream": "stdout",
       "text": [
        "\n",
        "8 progeny generated in host cc747.\n",
        "Current time is 16. Incrementing time to 17\n",
        "Generating 2 progeny in host cc747...\n",
        "5 progeny have been made from virus b6a82 in host cc747"
       ]
      },
      {
       "output_type": "stream",
       "stream": "stdout",
       "text": [
        "\n",
        "5 progeny generated in host cc747.\n",
        "Current time is 17. Incrementing time to 18\n",
        "Generating 4 progeny in host cc747...\n",
        "10 progeny have been made from virus dae0d in host cc747"
       ]
      },
      {
       "output_type": "stream",
       "stream": "stdout",
       "text": [
        "\n",
        "10 progeny generated in host cc747.\n",
        "Current time is 18. Incrementing time to 19\n",
        "Generating 0 progeny in host cc747...\n",
        "0 progeny generated in host cc747.\n",
        "Current time is 19. Incrementing time to 20\n",
        "Generating 0 progeny in host cc747...\n",
        "0 progeny generated in host cc747.\n",
        "Current time is 20. Incrementing time to 21\n",
        "Current time is 21. Incrementing time to 22\n",
        "Current time is 22. Incrementing time to 23\n",
        "Current time is 23. Incrementing time to 24\n",
        "Current time is 24. Incrementing time to 25\n",
        "Current time is 25. Incrementing time to 26\n",
        "Current time is 26. Incrementing time to 27\n",
        "Current time is 27. Incrementing time to 28\n",
        "Current time is 28. Incrementing time to 29\n",
        "Current time is 29. Incrementing time to 30\n",
        "Adding host 44213... to environment cfa37...\n",
        "Creating environment cfa37\n",
        "Creating virus de8de inside host 44213\n",
        "Current time is 0. Incrementing time to 1\n",
        "Generating 7 progeny in host 44213...\n",
        "10 progeny have been made from virus de8de in host 44213\n",
        "10 progeny generated in host 44213.\n",
        "Current time is 1. Incrementing time to 2\n",
        "Generating 20 progeny in host 44213...\n",
        "7 progeny have been made from virus a7c1b in host 44213\n",
        "10 progeny have been made from virus 7a6fa in host 44213"
       ]
      },
      {
       "output_type": "stream",
       "stream": "stdout",
       "text": [
        "\n",
        "9 progeny have been made from virus 124f6 in host 44213\n",
        "26 progeny generated in host 44213.\n",
        "Current time is 2. Incrementing time to 3\n",
        "Generating 24 progeny in host 44213...\n",
        "7 progeny have been made from virus 78b9d in host 44213\n",
        "10 progeny have been made from virus 92703 in host 44213"
       ]
      },
      {
       "output_type": "stream",
       "stream": "stdout",
       "text": [
        "\n",
        "7 progeny have been made from virus bed53 in host 44213\n",
        "24 progeny generated in host 44213.\n",
        "Current time is 3. Incrementing time to 4\n",
        "Generating 86 progeny in host 44213...\n",
        "5 progeny have been made from virus d6698 in host 44213\n",
        "6 progeny have been made from virus 7bbe9 in host 44213\n",
        "9 progeny have been made from virus 34254 in host 44213"
       ]
      },
      {
       "output_type": "stream",
       "stream": "stdout",
       "text": [
        "\n",
        "7 progeny have been made from virus 6bf37 in host 44213\n",
        "8 progeny have been made from virus 7bbe9 in host 44213\n",
        "7 progeny have been made from virus bf418 in host 44213"
       ]
      },
      {
       "output_type": "stream",
       "stream": "stdout",
       "text": [
        "\n",
        "10 progeny have been made from virus 78b9d in host 44213\n",
        "8 progeny have been made from virus 22c6d in host 44213"
       ]
      },
      {
       "output_type": "stream",
       "stream": "stdout",
       "text": [
        "\n",
        "7 progeny have been made from virus 53564 in host 44213\n",
        "5 progeny have been made from virus db2b2 in host 44213\n",
        "10 progeny have been made from virus 8b99d in host 44213"
       ]
      },
      {
       "output_type": "stream",
       "stream": "stdout",
       "text": [
        "\n",
        "5 progeny have been made from virus 995a4 in host 44213\n",
        "87 progeny generated in host 44213.\n",
        "Current time is 4. Incrementing time to 5\n",
        "Generating 36 progeny in host 44213...\n",
        "6 progeny have been made from virus 2043a in host 44213\n",
        "8 progeny have been made from virus 66bb9 in host 44213"
       ]
      },
      {
       "output_type": "stream",
       "stream": "stdout",
       "text": [
        "\n",
        "5 progeny have been made from virus d6698 in host 44213\n",
        "7 progeny have been made from virus c1ead in host 44213\n",
        "10 progeny have been made from virus 09897 in host 44213"
       ]
      },
      {
       "output_type": "stream",
       "stream": "stdout",
       "text": [
        "\n",
        "36 progeny generated in host 44213.\n",
        "Current time is 5. Incrementing time to 6\n",
        "Generating 96 progeny in host 44213...\n",
        "10 progeny have been made from virus 527cd in host 44213\n",
        "5 progeny have been made from virus 363dc in host 44213"
       ]
      },
      {
       "output_type": "stream",
       "stream": "stdout",
       "text": [
        "\n",
        "6 progeny have been made from virus 6ea40 in host 44213\n",
        "5 progeny have been made from virus 527cd in host 44213\n",
        "5 progeny have been made from virus 8b7b0 in host 44213\n",
        "6 progeny have been made from virus 995a4 in host 44213"
       ]
      },
      {
       "output_type": "stream",
       "stream": "stdout",
       "text": [
        "\n",
        "8 progeny have been made from virus 28414 in host 44213\n",
        "9 progeny have been made from virus ebafb in host 44213"
       ]
      },
      {
       "output_type": "stream",
       "stream": "stdout",
       "text": [
        "\n",
        "9 progeny have been made from virus 3112b in host 44213\n",
        "8 progeny have been made from virus 9de63 in host 44213"
       ]
      },
      {
       "output_type": "stream",
       "stream": "stdout",
       "text": [
        "\n",
        "5 progeny have been made from virus 21edd in host 44213\n",
        "5 progeny have been made from virus 0915c in host 44213\n",
        "6 progeny have been made from virus f0925 in host 44213\n",
        "8 progeny have been made from virus 3112b in host 44213"
       ]
      },
      {
       "output_type": "stream",
       "stream": "stdout",
       "text": [
        "\n",
        "5 progeny have been made from virus ff4b6 in host 44213\n",
        "100 progeny generated in host 44213.\n",
        "Current time is 6. Incrementing time to 7\n",
        "Generating 179 progeny in host 44213...\n",
        "5 progeny have been made from virus 1b953 in host 44213\n",
        "10 progeny have been made from virus b057b in host 44213"
       ]
      },
      {
       "output_type": "stream",
       "stream": "stdout",
       "text": [
        "\n",
        "5 progeny have been made from virus 221da in host 44213\n",
        "9 progeny have been made from virus 394e5 in host 44213"
       ]
      },
      {
       "output_type": "stream",
       "stream": "stdout",
       "text": [
        "\n",
        "7 progeny have been made from virus 0915c in host 44213\n",
        "9 progeny have been made from virus cce05 in host 44213"
       ]
      },
      {
       "output_type": "stream",
       "stream": "stdout",
       "text": [
        "\n",
        "7 progeny have been made from virus 0c0b1 in host 44213\n",
        "9 progeny have been made from virus a2da5 in host 44213"
       ]
      },
      {
       "output_type": "stream",
       "stream": "stdout",
       "text": [
        "\n",
        "10 progeny have been made from virus cce05 in host 44213\n",
        "9 progeny have been made from virus d24c8 in host 44213"
       ]
      },
      {
       "output_type": "stream",
       "stream": "stdout",
       "text": [
        "\n",
        "9 progeny have been made from virus b5395 in host 44213\n",
        "7 progeny have been made from virus f7023 in host 44213"
       ]
      },
      {
       "output_type": "stream",
       "stream": "stdout",
       "text": [
        "\n",
        "9 progeny have been made from virus f5b7b in host 44213\n",
        "5 progeny have been made from virus 7b359 in host 44213"
       ]
      },
      {
       "output_type": "stream",
       "stream": "stdout",
       "text": [
        "\n",
        "10 progeny have been made from virus 72363 in host 44213\n",
        "7 progeny have been made from virus 2467a in host 44213"
       ]
      },
      {
       "output_type": "stream",
       "stream": "stdout",
       "text": [
        "\n",
        "6 progeny have been made from virus eda87 in host 44213\n",
        "6 progeny have been made from virus d4ddb in host 44213"
       ]
      },
      {
       "output_type": "stream",
       "stream": "stdout",
       "text": [
        "\n",
        "5 progeny have been made from virus 5b369 in host 44213\n",
        "5 progeny have been made from virus a72c0 in host 44213\n",
        "5 progeny have been made from virus cafb0 in host 44213"
       ]
      },
      {
       "output_type": "stream",
       "stream": "stdout",
       "text": [
        "\n",
        "7 progeny have been made from virus 2ab7f in host 44213\n",
        "10 progeny have been made from virus 80630 in host 44213"
       ]
      },
      {
       "output_type": "stream",
       "stream": "stdout",
       "text": [
        "\n",
        "7 progeny have been made from virus 3c782 in host 44213\n",
        "9 progeny have been made from virus 41d05 in host 44213"
       ]
      },
      {
       "output_type": "stream",
       "stream": "stdout",
       "text": [
        "\n",
        "187 progeny generated in host 44213.\n",
        "Current time is 7. Incrementing time to 8\n",
        "Generating 121 progeny in host 44213...\n",
        "6 progeny have been made from virus 5f932 in host 44213\n",
        "7 progeny have been made from virus 4c0f6 in host 44213"
       ]
      },
      {
       "output_type": "stream",
       "stream": "stdout",
       "text": [
        "\n",
        "10 progeny have been made from virus 0861b in host 44213"
       ]
      },
      {
       "output_type": "stream",
       "stream": "stdout",
       "text": [
        "\n",
        "5 progeny have been made from virus 7f756 in host 44213\n",
        "7 progeny have been made from virus cb5d3 in host 44213"
       ]
      },
      {
       "output_type": "stream",
       "stream": "stdout",
       "text": [
        "\n",
        "9 progeny have been made from virus 35bda in host 44213\n",
        "7 progeny have been made from virus 5f39a in host 44213"
       ]
      },
      {
       "output_type": "stream",
       "stream": "stdout",
       "text": [
        "\n",
        "6 progeny have been made from virus b03a6 in host 44213\n",
        "8 progeny have been made from virus ba09b in host 44213\n",
        "6 progeny have been made from virus 1a2b3 in host 44213"
       ]
      },
      {
       "output_type": "stream",
       "stream": "stdout",
       "text": [
        "\n",
        "8 progeny have been made from virus 3eeb4 in host 44213\n",
        "8 progeny have been made from virus b0566 in host 44213"
       ]
      },
      {
       "output_type": "stream",
       "stream": "stdout",
       "text": [
        "\n",
        "9 progeny have been made from virus cfd55 in host 44213\n",
        "10 progeny have been made from virus 08a57 in host 44213"
       ]
      },
      {
       "output_type": "stream",
       "stream": "stdout",
       "text": [
        "\n",
        "5 progeny have been made from virus 5e4b7 in host 44213\n",
        "9 progeny have been made from virus 3f446 in host 44213"
       ]
      },
      {
       "output_type": "stream",
       "stream": "stdout",
       "text": [
        "\n",
        "7 progeny have been made from virus 417e7 in host 44213\n",
        "127 progeny generated in host 44213.\n",
        "Current time is 8. Incrementing time to 9\n",
        "Generating 97 progeny in host 44213...\n",
        "5 progeny have been made from virus 15efd in host 44213\n",
        "7 progeny have been made from virus d5693 in host 44213"
       ]
      },
      {
       "output_type": "stream",
       "stream": "stdout",
       "text": [
        "\n",
        "6 progeny have been made from virus c0150 in host 44213\n",
        "8 progeny have been made from virus 330bd in host 44213"
       ]
      },
      {
       "output_type": "stream",
       "stream": "stdout",
       "text": [
        "\n",
        "6 progeny have been made from virus 0a55c in host 44213\n",
        "6 progeny have been made from virus 26c2b in host 44213\n",
        "9 progeny have been made from virus 78ca6 in host 44213"
       ]
      },
      {
       "output_type": "stream",
       "stream": "stdout",
       "text": [
        "\n",
        "6 progeny have been made from virus 68fc2 in host 44213\n",
        "8 progeny have been made from virus 7306a in host 44213"
       ]
      },
      {
       "output_type": "stream",
       "stream": "stdout",
       "text": [
        "\n",
        "8 progeny have been made from virus eb897 in host 44213\n",
        "9 progeny have been made from virus f3807 in host 44213"
       ]
      },
      {
       "output_type": "stream",
       "stream": "stdout",
       "text": [
        "\n",
        "8 progeny have been made from virus e22d5 in host 44213\n",
        "8 progeny have been made from virus 8f98c in host 44213"
       ]
      },
      {
       "output_type": "stream",
       "stream": "stdout",
       "text": [
        "\n",
        "6 progeny have been made from virus 30070 in host 44213\n",
        "100 progeny generated in host 44213.\n",
        "Current time is 9. Incrementing time to 10\n",
        "Generating 155 progeny in host 44213...\n",
        "7 progeny have been made from virus 27f0e in host 44213"
       ]
      },
      {
       "output_type": "stream",
       "stream": "stdout",
       "text": [
        "\n",
        "8 progeny have been made from virus 6b672 in host 44213\n",
        "7 progeny have been made from virus ef470 in host 44213"
       ]
      },
      {
       "output_type": "stream",
       "stream": "stdout",
       "text": [
        "\n",
        "8 progeny have been made from virus 5c120 in host 44213\n",
        "10 progeny have been made from virus 8c733 in host 44213"
       ]
      },
      {
       "output_type": "stream",
       "stream": "stdout",
       "text": [
        "\n",
        "5 progeny have been made from virus d1a0d in host 44213\n",
        "6 progeny have been made from virus f1ce8 in host 44213"
       ]
      },
      {
       "output_type": "stream",
       "stream": "stdout",
       "text": [
        "\n",
        "8 progeny have been made from virus 455df in host 44213\n",
        "10 progeny have been made from virus 5c120 in host 44213"
       ]
      },
      {
       "output_type": "stream",
       "stream": "stdout",
       "text": [
        "\n",
        "7 progeny have been made from virus 4df5b in host 44213\n",
        "5 progeny have been made from virus e1603 in host 44213"
       ]
      },
      {
       "output_type": "stream",
       "stream": "stdout",
       "text": [
        "\n",
        "6 progeny have been made from virus d1a0d in host 44213\n",
        "6 progeny have been made from virus 7cd13 in host 44213"
       ]
      },
      {
       "output_type": "stream",
       "stream": "stdout",
       "text": [
        "\n",
        "7 progeny have been made from virus c2839 in host 44213\n",
        "9 progeny have been made from virus 330bd in host 44213"
       ]
      },
      {
       "output_type": "stream",
       "stream": "stdout",
       "text": [
        "\n",
        "8 progeny have been made from virus 8e173 in host 44213\n",
        "10 progeny have been made from virus 0ac24 in host 44213"
       ]
      },
      {
       "output_type": "stream",
       "stream": "stdout",
       "text": [
        "\n",
        "7 progeny have been made from virus 188c7 in host 44213\n",
        "8 progeny have been made from virus b9a0a in host 44213"
       ]
      },
      {
       "output_type": "stream",
       "stream": "stdout",
       "text": [
        "\n",
        "7 progeny have been made from virus cc565 in host 44213"
       ]
      },
      {
       "output_type": "stream",
       "stream": "stdout",
       "text": [
        "\n",
        "10 progeny have been made from virus 68fc2 in host 44213"
       ]
      },
      {
       "output_type": "stream",
       "stream": "stdout",
       "text": [
        "\n",
        "159 progeny generated in host 44213.\n",
        "Current time is 10. Incrementing time to 11\n",
        "Generating 182 progeny in host 44213...\n",
        "5 progeny have been made from virus d4b47 in host 44213\n",
        "5 progeny have been made from virus 2c4b3 in host 44213"
       ]
      },
      {
       "output_type": "stream",
       "stream": "stdout",
       "text": [
        "\n",
        "10 progeny have been made from virus e46d3 in host 44213"
       ]
      },
      {
       "output_type": "stream",
       "stream": "stdout",
       "text": [
        "\n",
        "5 progeny have been made from virus a62d3 in host 44213\n",
        "9 progeny have been made from virus 12edf in host 44213"
       ]
      },
      {
       "output_type": "stream",
       "stream": "stdout",
       "text": [
        "\n",
        "8 progeny have been made from virus c6966 in host 44213"
       ]
      },
      {
       "output_type": "stream",
       "stream": "stdout",
       "text": [
        "\n",
        "10 progeny have been made from virus 08c43 in host 44213"
       ]
      },
      {
       "output_type": "stream",
       "stream": "stdout",
       "text": [
        "\n",
        "7 progeny have been made from virus d3b93 in host 44213\n",
        "10 progeny have been made from virus 4ee7a in host 44213"
       ]
      },
      {
       "output_type": "stream",
       "stream": "stdout",
       "text": [
        "\n",
        "7 progeny have been made from virus 2cea7 in host 44213\n",
        "10 progeny have been made from virus 5e998 in host 44213"
       ]
      },
      {
       "output_type": "stream",
       "stream": "stdout",
       "text": [
        "\n",
        "6 progeny have been made from virus b830c in host 44213\n",
        "10 progeny have been made from virus e46d3 in host 44213"
       ]
      },
      {
       "output_type": "stream",
       "stream": "stdout",
       "text": [
        "\n",
        "6 progeny have been made from virus 177e9 in host 44213\n",
        "9 progeny have been made from virus ee090 in host 44213"
       ]
      },
      {
       "output_type": "stream",
       "stream": "stdout",
       "text": [
        "\n",
        "5 progeny have been made from virus 9f67a in host 44213\n",
        "6 progeny have been made from virus b0ecb in host 44213"
       ]
      },
      {
       "output_type": "stream",
       "stream": "stdout",
       "text": [
        "\n",
        "5 progeny have been made from virus c276f in host 44213\n",
        "8 progeny have been made from virus 753c1 in host 44213"
       ]
      },
      {
       "output_type": "stream",
       "stream": "stdout",
       "text": [
        "\n",
        "7 progeny have been made from virus ee090 in host 44213"
       ]
      },
      {
       "output_type": "stream",
       "stream": "stdout",
       "text": [
        "\n",
        "10 progeny have been made from virus 634e3 in host 44213"
       ]
      },
      {
       "output_type": "stream",
       "stream": "stdout",
       "text": [
        "\n",
        "8 progeny have been made from virus 969e4 in host 44213"
       ]
      },
      {
       "output_type": "stream",
       "stream": "stdout",
       "text": [
        "\n",
        "7 progeny have been made from virus 5937a in host 44213"
       ]
      },
      {
       "output_type": "stream",
       "stream": "stdout",
       "text": [
        "\n",
        "10 progeny have been made from virus f94f3 in host 44213"
       ]
      },
      {
       "output_type": "stream",
       "stream": "stdout",
       "text": [
        "\n",
        "183 progeny generated in host 44213.\n",
        "Current time is 11. Incrementing time to 12\n",
        "Generating 69 progeny in host 44213...\n",
        "7 progeny have been made from virus e1b5d in host 44213"
       ]
      },
      {
       "output_type": "stream",
       "stream": "stdout",
       "text": [
        "\n",
        "10 progeny have been made from virus a15c1 in host 44213"
       ]
      },
      {
       "output_type": "stream",
       "stream": "stdout",
       "text": [
        "\n",
        "10 progeny have been made from virus 56402 in host 44213"
       ]
      },
      {
       "output_type": "stream",
       "stream": "stdout",
       "text": [
        "\n",
        "10 progeny have been made from virus 3eeff in host 44213"
       ]
      },
      {
       "output_type": "stream",
       "stream": "stdout",
       "text": [
        "\n",
        "8 progeny have been made from virus c0249 in host 44213"
       ]
      },
      {
       "output_type": "stream",
       "stream": "stdout",
       "text": [
        "\n",
        "7 progeny have been made from virus 2b3ab in host 44213"
       ]
      },
      {
       "output_type": "stream",
       "stream": "stdout",
       "text": [
        "\n",
        "9 progeny have been made from virus 395f3 in host 44213"
       ]
      },
      {
       "output_type": "stream",
       "stream": "stdout",
       "text": [
        "\n",
        "8 progeny have been made from virus 94a3f in host 44213"
       ]
      },
      {
       "output_type": "stream",
       "stream": "stdout",
       "text": [
        "\n",
        "69 progeny generated in host 44213.\n",
        "Current time is 12. Incrementing time to 13\n",
        "Generating 46 progeny in host 44213...\n",
        "7 progeny have been made from virus f05ae in host 44213"
       ]
      },
      {
       "output_type": "stream",
       "stream": "stdout",
       "text": [
        "\n",
        "9 progeny have been made from virus 611a8 in host 44213"
       ]
      },
      {
       "output_type": "stream",
       "stream": "stdout",
       "text": [
        "\n",
        "9 progeny have been made from virus 1e3e2 in host 44213"
       ]
      },
      {
       "output_type": "stream",
       "stream": "stdout",
       "text": [
        "\n",
        "10 progeny have been made from virus 1fd4a in host 44213"
       ]
      },
      {
       "output_type": "stream",
       "stream": "stdout",
       "text": [
        "\n",
        "8 progeny have been made from virus 513c9 in host 44213"
       ]
      },
      {
       "output_type": "stream",
       "stream": "stdout",
       "text": [
        "\n",
        "5 progeny have been made from virus 62105 in host 44213\n",
        "48 progeny generated in host 44213.\n",
        "Current time is 13. Incrementing time to 14\n",
        "Generating 46 progeny in host 44213...\n",
        "8 progeny have been made from virus b8162 in host 44213"
       ]
      },
      {
       "output_type": "stream",
       "stream": "stdout",
       "text": [
        "\n",
        "9 progeny have been made from virus b63b6 in host 44213"
       ]
      },
      {
       "output_type": "stream",
       "stream": "stdout",
       "text": [
        "\n",
        "8 progeny have been made from virus 3444b in host 44213"
       ]
      },
      {
       "output_type": "stream",
       "stream": "stdout",
       "text": [
        "\n",
        "9 progeny have been made from virus a042f in host 44213"
       ]
      },
      {
       "output_type": "stream",
       "stream": "stdout",
       "text": [
        "\n",
        "9 progeny have been made from virus 1d227 in host 44213"
       ]
      },
      {
       "output_type": "stream",
       "stream": "stdout",
       "text": [
        "\n",
        "9 progeny have been made from virus ec928 in host 44213"
       ]
      },
      {
       "output_type": "stream",
       "stream": "stdout",
       "text": [
        "\n",
        "52 progeny generated in host 44213.\n",
        "Current time is 14. Incrementing time to 15\n",
        "Generating 43 progeny in host 44213...\n",
        "10 progeny have been made from virus 98586 in host 44213"
       ]
      },
      {
       "output_type": "stream",
       "stream": "stdout",
       "text": [
        "\n",
        "8 progeny have been made from virus 9dccb in host 44213"
       ]
      },
      {
       "output_type": "stream",
       "stream": "stdout",
       "text": [
        "\n",
        "10 progeny have been made from virus 79d19 in host 44213"
       ]
      },
      {
       "output_type": "stream",
       "stream": "stdout",
       "text": [
        "\n",
        "6 progeny have been made from virus cfedd in host 44213\n",
        "5 progeny have been made from virus 9fa45 in host 44213"
       ]
      },
      {
       "output_type": "stream",
       "stream": "stdout",
       "text": [
        "\n",
        "5 progeny have been made from virus 2c505 in host 44213\n",
        "44 progeny generated in host 44213.\n",
        "Current time is 15. Incrementing time to 16\n",
        "Generating 19 progeny in host 44213...\n",
        "6 progeny have been made from virus 9fa45 in host 44213"
       ]
      },
      {
       "output_type": "stream",
       "stream": "stdout",
       "text": [
        "\n",
        "10 progeny have been made from virus e81f5 in host 44213"
       ]
      },
      {
       "output_type": "stream",
       "stream": "stdout",
       "text": [
        "\n",
        "10 progeny have been made from virus eadd1 in host 44213"
       ]
      },
      {
       "output_type": "stream",
       "stream": "stdout",
       "text": [
        "\n",
        "26 progeny generated in host 44213.\n",
        "Current time is 16. Incrementing time to 17\n",
        "Generating 11 progeny in host 44213...\n",
        "10 progeny have been made from virus 804cc in host 44213"
       ]
      },
      {
       "output_type": "stream",
       "stream": "stdout",
       "text": [
        "\n",
        "7 progeny have been made from virus 1d537 in host 44213"
       ]
      },
      {
       "output_type": "stream",
       "stream": "stdout",
       "text": [
        "\n",
        "17 progeny generated in host 44213.\n",
        "Current time is 17. Incrementing time to 18\n",
        "Generating 0 progeny in host 44213...\n",
        "0 progeny generated in host 44213.\n",
        "Current time is 18. Incrementing time to 19\n",
        "Generating 2 progeny in host 44213...\n",
        "6 progeny have been made from virus ea6b2 in host 44213"
       ]
      },
      {
       "output_type": "stream",
       "stream": "stdout",
       "text": [
        "\n",
        "6 progeny generated in host 44213.\n",
        "Current time is 19. Incrementing time to 20\n",
        "Generating 1 progeny in host 44213...\n",
        "8 progeny have been made from virus 380eb in host 44213"
       ]
      },
      {
       "output_type": "stream",
       "stream": "stdout",
       "text": [
        "\n",
        "8 progeny generated in host 44213.\n",
        "Current time is 20. Incrementing time to 21\n",
        "Generating 2 progeny in host 44213...\n",
        "10 progeny have been made from virus 85974 in host 44213"
       ]
      },
      {
       "output_type": "stream",
       "stream": "stdout",
       "text": [
        "\n",
        "10 progeny generated in host 44213.\n",
        "Current time is 21. Incrementing time to 22\n",
        "Generating 1 progeny in host 44213...\n",
        "8 progeny have been made from virus 005b4 in host 44213"
       ]
      },
      {
       "output_type": "stream",
       "stream": "stdout",
       "text": [
        "\n",
        "8 progeny generated in host 44213.\n",
        "Current time is 22. Incrementing time to 23\n",
        "Generating 2 progeny in host 44213...\n",
        "8 progeny have been made from virus 9b353 in host 44213"
       ]
      },
      {
       "output_type": "stream",
       "stream": "stdout",
       "text": [
        "\n",
        "8 progeny generated in host 44213.\n",
        "Current time is 23. Incrementing time to 24\n",
        "Generating 0 progeny in host 44213...\n",
        "0 progeny generated in host 44213.\n",
        "Current time is 24. Incrementing time to 25\n",
        "Current time is 25. Incrementing time to 26\n",
        "Current time is 26. Incrementing time to 27\n",
        "Current time is 27. Incrementing time to 28\n",
        "Current time is 28. Incrementing time to 29\n",
        "Current time is 29. Incrementing time to 30\n",
        "Adding host 82e2a... to environment 9f895...\n",
        "Creating environment 9f895\n",
        "Creating virus 3b240 inside host 82e2a\n",
        "Current time is 0. Incrementing time to 1\n",
        "Generating 5 progeny in host 82e2a...\n",
        "6 progeny have been made from virus 3b240 in host 82e2a\n",
        "6 progeny generated in host 82e2a.\n",
        "Current time is 1. Incrementing time to 2\n",
        "Generating 10 progeny in host 82e2a...\n",
        "7 progeny have been made from virus c1497 in host 82e2a\n",
        "5 progeny have been made from virus 12cbc in host 82e2a\n",
        "12 progeny generated in host 82e2a.\n",
        "Current time is 2. Incrementing time to 3\n",
        "Generating 40 progeny in host 82e2a...\n",
        "7 progeny have been made from virus 7c256 in host 82e2a"
       ]
      },
      {
       "output_type": "stream",
       "stream": "stdout",
       "text": [
        "\n",
        "6 progeny have been made from virus dd45e in host 82e2a\n",
        "6 progeny have been made from virus 7c256 in host 82e2a\n",
        "6 progeny have been made from virus 7c256 in host 82e2a\n",
        "7 progeny have been made from virus 87ca6 in host 82e2a"
       ]
      },
      {
       "output_type": "stream",
       "stream": "stdout",
       "text": [
        "\n",
        "10 progeny have been made from virus 7c256 in host 82e2a\n",
        "42 progeny generated in host 82e2a.\n",
        "Current time is 3. Incrementing time to 4\n",
        "Generating 70 progeny in host 82e2a...\n",
        "8 progeny have been made from virus 31ece in host 82e2a\n",
        "7 progeny have been made from virus 0151b in host 82e2a"
       ]
      },
      {
       "output_type": "stream",
       "stream": "stdout",
       "text": [
        "\n",
        "10 progeny have been made from virus 626b7 in host 82e2a\n",
        "6 progeny have been made from virus bdcef in host 82e2a"
       ]
      },
      {
       "output_type": "stream",
       "stream": "stdout",
       "text": [
        "\n",
        "5 progeny have been made from virus 16284 in host 82e2a\n",
        "9 progeny have been made from virus ed9a6 in host 82e2a\n",
        "8 progeny have been made from virus 0c585 in host 82e2a"
       ]
      },
      {
       "output_type": "stream",
       "stream": "stdout",
       "text": [
        "\n",
        "10 progeny have been made from virus 626b7 in host 82e2a\n",
        "10 progeny have been made from virus dd45e in host 82e2a"
       ]
      },
      {
       "output_type": "stream",
       "stream": "stdout",
       "text": [
        "\n",
        "73 progeny generated in host 82e2a.\n",
        "Current time is 4. Incrementing time to 5\n",
        "Generating 165 progeny in host 82e2a...\n",
        "6 progeny have been made from virus 1c106 in host 82e2a\n",
        "7 progeny have been made from virus 5ce30 in host 82e2a\n",
        "8 progeny have been made from virus a26d8 in host 82e2a"
       ]
      },
      {
       "output_type": "stream",
       "stream": "stdout",
       "text": [
        "\n",
        "7 progeny have been made from virus e26bf in host 82e2a\n",
        "6 progeny have been made from virus a26d8 in host 82e2a\n",
        "7 progeny have been made from virus afe66 in host 82e2a"
       ]
      },
      {
       "output_type": "stream",
       "stream": "stdout",
       "text": [
        "\n",
        "8 progeny have been made from virus 87335 in host 82e2a\n",
        "9 progeny have been made from virus 87335 in host 82e2a"
       ]
      },
      {
       "output_type": "stream",
       "stream": "stdout",
       "text": [
        "\n",
        "6 progeny have been made from virus ed9a6 in host 82e2a\n",
        "5 progeny have been made from virus 167f1 in host 82e2a\n",
        "8 progeny have been made from virus 53908 in host 82e2a"
       ]
      },
      {
       "output_type": "stream",
       "stream": "stdout",
       "text": [
        "\n",
        "5 progeny have been made from virus e7861 in host 82e2a\n",
        "8 progeny have been made from virus 443a6 in host 82e2a\n",
        "8 progeny have been made from virus ec218 in host 82e2a"
       ]
      },
      {
       "output_type": "stream",
       "stream": "stdout",
       "text": [
        "\n",
        "9 progeny have been made from virus 97211 in host 82e2a\n",
        "5 progeny have been made from virus 55e0d in host 82e2a"
       ]
      },
      {
       "output_type": "stream",
       "stream": "stdout",
       "text": [
        "\n",
        "5 progeny have been made from virus 23813 in host 82e2a\n",
        "5 progeny have been made from virus e7861 in host 82e2a\n",
        "5 progeny have been made from virus bac2f in host 82e2a"
       ]
      },
      {
       "output_type": "stream",
       "stream": "stdout",
       "text": [
        "\n",
        "5 progeny have been made from virus b000a in host 82e2a\n",
        "6 progeny have been made from virus e26bf in host 82e2a\n",
        "8 progeny have been made from virus bdcef in host 82e2a"
       ]
      },
      {
       "output_type": "stream",
       "stream": "stdout",
       "text": [
        "\n",
        "8 progeny have been made from virus bdcef in host 82e2a\n",
        "10 progeny have been made from virus 69128 in host 82e2a"
       ]
      },
      {
       "output_type": "stream",
       "stream": "stdout",
       "text": [
        "\n",
        "8 progeny have been made from virus b2984 in host 82e2a\n",
        "172 progeny generated in host 82e2a.\n",
        "Current time is 5. Incrementing time to 6\n",
        "Generating 37 progeny in host 82e2a...\n",
        "7 progeny have been made from virus 0c43c in host 82e2a"
       ]
      },
      {
       "output_type": "stream",
       "stream": "stdout",
       "text": [
        "\n",
        "6 progeny have been made from virus a9013 in host 82e2a\n",
        "6 progeny have been made from virus d63bc in host 82e2a"
       ]
      },
      {
       "output_type": "stream",
       "stream": "stdout",
       "text": [
        "\n",
        "7 progeny have been made from virus 8df19 in host 82e2a\n",
        "7 progeny have been made from virus 01c21 in host 82e2a"
       ]
      },
      {
       "output_type": "stream",
       "stream": "stdout",
       "text": [
        "\n",
        "10 progeny have been made from virus 1cc64 in host 82e2a"
       ]
      },
      {
       "output_type": "stream",
       "stream": "stdout",
       "text": [
        "\n",
        "43 progeny generated in host 82e2a.\n",
        "Current time is 6. Incrementing time to 7\n",
        "Generating 90 progeny in host 82e2a...\n",
        "9 progeny have been made from virus d0452 in host 82e2a\n",
        "6 progeny have been made from virus 66953 in host 82e2a"
       ]
      },
      {
       "output_type": "stream",
       "stream": "stdout",
       "text": [
        "\n",
        "9 progeny have been made from virus 01479 in host 82e2a\n",
        "5 progeny have been made from virus b4a02 in host 82e2a"
       ]
      },
      {
       "output_type": "stream",
       "stream": "stdout",
       "text": [
        "\n",
        "7 progeny have been made from virus 581da in host 82e2a\n",
        "6 progeny have been made from virus 86ee9 in host 82e2a"
       ]
      },
      {
       "output_type": "stream",
       "stream": "stdout",
       "text": [
        "\n",
        "7 progeny have been made from virus 6bd72 in host 82e2a\n",
        "8 progeny have been made from virus cc714 in host 82e2a"
       ]
      },
      {
       "output_type": "stream",
       "stream": "stdout",
       "text": [
        "\n",
        "8 progeny have been made from virus 7f2a3 in host 82e2a\n",
        "5 progeny have been made from virus d9150 in host 82e2a"
       ]
      },
      {
       "output_type": "stream",
       "stream": "stdout",
       "text": [
        "\n",
        "9 progeny have been made from virus ab85b in host 82e2a\n",
        "5 progeny have been made from virus 3a524 in host 82e2a"
       ]
      },
      {
       "output_type": "stream",
       "stream": "stdout",
       "text": [
        "\n",
        "7 progeny have been made from virus c0fab in host 82e2a\n",
        "91 progeny generated in host 82e2a.\n",
        "Current time is 7. Incrementing time to 8\n",
        "Generating 19 progeny in host 82e2a...\n",
        "5 progeny have been made from virus 49b86 in host 82e2a\n",
        "10 progeny have been made from virus 43ba1 in host 82e2a"
       ]
      },
      {
       "output_type": "stream",
       "stream": "stdout",
       "text": [
        "\n",
        "5 progeny have been made from virus d9656 in host 82e2a\n",
        "20 progeny generated in host 82e2a.\n",
        "Current time is 8. Incrementing time to 9\n",
        "Generating 56 progeny in host 82e2a...\n",
        "7 progeny have been made from virus 755fb in host 82e2a"
       ]
      },
      {
       "output_type": "stream",
       "stream": "stdout",
       "text": [
        "\n",
        "7 progeny have been made from virus 96278 in host 82e2a\n",
        "7 progeny have been made from virus b9607 in host 82e2a"
       ]
      },
      {
       "output_type": "stream",
       "stream": "stdout",
       "text": [
        "\n",
        "10 progeny have been made from virus e3eae in host 82e2a\n",
        "6 progeny have been made from virus c53c8 in host 82e2a"
       ]
      },
      {
       "output_type": "stream",
       "stream": "stdout",
       "text": [
        "\n",
        "7 progeny have been made from virus b4151 in host 82e2a\n",
        "9 progeny have been made from virus 80c13 in host 82e2a"
       ]
      },
      {
       "output_type": "stream",
       "stream": "stdout",
       "text": [
        "\n",
        "10 progeny have been made from virus 25ff0 in host 82e2a"
       ]
      },
      {
       "output_type": "stream",
       "stream": "stdout",
       "text": [
        "\n",
        "63 progeny generated in host 82e2a.\n",
        "Current time is 9. Incrementing time to 10\n",
        "Generating 109 progeny in host 82e2a...\n",
        "5 progeny have been made from virus 01e05 in host 82e2a\n",
        "10 progeny have been made from virus 5596a in host 82e2a"
       ]
      },
      {
       "output_type": "stream",
       "stream": "stdout",
       "text": [
        "\n",
        "10 progeny have been made from virus 68bff in host 82e2a"
       ]
      },
      {
       "output_type": "stream",
       "stream": "stdout",
       "text": [
        "\n",
        "5 progeny have been made from virus 5596a in host 82e2a\n",
        "7 progeny have been made from virus 765ec in host 82e2a"
       ]
      },
      {
       "output_type": "stream",
       "stream": "stdout",
       "text": [
        "\n",
        "10 progeny have been made from virus 56922 in host 82e2a"
       ]
      },
      {
       "output_type": "stream",
       "stream": "stdout",
       "text": [
        "\n",
        "6 progeny have been made from virus e79c6 in host 82e2a\n",
        "6 progeny have been made from virus fe324 in host 82e2a"
       ]
      },
      {
       "output_type": "stream",
       "stream": "stdout",
       "text": [
        "\n",
        "10 progeny have been made from virus 2bb9c in host 82e2a"
       ]
      },
      {
       "output_type": "stream",
       "stream": "stdout",
       "text": [
        "\n",
        "5 progeny have been made from virus 4d07c in host 82e2a\n",
        "7 progeny have been made from virus 94220 in host 82e2a"
       ]
      },
      {
       "output_type": "stream",
       "stream": "stdout",
       "text": [
        "\n",
        "5 progeny have been made from virus 893ee in host 82e2a\n",
        "8 progeny have been made from virus f2281 in host 82e2a"
       ]
      },
      {
       "output_type": "stream",
       "stream": "stdout",
       "text": [
        "\n",
        "7 progeny have been made from virus f0bb4 in host 82e2a\n",
        "8 progeny have been made from virus 78b3d in host 82e2a"
       ]
      },
      {
       "output_type": "stream",
       "stream": "stdout",
       "text": [
        "\n",
        "109 progeny generated in host 82e2a.\n",
        "Current time is 10. Incrementing time to 11\n",
        "Generating 58 progeny in host 82e2a...\n",
        "10 progeny have been made from virus c5a1f in host 82e2a"
       ]
      },
      {
       "output_type": "stream",
       "stream": "stdout",
       "text": [
        "\n",
        "9 progeny have been made from virus 379b4 in host 82e2a"
       ]
      },
      {
       "output_type": "stream",
       "stream": "stdout",
       "text": [
        "\n",
        "10 progeny have been made from virus 738a3 in host 82e2a"
       ]
      },
      {
       "output_type": "stream",
       "stream": "stdout",
       "text": [
        "\n",
        "7 progeny have been made from virus cba32 in host 82e2a\n",
        "6 progeny have been made from virus a047f in host 82e2a"
       ]
      },
      {
       "output_type": "stream",
       "stream": "stdout",
       "text": [
        "\n",
        "10 progeny have been made from virus dbf4d in host 82e2a"
       ]
      },
      {
       "output_type": "stream",
       "stream": "stdout",
       "text": [
        "\n",
        "9 progeny have been made from virus f3152 in host 82e2a"
       ]
      },
      {
       "output_type": "stream",
       "stream": "stdout",
       "text": [
        "\n",
        "61 progeny generated in host 82e2a.\n",
        "Current time is 11. Incrementing time to 12\n",
        "Generating 96 progeny in host 82e2a...\n",
        "8 progeny have been made from virus 13ef6 in host 82e2a"
       ]
      },
      {
       "output_type": "stream",
       "stream": "stdout",
       "text": [
        "\n",
        "9 progeny have been made from virus b4e60 in host 82e2a"
       ]
      },
      {
       "output_type": "stream",
       "stream": "stdout",
       "text": [
        "\n",
        "10 progeny have been made from virus c8fa4 in host 82e2a"
       ]
      },
      {
       "output_type": "stream",
       "stream": "stdout",
       "text": [
        "\n",
        "9 progeny have been made from virus 70491 in host 82e2a"
       ]
      },
      {
       "output_type": "stream",
       "stream": "stdout",
       "text": [
        "\n",
        "6 progeny have been made from virus 2c076 in host 82e2a\n",
        "9 progeny have been made from virus d30c8 in host 82e2a"
       ]
      },
      {
       "output_type": "stream",
       "stream": "stdout",
       "text": [
        "\n",
        "9 progeny have been made from virus 3b52d in host 82e2a"
       ]
      },
      {
       "output_type": "stream",
       "stream": "stdout",
       "text": [
        "\n",
        "8 progeny have been made from virus c2afe in host 82e2a\n",
        "8 progeny have been made from virus 2567e in host 82e2a"
       ]
      },
      {
       "output_type": "stream",
       "stream": "stdout",
       "text": [
        "\n",
        "6 progeny have been made from virus 064b8 in host 82e2a\n",
        "10 progeny have been made from virus a1722 in host 82e2a"
       ]
      },
      {
       "output_type": "stream",
       "stream": "stdout",
       "text": [
        "\n",
        "10 progeny have been made from virus 5906c in host 82e2a"
       ]
      },
      {
       "output_type": "stream",
       "stream": "stdout",
       "text": [
        "\n",
        "102 progeny generated in host 82e2a.\n",
        "Current time is 12. Incrementing time to 13\n",
        "Generating 91 progeny in host 82e2a...\n",
        "10 progeny have been made from virus 17c04 in host 82e2a"
       ]
      },
      {
       "output_type": "stream",
       "stream": "stdout",
       "text": [
        "\n",
        "9 progeny have been made from virus d99d3 in host 82e2a"
       ]
      },
      {
       "output_type": "stream",
       "stream": "stdout",
       "text": [
        "\n",
        "5 progeny have been made from virus a5337 in host 82e2a\n",
        "7 progeny have been made from virus 24372 in host 82e2a"
       ]
      },
      {
       "output_type": "stream",
       "stream": "stdout",
       "text": [
        "\n",
        "9 progeny have been made from virus 467ce in host 82e2a"
       ]
      },
      {
       "output_type": "stream",
       "stream": "stdout",
       "text": [
        "\n",
        "7 progeny have been made from virus c316e in host 82e2a\n",
        "7 progeny have been made from virus efdc4 in host 82e2a"
       ]
      },
      {
       "output_type": "stream",
       "stream": "stdout",
       "text": [
        "\n",
        "8 progeny have been made from virus 5a28d in host 82e2a"
       ]
      },
      {
       "output_type": "stream",
       "stream": "stdout",
       "text": [
        "\n",
        "7 progeny have been made from virus e22e1 in host 82e2a\n",
        "10 progeny have been made from virus 64f6e in host 82e2a"
       ]
      },
      {
       "output_type": "stream",
       "stream": "stdout",
       "text": [
        "\n",
        "5 progeny have been made from virus 6de87 in host 82e2a\n",
        "8 progeny have been made from virus afc0d in host 82e2a"
       ]
      },
      {
       "output_type": "stream",
       "stream": "stdout",
       "text": [
        "\n",
        "92 progeny generated in host 82e2a.\n",
        "Current time is 13. Incrementing time to 14\n",
        "Generating 56 progeny in host 82e2a...\n",
        "7 progeny have been made from virus a691b in host 82e2a"
       ]
      },
      {
       "output_type": "stream",
       "stream": "stdout",
       "text": [
        "\n",
        "8 progeny have been made from virus 7a632 in host 82e2a"
       ]
      },
      {
       "output_type": "stream",
       "stream": "stdout",
       "text": [
        "\n",
        "7 progeny have been made from virus 3cb93 in host 82e2a\n",
        "6 progeny have been made from virus e6f2c in host 82e2a"
       ]
      },
      {
       "output_type": "stream",
       "stream": "stdout",
       "text": [
        "\n",
        "5 progeny have been made from virus 47dc5 in host 82e2a\n",
        "8 progeny have been made from virus 76b70 in host 82e2a"
       ]
      },
      {
       "output_type": "stream",
       "stream": "stdout",
       "text": [
        "\n",
        "10 progeny have been made from virus 2daab in host 82e2a"
       ]
      },
      {
       "output_type": "stream",
       "stream": "stdout",
       "text": [
        "\n",
        "7 progeny have been made from virus 0d034 in host 82e2a"
       ]
      },
      {
       "output_type": "stream",
       "stream": "stdout",
       "text": [
        "\n",
        "58 progeny generated in host 82e2a.\n",
        "Current time is 14. Incrementing time to 15\n",
        "Generating 5 progeny in host 82e2a...\n",
        "9 progeny have been made from virus 85f0c in host 82e2a"
       ]
      },
      {
       "output_type": "stream",
       "stream": "stdout",
       "text": [
        "\n",
        "9 progeny generated in host 82e2a.\n",
        "Current time is 15. Incrementing time to 16\n",
        "Generating 6 progeny in host 82e2a...\n",
        "5 progeny have been made from virus 821bf in host 82e2a\n",
        "5 progeny have been made from virus 2cf2f in host 82e2a"
       ]
      },
      {
       "output_type": "stream",
       "stream": "stdout",
       "text": [
        "\n",
        "10 progeny generated in host 82e2a.\n",
        "Current time is 16. Incrementing time to 17\n",
        "Generating 7 progeny in host 82e2a...\n",
        "10 progeny have been made from virus 40f76 in host 82e2a"
       ]
      },
      {
       "output_type": "stream",
       "stream": "stdout",
       "text": [
        "\n",
        "10 progeny generated in host 82e2a.\n",
        "Current time is 17. Incrementing time to 18\n",
        "Generating 11 progeny in host 82e2a...\n",
        "5 progeny have been made from virus ac077 in host 82e2a\n",
        "8 progeny have been made from virus d504d in host 82e2a"
       ]
      },
      {
       "output_type": "stream",
       "stream": "stdout",
       "text": [
        "\n",
        "13 progeny generated in host 82e2a.\n",
        "Current time is 18. Incrementing time to 19\n",
        "Generating 15 progeny in host 82e2a...\n",
        "8 progeny have been made from virus 3e5db in host 82e2a"
       ]
      },
      {
       "output_type": "stream",
       "stream": "stdout",
       "text": [
        "\n",
        "10 progeny have been made from virus 7cfca in host 82e2a"
       ]
      },
      {
       "output_type": "stream",
       "stream": "stdout",
       "text": [
        "\n",
        "18 progeny generated in host 82e2a.\n",
        "Current time is 19. Incrementing time to 20\n",
        "Generating 11 progeny in host 82e2a...\n",
        "8 progeny have been made from virus bcd96 in host 82e2a"
       ]
      },
      {
       "output_type": "stream",
       "stream": "stdout",
       "text": [
        "\n",
        "7 progeny have been made from virus c8a1e in host 82e2a"
       ]
      },
      {
       "output_type": "stream",
       "stream": "stdout",
       "text": [
        "\n",
        "15 progeny generated in host 82e2a.\n",
        "Current time is 20. Incrementing time to 21\n",
        "Generating 1 progeny in host 82e2a...\n",
        "5 progeny have been made from virus 876a7 in host 82e2a\n",
        "5 progeny generated in host 82e2a.\n",
        "Current time is 21. Incrementing time to 22\n",
        "Generating 0 progeny in host 82e2a...\n",
        "0 progeny generated in host 82e2a.\n",
        "Current time is 22. Incrementing time to 23\n",
        "Generating 0 progeny in host 82e2a...\n",
        "0 progeny generated in host 82e2a.\n",
        "Current time is 23. Incrementing time to 24\n",
        "Current time is 24. Incrementing time to 25\n",
        "Current time is 25. Incrementing time to 26\n",
        "Current time is 26. Incrementing time to 27\n",
        "Current time is 27. Incrementing time to 28\n",
        "Current time is 28. Incrementing time to 29\n",
        "Current time is 29. Incrementing time to 30\n",
        "Adding host bf77d... to environment 4e456...\n",
        "Creating environment 4e456\n",
        "Creating virus c0638 inside host bf77d\n",
        "Current time is 0. Incrementing time to 1\n",
        "Generating 4 progeny in host bf77d...\n",
        "5 progeny have been made from virus c0638 in host bf77d"
       ]
      },
      {
       "output_type": "stream",
       "stream": "stdout",
       "text": [
        "\n",
        "5 progeny generated in host bf77d.\n",
        "Current time is 1. Incrementing time to 2\n",
        "Generating 16 progeny in host bf77d...\n",
        "9 progeny have been made from virus 58b5f in host bf77d\n",
        "6 progeny have been made from virus c0638 in host bf77d\n",
        "9 progeny have been made from virus 9aeb1 in host bf77d"
       ]
      },
      {
       "output_type": "stream",
       "stream": "stdout",
       "text": [
        "\n",
        "24 progeny generated in host bf77d.\n",
        "Current time is 2. Incrementing time to 3\n",
        "Generating 47 progeny in host bf77d...\n",
        "5 progeny have been made from virus f91a1 in host bf77d\n",
        "10 progeny have been made from virus af008 in host bf77d\n",
        "5 progeny have been made from virus 421cc in host bf77d"
       ]
      },
      {
       "output_type": "stream",
       "stream": "stdout",
       "text": [
        "\n",
        "7 progeny have been made from virus 7f400 in host bf77d\n",
        "10 progeny have been made from virus b4dfa in host bf77d"
       ]
      },
      {
       "output_type": "stream",
       "stream": "stdout",
       "text": [
        "\n",
        "5 progeny have been made from virus af008 in host bf77d\n",
        "6 progeny have been made from virus f91a1 in host bf77d"
       ]
      },
      {
       "output_type": "stream",
       "stream": "stdout",
       "text": [
        "\n",
        "48 progeny generated in host bf77d.\n",
        "Current time is 3. Incrementing time to 4\n",
        "Generating 42 progeny in host bf77d...\n",
        "5 progeny have been made from virus 605f4 in host bf77d\n",
        "7 progeny have been made from virus 596c2 in host bf77d"
       ]
      },
      {
       "output_type": "stream",
       "stream": "stdout",
       "text": [
        "\n",
        "6 progeny have been made from virus a6550 in host bf77d\n",
        "6 progeny have been made from virus b3a1b in host bf77d"
       ]
      },
      {
       "output_type": "stream",
       "stream": "stdout",
       "text": [
        "\n",
        "10 progeny have been made from virus 89dc8 in host bf77d\n",
        "9 progeny have been made from virus 1874a in host bf77d"
       ]
      },
      {
       "output_type": "stream",
       "stream": "stdout",
       "text": [
        "\n",
        "43 progeny generated in host bf77d.\n",
        "Current time is 4. Incrementing time to 5\n",
        "Generating 37 progeny in host bf77d...\n",
        "8 progeny have been made from virus 288af in host bf77d\n",
        "5 progeny have been made from virus 3287f in host bf77d\n",
        "7 progeny have been made from virus bff21 in host bf77d"
       ]
      },
      {
       "output_type": "stream",
       "stream": "stdout",
       "text": [
        "\n",
        "7 progeny have been made from virus f91a1 in host bf77d\n",
        "10 progeny have been made from virus 93de8 in host bf77d"
       ]
      },
      {
       "output_type": "stream",
       "stream": "stdout",
       "text": [
        "\n",
        "37 progeny generated in host bf77d.\n",
        "Current time is 5. Incrementing time to 6\n",
        "Generating 45 progeny in host bf77d...\n",
        "10 progeny have been made from virus 9c2fd in host bf77d"
       ]
      },
      {
       "output_type": "stream",
       "stream": "stdout",
       "text": [
        "\n",
        "9 progeny have been made from virus 9c8f7 in host bf77d"
       ]
      },
      {
       "output_type": "stream",
       "stream": "stdout",
       "text": [
        "\n",
        "10 progeny have been made from virus cf3d9 in host bf77d\n",
        "8 progeny have been made from virus b866b in host bf77d"
       ]
      },
      {
       "output_type": "stream",
       "stream": "stdout",
       "text": [
        "\n",
        "10 progeny have been made from virus 4f9ab in host bf77d\n",
        "47 progeny generated in host bf77d.\n",
        "Current time is 6. Incrementing time to 7\n",
        "Generating 65 progeny in host bf77d...\n",
        "7 progeny have been made from virus 9c213 in host bf77d"
       ]
      },
      {
       "output_type": "stream",
       "stream": "stdout",
       "text": [
        "\n",
        "10 progeny have been made from virus 15230 in host bf77d\n",
        "8 progeny have been made from virus 939a6 in host bf77d"
       ]
      },
      {
       "output_type": "stream",
       "stream": "stdout",
       "text": [
        "\n",
        "10 progeny have been made from virus f91a1 in host bf77d\n",
        "9 progeny have been made from virus 00a8f in host bf77d"
       ]
      },
      {
       "output_type": "stream",
       "stream": "stdout",
       "text": [
        "\n",
        "7 progeny have been made from virus 9c2fd in host bf77d\n",
        "6 progeny have been made from virus 5e05e in host bf77d"
       ]
      },
      {
       "output_type": "stream",
       "stream": "stdout",
       "text": [
        "\n",
        "9 progeny have been made from virus a941f in host bf77d\n",
        "66 progeny generated in host bf77d.\n",
        "Current time is 7. Incrementing time to 8\n",
        "Generating 11 progeny in host bf77d...\n",
        "5 progeny have been made from virus 09aa9 in host bf77d"
       ]
      },
      {
       "output_type": "stream",
       "stream": "stdout",
       "text": [
        "\n",
        "8 progeny have been made from virus b13a7 in host bf77d\n",
        "13 progeny generated in host bf77d.\n",
        "Current time is 8. Incrementing time to 9\n",
        "Generating 1 progeny in host bf77d...\n",
        "10 progeny have been made from virus 6d4f7 in host bf77d"
       ]
      },
      {
       "output_type": "stream",
       "stream": "stdout",
       "text": [
        "\n",
        "10 progeny generated in host bf77d.\n",
        "Current time is 9. Incrementing time to 10\n",
        "Generating 6 progeny in host bf77d...\n",
        "9 progeny have been made from virus 7af7e in host bf77d\n",
        "9 progeny generated in host bf77d.\n",
        "Current time is 10. Incrementing time to 11\n",
        "Generating 7 progeny in host bf77d...\n",
        "10 progeny have been made from virus a0997 in host bf77d"
       ]
      },
      {
       "output_type": "stream",
       "stream": "stdout",
       "text": [
        "\n",
        "10 progeny generated in host bf77d.\n",
        "Current time is 11. Incrementing time to 12\n",
        "Generating 3 progeny in host bf77d...\n",
        "5 progeny have been made from virus 49700 in host bf77d\n",
        "5 progeny generated in host bf77d.\n",
        "Current time is 12. Incrementing time to 13\n",
        "Generating 3 progeny in host bf77d...\n",
        "8 progeny have been made from virus 8daa5 in host bf77d"
       ]
      },
      {
       "output_type": "stream",
       "stream": "stdout",
       "text": [
        "\n",
        "8 progeny generated in host bf77d.\n",
        "Current time is 13. Incrementing time to 14\n",
        "Generating 9 progeny in host bf77d...\n",
        "8 progeny have been made from virus df202 in host bf77d\n",
        "9 progeny have been made from virus 46a7a in host bf77d"
       ]
      },
      {
       "output_type": "stream",
       "stream": "stdout",
       "text": [
        "\n",
        "17 progeny generated in host bf77d.\n",
        "Current time is 14. Incrementing time to 15\n",
        "Generating 0 progeny in host bf77d...\n",
        "0 progeny generated in host bf77d.\n",
        "Current time is 15. Incrementing time to 16\n",
        "Generating 1 progeny in host bf77d...\n",
        "8 progeny have been made from virus b6d64 in host bf77d\n",
        "8 progeny generated in host bf77d.\n",
        "Current time is 16. Incrementing time to 17\n",
        "Generating 4 progeny in host bf77d...\n",
        "9 progeny have been made from virus e1b84 in host bf77d"
       ]
      },
      {
       "output_type": "stream",
       "stream": "stdout",
       "text": [
        "\n",
        "9 progeny generated in host bf77d.\n",
        "Current time is 17. Incrementing time to 18\n",
        "Generating 0 progeny in host bf77d...\n",
        "0 progeny generated in host bf77d.\n",
        "Current time is 18. Incrementing time to 19\n",
        "Generating 2 progeny in host bf77d...\n",
        "6 progeny have been made from virus ce06a in host bf77d\n",
        "6 progeny generated in host bf77d.\n",
        "Current time is 19. Incrementing time to 20\n",
        "Generating 1 progeny in host bf77d...\n",
        "10 progeny have been made from virus a2d8f in host bf77d"
       ]
      },
      {
       "output_type": "stream",
       "stream": "stdout",
       "text": [
        "\n",
        "10 progeny generated in host bf77d.\n",
        "Current time is 20. Incrementing time to 21\n",
        "Generating 7 progeny in host bf77d...\n",
        "5 progeny have been made from virus 924ab in host bf77d\n",
        "10 progeny have been made from virus 924ab in host bf77d"
       ]
      },
      {
       "output_type": "stream",
       "stream": "stdout",
       "text": [
        "\n",
        "15 progeny generated in host bf77d.\n",
        "Current time is 21. Incrementing time to 22\n",
        "Generating 4 progeny in host bf77d...\n",
        "7 progeny have been made from virus 98000 in host bf77d\n",
        "7 progeny generated in host bf77d.\n",
        "Current time is 22. Incrementing time to 23\n",
        "Generating 3 progeny in host bf77d...\n",
        "8 progeny have been made from virus 81f24 in host bf77d"
       ]
      },
      {
       "output_type": "stream",
       "stream": "stdout",
       "text": [
        "\n",
        "8 progeny generated in host bf77d.\n",
        "Current time is 23. Incrementing time to 24\n",
        "Generating 0 progeny in host bf77d...\n",
        "0 progeny generated in host bf77d.\n",
        "Current time is 24. Incrementing time to 25\n",
        "Generating 1 progeny in host bf77d...\n",
        "9 progeny have been made from virus 2de4f in host bf77d\n",
        "9 progeny generated in host bf77d.\n",
        "Current time is 25. Incrementing time to 26\n",
        "Generating 2 progeny in host bf77d...\n",
        "10 progeny have been made from virus 82f8d in host bf77d"
       ]
      },
      {
       "output_type": "stream",
       "stream": "stdout",
       "text": [
        "\n",
        "10 progeny generated in host bf77d.\n",
        "Current time is 26. Incrementing time to 27\n",
        "Generating 0 progeny in host bf77d...\n",
        "0 progeny generated in host bf77d.\n",
        "Current time is 27. Incrementing time to 28\n",
        "Generating 1 progeny in host bf77d...\n",
        "10 progeny have been made from virus e83a5 in host bf77d\n",
        "10 progeny generated in host bf77d.\n",
        "Current time is 28. Incrementing time to 29\n",
        "Generating 5 progeny in host bf77d...\n",
        "5 progeny have been made from virus fda8d in host bf77d"
       ]
      },
      {
       "output_type": "stream",
       "stream": "stdout",
       "text": [
        "\n",
        "5 progeny generated in host bf77d.\n",
        "Current time is 29. Incrementing time to 30\n",
        "Generating 2 progeny in host bf77d...\n",
        "5 progeny have been made from virus 3fd40 in host bf77d\n",
        "5 progeny generated in host bf77d.\n",
        "Adding host c3744... to environment 67656...\n",
        "Creating environment 67656\n",
        "Creating virus 670fe inside host c3744\n",
        "Current time is 0. Incrementing time to 1\n",
        "Generating 5 progeny in host c3744...\n",
        "10 progeny have been made from virus 670fe in host c3744"
       ]
      },
      {
       "output_type": "stream",
       "stream": "stdout",
       "text": [
        "\n",
        "10 progeny generated in host c3744.\n",
        "Current time is 1. Incrementing time to 2\n",
        "Generating 33 progeny in host c3744...\n",
        "7 progeny have been made from virus cc44e in host c3744\n",
        "8 progeny have been made from virus 670fe in host c3744\n",
        "10 progeny have been made from virus cc44e in host c3744"
       ]
      },
      {
       "output_type": "stream",
       "stream": "stdout",
       "text": [
        "\n",
        "6 progeny have been made from virus afec7 in host c3744\n",
        "10 progeny have been made from virus 41992 in host c3744\n",
        "41 progeny generated in host c3744.\n",
        "Current time is 2. Incrementing time to 3\n",
        "Generating 77 progeny in host c3744...\n",
        "5 progeny have been made from virus 016a0 in host c3744"
       ]
      },
      {
       "output_type": "stream",
       "stream": "stdout",
       "text": [
        "\n",
        "6 progeny have been made from virus 526eb in host c3744\n",
        "7 progeny have been made from virus 0a233 in host c3744\n",
        "8 progeny have been made from virus fc417 in host c3744"
       ]
      },
      {
       "output_type": "stream",
       "stream": "stdout",
       "text": [
        "\n",
        "8 progeny have been made from virus fbf0a in host c3744\n",
        "10 progeny have been made from virus 7cc12 in host c3744\n",
        "9 progeny have been made from virus 77c50 in host c3744"
       ]
      },
      {
       "output_type": "stream",
       "stream": "stdout",
       "text": [
        "\n",
        "8 progeny have been made from virus e653b in host c3744\n",
        "8 progeny have been made from virus fbf0a in host c3744\n",
        "8 progeny have been made from virus 7226b in host c3744"
       ]
      },
      {
       "output_type": "stream",
       "stream": "stdout",
       "text": [
        "\n",
        "77 progeny generated in host c3744.\n",
        "Current time is 3. Incrementing time to 4\n",
        "Generating 240 progeny in host c3744...\n",
        "9 progeny have been made from virus ae7e8 in host c3744\n",
        "8 progeny have been made from virus abf68 in host c3744\n",
        "6 progeny have been made from virus ae7e8 in host c3744"
       ]
      },
      {
       "output_type": "stream",
       "stream": "stdout",
       "text": [
        "\n",
        "10 progeny have been made from virus 71fce in host c3744\n",
        "10 progeny have been made from virus af205 in host c3744"
       ]
      },
      {
       "output_type": "stream",
       "stream": "stdout",
       "text": [
        "\n",
        "9 progeny have been made from virus 6dbad in host c3744\n",
        "7 progeny have been made from virus c4383 in host c3744"
       ]
      },
      {
       "output_type": "stream",
       "stream": "stdout",
       "text": [
        "\n",
        "5 progeny have been made from virus e57fb in host c3744\n",
        "7 progeny have been made from virus c4383 in host c3744\n",
        "8 progeny have been made from virus 5722c in host c3744"
       ]
      },
      {
       "output_type": "stream",
       "stream": "stdout",
       "text": [
        "\n",
        "8 progeny have been made from virus 2b614 in host c3744\n",
        "6 progeny have been made from virus f83ab in host c3744"
       ]
      },
      {
       "output_type": "stream",
       "stream": "stdout",
       "text": [
        "\n",
        "6 progeny have been made from virus 4f913 in host c3744\n",
        "7 progeny have been made from virus b0912 in host c3744"
       ]
      },
      {
       "output_type": "stream",
       "stream": "stdout",
       "text": [
        "\n",
        "6 progeny have been made from virus c3d95 in host c3744\n",
        "7 progeny have been made from virus b7a00 in host c3744"
       ]
      },
      {
       "output_type": "stream",
       "stream": "stdout",
       "text": [
        "\n",
        "5 progeny have been made from virus fbf0a in host c3744\n",
        "7 progeny have been made from virus 8cf0f in host c3744\n",
        "8 progeny have been made from virus 44bab in host c3744"
       ]
      },
      {
       "output_type": "stream",
       "stream": "stdout",
       "text": [
        "\n",
        "9 progeny have been made from virus a015b in host c3744\n",
        "9 progeny have been made from virus abf68 in host c3744"
       ]
      },
      {
       "output_type": "stream",
       "stream": "stdout",
       "text": [
        "\n",
        "9 progeny have been made from virus 85ee2 in host c3744\n",
        "7 progeny have been made from virus 20c0b in host c3744"
       ]
      },
      {
       "output_type": "stream",
       "stream": "stdout",
       "text": [
        "\n",
        "6 progeny have been made from virus 6e788 in host c3744\n",
        "7 progeny have been made from virus a4c9b in host c3744"
       ]
      },
      {
       "output_type": "stream",
       "stream": "stdout",
       "text": [
        "\n",
        "9 progeny have been made from virus dd95a in host c3744\n",
        "5 progeny have been made from virus c47cd in host c3744"
       ]
      },
      {
       "output_type": "stream",
       "stream": "stdout",
       "text": [
        "\n",
        "7 progeny have been made from virus 4f913 in host c3744\n",
        "8 progeny have been made from virus 27c4d in host c3744"
       ]
      },
      {
       "output_type": "stream",
       "stream": "stdout",
       "text": [
        "\n",
        "7 progeny have been made from virus e4fb5 in host c3744\n",
        "5 progeny have been made from virus 743b2 in host c3744\n",
        "9 progeny have been made from virus cfc98 in host c3744"
       ]
      },
      {
       "output_type": "stream",
       "stream": "stdout",
       "text": [
        "\n",
        "7 progeny have been made from virus ed7f4 in host c3744\n",
        "243 progeny generated in host c3744.\n",
        "Current time is 4. Incrementing time to 5\n",
        "Generating 65 progeny in host c3744...\n",
        "5 progeny have been made from virus 9c80c in host c3744"
       ]
      },
      {
       "output_type": "stream",
       "stream": "stdout",
       "text": [
        "\n",
        "6 progeny have been made from virus 22f69 in host c3744\n",
        "7 progeny have been made from virus 157db in host c3744"
       ]
      },
      {
       "output_type": "stream",
       "stream": "stdout",
       "text": [
        "\n",
        "10 progeny have been made from virus f76fc in host c3744"
       ]
      },
      {
       "output_type": "stream",
       "stream": "stdout",
       "text": [
        "\n",
        "6 progeny have been made from virus 69b09 in host c3744\n",
        "10 progeny have been made from virus 8181d in host c3744"
       ]
      },
      {
       "output_type": "stream",
       "stream": "stdout",
       "text": [
        "\n",
        "9 progeny have been made from virus 948ef in host c3744\n",
        "5 progeny have been made from virus ad0f1 in host c3744"
       ]
      },
      {
       "output_type": "stream",
       "stream": "stdout",
       "text": [
        "\n",
        "5 progeny have been made from virus e6acc in host c3744\n",
        "8 progeny have been made from virus a1f81 in host c3744"
       ]
      },
      {
       "output_type": "stream",
       "stream": "stdout",
       "text": [
        "\n",
        "71 progeny generated in host c3744.\n",
        "Current time is 5. Incrementing time to 6\n",
        "Generating 255 progeny in host c3744...\n",
        "9 progeny have been made from virus 2a524 in host c3744\n",
        "10 progeny have been made from virus bc48c in host c3744"
       ]
      },
      {
       "output_type": "stream",
       "stream": "stdout",
       "text": [
        "\n",
        "9 progeny have been made from virus 0fd8a in host c3744\n",
        "8 progeny have been made from virus 08ca6 in host c3744"
       ]
      },
      {
       "output_type": "stream",
       "stream": "stdout",
       "text": [
        "\n",
        "7 progeny have been made from virus 5e6ca in host c3744\n",
        "6 progeny have been made from virus 20c3d in host c3744"
       ]
      },
      {
       "output_type": "stream",
       "stream": "stdout",
       "text": [
        "\n",
        "9 progeny have been made from virus a4c9b in host c3744"
       ]
      },
      {
       "output_type": "stream",
       "stream": "stdout",
       "text": [
        "\n",
        "10 progeny have been made from virus 2a524 in host c3744\n",
        "7 progeny have been made from virus d0cdb in host c3744"
       ]
      },
      {
       "output_type": "stream",
       "stream": "stdout",
       "text": [
        "\n",
        "9 progeny have been made from virus 03b11 in host c3744\n",
        "7 progeny have been made from virus 63c86 in host c3744"
       ]
      },
      {
       "output_type": "stream",
       "stream": "stdout",
       "text": [
        "\n",
        "6 progeny have been made from virus c8c15 in host c3744\n",
        "9 progeny have been made from virus c10dd in host c3744"
       ]
      },
      {
       "output_type": "stream",
       "stream": "stdout",
       "text": [
        "\n",
        "5 progeny have been made from virus 42d19 in host c3744\n",
        "7 progeny have been made from virus 10ab2 in host c3744"
       ]
      },
      {
       "output_type": "stream",
       "stream": "stdout",
       "text": [
        "\n",
        "9 progeny have been made from virus 80666 in host c3744\n",
        "9 progeny have been made from virus ed7f4 in host c3744"
       ]
      },
      {
       "output_type": "stream",
       "stream": "stdout",
       "text": [
        "\n",
        "8 progeny have been made from virus 3ae59 in host c3744\n",
        "10 progeny have been made from virus 72eec in host c3744"
       ]
      },
      {
       "output_type": "stream",
       "stream": "stdout",
       "text": [
        "\n",
        "5 progeny have been made from virus b5fc1 in host c3744\n",
        "7 progeny have been made from virus 4d849 in host c3744"
       ]
      },
      {
       "output_type": "stream",
       "stream": "stdout",
       "text": [
        "\n",
        "6 progeny have been made from virus afba6 in host c3744\n",
        "6 progeny have been made from virus a1a41 in host c3744"
       ]
      },
      {
       "output_type": "stream",
       "stream": "stdout",
       "text": [
        "\n",
        "9 progeny have been made from virus 63c86 in host c3744\n",
        "10 progeny have been made from virus 408dc in host c3744"
       ]
      },
      {
       "output_type": "stream",
       "stream": "stdout",
       "text": [
        "\n",
        "10 progeny have been made from virus 23810 in host c3744"
       ]
      },
      {
       "output_type": "stream",
       "stream": "stdout",
       "text": [
        "\n",
        "9 progeny have been made from virus af936 in host c3744\n",
        "7 progeny have been made from virus 9a884 in host c3744"
       ]
      },
      {
       "output_type": "stream",
       "stream": "stdout",
       "text": [
        "\n",
        "8 progeny have been made from virus ad0f1 in host c3744\n",
        "10 progeny have been made from virus ea971 in host c3744"
       ]
      },
      {
       "output_type": "stream",
       "stream": "stdout",
       "text": [
        "\n",
        "5 progeny have been made from virus 743d3 in host c3744\n",
        "6 progeny have been made from virus fe2c0 in host c3744"
       ]
      },
      {
       "output_type": "stream",
       "stream": "stdout",
       "text": [
        "\n",
        "8 progeny have been made from virus 63c86 in host c3744\n",
        "260 progeny generated in host c3744.\n",
        "Current time is 6. Incrementing time to 7\n",
        "Generating 238 progeny in host c3744...\n",
        "8 progeny have been made from virus 22298 in host c3744"
       ]
      },
      {
       "output_type": "stream",
       "stream": "stdout",
       "text": [
        "\n",
        "10 progeny have been made from virus afba6 in host c3744"
       ]
      },
      {
       "output_type": "stream",
       "stream": "stdout",
       "text": [
        "\n",
        "5 progeny have been made from virus a93e6 in host c3744\n",
        "8 progeny have been made from virus 7db40 in host c3744"
       ]
      },
      {
       "output_type": "stream",
       "stream": "stdout",
       "text": [
        "\n",
        "10 progeny have been made from virus 01969 in host c3744"
       ]
      },
      {
       "output_type": "stream",
       "stream": "stdout",
       "text": [
        "\n",
        "8 progeny have been made from virus dfb0a in host c3744\n",
        "5 progeny have been made from virus 2513b in host c3744"
       ]
      },
      {
       "output_type": "stream",
       "stream": "stdout",
       "text": [
        "\n",
        "8 progeny have been made from virus c96c1 in host c3744"
       ]
      },
      {
       "output_type": "stream",
       "stream": "stdout",
       "text": [
        "\n",
        "7 progeny have been made from virus 94a6a in host c3744\n",
        "10 progeny have been made from virus a6aaf in host c3744"
       ]
      },
      {
       "output_type": "stream",
       "stream": "stdout",
       "text": [
        "\n",
        "7 progeny have been made from virus 9435a in host c3744"
       ]
      },
      {
       "output_type": "stream",
       "stream": "stdout",
       "text": [
        "\n",
        "10 progeny have been made from virus 2513b in host c3744"
       ]
      },
      {
       "output_type": "stream",
       "stream": "stdout",
       "text": [
        "\n",
        "9 progeny have been made from virus 96ee9 in host c3744"
       ]
      },
      {
       "output_type": "stream",
       "stream": "stdout",
       "text": [
        "\n",
        "5 progeny have been made from virus 23ce5 in host c3744\n",
        "9 progeny have been made from virus 3cc1c in host c3744"
       ]
      },
      {
       "output_type": "stream",
       "stream": "stdout",
       "text": [
        "\n",
        "7 progeny have been made from virus 58e5c in host c3744"
       ]
      },
      {
       "output_type": "stream",
       "stream": "stdout",
       "text": [
        "\n",
        "8 progeny have been made from virus fba9c in host c3744\n",
        "8 progeny have been made from virus 72bcb in host c3744"
       ]
      },
      {
       "output_type": "stream",
       "stream": "stdout",
       "text": [
        "\n",
        "5 progeny have been made from virus ac50c in host c3744\n",
        "5 progeny have been made from virus 62cd5 in host c3744"
       ]
      },
      {
       "output_type": "stream",
       "stream": "stdout",
       "text": [
        "\n",
        "6 progeny have been made from virus 80788 in host c3744\n",
        "9 progeny have been made from virus cac49 in host c3744"
       ]
      },
      {
       "output_type": "stream",
       "stream": "stdout",
       "text": [
        "\n",
        "9 progeny have been made from virus 52b3d in host c3744"
       ]
      },
      {
       "output_type": "stream",
       "stream": "stdout",
       "text": [
        "\n",
        "6 progeny have been made from virus 7bdef in host c3744\n",
        "6 progeny have been made from virus d04aa in host c3744"
       ]
      },
      {
       "output_type": "stream",
       "stream": "stdout",
       "text": [
        "\n",
        "8 progeny have been made from virus fba9c in host c3744"
       ]
      },
      {
       "output_type": "stream",
       "stream": "stdout",
       "text": [
        "\n",
        "8 progeny have been made from virus 5afc5 in host c3744"
       ]
      },
      {
       "output_type": "stream",
       "stream": "stdout",
       "text": [
        "\n",
        "8 progeny have been made from virus 9fb56 in host c3744"
       ]
      },
      {
       "output_type": "stream",
       "stream": "stdout",
       "text": [
        "\n",
        "9 progeny have been made from virus 11c1d in host c3744"
       ]
      },
      {
       "output_type": "stream",
       "stream": "stdout",
       "text": [
        "\n",
        "6 progeny have been made from virus d9c9e in host c3744"
       ]
      },
      {
       "output_type": "stream",
       "stream": "stdout",
       "text": [
        "\n",
        "9 progeny have been made from virus 08acb in host c3744"
       ]
      },
      {
       "output_type": "stream",
       "stream": "stdout",
       "text": [
        "\n",
        "10 progeny have been made from virus ccb4c in host c3744"
       ]
      },
      {
       "output_type": "stream",
       "stream": "stdout",
       "text": [
        "\n",
        "246 progeny generated in host c3744.\n",
        "Current time is 7. Incrementing time to 8\n",
        "Generating 340 progeny in host c3744...\n",
        "10 progeny have been made from virus 1ebe4 in host c3744"
       ]
      },
      {
       "output_type": "stream",
       "stream": "stdout",
       "text": [
        "\n",
        "6 progeny have been made from virus 7ef10 in host c3744\n",
        "9 progeny have been made from virus 686d9 in host c3744"
       ]
      },
      {
       "output_type": "stream",
       "stream": "stdout",
       "text": [
        "\n",
        "7 progeny have been made from virus 0d7f6 in host c3744"
       ]
      },
      {
       "output_type": "stream",
       "stream": "stdout",
       "text": [
        "\n",
        "6 progeny have been made from virus 2dc27 in host c3744"
       ]
      },
      {
       "output_type": "stream",
       "stream": "stdout",
       "text": [
        "\n",
        "10 progeny have been made from virus 876b4 in host c3744"
       ]
      },
      {
       "output_type": "stream",
       "stream": "stdout",
       "text": [
        "\n",
        "10 progeny have been made from virus 26d31 in host c3744"
       ]
      },
      {
       "output_type": "stream",
       "stream": "stdout",
       "text": [
        "\n",
        "6 progeny have been made from virus 10001 in host c3744\n",
        "7 progeny have been made from virus 186f3 in host c3744"
       ]
      },
      {
       "output_type": "stream",
       "stream": "stdout",
       "text": [
        "\n",
        "9 progeny have been made from virus ec7f5 in host c3744"
       ]
      },
      {
       "output_type": "stream",
       "stream": "stdout",
       "text": [
        "\n",
        "7 progeny have been made from virus b0f50 in host c3744"
       ]
      },
      {
       "output_type": "stream",
       "stream": "stdout",
       "text": [
        "\n",
        "10 progeny have been made from virus 79971 in host c3744"
       ]
      },
      {
       "output_type": "stream",
       "stream": "stdout",
       "text": [
        "\n",
        "6 progeny have been made from virus 3a56a in host c3744"
       ]
      },
      {
       "output_type": "stream",
       "stream": "stdout",
       "text": [
        "\n",
        "7 progeny have been made from virus 9c98c in host c3744"
       ]
      },
      {
       "output_type": "stream",
       "stream": "stdout",
       "text": [
        "\n",
        "9 progeny have been made from virus 97c05 in host c3744"
       ]
      },
      {
       "output_type": "stream",
       "stream": "stdout",
       "text": [
        "\n",
        "6 progeny have been made from virus c99e6 in host c3744\n",
        "10 progeny have been made from virus 3a519 in host c3744"
       ]
      },
      {
       "output_type": "stream",
       "stream": "stdout",
       "text": [
        "\n",
        "6 progeny have been made from virus 222b5 in host c3744"
       ]
      },
      {
       "output_type": "stream",
       "stream": "stdout",
       "text": [
        "\n",
        "5 progeny have been made from virus 79971 in host c3744\n",
        "5 progeny have been made from virus 60c2b in host c3744"
       ]
      },
      {
       "output_type": "stream",
       "stream": "stdout",
       "text": [
        "\n",
        "10 progeny have been made from virus b1be8 in host c3744"
       ]
      },
      {
       "output_type": "stream",
       "stream": "stdout",
       "text": [
        "\n",
        "6 progeny have been made from virus a91f8 in host c3744"
       ]
      },
      {
       "output_type": "stream",
       "stream": "stdout",
       "text": [
        "\n",
        "6 progeny have been made from virus c3f04 in host c3744\n",
        "9 progeny have been made from virus 9c21a in host c3744"
       ]
      },
      {
       "output_type": "stream",
       "stream": "stdout",
       "text": [
        "\n",
        "5 progeny have been made from virus 3d9da in host c3744\n",
        "5 progeny have been made from virus fe222 in host c3744"
       ]
      },
      {
       "output_type": "stream",
       "stream": "stdout",
       "text": [
        "\n",
        "8 progeny have been made from virus 30c7b in host c3744"
       ]
      },
      {
       "output_type": "stream",
       "stream": "stdout",
       "text": [
        "\n",
        "10 progeny have been made from virus 5aac4 in host c3744"
       ]
      },
      {
       "output_type": "stream",
       "stream": "stdout",
       "text": [
        "\n",
        "9 progeny have been made from virus 9fa91 in host c3744"
       ]
      },
      {
       "output_type": "stream",
       "stream": "stdout",
       "text": [
        "\n",
        "6 progeny have been made from virus 834cd in host c3744"
       ]
      },
      {
       "output_type": "stream",
       "stream": "stdout",
       "text": [
        "\n",
        "6 progeny have been made from virus 5fc61 in host c3744"
       ]
      },
      {
       "output_type": "stream",
       "stream": "stdout",
       "text": [
        "\n",
        "8 progeny have been made from virus 8e576 in host c3744"
       ]
      },
      {
       "output_type": "stream",
       "stream": "stdout",
       "text": [
        "\n",
        "7 progeny have been made from virus 9cf50 in host c3744"
       ]
      },
      {
       "output_type": "stream",
       "stream": "stdout",
       "text": [
        "\n",
        "9 progeny have been made from virus 49ee3 in host c3744"
       ]
      },
      {
       "output_type": "stream",
       "stream": "stdout",
       "text": [
        "\n",
        "7 progeny have been made from virus 42045 in host c3744"
       ]
      },
      {
       "output_type": "stream",
       "stream": "stdout",
       "text": [
        "\n",
        "6 progeny have been made from virus fed74 in host c3744"
       ]
      },
      {
       "output_type": "stream",
       "stream": "stdout",
       "text": [
        "\n",
        "5 progeny have been made from virus 2962c in host c3744"
       ]
      },
      {
       "output_type": "stream",
       "stream": "stdout",
       "text": [
        "\n",
        "6 progeny have been made from virus e2f1b in host c3744"
       ]
      },
      {
       "output_type": "stream",
       "stream": "stdout",
       "text": [
        "\n",
        "7 progeny have been made from virus a6a15 in host c3744"
       ]
      },
      {
       "output_type": "stream",
       "stream": "stdout",
       "text": [
        "\n",
        "10 progeny have been made from virus 1a26f in host c3744"
       ]
      },
      {
       "output_type": "stream",
       "stream": "stdout",
       "text": [
        "\n",
        "5 progeny have been made from virus e407f in host c3744\n",
        "5 progeny have been made from virus ac2ca in host c3744"
       ]
      },
      {
       "output_type": "stream",
       "stream": "stdout",
       "text": [
        "\n",
        "9 progeny have been made from virus b35ad in host c3744"
       ]
      },
      {
       "output_type": "stream",
       "stream": "stdout",
       "text": [
        "\n",
        "7 progeny have been made from virus 6033a in host c3744"
       ]
      },
      {
       "output_type": "stream",
       "stream": "stdout",
       "text": [
        "\n",
        "5 progeny have been made from virus 7db40 in host c3744\n",
        "7 progeny have been made from virus 990c8 in host c3744"
       ]
      },
      {
       "output_type": "stream",
       "stream": "stdout",
       "text": [
        "\n",
        "6 progeny have been made from virus 9e957 in host c3744"
       ]
      },
      {
       "output_type": "stream",
       "stream": "stdout",
       "text": [
        "\n",
        "340 progeny generated in host c3744.\n",
        "Current time is 8. Incrementing time to 9\n",
        "Generating 481 progeny in host c3744...\n",
        "9 progeny have been made from virus cf9ad in host c3744"
       ]
      },
      {
       "output_type": "stream",
       "stream": "stdout",
       "text": [
        "\n",
        "9 progeny have been made from virus 4e62d in host c3744"
       ]
      },
      {
       "output_type": "stream",
       "stream": "stdout",
       "text": [
        "\n",
        "10 progeny have been made from virus d7159 in host c3744"
       ]
      },
      {
       "output_type": "stream",
       "stream": "stdout",
       "text": [
        "\n",
        "9 progeny have been made from virus 076a0 in host c3744"
       ]
      },
      {
       "output_type": "stream",
       "stream": "stdout",
       "text": [
        "\n",
        "7 progeny have been made from virus 616d6 in host c3744"
       ]
      },
      {
       "output_type": "stream",
       "stream": "stdout",
       "text": [
        "\n",
        "9 progeny have been made from virus 05c51 in host c3744"
       ]
      },
      {
       "output_type": "stream",
       "stream": "stdout",
       "text": [
        "\n",
        "7 progeny have been made from virus 20064 in host c3744"
       ]
      },
      {
       "output_type": "stream",
       "stream": "stdout",
       "text": [
        "\n",
        "6 progeny have been made from virus 59219 in host c3744"
       ]
      },
      {
       "output_type": "stream",
       "stream": "stdout",
       "text": [
        "\n",
        "6 progeny have been made from virus 0041e in host c3744"
       ]
      },
      {
       "output_type": "stream",
       "stream": "stdout",
       "text": [
        "\n",
        "7 progeny have been made from virus d441b in host c3744"
       ]
      },
      {
       "output_type": "stream",
       "stream": "stdout",
       "text": [
        "\n",
        "7 progeny have been made from virus 69a6b in host c3744"
       ]
      },
      {
       "output_type": "stream",
       "stream": "stdout",
       "text": [
        "\n",
        "9 progeny have been made from virus 186f3 in host c3744"
       ]
      },
      {
       "output_type": "stream",
       "stream": "stdout",
       "text": [
        "\n",
        "10 progeny have been made from virus 479e8 in host c3744"
       ]
      },
      {
       "output_type": "stream",
       "stream": "stdout",
       "text": [
        "\n",
        "6 progeny have been made from virus f4b23 in host c3744"
       ]
      },
      {
       "output_type": "stream",
       "stream": "stdout",
       "text": [
        "\n",
        "6 progeny have been made from virus a3cb9 in host c3744"
       ]
      },
      {
       "output_type": "stream",
       "stream": "stdout",
       "text": [
        "\n",
        "5 progeny have been made from virus 6a1e9 in host c3744"
       ]
      },
      {
       "output_type": "stream",
       "stream": "stdout",
       "text": [
        "\n",
        "8 progeny have been made from virus d7159 in host c3744"
       ]
      },
      {
       "output_type": "stream",
       "stream": "stdout",
       "text": [
        "\n",
        "7 progeny have been made from virus 7f4b4 in host c3744"
       ]
      },
      {
       "output_type": "stream",
       "stream": "stdout",
       "text": [
        "\n",
        "5 progeny have been made from virus 4ade6 in host c3744"
       ]
      },
      {
       "output_type": "stream",
       "stream": "stdout",
       "text": [
        "\n",
        "8 progeny have been made from virus 246be in host c3744"
       ]
      },
      {
       "output_type": "stream",
       "stream": "stdout",
       "text": [
        "\n",
        "9 progeny have been made from virus b0931 in host c3744"
       ]
      },
      {
       "output_type": "stream",
       "stream": "stdout",
       "text": [
        "\n",
        "6 progeny have been made from virus c95dd in host c3744"
       ]
      },
      {
       "output_type": "stream",
       "stream": "stdout",
       "text": [
        "\n",
        "7 progeny have been made from virus c2731 in host c3744"
       ]
      },
      {
       "output_type": "stream",
       "stream": "stdout",
       "text": [
        "\n",
        "7 progeny have been made from virus 23e0e in host c3744"
       ]
      },
      {
       "output_type": "stream",
       "stream": "stdout",
       "text": [
        "\n",
        "8 progeny have been made from virus 23137 in host c3744"
       ]
      },
      {
       "output_type": "stream",
       "stream": "stdout",
       "text": [
        "\n",
        "5 progeny have been made from virus 7f324 in host c3744"
       ]
      },
      {
       "output_type": "stream",
       "stream": "stdout",
       "text": [
        "\n",
        "5 progeny have been made from virus ae3aa in host c3744\n",
        "9 progeny have been made from virus e67bb in host c3744"
       ]
      },
      {
       "output_type": "stream",
       "stream": "stdout",
       "text": [
        "\n",
        "5 progeny have been made from virus 30c7b in host c3744"
       ]
      },
      {
       "output_type": "stream",
       "stream": "stdout",
       "text": [
        "\n",
        "8 progeny have been made from virus 46caa in host c3744"
       ]
      },
      {
       "output_type": "stream",
       "stream": "stdout",
       "text": [
        "\n",
        "7 progeny have been made from virus bbd8b in host c3744"
       ]
      },
      {
       "output_type": "stream",
       "stream": "stdout",
       "text": [
        "\n",
        "9 progeny have been made from virus e9e70 in host c3744"
       ]
      },
      {
       "output_type": "stream",
       "stream": "stdout",
       "text": [
        "\n",
        "7 progeny have been made from virus cd9c5 in host c3744"
       ]
      },
      {
       "output_type": "stream",
       "stream": "stdout",
       "text": [
        "\n",
        "5 progeny have been made from virus c8e7d in host c3744\n",
        "6 progeny have been made from virus 20797 in host c3744"
       ]
      },
      {
       "output_type": "stream",
       "stream": "stdout",
       "text": [
        "\n",
        "9 progeny have been made from virus 0f003 in host c3744"
       ]
      },
      {
       "output_type": "stream",
       "stream": "stdout",
       "text": [
        "\n",
        "8 progeny have been made from virus 54a47 in host c3744"
       ]
      },
      {
       "output_type": "stream",
       "stream": "stdout",
       "text": [
        "\n",
        "7 progeny have been made from virus 86dab in host c3744"
       ]
      },
      {
       "output_type": "stream",
       "stream": "stdout",
       "text": [
        "\n",
        "5 progeny have been made from virus 5b54b in host c3744"
       ]
      },
      {
       "output_type": "stream",
       "stream": "stdout",
       "text": [
        "\n",
        "9 progeny have been made from virus 0dc53 in host c3744"
       ]
      },
      {
       "output_type": "stream",
       "stream": "stdout",
       "text": [
        "\n",
        "8 progeny have been made from virus 4cb47 in host c3744"
       ]
      },
      {
       "output_type": "stream",
       "stream": "stdout",
       "text": [
        "\n",
        "8 progeny have been made from virus f4bb9 in host c3744"
       ]
      },
      {
       "output_type": "stream",
       "stream": "stdout",
       "text": [
        "\n",
        "10 progeny have been made from virus 8911f in host c3744"
       ]
      },
      {
       "output_type": "stream",
       "stream": "stdout",
       "text": [
        "\n",
        "6 progeny have been made from virus 909ba in host c3744"
       ]
      },
      {
       "output_type": "stream",
       "stream": "stdout",
       "text": [
        "\n",
        "6 progeny have been made from virus 86dab in host c3744"
       ]
      },
      {
       "output_type": "stream",
       "stream": "stdout",
       "text": [
        "\n",
        "8 progeny have been made from virus e81bc in host c3744"
       ]
      },
      {
       "output_type": "stream",
       "stream": "stdout",
       "text": [
        "\n",
        "6 progeny have been made from virus cd9c5 in host c3744"
       ]
      },
      {
       "output_type": "stream",
       "stream": "stdout",
       "text": [
        "\n",
        "5 progeny have been made from virus b7c51 in host c3744"
       ]
      },
      {
       "output_type": "stream",
       "stream": "stdout",
       "text": [
        "\n",
        "8 progeny have been made from virus 69a6b in host c3744"
       ]
      },
      {
       "output_type": "stream",
       "stream": "stdout",
       "text": [
        "\n",
        "8 progeny have been made from virus 7206c in host c3744"
       ]
      },
      {
       "output_type": "stream",
       "stream": "stdout",
       "text": [
        "\n",
        "7 progeny have been made from virus 62ac1 in host c3744"
       ]
      },
      {
       "output_type": "stream",
       "stream": "stdout",
       "text": [
        "\n",
        "9 progeny have been made from virus 93809 in host c3744"
       ]
      },
      {
       "output_type": "stream",
       "stream": "stdout",
       "text": [
        "\n",
        "5 progeny have been made from virus c0298 in host c3744\n",
        "10 progeny have been made from virus 7736e in host c3744"
       ]
      },
      {
       "output_type": "stream",
       "stream": "stdout",
       "text": [
        "\n",
        "5 progeny have been made from virus 95eec in host c3744\n",
        "10 progeny have been made from virus 93881 in host c3744"
       ]
      },
      {
       "output_type": "stream",
       "stream": "stdout",
       "text": [
        "\n",
        "10 progeny have been made from virus 076a0 in host c3744"
       ]
      },
      {
       "output_type": "stream",
       "stream": "stdout",
       "text": [
        "\n",
        "8 progeny have been made from virus 50729 in host c3744"
       ]
      },
      {
       "output_type": "stream",
       "stream": "stdout",
       "text": [
        "\n",
        "10 progeny have been made from virus 95cf0 in host c3744"
       ]
      },
      {
       "output_type": "stream",
       "stream": "stdout",
       "text": [
        "\n",
        "5 progeny have been made from virus 3fbe1 in host c3744"
       ]
      },
      {
       "output_type": "stream",
       "stream": "stdout",
       "text": [
        "\n",
        "5 progeny have been made from virus f7697 in host c3744\n",
        "10 progeny have been made from virus 34b79 in host c3744"
       ]
      },
      {
       "output_type": "stream",
       "stream": "stdout",
       "text": [
        "\n",
        "10 progeny have been made from virus 6dd25 in host c3744"
       ]
      },
      {
       "output_type": "stream",
       "stream": "stdout",
       "text": [
        "\n",
        "9 progeny have been made from virus f4210 in host c3744"
       ]
      },
      {
       "output_type": "stream",
       "stream": "stdout",
       "text": [
        "\n",
        "6 progeny have been made from virus 5980d in host c3744"
       ]
      },
      {
       "output_type": "stream",
       "stream": "stdout",
       "text": [
        "\n",
        "483 progeny generated in host c3744.\n",
        "Current time is 9. Incrementing time to 10\n",
        "Generating 28 progeny in host c3744...\n",
        "9 progeny have been made from virus fdbec in host c3744"
       ]
      },
      {
       "output_type": "stream",
       "stream": "stdout",
       "text": [
        "\n",
        "9 progeny have been made from virus 87b10 in host c3744"
       ]
      },
      {
       "output_type": "stream",
       "stream": "stdout",
       "text": [
        "\n",
        "7 progeny have been made from virus f67f8 in host c3744"
       ]
      },
      {
       "output_type": "stream",
       "stream": "stdout",
       "text": [
        "\n",
        "10 progeny have been made from virus 6c25c in host c3744"
       ]
      },
      {
       "output_type": "stream",
       "stream": "stdout",
       "text": [
        "\n",
        "35 progeny generated in host c3744.\n",
        "Current time is 10. Incrementing time to 11\n",
        "Generating 12 progeny in host c3744...\n",
        "10 progeny have been made from virus 5a5b0 in host c3744"
       ]
      },
      {
       "output_type": "stream",
       "stream": "stdout",
       "text": [
        "\n",
        "10 progeny have been made from virus cf26c in host c3744"
       ]
      },
      {
       "output_type": "stream",
       "stream": "stdout",
       "text": [
        "\n",
        "20 progeny generated in host c3744.\n",
        "Current time is 11. Incrementing time to 12\n",
        "Generating 48 progeny in host c3744...\n",
        "9 progeny have been made from virus c7dab in host c3744"
       ]
      },
      {
       "output_type": "stream",
       "stream": "stdout",
       "text": [
        "\n",
        "8 progeny have been made from virus ace2e in host c3744"
       ]
      },
      {
       "output_type": "stream",
       "stream": "stdout",
       "text": [
        "\n",
        "7 progeny have been made from virus 13539 in host c3744"
       ]
      },
      {
       "output_type": "stream",
       "stream": "stdout",
       "text": [
        "\n",
        "9 progeny have been made from virus 0a63c in host c3744"
       ]
      },
      {
       "output_type": "stream",
       "stream": "stdout",
       "text": [
        "\n",
        "10 progeny have been made from virus 13539 in host c3744"
       ]
      },
      {
       "output_type": "stream",
       "stream": "stdout",
       "text": [
        "\n",
        "6 progeny have been made from virus 7a173 in host c3744"
       ]
      },
      {
       "output_type": "stream",
       "stream": "stdout",
       "text": [
        "\n",
        "49 progeny generated in host c3744.\n",
        "Current time is 12. Incrementing time to 13\n",
        "Generating 41 progeny in host c3744...\n",
        "7 progeny have been made from virus eaea9 in host c3744"
       ]
      },
      {
       "output_type": "stream",
       "stream": "stdout",
       "text": [
        "\n",
        "6 progeny have been made from virus 23638 in host c3744"
       ]
      },
      {
       "output_type": "stream",
       "stream": "stdout",
       "text": [
        "\n",
        "9 progeny have been made from virus d2c0b in host c3744"
       ]
      },
      {
       "output_type": "stream",
       "stream": "stdout",
       "text": [
        "\n",
        "5 progeny have been made from virus ab6a7 in host c3744"
       ]
      },
      {
       "output_type": "stream",
       "stream": "stdout",
       "text": [
        "\n",
        "7 progeny have been made from virus d6488 in host c3744"
       ]
      },
      {
       "output_type": "stream",
       "stream": "stdout",
       "text": [
        "\n",
        "7 progeny have been made from virus 23bbd in host c3744"
       ]
      },
      {
       "output_type": "stream",
       "stream": "stdout",
       "text": [
        "\n",
        "41 progeny generated in host c3744.\n",
        "Current time is 13. Incrementing time to 14\n",
        "Generating 12 progeny in host c3744...\n",
        "8 progeny have been made from virus c75fd in host c3744"
       ]
      },
      {
       "output_type": "stream",
       "stream": "stdout",
       "text": [
        "\n",
        "7 progeny have been made from virus 055dc in host c3744"
       ]
      },
      {
       "output_type": "stream",
       "stream": "stdout",
       "text": [
        "\n",
        "15 progeny generated in host c3744.\n",
        "Current time is 14. Incrementing time to 15\n",
        "Generating 7 progeny in host c3744...\n",
        "10 progeny have been made from virus 59ce8 in host c3744"
       ]
      },
      {
       "output_type": "stream",
       "stream": "stdout",
       "text": [
        "\n",
        "10 progeny generated in host c3744.\n",
        "Current time is 15. Incrementing time to 16\n",
        "Generating 4 progeny in host c3744...\n",
        "10 progeny have been made from virus 5b93d in host c3744"
       ]
      },
      {
       "output_type": "stream",
       "stream": "stdout",
       "text": [
        "\n",
        "10 progeny generated in host c3744.\n",
        "Current time is 16. Incrementing time to 17\n",
        "Generating 0 progeny in host c3744...\n",
        "0 progeny generated in host c3744.\n",
        "Current time is 17. Incrementing time to 18\n",
        "Generating 0 progeny in host c3744...\n",
        "0 progeny generated in host c3744.\n",
        "Current time is 18. Incrementing time to 19\n",
        "Current time is 19. Incrementing time to 20\n",
        "Current time is 20. Incrementing time to 21\n",
        "Current time is 21. Incrementing time to 22\n",
        "Current time is 22. Incrementing time to 23\n",
        "Current time is 23. Incrementing time to 24\n",
        "Current time is 24. Incrementing time to 25\n",
        "Current time is 25. Incrementing time to 26\n",
        "Current time is 26. Incrementing time to 27\n",
        "Current time is 27. Incrementing time to 28\n",
        "Current time is 28. Incrementing time to 29\n",
        "Current time is 29. Incrementing time to 30\n",
        "Adding host c3539... to environment 17b18...\n",
        "Creating environment 17b18\n",
        "Creating virus cfebf inside host c3539\n",
        "Current time is 0. Incrementing time to 1\n",
        "Generating 4 progeny in host c3539...\n",
        "10 progeny have been made from virus cfebf in host c3539\n",
        "10 progeny generated in host c3539.\n",
        "Current time is 1. Incrementing time to 2\n",
        "Generating 0 progeny in host c3539...\n",
        "0 progeny generated in host c3539.\n",
        "Current time is 2. Incrementing time to 3\n",
        "Generating 3 progeny in host c3539...\n",
        "6 progeny have been made from virus 601ad in host c3539\n",
        "6 progeny generated in host c3539.\n",
        "Current time is 3. Incrementing time to 4\n",
        "Generating 15 progeny in host c3539...\n",
        "7 progeny have been made from virus e4999 in host c3539"
       ]
      },
      {
       "output_type": "stream",
       "stream": "stdout",
       "text": [
        "\n",
        "6 progeny have been made from virus 98b99 in host c3539\n",
        "6 progeny have been made from virus 5909d in host c3539\n",
        "19 progeny generated in host c3539.\n",
        "Current time is 4. Incrementing time to 5\n",
        "Generating 0 progeny in host c3539...\n",
        "0 progeny generated in host c3539.\n",
        "Current time is 5. Incrementing time to 6\n",
        "Generating 11 progeny in host c3539...\n",
        "10 progeny have been made from virus 3feaa in host c3539"
       ]
      },
      {
       "output_type": "stream",
       "stream": "stdout",
       "text": [
        "\n",
        "9 progeny have been made from virus 6d9e1 in host c3539\n",
        "19 progeny generated in host c3539.\n",
        "Current time is 6. Incrementing time to 7\n",
        "Generating 4 progeny in host c3539...\n",
        "8 progeny have been made from virus 3c684 in host c3539\n",
        "8 progeny generated in host c3539.\n",
        "Current time is 7. Incrementing time to 8\n",
        "Generating 12 progeny in host c3539...\n",
        "8 progeny have been made from virus 1f97a in host c3539"
       ]
      },
      {
       "output_type": "stream",
       "stream": "stdout",
       "text": [
        "\n",
        "6 progeny have been made from virus 33e35 in host c3539\n",
        "14 progeny generated in host c3539.\n",
        "Current time is 8. Incrementing time to 9\n",
        "Generating 14 progeny in host c3539...\n",
        "7 progeny have been made from virus 2ceff in host c3539\n",
        "8 progeny have been made from virus 69434 in host c3539\n",
        "15 progeny generated in host c3539.\n",
        "Current time is 9. Incrementing time to 10\n",
        "Generating 9 progeny in host c3539...\n",
        "8 progeny have been made from virus dcbec in host c3539"
       ]
      },
      {
       "output_type": "stream",
       "stream": "stdout",
       "text": [
        "\n",
        "6 progeny have been made from virus 39d59 in host c3539\n",
        "14 progeny generated in host c3539.\n",
        "Current time is 10. Incrementing time to 11\n",
        "Generating 6 progeny in host c3539...\n",
        "8 progeny have been made from virus 2c81f in host c3539\n",
        "8 progeny generated in host c3539.\n",
        "Current time is 11. Incrementing time to 12\n",
        "Generating 3 progeny in host c3539...\n",
        "8 progeny have been made from virus c76db in host c3539"
       ]
      },
      {
       "output_type": "stream",
       "stream": "stdout",
       "text": [
        "\n",
        "8 progeny generated in host c3539.\n",
        "Current time is 12. Incrementing time to 13\n",
        "Generating 5 progeny in host c3539...\n",
        "8 progeny have been made from virus b6fc1 in host c3539\n",
        "8 progeny generated in host c3539.\n",
        "Current time is 13. Incrementing time to 14\n",
        "Generating 8 progeny in host c3539...\n",
        "7 progeny have been made from virus 3548c in host c3539"
       ]
      },
      {
       "output_type": "stream",
       "stream": "stdout",
       "text": [
        "\n",
        "8 progeny have been made from virus 119b6 in host c3539\n",
        "15 progeny generated in host c3539.\n",
        "Current time is 14. Incrementing time to 15\n",
        "Generating 16 progeny in host c3539...\n",
        "9 progeny have been made from virus b2038 in host c3539"
       ]
      },
      {
       "output_type": "stream",
       "stream": "stdout",
       "text": [
        "\n",
        "7 progeny have been made from virus 1efa6 in host c3539\n",
        "16 progeny generated in host c3539.\n",
        "Current time is 15. Incrementing time to 16\n",
        "Generating 7 progeny in host c3539...\n",
        "5 progeny have been made from virus 8120c in host c3539\n",
        "8 progeny have been made from virus 3f716 in host c3539"
       ]
      },
      {
       "output_type": "stream",
       "stream": "stdout",
       "text": [
        "\n",
        "13 progeny generated in host c3539.\n",
        "Current time is 16. Incrementing time to 17\n",
        "Generating 2 progeny in host c3539...\n",
        "7 progeny have been made from virus 23314 in host c3539\n",
        "7 progeny generated in host c3539.\n",
        "Current time is 17. Incrementing time to 18\n",
        "Generating 0 progeny in host c3539...\n",
        "0 progeny generated in host c3539.\n",
        "Current time is 18. Incrementing time to 19\n",
        "Current time is 19. Incrementing time to 20\n",
        "Current time is 20. Incrementing time to 21\n",
        "Current time is 21. Incrementing time to 22\n",
        "Current time is 22. Incrementing time to 23\n",
        "Current time is 23. Incrementing time to 24\n",
        "Current time is 24. Incrementing time to 25\n",
        "Current time is 25. Incrementing time to 26\n",
        "Current time is 26. Incrementing time to 27\n",
        "Current time is 27. Incrementing time to 28\n",
        "Current time is 28. Incrementing time to 29\n",
        "Current time is 29. Incrementing time to 30\n",
        "Adding host e2a58... to environment 7f4e9...\n",
        "Creating environment 7f4e9\n",
        "Creating virus 28c46 inside host e2a58\n",
        "Current time is 0. Incrementing time to 1\n",
        "Generating 6 progeny in host e2a58...\n",
        "10 progeny have been made from virus 28c46 in host e2a58\n",
        "10 progeny generated in host e2a58.\n",
        "Current time is 1. Incrementing time to 2\n",
        "Generating 37 progeny in host e2a58...\n",
        "8 progeny have been made from virus 28c46 in host e2a58"
       ]
      },
      {
       "output_type": "stream",
       "stream": "stdout",
       "text": [
        "\n",
        "8 progeny have been made from virus 6a8b5 in host e2a58\n",
        "7 progeny have been made from virus 2fbe6 in host e2a58\n",
        "10 progeny have been made from virus 2cc8d in host e2a58"
       ]
      },
      {
       "output_type": "stream",
       "stream": "stdout",
       "text": [
        "\n",
        "7 progeny have been made from virus 5d52c in host e2a58\n",
        "40 progeny generated in host e2a58.\n",
        "Current time is 2. Incrementing time to 3\n",
        "Generating 83 progeny in host e2a58...\n",
        "8 progeny have been made from virus 57edd in host e2a58\n",
        "5 progeny have been made from virus 88688 in host e2a58"
       ]
      },
      {
       "output_type": "stream",
       "stream": "stdout",
       "text": [
        "\n",
        "6 progeny have been made from virus f8efb in host e2a58\n",
        "8 progeny have been made from virus 59c29 in host e2a58\n",
        "10 progeny have been made from virus bb69d in host e2a58"
       ]
      },
      {
       "output_type": "stream",
       "stream": "stdout",
       "text": [
        "\n",
        "9 progeny have been made from virus bb69d in host e2a58\n",
        "6 progeny have been made from virus e5e88 in host e2a58"
       ]
      },
      {
       "output_type": "stream",
       "stream": "stdout",
       "text": [
        "\n",
        "8 progeny have been made from virus 54722 in host e2a58\n",
        "7 progeny have been made from virus 11fce in host e2a58\n",
        "6 progeny have been made from virus 255a5 in host e2a58"
       ]
      },
      {
       "output_type": "stream",
       "stream": "stdout",
       "text": [
        "\n",
        "8 progeny have been made from virus 797e6 in host e2a58\n",
        "10 progeny have been made from virus 2f258 in host e2a58"
       ]
      },
      {
       "output_type": "stream",
       "stream": "stdout",
       "text": [
        "\n",
        "91 progeny generated in host e2a58.\n",
        "Current time is 3. Incrementing time to 4\n",
        "Generating 237 progeny in host e2a58...\n",
        "8 progeny have been made from virus 4dbc4 in host e2a58\n",
        "9 progeny have been made from virus 54aed in host e2a58"
       ]
      },
      {
       "output_type": "stream",
       "stream": "stdout",
       "text": [
        "\n",
        "10 progeny have been made from virus 83185 in host e2a58\n",
        "8 progeny have been made from virus e05cd in host e2a58"
       ]
      },
      {
       "output_type": "stream",
       "stream": "stdout",
       "text": [
        "\n",
        "9 progeny have been made from virus cee6e in host e2a58\n",
        "9 progeny have been made from virus 70828 in host e2a58"
       ]
      },
      {
       "output_type": "stream",
       "stream": "stdout",
       "text": [
        "\n",
        "5 progeny have been made from virus 4c384 in host e2a58\n",
        "5 progeny have been made from virus ef7c6 in host e2a58\n",
        "9 progeny have been made from virus 7e0d3 in host e2a58"
       ]
      },
      {
       "output_type": "stream",
       "stream": "stdout",
       "text": [
        "\n",
        "9 progeny have been made from virus 92ebc in host e2a58\n",
        "8 progeny have been made from virus 674c8 in host e2a58"
       ]
      },
      {
       "output_type": "stream",
       "stream": "stdout",
       "text": [
        "\n",
        "9 progeny have been made from virus 3b4f8 in host e2a58\n",
        "7 progeny have been made from virus 987e6 in host e2a58"
       ]
      },
      {
       "output_type": "stream",
       "stream": "stdout",
       "text": [
        "\n",
        "7 progeny have been made from virus 11fce in host e2a58\n",
        "10 progeny have been made from virus 60629 in host e2a58"
       ]
      },
      {
       "output_type": "stream",
       "stream": "stdout",
       "text": [
        "\n",
        "10 progeny have been made from virus 5d175 in host e2a58\n",
        "9 progeny have been made from virus e05cd in host e2a58"
       ]
      },
      {
       "output_type": "stream",
       "stream": "stdout",
       "text": [
        "\n",
        "9 progeny have been made from virus a800b in host e2a58\n",
        "9 progeny have been made from virus 2d6ac in host e2a58"
       ]
      },
      {
       "output_type": "stream",
       "stream": "stdout",
       "text": [
        "\n",
        "6 progeny have been made from virus 50405 in host e2a58\n",
        "9 progeny have been made from virus aab68 in host e2a58"
       ]
      },
      {
       "output_type": "stream",
       "stream": "stdout",
       "text": [
        "\n",
        "5 progeny have been made from virus c80ec in host e2a58\n",
        "6 progeny have been made from virus 3b4f8 in host e2a58\n",
        "7 progeny have been made from virus 53142 in host e2a58"
       ]
      },
      {
       "output_type": "stream",
       "stream": "stdout",
       "text": [
        "\n",
        "5 progeny have been made from virus 8d487 in host e2a58\n",
        "8 progeny have been made from virus 3b4f8 in host e2a58"
       ]
      },
      {
       "output_type": "stream",
       "stream": "stdout",
       "text": [
        "\n",
        "9 progeny have been made from virus 7f8b5 in host e2a58\n",
        "5 progeny have been made from virus c8096 in host e2a58"
       ]
      },
      {
       "output_type": "stream",
       "stream": "stdout",
       "text": [
        "\n",
        "7 progeny have been made from virus 84f96 in host e2a58\n",
        "5 progeny have been made from virus c4a4f in host e2a58"
       ]
      },
      {
       "output_type": "stream",
       "stream": "stdout",
       "text": [
        "\n",
        "6 progeny have been made from virus 53142 in host e2a58\n",
        "237 progeny generated in host e2a58.\n",
        "Current time is 4. Incrementing time to 5\n",
        "Generating 295 progeny in host e2a58...\n",
        "10 progeny have been made from virus ea939 in host e2a58"
       ]
      },
      {
       "output_type": "stream",
       "stream": "stdout",
       "text": [
        "\n",
        "8 progeny have been made from virus 5f46f in host e2a58\n",
        "10 progeny have been made from virus d16f7 in host e2a58"
       ]
      },
      {
       "output_type": "stream",
       "stream": "stdout",
       "text": [
        "\n",
        "6 progeny have been made from virus acc84 in host e2a58\n",
        "9 progeny have been made from virus 0f129 in host e2a58"
       ]
      },
      {
       "output_type": "stream",
       "stream": "stdout",
       "text": [
        "\n",
        "9 progeny have been made from virus 0eb19 in host e2a58\n",
        "9 progeny have been made from virus 3a55a in host e2a58"
       ]
      },
      {
       "output_type": "stream",
       "stream": "stdout",
       "text": [
        "\n",
        "6 progeny have been made from virus 7f626 in host e2a58\n",
        "9 progeny have been made from virus d36b8 in host e2a58"
       ]
      },
      {
       "output_type": "stream",
       "stream": "stdout",
       "text": [
        "\n",
        "10 progeny have been made from virus 21bc6 in host e2a58"
       ]
      },
      {
       "output_type": "stream",
       "stream": "stdout",
       "text": [
        "\n",
        "8 progeny have been made from virus e20fd in host e2a58\n",
        "9 progeny have been made from virus f4ff7 in host e2a58"
       ]
      },
      {
       "output_type": "stream",
       "stream": "stdout",
       "text": [
        "\n",
        "6 progeny have been made from virus c80ec in host e2a58\n",
        "9 progeny have been made from virus c0eb9 in host e2a58"
       ]
      },
      {
       "output_type": "stream",
       "stream": "stdout",
       "text": [
        "\n",
        "8 progeny have been made from virus ce6b0 in host e2a58\n",
        "6 progeny have been made from virus 35ca2 in host e2a58"
       ]
      },
      {
       "output_type": "stream",
       "stream": "stdout",
       "text": [
        "\n",
        "10 progeny have been made from virus 8ba8b in host e2a58"
       ]
      },
      {
       "output_type": "stream",
       "stream": "stdout",
       "text": [
        "\n",
        "7 progeny have been made from virus 3493d in host e2a58\n",
        "9 progeny have been made from virus 15df9 in host e2a58"
       ]
      },
      {
       "output_type": "stream",
       "stream": "stdout",
       "text": [
        "\n",
        "6 progeny have been made from virus c7efb in host e2a58\n",
        "10 progeny have been made from virus c7ff7 in host e2a58"
       ]
      },
      {
       "output_type": "stream",
       "stream": "stdout",
       "text": [
        "\n",
        "8 progeny have been made from virus 3a55a in host e2a58\n",
        "5 progeny have been made from virus a073a in host e2a58"
       ]
      },
      {
       "output_type": "stream",
       "stream": "stdout",
       "text": [
        "\n",
        "10 progeny have been made from virus 04bd8 in host e2a58"
       ]
      },
      {
       "output_type": "stream",
       "stream": "stdout",
       "text": [
        "\n",
        "9 progeny have been made from virus 5e3ba in host e2a58"
       ]
      },
      {
       "output_type": "stream",
       "stream": "stdout",
       "text": [
        "\n",
        "8 progeny have been made from virus fd513 in host e2a58\n",
        "9 progeny have been made from virus d773a in host e2a58"
       ]
      },
      {
       "output_type": "stream",
       "stream": "stdout",
       "text": [
        "\n",
        "8 progeny have been made from virus a02ed in host e2a58\n",
        "8 progeny have been made from virus 9ce92 in host e2a58"
       ]
      },
      {
       "output_type": "stream",
       "stream": "stdout",
       "text": [
        "\n",
        "8 progeny have been made from virus 59724 in host e2a58\n",
        "10 progeny have been made from virus f2f45 in host e2a58"
       ]
      },
      {
       "output_type": "stream",
       "stream": "stdout",
       "text": [
        "\n",
        "9 progeny have been made from virus bd616 in host e2a58\n",
        "5 progeny have been made from virus 10d70 in host e2a58"
       ]
      },
      {
       "output_type": "stream",
       "stream": "stdout",
       "text": [
        "\n",
        "5 progeny have been made from virus ea939 in host e2a58\n",
        "8 progeny have been made from virus 2ef96 in host e2a58"
       ]
      },
      {
       "output_type": "stream",
       "stream": "stdout",
       "text": [
        "\n",
        "5 progeny have been made from virus b25d3 in host e2a58\n",
        "6 progeny have been made from virus 95847 in host e2a58"
       ]
      },
      {
       "output_type": "stream",
       "stream": "stdout",
       "text": [
        "\n",
        "295 progeny generated in host e2a58.\n",
        "Current time is 5. Incrementing time to 6\n",
        "Generating 643 progeny in host e2a58...\n",
        "6 progeny have been made from virus f4f5c in host e2a58\n",
        "9 progeny have been made from virus a88e3 in host e2a58"
       ]
      },
      {
       "output_type": "stream",
       "stream": "stdout",
       "text": [
        "\n",
        "5 progeny have been made from virus 4d82f in host e2a58\n",
        "7 progeny have been made from virus 91dc8 in host e2a58"
       ]
      },
      {
       "output_type": "stream",
       "stream": "stdout",
       "text": [
        "\n",
        "8 progeny have been made from virus 4e365 in host e2a58"
       ]
      },
      {
       "output_type": "stream",
       "stream": "stdout",
       "text": [
        "\n",
        "7 progeny have been made from virus 519d4 in host e2a58\n",
        "7 progeny have been made from virus ced2c in host e2a58"
       ]
      },
      {
       "output_type": "stream",
       "stream": "stdout",
       "text": [
        "\n",
        "8 progeny have been made from virus ab82f in host e2a58\n",
        "10 progeny have been made from virus 65600 in host e2a58"
       ]
      },
      {
       "output_type": "stream",
       "stream": "stdout",
       "text": [
        "\n",
        "10 progeny have been made from virus 7411b in host e2a58"
       ]
      },
      {
       "output_type": "stream",
       "stream": "stdout",
       "text": [
        "\n",
        "6 progeny have been made from virus 282a0 in host e2a58\n",
        "6 progeny have been made from virus 777f0 in host e2a58"
       ]
      },
      {
       "output_type": "stream",
       "stream": "stdout",
       "text": [
        "\n",
        "7 progeny have been made from virus ab82f in host e2a58\n",
        "10 progeny have been made from virus 77baf in host e2a58"
       ]
      },
      {
       "output_type": "stream",
       "stream": "stdout",
       "text": [
        "\n",
        "8 progeny have been made from virus 3e1e9 in host e2a58"
       ]
      },
      {
       "output_type": "stream",
       "stream": "stdout",
       "text": [
        "\n",
        "7 progeny have been made from virus 5d2f1 in host e2a58\n",
        "9 progeny have been made from virus 3c762 in host e2a58"
       ]
      },
      {
       "output_type": "stream",
       "stream": "stdout",
       "text": [
        "\n",
        "10 progeny have been made from virus 122b4 in host e2a58"
       ]
      },
      {
       "output_type": "stream",
       "stream": "stdout",
       "text": [
        "\n",
        "6 progeny have been made from virus eef1a in host e2a58\n",
        "6 progeny have been made from virus 389e9 in host e2a58"
       ]
      },
      {
       "output_type": "stream",
       "stream": "stdout",
       "text": [
        "\n",
        "8 progeny have been made from virus 1ff7f in host e2a58\n",
        "8 progeny have been made from virus f4eba in host e2a58"
       ]
      },
      {
       "output_type": "stream",
       "stream": "stdout",
       "text": [
        "\n",
        "8 progeny have been made from virus 287c7 in host e2a58"
       ]
      },
      {
       "output_type": "stream",
       "stream": "stdout",
       "text": [
        "\n",
        "6 progeny have been made from virus a9e42 in host e2a58\n",
        "10 progeny have been made from virus da85d in host e2a58"
       ]
      },
      {
       "output_type": "stream",
       "stream": "stdout",
       "text": [
        "\n",
        "10 progeny have been made from virus 26fc3 in host e2a58"
       ]
      },
      {
       "output_type": "stream",
       "stream": "stdout",
       "text": [
        "\n",
        "9 progeny have been made from virus 277fe in host e2a58"
       ]
      },
      {
       "output_type": "stream",
       "stream": "stdout",
       "text": [
        "\n",
        "9 progeny have been made from virus 1f11d in host e2a58"
       ]
      },
      {
       "output_type": "stream",
       "stream": "stdout",
       "text": [
        "\n",
        "8 progeny have been made from virus 7ae36 in host e2a58"
       ]
      },
      {
       "output_type": "stream",
       "stream": "stdout",
       "text": [
        "\n",
        "10 progeny have been made from virus 72f5f in host e2a58"
       ]
      },
      {
       "output_type": "stream",
       "stream": "stdout",
       "text": [
        "\n",
        "5 progeny have been made from virus b12c1 in host e2a58\n",
        "7 progeny have been made from virus 8fa45 in host e2a58"
       ]
      },
      {
       "output_type": "stream",
       "stream": "stdout",
       "text": [
        "\n",
        "10 progeny have been made from virus 8fa45 in host e2a58"
       ]
      },
      {
       "output_type": "stream",
       "stream": "stdout",
       "text": [
        "\n",
        "7 progeny have been made from virus d6ddc in host e2a58\n",
        "10 progeny have been made from virus 4826d in host e2a58"
       ]
      },
      {
       "output_type": "stream",
       "stream": "stdout",
       "text": [
        "\n",
        "7 progeny have been made from virus 00e48 in host e2a58"
       ]
      },
      {
       "output_type": "stream",
       "stream": "stdout",
       "text": [
        "\n",
        "6 progeny have been made from virus b9b43 in host e2a58\n",
        "7 progeny have been made from virus be922 in host e2a58"
       ]
      },
      {
       "output_type": "stream",
       "stream": "stdout",
       "text": [
        "\n",
        "6 progeny have been made from virus 73eb9 in host e2a58\n",
        "9 progeny have been made from virus bceef in host e2a58"
       ]
      },
      {
       "output_type": "stream",
       "stream": "stdout",
       "text": [
        "\n",
        "7 progeny have been made from virus ebf78 in host e2a58\n",
        "9 progeny have been made from virus a17cc in host e2a58"
       ]
      },
      {
       "output_type": "stream",
       "stream": "stdout",
       "text": [
        "\n",
        "8 progeny have been made from virus c5524 in host e2a58"
       ]
      },
      {
       "output_type": "stream",
       "stream": "stdout",
       "text": [
        "\n",
        "5 progeny have been made from virus 42b44 in host e2a58\n",
        "10 progeny have been made from virus 50349 in host e2a58"
       ]
      },
      {
       "output_type": "stream",
       "stream": "stdout",
       "text": [
        "\n",
        "9 progeny have been made from virus 7411b in host e2a58"
       ]
      },
      {
       "output_type": "stream",
       "stream": "stdout",
       "text": [
        "\n",
        "7 progeny have been made from virus 8dea8 in host e2a58"
       ]
      },
      {
       "output_type": "stream",
       "stream": "stdout",
       "text": [
        "\n",
        "8 progeny have been made from virus b207d in host e2a58"
       ]
      },
      {
       "output_type": "stream",
       "stream": "stdout",
       "text": [
        "\n",
        "5 progeny have been made from virus ef96b in host e2a58\n",
        "7 progeny have been made from virus 56e08 in host e2a58"
       ]
      },
      {
       "output_type": "stream",
       "stream": "stdout",
       "text": [
        "\n",
        "6 progeny have been made from virus 82d68 in host e2a58\n",
        "6 progeny have been made from virus b028e in host e2a58"
       ]
      },
      {
       "output_type": "stream",
       "stream": "stdout",
       "text": [
        "\n",
        "8 progeny have been made from virus d876c in host e2a58"
       ]
      },
      {
       "output_type": "stream",
       "stream": "stdout",
       "text": [
        "\n",
        "5 progeny have been made from virus ccc02 in host e2a58\n",
        "5 progeny have been made from virus 0129b in host e2a58"
       ]
      },
      {
       "output_type": "stream",
       "stream": "stdout",
       "text": [
        "\n",
        "10 progeny have been made from virus 987c2 in host e2a58"
       ]
      },
      {
       "output_type": "stream",
       "stream": "stdout",
       "text": [
        "\n",
        "9 progeny have been made from virus a8cda in host e2a58"
       ]
      },
      {
       "output_type": "stream",
       "stream": "stdout",
       "text": [
        "\n",
        "7 progeny have been made from virus 53cbd in host e2a58"
       ]
      },
      {
       "output_type": "stream",
       "stream": "stdout",
       "text": [
        "\n",
        "9 progeny have been made from virus e799a in host e2a58"
       ]
      },
      {
       "output_type": "stream",
       "stream": "stdout",
       "text": [
        "\n",
        "9 progeny have been made from virus 0f683 in host e2a58"
       ]
      },
      {
       "output_type": "stream",
       "stream": "stdout",
       "text": [
        "\n",
        "9 progeny have been made from virus 5462b in host e2a58"
       ]
      },
      {
       "output_type": "stream",
       "stream": "stdout",
       "text": [
        "\n",
        "9 progeny have been made from virus 084c0 in host e2a58"
       ]
      },
      {
       "output_type": "stream",
       "stream": "stdout",
       "text": [
        "\n",
        "10 progeny have been made from virus f71c7 in host e2a58"
       ]
      },
      {
       "output_type": "stream",
       "stream": "stdout",
       "text": [
        "\n",
        "9 progeny have been made from virus 46314 in host e2a58"
       ]
      },
      {
       "output_type": "stream",
       "stream": "stdout",
       "text": [
        "\n",
        "5 progeny have been made from virus 17e51 in host e2a58\n",
        "9 progeny have been made from virus 3c762 in host e2a58"
       ]
      },
      {
       "output_type": "stream",
       "stream": "stdout",
       "text": [
        "\n",
        "7 progeny have been made from virus 8fa45 in host e2a58"
       ]
      },
      {
       "output_type": "stream",
       "stream": "stdout",
       "text": [
        "\n",
        "8 progeny have been made from virus 3ca1c in host e2a58"
       ]
      },
      {
       "output_type": "stream",
       "stream": "stdout",
       "text": [
        "\n",
        "6 progeny have been made from virus b12c1 in host e2a58\n",
        "10 progeny have been made from virus 26fc3 in host e2a58"
       ]
      },
      {
       "output_type": "stream",
       "stream": "stdout",
       "text": [
        "\n",
        "9 progeny have been made from virus 751e1 in host e2a58"
       ]
      },
      {
       "output_type": "stream",
       "stream": "stdout",
       "text": [
        "\n",
        "7 progeny have been made from virus bade2 in host e2a58"
       ]
      },
      {
       "output_type": "stream",
       "stream": "stdout",
       "text": [
        "\n",
        "5 progeny have been made from virus f6203 in host e2a58\n",
        "7 progeny have been made from virus aba60 in host e2a58"
       ]
      },
      {
       "output_type": "stream",
       "stream": "stdout",
       "text": [
        "\n",
        "9 progeny have been made from virus 91dc8 in host e2a58"
       ]
      },
      {
       "output_type": "stream",
       "stream": "stdout",
       "text": [
        "\n",
        "6 progeny have been made from virus e5450 in host e2a58\n",
        "10 progeny have been made from virus b8837 in host e2a58"
       ]
      },
      {
       "output_type": "stream",
       "stream": "stdout",
       "text": [
        "\n",
        "8 progeny have been made from virus b5b64 in host e2a58"
       ]
      },
      {
       "output_type": "stream",
       "stream": "stdout",
       "text": [
        "\n",
        "10 progeny have been made from virus 587c6 in host e2a58"
       ]
      },
      {
       "output_type": "stream",
       "stream": "stdout",
       "text": [
        "\n",
        "9 progeny have been made from virus 162be in host e2a58"
       ]
      },
      {
       "output_type": "stream",
       "stream": "stdout",
       "text": [
        "\n",
        "6 progeny have been made from virus 350fc in host e2a58"
       ]
      },
      {
       "output_type": "stream",
       "stream": "stdout",
       "text": [
        "\n",
        "6 progeny have been made from virus c0eb9 in host e2a58"
       ]
      },
      {
       "output_type": "stream",
       "stream": "stdout",
       "text": [
        "\n",
        "7 progeny have been made from virus 5cc50 in host e2a58"
       ]
      },
      {
       "output_type": "stream",
       "stream": "stdout",
       "text": [
        "\n",
        "6 progeny have been made from virus ed983 in host e2a58\n",
        "648 progeny generated in host e2a58.\n",
        "Current time is 6. Incrementing time to 7"
       ]
      },
      {
       "output_type": "stream",
       "stream": "stdout",
       "text": [
        "\n",
        "Generating 665 progeny in host e2a58...\n",
        "7 progeny have been made from virus e8fd3 in host e2a58"
       ]
      },
      {
       "output_type": "stream",
       "stream": "stdout",
       "text": [
        "\n",
        "5 progeny have been made from virus 38df3 in host e2a58\n",
        "7 progeny have been made from virus 58e6d in host e2a58"
       ]
      },
      {
       "output_type": "stream",
       "stream": "stdout",
       "text": [
        "\n",
        "9 progeny have been made from virus 26324 in host e2a58"
       ]
      },
      {
       "output_type": "stream",
       "stream": "stdout",
       "text": [
        "\n",
        "9 progeny have been made from virus fc1d4 in host e2a58"
       ]
      },
      {
       "output_type": "stream",
       "stream": "stdout",
       "text": [
        "\n",
        "5 progeny have been made from virus d0b81 in host e2a58"
       ]
      },
      {
       "output_type": "stream",
       "stream": "stdout",
       "text": [
        "\n",
        "6 progeny have been made from virus 679dc in host e2a58\n",
        "6 progeny have been made from virus 893ad in host e2a58"
       ]
      },
      {
       "output_type": "stream",
       "stream": "stdout",
       "text": [
        "\n",
        "9 progeny have been made from virus 16b32 in host e2a58"
       ]
      },
      {
       "output_type": "stream",
       "stream": "stdout",
       "text": [
        "\n",
        "10 progeny have been made from virus 7145c in host e2a58"
       ]
      },
      {
       "output_type": "stream",
       "stream": "stdout",
       "text": [
        "\n",
        "5 progeny have been made from virus 6bc92 in host e2a58\n",
        "6 progeny have been made from virus c03bd in host e2a58"
       ]
      },
      {
       "output_type": "stream",
       "stream": "stdout",
       "text": [
        "\n",
        "8 progeny have been made from virus f6f28 in host e2a58"
       ]
      },
      {
       "output_type": "stream",
       "stream": "stdout",
       "text": [
        "\n",
        "9 progeny have been made from virus eecd7 in host e2a58"
       ]
      },
      {
       "output_type": "stream",
       "stream": "stdout",
       "text": [
        "\n",
        "6 progeny have been made from virus 080c4 in host e2a58\n",
        "9 progeny have been made from virus e050c in host e2a58"
       ]
      },
      {
       "output_type": "stream",
       "stream": "stdout",
       "text": [
        "\n",
        "8 progeny have been made from virus 91336 in host e2a58"
       ]
      },
      {
       "output_type": "stream",
       "stream": "stdout",
       "text": [
        "\n",
        "8 progeny have been made from virus 0129b in host e2a58"
       ]
      },
      {
       "output_type": "stream",
       "stream": "stdout",
       "text": [
        "\n",
        "5 progeny have been made from virus e40ae in host e2a58\n",
        "8 progeny have been made from virus 0328d in host e2a58"
       ]
      },
      {
       "output_type": "stream",
       "stream": "stdout",
       "text": [
        "\n",
        "10 progeny have been made from virus ad486 in host e2a58"
       ]
      },
      {
       "output_type": "stream",
       "stream": "stdout",
       "text": [
        "\n",
        "10 progeny have been made from virus 56686 in host e2a58"
       ]
      },
      {
       "output_type": "stream",
       "stream": "stdout",
       "text": [
        "\n",
        "9 progeny have been made from virus 45991 in host e2a58"
       ]
      },
      {
       "output_type": "stream",
       "stream": "stdout",
       "text": [
        "\n",
        "7 progeny have been made from virus fdc66 in host e2a58"
       ]
      },
      {
       "output_type": "stream",
       "stream": "stdout",
       "text": [
        "\n",
        "5 progeny have been made from virus 33037 in host e2a58"
       ]
      },
      {
       "output_type": "stream",
       "stream": "stdout",
       "text": [
        "\n",
        "10 progeny have been made from virus 2d60f in host e2a58"
       ]
      },
      {
       "output_type": "stream",
       "stream": "stdout",
       "text": [
        "\n",
        "6 progeny have been made from virus 8711e in host e2a58"
       ]
      },
      {
       "output_type": "stream",
       "stream": "stdout",
       "text": [
        "\n",
        "9 progeny have been made from virus 2a14c in host e2a58"
       ]
      },
      {
       "output_type": "stream",
       "stream": "stdout",
       "text": [
        "\n",
        "7 progeny have been made from virus 2dc2e in host e2a58"
       ]
      },
      {
       "output_type": "stream",
       "stream": "stdout",
       "text": [
        "\n",
        "6 progeny have been made from virus 917d4 in host e2a58"
       ]
      },
      {
       "output_type": "stream",
       "stream": "stdout",
       "text": [
        "\n",
        "8 progeny have been made from virus 1dec5 in host e2a58"
       ]
      },
      {
       "output_type": "stream",
       "stream": "stdout",
       "text": [
        "\n",
        "5 progeny have been made from virus 63530 in host e2a58"
       ]
      },
      {
       "output_type": "stream",
       "stream": "stdout",
       "text": [
        "\n",
        "7 progeny have been made from virus 54894 in host e2a58"
       ]
      },
      {
       "output_type": "stream",
       "stream": "stdout",
       "text": [
        "\n",
        "6 progeny have been made from virus 205e8 in host e2a58"
       ]
      },
      {
       "output_type": "stream",
       "stream": "stdout",
       "text": [
        "\n",
        "9 progeny have been made from virus bb2b3 in host e2a58"
       ]
      },
      {
       "output_type": "stream",
       "stream": "stdout",
       "text": [
        "\n",
        "7 progeny have been made from virus a3504 in host e2a58"
       ]
      },
      {
       "output_type": "stream",
       "stream": "stdout",
       "text": [
        "\n",
        "9 progeny have been made from virus 7e8bc in host e2a58"
       ]
      },
      {
       "output_type": "stream",
       "stream": "stdout",
       "text": [
        "\n",
        "10 progeny have been made from virus 344a0 in host e2a58"
       ]
      },
      {
       "output_type": "stream",
       "stream": "stdout",
       "text": [
        "\n",
        "5 progeny have been made from virus f1a3d in host e2a58\n",
        "7 progeny have been made from virus 4c0d1 in host e2a58"
       ]
      },
      {
       "output_type": "stream",
       "stream": "stdout",
       "text": [
        "\n",
        "10 progeny have been made from virus e7812 in host e2a58"
       ]
      },
      {
       "output_type": "stream",
       "stream": "stdout",
       "text": [
        "\n",
        "7 progeny have been made from virus a5e40 in host e2a58"
       ]
      },
      {
       "output_type": "stream",
       "stream": "stdout",
       "text": [
        "\n",
        "9 progeny have been made from virus bc153 in host e2a58"
       ]
      },
      {
       "output_type": "stream",
       "stream": "stdout",
       "text": [
        "\n",
        "5 progeny have been made from virus 57c9d in host e2a58\n",
        "6 progeny have been made from virus efd5e in host e2a58"
       ]
      },
      {
       "output_type": "stream",
       "stream": "stdout",
       "text": [
        "\n",
        "9 progeny have been made from virus b1ba6 in host e2a58"
       ]
      },
      {
       "output_type": "stream",
       "stream": "stdout",
       "text": [
        "\n",
        "8 progeny have been made from virus 7ae36 in host e2a58"
       ]
      },
      {
       "output_type": "stream",
       "stream": "stdout",
       "text": [
        "\n",
        "8 progeny have been made from virus 58e6d in host e2a58"
       ]
      },
      {
       "output_type": "stream",
       "stream": "stdout",
       "text": [
        "\n",
        "8 progeny have been made from virus 536df in host e2a58"
       ]
      },
      {
       "output_type": "stream",
       "stream": "stdout",
       "text": [
        "\n",
        "10 progeny have been made from virus a8835 in host e2a58"
       ]
      },
      {
       "output_type": "stream",
       "stream": "stdout",
       "text": [
        "\n",
        "8 progeny have been made from virus e09b2 in host e2a58"
       ]
      },
      {
       "output_type": "stream",
       "stream": "stdout",
       "text": [
        "\n",
        "6 progeny have been made from virus 1f891 in host e2a58"
       ]
      },
      {
       "output_type": "stream",
       "stream": "stdout",
       "text": [
        "\n",
        "7 progeny have been made from virus a17cc in host e2a58"
       ]
      },
      {
       "output_type": "stream",
       "stream": "stdout",
       "text": [
        "\n",
        "10 progeny have been made from virus 57c16 in host e2a58"
       ]
      },
      {
       "output_type": "stream",
       "stream": "stdout",
       "text": [
        "\n",
        "5 progeny have been made from virus 61d9d in host e2a58"
       ]
      },
      {
       "output_type": "stream",
       "stream": "stdout",
       "text": [
        "\n",
        "7 progeny have been made from virus aba60 in host e2a58"
       ]
      },
      {
       "output_type": "stream",
       "stream": "stdout",
       "text": [
        "\n",
        "10 progeny have been made from virus 8a17b in host e2a58"
       ]
      },
      {
       "output_type": "stream",
       "stream": "stdout",
       "text": [
        "\n",
        "5 progeny have been made from virus 6d89a in host e2a58\n",
        "8 progeny have been made from virus f169e in host e2a58"
       ]
      },
      {
       "output_type": "stream",
       "stream": "stdout",
       "text": [
        "\n",
        "7 progeny have been made from virus 1ac03 in host e2a58"
       ]
      },
      {
       "output_type": "stream",
       "stream": "stdout",
       "text": [
        "\n",
        "8 progeny have been made from virus 1042c in host e2a58"
       ]
      },
      {
       "output_type": "stream",
       "stream": "stdout",
       "text": [
        "\n",
        "7 progeny have been made from virus d375b in host e2a58"
       ]
      },
      {
       "output_type": "stream",
       "stream": "stdout",
       "text": [
        "\n",
        "7 progeny have been made from virus 95bc1 in host e2a58"
       ]
      },
      {
       "output_type": "stream",
       "stream": "stdout",
       "text": [
        "\n",
        "9 progeny have been made from virus f5d69 in host e2a58"
       ]
      },
      {
       "output_type": "stream",
       "stream": "stdout",
       "text": [
        "\n",
        "7 progeny have been made from virus 4406a in host e2a58"
       ]
      },
      {
       "output_type": "stream",
       "stream": "stdout",
       "text": [
        "\n",
        "9 progeny have been made from virus 16775 in host e2a58"
       ]
      },
      {
       "output_type": "stream",
       "stream": "stdout",
       "text": [
        "\n",
        "10 progeny have been made from virus c5817 in host e2a58"
       ]
      },
      {
       "output_type": "stream",
       "stream": "stdout",
       "text": [
        "\n",
        "6 progeny have been made from virus 16ea0 in host e2a58"
       ]
      },
      {
       "output_type": "stream",
       "stream": "stdout",
       "text": [
        "\n",
        "9 progeny have been made from virus d82ec in host e2a58"
       ]
      },
      {
       "output_type": "stream",
       "stream": "stdout",
       "text": [
        "\n",
        "10 progeny have been made from virus 1833a in host e2a58"
       ]
      },
      {
       "output_type": "stream",
       "stream": "stdout",
       "text": [
        "\n",
        "6 progeny have been made from virus fa7f8 in host e2a58"
       ]
      },
      {
       "output_type": "stream",
       "stream": "stdout",
       "text": [
        "\n",
        "5 progeny have been made from virus 9463a in host e2a58"
       ]
      },
      {
       "output_type": "stream",
       "stream": "stdout",
       "text": [
        "\n",
        "7 progeny have been made from virus bd827 in host e2a58"
       ]
      },
      {
       "output_type": "stream",
       "stream": "stdout",
       "text": [
        "\n",
        "6 progeny have been made from virus ca2f3 in host e2a58"
       ]
      },
      {
       "output_type": "stream",
       "stream": "stdout",
       "text": [
        "\n",
        "8 progeny have been made from virus f495e in host e2a58"
       ]
      },
      {
       "output_type": "stream",
       "stream": "stdout",
       "text": [
        "\n",
        "9 progeny have been made from virus 587cd in host e2a58"
       ]
      },
      {
       "output_type": "stream",
       "stream": "stdout",
       "text": [
        "\n",
        "6 progeny have been made from virus 1ec3a in host e2a58"
       ]
      },
      {
       "output_type": "stream",
       "stream": "stdout",
       "text": [
        "\n",
        "6 progeny have been made from virus 5c9a2 in host e2a58"
       ]
      },
      {
       "output_type": "stream",
       "stream": "stdout",
       "text": [
        "\n",
        "6 progeny have been made from virus 2e3b6 in host e2a58"
       ]
      },
      {
       "output_type": "stream",
       "stream": "stdout",
       "text": [
        "\n",
        "9 progeny have been made from virus 7bf33 in host e2a58"
       ]
      },
      {
       "output_type": "stream",
       "stream": "stdout",
       "text": [
        "\n",
        "8 progeny have been made from virus 5eb82 in host e2a58"
       ]
      },
      {
       "output_type": "stream",
       "stream": "stdout",
       "text": [
        "\n",
        "9 progeny have been made from virus 7145c in host e2a58"
       ]
      },
      {
       "output_type": "stream",
       "stream": "stdout",
       "text": [
        "\n",
        "10 progeny have been made from virus f2f3c in host e2a58"
       ]
      },
      {
       "output_type": "stream",
       "stream": "stdout",
       "text": [
        "\n",
        "10 progeny have been made from virus 32322 in host e2a58"
       ]
      },
      {
       "output_type": "stream",
       "stream": "stdout",
       "text": [
        "\n",
        "10 progeny have been made from virus 7bf98 in host e2a58"
       ]
      },
      {
       "output_type": "stream",
       "stream": "stdout",
       "text": [
        "\n",
        "7 progeny have been made from virus 9c62a in host e2a58"
       ]
      },
      {
       "output_type": "stream",
       "stream": "stdout",
       "text": [
        "\n",
        "9 progeny have been made from virus 2109a in host e2a58"
       ]
      },
      {
       "output_type": "stream",
       "stream": "stdout",
       "text": [
        "\n",
        "9 progeny have been made from virus 96840 in host e2a58"
       ]
      },
      {
       "output_type": "stream",
       "stream": "stdout",
       "text": [
        "\n",
        "672 progeny generated in host e2a58.\n",
        "Current time is 7. Incrementing time to 8\n",
        "Generating 912 progeny in host e2a58...\n",
        "9 progeny have been made from virus f0878 in host e2a58"
       ]
      },
      {
       "output_type": "stream",
       "stream": "stdout",
       "text": [
        "\n",
        "8 progeny have been made from virus b011e in host e2a58"
       ]
      },
      {
       "output_type": "stream",
       "stream": "stdout",
       "text": [
        "\n",
        "5 progeny have been made from virus 2a8a9 in host e2a58"
       ]
      },
      {
       "output_type": "stream",
       "stream": "stdout",
       "text": [
        "\n",
        "5 progeny have been made from virus 6d4fb in host e2a58"
       ]
      },
      {
       "output_type": "stream",
       "stream": "stdout",
       "text": [
        "\n",
        "8 progeny have been made from virus df886 in host e2a58"
       ]
      },
      {
       "output_type": "stream",
       "stream": "stdout",
       "text": [
        "\n",
        "5 progeny have been made from virus b854d in host e2a58"
       ]
      },
      {
       "output_type": "stream",
       "stream": "stdout",
       "text": [
        "\n",
        "9 progeny have been made from virus 4f0af in host e2a58"
       ]
      },
      {
       "output_type": "stream",
       "stream": "stdout",
       "text": [
        "\n",
        "9 progeny have been made from virus d440f in host e2a58"
       ]
      },
      {
       "output_type": "stream",
       "stream": "stdout",
       "text": [
        "\n",
        "5 progeny have been made from virus 89948 in host e2a58"
       ]
      },
      {
       "output_type": "stream",
       "stream": "stdout",
       "text": [
        "\n",
        "10 progeny have been made from virus dffdb in host e2a58"
       ]
      },
      {
       "output_type": "stream",
       "stream": "stdout",
       "text": [
        "\n",
        "6 progeny have been made from virus 1934b in host e2a58"
       ]
      },
      {
       "output_type": "stream",
       "stream": "stdout",
       "text": [
        "\n",
        "5 progeny have been made from virus 4f0af in host e2a58"
       ]
      },
      {
       "output_type": "stream",
       "stream": "stdout",
       "text": [
        "\n",
        "7 progeny have been made from virus 3ee64 in host e2a58"
       ]
      },
      {
       "output_type": "stream",
       "stream": "stdout",
       "text": [
        "\n",
        "9 progeny have been made from virus c0d47 in host e2a58"
       ]
      },
      {
       "output_type": "stream",
       "stream": "stdout",
       "text": [
        "\n",
        "6 progeny have been made from virus 226ca in host e2a58"
       ]
      },
      {
       "output_type": "stream",
       "stream": "stdout",
       "text": [
        "\n",
        "6 progeny have been made from virus fe81b in host e2a58"
       ]
      },
      {
       "output_type": "stream",
       "stream": "stdout",
       "text": [
        "\n",
        "10 progeny have been made from virus a17cc in host e2a58"
       ]
      },
      {
       "output_type": "stream",
       "stream": "stdout",
       "text": [
        "\n",
        "5 progeny have been made from virus ac80b in host e2a58"
       ]
      },
      {
       "output_type": "stream",
       "stream": "stdout",
       "text": [
        "\n",
        "10 progeny have been made from virus 71617 in host e2a58"
       ]
      },
      {
       "output_type": "stream",
       "stream": "stdout",
       "text": [
        "\n",
        "7 progeny have been made from virus b278a in host e2a58"
       ]
      },
      {
       "output_type": "stream",
       "stream": "stdout",
       "text": [
        "\n",
        "5 progeny have been made from virus 2a9cb in host e2a58"
       ]
      },
      {
       "output_type": "stream",
       "stream": "stdout",
       "text": [
        "\n",
        "6 progeny have been made from virus 8334e in host e2a58"
       ]
      },
      {
       "output_type": "stream",
       "stream": "stdout",
       "text": [
        "\n",
        "8 progeny have been made from virus 6c715 in host e2a58"
       ]
      },
      {
       "output_type": "stream",
       "stream": "stdout",
       "text": [
        "\n",
        "10 progeny have been made from virus 50cda in host e2a58"
       ]
      },
      {
       "output_type": "stream",
       "stream": "stdout",
       "text": [
        "\n",
        "9 progeny have been made from virus 120e5 in host e2a58"
       ]
      },
      {
       "output_type": "stream",
       "stream": "stdout",
       "text": [
        "\n",
        "9 progeny have been made from virus e0141 in host e2a58"
       ]
      },
      {
       "output_type": "stream",
       "stream": "stdout",
       "text": [
        "\n",
        "8 progeny have been made from virus 766fc in host e2a58"
       ]
      },
      {
       "output_type": "stream",
       "stream": "stdout",
       "text": [
        "\n",
        "10 progeny have been made from virus fc774 in host e2a58"
       ]
      },
      {
       "output_type": "stream",
       "stream": "stdout",
       "text": [
        "\n",
        "8 progeny have been made from virus fdb8f in host e2a58"
       ]
      },
      {
       "output_type": "stream",
       "stream": "stdout",
       "text": [
        "\n",
        "5 progeny have been made from virus 84848 in host e2a58"
       ]
      },
      {
       "output_type": "stream",
       "stream": "stdout",
       "text": [
        "\n",
        "9 progeny have been made from virus c021e in host e2a58"
       ]
      },
      {
       "output_type": "stream",
       "stream": "stdout",
       "text": [
        "\n",
        "6 progeny have been made from virus 31b50 in host e2a58"
       ]
      },
      {
       "output_type": "stream",
       "stream": "stdout",
       "text": [
        "\n",
        "9 progeny have been made from virus 23967 in host e2a58"
       ]
      },
      {
       "output_type": "stream",
       "stream": "stdout",
       "text": [
        "\n",
        "9 progeny have been made from virus 00de5 in host e2a58"
       ]
      },
      {
       "output_type": "stream",
       "stream": "stdout",
       "text": [
        "\n",
        "8 progeny have been made from virus 513f5 in host e2a58"
       ]
      },
      {
       "output_type": "stream",
       "stream": "stdout",
       "text": [
        "\n",
        "9 progeny have been made from virus ae460 in host e2a58"
       ]
      },
      {
       "output_type": "stream",
       "stream": "stdout",
       "text": [
        "\n",
        "8 progeny have been made from virus 61c8f in host e2a58"
       ]
      },
      {
       "output_type": "stream",
       "stream": "stdout",
       "text": [
        "\n",
        "9 progeny have been made from virus 0789a in host e2a58"
       ]
      },
      {
       "output_type": "stream",
       "stream": "stdout",
       "text": [
        "\n",
        "9 progeny have been made from virus 095a6 in host e2a58"
       ]
      },
      {
       "output_type": "stream",
       "stream": "stdout",
       "text": [
        "\n",
        "10 progeny have been made from virus d2385 in host e2a58"
       ]
      },
      {
       "output_type": "stream",
       "stream": "stdout",
       "text": [
        "\n",
        "9 progeny have been made from virus 40436 in host e2a58"
       ]
      },
      {
       "output_type": "stream",
       "stream": "stdout",
       "text": [
        "\n",
        "6 progeny have been made from virus e0de3 in host e2a58"
       ]
      },
      {
       "output_type": "stream",
       "stream": "stdout",
       "text": [
        "\n",
        "5 progeny have been made from virus a1827 in host e2a58"
       ]
      },
      {
       "output_type": "stream",
       "stream": "stdout",
       "text": [
        "\n",
        "10 progeny have been made from virus 3bf27 in host e2a58"
       ]
      },
      {
       "output_type": "stream",
       "stream": "stdout",
       "text": [
        "\n",
        "5 progeny have been made from virus 6fdc9 in host e2a58"
       ]
      },
      {
       "output_type": "stream",
       "stream": "stdout",
       "text": [
        "\n",
        "5 progeny have been made from virus 330e8 in host e2a58"
       ]
      },
      {
       "output_type": "stream",
       "stream": "stdout",
       "text": [
        "\n",
        "10 progeny have been made from virus 7fc92 in host e2a58"
       ]
      },
      {
       "output_type": "stream",
       "stream": "stdout",
       "text": [
        "\n",
        "9 progeny have been made from virus c3316 in host e2a58"
       ]
      },
      {
       "output_type": "stream",
       "stream": "stdout",
       "text": [
        "\n",
        "9 progeny have been made from virus 67428 in host e2a58"
       ]
      },
      {
       "output_type": "stream",
       "stream": "stdout",
       "text": [
        "\n",
        "10 progeny have been made from virus 06345 in host e2a58"
       ]
      },
      {
       "output_type": "stream",
       "stream": "stdout",
       "text": [
        "\n",
        "5 progeny have been made from virus 5bfdb in host e2a58"
       ]
      },
      {
       "output_type": "stream",
       "stream": "stdout",
       "text": [
        "\n",
        "8 progeny have been made from virus da18d in host e2a58"
       ]
      },
      {
       "output_type": "stream",
       "stream": "stdout",
       "text": [
        "\n",
        "10 progeny have been made from virus daf67 in host e2a58"
       ]
      },
      {
       "output_type": "stream",
       "stream": "stdout",
       "text": [
        "\n",
        "7 progeny have been made from virus 37d0f in host e2a58"
       ]
      },
      {
       "output_type": "stream",
       "stream": "stdout",
       "text": [
        "\n",
        "6 progeny have been made from virus 93f23 in host e2a58"
       ]
      },
      {
       "output_type": "stream",
       "stream": "stdout",
       "text": [
        "\n",
        "9 progeny have been made from virus cc553 in host e2a58"
       ]
      },
      {
       "output_type": "stream",
       "stream": "stdout",
       "text": [
        "\n",
        "7 progeny have been made from virus 656f3 in host e2a58"
       ]
      },
      {
       "output_type": "stream",
       "stream": "stdout",
       "text": [
        "\n",
        "10 progeny have been made from virus a3d86 in host e2a58"
       ]
      },
      {
       "output_type": "stream",
       "stream": "stdout",
       "text": [
        "\n",
        "7 progeny have been made from virus a5cca in host e2a58"
       ]
      },
      {
       "output_type": "stream",
       "stream": "stdout",
       "text": [
        "\n",
        "6 progeny have been made from virus 47286 in host e2a58"
       ]
      },
      {
       "output_type": "stream",
       "stream": "stdout",
       "text": [
        "\n",
        "6 progeny have been made from virus efd5e in host e2a58"
       ]
      },
      {
       "output_type": "stream",
       "stream": "stdout",
       "text": [
        "\n",
        "6 progeny have been made from virus 5eb8f in host e2a58"
       ]
      },
      {
       "output_type": "stream",
       "stream": "stdout",
       "text": [
        "\n",
        "8 progeny have been made from virus 98dfe in host e2a58"
       ]
      },
      {
       "output_type": "stream",
       "stream": "stdout",
       "text": [
        "\n",
        "10 progeny have been made from virus 87db9 in host e2a58"
       ]
      },
      {
       "output_type": "stream",
       "stream": "stdout",
       "text": [
        "\n",
        "7 progeny have been made from virus 9bb6e in host e2a58"
       ]
      },
      {
       "output_type": "stream",
       "stream": "stdout",
       "text": [
        "\n",
        "9 progeny have been made from virus 42fdf in host e2a58"
       ]
      },
      {
       "output_type": "stream",
       "stream": "stdout",
       "text": [
        "\n",
        "7 progeny have been made from virus b6ca2 in host e2a58"
       ]
      },
      {
       "output_type": "stream",
       "stream": "stdout",
       "text": [
        "\n",
        "8 progeny have been made from virus acb31 in host e2a58"
       ]
      },
      {
       "output_type": "stream",
       "stream": "stdout",
       "text": [
        "\n",
        "7 progeny have been made from virus 59b76 in host e2a58"
       ]
      },
      {
       "output_type": "stream",
       "stream": "stdout",
       "text": [
        "\n",
        "6 progeny have been made from virus 9cb50 in host e2a58"
       ]
      },
      {
       "output_type": "stream",
       "stream": "stdout",
       "text": [
        "\n",
        "9 progeny have been made from virus 1c7d9 in host e2a58"
       ]
      },
      {
       "output_type": "stream",
       "stream": "stdout",
       "text": [
        "\n",
        "6 progeny have been made from virus 6832c in host e2a58"
       ]
      },
      {
       "output_type": "stream",
       "stream": "stdout",
       "text": [
        "\n",
        "7 progeny have been made from virus 4a516 in host e2a58"
       ]
      },
      {
       "output_type": "stream",
       "stream": "stdout",
       "text": [
        "\n",
        "6 progeny have been made from virus cbfd1 in host e2a58"
       ]
      },
      {
       "output_type": "stream",
       "stream": "stdout",
       "text": [
        "\n",
        "6 progeny have been made from virus c22ab in host e2a58"
       ]
      },
      {
       "output_type": "stream",
       "stream": "stdout",
       "text": [
        "\n",
        "6 progeny have been made from virus a08bb in host e2a58"
       ]
      },
      {
       "output_type": "stream",
       "stream": "stdout",
       "text": [
        "\n",
        "9 progeny have been made from virus 3d4bb in host e2a58"
       ]
      },
      {
       "output_type": "stream",
       "stream": "stdout",
       "text": [
        "\n",
        "10 progeny have been made from virus c4604 in host e2a58"
       ]
      },
      {
       "output_type": "stream",
       "stream": "stdout",
       "text": [
        "\n",
        "6 progeny have been made from virus d68d0 in host e2a58"
       ]
      },
      {
       "output_type": "stream",
       "stream": "stdout",
       "text": [
        "\n",
        "6 progeny have been made from virus fdb9f in host e2a58"
       ]
      },
      {
       "output_type": "stream",
       "stream": "stdout",
       "text": [
        "\n",
        "6 progeny have been made from virus da18d in host e2a58"
       ]
      },
      {
       "output_type": "stream",
       "stream": "stdout",
       "text": [
        "\n",
        "7 progeny have been made from virus 2da09 in host e2a58"
       ]
      },
      {
       "output_type": "stream",
       "stream": "stdout",
       "text": [
        "\n",
        "5 progeny have been made from virus ab341 in host e2a58"
       ]
      },
      {
       "output_type": "stream",
       "stream": "stdout",
       "text": [
        "\n",
        "5 progeny have been made from virus 5a0c8 in host e2a58"
       ]
      },
      {
       "output_type": "stream",
       "stream": "stdout",
       "text": [
        "\n",
        "7 progeny have been made from virus cd0ed in host e2a58"
       ]
      },
      {
       "output_type": "stream",
       "stream": "stdout",
       "text": [
        "\n",
        "5 progeny have been made from virus 695f7 in host e2a58"
       ]
      },
      {
       "output_type": "stream",
       "stream": "stdout",
       "text": [
        "\n",
        "9 progeny have been made from virus ff2f2 in host e2a58"
       ]
      },
      {
       "output_type": "stream",
       "stream": "stdout",
       "text": [
        "\n",
        "6 progeny have been made from virus 25f4c in host e2a58"
       ]
      },
      {
       "output_type": "stream",
       "stream": "stdout",
       "text": [
        "\n",
        "7 progeny have been made from virus 3bb75 in host e2a58"
       ]
      },
      {
       "output_type": "stream",
       "stream": "stdout",
       "text": [
        "\n",
        "5 progeny have been made from virus 0d689 in host e2a58"
       ]
      },
      {
       "output_type": "stream",
       "stream": "stdout",
       "text": [
        "\n",
        "7 progeny have been made from virus 039b3 in host e2a58"
       ]
      },
      {
       "output_type": "stream",
       "stream": "stdout",
       "text": [
        "\n",
        "7 progeny have been made from virus df886 in host e2a58"
       ]
      },
      {
       "output_type": "stream",
       "stream": "stdout",
       "text": [
        "\n",
        "5 progeny have been made from virus 94a11 in host e2a58"
       ]
      },
      {
       "output_type": "stream",
       "stream": "stdout",
       "text": [
        "\n",
        "10 progeny have been made from virus b2965 in host e2a58"
       ]
      },
      {
       "output_type": "stream",
       "stream": "stdout",
       "text": [
        "\n",
        "5 progeny have been made from virus 3b22c in host e2a58"
       ]
      },
      {
       "output_type": "stream",
       "stream": "stdout",
       "text": [
        "\n",
        "10 progeny have been made from virus c4604 in host e2a58"
       ]
      },
      {
       "output_type": "stream",
       "stream": "stdout",
       "text": [
        "\n",
        "7 progeny have been made from virus 5f1f7 in host e2a58"
       ]
      },
      {
       "output_type": "stream",
       "stream": "stdout",
       "text": [
        "\n",
        "10 progeny have been made from virus f3c43 in host e2a58"
       ]
      },
      {
       "output_type": "stream",
       "stream": "stdout",
       "text": [
        "\n",
        "5 progeny have been made from virus 45707 in host e2a58"
       ]
      },
      {
       "output_type": "stream",
       "stream": "stdout",
       "text": [
        "\n",
        "7 progeny have been made from virus 7a758 in host e2a58"
       ]
      },
      {
       "output_type": "stream",
       "stream": "stdout",
       "text": [
        "\n",
        "10 progeny have been made from virus 039f0 in host e2a58"
       ]
      },
      {
       "output_type": "stream",
       "stream": "stdout",
       "text": [
        "\n",
        "5 progeny have been made from virus 0bf22 in host e2a58"
       ]
      },
      {
       "output_type": "stream",
       "stream": "stdout",
       "text": [
        "\n",
        "10 progeny have been made from virus 59b76 in host e2a58"
       ]
      },
      {
       "output_type": "stream",
       "stream": "stdout",
       "text": [
        "\n",
        "10 progeny have been made from virus baa14 in host e2a58"
       ]
      },
      {
       "output_type": "stream",
       "stream": "stdout",
       "text": [
        "\n",
        "8 progeny have been made from virus 0c7c5 in host e2a58"
       ]
      },
      {
       "output_type": "stream",
       "stream": "stdout",
       "text": [
        "\n",
        "5 progeny have been made from virus 3bf27 in host e2a58"
       ]
      },
      {
       "output_type": "stream",
       "stream": "stdout",
       "text": [
        "\n",
        "5 progeny have been made from virus 67a79 in host e2a58"
       ]
      },
      {
       "output_type": "stream",
       "stream": "stdout",
       "text": [
        "\n",
        "9 progeny have been made from virus 04612 in host e2a58"
       ]
      },
      {
       "output_type": "stream",
       "stream": "stdout",
       "text": [
        "\n",
        "10 progeny have been made from virus 6800e in host e2a58"
       ]
      },
      {
       "output_type": "stream",
       "stream": "stdout",
       "text": [
        "\n",
        "7 progeny have been made from virus 62490 in host e2a58"
       ]
      },
      {
       "output_type": "stream",
       "stream": "stdout",
       "text": [
        "\n",
        "8 progeny have been made from virus cdd5f in host e2a58"
       ]
      },
      {
       "output_type": "stream",
       "stream": "stdout",
       "text": [
        "\n",
        "8 progeny have been made from virus 88e46 in host e2a58"
       ]
      },
      {
       "output_type": "stream",
       "stream": "stdout",
       "text": [
        "\n",
        "5 progeny have been made from virus 22e6a in host e2a58"
       ]
      },
      {
       "output_type": "stream",
       "stream": "stdout",
       "text": [
        "\n",
        "10 progeny have been made from virus ced2c in host e2a58"
       ]
      },
      {
       "output_type": "stream",
       "stream": "stdout",
       "text": [
        "\n",
        "7 progeny have been made from virus 564ae in host e2a58"
       ]
      },
      {
       "output_type": "stream",
       "stream": "stdout",
       "text": [
        "\n",
        "10 progeny have been made from virus 37135 in host e2a58"
       ]
      },
      {
       "output_type": "stream",
       "stream": "stdout",
       "text": [
        "\n",
        "10 progeny have been made from virus 1bf72 in host e2a58"
       ]
      },
      {
       "output_type": "stream",
       "stream": "stdout",
       "text": [
        "\n",
        "5 progeny have been made from virus 7e33c in host e2a58"
       ]
      },
      {
       "output_type": "stream",
       "stream": "stdout",
       "text": [
        "\n",
        "8 progeny have been made from virus daf67 in host e2a58"
       ]
      },
      {
       "output_type": "stream",
       "stream": "stdout",
       "text": [
        "\n",
        "5 progeny have been made from virus b7555 in host e2a58"
       ]
      },
      {
       "output_type": "stream",
       "stream": "stdout",
       "text": [
        "\n",
        "9 progeny have been made from virus 40436 in host e2a58"
       ]
      },
      {
       "output_type": "stream",
       "stream": "stdout",
       "text": [
        "\n",
        "10 progeny have been made from virus a1740 in host e2a58"
       ]
      },
      {
       "output_type": "stream",
       "stream": "stdout",
       "text": [
        "\n",
        "915 progeny generated in host e2a58.\n",
        "Current time is 8. Incrementing time to 9\n",
        "Generating 1298 progeny in host e2a58...\n",
        "5 progeny have been made from virus f89e8 in host e2a58"
       ]
      },
      {
       "output_type": "stream",
       "stream": "stdout",
       "text": [
        "\n",
        "9 progeny have been made from virus 4e533 in host e2a58"
       ]
      },
      {
       "output_type": "stream",
       "stream": "stdout",
       "text": [
        "\n",
        "9 progeny have been made from virus 4dd49 in host e2a58"
       ]
      },
      {
       "output_type": "stream",
       "stream": "stdout",
       "text": [
        "\n",
        "8 progeny have been made from virus 3420c in host e2a58"
       ]
      },
      {
       "output_type": "stream",
       "stream": "stdout",
       "text": [
        "\n",
        "9 progeny have been made from virus 0a7d9 in host e2a58"
       ]
      },
      {
       "output_type": "stream",
       "stream": "stdout",
       "text": [
        "\n",
        "10 progeny have been made from virus f1e68 in host e2a58"
       ]
      },
      {
       "output_type": "stream",
       "stream": "stdout",
       "text": [
        "\n",
        "9 progeny have been made from virus 60866 in host e2a58"
       ]
      },
      {
       "output_type": "stream",
       "stream": "stdout",
       "text": [
        "\n",
        "9 progeny have been made from virus 1ff82 in host e2a58"
       ]
      },
      {
       "output_type": "stream",
       "stream": "stdout",
       "text": [
        "\n",
        "10 progeny have been made from virus f3ebd in host e2a58"
       ]
      },
      {
       "output_type": "stream",
       "stream": "stdout",
       "text": [
        "\n",
        "8 progeny have been made from virus 32cad in host e2a58"
       ]
      },
      {
       "output_type": "stream",
       "stream": "stdout",
       "text": [
        "\n",
        "7 progeny have been made from virus b7052 in host e2a58"
       ]
      },
      {
       "output_type": "stream",
       "stream": "stdout",
       "text": [
        "\n",
        "10 progeny have been made from virus dd40d in host e2a58"
       ]
      },
      {
       "output_type": "stream",
       "stream": "stdout",
       "text": [
        "\n",
        "5 progeny have been made from virus bb9fd in host e2a58"
       ]
      },
      {
       "output_type": "stream",
       "stream": "stdout",
       "text": [
        "\n",
        "5 progeny have been made from virus a33f1 in host e2a58"
       ]
      },
      {
       "output_type": "stream",
       "stream": "stdout",
       "text": [
        "\n",
        "8 progeny have been made from virus 8210b in host e2a58"
       ]
      },
      {
       "output_type": "stream",
       "stream": "stdout",
       "text": [
        "\n",
        "5 progeny have been made from virus f4c9d in host e2a58"
       ]
      },
      {
       "output_type": "stream",
       "stream": "stdout",
       "text": [
        "\n",
        "6 progeny have been made from virus 7e2d7 in host e2a58"
       ]
      },
      {
       "output_type": "stream",
       "stream": "stdout",
       "text": [
        "\n",
        "8 progeny have been made from virus a855b in host e2a58"
       ]
      },
      {
       "output_type": "stream",
       "stream": "stdout",
       "text": [
        "\n",
        "6 progeny have been made from virus e9d97 in host e2a58"
       ]
      },
      {
       "output_type": "stream",
       "stream": "stdout",
       "text": [
        "\n",
        "10 progeny have been made from virus 3cfbe in host e2a58"
       ]
      },
      {
       "output_type": "stream",
       "stream": "stdout",
       "text": [
        "\n",
        "10 progeny have been made from virus 02a19 in host e2a58"
       ]
      },
      {
       "output_type": "stream",
       "stream": "stdout",
       "text": [
        "\n",
        "6 progeny have been made from virus bf1fa in host e2a58"
       ]
      },
      {
       "output_type": "stream",
       "stream": "stdout",
       "text": [
        "\n",
        "9 progeny have been made from virus 31765 in host e2a58"
       ]
      },
      {
       "output_type": "stream",
       "stream": "stdout",
       "text": [
        "\n",
        "7 progeny have been made from virus 70109 in host e2a58"
       ]
      },
      {
       "output_type": "stream",
       "stream": "stdout",
       "text": [
        "\n",
        "6 progeny have been made from virus cf931 in host e2a58"
       ]
      },
      {
       "output_type": "stream",
       "stream": "stdout",
       "text": [
        "\n",
        "10 progeny have been made from virus b605d in host e2a58"
       ]
      },
      {
       "output_type": "stream",
       "stream": "stdout",
       "text": [
        "\n",
        "9 progeny have been made from virus 2b142 in host e2a58"
       ]
      },
      {
       "output_type": "stream",
       "stream": "stdout",
       "text": [
        "\n",
        "5 progeny have been made from virus 9f500 in host e2a58"
       ]
      },
      {
       "output_type": "stream",
       "stream": "stdout",
       "text": [
        "\n",
        "7 progeny have been made from virus 8393e in host e2a58"
       ]
      },
      {
       "output_type": "stream",
       "stream": "stdout",
       "text": [
        "\n",
        "8 progeny have been made from virus 7bafd in host e2a58"
       ]
      },
      {
       "output_type": "stream",
       "stream": "stdout",
       "text": [
        "\n",
        "10 progeny have been made from virus 5a264 in host e2a58"
       ]
      },
      {
       "output_type": "stream",
       "stream": "stdout",
       "text": [
        "\n",
        "7 progeny have been made from virus b6667 in host e2a58"
       ]
      },
      {
       "output_type": "stream",
       "stream": "stdout",
       "text": [
        "\n",
        "7 progeny have been made from virus 52c55 in host e2a58"
       ]
      },
      {
       "output_type": "stream",
       "stream": "stdout",
       "text": [
        "\n",
        "8 progeny have been made from virus 8cb59 in host e2a58"
       ]
      },
      {
       "output_type": "stream",
       "stream": "stdout",
       "text": [
        "\n",
        "8 progeny have been made from virus 3fb6d in host e2a58"
       ]
      },
      {
       "output_type": "stream",
       "stream": "stdout",
       "text": [
        "\n",
        "8 progeny have been made from virus 86836 in host e2a58"
       ]
      },
      {
       "output_type": "stream",
       "stream": "stdout",
       "text": [
        "\n",
        "9 progeny have been made from virus bbf85 in host e2a58"
       ]
      },
      {
       "output_type": "stream",
       "stream": "stdout",
       "text": [
        "\n",
        "9 progeny have been made from virus ba046 in host e2a58"
       ]
      },
      {
       "output_type": "stream",
       "stream": "stdout",
       "text": [
        "\n",
        "7 progeny have been made from virus 959d9 in host e2a58"
       ]
      },
      {
       "output_type": "stream",
       "stream": "stdout",
       "text": [
        "\n",
        "7 progeny have been made from virus 90a6e in host e2a58"
       ]
      },
      {
       "output_type": "stream",
       "stream": "stdout",
       "text": [
        "\n",
        "7 progeny have been made from virus 862ac in host e2a58"
       ]
      },
      {
       "output_type": "stream",
       "stream": "stdout",
       "text": [
        "\n",
        "8 progeny have been made from virus 31765 in host e2a58"
       ]
      },
      {
       "output_type": "stream",
       "stream": "stdout",
       "text": [
        "\n",
        "5 progeny have been made from virus e4c9d in host e2a58"
       ]
      },
      {
       "output_type": "stream",
       "stream": "stdout",
       "text": [
        "\n",
        "5 progeny have been made from virus cf931 in host e2a58"
       ]
      },
      {
       "output_type": "stream",
       "stream": "stdout",
       "text": [
        "\n",
        "7 progeny have been made from virus f77b0 in host e2a58"
       ]
      },
      {
       "output_type": "stream",
       "stream": "stdout",
       "text": [
        "\n",
        "10 progeny have been made from virus 6a471 in host e2a58"
       ]
      },
      {
       "output_type": "stream",
       "stream": "stdout",
       "text": [
        "\n",
        "7 progeny have been made from virus 0bbac in host e2a58"
       ]
      },
      {
       "output_type": "stream",
       "stream": "stdout",
       "text": [
        "\n",
        "7 progeny have been made from virus 4b32d in host e2a58"
       ]
      },
      {
       "output_type": "stream",
       "stream": "stdout",
       "text": [
        "\n",
        "6 progeny have been made from virus 8a43c in host e2a58"
       ]
      },
      {
       "output_type": "stream",
       "stream": "stdout",
       "text": [
        "\n",
        "10 progeny have been made from virus e2bed in host e2a58"
       ]
      },
      {
       "output_type": "stream",
       "stream": "stdout",
       "text": [
        "\n",
        "10 progeny have been made from virus cb66c in host e2a58"
       ]
      },
      {
       "output_type": "stream",
       "stream": "stdout",
       "text": [
        "\n",
        "7 progeny have been made from virus 8e02a in host e2a58"
       ]
      },
      {
       "output_type": "stream",
       "stream": "stdout",
       "text": [
        "\n",
        "7 progeny have been made from virus 2b142 in host e2a58"
       ]
      },
      {
       "output_type": "stream",
       "stream": "stdout",
       "text": [
        "\n",
        "7 progeny have been made from virus 40236 in host e2a58"
       ]
      },
      {
       "output_type": "stream",
       "stream": "stdout",
       "text": [
        "\n",
        "5 progeny have been made from virus 36996 in host e2a58"
       ]
      },
      {
       "output_type": "stream",
       "stream": "stdout",
       "text": [
        "\n",
        "6 progeny have been made from virus 017c1 in host e2a58"
       ]
      },
      {
       "output_type": "stream",
       "stream": "stdout",
       "text": [
        "\n",
        "9 progeny have been made from virus 08f96 in host e2a58"
       ]
      },
      {
       "output_type": "stream",
       "stream": "stdout",
       "text": [
        "\n",
        "8 progeny have been made from virus cb623 in host e2a58"
       ]
      },
      {
       "output_type": "stream",
       "stream": "stdout",
       "text": [
        "\n",
        "8 progeny have been made from virus fef71 in host e2a58"
       ]
      },
      {
       "output_type": "stream",
       "stream": "stdout",
       "text": [
        "\n",
        "10 progeny have been made from virus bce3c in host e2a58"
       ]
      },
      {
       "output_type": "stream",
       "stream": "stdout",
       "text": [
        "\n",
        "10 progeny have been made from virus d6334 in host e2a58"
       ]
      },
      {
       "output_type": "stream",
       "stream": "stdout",
       "text": [
        "\n",
        "6 progeny have been made from virus 9a0e2 in host e2a58"
       ]
      },
      {
       "output_type": "stream",
       "stream": "stdout",
       "text": [
        "\n",
        "10 progeny have been made from virus 72530 in host e2a58"
       ]
      },
      {
       "output_type": "stream",
       "stream": "stdout",
       "text": [
        "\n",
        "6 progeny have been made from virus ab6f5 in host e2a58"
       ]
      },
      {
       "output_type": "stream",
       "stream": "stdout",
       "text": [
        "\n",
        "9 progeny have been made from virus e8e3d in host e2a58"
       ]
      },
      {
       "output_type": "stream",
       "stream": "stdout",
       "text": [
        "\n",
        "6 progeny have been made from virus dcd9b in host e2a58"
       ]
      },
      {
       "output_type": "stream",
       "stream": "stdout",
       "text": [
        "\n",
        "9 progeny have been made from virus 181ad in host e2a58"
       ]
      },
      {
       "output_type": "stream",
       "stream": "stdout",
       "text": [
        "\n",
        "5 progeny have been made from virus 85697 in host e2a58"
       ]
      },
      {
       "output_type": "stream",
       "stream": "stdout",
       "text": [
        "\n",
        "8 progeny have been made from virus 09780 in host e2a58"
       ]
      },
      {
       "output_type": "stream",
       "stream": "stdout",
       "text": [
        "\n",
        "10 progeny have been made from virus 9a5e3 in host e2a58"
       ]
      },
      {
       "output_type": "stream",
       "stream": "stdout",
       "text": [
        "\n",
        "8 progeny have been made from virus c993a in host e2a58"
       ]
      },
      {
       "output_type": "stream",
       "stream": "stdout",
       "text": [
        "\n",
        "8 progeny have been made from virus 092c9 in host e2a58"
       ]
      },
      {
       "output_type": "stream",
       "stream": "stdout",
       "text": [
        "\n",
        "8 progeny have been made from virus bdc7c in host e2a58"
       ]
      },
      {
       "output_type": "stream",
       "stream": "stdout",
       "text": [
        "\n",
        "8 progeny have been made from virus eae4f in host e2a58"
       ]
      },
      {
       "output_type": "stream",
       "stream": "stdout",
       "text": [
        "\n",
        "6 progeny have been made from virus 2f150 in host e2a58"
       ]
      },
      {
       "output_type": "stream",
       "stream": "stdout",
       "text": [
        "\n",
        "10 progeny have been made from virus f3ebd in host e2a58"
       ]
      },
      {
       "output_type": "stream",
       "stream": "stdout",
       "text": [
        "\n",
        "7 progeny have been made from virus d6298 in host e2a58"
       ]
      },
      {
       "output_type": "stream",
       "stream": "stdout",
       "text": [
        "\n",
        "9 progeny have been made from virus 4fa32 in host e2a58"
       ]
      },
      {
       "output_type": "stream",
       "stream": "stdout",
       "text": [
        "\n",
        "5 progeny have been made from virus 1f14f in host e2a58"
       ]
      },
      {
       "output_type": "stream",
       "stream": "stdout",
       "text": [
        "\n",
        "9 progeny have been made from virus 20673 in host e2a58"
       ]
      },
      {
       "output_type": "stream",
       "stream": "stdout",
       "text": [
        "\n",
        "10 progeny have been made from virus a1dfd in host e2a58"
       ]
      },
      {
       "output_type": "stream",
       "stream": "stdout",
       "text": [
        "\n",
        "5 progeny have been made from virus 17a50 in host e2a58"
       ]
      },
      {
       "output_type": "stream",
       "stream": "stdout",
       "text": [
        "\n",
        "6 progeny have been made from virus 4a41d in host e2a58"
       ]
      },
      {
       "output_type": "stream",
       "stream": "stdout",
       "text": [
        "\n",
        "7 progeny have been made from virus 5fdbf in host e2a58"
       ]
      },
      {
       "output_type": "stream",
       "stream": "stdout",
       "text": [
        "\n",
        "6 progeny have been made from virus bf833 in host e2a58"
       ]
      },
      {
       "output_type": "stream",
       "stream": "stdout",
       "text": [
        "\n",
        "7 progeny have been made from virus 1aecf in host e2a58"
       ]
      },
      {
       "output_type": "stream",
       "stream": "stdout",
       "text": [
        "\n",
        "7 progeny have been made from virus dcd9b in host e2a58"
       ]
      },
      {
       "output_type": "stream",
       "stream": "stdout",
       "text": [
        "\n",
        "6 progeny have been made from virus bdc7c in host e2a58"
       ]
      },
      {
       "output_type": "stream",
       "stream": "stdout",
       "text": [
        "\n",
        "8 progeny have been made from virus f20d9 in host e2a58"
       ]
      },
      {
       "output_type": "stream",
       "stream": "stdout",
       "text": [
        "\n",
        "8 progeny have been made from virus 9669f in host e2a58"
       ]
      },
      {
       "output_type": "stream",
       "stream": "stdout",
       "text": [
        "\n",
        "8 progeny have been made from virus 2b9d1 in host e2a58"
       ]
      },
      {
       "output_type": "stream",
       "stream": "stdout",
       "text": [
        "\n",
        "7 progeny have been made from virus 373ad in host e2a58"
       ]
      },
      {
       "output_type": "stream",
       "stream": "stdout",
       "text": [
        "\n",
        "8 progeny have been made from virus c669e in host e2a58"
       ]
      },
      {
       "output_type": "stream",
       "stream": "stdout",
       "text": [
        "\n",
        "7 progeny have been made from virus 4a887 in host e2a58"
       ]
      },
      {
       "output_type": "stream",
       "stream": "stdout",
       "text": [
        "\n",
        "5 progeny have been made from virus 589fc in host e2a58"
       ]
      },
      {
       "output_type": "stream",
       "stream": "stdout",
       "text": [
        "\n",
        "7 progeny have been made from virus 791ff in host e2a58"
       ]
      },
      {
       "output_type": "stream",
       "stream": "stdout",
       "text": [
        "\n",
        "5 progeny have been made from virus 38e49 in host e2a58"
       ]
      },
      {
       "output_type": "stream",
       "stream": "stdout",
       "text": [
        "\n",
        "10 progeny have been made from virus 26f57 in host e2a58"
       ]
      },
      {
       "output_type": "stream",
       "stream": "stdout",
       "text": [
        "\n",
        "7 progeny have been made from virus 8aaa0 in host e2a58"
       ]
      },
      {
       "output_type": "stream",
       "stream": "stdout",
       "text": [
        "\n",
        "9 progeny have been made from virus c5bcc in host e2a58"
       ]
      },
      {
       "output_type": "stream",
       "stream": "stdout",
       "text": [
        "\n",
        "8 progeny have been made from virus 723c6 in host e2a58"
       ]
      },
      {
       "output_type": "stream",
       "stream": "stdout",
       "text": [
        "\n",
        "9 progeny have been made from virus a7ca9 in host e2a58"
       ]
      },
      {
       "output_type": "stream",
       "stream": "stdout",
       "text": [
        "\n",
        "8 progeny have been made from virus 8a63f in host e2a58"
       ]
      },
      {
       "output_type": "stream",
       "stream": "stdout",
       "text": [
        "\n",
        "7 progeny have been made from virus b4c8c in host e2a58"
       ]
      },
      {
       "output_type": "stream",
       "stream": "stdout",
       "text": [
        "\n",
        "8 progeny have been made from virus 82cc8 in host e2a58"
       ]
      },
      {
       "output_type": "stream",
       "stream": "stdout",
       "text": [
        "\n",
        "9 progeny have been made from virus cdd81 in host e2a58"
       ]
      },
      {
       "output_type": "stream",
       "stream": "stdout",
       "text": [
        "\n",
        "5 progeny have been made from virus 90ffd in host e2a58"
       ]
      },
      {
       "output_type": "stream",
       "stream": "stdout",
       "text": [
        "\n",
        "8 progeny have been made from virus 96b1b in host e2a58"
       ]
      },
      {
       "output_type": "stream",
       "stream": "stdout",
       "text": [
        "\n",
        "8 progeny have been made from virus 1e8a3 in host e2a58"
       ]
      },
      {
       "output_type": "stream",
       "stream": "stdout",
       "text": [
        "\n",
        "5 progeny have been made from virus 63ba1 in host e2a58"
       ]
      },
      {
       "output_type": "stream",
       "stream": "stdout",
       "text": [
        "\n",
        "7 progeny have been made from virus 54e75 in host e2a58"
       ]
      },
      {
       "output_type": "stream",
       "stream": "stdout",
       "text": [
        "\n",
        "6 progeny have been made from virus 63b37 in host e2a58"
       ]
      },
      {
       "output_type": "stream",
       "stream": "stdout",
       "text": [
        "\n",
        "5 progeny have been made from virus 9a3ef in host e2a58"
       ]
      },
      {
       "output_type": "stream",
       "stream": "stdout",
       "text": [
        "\n",
        "10 progeny have been made from virus 40c1c in host e2a58"
       ]
      },
      {
       "output_type": "stream",
       "stream": "stdout",
       "text": [
        "\n",
        "7 progeny have been made from virus 9f6e2 in host e2a58"
       ]
      },
      {
       "output_type": "stream",
       "stream": "stdout",
       "text": [
        "\n",
        "5 progeny have been made from virus 71db9 in host e2a58"
       ]
      },
      {
       "output_type": "stream",
       "stream": "stdout",
       "text": [
        "\n",
        "9 progeny have been made from virus a3c04 in host e2a58"
       ]
      },
      {
       "output_type": "stream",
       "stream": "stdout",
       "text": [
        "\n",
        "9 progeny have been made from virus a489d in host e2a58"
       ]
      },
      {
       "output_type": "stream",
       "stream": "stdout",
       "text": [
        "\n",
        "10 progeny have been made from virus f592d in host e2a58"
       ]
      },
      {
       "output_type": "stream",
       "stream": "stdout",
       "text": [
        "\n",
        "10 progeny have been made from virus bbf85 in host e2a58"
       ]
      },
      {
       "output_type": "stream",
       "stream": "stdout",
       "text": [
        "\n",
        "9 progeny have been made from virus a3ae1 in host e2a58"
       ]
      },
      {
       "output_type": "stream",
       "stream": "stdout",
       "text": [
        "\n",
        "8 progeny have been made from virus 6cbbf in host e2a58"
       ]
      },
      {
       "output_type": "stream",
       "stream": "stdout",
       "text": [
        "\n",
        "6 progeny have been made from virus 63a0b in host e2a58"
       ]
      },
      {
       "output_type": "stream",
       "stream": "stdout",
       "text": [
        "\n",
        "6 progeny have been made from virus f0d75 in host e2a58"
       ]
      },
      {
       "output_type": "stream",
       "stream": "stdout",
       "text": [
        "\n",
        "9 progeny have been made from virus 925d9 in host e2a58"
       ]
      },
      {
       "output_type": "stream",
       "stream": "stdout",
       "text": [
        "\n",
        "5 progeny have been made from virus dd40d in host e2a58"
       ]
      },
      {
       "output_type": "stream",
       "stream": "stdout",
       "text": [
        "\n",
        "8 progeny have been made from virus 4e3cf in host e2a58"
       ]
      },
      {
       "output_type": "stream",
       "stream": "stdout",
       "text": [
        "\n",
        "7 progeny have been made from virus 0282d in host e2a58"
       ]
      },
      {
       "output_type": "stream",
       "stream": "stdout",
       "text": [
        "\n",
        "5 progeny have been made from virus e5ac1 in host e2a58"
       ]
      },
      {
       "output_type": "stream",
       "stream": "stdout",
       "text": [
        "\n",
        "9 progeny have been made from virus acc84 in host e2a58"
       ]
      },
      {
       "output_type": "stream",
       "stream": "stdout",
       "text": [
        "\n",
        "5 progeny have been made from virus f53f8 in host e2a58"
       ]
      },
      {
       "output_type": "stream",
       "stream": "stdout",
       "text": [
        "\n",
        "8 progeny have been made from virus a33f1 in host e2a58"
       ]
      },
      {
       "output_type": "stream",
       "stream": "stdout",
       "text": [
        "\n",
        "8 progeny have been made from virus 8a154 in host e2a58"
       ]
      },
      {
       "output_type": "stream",
       "stream": "stdout",
       "text": [
        "\n",
        "5 progeny have been made from virus c562a in host e2a58"
       ]
      },
      {
       "output_type": "stream",
       "stream": "stdout",
       "text": [
        "\n",
        "7 progeny have been made from virus a1506 in host e2a58"
       ]
      },
      {
       "output_type": "stream",
       "stream": "stdout",
       "text": [
        "\n",
        "9 progeny have been made from virus 6f617 in host e2a58"
       ]
      },
      {
       "output_type": "stream",
       "stream": "stdout",
       "text": [
        "\n",
        "6 progeny have been made from virus fa610 in host e2a58"
       ]
      },
      {
       "output_type": "stream",
       "stream": "stdout",
       "text": [
        "\n",
        "6 progeny have been made from virus a6a7f in host e2a58"
       ]
      },
      {
       "output_type": "stream",
       "stream": "stdout",
       "text": [
        "\n",
        "9 progeny have been made from virus e7f57 in host e2a58"
       ]
      },
      {
       "output_type": "stream",
       "stream": "stdout",
       "text": [
        "\n",
        "5 progeny have been made from virus fcc96 in host e2a58"
       ]
      },
      {
       "output_type": "stream",
       "stream": "stdout",
       "text": [
        "\n",
        "5 progeny have been made from virus 6d6f0 in host e2a58"
       ]
      },
      {
       "output_type": "stream",
       "stream": "stdout",
       "text": [
        "\n",
        "7 progeny have been made from virus 8fa2b in host e2a58"
       ]
      },
      {
       "output_type": "stream",
       "stream": "stdout",
       "text": [
        "\n",
        "6 progeny have been made from virus 841d3 in host e2a58"
       ]
      },
      {
       "output_type": "stream",
       "stream": "stdout",
       "text": [
        "\n",
        "10 progeny have been made from virus 94a74 in host e2a58"
       ]
      },
      {
       "output_type": "stream",
       "stream": "stdout",
       "text": [
        "\n",
        "5 progeny have been made from virus cce8f in host e2a58"
       ]
      },
      {
       "output_type": "stream",
       "stream": "stdout",
       "text": [
        "\n",
        "7 progeny have been made from virus b61a1 in host e2a58"
       ]
      },
      {
       "output_type": "stream",
       "stream": "stdout",
       "text": [
        "\n",
        "9 progeny have been made from virus 63a0b in host e2a58"
       ]
      },
      {
       "output_type": "stream",
       "stream": "stdout",
       "text": [
        "\n",
        "7 progeny have been made from virus ab3e4 in host e2a58"
       ]
      },
      {
       "output_type": "stream",
       "stream": "stdout",
       "text": [
        "\n",
        "9 progeny have been made from virus 48183 in host e2a58"
       ]
      },
      {
       "output_type": "stream",
       "stream": "stdout",
       "text": [
        "\n",
        "9 progeny have been made from virus 8cf76 in host e2a58"
       ]
      },
      {
       "output_type": "stream",
       "stream": "stdout",
       "text": [
        "\n",
        "9 progeny have been made from virus 9a0e2 in host e2a58"
       ]
      },
      {
       "output_type": "stream",
       "stream": "stdout",
       "text": [
        "\n",
        "10 progeny have been made from virus 6b60e in host e2a58"
       ]
      },
      {
       "output_type": "stream",
       "stream": "stdout",
       "text": [
        "\n",
        "7 progeny have been made from virus af877 in host e2a58"
       ]
      },
      {
       "output_type": "stream",
       "stream": "stdout",
       "text": [
        "\n",
        "9 progeny have been made from virus 90acc in host e2a58"
       ]
      },
      {
       "output_type": "stream",
       "stream": "stdout",
       "text": [
        "\n",
        "9 progeny have been made from virus 2925c in host e2a58"
       ]
      },
      {
       "output_type": "stream",
       "stream": "stdout",
       "text": [
        "\n",
        "5 progeny have been made from virus 5fdbf in host e2a58"
       ]
      },
      {
       "output_type": "stream",
       "stream": "stdout",
       "text": [
        "\n",
        "7 progeny have been made from virus 6dcc4 in host e2a58"
       ]
      },
      {
       "output_type": "stream",
       "stream": "stdout",
       "text": [
        "\n",
        "9 progeny have been made from virus 36996 in host e2a58"
       ]
      },
      {
       "output_type": "stream",
       "stream": "stdout",
       "text": [
        "\n",
        "7 progeny have been made from virus 6fc7c in host e2a58"
       ]
      },
      {
       "output_type": "stream",
       "stream": "stdout",
       "text": [
        "\n",
        "5 progeny have been made from virus 22224 in host e2a58"
       ]
      },
      {
       "output_type": "stream",
       "stream": "stdout",
       "text": [
        "\n",
        "7 progeny have been made from virus bce3c in host e2a58"
       ]
      },
      {
       "output_type": "stream",
       "stream": "stdout",
       "text": [
        "\n",
        "6 progeny have been made from virus 12703 in host e2a58"
       ]
      },
      {
       "output_type": "stream",
       "stream": "stdout",
       "text": [
        "\n",
        "5 progeny have been made from virus b8061 in host e2a58"
       ]
      },
      {
       "output_type": "stream",
       "stream": "stdout",
       "text": [
        "\n",
        "10 progeny have been made from virus d6334 in host e2a58"
       ]
      },
      {
       "output_type": "stream",
       "stream": "stdout",
       "text": [
        "\n",
        "9 progeny have been made from virus 8cf76 in host e2a58"
       ]
      },
      {
       "output_type": "stream",
       "stream": "stdout",
       "text": [
        "\n",
        "5 progeny have been made from virus 2be68 in host e2a58"
       ]
      },
      {
       "output_type": "stream",
       "stream": "stdout",
       "text": [
        "\n",
        "7 progeny have been made from virus 36996 in host e2a58"
       ]
      },
      {
       "output_type": "stream",
       "stream": "stdout",
       "text": [
        "\n",
        "6 progeny have been made from virus 684e6 in host e2a58"
       ]
      },
      {
       "output_type": "stream",
       "stream": "stdout",
       "text": [
        "\n",
        "5 progeny have been made from virus 5a660 in host e2a58"
       ]
      },
      {
       "output_type": "stream",
       "stream": "stdout",
       "text": [
        "\n",
        "7 progeny have been made from virus d594e in host e2a58"
       ]
      },
      {
       "output_type": "stream",
       "stream": "stdout",
       "text": [
        "\n",
        "8 progeny have been made from virus e5ac1 in host e2a58"
       ]
      },
      {
       "output_type": "stream",
       "stream": "stdout",
       "text": [
        "\n",
        "6 progeny have been made from virus 7812f in host e2a58"
       ]
      },
      {
       "output_type": "stream",
       "stream": "stdout",
       "text": [
        "\n",
        "10 progeny have been made from virus 53be6 in host e2a58"
       ]
      },
      {
       "output_type": "stream",
       "stream": "stdout",
       "text": [
        "\n",
        "5 progeny have been made from virus 23d60 in host e2a58"
       ]
      },
      {
       "output_type": "stream",
       "stream": "stdout",
       "text": [
        "\n",
        "1302 progeny generated in host e2a58.\n",
        "Current time is 9. Incrementing time to 10"
       ]
      },
      {
       "output_type": "stream",
       "stream": "stdout",
       "text": [
        "\n",
        "Generating 1338 progeny in host e2a58...\n",
        "5 progeny have been made from virus fe6fb in host e2a58"
       ]
      },
      {
       "output_type": "stream",
       "stream": "stdout",
       "text": [
        "\n",
        "9 progeny have been made from virus 66996 in host e2a58"
       ]
      },
      {
       "output_type": "stream",
       "stream": "stdout",
       "text": [
        "\n",
        "7 progeny have been made from virus 10359 in host e2a58"
       ]
      },
      {
       "output_type": "stream",
       "stream": "stdout",
       "text": [
        "\n",
        "5 progeny have been made from virus 415f9 in host e2a58"
       ]
      },
      {
       "output_type": "stream",
       "stream": "stdout",
       "text": [
        "\n",
        "8 progeny have been made from virus 3777c in host e2a58"
       ]
      },
      {
       "output_type": "stream",
       "stream": "stdout",
       "text": [
        "\n",
        "6 progeny have been made from virus 097cb in host e2a58"
       ]
      },
      {
       "output_type": "stream",
       "stream": "stdout",
       "text": [
        "\n",
        "5 progeny have been made from virus 2bd10 in host e2a58"
       ]
      },
      {
       "output_type": "stream",
       "stream": "stdout",
       "text": [
        "\n",
        "9 progeny have been made from virus b93e8 in host e2a58"
       ]
      },
      {
       "output_type": "stream",
       "stream": "stdout",
       "text": [
        "\n",
        "9 progeny have been made from virus 012ab in host e2a58"
       ]
      },
      {
       "output_type": "stream",
       "stream": "stdout",
       "text": [
        "\n",
        "8 progeny have been made from virus eb043 in host e2a58"
       ]
      },
      {
       "output_type": "stream",
       "stream": "stdout",
       "text": [
        "\n",
        "6 progeny have been made from virus 1a691 in host e2a58"
       ]
      },
      {
       "output_type": "stream",
       "stream": "stdout",
       "text": [
        "\n",
        "8 progeny have been made from virus c3206 in host e2a58"
       ]
      },
      {
       "output_type": "stream",
       "stream": "stdout",
       "text": [
        "\n",
        "9 progeny have been made from virus 6a3af in host e2a58"
       ]
      },
      {
       "output_type": "stream",
       "stream": "stdout",
       "text": [
        "\n",
        "6 progeny have been made from virus a66e5 in host e2a58"
       ]
      },
      {
       "output_type": "stream",
       "stream": "stdout",
       "text": [
        "\n",
        "7 progeny have been made from virus e314c in host e2a58"
       ]
      },
      {
       "output_type": "stream",
       "stream": "stdout",
       "text": [
        "\n",
        "10 progeny have been made from virus 06195 in host e2a58"
       ]
      },
      {
       "output_type": "stream",
       "stream": "stdout",
       "text": [
        "\n",
        "9 progeny have been made from virus 63b13 in host e2a58"
       ]
      },
      {
       "output_type": "stream",
       "stream": "stdout",
       "text": [
        "\n",
        "6 progeny have been made from virus d7802 in host e2a58"
       ]
      },
      {
       "output_type": "stream",
       "stream": "stdout",
       "text": [
        "\n",
        "6 progeny have been made from virus c6933 in host e2a58"
       ]
      },
      {
       "output_type": "stream",
       "stream": "stdout",
       "text": [
        "\n",
        "5 progeny have been made from virus 08e5f in host e2a58"
       ]
      },
      {
       "output_type": "stream",
       "stream": "stdout",
       "text": [
        "\n",
        "6 progeny have been made from virus 1081a in host e2a58"
       ]
      },
      {
       "output_type": "stream",
       "stream": "stdout",
       "text": [
        "\n",
        "9 progeny have been made from virus 5761d in host e2a58"
       ]
      },
      {
       "output_type": "stream",
       "stream": "stdout",
       "text": [
        "\n",
        "6 progeny have been made from virus 874be in host e2a58"
       ]
      },
      {
       "output_type": "stream",
       "stream": "stdout",
       "text": [
        "\n",
        "10 progeny have been made from virus 15b46 in host e2a58"
       ]
      },
      {
       "output_type": "stream",
       "stream": "stdout",
       "text": [
        "\n",
        "7 progeny have been made from virus 10eef in host e2a58"
       ]
      },
      {
       "output_type": "stream",
       "stream": "stdout",
       "text": [
        "\n",
        "10 progeny have been made from virus d5e3a in host e2a58"
       ]
      },
      {
       "output_type": "stream",
       "stream": "stdout",
       "text": [
        "\n",
        "8 progeny have been made from virus 377a5 in host e2a58"
       ]
      },
      {
       "output_type": "stream",
       "stream": "stdout",
       "text": [
        "\n",
        "10 progeny have been made from virus 14a72 in host e2a58"
       ]
      },
      {
       "output_type": "stream",
       "stream": "stdout",
       "text": [
        "\n",
        "9 progeny have been made from virus bc258 in host e2a58"
       ]
      },
      {
       "output_type": "stream",
       "stream": "stdout",
       "text": [
        "\n",
        "6 progeny have been made from virus 62774 in host e2a58"
       ]
      },
      {
       "output_type": "stream",
       "stream": "stdout",
       "text": [
        "\n",
        "8 progeny have been made from virus fe29e in host e2a58"
       ]
      },
      {
       "output_type": "stream",
       "stream": "stdout",
       "text": [
        "\n",
        "5 progeny have been made from virus a99e1 in host e2a58"
       ]
      },
      {
       "output_type": "stream",
       "stream": "stdout",
       "text": [
        "\n",
        "8 progeny have been made from virus 2c30d in host e2a58"
       ]
      },
      {
       "output_type": "stream",
       "stream": "stdout",
       "text": [
        "\n",
        "9 progeny have been made from virus 2c30d in host e2a58"
       ]
      },
      {
       "output_type": "stream",
       "stream": "stdout",
       "text": [
        "\n",
        "7 progeny have been made from virus e85bd in host e2a58"
       ]
      },
      {
       "output_type": "stream",
       "stream": "stdout",
       "text": [
        "\n",
        "6 progeny have been made from virus 3f0a1 in host e2a58"
       ]
      },
      {
       "output_type": "stream",
       "stream": "stdout",
       "text": [
        "\n",
        "5 progeny have been made from virus 573b1 in host e2a58"
       ]
      },
      {
       "output_type": "stream",
       "stream": "stdout",
       "text": [
        "\n",
        "9 progeny have been made from virus 56233 in host e2a58"
       ]
      },
      {
       "output_type": "stream",
       "stream": "stdout",
       "text": [
        "\n",
        "9 progeny have been made from virus 2c30d in host e2a58"
       ]
      },
      {
       "output_type": "stream",
       "stream": "stdout",
       "text": [
        "\n",
        "9 progeny have been made from virus c5cec in host e2a58"
       ]
      },
      {
       "output_type": "stream",
       "stream": "stdout",
       "text": [
        "\n",
        "10 progeny have been made from virus fb424 in host e2a58"
       ]
      },
      {
       "output_type": "stream",
       "stream": "stdout",
       "text": [
        "\n",
        "7 progeny have been made from virus 407ba in host e2a58"
       ]
      },
      {
       "output_type": "stream",
       "stream": "stdout",
       "text": [
        "\n",
        "10 progeny have been made from virus b8786 in host e2a58"
       ]
      },
      {
       "output_type": "stream",
       "stream": "stdout",
       "text": [
        "\n",
        "6 progeny have been made from virus deca6 in host e2a58"
       ]
      },
      {
       "output_type": "stream",
       "stream": "stdout",
       "text": [
        "\n",
        "5 progeny have been made from virus ae0ff in host e2a58"
       ]
      },
      {
       "output_type": "stream",
       "stream": "stdout",
       "text": [
        "\n",
        "7 progeny have been made from virus 3be75 in host e2a58"
       ]
      },
      {
       "output_type": "stream",
       "stream": "stdout",
       "text": [
        "\n",
        "5 progeny have been made from virus b3846 in host e2a58"
       ]
      },
      {
       "output_type": "stream",
       "stream": "stdout",
       "text": [
        "\n",
        "7 progeny have been made from virus 235e7 in host e2a58"
       ]
      },
      {
       "output_type": "stream",
       "stream": "stdout",
       "text": [
        "\n",
        "10 progeny have been made from virus 4ef5e in host e2a58"
       ]
      },
      {
       "output_type": "stream",
       "stream": "stdout",
       "text": [
        "\n",
        "7 progeny have been made from virus cae00 in host e2a58"
       ]
      },
      {
       "output_type": "stream",
       "stream": "stdout",
       "text": [
        "\n",
        "10 progeny have been made from virus 8faa8 in host e2a58"
       ]
      },
      {
       "output_type": "stream",
       "stream": "stdout",
       "text": [
        "\n",
        "9 progeny have been made from virus 40c1c in host e2a58"
       ]
      },
      {
       "output_type": "stream",
       "stream": "stdout",
       "text": [
        "\n",
        "6 progeny have been made from virus 4b850 in host e2a58"
       ]
      },
      {
       "output_type": "stream",
       "stream": "stdout",
       "text": [
        "\n",
        "5 progeny have been made from virus 03ff9 in host e2a58"
       ]
      },
      {
       "output_type": "stream",
       "stream": "stdout",
       "text": [
        "\n",
        "9 progeny have been made from virus 84b5a in host e2a58"
       ]
      },
      {
       "output_type": "stream",
       "stream": "stdout",
       "text": [
        "\n",
        "6 progeny have been made from virus a1336 in host e2a58"
       ]
      },
      {
       "output_type": "stream",
       "stream": "stdout",
       "text": [
        "\n",
        "9 progeny have been made from virus 8d7e5 in host e2a58"
       ]
      },
      {
       "output_type": "stream",
       "stream": "stdout",
       "text": [
        "\n",
        "9 progeny have been made from virus 19d34 in host e2a58"
       ]
      },
      {
       "output_type": "stream",
       "stream": "stdout",
       "text": [
        "\n",
        "10 progeny have been made from virus 15281 in host e2a58"
       ]
      },
      {
       "output_type": "stream",
       "stream": "stdout",
       "text": [
        "\n",
        "8 progeny have been made from virus 885f8 in host e2a58"
       ]
      },
      {
       "output_type": "stream",
       "stream": "stdout",
       "text": [
        "\n",
        "8 progeny have been made from virus 393f5 in host e2a58"
       ]
      },
      {
       "output_type": "stream",
       "stream": "stdout",
       "text": [
        "\n",
        "9 progeny have been made from virus 15cf9 in host e2a58"
       ]
      },
      {
       "output_type": "stream",
       "stream": "stdout",
       "text": [
        "\n",
        "6 progeny have been made from virus 0731b in host e2a58"
       ]
      },
      {
       "output_type": "stream",
       "stream": "stdout",
       "text": [
        "\n",
        "7 progeny have been made from virus 58970 in host e2a58"
       ]
      },
      {
       "output_type": "stream",
       "stream": "stdout",
       "text": [
        "\n",
        "10 progeny have been made from virus e9f64 in host e2a58"
       ]
      },
      {
       "output_type": "stream",
       "stream": "stdout",
       "text": [
        "\n",
        "9 progeny have been made from virus f001a in host e2a58"
       ]
      },
      {
       "output_type": "stream",
       "stream": "stdout",
       "text": [
        "\n",
        "6 progeny have been made from virus de3e2 in host e2a58"
       ]
      },
      {
       "output_type": "stream",
       "stream": "stdout",
       "text": [
        "\n",
        "6 progeny have been made from virus 0900b in host e2a58"
       ]
      },
      {
       "output_type": "stream",
       "stream": "stdout",
       "text": [
        "\n",
        "6 progeny have been made from virus 7e71f in host e2a58"
       ]
      },
      {
       "output_type": "stream",
       "stream": "stdout",
       "text": [
        "\n",
        "7 progeny have been made from virus 8bf19 in host e2a58"
       ]
      },
      {
       "output_type": "stream",
       "stream": "stdout",
       "text": [
        "\n",
        "8 progeny have been made from virus d5e3a in host e2a58"
       ]
      },
      {
       "output_type": "stream",
       "stream": "stdout",
       "text": [
        "\n",
        "9 progeny have been made from virus 7da05 in host e2a58"
       ]
      },
      {
       "output_type": "stream",
       "stream": "stdout",
       "text": [
        "\n",
        "8 progeny have been made from virus 486dc in host e2a58"
       ]
      },
      {
       "output_type": "stream",
       "stream": "stdout",
       "text": [
        "\n",
        "8 progeny have been made from virus 4ce7e in host e2a58"
       ]
      },
      {
       "output_type": "stream",
       "stream": "stdout",
       "text": [
        "\n",
        "5 progeny have been made from virus 2583e in host e2a58"
       ]
      },
      {
       "output_type": "stream",
       "stream": "stdout",
       "text": [
        "\n",
        "5 progeny have been made from virus ac734 in host e2a58"
       ]
      },
      {
       "output_type": "stream",
       "stream": "stdout",
       "text": [
        "\n",
        "6 progeny have been made from virus ae9bd in host e2a58"
       ]
      },
      {
       "output_type": "stream",
       "stream": "stdout",
       "text": [
        "\n",
        "8 progeny have been made from virus 75f2e in host e2a58"
       ]
      },
      {
       "output_type": "stream",
       "stream": "stdout",
       "text": [
        "\n",
        "8 progeny have been made from virus 56233 in host e2a58"
       ]
      },
      {
       "output_type": "stream",
       "stream": "stdout",
       "text": [
        "\n",
        "5 progeny have been made from virus bc258 in host e2a58"
       ]
      },
      {
       "output_type": "stream",
       "stream": "stdout",
       "text": [
        "\n",
        "10 progeny have been made from virus f040b in host e2a58"
       ]
      },
      {
       "output_type": "stream",
       "stream": "stdout",
       "text": [
        "\n",
        "5 progeny have been made from virus dee58 in host e2a58"
       ]
      },
      {
       "output_type": "stream",
       "stream": "stdout",
       "text": [
        "\n",
        "9 progeny have been made from virus a08a1 in host e2a58"
       ]
      },
      {
       "output_type": "stream",
       "stream": "stdout",
       "text": [
        "\n",
        "6 progeny have been made from virus abefc in host e2a58"
       ]
      },
      {
       "output_type": "stream",
       "stream": "stdout",
       "text": [
        "\n",
        "7 progeny have been made from virus 8dfb1 in host e2a58"
       ]
      },
      {
       "output_type": "stream",
       "stream": "stdout",
       "text": [
        "\n",
        "6 progeny have been made from virus 321e3 in host e2a58"
       ]
      },
      {
       "output_type": "stream",
       "stream": "stdout",
       "text": [
        "\n",
        "10 progeny have been made from virus bb4e2 in host e2a58"
       ]
      },
      {
       "output_type": "stream",
       "stream": "stdout",
       "text": [
        "\n",
        "7 progeny have been made from virus 46459 in host e2a58"
       ]
      },
      {
       "output_type": "stream",
       "stream": "stdout",
       "text": [
        "\n",
        "9 progeny have been made from virus 93a1a in host e2a58"
       ]
      },
      {
       "output_type": "stream",
       "stream": "stdout",
       "text": [
        "\n",
        "7 progeny have been made from virus 5b76c in host e2a58"
       ]
      },
      {
       "output_type": "stream",
       "stream": "stdout",
       "text": [
        "\n",
        "7 progeny have been made from virus 006bf in host e2a58"
       ]
      },
      {
       "output_type": "stream",
       "stream": "stdout",
       "text": [
        "\n",
        "5 progeny have been made from virus ae0ff in host e2a58"
       ]
      },
      {
       "output_type": "stream",
       "stream": "stdout",
       "text": [
        "\n",
        "10 progeny have been made from virus debab in host e2a58"
       ]
      },
      {
       "output_type": "stream",
       "stream": "stdout",
       "text": [
        "\n",
        "8 progeny have been made from virus 5761d in host e2a58"
       ]
      },
      {
       "output_type": "stream",
       "stream": "stdout",
       "text": [
        "\n",
        "8 progeny have been made from virus f2bc9 in host e2a58"
       ]
      },
      {
       "output_type": "stream",
       "stream": "stdout",
       "text": [
        "\n",
        "6 progeny have been made from virus 3c5f6 in host e2a58"
       ]
      },
      {
       "output_type": "stream",
       "stream": "stdout",
       "text": [
        "\n",
        "8 progeny have been made from virus f1fcd in host e2a58"
       ]
      },
      {
       "output_type": "stream",
       "stream": "stdout",
       "text": [
        "\n",
        "10 progeny have been made from virus 3b2b7 in host e2a58"
       ]
      },
      {
       "output_type": "stream",
       "stream": "stdout",
       "text": [
        "\n",
        "7 progeny have been made from virus 34281 in host e2a58"
       ]
      },
      {
       "output_type": "stream",
       "stream": "stdout",
       "text": [
        "\n",
        "10 progeny have been made from virus 5f599 in host e2a58"
       ]
      },
      {
       "output_type": "stream",
       "stream": "stdout",
       "text": [
        "\n",
        "9 progeny have been made from virus 3f3d5 in host e2a58"
       ]
      },
      {
       "output_type": "stream",
       "stream": "stdout",
       "text": [
        "\n",
        "5 progeny have been made from virus 60c91 in host e2a58"
       ]
      },
      {
       "output_type": "stream",
       "stream": "stdout",
       "text": [
        "\n",
        "8 progeny have been made from virus a649b in host e2a58"
       ]
      },
      {
       "output_type": "stream",
       "stream": "stdout",
       "text": [
        "\n",
        "6 progeny have been made from virus 543a7 in host e2a58"
       ]
      },
      {
       "output_type": "stream",
       "stream": "stdout",
       "text": [
        "\n",
        "10 progeny have been made from virus 36183 in host e2a58"
       ]
      },
      {
       "output_type": "stream",
       "stream": "stdout",
       "text": [
        "\n",
        "8 progeny have been made from virus 108e6 in host e2a58"
       ]
      },
      {
       "output_type": "stream",
       "stream": "stdout",
       "text": [
        "\n",
        "5 progeny have been made from virus dcff3 in host e2a58"
       ]
      },
      {
       "output_type": "stream",
       "stream": "stdout",
       "text": [
        "\n",
        "9 progeny have been made from virus a2df0 in host e2a58"
       ]
      },
      {
       "output_type": "stream",
       "stream": "stdout",
       "text": [
        "\n",
        "6 progeny have been made from virus 45737 in host e2a58"
       ]
      },
      {
       "output_type": "stream",
       "stream": "stdout",
       "text": [
        "\n",
        "6 progeny have been made from virus 8f749 in host e2a58"
       ]
      },
      {
       "output_type": "stream",
       "stream": "stdout",
       "text": [
        "\n",
        "8 progeny have been made from virus 2982d in host e2a58"
       ]
      },
      {
       "output_type": "stream",
       "stream": "stdout",
       "text": [
        "\n",
        "6 progeny have been made from virus e3f76 in host e2a58"
       ]
      },
      {
       "output_type": "stream",
       "stream": "stdout",
       "text": [
        "\n",
        "10 progeny have been made from virus 52259 in host e2a58"
       ]
      },
      {
       "output_type": "stream",
       "stream": "stdout",
       "text": [
        "\n",
        "6 progeny have been made from virus b1363 in host e2a58"
       ]
      },
      {
       "output_type": "stream",
       "stream": "stdout",
       "text": [
        "\n",
        "6 progeny have been made from virus ca5d8 in host e2a58"
       ]
      },
      {
       "output_type": "stream",
       "stream": "stdout",
       "text": [
        "\n",
        "6 progeny have been made from virus 67b2c in host e2a58"
       ]
      },
      {
       "output_type": "stream",
       "stream": "stdout",
       "text": [
        "\n",
        "8 progeny have been made from virus 2318e in host e2a58"
       ]
      },
      {
       "output_type": "stream",
       "stream": "stdout",
       "text": [
        "\n",
        "9 progeny have been made from virus 21870 in host e2a58"
       ]
      },
      {
       "output_type": "stream",
       "stream": "stdout",
       "text": [
        "\n",
        "9 progeny have been made from virus 46dfc in host e2a58"
       ]
      },
      {
       "output_type": "stream",
       "stream": "stdout",
       "text": [
        "\n",
        "7 progeny have been made from virus fb04e in host e2a58"
       ]
      },
      {
       "output_type": "stream",
       "stream": "stdout",
       "text": [
        "\n",
        "9 progeny have been made from virus db323 in host e2a58"
       ]
      },
      {
       "output_type": "stream",
       "stream": "stdout",
       "text": [
        "\n",
        "8 progeny have been made from virus 486ce in host e2a58"
       ]
      },
      {
       "output_type": "stream",
       "stream": "stdout",
       "text": [
        "\n",
        "8 progeny have been made from virus 235e7 in host e2a58"
       ]
      },
      {
       "output_type": "stream",
       "stream": "stdout",
       "text": [
        "\n",
        "7 progeny have been made from virus 534bc in host e2a58"
       ]
      },
      {
       "output_type": "stream",
       "stream": "stdout",
       "text": [
        "\n",
        "10 progeny have been made from virus 79597 in host e2a58"
       ]
      },
      {
       "output_type": "stream",
       "stream": "stdout",
       "text": [
        "\n",
        "6 progeny have been made from virus fa630 in host e2a58"
       ]
      },
      {
       "output_type": "stream",
       "stream": "stdout",
       "text": [
        "\n",
        "9 progeny have been made from virus 07a2e in host e2a58"
       ]
      },
      {
       "output_type": "stream",
       "stream": "stdout",
       "text": [
        "\n",
        "10 progeny have been made from virus a5cb1 in host e2a58"
       ]
      },
      {
       "output_type": "stream",
       "stream": "stdout",
       "text": [
        "\n",
        "7 progeny have been made from virus 74638 in host e2a58"
       ]
      },
      {
       "output_type": "stream",
       "stream": "stdout",
       "text": [
        "\n",
        "8 progeny have been made from virus 9ac6f in host e2a58"
       ]
      },
      {
       "output_type": "stream",
       "stream": "stdout",
       "text": [
        "\n",
        "7 progeny have been made from virus 91555 in host e2a58"
       ]
      },
      {
       "output_type": "stream",
       "stream": "stdout",
       "text": [
        "\n",
        "10 progeny have been made from virus 98fc3 in host e2a58"
       ]
      },
      {
       "output_type": "stream",
       "stream": "stdout",
       "text": [
        "\n",
        "9 progeny have been made from virus d3652 in host e2a58"
       ]
      },
      {
       "output_type": "stream",
       "stream": "stdout",
       "text": [
        "\n",
        "7 progeny have been made from virus 08a29 in host e2a58"
       ]
      },
      {
       "output_type": "stream",
       "stream": "stdout",
       "text": [
        "\n",
        "5 progeny have been made from virus 9402b in host e2a58"
       ]
      },
      {
       "output_type": "stream",
       "stream": "stdout",
       "text": [
        "\n",
        "10 progeny have been made from virus 7e71f in host e2a58"
       ]
      },
      {
       "output_type": "stream",
       "stream": "stdout",
       "text": [
        "\n",
        "8 progeny have been made from virus a99e1 in host e2a58"
       ]
      },
      {
       "output_type": "stream",
       "stream": "stdout",
       "text": [
        "\n",
        "9 progeny have been made from virus fd7b3 in host e2a58"
       ]
      },
      {
       "output_type": "stream",
       "stream": "stdout",
       "text": [
        "\n",
        "10 progeny have been made from virus 09f14 in host e2a58"
       ]
      },
      {
       "output_type": "stream",
       "stream": "stdout",
       "text": [
        "\n",
        "5 progeny have been made from virus a99e1 in host e2a58"
       ]
      },
      {
       "output_type": "stream",
       "stream": "stdout",
       "text": [
        "\n",
        "7 progeny have been made from virus 1dfcd in host e2a58"
       ]
      },
      {
       "output_type": "stream",
       "stream": "stdout",
       "text": [
        "\n",
        "7 progeny have been made from virus a02af in host e2a58"
       ]
      },
      {
       "output_type": "stream",
       "stream": "stdout",
       "text": [
        "\n",
        "9 progeny have been made from virus ff91d in host e2a58"
       ]
      },
      {
       "output_type": "stream",
       "stream": "stdout",
       "text": [
        "\n",
        "9 progeny have been made from virus 6fd61 in host e2a58"
       ]
      },
      {
       "output_type": "stream",
       "stream": "stdout",
       "text": [
        "\n",
        "7 progeny have been made from virus d6576 in host e2a58"
       ]
      },
      {
       "output_type": "stream",
       "stream": "stdout",
       "text": [
        "\n",
        "6 progeny have been made from virus 5858f in host e2a58"
       ]
      },
      {
       "output_type": "stream",
       "stream": "stdout",
       "text": [
        "\n",
        "9 progeny have been made from virus 0ac93 in host e2a58"
       ]
      },
      {
       "output_type": "stream",
       "stream": "stdout",
       "text": [
        "\n",
        "5 progeny have been made from virus 36617 in host e2a58"
       ]
      },
      {
       "output_type": "stream",
       "stream": "stdout",
       "text": [
        "\n",
        "7 progeny have been made from virus b67ba in host e2a58"
       ]
      },
      {
       "output_type": "stream",
       "stream": "stdout",
       "text": [
        "\n",
        "8 progeny have been made from virus dfe7f in host e2a58"
       ]
      },
      {
       "output_type": "stream",
       "stream": "stdout",
       "text": [
        "\n",
        "9 progeny have been made from virus dcd8d in host e2a58"
       ]
      },
      {
       "output_type": "stream",
       "stream": "stdout",
       "text": [
        "\n",
        "9 progeny have been made from virus 2b213 in host e2a58"
       ]
      },
      {
       "output_type": "stream",
       "stream": "stdout",
       "text": [
        "\n",
        "9 progeny have been made from virus 56f97 in host e2a58"
       ]
      },
      {
       "output_type": "stream",
       "stream": "stdout",
       "text": [
        "\n",
        "7 progeny have been made from virus 925d9 in host e2a58"
       ]
      },
      {
       "output_type": "stream",
       "stream": "stdout",
       "text": [
        "\n",
        "8 progeny have been made from virus 3e9d1 in host e2a58"
       ]
      },
      {
       "output_type": "stream",
       "stream": "stdout",
       "text": [
        "\n",
        "10 progeny have been made from virus 79d2b in host e2a58"
       ]
      },
      {
       "output_type": "stream",
       "stream": "stdout",
       "text": [
        "\n",
        "10 progeny have been made from virus 08143 in host e2a58"
       ]
      },
      {
       "output_type": "stream",
       "stream": "stdout",
       "text": [
        "\n",
        "9 progeny have been made from virus efb01 in host e2a58"
       ]
      },
      {
       "output_type": "stream",
       "stream": "stdout",
       "text": [
        "\n",
        "10 progeny have been made from virus c150c in host e2a58"
       ]
      },
      {
       "output_type": "stream",
       "stream": "stdout",
       "text": [
        "\n",
        "8 progeny have been made from virus 315d0 in host e2a58"
       ]
      },
      {
       "output_type": "stream",
       "stream": "stdout",
       "text": [
        "\n",
        "10 progeny have been made from virus e78fe in host e2a58"
       ]
      },
      {
       "output_type": "stream",
       "stream": "stdout",
       "text": [
        "\n",
        "7 progeny have been made from virus acdf6 in host e2a58"
       ]
      },
      {
       "output_type": "stream",
       "stream": "stdout",
       "text": [
        "\n",
        "7 progeny have been made from virus 91792 in host e2a58"
       ]
      },
      {
       "output_type": "stream",
       "stream": "stdout",
       "text": [
        "\n",
        "8 progeny have been made from virus ff91d in host e2a58"
       ]
      },
      {
       "output_type": "stream",
       "stream": "stdout",
       "text": [
        "\n",
        "7 progeny have been made from virus 03015 in host e2a58"
       ]
      },
      {
       "output_type": "stream",
       "stream": "stdout",
       "text": [
        "\n",
        "8 progeny have been made from virus 60af4 in host e2a58"
       ]
      },
      {
       "output_type": "stream",
       "stream": "stdout",
       "text": [
        "\n",
        "8 progeny have been made from virus 3be75 in host e2a58"
       ]
      },
      {
       "output_type": "stream",
       "stream": "stdout",
       "text": [
        "\n",
        "5 progeny have been made from virus a390c in host e2a58"
       ]
      },
      {
       "output_type": "stream",
       "stream": "stdout",
       "text": [
        "\n",
        "9 progeny have been made from virus adc3c in host e2a58"
       ]
      },
      {
       "output_type": "stream",
       "stream": "stdout",
       "text": [
        "\n",
        "7 progeny have been made from virus c67e5 in host e2a58"
       ]
      },
      {
       "output_type": "stream",
       "stream": "stdout",
       "text": [
        "\n",
        "7 progeny have been made from virus 8d7e5 in host e2a58"
       ]
      },
      {
       "output_type": "stream",
       "stream": "stdout",
       "text": [
        "\n",
        "8 progeny have been made from virus 1ed97 in host e2a58"
       ]
      },
      {
       "output_type": "stream",
       "stream": "stdout",
       "text": [
        "\n",
        "7 progeny have been made from virus 019d1 in host e2a58"
       ]
      },
      {
       "output_type": "stream",
       "stream": "stdout",
       "text": [
        "\n",
        "7 progeny have been made from virus 4349f in host e2a58"
       ]
      },
      {
       "output_type": "stream",
       "stream": "stdout",
       "text": [
        "\n",
        "9 progeny have been made from virus 6d7a5 in host e2a58"
       ]
      },
      {
       "output_type": "stream",
       "stream": "stdout",
       "text": [
        "\n",
        "1339 progeny generated in host e2a58.\n",
        "Current time is 10. Incrementing time to 11"
       ]
      },
      {
       "output_type": "stream",
       "stream": "stdout",
       "text": [
        "\n",
        "Generating 1414 progeny in host e2a58...\n",
        "10 progeny have been made from virus 94fbc in host e2a58"
       ]
      },
      {
       "output_type": "stream",
       "stream": "stdout",
       "text": [
        "\n",
        "10 progeny have been made from virus 1bc48 in host e2a58"
       ]
      },
      {
       "output_type": "stream",
       "stream": "stdout",
       "text": [
        "\n",
        "6 progeny have been made from virus 3b2fa in host e2a58"
       ]
      },
      {
       "output_type": "stream",
       "stream": "stdout",
       "text": [
        "\n",
        "8 progeny have been made from virus 4d262 in host e2a58"
       ]
      },
      {
       "output_type": "stream",
       "stream": "stdout",
       "text": [
        "\n",
        "5 progeny have been made from virus 65a3b in host e2a58"
       ]
      },
      {
       "output_type": "stream",
       "stream": "stdout",
       "text": [
        "\n",
        "10 progeny have been made from virus 48e94 in host e2a58"
       ]
      },
      {
       "output_type": "stream",
       "stream": "stdout",
       "text": [
        "\n",
        "8 progeny have been made from virus d8ce7 in host e2a58"
       ]
      },
      {
       "output_type": "stream",
       "stream": "stdout",
       "text": [
        "\n",
        "5 progeny have been made from virus 5b76c in host e2a58"
       ]
      },
      {
       "output_type": "stream",
       "stream": "stdout",
       "text": [
        "\n",
        "7 progeny have been made from virus 5d421 in host e2a58"
       ]
      },
      {
       "output_type": "stream",
       "stream": "stdout",
       "text": [
        "\n",
        "5 progeny have been made from virus 8de39 in host e2a58"
       ]
      },
      {
       "output_type": "stream",
       "stream": "stdout",
       "text": [
        "\n",
        "6 progeny have been made from virus 922f2 in host e2a58"
       ]
      },
      {
       "output_type": "stream",
       "stream": "stdout",
       "text": [
        "\n",
        "6 progeny have been made from virus ba9ad in host e2a58"
       ]
      },
      {
       "output_type": "stream",
       "stream": "stdout",
       "text": [
        "\n",
        "10 progeny have been made from virus f108c in host e2a58"
       ]
      },
      {
       "output_type": "stream",
       "stream": "stdout",
       "text": [
        "\n",
        "6 progeny have been made from virus 1f780 in host e2a58"
       ]
      },
      {
       "output_type": "stream",
       "stream": "stdout",
       "text": [
        "\n",
        "9 progeny have been made from virus ccc10 in host e2a58"
       ]
      },
      {
       "output_type": "stream",
       "stream": "stdout",
       "text": [
        "\n",
        "8 progeny have been made from virus 338ea in host e2a58"
       ]
      },
      {
       "output_type": "stream",
       "stream": "stdout",
       "text": [
        "\n",
        "6 progeny have been made from virus 8c1d0 in host e2a58"
       ]
      },
      {
       "output_type": "stream",
       "stream": "stdout",
       "text": [
        "\n",
        "6 progeny have been made from virus f21bd in host e2a58"
       ]
      },
      {
       "output_type": "stream",
       "stream": "stdout",
       "text": [
        "\n",
        "5 progeny have been made from virus 49034 in host e2a58"
       ]
      },
      {
       "output_type": "stream",
       "stream": "stdout",
       "text": [
        "\n",
        "7 progeny have been made from virus 0b980 in host e2a58"
       ]
      },
      {
       "output_type": "stream",
       "stream": "stdout",
       "text": [
        "\n",
        "8 progeny have been made from virus 36328 in host e2a58"
       ]
      },
      {
       "output_type": "stream",
       "stream": "stdout",
       "text": [
        "\n",
        "5 progeny have been made from virus 4ccfb in host e2a58"
       ]
      },
      {
       "output_type": "stream",
       "stream": "stdout",
       "text": [
        "\n",
        "9 progeny have been made from virus 6d0d0 in host e2a58"
       ]
      },
      {
       "output_type": "stream",
       "stream": "stdout",
       "text": [
        "\n",
        "6 progeny have been made from virus f4324 in host e2a58"
       ]
      },
      {
       "output_type": "stream",
       "stream": "stdout",
       "text": [
        "\n",
        "7 progeny have been made from virus 1f194 in host e2a58"
       ]
      },
      {
       "output_type": "stream",
       "stream": "stdout",
       "text": [
        "\n",
        "9 progeny have been made from virus 8c361 in host e2a58"
       ]
      },
      {
       "output_type": "stream",
       "stream": "stdout",
       "text": [
        "\n",
        "7 progeny have been made from virus 22fd2 in host e2a58"
       ]
      },
      {
       "output_type": "stream",
       "stream": "stdout",
       "text": [
        "\n",
        "9 progeny have been made from virus 12062 in host e2a58"
       ]
      },
      {
       "output_type": "stream",
       "stream": "stdout",
       "text": [
        "\n",
        "10 progeny have been made from virus 7d311 in host e2a58"
       ]
      },
      {
       "output_type": "stream",
       "stream": "stdout",
       "text": [
        "\n",
        "7 progeny have been made from virus 82baa in host e2a58"
       ]
      },
      {
       "output_type": "stream",
       "stream": "stdout",
       "text": [
        "\n",
        "8 progeny have been made from virus 0dcce in host e2a58"
       ]
      },
      {
       "output_type": "stream",
       "stream": "stdout",
       "text": [
        "\n",
        "7 progeny have been made from virus 8f64f in host e2a58"
       ]
      },
      {
       "output_type": "stream",
       "stream": "stdout",
       "text": [
        "\n",
        "10 progeny have been made from virus 789f4 in host e2a58"
       ]
      },
      {
       "output_type": "stream",
       "stream": "stdout",
       "text": [
        "\n",
        "10 progeny have been made from virus dd9f4 in host e2a58"
       ]
      },
      {
       "output_type": "stream",
       "stream": "stdout",
       "text": [
        "\n",
        "9 progeny have been made from virus b36b3 in host e2a58"
       ]
      },
      {
       "output_type": "stream",
       "stream": "stdout",
       "text": [
        "\n",
        "9 progeny have been made from virus 222f6 in host e2a58"
       ]
      },
      {
       "output_type": "stream",
       "stream": "stdout",
       "text": [
        "\n",
        "8 progeny have been made from virus 39c1d in host e2a58"
       ]
      },
      {
       "output_type": "stream",
       "stream": "stdout",
       "text": [
        "\n",
        "10 progeny have been made from virus 3af68 in host e2a58"
       ]
      },
      {
       "output_type": "stream",
       "stream": "stdout",
       "text": [
        "\n",
        "5 progeny have been made from virus a160b in host e2a58"
       ]
      },
      {
       "output_type": "stream",
       "stream": "stdout",
       "text": [
        "\n",
        "9 progeny have been made from virus e9690 in host e2a58"
       ]
      },
      {
       "output_type": "stream",
       "stream": "stdout",
       "text": [
        "\n",
        "10 progeny have been made from virus dbcc4 in host e2a58"
       ]
      },
      {
       "output_type": "stream",
       "stream": "stdout",
       "text": [
        "\n",
        "5 progeny have been made from virus 36482 in host e2a58"
       ]
      },
      {
       "output_type": "stream",
       "stream": "stdout",
       "text": [
        "\n",
        "5 progeny have been made from virus 78d15 in host e2a58"
       ]
      },
      {
       "output_type": "stream",
       "stream": "stdout",
       "text": [
        "\n",
        "10 progeny have been made from virus 80334 in host e2a58"
       ]
      },
      {
       "output_type": "stream",
       "stream": "stdout",
       "text": [
        "\n",
        "5 progeny have been made from virus a9a18 in host e2a58"
       ]
      },
      {
       "output_type": "stream",
       "stream": "stdout",
       "text": [
        "\n",
        "10 progeny have been made from virus 93528 in host e2a58"
       ]
      },
      {
       "output_type": "stream",
       "stream": "stdout",
       "text": [
        "\n",
        "9 progeny have been made from virus d87ed in host e2a58"
       ]
      },
      {
       "output_type": "stream",
       "stream": "stdout",
       "text": [
        "\n",
        "5 progeny have been made from virus 6c05c in host e2a58"
       ]
      },
      {
       "output_type": "stream",
       "stream": "stdout",
       "text": [
        "\n",
        "5 progeny have been made from virus 3eca9 in host e2a58"
       ]
      },
      {
       "output_type": "stream",
       "stream": "stdout",
       "text": [
        "\n",
        "10 progeny have been made from virus 1add5 in host e2a58"
       ]
      },
      {
       "output_type": "stream",
       "stream": "stdout",
       "text": [
        "\n",
        "5 progeny have been made from virus 0c8ed in host e2a58"
       ]
      },
      {
       "output_type": "stream",
       "stream": "stdout",
       "text": [
        "\n",
        "9 progeny have been made from virus b399c in host e2a58"
       ]
      },
      {
       "output_type": "stream",
       "stream": "stdout",
       "text": [
        "\n",
        "7 progeny have been made from virus 211a9 in host e2a58"
       ]
      },
      {
       "output_type": "stream",
       "stream": "stdout",
       "text": [
        "\n",
        "6 progeny have been made from virus 78bf6 in host e2a58"
       ]
      },
      {
       "output_type": "stream",
       "stream": "stdout",
       "text": [
        "\n",
        "8 progeny have been made from virus 1200e in host e2a58"
       ]
      },
      {
       "output_type": "stream",
       "stream": "stdout",
       "text": [
        "\n",
        "10 progeny have been made from virus 6a291 in host e2a58"
       ]
      },
      {
       "output_type": "stream",
       "stream": "stdout",
       "text": [
        "\n",
        "10 progeny have been made from virus 904e9 in host e2a58"
       ]
      },
      {
       "output_type": "stream",
       "stream": "stdout",
       "text": [
        "\n",
        "5 progeny have been made from virus b00f4 in host e2a58"
       ]
      },
      {
       "output_type": "stream",
       "stream": "stdout",
       "text": [
        "\n",
        "9 progeny have been made from virus 483ab in host e2a58"
       ]
      },
      {
       "output_type": "stream",
       "stream": "stdout",
       "text": [
        "\n",
        "8 progeny have been made from virus 1cb14 in host e2a58"
       ]
      },
      {
       "output_type": "stream",
       "stream": "stdout",
       "text": [
        "\n",
        "9 progeny have been made from virus e5753 in host e2a58"
       ]
      },
      {
       "output_type": "stream",
       "stream": "stdout",
       "text": [
        "\n",
        "10 progeny have been made from virus 8f64f in host e2a58"
       ]
      },
      {
       "output_type": "stream",
       "stream": "stdout",
       "text": [
        "\n",
        "5 progeny have been made from virus ca812 in host e2a58"
       ]
      },
      {
       "output_type": "stream",
       "stream": "stdout",
       "text": [
        "\n",
        "6 progeny have been made from virus b59f3 in host e2a58"
       ]
      },
      {
       "output_type": "stream",
       "stream": "stdout",
       "text": [
        "\n",
        "8 progeny have been made from virus 102ee in host e2a58"
       ]
      },
      {
       "output_type": "stream",
       "stream": "stdout",
       "text": [
        "\n",
        "9 progeny have been made from virus 65f95 in host e2a58"
       ]
      },
      {
       "output_type": "stream",
       "stream": "stdout",
       "text": [
        "\n",
        "5 progeny have been made from virus 26562 in host e2a58"
       ]
      },
      {
       "output_type": "stream",
       "stream": "stdout",
       "text": [
        "\n",
        "5 progeny have been made from virus 5c7ad in host e2a58"
       ]
      },
      {
       "output_type": "stream",
       "stream": "stdout",
       "text": [
        "\n",
        "7 progeny have been made from virus 0c07c in host e2a58"
       ]
      },
      {
       "output_type": "stream",
       "stream": "stdout",
       "text": [
        "\n",
        "7 progeny have been made from virus e965a in host e2a58"
       ]
      },
      {
       "output_type": "stream",
       "stream": "stdout",
       "text": [
        "\n",
        "8 progeny have been made from virus 0c2af in host e2a58"
       ]
      },
      {
       "output_type": "stream",
       "stream": "stdout",
       "text": [
        "\n",
        "9 progeny have been made from virus 2024e in host e2a58"
       ]
      },
      {
       "output_type": "stream",
       "stream": "stdout",
       "text": [
        "\n",
        "9 progeny have been made from virus be93f in host e2a58"
       ]
      },
      {
       "output_type": "stream",
       "stream": "stdout",
       "text": [
        "\n",
        "5 progeny have been made from virus 53444 in host e2a58"
       ]
      },
      {
       "output_type": "stream",
       "stream": "stdout",
       "text": [
        "\n",
        "5 progeny have been made from virus 776c2 in host e2a58"
       ]
      },
      {
       "output_type": "stream",
       "stream": "stdout",
       "text": [
        "\n",
        "9 progeny have been made from virus 5a125 in host e2a58"
       ]
      },
      {
       "output_type": "stream",
       "stream": "stdout",
       "text": [
        "\n",
        "10 progeny have been made from virus 9111c in host e2a58"
       ]
      },
      {
       "output_type": "stream",
       "stream": "stdout",
       "text": [
        "\n",
        "8 progeny have been made from virus 222f6 in host e2a58"
       ]
      },
      {
       "output_type": "stream",
       "stream": "stdout",
       "text": [
        "\n",
        "5 progeny have been made from virus 8782d in host e2a58"
       ]
      },
      {
       "output_type": "stream",
       "stream": "stdout",
       "text": [
        "\n",
        "7 progeny have been made from virus 05d7e in host e2a58"
       ]
      },
      {
       "output_type": "stream",
       "stream": "stdout",
       "text": [
        "\n",
        "7 progeny have been made from virus 12976 in host e2a58"
       ]
      },
      {
       "output_type": "stream",
       "stream": "stdout",
       "text": [
        "\n",
        "5 progeny have been made from virus fd4a5 in host e2a58"
       ]
      },
      {
       "output_type": "stream",
       "stream": "stdout",
       "text": [
        "\n",
        "9 progeny have been made from virus f1a85 in host e2a58"
       ]
      },
      {
       "output_type": "stream",
       "stream": "stdout",
       "text": [
        "\n",
        "5 progeny have been made from virus 86828 in host e2a58"
       ]
      },
      {
       "output_type": "stream",
       "stream": "stdout",
       "text": [
        "\n",
        "9 progeny have been made from virus 83251 in host e2a58"
       ]
      },
      {
       "output_type": "stream",
       "stream": "stdout",
       "text": [
        "\n",
        "9 progeny have been made from virus 1217f in host e2a58"
       ]
      },
      {
       "output_type": "stream",
       "stream": "stdout",
       "text": [
        "\n",
        "5 progeny have been made from virus 3b176 in host e2a58"
       ]
      },
      {
       "output_type": "stream",
       "stream": "stdout",
       "text": [
        "\n",
        "7 progeny have been made from virus 29ab7 in host e2a58"
       ]
      },
      {
       "output_type": "stream",
       "stream": "stdout",
       "text": [
        "\n",
        "7 progeny have been made from virus 8ac21 in host e2a58"
       ]
      },
      {
       "output_type": "stream",
       "stream": "stdout",
       "text": [
        "\n",
        "5 progeny have been made from virus 8f06c in host e2a58"
       ]
      },
      {
       "output_type": "stream",
       "stream": "stdout",
       "text": [
        "\n",
        "7 progeny have been made from virus 8b760 in host e2a58"
       ]
      },
      {
       "output_type": "stream",
       "stream": "stdout",
       "text": [
        "\n",
        "6 progeny have been made from virus d8a96 in host e2a58"
       ]
      },
      {
       "output_type": "stream",
       "stream": "stdout",
       "text": [
        "\n",
        "7 progeny have been made from virus 5cc62 in host e2a58"
       ]
      },
      {
       "output_type": "stream",
       "stream": "stdout",
       "text": [
        "\n",
        "10 progeny have been made from virus acb23 in host e2a58"
       ]
      },
      {
       "output_type": "stream",
       "stream": "stdout",
       "text": [
        "\n",
        "9 progeny have been made from virus b1036 in host e2a58"
       ]
      },
      {
       "output_type": "stream",
       "stream": "stdout",
       "text": [
        "\n",
        "8 progeny have been made from virus 11ae8 in host e2a58"
       ]
      },
      {
       "output_type": "stream",
       "stream": "stdout",
       "text": [
        "\n",
        "9 progeny have been made from virus d736b in host e2a58"
       ]
      },
      {
       "output_type": "stream",
       "stream": "stdout",
       "text": [
        "\n",
        "6 progeny have been made from virus bb889 in host e2a58"
       ]
      },
      {
       "output_type": "stream",
       "stream": "stdout",
       "text": [
        "\n",
        "7 progeny have been made from virus 5f5a0 in host e2a58"
       ]
      },
      {
       "output_type": "stream",
       "stream": "stdout",
       "text": [
        "\n",
        "8 progeny have been made from virus 81dcb in host e2a58"
       ]
      },
      {
       "output_type": "stream",
       "stream": "stdout",
       "text": [
        "\n",
        "5 progeny have been made from virus cc2a9 in host e2a58"
       ]
      },
      {
       "output_type": "stream",
       "stream": "stdout",
       "text": [
        "\n",
        "6 progeny have been made from virus f6c20 in host e2a58"
       ]
      },
      {
       "output_type": "stream",
       "stream": "stdout",
       "text": [
        "\n",
        "7 progeny have been made from virus 1f2ed in host e2a58"
       ]
      },
      {
       "output_type": "stream",
       "stream": "stdout",
       "text": [
        "\n",
        "8 progeny have been made from virus b6d15 in host e2a58"
       ]
      },
      {
       "output_type": "stream",
       "stream": "stdout",
       "text": [
        "\n",
        "6 progeny have been made from virus 54d9f in host e2a58"
       ]
      },
      {
       "output_type": "stream",
       "stream": "stdout",
       "text": [
        "\n",
        "7 progeny have been made from virus e0f45 in host e2a58"
       ]
      },
      {
       "output_type": "stream",
       "stream": "stdout",
       "text": [
        "\n",
        "9 progeny have been made from virus 0a61b in host e2a58"
       ]
      },
      {
       "output_type": "stream",
       "stream": "stdout",
       "text": [
        "\n",
        "5 progeny have been made from virus e6e90 in host e2a58"
       ]
      },
      {
       "output_type": "stream",
       "stream": "stdout",
       "text": [
        "\n",
        "8 progeny have been made from virus e4104 in host e2a58"
       ]
      },
      {
       "output_type": "stream",
       "stream": "stdout",
       "text": [
        "\n",
        "8 progeny have been made from virus 12b5a in host e2a58"
       ]
      },
      {
       "output_type": "stream",
       "stream": "stdout",
       "text": [
        "\n",
        "8 progeny have been made from virus f6313 in host e2a58"
       ]
      },
      {
       "output_type": "stream",
       "stream": "stdout",
       "text": [
        "\n",
        "7 progeny have been made from virus 5d209 in host e2a58"
       ]
      },
      {
       "output_type": "stream",
       "stream": "stdout",
       "text": [
        "\n",
        "6 progeny have been made from virus 978a3 in host e2a58"
       ]
      },
      {
       "output_type": "stream",
       "stream": "stdout",
       "text": [
        "\n",
        "9 progeny have been made from virus b96d8 in host e2a58"
       ]
      },
      {
       "output_type": "stream",
       "stream": "stdout",
       "text": [
        "\n",
        "10 progeny have been made from virus ffe7d in host e2a58"
       ]
      },
      {
       "output_type": "stream",
       "stream": "stdout",
       "text": [
        "\n",
        "9 progeny have been made from virus ca9b6 in host e2a58"
       ]
      },
      {
       "output_type": "stream",
       "stream": "stdout",
       "text": [
        "\n",
        "9 progeny have been made from virus e4594 in host e2a58"
       ]
      },
      {
       "output_type": "stream",
       "stream": "stdout",
       "text": [
        "\n",
        "5 progeny have been made from virus 98726 in host e2a58"
       ]
      },
      {
       "output_type": "stream",
       "stream": "stdout",
       "text": [
        "\n",
        "8 progeny have been made from virus 8fdc3 in host e2a58"
       ]
      },
      {
       "output_type": "stream",
       "stream": "stdout",
       "text": [
        "\n",
        "6 progeny have been made from virus b292e in host e2a58"
       ]
      },
      {
       "output_type": "stream",
       "stream": "stdout",
       "text": [
        "\n",
        "9 progeny have been made from virus c5403 in host e2a58"
       ]
      },
      {
       "output_type": "stream",
       "stream": "stdout",
       "text": [
        "\n",
        "6 progeny have been made from virus 1bc48 in host e2a58"
       ]
      },
      {
       "output_type": "stream",
       "stream": "stdout",
       "text": [
        "\n",
        "6 progeny have been made from virus 31e3b in host e2a58"
       ]
      },
      {
       "output_type": "stream",
       "stream": "stdout",
       "text": [
        "\n",
        "8 progeny have been made from virus ab2b2 in host e2a58"
       ]
      },
      {
       "output_type": "stream",
       "stream": "stdout",
       "text": [
        "\n",
        "5 progeny have been made from virus f209e in host e2a58"
       ]
      },
      {
       "output_type": "stream",
       "stream": "stdout",
       "text": [
        "\n",
        "5 progeny have been made from virus 0fd05 in host e2a58"
       ]
      },
      {
       "output_type": "stream",
       "stream": "stdout",
       "text": [
        "\n",
        "9 progeny have been made from virus 0fd05 in host e2a58"
       ]
      },
      {
       "output_type": "stream",
       "stream": "stdout",
       "text": [
        "\n",
        "10 progeny have been made from virus 4e768 in host e2a58"
       ]
      },
      {
       "output_type": "stream",
       "stream": "stdout",
       "text": [
        "\n",
        "7 progeny have been made from virus 90b35 in host e2a58"
       ]
      },
      {
       "output_type": "stream",
       "stream": "stdout",
       "text": [
        "\n",
        "5 progeny have been made from virus de7d2 in host e2a58"
       ]
      },
      {
       "output_type": "stream",
       "stream": "stdout",
       "text": [
        "\n",
        "9 progeny have been made from virus 032ac in host e2a58"
       ]
      },
      {
       "output_type": "stream",
       "stream": "stdout",
       "text": [
        "\n",
        "5 progeny have been made from virus 24206 in host e2a58"
       ]
      },
      {
       "output_type": "stream",
       "stream": "stdout",
       "text": [
        "\n",
        "7 progeny have been made from virus 2ca89 in host e2a58"
       ]
      },
      {
       "output_type": "stream",
       "stream": "stdout",
       "text": [
        "\n",
        "6 progeny have been made from virus 82baa in host e2a58"
       ]
      },
      {
       "output_type": "stream",
       "stream": "stdout",
       "text": [
        "\n",
        "8 progeny have been made from virus 42bb3 in host e2a58"
       ]
      },
      {
       "output_type": "stream",
       "stream": "stdout",
       "text": [
        "\n",
        "6 progeny have been made from virus dff1c in host e2a58"
       ]
      },
      {
       "output_type": "stream",
       "stream": "stdout",
       "text": [
        "\n",
        "9 progeny have been made from virus 26562 in host e2a58"
       ]
      },
      {
       "output_type": "stream",
       "stream": "stdout",
       "text": [
        "\n",
        "7 progeny have been made from virus d69d8 in host e2a58"
       ]
      },
      {
       "output_type": "stream",
       "stream": "stdout",
       "text": [
        "\n",
        "7 progeny have been made from virus 534bc in host e2a58"
       ]
      },
      {
       "output_type": "stream",
       "stream": "stdout",
       "text": [
        "\n",
        "8 progeny have been made from virus 698a1 in host e2a58"
       ]
      },
      {
       "output_type": "stream",
       "stream": "stdout",
       "text": [
        "\n",
        "9 progeny have been made from virus 12062 in host e2a58"
       ]
      },
      {
       "output_type": "stream",
       "stream": "stdout",
       "text": [
        "\n",
        "5 progeny have been made from virus 7b69e in host e2a58"
       ]
      },
      {
       "output_type": "stream",
       "stream": "stdout",
       "text": [
        "\n",
        "5 progeny have been made from virus ab95e in host e2a58"
       ]
      },
      {
       "output_type": "stream",
       "stream": "stdout",
       "text": [
        "\n",
        "9 progeny have been made from virus 15333 in host e2a58"
       ]
      },
      {
       "output_type": "stream",
       "stream": "stdout",
       "text": [
        "\n",
        "9 progeny have been made from virus cbf26 in host e2a58"
       ]
      },
      {
       "output_type": "stream",
       "stream": "stdout",
       "text": [
        "\n",
        "8 progeny have been made from virus ad268 in host e2a58"
       ]
      },
      {
       "output_type": "stream",
       "stream": "stdout",
       "text": [
        "\n",
        "6 progeny have been made from virus 32b4a in host e2a58"
       ]
      },
      {
       "output_type": "stream",
       "stream": "stdout",
       "text": [
        "\n",
        "6 progeny have been made from virus 8cc98 in host e2a58"
       ]
      },
      {
       "output_type": "stream",
       "stream": "stdout",
       "text": [
        "\n",
        "6 progeny have been made from virus f2010 in host e2a58"
       ]
      },
      {
       "output_type": "stream",
       "stream": "stdout",
       "text": [
        "\n",
        "6 progeny have been made from virus d4b47 in host e2a58"
       ]
      },
      {
       "output_type": "stream",
       "stream": "stdout",
       "text": [
        "\n",
        "5 progeny have been made from virus 9eeb6 in host e2a58"
       ]
      },
      {
       "output_type": "stream",
       "stream": "stdout",
       "text": [
        "\n",
        "8 progeny have been made from virus 007c3 in host e2a58"
       ]
      },
      {
       "output_type": "stream",
       "stream": "stdout",
       "text": [
        "\n",
        "9 progeny have been made from virus f887a in host e2a58"
       ]
      },
      {
       "output_type": "stream",
       "stream": "stdout",
       "text": [
        "\n",
        "7 progeny have been made from virus 4dea9 in host e2a58"
       ]
      },
      {
       "output_type": "stream",
       "stream": "stdout",
       "text": [
        "\n",
        "9 progeny have been made from virus 35cf1 in host e2a58"
       ]
      },
      {
       "output_type": "stream",
       "stream": "stdout",
       "text": [
        "\n",
        "10 progeny have been made from virus 03fd5 in host e2a58"
       ]
      },
      {
       "output_type": "stream",
       "stream": "stdout",
       "text": [
        "\n",
        "6 progeny have been made from virus f6313 in host e2a58"
       ]
      },
      {
       "output_type": "stream",
       "stream": "stdout",
       "text": [
        "\n",
        "7 progeny have been made from virus 8f2be in host e2a58"
       ]
      },
      {
       "output_type": "stream",
       "stream": "stdout",
       "text": [
        "\n",
        "10 progeny have been made from virus 8f64f in host e2a58"
       ]
      },
      {
       "output_type": "stream",
       "stream": "stdout",
       "text": [
        "\n",
        "6 progeny have been made from virus dd5bc in host e2a58"
       ]
      },
      {
       "output_type": "stream",
       "stream": "stdout",
       "text": [
        "\n",
        "5 progeny have been made from virus 97adf in host e2a58"
       ]
      },
      {
       "output_type": "stream",
       "stream": "stdout",
       "text": [
        "\n",
        "9 progeny have been made from virus c36dc in host e2a58"
       ]
      },
      {
       "output_type": "stream",
       "stream": "stdout",
       "text": [
        "\n",
        "5 progeny have been made from virus ca9b6 in host e2a58"
       ]
      },
      {
       "output_type": "stream",
       "stream": "stdout",
       "text": [
        "\n",
        "9 progeny have been made from virus a5004 in host e2a58"
       ]
      },
      {
       "output_type": "stream",
       "stream": "stdout",
       "text": [
        "\n",
        "10 progeny have been made from virus b63fc in host e2a58"
       ]
      },
      {
       "output_type": "stream",
       "stream": "stdout",
       "text": [
        "\n",
        "8 progeny have been made from virus ae29d in host e2a58"
       ]
      },
      {
       "output_type": "stream",
       "stream": "stdout",
       "text": [
        "\n",
        "5 progeny have been made from virus 4cc7f in host e2a58"
       ]
      },
      {
       "output_type": "stream",
       "stream": "stdout",
       "text": [
        "\n",
        "6 progeny have been made from virus b2101 in host e2a58"
       ]
      },
      {
       "output_type": "stream",
       "stream": "stdout",
       "text": [
        "\n",
        "8 progeny have been made from virus 8d2b4 in host e2a58"
       ]
      },
      {
       "output_type": "stream",
       "stream": "stdout",
       "text": [
        "\n",
        "5 progeny have been made from virus e281d in host e2a58"
       ]
      },
      {
       "output_type": "stream",
       "stream": "stdout",
       "text": [
        "\n",
        "5 progeny have been made from virus c2b63 in host e2a58"
       ]
      },
      {
       "output_type": "stream",
       "stream": "stdout",
       "text": [
        "\n",
        "8 progeny have been made from virus e0857 in host e2a58"
       ]
      },
      {
       "output_type": "stream",
       "stream": "stdout",
       "text": [
        "\n",
        "5 progeny have been made from virus f79b5 in host e2a58"
       ]
      },
      {
       "output_type": "stream",
       "stream": "stdout",
       "text": [
        "\n",
        "5 progeny have been made from virus ef77f in host e2a58"
       ]
      },
      {
       "output_type": "stream",
       "stream": "stdout",
       "text": [
        "\n",
        "10 progeny have been made from virus e7aab in host e2a58"
       ]
      },
      {
       "output_type": "stream",
       "stream": "stdout",
       "text": [
        "\n",
        "7 progeny have been made from virus 31176 in host e2a58"
       ]
      },
      {
       "output_type": "stream",
       "stream": "stdout",
       "text": [
        "\n",
        "7 progeny have been made from virus 38753 in host e2a58"
       ]
      },
      {
       "output_type": "stream",
       "stream": "stdout",
       "text": [
        "\n",
        "8 progeny have been made from virus 76f19 in host e2a58"
       ]
      },
      {
       "output_type": "stream",
       "stream": "stdout",
       "text": [
        "\n",
        "5 progeny have been made from virus ecad8 in host e2a58"
       ]
      },
      {
       "output_type": "stream",
       "stream": "stdout",
       "text": [
        "\n",
        "8 progeny have been made from virus 51899 in host e2a58"
       ]
      },
      {
       "output_type": "stream",
       "stream": "stdout",
       "text": [
        "\n",
        "8 progeny have been made from virus 102ee in host e2a58"
       ]
      },
      {
       "output_type": "stream",
       "stream": "stdout",
       "text": [
        "\n",
        "8 progeny have been made from virus e1567 in host e2a58"
       ]
      },
      {
       "output_type": "stream",
       "stream": "stdout",
       "text": [
        "\n",
        "9 progeny have been made from virus 7d9f2 in host e2a58"
       ]
      },
      {
       "output_type": "stream",
       "stream": "stdout",
       "text": [
        "\n",
        "5 progeny have been made from virus bf76c in host e2a58"
       ]
      },
      {
       "output_type": "stream",
       "stream": "stdout",
       "text": [
        "\n",
        "6 progeny have been made from virus fead6 in host e2a58"
       ]
      },
      {
       "output_type": "stream",
       "stream": "stdout",
       "text": [
        "\n",
        "7 progeny have been made from virus 011aa in host e2a58"
       ]
      },
      {
       "output_type": "stream",
       "stream": "stdout",
       "text": [
        "\n",
        "5 progeny have been made from virus 3f92a in host e2a58"
       ]
      },
      {
       "output_type": "stream",
       "stream": "stdout",
       "text": [
        "\n",
        "10 progeny have been made from virus f35da in host e2a58"
       ]
      },
      {
       "output_type": "stream",
       "stream": "stdout",
       "text": [
        "\n",
        "7 progeny have been made from virus 8e595 in host e2a58"
       ]
      },
      {
       "output_type": "stream",
       "stream": "stdout",
       "text": [
        "\n",
        "7 progeny have been made from virus 41f66 in host e2a58"
       ]
      },
      {
       "output_type": "stream",
       "stream": "stdout",
       "text": [
        "\n",
        "10 progeny have been made from virus a6bda in host e2a58"
       ]
      },
      {
       "output_type": "stream",
       "stream": "stdout",
       "text": [
        "\n",
        "7 progeny have been made from virus fc085 in host e2a58"
       ]
      },
      {
       "output_type": "stream",
       "stream": "stdout",
       "text": [
        "\n",
        "7 progeny have been made from virus 1f780 in host e2a58"
       ]
      },
      {
       "output_type": "stream",
       "stream": "stdout",
       "text": [
        "\n",
        "1415 progeny generated in host e2a58.\n",
        "Current time is 11. Incrementing time to 12"
       ]
      },
      {
       "output_type": "stream",
       "stream": "stdout",
       "text": [
        "\n",
        "Generating 286 progeny in host e2a58...\n",
        "6 progeny have been made from virus a2733 in host e2a58"
       ]
      },
      {
       "output_type": "stream",
       "stream": "stdout",
       "text": [
        "\n",
        "9 progeny have been made from virus 735f7 in host e2a58"
       ]
      },
      {
       "output_type": "stream",
       "stream": "stdout",
       "text": [
        "\n",
        "9 progeny have been made from virus 6ebf5 in host e2a58"
       ]
      },
      {
       "output_type": "stream",
       "stream": "stdout",
       "text": [
        "\n",
        "10 progeny have been made from virus 7fce4 in host e2a58"
       ]
      },
      {
       "output_type": "stream",
       "stream": "stdout",
       "text": [
        "\n",
        "10 progeny have been made from virus f4649 in host e2a58"
       ]
      },
      {
       "output_type": "stream",
       "stream": "stdout",
       "text": [
        "\n",
        "9 progeny have been made from virus b75d7 in host e2a58"
       ]
      },
      {
       "output_type": "stream",
       "stream": "stdout",
       "text": [
        "\n",
        "7 progeny have been made from virus 38a5a in host e2a58"
       ]
      },
      {
       "output_type": "stream",
       "stream": "stdout",
       "text": [
        "\n",
        "10 progeny have been made from virus c397b in host e2a58"
       ]
      },
      {
       "output_type": "stream",
       "stream": "stdout",
       "text": [
        "\n",
        "10 progeny have been made from virus b7d6f in host e2a58"
       ]
      },
      {
       "output_type": "stream",
       "stream": "stdout",
       "text": [
        "\n",
        "6 progeny have been made from virus d3a03 in host e2a58"
       ]
      },
      {
       "output_type": "stream",
       "stream": "stdout",
       "text": [
        "\n",
        "6 progeny have been made from virus b625f in host e2a58"
       ]
      },
      {
       "output_type": "stream",
       "stream": "stdout",
       "text": [
        "\n",
        "7 progeny have been made from virus ee5f4 in host e2a58"
       ]
      },
      {
       "output_type": "stream",
       "stream": "stdout",
       "text": [
        "\n",
        "6 progeny have been made from virus c7c67 in host e2a58"
       ]
      },
      {
       "output_type": "stream",
       "stream": "stdout",
       "text": [
        "\n",
        "8 progeny have been made from virus a5004 in host e2a58"
       ]
      },
      {
       "output_type": "stream",
       "stream": "stdout",
       "text": [
        "\n",
        "9 progeny have been made from virus 656fe in host e2a58"
       ]
      },
      {
       "output_type": "stream",
       "stream": "stdout",
       "text": [
        "\n",
        "8 progeny have been made from virus 46253 in host e2a58"
       ]
      },
      {
       "output_type": "stream",
       "stream": "stdout",
       "text": [
        "\n",
        "8 progeny have been made from virus f4946 in host e2a58"
       ]
      },
      {
       "output_type": "stream",
       "stream": "stdout",
       "text": [
        "\n",
        "8 progeny have been made from virus 8ae8d in host e2a58"
       ]
      },
      {
       "output_type": "stream",
       "stream": "stdout",
       "text": [
        "\n",
        "10 progeny have been made from virus 3691a in host e2a58"
       ]
      },
      {
       "output_type": "stream",
       "stream": "stdout",
       "text": [
        "\n",
        "10 progeny have been made from virus 1805f in host e2a58"
       ]
      },
      {
       "output_type": "stream",
       "stream": "stdout",
       "text": [
        "\n",
        "6 progeny have been made from virus bfb9c in host e2a58"
       ]
      },
      {
       "output_type": "stream",
       "stream": "stdout",
       "text": [
        "\n",
        "10 progeny have been made from virus 87eae in host e2a58"
       ]
      },
      {
       "output_type": "stream",
       "stream": "stdout",
       "text": [
        "\n",
        "10 progeny have been made from virus 6938a in host e2a58"
       ]
      },
      {
       "output_type": "stream",
       "stream": "stdout",
       "text": [
        "\n",
        "10 progeny have been made from virus bfcd5 in host e2a58"
       ]
      },
      {
       "output_type": "stream",
       "stream": "stdout",
       "text": [
        "\n",
        "5 progeny have been made from virus 36347 in host e2a58"
       ]
      },
      {
       "output_type": "stream",
       "stream": "stdout",
       "text": [
        "\n",
        "7 progeny have been made from virus 13e06 in host e2a58"
       ]
      },
      {
       "output_type": "stream",
       "stream": "stdout",
       "text": [
        "\n",
        "6 progeny have been made from virus 8ea88 in host e2a58"
       ]
      },
      {
       "output_type": "stream",
       "stream": "stdout",
       "text": [
        "\n",
        "9 progeny have been made from virus c23a4 in host e2a58"
       ]
      },
      {
       "output_type": "stream",
       "stream": "stdout",
       "text": [
        "\n",
        "7 progeny have been made from virus ded57 in host e2a58"
       ]
      },
      {
       "output_type": "stream",
       "stream": "stdout",
       "text": [
        "\n",
        "6 progeny have been made from virus 1f9e0 in host e2a58"
       ]
      },
      {
       "output_type": "stream",
       "stream": "stdout",
       "text": [
        "\n",
        "9 progeny have been made from virus 9d66e in host e2a58"
       ]
      },
      {
       "output_type": "stream",
       "stream": "stdout",
       "text": [
        "\n",
        "5 progeny have been made from virus 8ea88 in host e2a58"
       ]
      },
      {
       "output_type": "stream",
       "stream": "stdout",
       "text": [
        "\n",
        "9 progeny have been made from virus 396ac in host e2a58"
       ]
      },
      {
       "output_type": "stream",
       "stream": "stdout",
       "text": [
        "\n",
        "10 progeny have been made from virus c1752 in host e2a58"
       ]
      },
      {
       "output_type": "stream",
       "stream": "stdout",
       "text": [
        "\n",
        "10 progeny have been made from virus 48c27 in host e2a58"
       ]
      },
      {
       "output_type": "stream",
       "stream": "stdout",
       "text": [
        "\n",
        "10 progeny have been made from virus 8c2e1 in host e2a58"
       ]
      },
      {
       "output_type": "stream",
       "stream": "stdout",
       "text": [
        "\n",
        "295 progeny generated in host e2a58.\n",
        "Current time is 12. Incrementing time to 13\n",
        "Generating 488 progeny in host e2a58..."
       ]
      },
      {
       "output_type": "stream",
       "stream": "stdout",
       "text": [
        "\n",
        "5 progeny have been made from virus ef1f4 in host e2a58"
       ]
      },
      {
       "output_type": "stream",
       "stream": "stdout",
       "text": [
        "\n",
        "10 progeny have been made from virus f35d8 in host e2a58"
       ]
      },
      {
       "output_type": "stream",
       "stream": "stdout",
       "text": [
        "\n",
        "6 progeny have been made from virus 295da in host e2a58"
       ]
      },
      {
       "output_type": "stream",
       "stream": "stdout",
       "text": [
        "\n",
        "7 progeny have been made from virus 639f8 in host e2a58"
       ]
      },
      {
       "output_type": "stream",
       "stream": "stdout",
       "text": [
        "\n",
        "10 progeny have been made from virus 94ac2 in host e2a58"
       ]
      },
      {
       "output_type": "stream",
       "stream": "stdout",
       "text": [
        "\n",
        "7 progeny have been made from virus 4d588 in host e2a58"
       ]
      },
      {
       "output_type": "stream",
       "stream": "stdout",
       "text": [
        "\n",
        "7 progeny have been made from virus 6e9e8 in host e2a58"
       ]
      },
      {
       "output_type": "stream",
       "stream": "stdout",
       "text": [
        "\n",
        "5 progeny have been made from virus b86a2 in host e2a58"
       ]
      },
      {
       "output_type": "stream",
       "stream": "stdout",
       "text": [
        "\n",
        "9 progeny have been made from virus 98218 in host e2a58"
       ]
      },
      {
       "output_type": "stream",
       "stream": "stdout",
       "text": [
        "\n",
        "10 progeny have been made from virus 6e353 in host e2a58"
       ]
      },
      {
       "output_type": "stream",
       "stream": "stdout",
       "text": [
        "\n",
        "7 progeny have been made from virus cf680 in host e2a58"
       ]
      },
      {
       "output_type": "stream",
       "stream": "stdout",
       "text": [
        "\n",
        "6 progeny have been made from virus 7a3fa in host e2a58"
       ]
      },
      {
       "output_type": "stream",
       "stream": "stdout",
       "text": [
        "\n",
        "10 progeny have been made from virus dfeaa in host e2a58"
       ]
      },
      {
       "output_type": "stream",
       "stream": "stdout",
       "text": [
        "\n",
        "6 progeny have been made from virus 0b176 in host e2a58"
       ]
      },
      {
       "output_type": "stream",
       "stream": "stdout",
       "text": [
        "\n",
        "7 progeny have been made from virus a36bc in host e2a58"
       ]
      },
      {
       "output_type": "stream",
       "stream": "stdout",
       "text": [
        "\n",
        "5 progeny have been made from virus 588ea in host e2a58"
       ]
      },
      {
       "output_type": "stream",
       "stream": "stdout",
       "text": [
        "\n",
        "6 progeny have been made from virus cc922 in host e2a58"
       ]
      },
      {
       "output_type": "stream",
       "stream": "stdout",
       "text": [
        "\n",
        "9 progeny have been made from virus 796e9 in host e2a58"
       ]
      },
      {
       "output_type": "stream",
       "stream": "stdout",
       "text": [
        "\n",
        "8 progeny have been made from virus 2270b in host e2a58"
       ]
      },
      {
       "output_type": "stream",
       "stream": "stdout",
       "text": [
        "\n",
        "7 progeny have been made from virus 09b4d in host e2a58"
       ]
      },
      {
       "output_type": "stream",
       "stream": "stdout",
       "text": [
        "\n",
        "7 progeny have been made from virus 9bf1b in host e2a58"
       ]
      },
      {
       "output_type": "stream",
       "stream": "stdout",
       "text": [
        "\n",
        "8 progeny have been made from virus 7087c in host e2a58"
       ]
      },
      {
       "output_type": "stream",
       "stream": "stdout",
       "text": [
        "\n",
        "6 progeny have been made from virus 15cf7 in host e2a58"
       ]
      },
      {
       "output_type": "stream",
       "stream": "stdout",
       "text": [
        "\n",
        "6 progeny have been made from virus 131d1 in host e2a58"
       ]
      },
      {
       "output_type": "stream",
       "stream": "stdout",
       "text": [
        "\n",
        "7 progeny have been made from virus 5970f in host e2a58"
       ]
      },
      {
       "output_type": "stream",
       "stream": "stdout",
       "text": [
        "\n",
        "7 progeny have been made from virus 252a5 in host e2a58"
       ]
      },
      {
       "output_type": "stream",
       "stream": "stdout",
       "text": [
        "\n",
        "8 progeny have been made from virus 61982 in host e2a58"
       ]
      },
      {
       "output_type": "stream",
       "stream": "stdout",
       "text": [
        "\n",
        "8 progeny have been made from virus abfe0 in host e2a58"
       ]
      },
      {
       "output_type": "stream",
       "stream": "stdout",
       "text": [
        "\n",
        "7 progeny have been made from virus 4b3ff in host e2a58"
       ]
      },
      {
       "output_type": "stream",
       "stream": "stdout",
       "text": [
        "\n",
        "7 progeny have been made from virus c72b1 in host e2a58"
       ]
      },
      {
       "output_type": "stream",
       "stream": "stdout",
       "text": [
        "\n",
        "10 progeny have been made from virus 9d10d in host e2a58"
       ]
      },
      {
       "output_type": "stream",
       "stream": "stdout",
       "text": [
        "\n",
        "6 progeny have been made from virus 2ad5c in host e2a58"
       ]
      },
      {
       "output_type": "stream",
       "stream": "stdout",
       "text": [
        "\n",
        "6 progeny have been made from virus 035fe in host e2a58"
       ]
      },
      {
       "output_type": "stream",
       "stream": "stdout",
       "text": [
        "\n",
        "6 progeny have been made from virus 98218 in host e2a58"
       ]
      },
      {
       "output_type": "stream",
       "stream": "stdout",
       "text": [
        "\n",
        "10 progeny have been made from virus 7fd33 in host e2a58"
       ]
      },
      {
       "output_type": "stream",
       "stream": "stdout",
       "text": [
        "\n",
        "8 progeny have been made from virus 4e26b in host e2a58"
       ]
      },
      {
       "output_type": "stream",
       "stream": "stdout",
       "text": [
        "\n",
        "6 progeny have been made from virus 0e1ad in host e2a58"
       ]
      },
      {
       "output_type": "stream",
       "stream": "stdout",
       "text": [
        "\n",
        "10 progeny have been made from virus 59343 in host e2a58"
       ]
      },
      {
       "output_type": "stream",
       "stream": "stdout",
       "text": [
        "\n",
        "6 progeny have been made from virus def8f in host e2a58"
       ]
      },
      {
       "output_type": "stream",
       "stream": "stdout",
       "text": [
        "\n",
        "5 progeny have been made from virus 21b14 in host e2a58"
       ]
      },
      {
       "output_type": "stream",
       "stream": "stdout",
       "text": [
        "\n",
        "9 progeny have been made from virus 875f7 in host e2a58"
       ]
      },
      {
       "output_type": "stream",
       "stream": "stdout",
       "text": [
        "\n",
        "6 progeny have been made from virus a36bc in host e2a58"
       ]
      },
      {
       "output_type": "stream",
       "stream": "stdout",
       "text": [
        "\n",
        "6 progeny have been made from virus a9fdb in host e2a58"
       ]
      },
      {
       "output_type": "stream",
       "stream": "stdout",
       "text": [
        "\n",
        "9 progeny have been made from virus 015b9 in host e2a58"
       ]
      },
      {
       "output_type": "stream",
       "stream": "stdout",
       "text": [
        "\n",
        "7 progeny have been made from virus c3776 in host e2a58"
       ]
      },
      {
       "output_type": "stream",
       "stream": "stdout",
       "text": [
        "\n"
       ]
      },
      {
       "ename": "KeyboardInterrupt",
       "evalue": "",
       "output_type": "pyerr",
       "traceback": [
        "\u001b[0;31m---------------------------------------------------------------------------\u001b[0m\n\u001b[0;31mKeyboardInterrupt\u001b[0m                         Traceback (most recent call last)",
        "\u001b[0;32m<ipython-input-2-83f25e3f7ed9>\u001b[0m in \u001b[0;36m<module>\u001b[0;34m()\u001b[0m\n\u001b[1;32m      9\u001b[0m \u001b[0;34m\u001b[0m\u001b[0m\n\u001b[1;32m     10\u001b[0m     \u001b[0;32mfor\u001b[0m \u001b[0mi\u001b[0m \u001b[0;32min\u001b[0m \u001b[0mrange\u001b[0m\u001b[0;34m(\u001b[0m\u001b[0;36m30\u001b[0m\u001b[0;34m)\u001b[0m\u001b[0;34m:\u001b[0m\u001b[0;34m\u001b[0m\u001b[0m\n\u001b[0;32m---> 11\u001b[0;31m         \u001b[0mc\u001b[0m\u001b[0;34m.\u001b[0m\u001b[0mincrement_timestep\u001b[0m\u001b[0;34m(\u001b[0m\u001b[0;34m)\u001b[0m\u001b[0;34m\u001b[0m\u001b[0m\n\u001b[0m\u001b[1;32m     12\u001b[0m \u001b[0;34m\u001b[0m\u001b[0m\n\u001b[1;32m     13\u001b[0m         \u001b[0mvirus_counts\u001b[0m\u001b[0;34m.\u001b[0m\u001b[0mappend\u001b[0m\u001b[0;34m(\u001b[0m\u001b[0mc\u001b[0m\u001b[0;34m.\u001b[0m\u001b[0mget_host_virus_population\u001b[0m\u001b[0;34m(\u001b[0m\u001b[0mc\u001b[0m\u001b[0;34m.\u001b[0m\u001b[0menvironments\u001b[0m\u001b[0;34m[\u001b[0m\u001b[0;36m0\u001b[0m\u001b[0;34m]\u001b[0m\u001b[0;34m)\u001b[0m\u001b[0;34m)\u001b[0m\u001b[0;34m\u001b[0m\u001b[0m\n",
        "\u001b[0;32m/Users/ericmjl/ericmjl BTSync/Research Projects/Runstadler Lab/Computational Analysis/Influenza-Network-Transmission-Model/controller.pyc\u001b[0m in \u001b[0;36mincrement_timestep\u001b[0;34m(self, num_generations)\u001b[0m\n\u001b[1;32m     65\u001b[0m \u001b[0;34m\u001b[0m\u001b[0m\n\u001b[1;32m     66\u001b[0m                         \u001b[0;32mfor\u001b[0m \u001b[0mhost\u001b[0m \u001b[0;32min\u001b[0m \u001b[0menvironment\u001b[0m\u001b[0;34m.\u001b[0m\u001b[0minfected_hosts\u001b[0m\u001b[0;34m(\u001b[0m\u001b[0;34m)\u001b[0m\u001b[0;34m:\u001b[0m\u001b[0;34m\u001b[0m\u001b[0m\n\u001b[0;32m---> 67\u001b[0;31m                                 \u001b[0mhost\u001b[0m\u001b[0;34m.\u001b[0m\u001b[0mallow_one_cycle_of_replication\u001b[0m\u001b[0;34m(\u001b[0m\u001b[0;34m)\u001b[0m\u001b[0;34m\u001b[0m\u001b[0m\n\u001b[0m\u001b[1;32m     68\u001b[0m \u001b[0;34m\u001b[0m\u001b[0m\n\u001b[1;32m     69\u001b[0m                 \u001b[0;32mreturn\u001b[0m \u001b[0mself\u001b[0m\u001b[0;34m\u001b[0m\u001b[0m\n",
        "\u001b[0;32m/Users/ericmjl/ericmjl BTSync/Research Projects/Runstadler Lab/Computational Analysis/Influenza-Network-Transmission-Model/host.pyc\u001b[0m in \u001b[0;36mallow_one_cycle_of_replication\u001b[0;34m(self)\u001b[0m\n\u001b[1;32m    158\u001b[0m \t\t\t\t(n_leftover, self.id[0:5]))\n\u001b[1;32m    159\u001b[0m                         \u001b[0;31m# t1 = time()\u001b[0m\u001b[0;34m\u001b[0m\u001b[0;34m\u001b[0m\u001b[0m\n\u001b[0;32m--> 160\u001b[0;31m                         \u001b[0mprogeny\u001b[0m \u001b[0;34m=\u001b[0m \u001b[0mself\u001b[0m\u001b[0;34m.\u001b[0m\u001b[0mgenerate_viral_progeny\u001b[0m\u001b[0;34m(\u001b[0m\u001b[0mnum_viruses\u001b[0m\u001b[0;34m=\u001b[0m\u001b[0mn_leftover\u001b[0m\u001b[0;34m)\u001b[0m\u001b[0;34m\u001b[0m\u001b[0m\n\u001b[0m\u001b[1;32m    161\u001b[0m                         \u001b[0;31m# t2 = time()\u001b[0m\u001b[0;34m\u001b[0m\u001b[0;34m\u001b[0m\u001b[0m\n\u001b[1;32m    162\u001b[0m \u001b[0;34m\u001b[0m\u001b[0m\n",
        "\u001b[0;32m/Users/ericmjl/ericmjl BTSync/Research Projects/Runstadler Lab/Computational Analysis/Influenza-Network-Transmission-Model/host.pyc\u001b[0m in \u001b[0;36mgenerate_viral_progeny\u001b[0;34m(self, num_viruses)\u001b[0m\n\u001b[1;32m    131\u001b[0m                 \u001b[0;32mwhile\u001b[0m \u001b[0mlen\u001b[0m\u001b[0;34m(\u001b[0m\u001b[0mprogeny\u001b[0m\u001b[0;34m)\u001b[0m \u001b[0;34m<\u001b[0m \u001b[0mnum_viruses\u001b[0m\u001b[0;34m:\u001b[0m\u001b[0;34m\u001b[0m\u001b[0m\n\u001b[1;32m    132\u001b[0m                         \u001b[0mparent\u001b[0m \u001b[0;34m=\u001b[0m \u001b[0mchoice\u001b[0m\u001b[0;34m(\u001b[0m\u001b[0mself\u001b[0m\u001b[0;34m.\u001b[0m\u001b[0mviruses\u001b[0m\u001b[0;34m)\u001b[0m\u001b[0;34m\u001b[0m\u001b[0m\n\u001b[0;32m--> 133\u001b[0;31m                         \u001b[0mprogeny\u001b[0m\u001b[0;34m.\u001b[0m\u001b[0mextend\u001b[0m\u001b[0;34m(\u001b[0m\u001b[0mparent\u001b[0m\u001b[0;34m.\u001b[0m\u001b[0mgenerate_progeny\u001b[0m\u001b[0;34m(\u001b[0m\u001b[0;34m)\u001b[0m\u001b[0;34m)\u001b[0m\u001b[0;34m\u001b[0m\u001b[0m\n\u001b[0m\u001b[1;32m    134\u001b[0m \u001b[0;34m\u001b[0m\u001b[0m\n\u001b[1;32m    135\u001b[0m                 \u001b[0;31m# progeny = []\u001b[0m\u001b[0;34m\u001b[0m\u001b[0;34m\u001b[0m\u001b[0m\n",
        "\u001b[0;32m/Users/ericmjl/ericmjl BTSync/Research Projects/Runstadler Lab/Computational Analysis/Influenza-Network-Transmission-Model/virus.pyc\u001b[0m in \u001b[0;36mgenerate_progeny\u001b[0;34m(self)\u001b[0m\n\u001b[1;32m    150\u001b[0m                 \u001b[0mprogeny\u001b[0m \u001b[0;34m=\u001b[0m \u001b[0;34m[\u001b[0m\u001b[0;34m]\u001b[0m\u001b[0;34m\u001b[0m\u001b[0m\n\u001b[1;32m    151\u001b[0m                 \u001b[0;32mfor\u001b[0m \u001b[0mi\u001b[0m \u001b[0;32min\u001b[0m \u001b[0mrange\u001b[0m\u001b[0;34m(\u001b[0m\u001b[0mburst_size\u001b[0m\u001b[0;34m)\u001b[0m\u001b[0;34m:\u001b[0m\u001b[0;34m\u001b[0m\u001b[0m\n\u001b[0;32m--> 152\u001b[0;31m                         \u001b[0mprogeny\u001b[0m\u001b[0;34m.\u001b[0m\u001b[0mappend\u001b[0m\u001b[0;34m(\u001b[0m\u001b[0mself\u001b[0m\u001b[0;34m.\u001b[0m\u001b[0mreplicate\u001b[0m\u001b[0;34m(\u001b[0m\u001b[0;34m)\u001b[0m\u001b[0;34m)\u001b[0m\u001b[0;34m\u001b[0m\u001b[0m\n\u001b[0m\u001b[1;32m    153\u001b[0m \u001b[0;34m\u001b[0m\u001b[0m\n\u001b[1;32m    154\u001b[0m \t\tprint('%s progeny have been made from virus %s in host %s' % \\\n",
        "\u001b[0;32m/Users/ericmjl/ericmjl BTSync/Research Projects/Runstadler Lab/Computational Analysis/Influenza-Network-Transmission-Model/virus.pyc\u001b[0m in \u001b[0;36mreplicate\u001b[0;34m(self)\u001b[0m\n\u001b[1;32m    174\u001b[0m                 \u001b[0mnew_virus\u001b[0m\u001b[0;34m.\u001b[0m\u001b[0mparent\u001b[0m \u001b[0;34m=\u001b[0m \u001b[0mself\u001b[0m\u001b[0;34m.\u001b[0m\u001b[0mid\u001b[0m\u001b[0;34m\u001b[0m\u001b[0m\n\u001b[1;32m    175\u001b[0m                 \u001b[0mnew_virus\u001b[0m\u001b[0;34m.\u001b[0m\u001b[0mid\u001b[0m \u001b[0;34m=\u001b[0m \u001b[0mgenerate_id\u001b[0m\u001b[0;34m(\u001b[0m\u001b[0;34m)\u001b[0m\u001b[0;34m\u001b[0m\u001b[0m\n\u001b[0;32m--> 176\u001b[0;31m                 \u001b[0mnew_virus\u001b[0m\u001b[0;34m.\u001b[0m\u001b[0mmutate\u001b[0m\u001b[0;34m(\u001b[0m\u001b[0;34m)\u001b[0m\u001b[0;34m\u001b[0m\u001b[0m\n\u001b[0m\u001b[1;32m    177\u001b[0m \u001b[0;34m\u001b[0m\u001b[0m\n\u001b[1;32m    178\u001b[0m                 \u001b[0;32mreturn\u001b[0m \u001b[0mnew_virus\u001b[0m\u001b[0;34m\u001b[0m\u001b[0m\n",
        "\u001b[0;32m/Users/ericmjl/ericmjl BTSync/Research Projects/Runstadler Lab/Computational Analysis/Influenza-Network-Transmission-Model/virus.pyc\u001b[0m in \u001b[0;36mmutate\u001b[0;34m(self)\u001b[0m\n\u001b[1;32m    131\u001b[0m \u001b[0;34m\u001b[0m\u001b[0m\n\u001b[1;32m    132\u001b[0m                 \u001b[0;32mfor\u001b[0m \u001b[0msegment\u001b[0m \u001b[0;32min\u001b[0m \u001b[0mself\u001b[0m\u001b[0;34m.\u001b[0m\u001b[0msegments\u001b[0m\u001b[0;34m:\u001b[0m\u001b[0;34m\u001b[0m\u001b[0m\n\u001b[0;32m--> 133\u001b[0;31m                         \u001b[0msegment\u001b[0m\u001b[0;34m.\u001b[0m\u001b[0mmutate\u001b[0m\u001b[0;34m(\u001b[0m\u001b[0;34m)\u001b[0m\u001b[0;34m\u001b[0m\u001b[0m\n\u001b[0m\u001b[1;32m    134\u001b[0m \u001b[0;34m\u001b[0m\u001b[0m\n\u001b[1;32m    135\u001b[0m         \u001b[0;32mdef\u001b[0m \u001b[0mburst_size\u001b[0m\u001b[0;34m(\u001b[0m\u001b[0mself\u001b[0m\u001b[0;34m)\u001b[0m\u001b[0;34m:\u001b[0m\u001b[0;34m\u001b[0m\u001b[0m\n",
        "\u001b[0;32m/Users/ericmjl/ericmjl BTSync/Research Projects/Runstadler Lab/Computational Analysis/Influenza-Network-Transmission-Model/segment.pyc\u001b[0m in \u001b[0;36mmutate\u001b[0;34m(self)\u001b[0m\n\u001b[1;32m    110\u001b[0m                         \u001b[0;32mreturn\u001b[0m \u001b[0msample\u001b[0m\u001b[0;34m(\u001b[0m\u001b[0mrange\u001b[0m\u001b[0;34m(\u001b[0m\u001b[0mstart\u001b[0m\u001b[0;34m,\u001b[0m \u001b[0mend\u001b[0m\u001b[0;34m)\u001b[0m\u001b[0;34m,\u001b[0m \u001b[0mnum_positions\u001b[0m\u001b[0;34m)\u001b[0m\u001b[0;34m\u001b[0m\u001b[0m\n\u001b[1;32m    111\u001b[0m \u001b[0;34m\u001b[0m\u001b[0m\n\u001b[0;32m--> 112\u001b[0;31m \t\tpositions = choose_positions(0, len(self.compute_sequence()), \\\n\u001b[0m\u001b[1;32m    113\u001b[0m \t\t\tnum_positions)\n\u001b[1;32m    114\u001b[0m \u001b[0;34m\u001b[0m\u001b[0m\n",
        "\u001b[0;32m/Users/ericmjl/ericmjl BTSync/Research Projects/Runstadler Lab/Computational Analysis/Influenza-Network-Transmission-Model/segment.pyc\u001b[0m in \u001b[0;36mcompute_sequence\u001b[0;34m(self)\u001b[0m\n\u001b[1;32m     87\u001b[0m                                 \u001b[0msequence\u001b[0m \u001b[0;34m+=\u001b[0m \u001b[0mself\u001b[0m\u001b[0;34m.\u001b[0m\u001b[0mmutations\u001b[0m\u001b[0;34m[\u001b[0m\u001b[0mi\u001b[0m\u001b[0;34m]\u001b[0m\u001b[0;34m\u001b[0m\u001b[0m\n\u001b[1;32m     88\u001b[0m                         \u001b[0;32melse\u001b[0m\u001b[0;34m:\u001b[0m\u001b[0;34m\u001b[0m\u001b[0m\n\u001b[0;32m---> 89\u001b[0;31m                                 \u001b[0msequence\u001b[0m \u001b[0;34m+=\u001b[0m \u001b[0mletter\u001b[0m\u001b[0;34m\u001b[0m\u001b[0m\n\u001b[0m\u001b[1;32m     90\u001b[0m \u001b[0;34m\u001b[0m\u001b[0m\n\u001b[1;32m     91\u001b[0m                 \u001b[0;32mreturn\u001b[0m \u001b[0msequence\u001b[0m\u001b[0;34m\u001b[0m\u001b[0m\n",
        "\u001b[0;31mKeyboardInterrupt\u001b[0m: "
       ]
      }
     ],
     "prompt_number": 2
    },
    {
     "cell_type": "code",
     "collapsed": false,
     "input": [
      "virus_counts_list"
     ],
     "language": "python",
     "metadata": {},
     "outputs": [
      {
       "metadata": {},
       "output_type": "pyout",
       "prompt_number": 3,
       "text": [
        "[[[11],\n",
        "  [22],\n",
        "  [48],\n",
        "  [47],\n",
        "  [116],\n",
        "  [219],\n",
        "  [145],\n",
        "  [178],\n",
        "  [68],\n",
        "  [105],\n",
        "  [114],\n",
        "  [41],\n",
        "  [29],\n",
        "  [10],\n",
        "  [8],\n",
        "  [8],\n",
        "  [6],\n",
        "  [7],\n",
        "  [8],\n",
        "  [10],\n",
        "  [10],\n",
        "  [9],\n",
        "  [0],\n",
        "  [0],\n",
        "  [0],\n",
        "  [0],\n",
        "  [0],\n",
        "  [0],\n",
        "  [0],\n",
        "  [0]],\n",
        " [[1],\n",
        "  [9],\n",
        "  [27],\n",
        "  [31],\n",
        "  [52],\n",
        "  [41],\n",
        "  [59],\n",
        "  [58],\n",
        "  [22],\n",
        "  [20],\n",
        "  [15],\n",
        "  [9],\n",
        "  [9],\n",
        "  [8],\n",
        "  [7],\n",
        "  [11],\n",
        "  [10],\n",
        "  [10],\n",
        "  [8],\n",
        "  [15],\n",
        "  [12],\n",
        "  [8],\n",
        "  [8],\n",
        "  [0],\n",
        "  [0],\n",
        "  [0],\n",
        "  [0],\n",
        "  [0],\n",
        "  [0],\n",
        "  [0]],\n",
        " [[10],\n",
        "  [26],\n",
        "  [89],\n",
        "  [47],\n",
        "  [76],\n",
        "  [156],\n",
        "  [221],\n",
        "  [198],\n",
        "  [219],\n",
        "  [100],\n",
        "  [126],\n",
        "  [152],\n",
        "  [77],\n",
        "  [31],\n",
        "  [30],\n",
        "  [27],\n",
        "  [14],\n",
        "  [9],\n",
        "  [2],\n",
        "  [5],\n",
        "  [7],\n",
        "  [9],\n",
        "  [7],\n",
        "  [1],\n",
        "  [10],\n",
        "  [7],\n",
        "  [8],\n",
        "  [1],\n",
        "  [0],\n",
        "  [0]],\n",
        " [[11],\n",
        "  [45],\n",
        "  [137],\n",
        "  [243],\n",
        "  [440],\n",
        "  [231],\n",
        "  [292],\n",
        "  [170],\n",
        "  [101],\n",
        "  [39],\n",
        "  [40],\n",
        "  [59],\n",
        "  [80],\n",
        "  [35],\n",
        "  [39],\n",
        "  [44],\n",
        "  [47],\n",
        "  [17],\n",
        "  [5],\n",
        "  [1],\n",
        "  [9],\n",
        "  [1],\n",
        "  [1],\n",
        "  [5],\n",
        "  [10],\n",
        "  [6],\n",
        "  [0],\n",
        "  [0],\n",
        "  [0],\n",
        "  [0]],\n",
        " [[1],\n",
        "  [11],\n",
        "  [18],\n",
        "  [23],\n",
        "  [36],\n",
        "  [52],\n",
        "  [46],\n",
        "  [29],\n",
        "  [37],\n",
        "  [54],\n",
        "  [68],\n",
        "  [43],\n",
        "  [35],\n",
        "  [37],\n",
        "  [22],\n",
        "  [17],\n",
        "  [14],\n",
        "  [17],\n",
        "  [8],\n",
        "  [14],\n",
        "  [10],\n",
        "  [10],\n",
        "  [1],\n",
        "  [0],\n",
        "  [0],\n",
        "  [0],\n",
        "  [0],\n",
        "  [0],\n",
        "  [0],\n",
        "  [0]],\n",
        " [[9],\n",
        "  [38],\n",
        "  [41],\n",
        "  [67],\n",
        "  [45],\n",
        "  [60],\n",
        "  [71],\n",
        "  [100],\n",
        "  [21],\n",
        "  [24],\n",
        "  [16],\n",
        "  [30],\n",
        "  [12],\n",
        "  [10],\n",
        "  [11],\n",
        "  [5],\n",
        "  [6],\n",
        "  [6],\n",
        "  [11],\n",
        "  [19],\n",
        "  [0],\n",
        "  [0],\n",
        "  [0],\n",
        "  [0],\n",
        "  [0],\n",
        "  [0],\n",
        "  [0],\n",
        "  [0],\n",
        "  [0],\n",
        "  [0]],\n",
        " [[1],\n",
        "  [1],\n",
        "  [0],\n",
        "  [0],\n",
        "  [0],\n",
        "  [0],\n",
        "  [0],\n",
        "  [0],\n",
        "  [0],\n",
        "  [0],\n",
        "  [0],\n",
        "  [0],\n",
        "  [0],\n",
        "  [0],\n",
        "  [0],\n",
        "  [0],\n",
        "  [0],\n",
        "  [0],\n",
        "  [0],\n",
        "  [0],\n",
        "  [0],\n",
        "  [0],\n",
        "  [0],\n",
        "  [0],\n",
        "  [0],\n",
        "  [0],\n",
        "  [0],\n",
        "  [0],\n",
        "  [0],\n",
        "  [0]],\n",
        " [[1],\n",
        "  [5],\n",
        "  [17],\n",
        "  [25],\n",
        "  [50],\n",
        "  [87],\n",
        "  [107],\n",
        "  [99],\n",
        "  [73],\n",
        "  [93],\n",
        "  [69],\n",
        "  [14],\n",
        "  [19],\n",
        "  [17],\n",
        "  [15],\n",
        "  [20],\n",
        "  [2],\n",
        "  [0],\n",
        "  [0],\n",
        "  [0],\n",
        "  [0],\n",
        "  [0],\n",
        "  [0],\n",
        "  [0],\n",
        "  [0],\n",
        "  [0],\n",
        "  [0],\n",
        "  [0],\n",
        "  [0],\n",
        "  [0]],\n",
        " [[10],\n",
        "  [43],\n",
        "  [44],\n",
        "  [37],\n",
        "  [96],\n",
        "  [52],\n",
        "  [24],\n",
        "  [26],\n",
        "  [29],\n",
        "  [18],\n",
        "  [25],\n",
        "  [20],\n",
        "  [13],\n",
        "  [10],\n",
        "  [6],\n",
        "  [7],\n",
        "  [1],\n",
        "  [0],\n",
        "  [0],\n",
        "  [0],\n",
        "  [0],\n",
        "  [0],\n",
        "  [0],\n",
        "  [0],\n",
        "  [0],\n",
        "  [0],\n",
        "  [0],\n",
        "  [0],\n",
        "  [0],\n",
        "  [0]],\n",
        " [[10],\n",
        "  [34],\n",
        "  [79],\n",
        "  [180],\n",
        "  [98],\n",
        "  [87],\n",
        "  [45],\n",
        "  [30],\n",
        "  [29],\n",
        "  [20],\n",
        "  [11],\n",
        "  [8],\n",
        "  [9],\n",
        "  [11],\n",
        "  [6],\n",
        "  [9],\n",
        "  [8],\n",
        "  [0],\n",
        "  [0],\n",
        "  [0],\n",
        "  [0],\n",
        "  [0],\n",
        "  [0],\n",
        "  [0],\n",
        "  [0],\n",
        "  [0],\n",
        "  [0],\n",
        "  [0],\n",
        "  [0],\n",
        "  [0]],\n",
        " [[0],\n",
        "  [0],\n",
        "  [0],\n",
        "  [0],\n",
        "  [0],\n",
        "  [0],\n",
        "  [0],\n",
        "  [0],\n",
        "  [0],\n",
        "  [0],\n",
        "  [0],\n",
        "  [0],\n",
        "  [0],\n",
        "  [0],\n",
        "  [0],\n",
        "  [0],\n",
        "  [0],\n",
        "  [0],\n",
        "  [0],\n",
        "  [0],\n",
        "  [0],\n",
        "  [0],\n",
        "  [0],\n",
        "  [0],\n",
        "  [0],\n",
        "  [0],\n",
        "  [0],\n",
        "  [0],\n",
        "  [0],\n",
        "  [0]],\n",
        " [[9],\n",
        "  [30],\n",
        "  [46],\n",
        "  [107],\n",
        "  [160],\n",
        "  [166],\n",
        "  [61],\n",
        "  [88],\n",
        "  [36],\n",
        "  [14],\n",
        "  [20],\n",
        "  [30],\n",
        "  [23],\n",
        "  [21],\n",
        "  [7],\n",
        "  [8],\n",
        "  [10],\n",
        "  [8],\n",
        "  [8],\n",
        "  [8],\n",
        "  [2],\n",
        "  [7],\n",
        "  [8],\n",
        "  [6],\n",
        "  [9],\n",
        "  [10],\n",
        "  [8],\n",
        "  [7],\n",
        "  [0],\n",
        "  [0]],\n",
        " [[6],\n",
        "  [14],\n",
        "  [11],\n",
        "  [41],\n",
        "  [49],\n",
        "  [20],\n",
        "  [27],\n",
        "  [24],\n",
        "  [41],\n",
        "  [36],\n",
        "  [37],\n",
        "  [49],\n",
        "  [48],\n",
        "  [26],\n",
        "  [7],\n",
        "  [1],\n",
        "  [0],\n",
        "  [0],\n",
        "  [0],\n",
        "  [0],\n",
        "  [0],\n",
        "  [0],\n",
        "  [0],\n",
        "  [0],\n",
        "  [0],\n",
        "  [0],\n",
        "  [0],\n",
        "  [0],\n",
        "  [0],\n",
        "  [0]],\n",
        " [[10],\n",
        "  [18],\n",
        "  [58],\n",
        "  [144],\n",
        "  [294],\n",
        "  [435],\n",
        "  [366],\n",
        "  [110],\n",
        "  [71],\n",
        "  [85],\n",
        "  [39],\n",
        "  [21],\n",
        "  [13],\n",
        "  [11],\n",
        "  [11],\n",
        "  [8],\n",
        "  [0],\n",
        "  [0],\n",
        "  [0],\n",
        "  [0],\n",
        "  [0],\n",
        "  [0],\n",
        "  [0],\n",
        "  [0],\n",
        "  [0],\n",
        "  [0],\n",
        "  [0],\n",
        "  [0],\n",
        "  [0],\n",
        "  [0]],\n",
        " [[8],\n",
        "  [20],\n",
        "  [57],\n",
        "  [57],\n",
        "  [28],\n",
        "  [22],\n",
        "  [11],\n",
        "  [22],\n",
        "  [20],\n",
        "  [28],\n",
        "  [17],\n",
        "  [7],\n",
        "  [8],\n",
        "  [12],\n",
        "  [13],\n",
        "  [18],\n",
        "  [11],\n",
        "  [9],\n",
        "  [7],\n",
        "  [8],\n",
        "  [7],\n",
        "  [9],\n",
        "  [10],\n",
        "  [12],\n",
        "  [14],\n",
        "  [10],\n",
        "  [5],\n",
        "  [0],\n",
        "  [0],\n",
        "  [0]],\n",
        " [[7],\n",
        "  [10],\n",
        "  [11],\n",
        "  [4],\n",
        "  [9],\n",
        "  [21],\n",
        "  [23],\n",
        "  [12],\n",
        "  [2],\n",
        "  [0],\n",
        "  [0],\n",
        "  [0],\n",
        "  [0],\n",
        "  [0],\n",
        "  [0],\n",
        "  [0],\n",
        "  [0],\n",
        "  [0],\n",
        "  [0],\n",
        "  [0],\n",
        "  [0],\n",
        "  [0],\n",
        "  [0],\n",
        "  [0],\n",
        "  [0],\n",
        "  [0],\n",
        "  [0],\n",
        "  [0],\n",
        "  [0],\n",
        "  [0]],\n",
        " [[10],\n",
        "  [30],\n",
        "  [46],\n",
        "  [41],\n",
        "  [58],\n",
        "  [65],\n",
        "  [56],\n",
        "  [65],\n",
        "  [64],\n",
        "  [22],\n",
        "  [26],\n",
        "  [28],\n",
        "  [3],\n",
        "  [0],\n",
        "  [0],\n",
        "  [0],\n",
        "  [0],\n",
        "  [0],\n",
        "  [0],\n",
        "  [0],\n",
        "  [0],\n",
        "  [0],\n",
        "  [0],\n",
        "  [0],\n",
        "  [0],\n",
        "  [0],\n",
        "  [0],\n",
        "  [0],\n",
        "  [0],\n",
        "  [0]],\n",
        " [[6],\n",
        "  [17],\n",
        "  [24],\n",
        "  [27],\n",
        "  [73],\n",
        "  [100],\n",
        "  [55],\n",
        "  [75],\n",
        "  [28],\n",
        "  [25],\n",
        "  [32],\n",
        "  [20],\n",
        "  [14],\n",
        "  [15],\n",
        "  [14],\n",
        "  [17],\n",
        "  [3],\n",
        "  [0],\n",
        "  [0],\n",
        "  [0],\n",
        "  [0],\n",
        "  [0],\n",
        "  [0],\n",
        "  [0],\n",
        "  [0],\n",
        "  [0],\n",
        "  [0],\n",
        "  [0],\n",
        "  [0],\n",
        "  [0]],\n",
        " [[7],\n",
        "  [23],\n",
        "  [81],\n",
        "  [131],\n",
        "  [200],\n",
        "  [357],\n",
        "  [316],\n",
        "  [477],\n",
        "  [330],\n",
        "  [487],\n",
        "  [380],\n",
        "  [364],\n",
        "  [59],\n",
        "  [24],\n",
        "  [34],\n",
        "  [15],\n",
        "  [6],\n",
        "  [10],\n",
        "  [1],\n",
        "  [0],\n",
        "  [0],\n",
        "  [0],\n",
        "  [0],\n",
        "  [0],\n",
        "  [0],\n",
        "  [0],\n",
        "  [0],\n",
        "  [0],\n",
        "  [0],\n",
        "  [0]],\n",
        " [[11],\n",
        "  [29],\n",
        "  [34],\n",
        "  [98],\n",
        "  [62],\n",
        "  [119],\n",
        "  [213],\n",
        "  [171],\n",
        "  [128],\n",
        "  [187],\n",
        "  [202],\n",
        "  [102],\n",
        "  [58],\n",
        "  [60],\n",
        "  [52],\n",
        "  [29],\n",
        "  [17],\n",
        "  [3],\n",
        "  [6],\n",
        "  [8],\n",
        "  [10],\n",
        "  [10],\n",
        "  [8],\n",
        "  [0],\n",
        "  [0],\n",
        "  [0],\n",
        "  [0],\n",
        "  [0],\n",
        "  [0],\n",
        "  [0]],\n",
        " [[7],\n",
        "  [16],\n",
        "  [49],\n",
        "  [90],\n",
        "  [204],\n",
        "  [97],\n",
        "  [110],\n",
        "  [46],\n",
        "  [73],\n",
        "  [121],\n",
        "  [79],\n",
        "  [111],\n",
        "  [99],\n",
        "  [71],\n",
        "  [15],\n",
        "  [11],\n",
        "  [11],\n",
        "  [13],\n",
        "  [22],\n",
        "  [16],\n",
        "  [6],\n",
        "  [1],\n",
        "  [0],\n",
        "  [0],\n",
        "  [0],\n",
        "  [0],\n",
        "  [0],\n",
        "  [0],\n",
        "  [0],\n",
        "  [0]],\n",
        " [[6],\n",
        "  [24],\n",
        "  [58],\n",
        "  [58],\n",
        "  [55],\n",
        "  [59],\n",
        "  [84],\n",
        "  [31],\n",
        "  [13],\n",
        "  [9],\n",
        "  [10],\n",
        "  [5],\n",
        "  [9],\n",
        "  [19],\n",
        "  [2],\n",
        "  [8],\n",
        "  [10],\n",
        "  [1],\n",
        "  [6],\n",
        "  [11],\n",
        "  [18],\n",
        "  [8],\n",
        "  [9],\n",
        "  [1],\n",
        "  [9],\n",
        "  [12],\n",
        "  [1],\n",
        "  [10],\n",
        "  [6],\n",
        "  [6]],\n",
        " [[11],\n",
        "  [44],\n",
        "  [97],\n",
        "  [271],\n",
        "  [164],\n",
        "  [306],\n",
        "  [318],\n",
        "  [398],\n",
        "  [564],\n",
        "  [114],\n",
        "  [36],\n",
        "  [58],\n",
        "  [45],\n",
        "  [20],\n",
        "  [15],\n",
        "  [13],\n",
        "  [1],\n",
        "  [0],\n",
        "  [0],\n",
        "  [0],\n",
        "  [0],\n",
        "  [0],\n",
        "  [0],\n",
        "  [0],\n",
        "  [0],\n",
        "  [0],\n",
        "  [0],\n",
        "  [0],\n",
        "  [0],\n",
        "  [0]],\n",
        " [[10],\n",
        "  [7],\n",
        "  [11],\n",
        "  [22],\n",
        "  [5],\n",
        "  [19],\n",
        "  [13],\n",
        "  [16],\n",
        "  [20],\n",
        "  [15],\n",
        "  [10],\n",
        "  [10],\n",
        "  [9],\n",
        "  [17],\n",
        "  [21],\n",
        "  [17],\n",
        "  [8],\n",
        "  [0],\n",
        "  [0],\n",
        "  [0],\n",
        "  [0],\n",
        "  [0],\n",
        "  [0],\n",
        "  [0],\n",
        "  [0],\n",
        "  [0],\n",
        "  [0],\n",
        "  [0],\n",
        "  [0],\n",
        "  [0]]]"
       ]
      }
     ],
     "prompt_number": 3
    },
    {
     "cell_type": "code",
     "collapsed": false,
     "input": [
      "for v in virus_counts_list:\n",
      "    plt.plot(v, color='blue', alpha=0.2)"
     ],
     "language": "python",
     "metadata": {},
     "outputs": [
      {
       "metadata": {},
       "output_type": "display_data",
       "png": "[encoded data removed]",
       "text": [
        "<matplotlib.figure.Figure at 0x1061e2b50>"
       ]
      }
     ],
     "prompt_number": 7
    },
    {
     "cell_type": "code",
     "collapsed": false,
     "input": [],
     "language": "python",
     "metadata": {},
     "outputs": []
    }
   ],
   "metadata": {}
  }
 ]
}