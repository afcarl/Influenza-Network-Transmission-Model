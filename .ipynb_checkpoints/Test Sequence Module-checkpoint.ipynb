{
 "metadata": {
  "name": "",
  "signature": "sha256:5338404859821f60a52a6005bbbad27c8663a9a3b33abcb6969fad3b794dd99d"
 },
 "nbformat": 3,
 "nbformat_minor": 0,
 "worksheets": [
  {
   "cells": [
    {
     "cell_type": "code",
     "collapsed": false,
     "input": [
      "from sequence import Sequence"
     ],
     "language": "python",
     "metadata": {},
     "outputs": [],
     "prompt_number": 1
    },
    {
     "cell_type": "code",
     "collapsed": false,
     "input": [
      "sequence = Sequence()"
     ],
     "language": "python",
     "metadata": {},
     "outputs": [],
     "prompt_number": 2
    },
    {
     "cell_type": "code",
     "collapsed": false,
     "input": [
      "sequence"
     ],
     "language": "python",
     "metadata": {},
     "outputs": [
      {
       "metadata": {},
       "output_type": "pyout",
       "prompt_number": 3,
       "text": [
        "GTGGCCCTAT"
       ]
      }
     ],
     "prompt_number": 3
    },
    {
     "cell_type": "code",
     "collapsed": false,
     "input": [
      "sequence2 = Sequence(length=300)\n",
      "sequence2"
     ],
     "language": "python",
     "metadata": {},
     "outputs": [
      {
       "metadata": {},
       "output_type": "pyout",
       "prompt_number": 4,
       "text": [
        "GACAACTGCAAGAGTGAAGTTTAGGTTGACTCCCTAACCCCCTCGCCCTGGCGACCCTGAGGGGGTAGTTGGAAAACATCGATGCGACAACGTGGAAGGTGGGCGGGCTTATCCAAGGCTGTTTCATGAGACCAGAAACCGGTCTGTTGACCTACCAATTCCGTCTAAAATCACACACACACTTTTATTACTCGAAGCTTATTTTACGGGTGCGACAGAGGTCCCAACTTACTTGTACATGATGCGTAAGAGGCAAGTCGGCGGGGAGTAGTTGCTCTCAAAGGAGGACTGACGGTAAAT"
       ]
      }
     ],
     "prompt_number": 4
    },
    {
     "cell_type": "code",
     "collapsed": false,
     "input": [
      "sequence3 = Sequence(sequence='ATGC')\n",
      "sequence3"
     ],
     "language": "python",
     "metadata": {},
     "outputs": [
      {
       "metadata": {},
       "output_type": "pyout",
       "prompt_number": 5,
       "text": [
        "ATGC"
       ]
      }
     ],
     "prompt_number": 5
    },
    {
     "cell_type": "code",
     "collapsed": false,
     "input": [
      "sequence2.GetString()"
     ],
     "language": "python",
     "metadata": {},
     "outputs": [
      {
       "metadata": {},
       "output_type": "pyout",
       "prompt_number": 6,
       "text": [
        "'GACAACTGCAAGAGTGAAGTTTAGGTTGACTCCCTAACCCCCTCGCCCTGGCGACCCTGAGGGGGTAGTTGGAAAACATCGATGCGACAACGTGGAAGGTGGGCGGGCTTATCCAAGGCTGTTTCATGAGACCAGAAACCGGTCTGTTGACCTACCAATTCCGTCTAAAATCACACACACACTTTTATTACTCGAAGCTTATTTTACGGGTGCGACAGAGGTCCCAACTTACTTGTACATGATGCGTAAGAGGCAAGTCGGCGGGGAGTAGTTGCTCTCAAAGGAGGACTGACGGTAAAT'"
       ]
      }
     ],
     "prompt_number": 6
    },
    {
     "cell_type": "code",
     "collapsed": false,
     "input": [],
     "language": "python",
     "metadata": {},
     "outputs": [],
     "prompt_number": 6
    }
   ],
   "metadata": {}
  }
 ]
}