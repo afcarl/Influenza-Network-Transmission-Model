{
 "metadata": {
  "name": "",
  "signature": "sha256:85ce2b50be9bfd354c8ad0400e5d36d4eb22f632b85d72bb8dd914efeea4c31f"
 },
 "nbformat": 3,
 "nbformat_minor": 0,
 "worksheets": [
  {
   "cells": [
    {
     "cell_type": "code",
     "collapsed": false,
     "input": [
      "from sequence import Sequence"
     ],
     "language": "python",
     "metadata": {},
     "outputs": [],
     "prompt_number": 1
    },
    {
     "cell_type": "code",
     "collapsed": false,
     "input": [
      "sequence = Sequence()"
     ],
     "language": "python",
     "metadata": {},
     "outputs": [],
     "prompt_number": 2
    },
    {
     "cell_type": "code",
     "collapsed": false,
     "input": [
      "sequence"
     ],
     "language": "python",
     "metadata": {},
     "outputs": [
      {
       "metadata": {},
       "output_type": "pyout",
       "prompt_number": 3,
       "text": [
        "GATGAACAGT"
       ]
      }
     ],
     "prompt_number": 3
    },
    {
     "cell_type": "code",
     "collapsed": false,
     "input": [
      "sequence2 = Sequence(length=300)\n",
      "sequence2"
     ],
     "language": "python",
     "metadata": {},
     "outputs": [
      {
       "metadata": {},
       "output_type": "pyout",
       "prompt_number": 12,
       "text": [
        "GATACACGAGCTATCGACTGTTACTATAACGAAAATCAACTAAGTCAGGCGGAGTAACGGCGCGCTGTCGCCTGCGTTAATCGCATGCTATAGTGTGGGCAAGTATCGATAGTGTGTTTTATACTAGCACATGCCGACAGGGGCGCATGATGCAGAATATACAGTGCATTGAGGTCGCGAGGTGGTACAATCATCCTGTAGATGTGCTAGGTGCAAATAGATGAGCCGACGTGTCAGGCTGTCATACATGTTCTTTTCTCGGCCCCGGAAGTATGGTAATCTGGTGCCACTTTAAGCGTT"
       ]
      }
     ],
     "prompt_number": 12
    },
    {
     "cell_type": "code",
     "collapsed": false,
     "input": [
      "sequence3 = Sequence(sequence='ATGC')\n",
      "sequence3"
     ],
     "language": "python",
     "metadata": {},
     "outputs": [
      {
       "metadata": {},
       "output_type": "pyout",
       "prompt_number": 5,
       "text": [
        "ATGC"
       ]
      }
     ],
     "prompt_number": 5
    },
    {
     "cell_type": "code",
     "collapsed": false,
     "input": [
      "sequence2.Mutate(num_positions=10)\n",
      "sequence2"
     ],
     "language": "python",
     "metadata": {},
     "outputs": [
      {
       "metadata": {},
       "output_type": "pyout",
       "prompt_number": 13,
       "text": [
        "TTCCCCCGAGCTAACGACTGTTACTATAGCGAAAATCAACTAAGTCAGGCGAAGAAACGGCGACCTGTCGCCTGAGTAAATTGTGTGATATAGTGTGGGCAGGAATCGCTAGCGAGTTTTATGGTAGCGCATGCCGACAAGGGCGCAGGCGGCAGAATATACTTTGCATTGAGGTCGCGAGTTGCTACACTCTTATAGTTGATGCGCTAGGTGCAAATAGATGAGCCGACGAGTGAGCTTGTCATATATGTTCCTCTCTCGGCCCCGGAGGTAGGGTAATCTGGTGCCACTTTAAACGTT"
       ]
      }
     ],
     "prompt_number": 13
    },
    {
     "cell_type": "code",
     "collapsed": false,
     "input": [],
     "language": "python",
     "metadata": {},
     "outputs": []
    }
   ],
   "metadata": {}
  }
 ]
}