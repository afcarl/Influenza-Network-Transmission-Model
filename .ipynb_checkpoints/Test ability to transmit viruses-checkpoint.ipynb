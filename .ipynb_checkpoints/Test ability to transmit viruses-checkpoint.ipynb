{
 "metadata": {
  "name": "",
  "signature": "sha256:f5ecd2daf1c101364225fdd575ce28f32eefe12271b5429609ba8c07b9c06635"
 },
 "nbformat": 3,
 "nbformat_minor": 0,
 "worksheets": [
  {
   "cells": [
    {
     "cell_type": "code",
     "collapsed": false,
     "input": [
      "from controller import Controller"
     ],
     "language": "python",
     "metadata": {},
     "outputs": [],
     "prompt_number": 7
    },
    {
     "cell_type": "code",
     "collapsed": false,
     "input": [
      "c = Controller()\n",
      "c.create_environment(num_hosts=100)\n",
      "i = 0\n",
      "for host in c.environments[0].hosts:\n",
      "    if i < 5:\n",
      "        c.create_virus(host)\n",
      "        i += 1"
     ],
     "language": "python",
     "metadata": {},
     "outputs": [],
     "prompt_number": 8
    },
    {
     "cell_type": "code",
     "collapsed": false,
     "input": [
      "timesteps = range(50)\n",
      "\n",
      "num_infected_hosts = []\n",
      "virus_counts = []\n",
      "\n",
      "for i in timesteps:\n",
      "    c.increment_timestep()\n",
      "    c.make_many_infections_happen(c.environments[0], 1)\n",
      "    \n",
      "    num_infected_hosts.append(c.get_num_of_infected_hosts(c.environments[0]))\n",
      "    virus_counts.append(c.get_host_virus_population(c.environments[0]))"
     ],
     "language": "python",
     "metadata": {},
     "outputs": [],
     "prompt_number": 9
    },
    {
     "cell_type": "code",
     "collapsed": false,
     "input": [
      "print num_infected_hosts\n",
      "# print virus_counts"
     ],
     "language": "python",
     "metadata": {},
     "outputs": [
      {
       "output_type": "stream",
       "stream": "stdout",
       "text": [
        "[0, 0, 0, 0, 0, 0, 0, 0, 0, 0, 0, 0, 0, 0, 0, 0, 0, 0, 0, 0, 0, 0, 0, 0, 0, 0, 0, 0, 0, 0, 0, 0, 0, 0, 0, 0, 0, 0, 0, 0, 0, 0, 0, 0, 0, 0, 0, 0, 0, 0]\n"
       ]
      }
     ],
     "prompt_number": 10
    },
    {
     "cell_type": "code",
     "collapsed": false,
     "input": [
      "plt.plot(num_infected_hosts)"
     ],
     "language": "python",
     "metadata": {},
     "outputs": [
      {
       "metadata": {},
       "output_type": "pyout",
       "prompt_number": 11,
       "text": [
        "[<matplotlib.lines.Line2D at 0x1065818d0>]"
       ]
      },
      {
       "metadata": {},
       "output_type": "display_data",
       "png": "[encoded data removed]",
       "text": [
        "<matplotlib.figure.Figure at 0x106907b90>"
       ]
      }
     ],
     "prompt_number": 11
    },
    {
     "cell_type": "code",
     "collapsed": false,
     "input": [
      "plt.plot(virus_counts)"
     ],
     "language": "python",
     "metadata": {},
     "outputs": [
      {
       "metadata": {},
       "output_type": "pyout",
       "prompt_number": 12,
       "text": [
        "[<matplotlib.lines.Line2D at 0x1065b0ed0>,\n",
        " <matplotlib.lines.Line2D at 0x10659a190>,\n",
        " <matplotlib.lines.Line2D at 0x10659a3d0>,\n",
        " <matplotlib.lines.Line2D at 0x10659a590>,\n",
        " <matplotlib.lines.Line2D at 0x10659a750>,\n",
        " <matplotlib.lines.Line2D at 0x10659a910>,\n",
        " <matplotlib.lines.Line2D at 0x10659aad0>,\n",
        " <matplotlib.lines.Line2D at 0x1065acc50>,\n",
        " <matplotlib.lines.Line2D at 0x10659ae50>,\n",
        " <matplotlib.lines.Line2D at 0x1065b3050>,\n",
        " <matplotlib.lines.Line2D at 0x1065b3210>,\n",
        " <matplotlib.lines.Line2D at 0x1065b33d0>,\n",
        " <matplotlib.lines.Line2D at 0x1065b3590>,\n",
        " <matplotlib.lines.Line2D at 0x1065b3750>,\n",
        " <matplotlib.lines.Line2D at 0x10659acd0>,\n",
        " <matplotlib.lines.Line2D at 0x1065b3ad0>,\n",
        " <matplotlib.lines.Line2D at 0x1065b3c90>,\n",
        " <matplotlib.lines.Line2D at 0x1065b3e50>,\n",
        " <matplotlib.lines.Line2D at 0x1065b5050>,\n",
        " <matplotlib.lines.Line2D at 0x1065b5210>,\n",
        " <matplotlib.lines.Line2D at 0x1065b53d0>,\n",
        " <matplotlib.lines.Line2D at 0x1065b3950>,\n",
        " <matplotlib.lines.Line2D at 0x1065b5750>,\n",
        " <matplotlib.lines.Line2D at 0x1065b5910>,\n",
        " <matplotlib.lines.Line2D at 0x1065b5ad0>,\n",
        " <matplotlib.lines.Line2D at 0x1065b5c90>,\n",
        " <matplotlib.lines.Line2D at 0x1065b5e50>,\n",
        " <matplotlib.lines.Line2D at 0x1065b8050>,\n",
        " <matplotlib.lines.Line2D at 0x1065b55d0>,\n",
        " <matplotlib.lines.Line2D at 0x1065b83d0>,\n",
        " <matplotlib.lines.Line2D at 0x1065b8590>,\n",
        " <matplotlib.lines.Line2D at 0x1065b8750>,\n",
        " <matplotlib.lines.Line2D at 0x1065b8910>,\n",
        " <matplotlib.lines.Line2D at 0x1065b8ad0>,\n",
        " <matplotlib.lines.Line2D at 0x1065b8c90>,\n",
        " <matplotlib.lines.Line2D at 0x1065b8e50>,\n",
        " <matplotlib.lines.Line2D at 0x1065ba050>,\n",
        " <matplotlib.lines.Line2D at 0x1065ba210>,\n",
        " <matplotlib.lines.Line2D at 0x1065ba3d0>,\n",
        " <matplotlib.lines.Line2D at 0x1065ba590>,\n",
        " <matplotlib.lines.Line2D at 0x1065ba750>,\n",
        " <matplotlib.lines.Line2D at 0x1065ba910>,\n",
        " <matplotlib.lines.Line2D at 0x1065b8e90>,\n",
        " <matplotlib.lines.Line2D at 0x1065bac90>,\n",
        " <matplotlib.lines.Line2D at 0x1065bae50>,\n",
        " <matplotlib.lines.Line2D at 0x1065bc050>,\n",
        " <matplotlib.lines.Line2D at 0x1065bc210>,\n",
        " <matplotlib.lines.Line2D at 0x1065bc3d0>,\n",
        " <matplotlib.lines.Line2D at 0x1065bc590>,\n",
        " <matplotlib.lines.Line2D at 0x1065bab10>,\n",
        " <matplotlib.lines.Line2D at 0x1065bc910>,\n",
        " <matplotlib.lines.Line2D at 0x1065bcad0>,\n",
        " <matplotlib.lines.Line2D at 0x1065bcc90>,\n",
        " <matplotlib.lines.Line2D at 0x1065bce50>,\n",
        " <matplotlib.lines.Line2D at 0x107000050>,\n",
        " <matplotlib.lines.Line2D at 0x107000210>,\n",
        " <matplotlib.lines.Line2D at 0x1065bc790>,\n",
        " <matplotlib.lines.Line2D at 0x107000590>,\n",
        " <matplotlib.lines.Line2D at 0x107000750>,\n",
        " <matplotlib.lines.Line2D at 0x107000910>,\n",
        " <matplotlib.lines.Line2D at 0x107000ad0>,\n",
        " <matplotlib.lines.Line2D at 0x107000c90>,\n",
        " <matplotlib.lines.Line2D at 0x107000e50>,\n",
        " <matplotlib.lines.Line2D at 0x107000410>,\n",
        " <matplotlib.lines.Line2D at 0x107002210>,\n",
        " <matplotlib.lines.Line2D at 0x1070023d0>,\n",
        " <matplotlib.lines.Line2D at 0x107002590>,\n",
        " <matplotlib.lines.Line2D at 0x107002750>,\n",
        " <matplotlib.lines.Line2D at 0x107002910>,\n",
        " <matplotlib.lines.Line2D at 0x107002ad0>,\n",
        " <matplotlib.lines.Line2D at 0x107002c90>,\n",
        " <matplotlib.lines.Line2D at 0x107002e50>,\n",
        " <matplotlib.lines.Line2D at 0x107004050>,\n",
        " <matplotlib.lines.Line2D at 0x107004210>,\n",
        " <matplotlib.lines.Line2D at 0x1070043d0>,\n",
        " <matplotlib.lines.Line2D at 0x107004590>,\n",
        " <matplotlib.lines.Line2D at 0x107004750>,\n",
        " <matplotlib.lines.Line2D at 0x107002cd0>,\n",
        " <matplotlib.lines.Line2D at 0x107004ad0>,\n",
        " <matplotlib.lines.Line2D at 0x107004c90>,\n",
        " <matplotlib.lines.Line2D at 0x107004e50>,\n",
        " <matplotlib.lines.Line2D at 0x107005050>,\n",
        " <matplotlib.lines.Line2D at 0x107005210>,\n",
        " <matplotlib.lines.Line2D at 0x1070053d0>,\n",
        " <matplotlib.lines.Line2D at 0x107004950>,\n",
        " <matplotlib.lines.Line2D at 0x107005750>,\n",
        " <matplotlib.lines.Line2D at 0x107005910>,\n",
        " <matplotlib.lines.Line2D at 0x107005ad0>,\n",
        " <matplotlib.lines.Line2D at 0x107005c90>,\n",
        " <matplotlib.lines.Line2D at 0x107005e50>,\n",
        " <matplotlib.lines.Line2D at 0x10700a050>,\n",
        " <matplotlib.lines.Line2D at 0x1070055d0>,\n",
        " <matplotlib.lines.Line2D at 0x10700a3d0>,\n",
        " <matplotlib.lines.Line2D at 0x10700a590>,\n",
        " <matplotlib.lines.Line2D at 0x10700a750>,\n",
        " <matplotlib.lines.Line2D at 0x10700a910>,\n",
        " <matplotlib.lines.Line2D at 0x10700aad0>,\n",
        " <matplotlib.lines.Line2D at 0x10700ac90>,\n",
        " <matplotlib.lines.Line2D at 0x10700ae50>,\n",
        " <matplotlib.lines.Line2D at 0x10700b050>]"
       ]
      },
      {
       "metadata": {},
       "output_type": "display_data",
       "png": "[encoded data removed]",
       "text": [
        "<matplotlib.figure.Figure at 0x1065f9f10>"
       ]
      }
     ],
     "prompt_number": 12
    },
    {
     "cell_type": "code",
     "collapsed": false,
     "input": [],
     "language": "python",
     "metadata": {},
     "outputs": []
    }
   ],
   "metadata": {}
  }
 ]
}