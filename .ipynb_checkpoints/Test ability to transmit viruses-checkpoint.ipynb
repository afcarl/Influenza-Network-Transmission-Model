{
 "metadata": {
  "name": "",
  "signature": "sha256:7dc43687d54cd049a4c71b673359372c6882e482c1efc06f82f7ec3c893659b5"
 },
 "nbformat": 3,
 "nbformat_minor": 0,
 "worksheets": [
  {
   "cells": [
    {
     "cell_type": "code",
     "collapsed": false,
     "input": [
      "from controller import Controller"
     ],
     "language": "python",
     "metadata": {},
     "outputs": [],
     "prompt_number": 1
    },
    {
     "cell_type": "code",
     "collapsed": false,
     "input": [
      "c = Controller()\n",
      "c.create_environment(num_hosts=100)\n",
      "i = 0\n",
      "for host in c.environments[0].hosts:\n",
      "    if i < 5:\n",
      "        c.create_virus(host)\n",
      "        i += 1"
     ],
     "language": "python",
     "metadata": {},
     "outputs": [],
     "prompt_number": 2
    },
    {
     "cell_type": "code",
     "collapsed": false,
     "input": [
      "timesteps = range(50)\n",
      "\n",
      "num_infected_hosts = []\n",
      "virus_counts = []\n",
      "\n",
      "for i in timesteps:\n",
      "    c.increment_timestep()\n",
      "    c.make_many_infections_happen(c.environments[0], 2)\n",
      "    \n",
      "    num_infected_hosts.append(c.get_num_of_infected_hosts(c.environments[0]))\n",
      "    virus_counts.append(c.get_host_virus_population(c.environments[0]))"
     ],
     "language": "python",
     "metadata": {},
     "outputs": [],
     "prompt_number": 3
    },
    {
     "cell_type": "code",
     "collapsed": false,
     "input": [
      "print num_infected_hosts\n",
      "# print virus_counts"
     ],
     "language": "python",
     "metadata": {},
     "outputs": [
      {
       "output_type": "stream",
       "stream": "stdout",
       "text": [
        "[5, 7, 9, 9, 11, 11, 12, 11, 10, 8, 8, 9, 10, 10, 12, 12, 12, 9, 8, 7, 8, 9, 10, 8, 8, 7, 7, 7, 6, 7, 5, 6, 8, 7, 4, 6, 6, 6, 8, 6, 7, 7, 6, 7, 7, 5, 4, 4, 3, 3]\n"
       ]
      }
     ],
     "prompt_number": 4
    },
    {
     "cell_type": "code",
     "collapsed": false,
     "input": [
      "plt.plot(num_infected_hosts)"
     ],
     "language": "python",
     "metadata": {},
     "outputs": [
      {
       "metadata": {},
       "output_type": "pyout",
       "prompt_number": 5,
       "text": [
        "[<matplotlib.lines.Line2D at 0x1063ce550>]"
       ]
      },
      {
       "metadata": {},
       "output_type": "display_data",
       "png": "[encoded data removed]",
       "text": [
        "<matplotlib.figure.Figure at 0x105863490>"
       ]
      }
     ],
     "prompt_number": 5
    },
    {
     "cell_type": "code",
     "collapsed": false,
     "input": [
      "plt.plot(virus_counts)"
     ],
     "language": "python",
     "metadata": {},
     "outputs": [
      {
       "metadata": {},
       "output_type": "pyout",
       "prompt_number": 6,
       "text": [
        "[<matplotlib.lines.Line2D at 0x10671ef50>,\n",
        " <matplotlib.lines.Line2D at 0x106737210>,\n",
        " <matplotlib.lines.Line2D at 0x106737450>,\n",
        " <matplotlib.lines.Line2D at 0x106737610>,\n",
        " <matplotlib.lines.Line2D at 0x1067377d0>,\n",
        " <matplotlib.lines.Line2D at 0x106737990>,\n",
        " <matplotlib.lines.Line2D at 0x106737b50>,\n",
        " <matplotlib.lines.Line2D at 0x1063dac50>,\n",
        " <matplotlib.lines.Line2D at 0x106737ed0>,\n",
        " <matplotlib.lines.Line2D at 0x10670b0d0>,\n",
        " <matplotlib.lines.Line2D at 0x10670b290>,\n",
        " <matplotlib.lines.Line2D at 0x10670b450>,\n",
        " <matplotlib.lines.Line2D at 0x10670b610>,\n",
        " <matplotlib.lines.Line2D at 0x10670b7d0>,\n",
        " <matplotlib.lines.Line2D at 0x106737d50>,\n",
        " <matplotlib.lines.Line2D at 0x10670bb50>,\n",
        " <matplotlib.lines.Line2D at 0x10670bd10>,\n",
        " <matplotlib.lines.Line2D at 0x10670bed0>,\n",
        " <matplotlib.lines.Line2D at 0x10670f0d0>,\n",
        " <matplotlib.lines.Line2D at 0x10670f290>,\n",
        " <matplotlib.lines.Line2D at 0x10670f450>,\n",
        " <matplotlib.lines.Line2D at 0x10670b9d0>,\n",
        " <matplotlib.lines.Line2D at 0x10670f7d0>,\n",
        " <matplotlib.lines.Line2D at 0x10670f990>,\n",
        " <matplotlib.lines.Line2D at 0x10670fb50>,\n",
        " <matplotlib.lines.Line2D at 0x10670fd10>,\n",
        " <matplotlib.lines.Line2D at 0x10670fed0>,\n",
        " <matplotlib.lines.Line2D at 0x1067250d0>,\n",
        " <matplotlib.lines.Line2D at 0x10670f650>,\n",
        " <matplotlib.lines.Line2D at 0x106725450>,\n",
        " <matplotlib.lines.Line2D at 0x106725610>,\n",
        " <matplotlib.lines.Line2D at 0x1067257d0>,\n",
        " <matplotlib.lines.Line2D at 0x106725990>,\n",
        " <matplotlib.lines.Line2D at 0x106725b50>,\n",
        " <matplotlib.lines.Line2D at 0x106725d10>,\n",
        " <matplotlib.lines.Line2D at 0x106725ed0>,\n",
        " <matplotlib.lines.Line2D at 0x1067360d0>,\n",
        " <matplotlib.lines.Line2D at 0x106736290>,\n",
        " <matplotlib.lines.Line2D at 0x106736450>,\n",
        " <matplotlib.lines.Line2D at 0x106736610>,\n",
        " <matplotlib.lines.Line2D at 0x1067367d0>,\n",
        " <matplotlib.lines.Line2D at 0x106736990>,\n",
        " <matplotlib.lines.Line2D at 0x106725f10>,\n",
        " <matplotlib.lines.Line2D at 0x106736d10>,\n",
        " <matplotlib.lines.Line2D at 0x106736ed0>,\n",
        " <matplotlib.lines.Line2D at 0x1067320d0>,\n",
        " <matplotlib.lines.Line2D at 0x106732290>,\n",
        " <matplotlib.lines.Line2D at 0x106732450>,\n",
        " <matplotlib.lines.Line2D at 0x106732610>,\n",
        " <matplotlib.lines.Line2D at 0x106736b90>,\n",
        " <matplotlib.lines.Line2D at 0x106732990>,\n",
        " <matplotlib.lines.Line2D at 0x106732b50>,\n",
        " <matplotlib.lines.Line2D at 0x106732d10>,\n",
        " <matplotlib.lines.Line2D at 0x106732ed0>,\n",
        " <matplotlib.lines.Line2D at 0x106723d50>,\n",
        " <matplotlib.lines.Line2D at 0x1067236d0>,\n",
        " <matplotlib.lines.Line2D at 0x106732810>,\n",
        " <matplotlib.lines.Line2D at 0x106723b90>,\n",
        " <matplotlib.lines.Line2D at 0x106723390>,\n",
        " <matplotlib.lines.Line2D at 0x106723810>,\n",
        " <matplotlib.lines.Line2D at 0x106723190>,\n",
        " <matplotlib.lines.Line2D at 0x1067231d0>,\n",
        " <matplotlib.lines.Line2D at 0x106723f10>,\n",
        " <matplotlib.lines.Line2D at 0x106723050>,\n",
        " <matplotlib.lines.Line2D at 0x106738290>,\n",
        " <matplotlib.lines.Line2D at 0x106738450>,\n",
        " <matplotlib.lines.Line2D at 0x106738610>,\n",
        " <matplotlib.lines.Line2D at 0x1067387d0>,\n",
        " <matplotlib.lines.Line2D at 0x106738990>,\n",
        " <matplotlib.lines.Line2D at 0x106738b50>,\n",
        " <matplotlib.lines.Line2D at 0x106738d10>,\n",
        " <matplotlib.lines.Line2D at 0x106738ed0>,\n",
        " <matplotlib.lines.Line2D at 0x10672c0d0>,\n",
        " <matplotlib.lines.Line2D at 0x10672c290>,\n",
        " <matplotlib.lines.Line2D at 0x10672c450>,\n",
        " <matplotlib.lines.Line2D at 0x10672c610>,\n",
        " <matplotlib.lines.Line2D at 0x10672c7d0>,\n",
        " <matplotlib.lines.Line2D at 0x106738d50>,\n",
        " <matplotlib.lines.Line2D at 0x10672cb50>,\n",
        " <matplotlib.lines.Line2D at 0x10672cd10>,\n",
        " <matplotlib.lines.Line2D at 0x10672ced0>,\n",
        " <matplotlib.lines.Line2D at 0x1067040d0>,\n",
        " <matplotlib.lines.Line2D at 0x106704290>,\n",
        " <matplotlib.lines.Line2D at 0x106704450>,\n",
        " <matplotlib.lines.Line2D at 0x10672c9d0>,\n",
        " <matplotlib.lines.Line2D at 0x1067047d0>,\n",
        " <matplotlib.lines.Line2D at 0x106704990>,\n",
        " <matplotlib.lines.Line2D at 0x106704b50>,\n",
        " <matplotlib.lines.Line2D at 0x106704d10>,\n",
        " <matplotlib.lines.Line2D at 0x106704ed0>,\n",
        " <matplotlib.lines.Line2D at 0x1067050d0>,\n",
        " <matplotlib.lines.Line2D at 0x106704650>,\n",
        " <matplotlib.lines.Line2D at 0x106705450>,\n",
        " <matplotlib.lines.Line2D at 0x106705610>,\n",
        " <matplotlib.lines.Line2D at 0x1067057d0>,\n",
        " <matplotlib.lines.Line2D at 0x106705990>,\n",
        " <matplotlib.lines.Line2D at 0x106705b50>,\n",
        " <matplotlib.lines.Line2D at 0x106705d10>,\n",
        " <matplotlib.lines.Line2D at 0x106705ed0>,\n",
        " <matplotlib.lines.Line2D at 0x1067240d0>]"
       ]
      },
      {
       "metadata": {},
       "output_type": "display_data",
       "png": "[encoded data removed]",
       "text": [
        "<matplotlib.figure.Figure at 0x1063fd2d0>"
       ]
      }
     ],
     "prompt_number": 6
    },
    {
     "cell_type": "code",
     "collapsed": false,
     "input": [],
     "language": "python",
     "metadata": {},
     "outputs": [],
     "prompt_number": 6
    }
   ],
   "metadata": {}
  }
 ]
}