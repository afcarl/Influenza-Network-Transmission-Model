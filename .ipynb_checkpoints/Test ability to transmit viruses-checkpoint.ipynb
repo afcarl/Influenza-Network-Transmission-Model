{
 "metadata": {
  "name": "",
  "signature": "sha256:0593458f6e742a0dc10dc60f979603948de645202f65e365fa9a95431cb139a1"
 },
 "nbformat": 3,
 "nbformat_minor": 0,
 "worksheets": [
  {
   "cells": [
    {
     "cell_type": "code",
     "collapsed": false,
     "input": [
      "from controller import Controller"
     ],
     "language": "python",
     "metadata": {},
     "outputs": [],
     "prompt_number": 1
    },
    {
     "cell_type": "code",
     "collapsed": false,
     "input": [
      "c = Controller()\n",
      "c.create_environment(num_hosts=100)\n",
      "i = 0\n",
      "for host in c.environments[0].hosts:\n",
      "    if i < 5:\n",
      "        c.create_virus(host)\n",
      "        i += 1"
     ],
     "language": "python",
     "metadata": {},
     "outputs": [],
     "prompt_number": 2
    },
    {
     "cell_type": "code",
     "collapsed": false,
     "input": [
      "timesteps = range(50)\n",
      "\n",
      "num_infected_hosts = []\n",
      "virus_counts = []\n",
      "\n",
      "for i in timesteps:\n",
      "    c.increment_timestep()\n",
      "    c.make_many_infections_happen(c.environments[0], 1)\n",
      "    \n",
      "    num_infected_hosts.append(c.get_num_of_infected_hosts(c.environments[0]))\n",
      "    virus_counts.append(c.get_host_virus_population(c.environments[0]))"
     ],
     "language": "python",
     "metadata": {},
     "outputs": [],
     "prompt_number": 3
    },
    {
     "cell_type": "code",
     "collapsed": false,
     "input": [
      "print num_infected_hosts"
     ],
     "language": "python",
     "metadata": {},
     "outputs": [
      {
       "output_type": "stream",
       "stream": "stdout",
       "text": [
        "[4, 4, 5, 5, 5, 5, 6, 5, 5, 4, 5, 6, 5, 5, 6, 7, 6, 5, 5, 6, 5, 4, 3, 3, 3, 4, 3, 3, 4, 4, 5, 3, 2, 3, 3, 4, 3, 2, 3, 4, 3, 3, 2, 3, 4, 4, 3, 4, 4, 4]\n"
       ]
      }
     ],
     "prompt_number": 19
    },
    {
     "cell_type": "code",
     "collapsed": false,
     "input": [
      "plt.plot(num_infected_hosts)"
     ],
     "language": "python",
     "metadata": {},
     "outputs": [
      {
       "metadata": {},
       "output_type": "pyout",
       "prompt_number": 20,
       "text": [
        "[<matplotlib.lines.Line2D at 0x10674f6d0>]"
       ]
      },
      {
       "metadata": {},
       "output_type": "display_data",
       "png": "[encoded data removed]",
       "text": [
        "<matplotlib.figure.Figure at 0x106642110>"
       ]
      }
     ],
     "prompt_number": 20
    },
    {
     "cell_type": "code",
     "collapsed": false,
     "input": [],
     "language": "python",
     "metadata": {},
     "outputs": []
    }
   ],
   "metadata": {}
  }
 ]
}