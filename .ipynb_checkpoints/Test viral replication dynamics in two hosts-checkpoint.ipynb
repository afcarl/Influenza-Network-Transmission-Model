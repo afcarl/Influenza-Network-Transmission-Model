{
 "metadata": {
  "name": "",
  "signature": "sha256:13c8a89b0b381eb641754d2a352219084e5090a5822ee6beb9ccc06203278671"
 },
 "nbformat": 3,
 "nbformat_minor": 0,
 "worksheets": [
  {
   "cells": [
    {
     "cell_type": "markdown",
     "metadata": {},
     "source": [
      "Here, I pass one virus to another host, and see what the replication dynamics are like."
     ]
    },
    {
     "cell_type": "code",
     "collapsed": false,
     "input": [
      "from controller import Controller"
     ],
     "language": "python",
     "metadata": {},
     "outputs": [],
     "prompt_number": 1
    },
    {
     "cell_type": "code",
     "collapsed": false,
     "input": [
      "c = Controller()"
     ],
     "language": "python",
     "metadata": {},
     "outputs": [],
     "prompt_number": 2
    },
    {
     "cell_type": "code",
     "collapsed": false,
     "input": [
      "c.create_environment(num_hosts=2)"
     ],
     "language": "python",
     "metadata": {},
     "outputs": [],
     "prompt_number": 3
    },
    {
     "cell_type": "code",
     "collapsed": false,
     "input": [
      "c.create_virus(host=c.environments[0].hosts[0])"
     ],
     "language": "python",
     "metadata": {},
     "outputs": [],
     "prompt_number": 4
    },
    {
     "cell_type": "code",
     "collapsed": false,
     "input": [
      "virus_counts = []\n",
      "for i in range(30):\n",
      "    print i\n",
      "    c.increment_timestep()\n",
      "    \n",
      "    virus_counts.append(c.get_host_virus_population(c.environments[0]))\n",
      "    \n",
      "    if i == 10:\n",
      "        c.make_one_infection_happen(c.environments[0])"
     ],
     "language": "python",
     "metadata": {},
     "outputs": [
      {
       "output_type": "stream",
       "stream": "stdout",
       "text": [
        "0\n",
        "Host 4394793616 currently has 1 viruses.\n",
        "Replicating 1 viruses.\n",
        "Adding viruses to host 4394793616\n",
        "Total of 8 viruses generated in host 4394793616. \n",
        "Host 4394793616 now has 9 viruses.\n",
        "Time Difference: 1, Probability: 0.333333333333\n",
        "Removing 2 viruses out of 9 viruses from host.\n",
        "Left with 7 viruses.\n",
        "1\n",
        "Host 4394793616 currently has 7 viruses.\n",
        "Replicating 7 viruses.\n",
        "Adding viruses to host 4394793616\n",
        "Adding viruses to host 4394793616\n",
        "Adding viruses to host 4394793616\n",
        "Adding viruses to host 4394793616\n",
        "Adding viruses to host 4394793616\n",
        "Adding viruses to host 4394793616\n",
        "Adding viruses to host 4394793616\n",
        "Total of 57 viruses generated in host 4394793616. \n",
        "Host 4394793616 now has 64 viruses.\n",
        "Time Difference: 2, Probability: 0.5\n",
        "Removing 34 viruses out of 64 viruses from host.\n",
        "Left with 30 viruses.\n",
        "2\n",
        "Host 4394793616 currently has 30 viruses.\n",
        "Replicating 25 viruses.\n",
        "Adding viruses to host 4394793616\n",
        "Adding viruses to host 4394793616\n",
        "Adding viruses to host 4394793616\n",
        "Adding viruses to host 4394793616\n",
        "Adding viruses to host 4394793616\n",
        "Adding viruses to host 4394793616\n",
        "Adding viruses to host 4394793616\n",
        "Adding viruses to host 4394793616\n",
        "Adding viruses to host 4394793616"
       ]
      },
      {
       "output_type": "stream",
       "stream": "stdout",
       "text": [
        "\n",
        "Adding viruses to host 4394793616\n",
        "Adding viruses to host 4394793616\n",
        "Adding viruses to host 4394793616\n",
        "Adding viruses to host 4394793616\n",
        "Adding viruses to host 4394793616\n",
        "Adding viruses to host 4394793616\n",
        "Adding viruses to host 4394793616\n",
        "Adding viruses to host 4394793616\n",
        "Adding viruses to host 4394793616\n",
        "Adding viruses to host 4394793616\n",
        "Adding viruses to host 4394793616\n",
        "Adding viruses to host 4394793616\n",
        "Adding viruses to host 4394793616\n",
        "Adding viruses to host 4394793616\n",
        "Adding viruses to host 4394793616"
       ]
      },
      {
       "output_type": "stream",
       "stream": "stdout",
       "text": [
        "\n",
        "Adding viruses to host 4394793616\n",
        "Total of 200 viruses generated in host 4394793616. \n",
        "Host 4394793616 now has 230 viruses.\n",
        "Time Difference: 3, Probability: 0.6\n",
        "Removing 141 viruses out of 230 viruses from host.\n",
        "Left with 89 viruses.\n",
        "3\n",
        "Host 4394793616 currently has 89 viruses.\n",
        "Replicating 34 viruses.\n",
        "Adding viruses to host 4394793616\n",
        "Adding viruses to host 4394793616\n",
        "Adding viruses to host 4394793616\n",
        "Adding viruses to host 4394793616\n",
        "Adding viruses to host 4394793616\n",
        "Adding viruses to host 4394793616\n",
        "Adding viruses to host 4394793616\n",
        "Adding viruses to host 4394793616\n",
        "Adding viruses to host 4394793616\n",
        "Adding viruses to host 4394793616\n",
        "Adding viruses to host 4394793616\n",
        "Adding viruses to host 4394793616"
       ]
      },
      {
       "output_type": "stream",
       "stream": "stdout",
       "text": [
        "\n",
        "Adding viruses to host 4394793616\n",
        "Adding viruses to host 4394793616\n",
        "Adding viruses to host 4394793616\n",
        "Adding viruses to host 4394793616\n",
        "Adding viruses to host 4394793616\n",
        "Adding viruses to host 4394793616\n",
        "Adding viruses to host 4394793616\n",
        "Adding viruses to host 4394793616\n",
        "Adding viruses to host 4394793616\n",
        "Adding viruses to host 4394793616\n",
        "Adding viruses to host 4394793616\n",
        "Adding viruses to host 4394793616\n",
        "Adding viruses to host 4394793616\n",
        "Adding viruses to host 4394793616"
       ]
      },
      {
       "output_type": "stream",
       "stream": "stdout",
       "text": [
        "\n",
        "Adding viruses to host 4394793616\n",
        "Adding viruses to host 4394793616\n",
        "Adding viruses to host 4394793616\n",
        "Adding viruses to host 4394793616\n",
        "Adding viruses to host 4394793616\n",
        "Adding viruses to host 4394793616\n",
        "Adding viruses to host 4394793616\n",
        "Adding viruses to host 4394793616\n",
        "Total of 261 viruses generated in host 4394793616. \n",
        "Host 4394793616 now has 350 viruses.\n",
        "Time Difference: 4, Probability: 0.666666666667\n",
        "Removing 220 viruses out of 350 viruses from host.\n",
        "Left with 130 viruses.\n",
        "4\n",
        "Host 4394793616 currently has 130 viruses.\n",
        "Replicating 98 viruses.\n",
        "Adding viruses to host 4394793616\n",
        "Adding viruses to host 4394793616\n",
        "Adding viruses to host 4394793616\n",
        "Adding viruses to host 4394793616"
       ]
      },
      {
       "output_type": "stream",
       "stream": "stdout",
       "text": [
        "\n",
        "Adding viruses to host 4394793616\n",
        "Adding viruses to host 4394793616\n",
        "Adding viruses to host 4394793616\n",
        "Adding viruses to host 4394793616\n",
        "Adding viruses to host 4394793616\n",
        "Adding viruses to host 4394793616\n",
        "Adding viruses to host 4394793616\n",
        "Adding viruses to host 4394793616\n",
        "Adding viruses to host 4394793616\n",
        "Adding viruses to host 4394793616\n",
        "Adding viruses to host 4394793616\n",
        "Adding viruses to host 4394793616"
       ]
      },
      {
       "output_type": "stream",
       "stream": "stdout",
       "text": [
        "\n",
        "Adding viruses to host 4394793616\n",
        "Adding viruses to host 4394793616\n",
        "Adding viruses to host 4394793616\n",
        "Adding viruses to host 4394793616\n",
        "Adding viruses to host 4394793616\n",
        "Adding viruses to host 4394793616\n",
        "Adding viruses to host 4394793616\n",
        "Adding viruses to host 4394793616\n",
        "Adding viruses to host 4394793616\n",
        "Adding viruses to host 4394793616\n",
        "Adding viruses to host 4394793616"
       ]
      },
      {
       "output_type": "stream",
       "stream": "stdout",
       "text": [
        "\n",
        "Adding viruses to host 4394793616\n",
        "Adding viruses to host 4394793616\n",
        "Adding viruses to host 4394793616\n",
        "Adding viruses to host 4394793616\n",
        "Adding viruses to host 4394793616\n",
        "Adding viruses to host 4394793616\n",
        "Adding viruses to host 4394793616\n",
        "Adding viruses to host 4394793616\n",
        "Adding viruses to host 4394793616\n",
        "Adding viruses to host 4394793616"
       ]
      },
      {
       "output_type": "stream",
       "stream": "stdout",
       "text": [
        "\n",
        "Adding viruses to host 4394793616\n",
        "Adding viruses to host 4394793616\n",
        "Adding viruses to host 4394793616\n",
        "Adding viruses to host 4394793616\n",
        "Adding viruses to host 4394793616\n",
        "Adding viruses to host 4394793616\n",
        "Adding viruses to host 4394793616\n",
        "Adding viruses to host 4394793616\n",
        "Adding viruses to host 4394793616\n",
        "Adding viruses to host 4394793616\n",
        "Adding viruses to host 4394793616\n",
        "Adding viruses to host 4394793616"
       ]
      },
      {
       "output_type": "stream",
       "stream": "stdout",
       "text": [
        "\n",
        "Adding viruses to host 4394793616\n",
        "Adding viruses to host 4394793616\n",
        "Adding viruses to host 4394793616\n",
        "Adding viruses to host 4394793616\n",
        "Adding viruses to host 4394793616\n",
        "Adding viruses to host 4394793616\n",
        "Adding viruses to host 4394793616\n",
        "Adding viruses to host 4394793616\n",
        "Adding viruses to host 4394793616"
       ]
      },
      {
       "output_type": "stream",
       "stream": "stdout",
       "text": [
        "\n",
        "Adding viruses to host 4394793616\n",
        "Adding viruses to host 4394793616\n",
        "Adding viruses to host 4394793616\n",
        "Adding viruses to host 4394793616\n",
        "Adding viruses to host 4394793616\n",
        "Adding viruses to host 4394793616\n",
        "Adding viruses to host 4394793616\n",
        "Adding viruses to host 4394793616\n",
        "Adding viruses to host 4394793616"
       ]
      },
      {
       "output_type": "stream",
       "stream": "stdout",
       "text": [
        "\n",
        "Adding viruses to host 4394793616\n",
        "Adding viruses to host 4394793616\n",
        "Adding viruses to host 4394793616\n",
        "Adding viruses to host 4394793616\n",
        "Adding viruses to host 4394793616\n",
        "Adding viruses to host 4394793616\n",
        "Adding viruses to host 4394793616\n",
        "Adding viruses to host 4394793616\n",
        "Adding viruses to host 4394793616\n",
        "Adding viruses to host 4394793616\n",
        "Adding viruses to host 4394793616"
       ]
      },
      {
       "output_type": "stream",
       "stream": "stdout",
       "text": [
        "\n",
        "Adding viruses to host 4394793616\n",
        "Adding viruses to host 4394793616\n",
        "Adding viruses to host 4394793616\n",
        "Adding viruses to host 4394793616\n",
        "Adding viruses to host 4394793616\n",
        "Adding viruses to host 4394793616\n",
        "Adding viruses to host 4394793616\n",
        "Adding viruses to host 4394793616"
       ]
      },
      {
       "output_type": "stream",
       "stream": "stdout",
       "text": [
        "\n",
        "Adding viruses to host 4394793616\n",
        "Adding viruses to host 4394793616\n",
        "Adding viruses to host 4394793616\n",
        "Adding viruses to host 4394793616\n",
        "Adding viruses to host 4394793616\n",
        "Adding viruses to host 4394793616\n",
        "Adding viruses to host 4394793616\n",
        "Adding viruses to host 4394793616\n",
        "Adding viruses to host 4394793616\n",
        "Adding viruses to host 4394793616\n",
        "Adding viruses to host 4394793616\n",
        "Adding viruses to host 4394793616"
       ]
      },
      {
       "output_type": "stream",
       "stream": "stdout",
       "text": [
        "\n",
        "Total of 724 viruses generated in host 4394793616. \n",
        "Host 4394793616 now has 854 viruses.\n",
        "Time Difference: 5, Probability: 0.714285714286\n",
        "Removing 608 viruses out of 854 viruses from host.\n",
        "Left with 246 viruses.\n",
        "5\n",
        "Host 4394793616 currently has 246 viruses.\n",
        "Replicating 142 viruses.\n",
        "Adding viruses to host 4394793616\n",
        "Adding viruses to host 4394793616\n",
        "Adding viruses to host 4394793616\n",
        "Adding viruses to host 4394793616\n",
        "Adding viruses to host 4394793616\n",
        "Adding viruses to host 4394793616\n",
        "Adding viruses to host 4394793616\n",
        "Adding viruses to host 4394793616\n",
        "Adding viruses to host 4394793616"
       ]
      },
      {
       "output_type": "stream",
       "stream": "stdout",
       "text": [
        "\n",
        "Adding viruses to host 4394793616\n",
        "Adding viruses to host 4394793616\n",
        "Adding viruses to host 4394793616\n",
        "Adding viruses to host 4394793616\n",
        "Adding viruses to host 4394793616\n",
        "Adding viruses to host 4394793616\n",
        "Adding viruses to host 4394793616\n",
        "Adding viruses to host 4394793616\n",
        "Adding viruses to host 4394793616\n",
        "Adding viruses to host 4394793616"
       ]
      },
      {
       "output_type": "stream",
       "stream": "stdout",
       "text": [
        "\n",
        "Adding viruses to host 4394793616\n",
        "Adding viruses to host 4394793616\n",
        "Adding viruses to host 4394793616\n",
        "Adding viruses to host 4394793616\n",
        "Adding viruses to host 4394793616\n",
        "Adding viruses to host 4394793616\n",
        "Adding viruses to host 4394793616\n",
        "Adding viruses to host 4394793616\n",
        "Adding viruses to host 4394793616\n",
        "Adding viruses to host 4394793616\n",
        "Adding viruses to host 4394793616"
       ]
      },
      {
       "output_type": "stream",
       "stream": "stdout",
       "text": [
        "\n",
        "Adding viruses to host 4394793616\n",
        "Adding viruses to host 4394793616\n",
        "Adding viruses to host 4394793616\n",
        "Adding viruses to host 4394793616\n",
        "Adding viruses to host 4394793616\n",
        "Adding viruses to host 4394793616\n",
        "Adding viruses to host 4394793616\n",
        "Adding viruses to host 4394793616\n",
        "Adding viruses to host 4394793616"
       ]
      },
      {
       "output_type": "stream",
       "stream": "stdout",
       "text": [
        "\n",
        "Adding viruses to host 4394793616\n",
        "Adding viruses to host 4394793616\n",
        "Adding viruses to host 4394793616\n",
        "Adding viruses to host 4394793616\n",
        "Adding viruses to host 4394793616\n",
        "Adding viruses to host 4394793616\n",
        "Adding viruses to host 4394793616\n",
        "Adding viruses to host 4394793616"
       ]
      },
      {
       "output_type": "stream",
       "stream": "stdout",
       "text": [
        "\n",
        "Adding viruses to host 4394793616\n",
        "Adding viruses to host 4394793616\n",
        "Adding viruses to host 4394793616\n",
        "Adding viruses to host 4394793616\n",
        "Adding viruses to host 4394793616\n",
        "Adding viruses to host 4394793616\n",
        "Adding viruses to host 4394793616\n",
        "Adding viruses to host 4394793616\n",
        "Adding viruses to host 4394793616\n",
        "Adding viruses to host 4394793616\n",
        "Adding viruses to host 4394793616\n",
        "Adding viruses to host 4394793616"
       ]
      },
      {
       "output_type": "stream",
       "stream": "stdout",
       "text": [
        "\n",
        "Adding viruses to host 4394793616\n",
        "Adding viruses to host 4394793616\n",
        "Adding viruses to host 4394793616\n",
        "Adding viruses to host 4394793616\n",
        "Adding viruses to host 4394793616\n",
        "Adding viruses to host 4394793616\n",
        "Adding viruses to host 4394793616\n",
        "Adding viruses to host 4394793616\n",
        "Adding viruses to host 4394793616\n",
        "Adding viruses to host 4394793616"
       ]
      },
      {
       "output_type": "stream",
       "stream": "stdout",
       "text": [
        "\n",
        "Adding viruses to host 4394793616\n",
        "Adding viruses to host 4394793616\n",
        "Adding viruses to host 4394793616\n",
        "Adding viruses to host 4394793616\n",
        "Adding viruses to host 4394793616\n",
        "Adding viruses to host 4394793616\n",
        "Adding viruses to host 4394793616\n",
        "Adding viruses to host 4394793616\n",
        "Adding viruses to host 4394793616\n",
        "Adding viruses to host 4394793616\n",
        "Adding viruses to host 4394793616\n",
        "Adding viruses to host 4394793616"
       ]
      },
      {
       "output_type": "stream",
       "stream": "stdout",
       "text": [
        "\n",
        "Adding viruses to host 4394793616\n",
        "Adding viruses to host 4394793616\n",
        "Adding viruses to host 4394793616\n",
        "Adding viruses to host 4394793616\n",
        "Adding viruses to host 4394793616\n",
        "Adding viruses to host 4394793616\n",
        "Adding viruses to host 4394793616\n",
        "Adding viruses to host 4394793616\n",
        "Adding viruses to host 4394793616\n",
        "Adding viruses to host 4394793616\n",
        "Adding viruses to host 4394793616"
       ]
      },
      {
       "output_type": "stream",
       "stream": "stdout",
       "text": [
        "\n",
        "Adding viruses to host 4394793616\n",
        "Adding viruses to host 4394793616\n",
        "Adding viruses to host 4394793616\n",
        "Adding viruses to host 4394793616\n",
        "Adding viruses to host 4394793616\n",
        "Adding viruses to host 4394793616\n",
        "Adding viruses to host 4394793616\n",
        "Adding viruses to host 4394793616\n",
        "Adding viruses to host 4394793616\n",
        "Adding viruses to host 4394793616\n",
        "Adding viruses to host 4394793616\n",
        "Adding viruses to host 4394793616"
       ]
      },
      {
       "output_type": "stream",
       "stream": "stdout",
       "text": [
        "\n",
        "Adding viruses to host 4394793616\n",
        "Adding viruses to host 4394793616\n",
        "Adding viruses to host 4394793616\n",
        "Adding viruses to host 4394793616\n",
        "Adding viruses to host 4394793616\n",
        "Adding viruses to host 4394793616\n",
        "Adding viruses to host 4394793616\n",
        "Adding viruses to host 4394793616\n",
        "Adding viruses to host 4394793616\n",
        "Adding viruses to host 4394793616\n",
        "Adding viruses to host 4394793616\n",
        "Adding viruses to host 4394793616\n",
        "Adding viruses to host 4394793616"
       ]
      },
      {
       "output_type": "stream",
       "stream": "stdout",
       "text": [
        "\n",
        "Adding viruses to host 4394793616\n",
        "Adding viruses to host 4394793616\n",
        "Adding viruses to host 4394793616\n",
        "Adding viruses to host 4394793616\n",
        "Adding viruses to host 4394793616\n",
        "Adding viruses to host 4394793616\n",
        "Adding viruses to host 4394793616\n",
        "Adding viruses to host 4394793616"
       ]
      },
      {
       "output_type": "stream",
       "stream": "stdout",
       "text": [
        "\n",
        "Adding viruses to host 4394793616\n",
        "Adding viruses to host 4394793616\n",
        "Adding viruses to host 4394793616\n",
        "Adding viruses to host 4394793616\n",
        "Adding viruses to host 4394793616\n",
        "Adding viruses to host 4394793616\n",
        "Adding viruses to host 4394793616\n",
        "Adding viruses to host 4394793616\n",
        "Adding viruses to host 4394793616\n",
        "Adding viruses to host 4394793616"
       ]
      },
      {
       "output_type": "stream",
       "stream": "stdout",
       "text": [
        "\n",
        "Adding viruses to host 4394793616\n",
        "Adding viruses to host 4394793616\n",
        "Adding viruses to host 4394793616\n",
        "Adding viruses to host 4394793616\n",
        "Adding viruses to host 4394793616\n",
        "Adding viruses to host 4394793616\n",
        "Adding viruses to host 4394793616\n",
        "Total of 1054 viruses generated in host 4394793616. \n",
        "Host 4394793616 now has 1300 viruses.\n",
        "Time Difference: 6, Probability: 0.75\n",
        "Removing 971 viruses out of 1300 viruses from host.\n",
        "Left with 329 viruses.\n",
        "6\n",
        "Host 4394793616 currently has 329 viruses.\n",
        "Replicating 220 viruses.\n",
        "Adding viruses to host 4394793616"
       ]
      },
      {
       "output_type": "stream",
       "stream": "stdout",
       "text": [
        "\n",
        "Adding viruses to host 4394793616\n",
        "Adding viruses to host 4394793616\n",
        "Adding viruses to host 4394793616\n",
        "Adding viruses to host 4394793616\n",
        "Adding viruses to host 4394793616\n",
        "Adding viruses to host 4394793616\n",
        "Adding viruses to host 4394793616\n",
        "Adding viruses to host 4394793616\n",
        "Adding viruses to host 4394793616\n",
        "Adding viruses to host 4394793616\n",
        "Adding viruses to host 4394793616\n",
        "Adding viruses to host 4394793616\n",
        "Adding viruses to host 4394793616"
       ]
      },
      {
       "output_type": "stream",
       "stream": "stdout",
       "text": [
        "\n",
        "Adding viruses to host 4394793616\n",
        "Adding viruses to host 4394793616\n",
        "Adding viruses to host 4394793616\n",
        "Adding viruses to host 4394793616\n",
        "Adding viruses to host 4394793616\n",
        "Adding viruses to host 4394793616\n",
        "Adding viruses to host 4394793616\n",
        "Adding viruses to host 4394793616\n",
        "Adding viruses to host 4394793616\n",
        "Adding viruses to host 4394793616"
       ]
      },
      {
       "output_type": "stream",
       "stream": "stdout",
       "text": [
        "\n",
        "Adding viruses to host 4394793616\n",
        "Adding viruses to host 4394793616\n",
        "Adding viruses to host 4394793616\n",
        "Adding viruses to host 4394793616\n",
        "Adding viruses to host 4394793616\n",
        "Adding viruses to host 4394793616\n",
        "Adding viruses to host 4394793616\n",
        "Adding viruses to host 4394793616\n",
        "Adding viruses to host 4394793616\n",
        "Adding viruses to host 4394793616"
       ]
      },
      {
       "output_type": "stream",
       "stream": "stdout",
       "text": [
        "\n",
        "Adding viruses to host 4394793616\n",
        "Adding viruses to host 4394793616\n",
        "Adding viruses to host 4394793616\n",
        "Adding viruses to host 4394793616\n",
        "Adding viruses to host 4394793616\n",
        "Adding viruses to host 4394793616\n",
        "Adding viruses to host 4394793616\n",
        "Adding viruses to host 4394793616\n",
        "Adding viruses to host 4394793616"
       ]
      },
      {
       "output_type": "stream",
       "stream": "stdout",
       "text": [
        "\n",
        "Adding viruses to host 4394793616\n",
        "Adding viruses to host 4394793616\n",
        "Adding viruses to host 4394793616\n",
        "Adding viruses to host 4394793616\n",
        "Adding viruses to host 4394793616\n",
        "Adding viruses to host 4394793616\n",
        "Adding viruses to host 4394793616"
       ]
      },
      {
       "output_type": "stream",
       "stream": "stdout",
       "text": [
        "\n",
        "Adding viruses to host 4394793616\n",
        "Adding viruses to host 4394793616\n",
        "Adding viruses to host 4394793616\n",
        "Adding viruses to host 4394793616\n",
        "Adding viruses to host 4394793616\n",
        "Adding viruses to host 4394793616\n",
        "Adding viruses to host 4394793616\n",
        "Adding viruses to host 4394793616\n",
        "Adding viruses to host 4394793616\n",
        "Adding viruses to host 4394793616\n",
        "Adding viruses to host 4394793616"
       ]
      },
      {
       "output_type": "stream",
       "stream": "stdout",
       "text": [
        "\n",
        "Adding viruses to host 4394793616\n",
        "Adding viruses to host 4394793616\n",
        "Adding viruses to host 4394793616\n",
        "Adding viruses to host 4394793616\n",
        "Adding viruses to host 4394793616\n",
        "Adding viruses to host 4394793616\n",
        "Adding viruses to host 4394793616"
       ]
      },
      {
       "output_type": "stream",
       "stream": "stdout",
       "text": [
        "\n",
        "Adding viruses to host 4394793616\n",
        "Adding viruses to host 4394793616\n",
        "Adding viruses to host 4394793616\n",
        "Adding viruses to host 4394793616\n",
        "Adding viruses to host 4394793616\n",
        "Adding viruses to host 4394793616\n",
        "Adding viruses to host 4394793616\n",
        "Adding viruses to host 4394793616\n",
        "Adding viruses to host 4394793616\n",
        "Adding viruses to host 4394793616\n",
        "Adding viruses to host 4394793616"
       ]
      },
      {
       "output_type": "stream",
       "stream": "stdout",
       "text": [
        "\n",
        "Adding viruses to host 4394793616\n",
        "Adding viruses to host 4394793616\n",
        "Adding viruses to host 4394793616\n",
        "Adding viruses to host 4394793616\n",
        "Adding viruses to host 4394793616\n",
        "Adding viruses to host 4394793616\n",
        "Adding viruses to host 4394793616\n",
        "Adding viruses to host 4394793616\n",
        "Adding viruses to host 4394793616\n",
        "Adding viruses to host 4394793616\n",
        "Adding viruses to host 4394793616\n",
        "Adding viruses to host 4394793616"
       ]
      },
      {
       "output_type": "stream",
       "stream": "stdout",
       "text": [
        "\n",
        "Adding viruses to host 4394793616\n",
        "Adding viruses to host 4394793616\n",
        "Adding viruses to host 4394793616\n",
        "Adding viruses to host 4394793616\n",
        "Adding viruses to host 4394793616\n",
        "Adding viruses to host 4394793616\n",
        "Adding viruses to host 4394793616\n",
        "Adding viruses to host 4394793616\n",
        "Adding viruses to host 4394793616\n",
        "Adding viruses to host 4394793616"
       ]
      },
      {
       "output_type": "stream",
       "stream": "stdout",
       "text": [
        "\n",
        "Adding viruses to host 4394793616\n",
        "Adding viruses to host 4394793616\n",
        "Adding viruses to host 4394793616\n",
        "Adding viruses to host 4394793616\n",
        "Adding viruses to host 4394793616\n",
        "Adding viruses to host 4394793616\n",
        "Adding viruses to host 4394793616\n",
        "Adding viruses to host 4394793616\n",
        "Adding viruses to host 4394793616\n",
        "Adding viruses to host 4394793616\n",
        "Adding viruses to host 4394793616\n",
        "Adding viruses to host 4394793616\n",
        "Adding viruses to host 4394793616"
       ]
      },
      {
       "output_type": "stream",
       "stream": "stdout",
       "text": [
        "\n",
        "Adding viruses to host 4394793616\n",
        "Adding viruses to host 4394793616\n",
        "Adding viruses to host 4394793616\n",
        "Adding viruses to host 4394793616\n",
        "Adding viruses to host 4394793616\n",
        "Adding viruses to host 4394793616\n",
        "Adding viruses to host 4394793616\n",
        "Adding viruses to host 4394793616\n",
        "Adding viruses to host 4394793616\n",
        "Adding viruses to host 4394793616\n",
        "Adding viruses to host 4394793616\n",
        "Adding viruses to host 4394793616\n",
        "Adding viruses to host 4394793616"
       ]
      },
      {
       "output_type": "stream",
       "stream": "stdout",
       "text": [
        "\n",
        "Adding viruses to host 4394793616\n",
        "Adding viruses to host 4394793616\n",
        "Adding viruses to host 4394793616\n",
        "Adding viruses to host 4394793616\n",
        "Adding viruses to host 4394793616\n",
        "Adding viruses to host 4394793616\n",
        "Adding viruses to host 4394793616\n",
        "Adding viruses to host 4394793616\n",
        "Adding viruses to host 4394793616\n",
        "Adding viruses to host 4394793616\n",
        "Adding viruses to host 4394793616"
       ]
      },
      {
       "output_type": "stream",
       "stream": "stdout",
       "text": [
        "\n",
        "Adding viruses to host 4394793616\n",
        "Adding viruses to host 4394793616\n",
        "Adding viruses to host 4394793616\n",
        "Adding viruses to host 4394793616\n",
        "Adding viruses to host 4394793616\n",
        "Adding viruses to host 4394793616\n",
        "Adding viruses to host 4394793616\n",
        "Adding viruses to host 4394793616\n",
        "Adding viruses to host 4394793616\n",
        "Adding viruses to host 4394793616\n",
        "Adding viruses to host 4394793616\n",
        "Adding viruses to host 4394793616"
       ]
      },
      {
       "output_type": "stream",
       "stream": "stdout",
       "text": [
        "\n",
        "Adding viruses to host 4394793616\n",
        "Adding viruses to host 4394793616\n",
        "Adding viruses to host 4394793616\n",
        "Adding viruses to host 4394793616\n",
        "Adding viruses to host 4394793616\n",
        "Adding viruses to host 4394793616\n",
        "Adding viruses to host 4394793616\n",
        "Adding viruses to host 4394793616\n",
        "Adding viruses to host 4394793616"
       ]
      },
      {
       "output_type": "stream",
       "stream": "stdout",
       "text": [
        "\n",
        "Adding viruses to host 4394793616\n",
        "Adding viruses to host 4394793616\n",
        "Adding viruses to host 4394793616\n",
        "Adding viruses to host 4394793616\n",
        "Adding viruses to host 4394793616\n",
        "Adding viruses to host 4394793616\n",
        "Adding viruses to host 4394793616\n",
        "Adding viruses to host 4394793616\n",
        "Adding viruses to host 4394793616\n",
        "Adding viruses to host 4394793616\n",
        "Adding viruses to host 4394793616"
       ]
      },
      {
       "output_type": "stream",
       "stream": "stdout",
       "text": [
        "\n",
        "Adding viruses to host 4394793616\n",
        "Adding viruses to host 4394793616\n",
        "Adding viruses to host 4394793616\n",
        "Adding viruses to host 4394793616\n",
        "Adding viruses to host 4394793616\n",
        "Adding viruses to host 4394793616\n",
        "Adding viruses to host 4394793616\n",
        "Adding viruses to host 4394793616\n",
        "Adding viruses to host 4394793616\n",
        "Adding viruses to host 4394793616\n",
        "Adding viruses to host 4394793616\n",
        "Adding viruses to host 4394793616\n",
        "Adding viruses to host 4394793616\n",
        "Adding viruses to host 4394793616"
       ]
      },
      {
       "output_type": "stream",
       "stream": "stdout",
       "text": [
        "\n",
        "Adding viruses to host 4394793616\n",
        "Adding viruses to host 4394793616\n",
        "Adding viruses to host 4394793616\n",
        "Adding viruses to host 4394793616\n",
        "Adding viruses to host 4394793616\n",
        "Adding viruses to host 4394793616\n",
        "Adding viruses to host 4394793616\n",
        "Adding viruses to host 4394793616\n",
        "Adding viruses to host 4394793616\n",
        "Adding viruses to host 4394793616\n",
        "Adding viruses to host 4394793616"
       ]
      },
      {
       "output_type": "stream",
       "stream": "stdout",
       "text": [
        "\n",
        "Adding viruses to host 4394793616\n",
        "Adding viruses to host 4394793616\n",
        "Adding viruses to host 4394793616\n",
        "Adding viruses to host 4394793616\n",
        "Adding viruses to host 4394793616\n",
        "Adding viruses to host 4394793616\n",
        "Adding viruses to host 4394793616\n",
        "Adding viruses to host 4394793616\n",
        "Adding viruses to host 4394793616\n",
        "Adding viruses to host 4394793616\n",
        "Adding viruses to host 4394793616\n",
        "Adding viruses to host 4394793616\n",
        "Adding viruses to host 4394793616"
       ]
      },
      {
       "output_type": "stream",
       "stream": "stdout",
       "text": [
        "\n",
        "Adding viruses to host 4394793616\n",
        "Adding viruses to host 4394793616\n",
        "Adding viruses to host 4394793616\n",
        "Adding viruses to host 4394793616\n",
        "Adding viruses to host 4394793616\n",
        "Adding viruses to host 4394793616\n",
        "Adding viruses to host 4394793616\n",
        "Adding viruses to host 4394793616\n",
        "Adding viruses to host 4394793616\n",
        "Adding viruses to host 4394793616\n",
        "Adding viruses to host 4394793616"
       ]
      },
      {
       "output_type": "stream",
       "stream": "stdout",
       "text": [
        "\n",
        "Adding viruses to host 4394793616\n",
        "Total of 1634 viruses generated in host 4394793616. \n",
        "Host 4394793616 now has 1963 viruses.\n",
        "Time Difference: 7, Probability: 0.777777777778\n",
        "Removing 1559 viruses out of 1963 viruses from host.\n",
        "Left with 404 viruses."
       ]
      },
      {
       "output_type": "stream",
       "stream": "stdout",
       "text": [
        "\n",
        "7\n",
        "Host 4394793616 currently has 404 viruses.\n",
        "Replicating 262 viruses.\n",
        "Adding viruses to host 4394793616\n",
        "Adding viruses to host 4394793616\n",
        "Adding viruses to host 4394793616\n",
        "Adding viruses to host 4394793616\n",
        "Adding viruses to host 4394793616\n",
        "Adding viruses to host 4394793616\n",
        "Adding viruses to host 4394793616\n",
        "Adding viruses to host 4394793616"
       ]
      },
      {
       "output_type": "stream",
       "stream": "stdout",
       "text": [
        "\n",
        "Adding viruses to host 4394793616\n",
        "Adding viruses to host 4394793616\n",
        "Adding viruses to host 4394793616\n",
        "Adding viruses to host 4394793616\n",
        "Adding viruses to host 4394793616\n",
        "Adding viruses to host 4394793616\n",
        "Adding viruses to host 4394793616\n",
        "Adding viruses to host 4394793616"
       ]
      },
      {
       "output_type": "stream",
       "stream": "stdout",
       "text": [
        "\n",
        "Adding viruses to host 4394793616\n",
        "Adding viruses to host 4394793616\n",
        "Adding viruses to host 4394793616\n",
        "Adding viruses to host 4394793616\n",
        "Adding viruses to host 4394793616\n",
        "Adding viruses to host 4394793616\n",
        "Adding viruses to host 4394793616\n",
        "Adding viruses to host 4394793616\n",
        "Adding viruses to host 4394793616\n",
        "Adding viruses to host 4394793616"
       ]
      },
      {
       "output_type": "stream",
       "stream": "stdout",
       "text": [
        "\n",
        "Adding viruses to host 4394793616\n",
        "Adding viruses to host 4394793616\n",
        "Adding viruses to host 4394793616\n",
        "Adding viruses to host 4394793616\n",
        "Adding viruses to host 4394793616\n",
        "Adding viruses to host 4394793616\n",
        "Adding viruses to host 4394793616\n",
        "Adding viruses to host 4394793616\n",
        "Adding viruses to host 4394793616"
       ]
      },
      {
       "output_type": "stream",
       "stream": "stdout",
       "text": [
        "\n",
        "Adding viruses to host 4394793616\n",
        "Adding viruses to host 4394793616\n",
        "Adding viruses to host 4394793616\n",
        "Adding viruses to host 4394793616\n",
        "Adding viruses to host 4394793616\n",
        "Adding viruses to host 4394793616\n",
        "Adding viruses to host 4394793616\n",
        "Adding viruses to host 4394793616\n",
        "Adding viruses to host 4394793616"
       ]
      },
      {
       "output_type": "stream",
       "stream": "stdout",
       "text": [
        "\n",
        "Adding viruses to host 4394793616\n",
        "Adding viruses to host 4394793616\n",
        "Adding viruses to host 4394793616\n",
        "Adding viruses to host 4394793616\n",
        "Adding viruses to host 4394793616\n",
        "Adding viruses to host 4394793616\n",
        "Adding viruses to host 4394793616"
       ]
      },
      {
       "output_type": "stream",
       "stream": "stdout",
       "text": [
        "\n",
        "Adding viruses to host 4394793616\n",
        "Adding viruses to host 4394793616\n",
        "Adding viruses to host 4394793616\n",
        "Adding viruses to host 4394793616\n",
        "Adding viruses to host 4394793616\n",
        "Adding viruses to host 4394793616\n",
        "Adding viruses to host 4394793616\n",
        "Adding viruses to host 4394793616"
       ]
      },
      {
       "output_type": "stream",
       "stream": "stdout",
       "text": [
        "\n",
        "Adding viruses to host 4394793616\n",
        "Adding viruses to host 4394793616\n",
        "Adding viruses to host 4394793616\n",
        "Adding viruses to host 4394793616\n",
        "Adding viruses to host 4394793616\n",
        "Adding viruses to host 4394793616\n",
        "Adding viruses to host 4394793616\n",
        "Adding viruses to host 4394793616"
       ]
      },
      {
       "output_type": "stream",
       "stream": "stdout",
       "text": [
        "\n",
        "Adding viruses to host 4394793616\n",
        "Adding viruses to host 4394793616\n",
        "Adding viruses to host 4394793616\n",
        "Adding viruses to host 4394793616\n",
        "Adding viruses to host 4394793616\n",
        "Adding viruses to host 4394793616\n",
        "Adding viruses to host 4394793616\n",
        "Adding viruses to host 4394793616\n",
        "Adding viruses to host 4394793616\n",
        "Adding viruses to host 4394793616\n",
        "Adding viruses to host 4394793616"
       ]
      },
      {
       "output_type": "stream",
       "stream": "stdout",
       "text": [
        "\n",
        "Adding viruses to host 4394793616\n",
        "Adding viruses to host 4394793616\n",
        "Adding viruses to host 4394793616\n",
        "Adding viruses to host 4394793616\n",
        "Adding viruses to host 4394793616\n",
        "Adding viruses to host 4394793616\n",
        "Adding viruses to host 4394793616\n",
        "Adding viruses to host 4394793616"
       ]
      },
      {
       "output_type": "stream",
       "stream": "stdout",
       "text": [
        "\n",
        "Adding viruses to host 4394793616\n",
        "Adding viruses to host 4394793616\n",
        "Adding viruses to host 4394793616\n",
        "Adding viruses to host 4394793616\n",
        "Adding viruses to host 4394793616\n",
        "Adding viruses to host 4394793616\n",
        "Adding viruses to host 4394793616\n",
        "Adding viruses to host 4394793616\n",
        "Adding viruses to host 4394793616\n",
        "Adding viruses to host 4394793616\n",
        "Adding viruses to host 4394793616"
       ]
      },
      {
       "output_type": "stream",
       "stream": "stdout",
       "text": [
        "\n",
        "Adding viruses to host 4394793616\n",
        "Adding viruses to host 4394793616\n",
        "Adding viruses to host 4394793616\n",
        "Adding viruses to host 4394793616\n",
        "Adding viruses to host 4394793616\n",
        "Adding viruses to host 4394793616\n",
        "Adding viruses to host 4394793616\n",
        "Adding viruses to host 4394793616\n",
        "Adding viruses to host 4394793616\n",
        "Adding viruses to host 4394793616\n",
        "Adding viruses to host 4394793616"
       ]
      },
      {
       "output_type": "stream",
       "stream": "stdout",
       "text": [
        "\n",
        "Adding viruses to host 4394793616\n",
        "Adding viruses to host 4394793616\n",
        "Adding viruses to host 4394793616\n",
        "Adding viruses to host 4394793616\n",
        "Adding viruses to host 4394793616\n",
        "Adding viruses to host 4394793616\n",
        "Adding viruses to host 4394793616\n",
        "Adding viruses to host 4394793616\n",
        "Adding viruses to host 4394793616\n",
        "Adding viruses to host 4394793616"
       ]
      },
      {
       "output_type": "stream",
       "stream": "stdout",
       "text": [
        "\n",
        "Adding viruses to host 4394793616\n",
        "Adding viruses to host 4394793616\n",
        "Adding viruses to host 4394793616\n",
        "Adding viruses to host 4394793616\n",
        "Adding viruses to host 4394793616\n",
        "Adding viruses to host 4394793616\n",
        "Adding viruses to host 4394793616\n",
        "Adding viruses to host 4394793616\n",
        "Adding viruses to host 4394793616\n",
        "Adding viruses to host 4394793616\n",
        "Adding viruses to host 4394793616\n",
        "Adding viruses to host 4394793616"
       ]
      },
      {
       "output_type": "stream",
       "stream": "stdout",
       "text": [
        "\n",
        "Adding viruses to host 4394793616\n",
        "Adding viruses to host 4394793616\n",
        "Adding viruses to host 4394793616\n",
        "Adding viruses to host 4394793616\n",
        "Adding viruses to host 4394793616\n",
        "Adding viruses to host 4394793616\n",
        "Adding viruses to host 4394793616\n",
        "Adding viruses to host 4394793616\n",
        "Adding viruses to host 4394793616\n",
        "Adding viruses to host 4394793616\n",
        "Adding viruses to host 4394793616\n",
        "Adding viruses to host 4394793616"
       ]
      },
      {
       "output_type": "stream",
       "stream": "stdout",
       "text": [
        "\n",
        "Adding viruses to host 4394793616\n",
        "Adding viruses to host 4394793616\n",
        "Adding viruses to host 4394793616\n",
        "Adding viruses to host 4394793616\n",
        "Adding viruses to host 4394793616\n",
        "Adding viruses to host 4394793616\n",
        "Adding viruses to host 4394793616\n",
        "Adding viruses to host 4394793616\n",
        "Adding viruses to host 4394793616\n",
        "Adding viruses to host 4394793616"
       ]
      },
      {
       "output_type": "stream",
       "stream": "stdout",
       "text": [
        "\n",
        "Adding viruses to host 4394793616\n",
        "Adding viruses to host 4394793616\n",
        "Adding viruses to host 4394793616\n",
        "Adding viruses to host 4394793616\n",
        "Adding viruses to host 4394793616\n",
        "Adding viruses to host 4394793616\n",
        "Adding viruses to host 4394793616\n",
        "Adding viruses to host 4394793616\n",
        "Adding viruses to host 4394793616\n",
        "Adding viruses to host 4394793616\n",
        "Adding viruses to host 4394793616\n",
        "Adding viruses to host 4394793616"
       ]
      },
      {
       "output_type": "stream",
       "stream": "stdout",
       "text": [
        "\n",
        "Adding viruses to host 4394793616\n",
        "Adding viruses to host 4394793616\n",
        "Adding viruses to host 4394793616\n",
        "Adding viruses to host 4394793616\n",
        "Adding viruses to host 4394793616\n",
        "Adding viruses to host 4394793616\n",
        "Adding viruses to host 4394793616"
       ]
      },
      {
       "output_type": "stream",
       "stream": "stdout",
       "text": [
        "\n",
        "Adding viruses to host 4394793616\n",
        "Adding viruses to host 4394793616\n",
        "Adding viruses to host 4394793616\n",
        "Adding viruses to host 4394793616\n",
        "Adding viruses to host 4394793616\n",
        "Adding viruses to host 4394793616\n",
        "Adding viruses to host 4394793616\n",
        "Adding viruses to host 4394793616\n",
        "Adding viruses to host 4394793616\n",
        "Adding viruses to host 4394793616\n",
        "Adding viruses to host 4394793616"
       ]
      },
      {
       "output_type": "stream",
       "stream": "stdout",
       "text": [
        "\n",
        "Adding viruses to host 4394793616\n",
        "Adding viruses to host 4394793616\n",
        "Adding viruses to host 4394793616\n",
        "Adding viruses to host 4394793616\n",
        "Adding viruses to host 4394793616\n",
        "Adding viruses to host 4394793616\n",
        "Adding viruses to host 4394793616\n",
        "Adding viruses to host 4394793616\n",
        "Adding viruses to host 4394793616"
       ]
      },
      {
       "output_type": "stream",
       "stream": "stdout",
       "text": [
        "\n",
        "Adding viruses to host 4394793616\n",
        "Adding viruses to host 4394793616\n",
        "Adding viruses to host 4394793616\n",
        "Adding viruses to host 4394793616\n",
        "Adding viruses to host 4394793616\n",
        "Adding viruses to host 4394793616\n",
        "Adding viruses to host 4394793616\n",
        "Adding viruses to host 4394793616\n",
        "Adding viruses to host 4394793616\n",
        "Adding viruses to host 4394793616"
       ]
      },
      {
       "output_type": "stream",
       "stream": "stdout",
       "text": [
        "\n",
        "Adding viruses to host 4394793616\n",
        "Adding viruses to host 4394793616\n",
        "Adding viruses to host 4394793616\n",
        "Adding viruses to host 4394793616\n",
        "Adding viruses to host 4394793616\n",
        "Adding viruses to host 4394793616\n",
        "Adding viruses to host 4394793616\n",
        "Adding viruses to host 4394793616\n",
        "Adding viruses to host 4394793616\n",
        "Adding viruses to host 4394793616\n",
        "Adding viruses to host 4394793616\n",
        "Adding viruses to host 4394793616"
       ]
      },
      {
       "output_type": "stream",
       "stream": "stdout",
       "text": [
        "\n",
        "Adding viruses to host 4394793616\n",
        "Adding viruses to host 4394793616\n",
        "Adding viruses to host 4394793616\n",
        "Adding viruses to host 4394793616\n",
        "Adding viruses to host 4394793616\n",
        "Adding viruses to host 4394793616\n",
        "Adding viruses to host 4394793616\n",
        "Adding viruses to host 4394793616\n",
        "Adding viruses to host 4394793616\n",
        "Adding viruses to host 4394793616\n",
        "Adding viruses to host 4394793616\n",
        "Adding viruses to host 4394793616"
       ]
      },
      {
       "output_type": "stream",
       "stream": "stdout",
       "text": [
        "\n",
        "Adding viruses to host 4394793616\n",
        "Adding viruses to host 4394793616\n",
        "Adding viruses to host 4394793616\n",
        "Adding viruses to host 4394793616\n",
        "Adding viruses to host 4394793616\n",
        "Adding viruses to host 4394793616\n",
        "Adding viruses to host 4394793616\n",
        "Adding viruses to host 4394793616\n",
        "Adding viruses to host 4394793616\n",
        "Adding viruses to host 4394793616\n",
        "Adding viruses to host 4394793616\n",
        "Adding viruses to host 4394793616"
       ]
      },
      {
       "output_type": "stream",
       "stream": "stdout",
       "text": [
        "\n",
        "Adding viruses to host 4394793616\n",
        "Adding viruses to host 4394793616\n",
        "Adding viruses to host 4394793616\n",
        "Adding viruses to host 4394793616\n",
        "Adding viruses to host 4394793616\n",
        "Adding viruses to host 4394793616\n",
        "Adding viruses to host 4394793616\n",
        "Adding viruses to host 4394793616\n",
        "Adding viruses to host 4394793616\n",
        "Adding viruses to host 4394793616\n",
        "Adding viruses to host 4394793616"
       ]
      },
      {
       "output_type": "stream",
       "stream": "stdout",
       "text": [
        "\n",
        "Adding viruses to host 4394793616\n",
        "Adding viruses to host 4394793616\n",
        "Adding viruses to host 4394793616\n",
        "Adding viruses to host 4394793616\n",
        "Adding viruses to host 4394793616\n",
        "Adding viruses to host 4394793616\n",
        "Adding viruses to host 4394793616\n",
        "Adding viruses to host 4394793616"
       ]
      },
      {
       "output_type": "stream",
       "stream": "stdout",
       "text": [
        "\n",
        "Adding viruses to host 4394793616\n",
        "Adding viruses to host 4394793616\n",
        "Adding viruses to host 4394793616\n",
        "Adding viruses to host 4394793616\n",
        "Adding viruses to host 4394793616\n",
        "Adding viruses to host 4394793616\n",
        "Total of 1963 viruses generated in host 4394793616. \n",
        "Host 4394793616 now has 2367 viruses.\n",
        "Time Difference: 8, Probability: 0.8\n",
        "Removing 1889 viruses out of 2367 viruses from host.\n",
        "Left with 478 viruses."
       ]
      },
      {
       "output_type": "stream",
       "stream": "stdout",
       "text": [
        "\n",
        "8\n",
        "Host 4394793616 currently has 478 viruses.\n",
        "Replicating 290 viruses.\n",
        "Adding viruses to host 4394793616\n",
        "Adding viruses to host 4394793616\n",
        "Adding viruses to host 4394793616\n",
        "Adding viruses to host 4394793616\n",
        "Adding viruses to host 4394793616\n",
        "Adding viruses to host 4394793616\n",
        "Adding viruses to host 4394793616\n",
        "Adding viruses to host 4394793616\n",
        "Adding viruses to host 4394793616\n",
        "Adding viruses to host 4394793616"
       ]
      },
      {
       "output_type": "stream",
       "stream": "stdout",
       "text": [
        "\n",
        "Adding viruses to host 4394793616\n",
        "Adding viruses to host 4394793616\n",
        "Adding viruses to host 4394793616\n",
        "Adding viruses to host 4394793616\n",
        "Adding viruses to host 4394793616\n",
        "Adding viruses to host 4394793616\n",
        "Adding viruses to host 4394793616\n",
        "Adding viruses to host 4394793616\n",
        "Adding viruses to host 4394793616\n",
        "Adding viruses to host 4394793616"
       ]
      },
      {
       "output_type": "stream",
       "stream": "stdout",
       "text": [
        "\n",
        "Adding viruses to host 4394793616\n",
        "Adding viruses to host 4394793616\n",
        "Adding viruses to host 4394793616\n",
        "Adding viruses to host 4394793616\n",
        "Adding viruses to host 4394793616\n",
        "Adding viruses to host 4394793616\n",
        "Adding viruses to host 4394793616"
       ]
      },
      {
       "output_type": "stream",
       "stream": "stdout",
       "text": [
        "\n",
        "Adding viruses to host 4394793616\n",
        "Adding viruses to host 4394793616\n",
        "Adding viruses to host 4394793616\n",
        "Adding viruses to host 4394793616\n",
        "Adding viruses to host 4394793616\n",
        "Adding viruses to host 4394793616\n",
        "Adding viruses to host 4394793616\n",
        "Adding viruses to host 4394793616"
       ]
      },
      {
       "output_type": "stream",
       "stream": "stdout",
       "text": [
        "\n",
        "Adding viruses to host 4394793616\n",
        "Adding viruses to host 4394793616\n",
        "Adding viruses to host 4394793616\n",
        "Adding viruses to host 4394793616\n",
        "Adding viruses to host 4394793616\n",
        "Adding viruses to host 4394793616\n",
        "Adding viruses to host 4394793616\n",
        "Adding viruses to host 4394793616"
       ]
      },
      {
       "output_type": "stream",
       "stream": "stdout",
       "text": [
        "\n",
        "Adding viruses to host 4394793616\n",
        "Adding viruses to host 4394793616\n",
        "Adding viruses to host 4394793616\n",
        "Adding viruses to host 4394793616\n",
        "Adding viruses to host 4394793616\n",
        "Adding viruses to host 4394793616\n",
        "Adding viruses to host 4394793616"
       ]
      },
      {
       "output_type": "stream",
       "stream": "stdout",
       "text": [
        "\n",
        "Adding viruses to host 4394793616\n",
        "Adding viruses to host 4394793616\n",
        "Adding viruses to host 4394793616\n",
        "Adding viruses to host 4394793616\n",
        "Adding viruses to host 4394793616\n",
        "Adding viruses to host 4394793616\n",
        "Adding viruses to host 4394793616\n",
        "Adding viruses to host 4394793616\n",
        "Adding viruses to host 4394793616"
       ]
      },
      {
       "output_type": "stream",
       "stream": "stdout",
       "text": [
        "\n",
        "Adding viruses to host 4394793616\n",
        "Adding viruses to host 4394793616\n",
        "Adding viruses to host 4394793616\n",
        "Adding viruses to host 4394793616\n",
        "Adding viruses to host 4394793616\n",
        "Adding viruses to host 4394793616\n",
        "Adding viruses to host 4394793616\n",
        "Adding viruses to host 4394793616\n",
        "Adding viruses to host 4394793616"
       ]
      },
      {
       "output_type": "stream",
       "stream": "stdout",
       "text": [
        "\n",
        "Adding viruses to host 4394793616\n",
        "Adding viruses to host 4394793616\n",
        "Adding viruses to host 4394793616\n",
        "Adding viruses to host 4394793616\n",
        "Adding viruses to host 4394793616\n",
        "Adding viruses to host 4394793616\n",
        "Adding viruses to host 4394793616\n",
        "Adding viruses to host 4394793616\n",
        "Adding viruses to host 4394793616\n",
        "Adding viruses to host 4394793616"
       ]
      },
      {
       "output_type": "stream",
       "stream": "stdout",
       "text": [
        "\n",
        "Adding viruses to host 4394793616\n",
        "Adding viruses to host 4394793616\n",
        "Adding viruses to host 4394793616\n",
        "Adding viruses to host 4394793616\n",
        "Adding viruses to host 4394793616\n",
        "Adding viruses to host 4394793616\n",
        "Adding viruses to host 4394793616\n",
        "Adding viruses to host 4394793616\n",
        "Adding viruses to host 4394793616\n",
        "Adding viruses to host 4394793616\n",
        "Adding viruses to host 4394793616"
       ]
      },
      {
       "output_type": "stream",
       "stream": "stdout",
       "text": [
        "\n",
        "Adding viruses to host 4394793616\n",
        "Adding viruses to host 4394793616\n",
        "Adding viruses to host 4394793616\n",
        "Adding viruses to host 4394793616\n",
        "Adding viruses to host 4394793616\n",
        "Adding viruses to host 4394793616\n",
        "Adding viruses to host 4394793616\n",
        "Adding viruses to host 4394793616\n",
        "Adding viruses to host 4394793616\n",
        "Adding viruses to host 4394793616\n",
        "Adding viruses to host 4394793616\n",
        "Adding viruses to host 4394793616"
       ]
      },
      {
       "output_type": "stream",
       "stream": "stdout",
       "text": [
        "\n",
        "Adding viruses to host 4394793616\n",
        "Adding viruses to host 4394793616\n",
        "Adding viruses to host 4394793616\n",
        "Adding viruses to host 4394793616\n",
        "Adding viruses to host 4394793616\n",
        "Adding viruses to host 4394793616\n",
        "Adding viruses to host 4394793616\n",
        "Adding viruses to host 4394793616\n",
        "Adding viruses to host 4394793616"
       ]
      },
      {
       "output_type": "stream",
       "stream": "stdout",
       "text": [
        "\n",
        "Adding viruses to host 4394793616\n",
        "Adding viruses to host 4394793616\n",
        "Adding viruses to host 4394793616\n",
        "Adding viruses to host 4394793616\n",
        "Adding viruses to host 4394793616\n",
        "Adding viruses to host 4394793616\n",
        "Adding viruses to host 4394793616\n",
        "Adding viruses to host 4394793616"
       ]
      },
      {
       "output_type": "stream",
       "stream": "stdout",
       "text": [
        "\n",
        "Adding viruses to host 4394793616\n",
        "Adding viruses to host 4394793616\n",
        "Adding viruses to host 4394793616\n",
        "Adding viruses to host 4394793616\n",
        "Adding viruses to host 4394793616\n",
        "Adding viruses to host 4394793616\n",
        "Adding viruses to host 4394793616\n",
        "Adding viruses to host 4394793616\n",
        "Adding viruses to host 4394793616"
       ]
      },
      {
       "output_type": "stream",
       "stream": "stdout",
       "text": [
        "\n",
        "Adding viruses to host 4394793616\n",
        "Adding viruses to host 4394793616\n",
        "Adding viruses to host 4394793616\n",
        "Adding viruses to host 4394793616\n",
        "Adding viruses to host 4394793616\n",
        "Adding viruses to host 4394793616\n",
        "Adding viruses to host 4394793616\n",
        "Adding viruses to host 4394793616\n",
        "Adding viruses to host 4394793616\n",
        "Adding viruses to host 4394793616\n",
        "Adding viruses to host 4394793616"
       ]
      },
      {
       "output_type": "stream",
       "stream": "stdout",
       "text": [
        "\n",
        "Adding viruses to host 4394793616\n",
        "Adding viruses to host 4394793616\n",
        "Adding viruses to host 4394793616\n",
        "Adding viruses to host 4394793616\n",
        "Adding viruses to host 4394793616\n",
        "Adding viruses to host 4394793616\n",
        "Adding viruses to host 4394793616\n",
        "Adding viruses to host 4394793616\n",
        "Adding viruses to host 4394793616\n",
        "Adding viruses to host 4394793616\n",
        "Adding viruses to host 4394793616\n",
        "Adding viruses to host 4394793616"
       ]
      },
      {
       "output_type": "stream",
       "stream": "stdout",
       "text": [
        "\n",
        "Adding viruses to host 4394793616\n",
        "Adding viruses to host 4394793616\n",
        "Adding viruses to host 4394793616\n",
        "Adding viruses to host 4394793616\n",
        "Adding viruses to host 4394793616\n",
        "Adding viruses to host 4394793616\n",
        "Adding viruses to host 4394793616\n",
        "Adding viruses to host 4394793616\n",
        "Adding viruses to host 4394793616\n",
        "Adding viruses to host 4394793616\n",
        "Adding viruses to host 4394793616\n",
        "Adding viruses to host 4394793616"
       ]
      },
      {
       "output_type": "stream",
       "stream": "stdout",
       "text": [
        "\n",
        "Adding viruses to host 4394793616\n",
        "Adding viruses to host 4394793616\n",
        "Adding viruses to host 4394793616\n",
        "Adding viruses to host 4394793616\n",
        "Adding viruses to host 4394793616\n",
        "Adding viruses to host 4394793616\n",
        "Adding viruses to host 4394793616\n",
        "Adding viruses to host 4394793616"
       ]
      },
      {
       "output_type": "stream",
       "stream": "stdout",
       "text": [
        "\n",
        "Adding viruses to host 4394793616\n",
        "Adding viruses to host 4394793616\n",
        "Adding viruses to host 4394793616\n",
        "Adding viruses to host 4394793616\n",
        "Adding viruses to host 4394793616\n",
        "Adding viruses to host 4394793616\n",
        "Adding viruses to host 4394793616\n",
        "Adding viruses to host 4394793616"
       ]
      },
      {
       "output_type": "stream",
       "stream": "stdout",
       "text": [
        "\n",
        "Adding viruses to host 4394793616\n",
        "Adding viruses to host 4394793616\n",
        "Adding viruses to host 4394793616\n",
        "Adding viruses to host 4394793616\n",
        "Adding viruses to host 4394793616\n",
        "Adding viruses to host 4394793616\n",
        "Adding viruses to host 4394793616\n",
        "Adding viruses to host 4394793616\n",
        "Adding viruses to host 4394793616"
       ]
      },
      {
       "output_type": "stream",
       "stream": "stdout",
       "text": [
        "\n",
        "Adding viruses to host 4394793616\n",
        "Adding viruses to host 4394793616\n",
        "Adding viruses to host 4394793616\n",
        "Adding viruses to host 4394793616\n",
        "Adding viruses to host 4394793616\n",
        "Adding viruses to host 4394793616\n",
        "Adding viruses to host 4394793616\n",
        "Adding viruses to host 4394793616"
       ]
      },
      {
       "output_type": "stream",
       "stream": "stdout",
       "text": [
        "\n",
        "Adding viruses to host 4394793616\n",
        "Adding viruses to host 4394793616\n",
        "Adding viruses to host 4394793616\n",
        "Adding viruses to host 4394793616\n",
        "Adding viruses to host 4394793616\n",
        "Adding viruses to host 4394793616\n",
        "Adding viruses to host 4394793616\n",
        "Adding viruses to host 4394793616"
       ]
      },
      {
       "output_type": "stream",
       "stream": "stdout",
       "text": [
        "\n",
        "Adding viruses to host 4394793616\n",
        "Adding viruses to host 4394793616\n",
        "Adding viruses to host 4394793616\n",
        "Adding viruses to host 4394793616\n",
        "Adding viruses to host 4394793616\n",
        "Adding viruses to host 4394793616\n",
        "Adding viruses to host 4394793616\n",
        "Adding viruses to host 4394793616\n",
        "Adding viruses to host 4394793616\n",
        "Adding viruses to host 4394793616\n",
        "Adding viruses to host 4394793616"
       ]
      },
      {
       "output_type": "stream",
       "stream": "stdout",
       "text": [
        "\n",
        "Adding viruses to host 4394793616\n",
        "Adding viruses to host 4394793616\n",
        "Adding viruses to host 4394793616\n",
        "Adding viruses to host 4394793616\n",
        "Adding viruses to host 4394793616\n",
        "Adding viruses to host 4394793616\n",
        "Adding viruses to host 4394793616\n",
        "Adding viruses to host 4394793616\n",
        "Adding viruses to host 4394793616\n",
        "Adding viruses to host 4394793616\n",
        "Adding viruses to host 4394793616\n",
        "Adding viruses to host 4394793616"
       ]
      },
      {
       "output_type": "stream",
       "stream": "stdout",
       "text": [
        "\n",
        "Adding viruses to host 4394793616\n",
        "Adding viruses to host 4394793616\n",
        "Adding viruses to host 4394793616\n",
        "Adding viruses to host 4394793616\n",
        "Adding viruses to host 4394793616\n",
        "Adding viruses to host 4394793616\n",
        "Adding viruses to host 4394793616\n",
        "Adding viruses to host 4394793616\n",
        "Adding viruses to host 4394793616\n",
        "Adding viruses to host 4394793616"
       ]
      },
      {
       "output_type": "stream",
       "stream": "stdout",
       "text": [
        "\n",
        "Adding viruses to host 4394793616\n",
        "Adding viruses to host 4394793616\n",
        "Adding viruses to host 4394793616\n",
        "Adding viruses to host 4394793616\n",
        "Adding viruses to host 4394793616\n",
        "Adding viruses to host 4394793616\n",
        "Adding viruses to host 4394793616\n",
        "Adding viruses to host 4394793616\n",
        "Adding viruses to host 4394793616\n",
        "Adding viruses to host 4394793616\n",
        "Adding viruses to host 4394793616\n",
        "Adding viruses to host 4394793616\n",
        "Adding viruses to host 4394793616\n",
        "Adding viruses to host 4394793616"
       ]
      },
      {
       "output_type": "stream",
       "stream": "stdout",
       "text": [
        "\n",
        "Adding viruses to host 4394793616\n",
        "Adding viruses to host 4394793616\n",
        "Adding viruses to host 4394793616\n",
        "Adding viruses to host 4394793616\n",
        "Adding viruses to host 4394793616\n",
        "Adding viruses to host 4394793616\n",
        "Adding viruses to host 4394793616\n",
        "Adding viruses to host 4394793616\n",
        "Adding viruses to host 4394793616\n",
        "Adding viruses to host 4394793616\n",
        "Adding viruses to host 4394793616\n",
        "Adding viruses to host 4394793616"
       ]
      },
      {
       "output_type": "stream",
       "stream": "stdout",
       "text": [
        "\n",
        "Adding viruses to host 4394793616\n",
        "Adding viruses to host 4394793616\n",
        "Adding viruses to host 4394793616\n",
        "Adding viruses to host 4394793616\n",
        "Adding viruses to host 4394793616\n",
        "Adding viruses to host 4394793616\n",
        "Adding viruses to host 4394793616\n",
        "Adding viruses to host 4394793616\n",
        "Adding viruses to host 4394793616\n",
        "Adding viruses to host 4394793616"
       ]
      },
      {
       "output_type": "stream",
       "stream": "stdout",
       "text": [
        "\n",
        "Adding viruses to host 4394793616\n",
        "Adding viruses to host 4394793616\n",
        "Adding viruses to host 4394793616\n",
        "Adding viruses to host 4394793616\n",
        "Adding viruses to host 4394793616\n",
        "Adding viruses to host 4394793616\n",
        "Adding viruses to host 4394793616\n",
        "Adding viruses to host 4394793616\n",
        "Adding viruses to host 4394793616\n",
        "Adding viruses to host 4394793616"
       ]
      },
      {
       "output_type": "stream",
       "stream": "stdout",
       "text": [
        "\n",
        "Adding viruses to host 4394793616\n",
        "Adding viruses to host 4394793616\n",
        "Adding viruses to host 4394793616\n",
        "Adding viruses to host 4394793616\n",
        "Adding viruses to host 4394793616\n",
        "Adding viruses to host 4394793616\n",
        "Adding viruses to host 4394793616\n",
        "Adding viruses to host 4394793616\n",
        "Total of 2233 viruses generated in host 4394793616. \n",
        "Host 4394793616 now has 2711 viruses.\n",
        "Time Difference: 9, Probability: 0.818181818182\n",
        "Removing 2234 viruses out of 2711 viruses from host.\n",
        "Left with 477 viruses."
       ]
      },
      {
       "output_type": "stream",
       "stream": "stdout",
       "text": [
        "\n",
        "9\n",
        "Host 4394793616 currently has 477 viruses.\n",
        "Replicating 303 viruses.\n",
        "Adding viruses to host 4394793616\n",
        "Adding viruses to host 4394793616\n",
        "Adding viruses to host 4394793616\n",
        "Adding viruses to host 4394793616\n",
        "Adding viruses to host 4394793616\n",
        "Adding viruses to host 4394793616\n",
        "Adding viruses to host 4394793616\n",
        "Adding viruses to host 4394793616"
       ]
      },
      {
       "output_type": "stream",
       "stream": "stdout",
       "text": [
        "\n",
        "Adding viruses to host 4394793616\n",
        "Adding viruses to host 4394793616\n",
        "Adding viruses to host 4394793616\n",
        "Adding viruses to host 4394793616\n",
        "Adding viruses to host 4394793616\n",
        "Adding viruses to host 4394793616\n",
        "Adding viruses to host 4394793616\n",
        "Adding viruses to host 4394793616"
       ]
      },
      {
       "output_type": "stream",
       "stream": "stdout",
       "text": [
        "\n",
        "Adding viruses to host 4394793616\n",
        "Adding viruses to host 4394793616\n",
        "Adding viruses to host 4394793616\n",
        "Adding viruses to host 4394793616\n",
        "Adding viruses to host 4394793616\n",
        "Adding viruses to host 4394793616\n",
        "Adding viruses to host 4394793616\n",
        "Adding viruses to host 4394793616\n",
        "Adding viruses to host 4394793616\n",
        "Adding viruses to host 4394793616\n",
        "Adding viruses to host 4394793616"
       ]
      },
      {
       "output_type": "stream",
       "stream": "stdout",
       "text": [
        "\n",
        "Adding viruses to host 4394793616\n",
        "Adding viruses to host 4394793616\n",
        "Adding viruses to host 4394793616\n",
        "Adding viruses to host 4394793616\n",
        "Adding viruses to host 4394793616\n",
        "Adding viruses to host 4394793616\n",
        "Adding viruses to host 4394793616\n",
        "Adding viruses to host 4394793616"
       ]
      },
      {
       "output_type": "stream",
       "stream": "stdout",
       "text": [
        "\n",
        "Adding viruses to host 4394793616\n",
        "Adding viruses to host 4394793616\n",
        "Adding viruses to host 4394793616\n",
        "Adding viruses to host 4394793616\n",
        "Adding viruses to host 4394793616\n",
        "Adding viruses to host 4394793616\n",
        "Adding viruses to host 4394793616\n",
        "Adding viruses to host 4394793616\n",
        "Adding viruses to host 4394793616\n",
        "Adding viruses to host 4394793616\n",
        "Adding viruses to host 4394793616"
       ]
      },
      {
       "output_type": "stream",
       "stream": "stdout",
       "text": [
        "\n",
        "Adding viruses to host 4394793616\n",
        "Adding viruses to host 4394793616\n",
        "Adding viruses to host 4394793616\n",
        "Adding viruses to host 4394793616\n",
        "Adding viruses to host 4394793616\n",
        "Adding viruses to host 4394793616\n",
        "Adding viruses to host 4394793616"
       ]
      },
      {
       "output_type": "stream",
       "stream": "stdout",
       "text": [
        "\n",
        "Adding viruses to host 4394793616\n",
        "Adding viruses to host 4394793616\n",
        "Adding viruses to host 4394793616\n",
        "Adding viruses to host 4394793616\n",
        "Adding viruses to host 4394793616\n",
        "Adding viruses to host 4394793616\n",
        "Adding viruses to host 4394793616\n",
        "Adding viruses to host 4394793616\n",
        "Adding viruses to host 4394793616\n",
        "Adding viruses to host 4394793616"
       ]
      },
      {
       "output_type": "stream",
       "stream": "stdout",
       "text": [
        "\n",
        "Adding viruses to host 4394793616\n",
        "Adding viruses to host 4394793616\n",
        "Adding viruses to host 4394793616\n",
        "Adding viruses to host 4394793616\n",
        "Adding viruses to host 4394793616\n",
        "Adding viruses to host 4394793616\n",
        "Adding viruses to host 4394793616\n",
        "Adding viruses to host 4394793616"
       ]
      },
      {
       "output_type": "stream",
       "stream": "stdout",
       "text": [
        "\n",
        "Adding viruses to host 4394793616\n",
        "Adding viruses to host 4394793616\n",
        "Adding viruses to host 4394793616\n",
        "Adding viruses to host 4394793616\n",
        "Adding viruses to host 4394793616\n",
        "Adding viruses to host 4394793616\n",
        "Adding viruses to host 4394793616"
       ]
      },
      {
       "output_type": "stream",
       "stream": "stdout",
       "text": [
        "\n",
        "Adding viruses to host 4394793616\n",
        "Adding viruses to host 4394793616\n",
        "Adding viruses to host 4394793616\n",
        "Adding viruses to host 4394793616\n",
        "Adding viruses to host 4394793616\n",
        "Adding viruses to host 4394793616\n",
        "Adding viruses to host 4394793616\n",
        "Adding viruses to host 4394793616"
       ]
      },
      {
       "output_type": "stream",
       "stream": "stdout",
       "text": [
        "\n",
        "Adding viruses to host 4394793616\n",
        "Adding viruses to host 4394793616\n",
        "Adding viruses to host 4394793616\n",
        "Adding viruses to host 4394793616\n",
        "Adding viruses to host 4394793616\n",
        "Adding viruses to host 4394793616\n",
        "Adding viruses to host 4394793616\n",
        "Adding viruses to host 4394793616"
       ]
      },
      {
       "output_type": "stream",
       "stream": "stdout",
       "text": [
        "\n",
        "Adding viruses to host 4394793616\n",
        "Adding viruses to host 4394793616\n",
        "Adding viruses to host 4394793616\n",
        "Adding viruses to host 4394793616\n",
        "Adding viruses to host 4394793616\n",
        "Adding viruses to host 4394793616\n",
        "Adding viruses to host 4394793616\n",
        "Adding viruses to host 4394793616"
       ]
      },
      {
       "output_type": "stream",
       "stream": "stdout",
       "text": [
        "\n",
        "Adding viruses to host 4394793616\n",
        "Adding viruses to host 4394793616\n",
        "Adding viruses to host 4394793616\n",
        "Adding viruses to host 4394793616\n",
        "Adding viruses to host 4394793616\n",
        "Adding viruses to host 4394793616\n",
        "Adding viruses to host 4394793616\n",
        "Adding viruses to host 4394793616\n",
        "Adding viruses to host 4394793616"
       ]
      },
      {
       "output_type": "stream",
       "stream": "stdout",
       "text": [
        "\n",
        "Adding viruses to host 4394793616\n",
        "Adding viruses to host 4394793616\n",
        "Adding viruses to host 4394793616\n",
        "Adding viruses to host 4394793616\n",
        "Adding viruses to host 4394793616\n",
        "Adding viruses to host 4394793616\n",
        "Adding viruses to host 4394793616\n",
        "Adding viruses to host 4394793616\n",
        "Adding viruses to host 4394793616\n",
        "Adding viruses to host 4394793616\n",
        "Adding viruses to host 4394793616"
       ]
      },
      {
       "output_type": "stream",
       "stream": "stdout",
       "text": [
        "\n",
        "Adding viruses to host 4394793616\n",
        "Adding viruses to host 4394793616\n",
        "Adding viruses to host 4394793616\n",
        "Adding viruses to host 4394793616\n",
        "Adding viruses to host 4394793616\n",
        "Adding viruses to host 4394793616\n",
        "Adding viruses to host 4394793616"
       ]
      },
      {
       "output_type": "stream",
       "stream": "stdout",
       "text": [
        "\n",
        "Adding viruses to host 4394793616\n",
        "Adding viruses to host 4394793616\n",
        "Adding viruses to host 4394793616\n",
        "Adding viruses to host 4394793616\n",
        "Adding viruses to host 4394793616\n",
        "Adding viruses to host 4394793616"
       ]
      },
      {
       "output_type": "stream",
       "stream": "stdout",
       "text": [
        "\n",
        "Adding viruses to host 4394793616\n",
        "Adding viruses to host 4394793616\n",
        "Adding viruses to host 4394793616\n",
        "Adding viruses to host 4394793616\n",
        "Adding viruses to host 4394793616\n",
        "Adding viruses to host 4394793616\n",
        "Adding viruses to host 4394793616\n",
        "Adding viruses to host 4394793616\n",
        "Adding viruses to host 4394793616\n",
        "Adding viruses to host 4394793616\n",
        "Adding viruses to host 4394793616"
       ]
      },
      {
       "output_type": "stream",
       "stream": "stdout",
       "text": [
        "\n",
        "Adding viruses to host 4394793616\n",
        "Adding viruses to host 4394793616\n",
        "Adding viruses to host 4394793616\n",
        "Adding viruses to host 4394793616\n",
        "Adding viruses to host 4394793616\n",
        "Adding viruses to host 4394793616\n",
        "Adding viruses to host 4394793616\n",
        "Adding viruses to host 4394793616\n",
        "Adding viruses to host 4394793616\n",
        "Adding viruses to host 4394793616"
       ]
      },
      {
       "output_type": "stream",
       "stream": "stdout",
       "text": [
        "\n",
        "Adding viruses to host 4394793616\n",
        "Adding viruses to host 4394793616\n",
        "Adding viruses to host 4394793616\n",
        "Adding viruses to host 4394793616\n",
        "Adding viruses to host 4394793616\n",
        "Adding viruses to host 4394793616\n",
        "Adding viruses to host 4394793616\n",
        "Adding viruses to host 4394793616"
       ]
      },
      {
       "output_type": "stream",
       "stream": "stdout",
       "text": [
        "\n",
        "Adding viruses to host 4394793616\n",
        "Adding viruses to host 4394793616\n",
        "Adding viruses to host 4394793616\n",
        "Adding viruses to host 4394793616\n",
        "Adding viruses to host 4394793616\n",
        "Adding viruses to host 4394793616\n",
        "Adding viruses to host 4394793616\n",
        "Adding viruses to host 4394793616\n",
        "Adding viruses to host 4394793616\n",
        "Adding viruses to host 4394793616\n",
        "Adding viruses to host 4394793616"
       ]
      },
      {
       "output_type": "stream",
       "stream": "stdout",
       "text": [
        "\n",
        "Adding viruses to host 4394793616\n",
        "Adding viruses to host 4394793616\n",
        "Adding viruses to host 4394793616\n",
        "Adding viruses to host 4394793616\n",
        "Adding viruses to host 4394793616\n",
        "Adding viruses to host 4394793616\n",
        "Adding viruses to host 4394793616\n",
        "Adding viruses to host 4394793616\n",
        "Adding viruses to host 4394793616"
       ]
      },
      {
       "output_type": "stream",
       "stream": "stdout",
       "text": [
        "\n",
        "Adding viruses to host 4394793616\n",
        "Adding viruses to host 4394793616\n",
        "Adding viruses to host 4394793616\n",
        "Adding viruses to host 4394793616\n",
        "Adding viruses to host 4394793616\n",
        "Adding viruses to host 4394793616\n",
        "Adding viruses to host 4394793616\n",
        "Adding viruses to host 4394793616\n",
        "Adding viruses to host 4394793616\n",
        "Adding viruses to host 4394793616"
       ]
      },
      {
       "output_type": "stream",
       "stream": "stdout",
       "text": [
        "\n",
        "Adding viruses to host 4394793616\n",
        "Adding viruses to host 4394793616\n",
        "Adding viruses to host 4394793616\n",
        "Adding viruses to host 4394793616\n",
        "Adding viruses to host 4394793616\n",
        "Adding viruses to host 4394793616\n",
        "Adding viruses to host 4394793616\n",
        "Adding viruses to host 4394793616"
       ]
      },
      {
       "output_type": "stream",
       "stream": "stdout",
       "text": [
        "\n",
        "Adding viruses to host 4394793616\n",
        "Adding viruses to host 4394793616\n",
        "Adding viruses to host 4394793616\n",
        "Adding viruses to host 4394793616\n",
        "Adding viruses to host 4394793616\n",
        "Adding viruses to host 4394793616\n",
        "Adding viruses to host 4394793616\n",
        "Adding viruses to host 4394793616\n",
        "Adding viruses to host 4394793616\n",
        "Adding viruses to host 4394793616"
       ]
      },
      {
       "output_type": "stream",
       "stream": "stdout",
       "text": [
        "\n",
        "Adding viruses to host 4394793616\n",
        "Adding viruses to host 4394793616\n",
        "Adding viruses to host 4394793616\n",
        "Adding viruses to host 4394793616\n",
        "Adding viruses to host 4394793616\n",
        "Adding viruses to host 4394793616\n",
        "Adding viruses to host 4394793616\n",
        "Adding viruses to host 4394793616\n",
        "Adding viruses to host 4394793616"
       ]
      },
      {
       "output_type": "stream",
       "stream": "stdout",
       "text": [
        "\n",
        "Adding viruses to host 4394793616\n",
        "Adding viruses to host 4394793616\n",
        "Adding viruses to host 4394793616\n",
        "Adding viruses to host 4394793616\n",
        "Adding viruses to host 4394793616\n",
        "Adding viruses to host 4394793616\n",
        "Adding viruses to host 4394793616\n",
        "Adding viruses to host 4394793616\n",
        "Adding viruses to host 4394793616\n",
        "Adding viruses to host 4394793616"
       ]
      },
      {
       "output_type": "stream",
       "stream": "stdout",
       "text": [
        "\n",
        "Adding viruses to host 4394793616\n",
        "Adding viruses to host 4394793616\n",
        "Adding viruses to host 4394793616\n",
        "Adding viruses to host 4394793616\n",
        "Adding viruses to host 4394793616\n",
        "Adding viruses to host 4394793616\n",
        "Adding viruses to host 4394793616\n",
        "Adding viruses to host 4394793616"
       ]
      },
      {
       "output_type": "stream",
       "stream": "stdout",
       "text": [
        "\n",
        "Adding viruses to host 4394793616\n",
        "Adding viruses to host 4394793616\n",
        "Adding viruses to host 4394793616\n",
        "Adding viruses to host 4394793616\n",
        "Adding viruses to host 4394793616\n",
        "Adding viruses to host 4394793616\n",
        "Adding viruses to host 4394793616\n",
        "Adding viruses to host 4394793616\n",
        "Adding viruses to host 4394793616"
       ]
      },
      {
       "output_type": "stream",
       "stream": "stdout",
       "text": [
        "\n",
        "Adding viruses to host 4394793616\n",
        "Adding viruses to host 4394793616\n",
        "Adding viruses to host 4394793616\n",
        "Adding viruses to host 4394793616\n",
        "Adding viruses to host 4394793616\n",
        "Adding viruses to host 4394793616\n",
        "Adding viruses to host 4394793616\n",
        "Adding viruses to host 4394793616\n",
        "Adding viruses to host 4394793616"
       ]
      },
      {
       "output_type": "stream",
       "stream": "stdout",
       "text": [
        "\n",
        "Adding viruses to host 4394793616\n",
        "Adding viruses to host 4394793616\n",
        "Adding viruses to host 4394793616\n",
        "Adding viruses to host 4394793616\n",
        "Adding viruses to host 4394793616\n",
        "Adding viruses to host 4394793616\n",
        "Adding viruses to host 4394793616\n",
        "Adding viruses to host 4394793616\n",
        "Adding viruses to host 4394793616"
       ]
      },
      {
       "output_type": "stream",
       "stream": "stdout",
       "text": [
        "\n",
        "Adding viruses to host 4394793616\n",
        "Adding viruses to host 4394793616\n",
        "Adding viruses to host 4394793616\n",
        "Adding viruses to host 4394793616\n",
        "Adding viruses to host 4394793616\n",
        "Adding viruses to host 4394793616\n",
        "Adding viruses to host 4394793616\n",
        "Adding viruses to host 4394793616\n",
        "Adding viruses to host 4394793616"
       ]
      },
      {
       "output_type": "stream",
       "stream": "stdout",
       "text": [
        "\n",
        "Adding viruses to host 4394793616\n",
        "Adding viruses to host 4394793616\n",
        "Adding viruses to host 4394793616\n",
        "Adding viruses to host 4394793616\n",
        "Adding viruses to host 4394793616\n",
        "Adding viruses to host 4394793616\n",
        "Adding viruses to host 4394793616\n",
        "Adding viruses to host 4394793616\n",
        "Adding viruses to host 4394793616\n",
        "Adding viruses to host 4394793616"
       ]
      },
      {
       "output_type": "stream",
       "stream": "stdout",
       "text": [
        "\n",
        "Adding viruses to host 4394793616\n",
        "Adding viruses to host 4394793616\n",
        "Adding viruses to host 4394793616\n",
        "Adding viruses to host 4394793616\n",
        "Adding viruses to host 4394793616\n",
        "Adding viruses to host 4394793616\n",
        "Adding viruses to host 4394793616\n",
        "Adding viruses to host 4394793616\n",
        "Adding viruses to host 4394793616"
       ]
      },
      {
       "output_type": "stream",
       "stream": "stdout",
       "text": [
        "\n",
        "Adding viruses to host 4394793616\n",
        "Adding viruses to host 4394793616\n",
        "Adding viruses to host 4394793616\n",
        "Adding viruses to host 4394793616\n",
        "Adding viruses to host 4394793616\n",
        "Adding viruses to host 4394793616\n",
        "Adding viruses to host 4394793616\n",
        "Adding viruses to host 4394793616"
       ]
      },
      {
       "output_type": "stream",
       "stream": "stdout",
       "text": [
        "\n",
        "Adding viruses to host 4394793616\n",
        "Total of 2265 viruses generated in host 4394793616. \n",
        "Host 4394793616 now has 2742 viruses.\n",
        "Time Difference: 10, Probability: 0.833333333333\n",
        "Removing 2281 viruses out of 2742 viruses from host.\n",
        "Left with 461 viruses."
       ]
      },
      {
       "output_type": "stream",
       "stream": "stdout",
       "text": [
        "\n",
        "10\n",
        "Host 4394793616 currently has 461 viruses.\n",
        "Replicating 60 viruses.\n",
        "Adding viruses to host 4394793616\n",
        "Adding viruses to host 4394793616\n",
        "Adding viruses to host 4394793616\n",
        "Adding viruses to host 4394793616\n",
        "Adding viruses to host 4394793616\n",
        "Adding viruses to host 4394793616\n",
        "Adding viruses to host 4394793616\n",
        "Adding viruses to host 4394793616\n",
        "Adding viruses to host 4394793616\n",
        "Adding viruses to host 4394793616"
       ]
      },
      {
       "output_type": "stream",
       "stream": "stdout",
       "text": [
        "\n",
        "Adding viruses to host 4394793616\n",
        "Adding viruses to host 4394793616\n",
        "Adding viruses to host 4394793616\n",
        "Adding viruses to host 4394793616\n",
        "Adding viruses to host 4394793616\n",
        "Adding viruses to host 4394793616\n",
        "Adding viruses to host 4394793616\n",
        "Adding viruses to host 4394793616\n",
        "Adding viruses to host 4394793616"
       ]
      },
      {
       "output_type": "stream",
       "stream": "stdout",
       "text": [
        "\n",
        "Adding viruses to host 4394793616\n",
        "Adding viruses to host 4394793616\n",
        "Adding viruses to host 4394793616\n",
        "Adding viruses to host 4394793616\n",
        "Adding viruses to host 4394793616\n",
        "Adding viruses to host 4394793616\n",
        "Adding viruses to host 4394793616\n",
        "Adding viruses to host 4394793616\n",
        "Adding viruses to host 4394793616"
       ]
      },
      {
       "output_type": "stream",
       "stream": "stdout",
       "text": [
        "\n",
        "Adding viruses to host 4394793616\n",
        "Adding viruses to host 4394793616\n",
        "Adding viruses to host 4394793616\n",
        "Adding viruses to host 4394793616\n",
        "Adding viruses to host 4394793616\n",
        "Adding viruses to host 4394793616\n",
        "Adding viruses to host 4394793616\n",
        "Adding viruses to host 4394793616\n",
        "Adding viruses to host 4394793616\n",
        "Adding viruses to host 4394793616"
       ]
      },
      {
       "output_type": "stream",
       "stream": "stdout",
       "text": [
        "\n",
        "Adding viruses to host 4394793616\n",
        "Adding viruses to host 4394793616\n",
        "Adding viruses to host 4394793616\n",
        "Adding viruses to host 4394793616\n",
        "Adding viruses to host 4394793616\n",
        "Adding viruses to host 4394793616\n",
        "Adding viruses to host 4394793616\n",
        "Adding viruses to host 4394793616"
       ]
      },
      {
       "output_type": "stream",
       "stream": "stdout",
       "text": [
        "\n",
        "Adding viruses to host 4394793616\n",
        "Adding viruses to host 4394793616\n",
        "Adding viruses to host 4394793616\n",
        "Adding viruses to host 4394793616\n",
        "Adding viruses to host 4394793616\n",
        "Adding viruses to host 4394793616\n",
        "Adding viruses to host 4394793616\n",
        "Adding viruses to host 4394793616\n",
        "Adding viruses to host 4394793616"
       ]
      },
      {
       "output_type": "stream",
       "stream": "stdout",
       "text": [
        "\n",
        "Adding viruses to host 4394793616\n",
        "Adding viruses to host 4394793616\n",
        "Adding viruses to host 4394793616\n",
        "Adding viruses to host 4394793616\n",
        "Adding viruses to host 4394793616\n",
        "Total of 448 viruses generated in host 4394793616. \n",
        "Host 4394793616 now has 909 viruses.\n",
        "Time Difference: 11, Probability: 0.846153846154\n",
        "Removing 753 viruses out of 909 viruses from host.\n",
        "Left with 156 viruses.\n",
        "Transmission 12 viruses out of 156 viruses.\n",
        "11\n",
        "Host 4394793616 currently has 144 viruses.\n",
        "Replicating 14 viruses.\n",
        "Adding viruses to host 4394793616\n",
        "Adding viruses to host 4394793616"
       ]
      },
      {
       "output_type": "stream",
       "stream": "stdout",
       "text": [
        "\n",
        "Adding viruses to host 4394793616\n",
        "Adding viruses to host 4394793616\n",
        "Adding viruses to host 4394793616\n",
        "Adding viruses to host 4394793616\n",
        "Adding viruses to host 4394793616\n",
        "Adding viruses to host 4394793616\n",
        "Adding viruses to host 4394793616\n",
        "Adding viruses to host 4394793616"
       ]
      },
      {
       "output_type": "stream",
       "stream": "stdout",
       "text": [
        "\n",
        "Adding viruses to host 4394793616\n",
        "Adding viruses to host 4394793616\n",
        "Adding viruses to host 4394793616\n",
        "Adding viruses to host 4394793616\n",
        "Total of 103 viruses generated in host 4394793616. \n",
        "Host 4394793616 now has 247 viruses.\n",
        "Time Difference: 12, Probability: 0.857142857143\n",
        "Removing 218 viruses out of 247 viruses from host.\n",
        "Left with 29 viruses.\n",
        "Host 4394793680 currently has 12 viruses.\n",
        "Replicating 7 viruses.\n",
        "Adding viruses to host 4394793616\n",
        "Adding viruses to host 4394793616\n",
        "Adding viruses to host 4394793616\n",
        "Adding viruses to host 4394793616"
       ]
      },
      {
       "output_type": "stream",
       "stream": "stdout",
       "text": [
        "\n",
        "Adding viruses to host 4394793616\n",
        "Adding viruses to host 4394793616\n",
        "Adding viruses to host 4394793616\n",
        "Total of 61 viruses generated in host 4394793680. \n",
        "Host 4394793680 now has 12 viruses.\n",
        "Time Difference: 1, Probability: 0.333333333333\n",
        "Removing 1 viruses out of 12 viruses from host.\n",
        "Left with 11 viruses.\n",
        "12\n",
        "Host 4394793616 currently has 90 viruses.\n",
        "Replicating 31 viruses.\n",
        "Adding viruses to host 4394793616\n",
        "Adding viruses to host 4394793616\n",
        "Adding viruses to host 4394793616\n",
        "Adding viruses to host 4394793616\n",
        "Adding viruses to host 4394793616\n",
        "Adding viruses to host 4394793616"
       ]
      },
      {
       "output_type": "stream",
       "stream": "stdout",
       "text": [
        "\n",
        "Adding viruses to host 4394793616\n",
        "Adding viruses to host 4394793616\n",
        "Adding viruses to host 4394793616\n",
        "Adding viruses to host 4394793616\n",
        "Adding viruses to host 4394793616\n",
        "Adding viruses to host 4394793616\n",
        "Adding viruses to host 4394793616\n",
        "Adding viruses to host 4394793616\n",
        "Adding viruses to host 4394793616"
       ]
      },
      {
       "output_type": "stream",
       "stream": "stdout",
       "text": [
        "\n",
        "Adding viruses to host 4394793616\n",
        "Adding viruses to host 4394793616\n",
        "Adding viruses to host 4394793616\n",
        "Adding viruses to host 4394793616\n",
        "Adding viruses to host 4394793616\n",
        "Adding viruses to host 4394793616\n",
        "Adding viruses to host 4394793616\n",
        "Adding viruses to host 4394793616\n",
        "Adding viruses to host 4394793616\n",
        "Adding viruses to host 4394793616\n",
        "Adding viruses to host 4394793616"
       ]
      },
      {
       "output_type": "stream",
       "stream": "stdout",
       "text": [
        "\n",
        "Adding viruses to host 4394793616\n",
        "Adding viruses to host 4394793616\n",
        "Adding viruses to host 4394793616\n",
        "Adding viruses to host 4394793616\n",
        "Adding viruses to host 4394793616\n",
        "Total of 226 viruses generated in host 4394793616. \n",
        "Host 4394793616 now has 316 viruses.\n",
        "Time Difference: 13, Probability: 0.866666666667\n",
        "Removing 277 viruses out of 316 viruses from host.\n",
        "Left with 39 viruses.\n",
        "Host 4394793680 currently has 11 viruses.\n",
        "Replicating 6 viruses.\n",
        "Adding viruses to host 4394793616\n",
        "Adding viruses to host 4394793616\n",
        "Adding viruses to host 4394793616"
       ]
      },
      {
       "output_type": "stream",
       "stream": "stdout",
       "text": [
        "\n",
        "Adding viruses to host 4394793616\n",
        "Adding viruses to host 4394793616\n",
        "Adding viruses to host 4394793616\n",
        "Total of 51 viruses generated in host 4394793680. \n",
        "Host 4394793680 now has 11 viruses.\n",
        "Time Difference: 2, Probability: 0.5\n",
        "Removing 9 viruses out of 11 viruses from host.\n",
        "Left with 2 viruses.\n",
        "13\n",
        "Host 4394793616 currently has 90 viruses.\n",
        "Replicating 51 viruses.\n",
        "Adding viruses to host 4394793616\n",
        "Adding viruses to host 4394793616\n",
        "Adding viruses to host 4394793616\n",
        "Adding viruses to host 4394793616\n",
        "Adding viruses to host 4394793616\n",
        "Adding viruses to host 4394793616\n",
        "Adding viruses to host 4394793616\n",
        "Adding viruses to host 4394793616\n",
        "Adding viruses to host 4394793616"
       ]
      },
      {
       "output_type": "stream",
       "stream": "stdout",
       "text": [
        "\n",
        "Adding viruses to host 4394793616\n",
        "Adding viruses to host 4394793616\n",
        "Adding viruses to host 4394793616\n",
        "Adding viruses to host 4394793616\n",
        "Adding viruses to host 4394793616\n",
        "Adding viruses to host 4394793616\n",
        "Adding viruses to host 4394793616\n",
        "Adding viruses to host 4394793616\n",
        "Adding viruses to host 4394793616\n",
        "Adding viruses to host 4394793616"
       ]
      },
      {
       "output_type": "stream",
       "stream": "stdout",
       "text": [
        "\n",
        "Adding viruses to host 4394793616\n",
        "Adding viruses to host 4394793616\n",
        "Adding viruses to host 4394793616\n",
        "Adding viruses to host 4394793616\n",
        "Adding viruses to host 4394793616\n",
        "Adding viruses to host 4394793616\n",
        "Adding viruses to host 4394793616\n",
        "Adding viruses to host 4394793616\n",
        "Adding viruses to host 4394793616\n",
        "Adding viruses to host 4394793616"
       ]
      },
      {
       "output_type": "stream",
       "stream": "stdout",
       "text": [
        "\n",
        "Adding viruses to host 4394793616\n",
        "Adding viruses to host 4394793616\n",
        "Adding viruses to host 4394793616\n",
        "Adding viruses to host 4394793616\n",
        "Adding viruses to host 4394793616\n",
        "Adding viruses to host 4394793616\n",
        "Adding viruses to host 4394793616\n",
        "Adding viruses to host 4394793616"
       ]
      },
      {
       "output_type": "stream",
       "stream": "stdout",
       "text": [
        "\n",
        "Adding viruses to host 4394793616\n",
        "Adding viruses to host 4394793616\n",
        "Adding viruses to host 4394793616\n",
        "Adding viruses to host 4394793616\n",
        "Adding viruses to host 4394793616\n",
        "Adding viruses to host 4394793616\n",
        "Adding viruses to host 4394793616\n",
        "Adding viruses to host 4394793616\n",
        "Adding viruses to host 4394793616\n",
        "Adding viruses to host 4394793616"
       ]
      },
      {
       "output_type": "stream",
       "stream": "stdout",
       "text": [
        "\n",
        "Adding viruses to host 4394793616\n",
        "Adding viruses to host 4394793616\n",
        "Adding viruses to host 4394793616\n",
        "Adding viruses to host 4394793616\n",
        "Total of 358 viruses generated in host 4394793616. \n",
        "Host 4394793616 now has 448 viruses.\n",
        "Time Difference: 14, Probability: 0.875\n",
        "Removing 398 viruses out of 448 viruses from host.\n",
        "Left with 50 viruses.\n",
        "Host 4394793680 currently has 2 viruses.\n",
        "Replicating 0 viruses.\n",
        "Total of 0 viruses generated in host 4394793680. \n",
        "Host 4394793680 now has 2 viruses.\n",
        "Time Difference: 3, Probability: 0.6\n",
        "Removing 2 viruses out of 2 viruses from host.\n",
        "Left with 0 viruses.\n",
        "14\n",
        "Host 4394793616 currently has 50 viruses.\n",
        "Replicating 21 viruses.\n",
        "Adding viruses to host 4394793616\n",
        "Adding viruses to host 4394793616\n",
        "Adding viruses to host 4394793616\n",
        "Adding viruses to host 4394793616"
       ]
      },
      {
       "output_type": "stream",
       "stream": "stdout",
       "text": [
        "\n",
        "Adding viruses to host 4394793616\n",
        "Adding viruses to host 4394793616\n",
        "Adding viruses to host 4394793616\n",
        "Adding viruses to host 4394793616\n",
        "Adding viruses to host 4394793616\n",
        "Adding viruses to host 4394793616\n",
        "Adding viruses to host 4394793616\n",
        "Adding viruses to host 4394793616\n",
        "Adding viruses to host 4394793616\n",
        "Adding viruses to host 4394793616\n",
        "Adding viruses to host 4394793616"
       ]
      },
      {
       "output_type": "stream",
       "stream": "stdout",
       "text": [
        "\n",
        "Adding viruses to host 4394793616\n",
        "Adding viruses to host 4394793616\n",
        "Adding viruses to host 4394793616\n",
        "Adding viruses to host 4394793616\n",
        "Adding viruses to host 4394793616\n",
        "Adding viruses to host 4394793616\n",
        "Total of 147 viruses generated in host 4394793616. \n",
        "Host 4394793616 now has 197 viruses.\n",
        "Time Difference: 15, Probability: 0.882352941176\n",
        "Removing 168 viruses out of 197 viruses from host.\n",
        "Left with 29 viruses.\n",
        "15\n",
        "Host 4394793616 currently has 29 viruses.\n",
        "Replicating 10 viruses.\n",
        "Adding viruses to host 4394793616\n",
        "Adding viruses to host 4394793616\n",
        "Adding viruses to host 4394793616"
       ]
      },
      {
       "output_type": "stream",
       "stream": "stdout",
       "text": [
        "\n",
        "Adding viruses to host 4394793616\n",
        "Adding viruses to host 4394793616\n",
        "Adding viruses to host 4394793616\n",
        "Adding viruses to host 4394793616\n",
        "Adding viruses to host 4394793616\n",
        "Adding viruses to host 4394793616\n",
        "Adding viruses to host 4394793616\n",
        "Total of 81 viruses generated in host 4394793616. \n",
        "Host 4394793616 now has 110 viruses.\n",
        "Time Difference: 16, Probability: 0.888888888889\n",
        "Removing 99 viruses out of 110 viruses from host.\n",
        "Left with 11 viruses.\n",
        "16\n",
        "Host 4394793616 currently has 11 viruses.\n",
        "Replicating 10 viruses.\n",
        "Adding viruses to host 4394793616\n",
        "Adding viruses to host 4394793616\n",
        "Adding viruses to host 4394793616"
       ]
      },
      {
       "output_type": "stream",
       "stream": "stdout",
       "text": [
        "\n",
        "Adding viruses to host 4394793616\n",
        "Adding viruses to host 4394793616\n",
        "Adding viruses to host 4394793616\n",
        "Adding viruses to host 4394793616\n",
        "Adding viruses to host 4394793616\n",
        "Adding viruses to host 4394793616\n",
        "Adding viruses to host 4394793616\n",
        "Total of 74 viruses generated in host 4394793616. \n",
        "Host 4394793616 now has 85 viruses.\n",
        "Time Difference: 17, Probability: 0.894736842105\n",
        "Removing 76 viruses out of 85 viruses from host.\n",
        "Left with 9 viruses.\n",
        "17\n",
        "Host 4394793616 currently has 9 viruses.\n",
        "Replicating 6 viruses.\n",
        "Adding viruses to host 4394793616\n",
        "Adding viruses to host 4394793616"
       ]
      },
      {
       "output_type": "stream",
       "stream": "stdout",
       "text": [
        "\n",
        "Adding viruses to host 4394793616\n",
        "Adding viruses to host 4394793616\n",
        "Adding viruses to host 4394793616\n",
        "Adding viruses to host 4394793616\n",
        "Total of 52 viruses generated in host 4394793616. \n",
        "Host 4394793616 now has 61 viruses.\n",
        "Time Difference: 18, Probability: 0.9\n",
        "Removing 58 viruses out of 61 viruses from host.\n",
        "Left with 3 viruses.\n",
        "18\n",
        "Host 4394793616 currently has 3 viruses.\n",
        "Replicating 0 viruses.\n",
        "Total of 0 viruses generated in host 4394793616. \n",
        "Host 4394793616 now has 3 viruses.\n",
        "Time Difference: 19, Probability: 0.904761904762\n",
        "Removing 3 viruses out of 3 viruses from host.\n",
        "Left with 0 viruses.\n",
        "19\n",
        "20\n",
        "21\n",
        "22\n",
        "23\n",
        "24\n",
        "25\n",
        "26\n",
        "27\n",
        "28\n",
        "29\n"
       ]
      }
     ],
     "prompt_number": 5
    },
    {
     "cell_type": "code",
     "collapsed": false,
     "input": [
      "plt.plot(virus_counts)\n",
      "plt.show()"
     ],
     "language": "python",
     "metadata": {},
     "outputs": [
      {
       "metadata": {},
       "output_type": "display_data",
       "png": "[encoded data removed]",
       "text": [
        "<matplotlib.figure.Figure at 0x105f33bd0>"
       ]
      }
     ],
     "prompt_number": 6
    },
    {
     "cell_type": "code",
     "collapsed": false,
     "input": [
      "virus_counts"
     ],
     "language": "python",
     "metadata": {},
     "outputs": [
      {
       "metadata": {},
       "output_type": "pyout",
       "prompt_number": 7,
       "text": [
        "[[7, 0],\n",
        " [30, 0],\n",
        " [89, 0],\n",
        " [130, 0],\n",
        " [246, 0],\n",
        " [329, 0],\n",
        " [404, 0],\n",
        " [478, 0],\n",
        " [477, 0],\n",
        " [461, 0],\n",
        " [156, 0],\n",
        " [90, 11],\n",
        " [90, 2],\n",
        " [50, 0],\n",
        " [29, 0],\n",
        " [11, 0],\n",
        " [9, 0],\n",
        " [3, 0],\n",
        " [0, 0],\n",
        " [0, 0],\n",
        " [0, 0],\n",
        " [0, 0],\n",
        " [0, 0],\n",
        " [0, 0],\n",
        " [0, 0],\n",
        " [0, 0],\n",
        " [0, 0],\n",
        " [0, 0],\n",
        " [0, 0],\n",
        " [0, 0]]"
       ]
      }
     ],
     "prompt_number": 7
    },
    {
     "cell_type": "code",
     "collapsed": false,
     "input": [],
     "language": "python",
     "metadata": {},
     "outputs": [],
     "prompt_number": 7
    }
   ],
   "metadata": {}
  }
 ]
}