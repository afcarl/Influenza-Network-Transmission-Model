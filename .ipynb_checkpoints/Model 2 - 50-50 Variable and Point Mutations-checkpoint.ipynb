{
 "metadata": {
  "name": "",
  "signature": "sha256:a9cd7bc2d4bb88cb17fa1439b4e483af841a4ccf3049c05d8d5d634139d5c407"
 },
 "nbformat": 3,
 "nbformat_minor": 0,
 "worksheets": [
  {
   "cells": [
    {
     "cell_type": "markdown",
     "metadata": {},
     "source": [
      "# Introduction\n",
      "\n",
      "In this notebook, the goal is to explicitly model the simplest process that can happen within an environment containing influenza viruses. Here, the following parameters are used:\n",
      "\n",
      "1. Only 1 smallfluvirus seeding.\n",
      "2. No reassortments happen.\n",
      "3. At each time step, replicate a virus.\n",
      "    1. 90% probability of mutation in varialbe region\n",
      "    2. 9% probability of single point mutation anywhere\n",
      "    3. 1% probability of no mutation\n",
      "4. Stop replicating when population size = 20\n",
      "\n",
      "At the end, we do two things:\n",
      "\n",
      "1. Dump all sequences out.\n",
      "2. Sample 50 sequences, and dump those."
     ]
    },
    {
     "cell_type": "code",
     "collapsed": false,
     "input": [
      "from environment import Environment\n",
      "from sampler import Sampler\n",
      "from random import random"
     ],
     "language": "python",
     "metadata": {},
     "outputs": [],
     "prompt_number": 1
    },
    {
     "cell_type": "code",
     "collapsed": false,
     "input": [
      "e = Environment(num_viruses=1, virus_type='influenza')"
     ],
     "language": "python",
     "metadata": {},
     "outputs": [
      {
       "output_type": "stream",
       "stream": "stdout",
       "text": [
        "[202]\n",
        "[280, 261, 284, 233, 207, 212, 206, 277, 287, 232, 210, 270, 238, 215, 209, 218, 205, 274, 259, 239]\n",
        "[158]\n"
       ]
      }
     ],
     "prompt_number": 2
    },
    {
     "cell_type": "code",
     "collapsed": false,
     "input": [
      "while len(e.GetViruses()) < 20:\n",
      "    cointoss = random()\n",
      "    print cointoss\n",
      "    \n",
      "    # 50% probability of replicating while mutating in the variable region and single position anywhere.\n",
      "    if cointoss < 0.5:\n",
      "        e.RandomlyReplicateAVirus(date=len(e.GetViruses()), mutate=True, mutate_variable_region=True)\n",
      "    \n",
      "    # 50% probability of replicating while mutating single position anywhere\n",
      "    if cointoss >= 0.5:\n",
      "        e.RandomlyReplicateAVirus(date=len(e.GetViruses()), mutate=True)"
     ],
     "language": "python",
     "metadata": {},
     "outputs": [
      {
       "output_type": "stream",
       "stream": "stdout",
       "text": [
        "0.637602033905\n",
        "[168]\n",
        "0.617982070144\n",
        "[295]\n",
        "0.196186450729\n",
        "The virus is a Small Flu Virus.\n",
        "[276]\n",
        "[274, 270, 217, 252, 278, 220, 286, 209, 267, 241, 221, 290, 235, 276, 288, 299, 247, 225, 284, 250]\n",
        "0.0379669377472\n",
        "The virus is a Small Flu Virus.\n",
        "[9]\n",
        "[284, 235, 296, 297, 245, 294, 264, 282, 232, 209, 288, 260, 213, 277, 251, 246, 216, 229, 255, 233]\n",
        "0.939357527501\n",
        "[204]\n",
        "0.785641003481\n",
        "[72]\n",
        "0.320894266683\n",
        "The virus is a Small Flu Virus.\n",
        "[88]\n",
        "[299, 237, 218, 232, 238, 212, 244, 276, 211, 202, 259, 225, 273, 286, 246, 274, 280, 217, 289, 266]\n",
        "0.866000718157\n",
        "[226]\n",
        "0.296546365013\n",
        "The virus is a Small Flu Virus.\n",
        "[124]\n",
        "[204, 256, 232, 260, 285, 234, 211, 220, 251, 281, 240, 200, 292, 271, 247, 298, 291, 210, 241, 224]\n",
        "0.223636874252\n",
        "The virus is a Small Flu Virus.\n",
        "[250]\n",
        "[237, 277, 271, 260, 245, 258, 229, 247, 235, 269, 288, 285, 208, 284, 282, 206, 210, 234, 255, 248]\n",
        "0.143297947611\n",
        "The virus is a Small Flu Virus.\n",
        "[133]\n",
        "[203, 238, 231, 233, 206, 261, 259, 205, 286, 264, 243, 250, 252, 244, 225, 221, 222, 278, 253, 299]\n",
        "0.254637298979\n",
        "The virus is a Small Flu Virus.\n",
        "[242]\n",
        "[288, 210, 279, 207, 274, 268, 218, 267, 257, 298, 213, 222, 223, 263, 282, 211, 265, 293, 281, 217]\n",
        "0.312863037424\n",
        "The virus is a Small Flu Virus.\n",
        "[286]\n",
        "[204, 248, 294, 257, 217, 258, 276, 237, 240, 230, 209, 205, 253, 284, 200, 224, 242, 289, 244, 220]\n",
        "0.0275944392497\n",
        "The virus is a Small Flu Virus.\n",
        "[167]\n",
        "[254, 266, 257, 228, 226, 255, 280, 206, 252, 236, 261, 221, 211, 235, 201, 222, 251, 253, 224, 217]\n",
        "0.620365036063\n",
        "[190]\n",
        "0.279842587538\n",
        "The virus is a Small Flu Virus.\n",
        "[18]\n",
        "[246, 281, 215, 206, 251, 239, 205, 265, 260, 221, 207, 257, 220, 268, 298, 219, 288, 294, 217, 279]\n",
        "0.172435819896\n",
        "The virus is a Small Flu Virus.\n",
        "[85]\n",
        "[273, 210, 292, 225, 232, 217, 259, 276, 230, 267, 255, 260, 278, 200, 218, 263, 234, 288, 243, 287]\n",
        "0.897273242063\n",
        "[32]\n",
        "0.788055954827\n",
        "[64]\n"
       ]
      }
     ],
     "prompt_number": 3
    },
    {
     "cell_type": "code",
     "collapsed": false,
     "input": [
      "len(e.GetViruses())"
     ],
     "language": "python",
     "metadata": {},
     "outputs": [
      {
       "metadata": {},
       "output_type": "pyout",
       "prompt_number": 4,
       "text": [
        "20"
       ]
      }
     ],
     "prompt_number": 4
    },
    {
     "cell_type": "code",
     "collapsed": false,
     "input": [
      "s = Sampler()\n",
      "s.SampleVirusesFromEnvironment(e, 'all')\n",
      "# s.DumpSequences()"
     ],
     "language": "python",
     "metadata": {},
     "outputs": [],
     "prompt_number": 7
    },
    {
     "cell_type": "code",
     "collapsed": false,
     "input": [
      "s.GenerateNetworkVisualization()"
     ],
     "language": "python",
     "metadata": {},
     "outputs": [
      {
       "metadata": {},
       "output_type": "display_data",
       "png": "[encoded data removed]",
       "text": [
        "<matplotlib.figure.Figure at 0x1063a9090>"
       ]
      }
     ],
     "prompt_number": 8
    },
    {
     "cell_type": "code",
     "collapsed": false,
     "input": [
      "# s.SampleVirusesFromEnvironment(e, 10)\n",
      "# s.DumpSequences()"
     ],
     "language": "python",
     "metadata": {},
     "outputs": []
    },
    {
     "cell_type": "code",
     "collapsed": false,
     "input": [
      "# s.GenerateNetworkVisualization()"
     ],
     "language": "python",
     "metadata": {},
     "outputs": []
    },
    {
     "cell_type": "code",
     "collapsed": false,
     "input": [],
     "language": "python",
     "metadata": {},
     "outputs": []
    }
   ],
   "metadata": {}
  }
 ]
}