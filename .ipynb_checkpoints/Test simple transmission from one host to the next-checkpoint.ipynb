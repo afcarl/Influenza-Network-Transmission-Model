{
 "metadata": {
  "name": "",
  "signature": "sha256:56076281dbe60eb10bc67a34fc50975700a8b71e0ad0da41ae8e83e59316be28"
 },
 "nbformat": 3,
 "nbformat_minor": 0,
 "worksheets": [
  {
   "cells": [
    {
     "cell_type": "code",
     "collapsed": false,
     "input": [
      "from controller import Controller"
     ],
     "language": "python",
     "metadata": {},
     "outputs": [],
     "prompt_number": 1
    },
    {
     "cell_type": "code",
     "collapsed": false,
     "input": [
      "c = Controller()\n",
      "c.create_environment(num_hosts=2)"
     ],
     "language": "python",
     "metadata": {},
     "outputs": [],
     "prompt_number": 2
    },
    {
     "cell_type": "code",
     "collapsed": false,
     "input": [
      "c.environments[0]"
     ],
     "language": "python",
     "metadata": {},
     "outputs": [
      {
       "metadata": {},
       "output_type": "pyout",
       "prompt_number": 3,
       "text": [
        "Environment 199feb45deeda9d62916a9294cd399506e3dff687781bd7086c18d496d3014ff2f51c9928b14d08d6fdc1ab4a0f20c365af1fea2104ca0030c2933ffe7f166c9 with 2 hosts."
       ]
      }
     ],
     "prompt_number": 3
    },
    {
     "cell_type": "code",
     "collapsed": false,
     "input": [
      "host0 = c.environments[0].hosts[0]\n",
      "host0"
     ],
     "language": "python",
     "metadata": {},
     "outputs": [
      {
       "metadata": {},
       "output_type": "pyout",
       "prompt_number": 4,
       "text": [
        "Host c9ef8072bbd716caa2ccc1d8eea09079cebd424f6619c208d3c6373ea660f9d14a2dc71deb5423bb9ae54925808479f58df5aa4cce2842cdf0bba0931f1f9e9b infected with 0 viruses"
       ]
      }
     ],
     "prompt_number": 4
    },
    {
     "cell_type": "code",
     "collapsed": false,
     "input": [
      "host1 = c.environments[0].hosts[1]\n",
      "host1"
     ],
     "language": "python",
     "metadata": {},
     "outputs": [
      {
       "metadata": {},
       "output_type": "pyout",
       "prompt_number": 5,
       "text": [
        "Host be926cfbdc48974c8cd21185e4bf6832fc38b2d561c07d796dfc710418be301190fdf8f1303100a2ad4b70f8841e3ec5329966107e9b94834aee1ed52aea7fa9 infected with 0 viruses"
       ]
      }
     ],
     "prompt_number": 5
    },
    {
     "cell_type": "code",
     "collapsed": false,
     "input": [
      "c.create_virus(host0)\n",
      "c.create_virus(host0)"
     ],
     "language": "python",
     "metadata": {},
     "outputs": [],
     "prompt_number": 7
    },
    {
     "cell_type": "code",
     "collapsed": false,
     "input": [
      "c.increment_timestep()\n",
      "c.increment_timestep()\n",
      "c.increment_timestep()"
     ],
     "language": "python",
     "metadata": {},
     "outputs": [
      {
       "output_type": "stream",
       "stream": "stdout",
       "text": [
        "Host 4395916304 currently has 2 viruses.\n",
        "Replicating 2 viruses.\n",
        "Total of 13 viruses generated in host 4395916304. \n",
        "Host 4395916304 now has 15 viruses.\n",
        "Time Difference: 1, Probability: 0.333333333333\n",
        "Removing 2 viruses out of 15 viruses from host 4395916304.\n",
        "Host 4395916304 is left with 13 viruses.\n",
        "Host 4395916304 currently has 13 viruses.\n",
        "Replicating 11 viruses.\n",
        "Total of 72 viruses generated in host 4395916304. \n",
        "Host 4395916304 now has 85 viruses.\n",
        "Time Difference: 2, Probability: 0.5\n",
        "Removing 38 viruses out of 85 viruses from host 4395916304.\n",
        "Host 4395916304 is left with 47 viruses.\n",
        "Host 4395916304 currently has 47 viruses.\n",
        "Replicating 12 viruses.\n",
        "Total of 86 viruses generated in host 4395916304. "
       ]
      },
      {
       "output_type": "stream",
       "stream": "stdout",
       "text": [
        "\n",
        "Host 4395916304 now has 133 viruses.\n",
        "Time Difference: 3, Probability: 0.6\n",
        "Removing 80 viruses out of 133 viruses from host 4395916304.\n",
        "Host 4395916304 is left with 53 viruses.\n"
       ]
      }
     ],
     "prompt_number": 8
    },
    {
     "cell_type": "code",
     "collapsed": false,
     "input": [
      "host0.infect(host1)"
     ],
     "language": "python",
     "metadata": {},
     "outputs": [
      {
       "output_type": "stream",
       "stream": "stdout",
       "text": [
        "Transmission 13 viruses out of 53 viruses from host 4395916304 to host 4395916368.\n"
       ]
      }
     ],
     "prompt_number": 9
    },
    {
     "cell_type": "code",
     "collapsed": false,
     "input": [
      "viruses1 = host1.viruses\n",
      "for i in viruses1:\n",
      "    print "
     ],
     "language": "python",
     "metadata": {},
     "outputs": [
      {
       "metadata": {},
       "output_type": "pyout",
       "prompt_number": 12,
       "text": [
        "[4440abda24ddb6bc6017b6cdefdb65c50e0721794b8ffa1da5c4c6b0b16dd89feb95b47dd8dacc3802654ef58591541018000613125642f583eea8403024b602,\n",
        " 681ff7b054b56c88396735d4bda94a6380eed5090d1b66d3538bbae13f8d89d529ca5d9e48c0e1946d12b245db44f552b75b6fcb8670d247637888d50f015e4b,\n",
        " 4fa714f231371cc9ac1ea061d9b58131ddfea1fddd3101eab4eefa744a63fcbc5c565c234aa7ea54f9c039bc0999e4975940d0f969b3b44b7751ba5d80f8246b,\n",
        " f7d46e5b153456799ec57a6473080c1950511bcb96fca1749f0f08d69745cbfdf3039c15eede8b8e47a947c9d61f084632235c2ba6d82e67b662d7a46b13536d,\n",
        " 40df06402ab2c92811ef350c5082d9a7582d4a6928ce7bea8d04d85c1c584bb8b3431fbc08d949cdf4ea7a0aefee986a798cb1e7d58bdb7986481acff5a2ceb3,\n",
        " f6e4325f748962ac7e0e432a9791f027ad0c33f0e6539f785af699fbe09c06b48f6b82acb8717de8677be10b415e8ad7e09f22c28f294b8c1dcee82affd21a1d,\n",
        " 7152e808ba4e88b53ec671832d48a6c1e26e1c2b394cb871c9eb982d8c426fb602babb692d6fd81dbfd8cc2cdc8a277ec42be86a823487a42ce7b2b8baf0e811,\n",
        " 98c22d42f43f5700c2893b3fd5ca724790250717e4f1f4cbe26ae229034cbb43750d20715dc92f2e56e00a0715d9b29859cefcfe1964f663781fd6d818e2ca64,\n",
        " 2f001bf0d675fbfd582fa1c6cda15377177288ad26a7344509ae058490af278395654e00f4917dbf8dbe1bdd7add4a4b0c1ae01d272f1ebc94b02e44f818b3ab,\n",
        " bc67629197d045e2dc7e03e12cd16122bda2416751d9f092e713451ee766ab6e9ad4ee83aba18d97353de4dcf87ba567b08eea2c245acc94cd28a420acb62499,\n",
        " 122e275a31372cf3aafa112ddbe8373426e4788baea06496d020ce4d49f51673bb4b28ac6208ac19baea4e53d2fe499072e9453d2e5022b8df9e80256f28677f,\n",
        " 3f99f05cd5a1f0d87dc98b54fbaa0b5c4a3e076fbcdef4b0bd4b41d2e4db93b2d326bb1edcf037f2e96784ee64788c2a01ff06739bdbba26b097e77cd19ceb5e,\n",
        " 9e0d38a370754925a885e840569be3d6e9778c8f2cfda7c75451bb4e2aac6243729b018f5ee8c0d86b73fb161acd3d6710905c50a709c924c65c30a46f3d74a9]"
       ]
      }
     ],
     "prompt_number": 12
    },
    {
     "cell_type": "code",
     "collapsed": false,
     "input": [],
     "language": "python",
     "metadata": {},
     "outputs": []
    }
   ],
   "metadata": {}
  }
 ]
}