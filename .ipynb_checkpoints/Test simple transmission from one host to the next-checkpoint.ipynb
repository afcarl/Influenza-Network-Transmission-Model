{
 "metadata": {
  "name": "",
  "signature": "sha256:0f506896e87355711fecfe9cb6682e8c09bc8ff8fffd9d5da5782a0a71393aa5"
 },
 "nbformat": 3,
 "nbformat_minor": 0,
 "worksheets": [
  {
   "cells": [
    {
     "cell_type": "code",
     "collapsed": false,
     "input": [
      "from controller import Controller"
     ],
     "language": "python",
     "metadata": {},
     "outputs": [],
     "prompt_number": 1
    },
    {
     "cell_type": "code",
     "collapsed": false,
     "input": [
      "c = Controller()\n",
      "c.create_environment(num_hosts=2)"
     ],
     "language": "python",
     "metadata": {},
     "outputs": [],
     "prompt_number": 2
    },
    {
     "cell_type": "code",
     "collapsed": false,
     "input": [
      "c.environments[0]"
     ],
     "language": "python",
     "metadata": {},
     "outputs": [
      {
       "metadata": {},
       "output_type": "pyout",
       "prompt_number": 3,
       "text": [
        "Environment cf3614ffd755fd5f4e3097f5bd9d20854c45100f577d92d06f452a38c66fe57ecb8843e2173e07ce0fdb0dfe66bc3c47e37bd6d53d4e4a8bd98b1514934faa8a with 2 hosts."
       ]
      }
     ],
     "prompt_number": 3
    },
    {
     "cell_type": "code",
     "collapsed": false,
     "input": [
      "host0 = c.environments[0].hosts[0]\n",
      "host0"
     ],
     "language": "python",
     "metadata": {},
     "outputs": [
      {
       "metadata": {},
       "output_type": "pyout",
       "prompt_number": 4,
       "text": [
        "Host 9c2ba8e73c90c4a9d091a8120d87c85dc9fd53cd36e42ee78f63724f4ae4c49dda9f2a8a776b557fbc7d2c76b57aabb5279c2ae24d2b4581a093bcdfecc8a03a infected with 0 viruses"
       ]
      }
     ],
     "prompt_number": 4
    },
    {
     "cell_type": "code",
     "collapsed": false,
     "input": [
      "host1 = c.environments[0].hosts[1]\n",
      "host1"
     ],
     "language": "python",
     "metadata": {},
     "outputs": [
      {
       "metadata": {},
       "output_type": "pyout",
       "prompt_number": 5,
       "text": [
        "Host 5e789399dd4c8cba502e08a51a649295ae11f6e9cfb7d46ad4ee5b027e0c9b41b0339fda851c476d279a5182ae5018fd1688c55702616bf5367664da8b21d62e infected with 0 viruses"
       ]
      }
     ],
     "prompt_number": 5
    },
    {
     "cell_type": "code",
     "collapsed": false,
     "input": [
      "c.create_virus(host0)\n",
      "c.create_virus(host0)"
     ],
     "language": "python",
     "metadata": {},
     "outputs": [],
     "prompt_number": 6
    },
    {
     "cell_type": "code",
     "collapsed": false,
     "input": [
      "c.increment_timestep()\n",
      "c.increment_timestep()\n",
      "c.increment_timestep()"
     ],
     "language": "python",
     "metadata": {},
     "outputs": [],
     "prompt_number": 7
    },
    {
     "cell_type": "code",
     "collapsed": false,
     "input": [
      "host0.infect(host1)"
     ],
     "language": "python",
     "metadata": {},
     "outputs": [],
     "prompt_number": 8
    },
    {
     "cell_type": "code",
     "collapsed": false,
     "input": [
      "viruses1 = host1.viruses\n",
      "for virus in viruses1:\n",
      "    print id(virus.host), virus.host.id\n",
      "    print id(host1), host1.id"
     ],
     "language": "python",
     "metadata": {},
     "outputs": [
      {
       "output_type": "stream",
       "stream": "stdout",
       "text": [
        "4395960464 5e789399dd4c8cba502e08a51a649295ae11f6e9cfb7d46ad4ee5b027e0c9b41b0339fda851c476d279a5182ae5018fd1688c55702616bf5367664da8b21d62e\n",
        "4395960464 5e789399dd4c8cba502e08a51a649295ae11f6e9cfb7d46ad4ee5b027e0c9b41b0339fda851c476d279a5182ae5018fd1688c55702616bf5367664da8b21d62e\n",
        "4395960464 5e789399dd4c8cba502e08a51a649295ae11f6e9cfb7d46ad4ee5b027e0c9b41b0339fda851c476d279a5182ae5018fd1688c55702616bf5367664da8b21d62e\n",
        "4395960464 5e789399dd4c8cba502e08a51a649295ae11f6e9cfb7d46ad4ee5b027e0c9b41b0339fda851c476d279a5182ae5018fd1688c55702616bf5367664da8b21d62e\n"
       ]
      }
     ],
     "prompt_number": 9
    },
    {
     "cell_type": "code",
     "collapsed": false,
     "input": [
      "plt.plot()"
     ],
     "language": "python",
     "metadata": {},
     "outputs": [],
     "prompt_number": 9
    }
   ],
   "metadata": {}
  }
 ]
}