{
 "metadata": {
  "name": "",
  "signature": "sha256:ce59e60ce4ca06918d4a78f5993e54f795527e1b487eb5657558a8a50f3ac40d"
 },
 "nbformat": 3,
 "nbformat_minor": 0,
 "worksheets": [
  {
   "cells": [
    {
     "cell_type": "code",
     "collapsed": false,
     "input": [
      "from virus import Virus\n",
      "from host import Host\n",
      "from environment import Environment"
     ],
     "language": "python",
     "metadata": {},
     "outputs": [],
     "prompt_number": 1
    },
    {
     "cell_type": "code",
     "collapsed": false,
     "input": [
      "e = Environment(num_hosts=0)\n",
      "h1 = Host(environment=e)\n",
      "h2 = Host(environment=e)\n",
      "v = Virus(creation_date=1, host=h1)\n",
      "v"
     ],
     "language": "python",
     "metadata": {},
     "outputs": [
      {
       "metadata": {},
       "output_type": "pyout",
       "prompt_number": 2,
       "text": [
        "a360cc69c700834cc2d02bd70a66662ab390bcbde3b0f4bc222a467af31ee46123f7012e35360f4804caef8728849c9879d25ea4637b24e2182d2290debb33ac"
       ]
      }
     ],
     "prompt_number": 2
    },
    {
     "cell_type": "code",
     "collapsed": false,
     "input": [
      "v.get_sequence()"
     ],
     "language": "python",
     "metadata": {},
     "outputs": [
      {
       "metadata": {},
       "output_type": "pyout",
       "prompt_number": 3,
       "text": [
        "['GAGTATCACC', 'TCCGCGGCCG']"
       ]
      }
     ],
     "prompt_number": 3
    },
    {
     "cell_type": "code",
     "collapsed": false,
     "input": [
      "v.compute_genome_length()"
     ],
     "language": "python",
     "metadata": {},
     "outputs": [
      {
       "metadata": {},
       "output_type": "pyout",
       "prompt_number": 4,
       "text": [
        "20"
       ]
      }
     ],
     "prompt_number": 4
    },
    {
     "cell_type": "code",
     "collapsed": false,
     "input": [
      "v.segments"
     ],
     "language": "python",
     "metadata": {},
     "outputs": [
      {
       "metadata": {},
       "output_type": "pyout",
       "prompt_number": 5,
       "text": [
        "[Segment 0, Segment 1]"
       ]
      }
     ],
     "prompt_number": 5
    },
    {
     "cell_type": "code",
     "collapsed": false,
     "input": [
      "v.segments[0].mutate()\n",
      "v.segments[0].compute_sequence()"
     ],
     "language": "python",
     "metadata": {},
     "outputs": [
      {
       "metadata": {},
       "output_type": "pyout",
       "prompt_number": 6,
       "text": [
        "'GAGTATCACC'"
       ]
      }
     ],
     "prompt_number": 6
    },
    {
     "cell_type": "code",
     "collapsed": false,
     "input": [
      "v.mutate()\n",
      "v.get_sequence()"
     ],
     "language": "python",
     "metadata": {},
     "outputs": [
      {
       "metadata": {},
       "output_type": "pyout",
       "prompt_number": 9,
       "text": [
        "['GAGTATCACC', 'TCCGCGGCCG']"
       ]
      }
     ],
     "prompt_number": 9
    },
    {
     "cell_type": "code",
     "collapsed": false,
     "input": [
      "v.replicate()"
     ],
     "language": "python",
     "metadata": {},
     "outputs": [
      {
       "output_type": "stream",
       "stream": "stdout",
       "text": [
        "258bc36618a5f749abc910c287cbf02131f3509ad26d0fd17a6c6051dd4bc9928718062eb9fad9ec19dd2a02915ddfdc5a9acfe9e8188c2e3d66c2967eead989\n"
       ]
      },
      {
       "metadata": {},
       "output_type": "pyout",
       "prompt_number": 11,
       "text": [
        "258bc36618a5f749abc910c287cbf02131f3509ad26d0fd17a6c6051dd4bc9928718062eb9fad9ec19dd2a02915ddfdc5a9acfe9e8188c2e3d66c2967eead989"
       ]
      }
     ],
     "prompt_number": 11
    },
    {
     "cell_type": "code",
     "collapsed": false,
     "input": [
      "h1, h2"
     ],
     "language": "python",
     "metadata": {},
     "outputs": [
      {
       "metadata": {},
       "output_type": "pyout",
       "prompt_number": 12,
       "text": [
        "(Host 6ebf324ac9c94699a5f0ed758e6a99d4550d5140939570d6e981b473afe50517f7c76d087a851cc83f63599da205a3a10d44481eb53668ef6aeed73997f8ccdd infected with 2 viruses.,\n",
        " Host e2cc370eb7bd163cde16a378e0fe8acc5a54c890c7fd496f3b9e5dd95a15334dd178fe9a40a3071570f89e3be4da05620f89ae30892d9a0623baa176d2c085b6 infected with 0 viruses.)"
       ]
      }
     ],
     "prompt_number": 12
    },
    {
     "cell_type": "code",
     "collapsed": false,
     "input": [
      "h1.get_viruses()[1].generate_progeny()"
     ],
     "language": "python",
     "metadata": {},
     "outputs": [
      {
       "output_type": "stream",
       "stream": "stdout",
       "text": [
        "Burst size is 18 \n"
       ]
      }
     ]
    },
    {
     "cell_type": "code",
     "collapsed": false,
     "input": [
      "len(h1.get_viruses())"
     ],
     "language": "python",
     "metadata": {},
     "outputs": []
    },
    {
     "cell_type": "code",
     "collapsed": false,
     "input": [
      "h1.get_viruses()[3].get_mutations()"
     ],
     "language": "python",
     "metadata": {},
     "outputs": []
    },
    {
     "cell_type": "code",
     "collapsed": false,
     "input": [
      "h1.get_viruses()[2].get_mutations()"
     ],
     "language": "python",
     "metadata": {},
     "outputs": []
    }
   ],
   "metadata": {}
  }
 ]
}