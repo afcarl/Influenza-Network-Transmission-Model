{
 "metadata": {
  "name": "",
  "signature": "sha256:f2172e2d712390e4d94a70d4e6c2a813fbc684c8cadd8e6a979caa7a4e14a1bd"
 },
 "nbformat": 3,
 "nbformat_minor": 0,
 "worksheets": [
  {
   "cells": [
    {
     "cell_type": "code",
     "collapsed": false,
     "input": [
      "from virus import Virus\n",
      "from host import Host\n",
      "from environment import Environment"
     ],
     "language": "python",
     "metadata": {},
     "outputs": [],
     "prompt_number": 1
    },
    {
     "cell_type": "code",
     "collapsed": false,
     "input": [
      "e = Environment(num_hosts=0)\n",
      "h1 = Host(environment=e)\n",
      "h2 = Host(environment=e)\n",
      "v = Virus(creation_date=1, host=h1)\n",
      "v"
     ],
     "language": "python",
     "metadata": {},
     "outputs": [
      {
       "metadata": {},
       "output_type": "pyout",
       "prompt_number": 2,
       "text": [
        "c81130a8f94713a89faf797d9cd286e09d4d7d89f1fa9ca2e802a76de9c554da51f497d8d0d7a241657f86d6d9f3637fa98445e1700625696fc7c98c478b47db"
       ]
      }
     ],
     "prompt_number": 2
    },
    {
     "cell_type": "code",
     "collapsed": false,
     "input": [
      "v.get_sequence()"
     ],
     "language": "python",
     "metadata": {},
     "outputs": [
      {
       "metadata": {},
       "output_type": "pyout",
       "prompt_number": 3,
       "text": [
        "['GTAATCACCT', 'TTCTGGTGCA']"
       ]
      }
     ],
     "prompt_number": 3
    },
    {
     "cell_type": "code",
     "collapsed": false,
     "input": [
      "v.compute_genome_length()"
     ],
     "language": "python",
     "metadata": {},
     "outputs": [
      {
       "metadata": {},
       "output_type": "pyout",
       "prompt_number": 4,
       "text": [
        "20"
       ]
      }
     ],
     "prompt_number": 4
    },
    {
     "cell_type": "code",
     "collapsed": false,
     "input": [
      "v.segments()"
     ],
     "language": "python",
     "metadata": {},
     "outputs": [
      {
       "metadata": {},
       "output_type": "pyout",
       "prompt_number": 5,
       "text": [
        "[Segment 0, Segment 1]"
       ]
      }
     ],
     "prompt_number": 5
    },
    {
     "cell_type": "code",
     "collapsed": false,
     "input": [
      "v.segments()[0].mutate()\n",
      "v.segments()[0].compute_sequence()"
     ],
     "language": "python",
     "metadata": {},
     "outputs": [
      {
       "metadata": {},
       "output_type": "pyout",
       "prompt_number": 6,
       "text": [
        "'GTAATCACCT'"
       ]
      }
     ],
     "prompt_number": 6
    },
    {
     "cell_type": "code",
     "collapsed": false,
     "input": [
      "v.mutate()\n",
      "v.get_sequence()"
     ],
     "language": "python",
     "metadata": {},
     "outputs": [
      {
       "metadata": {},
       "output_type": "pyout",
       "prompt_number": 7,
       "text": [
        "['GTAATCACCT', 'TTCTGGTGCA']"
       ]
      }
     ],
     "prompt_number": 7
    },
    {
     "cell_type": "code",
     "collapsed": false,
     "input": [
      "v.replicate()"
     ],
     "language": "python",
     "metadata": {},
     "outputs": [
      {
       "metadata": {},
       "output_type": "pyout",
       "prompt_number": 8,
       "text": [
        "15f5f6cfd7adc37d4c0284bc638cc6cd7f13cf6a5d7748f8bed8e0441cb388d80a580630c251ea7f9abad93f03d8a6a5b0c50634ea83eb41df0228b56bf5b7f3"
       ]
      }
     ],
     "prompt_number": 8
    },
    {
     "cell_type": "code",
     "collapsed": false,
     "input": [
      "h1, h2"
     ],
     "language": "python",
     "metadata": {},
     "outputs": [
      {
       "metadata": {},
       "output_type": "pyout",
       "prompt_number": 9,
       "text": [
        "(Host 097963a79b449244c2fcdcb2722e22b12aeb5f4d4fe50c77fd5d90786d24081f3ba55e8b7be21bada22f4d77054154c6cf02c711e1456bb8bafb3712b2dbe5aa infected with 2 viruses.,\n",
        " Host abb8908125f85c0f60a06eeb03d2da0a54c4479e9ae5b3794c26b5d9e005ba74895185111418b3fa746b1ebaa781ad3645e0fa2623097c11261955c3d5ff2ed1 infected with 0 viruses.)"
       ]
      }
     ],
     "prompt_number": 9
    },
    {
     "cell_type": "code",
     "collapsed": false,
     "input": [
      "h1.get_viruses()[1].generate_progeny()"
     ],
     "language": "python",
     "metadata": {},
     "outputs": [
      {
       "output_type": "stream",
       "stream": "stdout",
       "text": [
        "Burst size is 30 \n"
       ]
      }
     ],
     "prompt_number": 10
    },
    {
     "cell_type": "code",
     "collapsed": false,
     "input": [
      "len(h1.get_viruses())"
     ],
     "language": "python",
     "metadata": {},
     "outputs": [
      {
       "metadata": {},
       "output_type": "pyout",
       "prompt_number": 11,
       "text": [
        "32"
       ]
      }
     ],
     "prompt_number": 11
    },
    {
     "cell_type": "code",
     "collapsed": false,
     "input": [
      "h1.get_viruses()[2].generate_progeny()"
     ],
     "language": "python",
     "metadata": {},
     "outputs": [
      {
       "output_type": "stream",
       "stream": "stdout",
       "text": [
        "Burst size is 44 \n"
       ]
      }
     ],
     "prompt_number": 12
    },
    {
     "cell_type": "code",
     "collapsed": false,
     "input": [
      "len(h1.get_viruses())"
     ],
     "language": "python",
     "metadata": {},
     "outputs": [
      {
       "metadata": {},
       "output_type": "pyout",
       "prompt_number": 13,
       "text": [
        "76"
       ]
      }
     ],
     "prompt_number": 13
    },
    {
     "cell_type": "code",
     "collapsed": false,
     "input": [
      "h1.get_viruses()[3].mutations()"
     ],
     "language": "python",
     "metadata": {},
     "outputs": [
      {
       "metadata": {},
       "output_type": "pyout",
       "prompt_number": 14,
       "text": [
        "[{0: 'A', 1: 'T', 2: 'G', 3: 'G', 4: 'C', 5: 'G', 6: 'T', 8: 'T', 9: 'A'},\n",
        " {1: 'T', 2: 'C', 3: 'A', 4: 'T', 5: 'G', 6: 'C', 7: 'T', 8: 'G', 9: 'G'}]"
       ]
      }
     ],
     "prompt_number": 14
    },
    {
     "cell_type": "code",
     "collapsed": false,
     "input": [
      "h1.get_viruses()[2].mutations()"
     ],
     "language": "python",
     "metadata": {},
     "outputs": [
      {
       "metadata": {},
       "output_type": "pyout",
       "prompt_number": 15,
       "text": [
        "[{0: 'A', 1: 'T', 2: 'G', 3: 'G', 4: 'C', 5: 'G', 6: 'T', 8: 'T', 9: 'A'},\n",
        " {1: 'T', 2: 'C', 3: 'A', 4: 'T', 5: 'G', 6: 'C', 7: 'T', 8: 'G', 9: 'G'}]"
       ]
      }
     ],
     "prompt_number": 15
    },
    {
     "cell_type": "code",
     "collapsed": false,
     "input": [
      "h1.get_viruses()[23].sequence()"
     ],
     "language": "python",
     "metadata": {},
     "outputs": [
      {
       "metadata": {},
       "output_type": "pyout",
       "prompt_number": 28,
       "text": [
        "['ATGGCGTCTA', 'TTCATGCTGG']"
       ]
      }
     ],
     "prompt_number": 28
    },
    {
     "cell_type": "code",
     "collapsed": false,
     "input": [
      "h1.get_viruses()[56]['parent']"
     ],
     "language": "python",
     "metadata": {},
     "outputs": [
      {
       "metadata": {},
       "output_type": "pyout",
       "prompt_number": 20,
       "text": [
        "d821b9f861687bada2c5388cbba20052eef78bb1adc5c93764928f342158b72005edb493da5764b1417fe16525b270be9eb1c85c5e808f9adb9f5412053f59af"
       ]
      }
     ],
     "prompt_number": 20
    },
    {
     "cell_type": "code",
     "collapsed": false,
     "input": [],
     "language": "python",
     "metadata": {},
     "outputs": []
    }
   ],
   "metadata": {}
  }
 ]
}