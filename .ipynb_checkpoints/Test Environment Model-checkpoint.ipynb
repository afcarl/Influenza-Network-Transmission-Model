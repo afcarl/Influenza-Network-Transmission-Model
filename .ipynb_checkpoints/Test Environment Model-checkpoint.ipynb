{
 "metadata": {
  "name": "",
  "signature": "sha256:ac14cc79401d6bd43eb5ce9f6126209fbd4a6392e2533fc3846f1b145d1a133e"
 },
 "nbformat": 3,
 "nbformat_minor": 0,
 "worksheets": [
  {
   "cells": [
    {
     "cell_type": "code",
     "collapsed": false,
     "input": [
      "from environment import Environment\n",
      "import networkx as nx\n",
      "from random import random"
     ],
     "language": "python",
     "metadata": {},
     "outputs": [],
     "prompt_number": 1
    },
    {
     "cell_type": "code",
     "collapsed": false,
     "input": [
      "e = Environment(num_viruses=2)\n",
      "e.GetViruses()"
     ],
     "language": "python",
     "metadata": {},
     "outputs": [
      {
       "metadata": {},
       "output_type": "pyout",
       "prompt_number": 2,
       "text": [
        "[0, 1]"
       ]
      }
     ],
     "prompt_number": 2
    },
    {
     "cell_type": "code",
     "collapsed": false,
     "input": [
      "for virus in e.GetViruses():\n",
      "    print virus.GetSegments()"
     ],
     "language": "python",
     "metadata": {},
     "outputs": [
      {
       "output_type": "stream",
       "stream": "stdout",
       "text": [
        "[0 TGGGCGTACC, 1 AAGTCGGTAA]\n",
        "[0 TGCTTAGATA, 1 GCGACCTCGG]\n"
       ]
      }
     ],
     "prompt_number": 3
    },
    {
     "cell_type": "code",
     "collapsed": false,
     "input": [
      "e.RandomlyReassortTwoViruses(mutate=False)\n",
      "e.GetViruses()"
     ],
     "language": "python",
     "metadata": {},
     "outputs": [
      {
       "output_type": "stream",
       "stream": "stdout",
       "text": [
        "{0: [0 TGCTTAGATA, 0 TGGGCGTACC], 1: [1 GCGACCTCGG, 1 AAGTCGGTAA]}\n"
       ]
      },
      {
       "metadata": {},
       "output_type": "pyout",
       "prompt_number": 4,
       "text": [
        "[0, 1, 2]"
       ]
      }
     ],
     "prompt_number": 4
    },
    {
     "cell_type": "code",
     "collapsed": false,
     "input": [
      "for virus in e.GetViruses():\n",
      "    print virus.GetSegments()"
     ],
     "language": "python",
     "metadata": {},
     "outputs": [
      {
       "output_type": "stream",
       "stream": "stdout",
       "text": [
        "[0 TGGGCGTACC, 1 AAGTCGGTAA]\n",
        "[0 TGCTTAGATA, 1 GCGACCTCGG]\n",
        "[0 TGGGCGTACC, 1 GCGACCTCGG]\n"
       ]
      }
     ],
     "prompt_number": 5
    },
    {
     "cell_type": "code",
     "collapsed": false,
     "input": [
      "replication_rounds = range(10)\n",
      "for n in replication_rounds:\n",
      "    cointoss = random()\n",
      "    if cointoss > 0.5:\n",
      "        mutate = True\n",
      "    else:\n",
      "        mutate = False\n",
      "    e.ReplicateAVirus(mutate)"
     ],
     "language": "python",
     "metadata": {},
     "outputs": [],
     "prompt_number": 6
    },
    {
     "cell_type": "code",
     "collapsed": false,
     "input": [
      "for virus in e.GetViruses():\n",
      "    print virus.GetSequences(), virus.mutated"
     ],
     "language": "python",
     "metadata": {},
     "outputs": [
      {
       "output_type": "stream",
       "stream": "stdout",
       "text": [
        "['TGGGCGTACC', 'AAGTCGGTAA'] False\n",
        "['TGCTTAGATA', 'GCGACCTCGG'] False\n",
        "['TGGGCGTACC', 'GCGACCTCGG'] False\n",
        "['TGCTTAGATA', 'GCGACCTCGG'] False\n",
        "['TGGGCGTACC', 'TAGTCGGTAA'] True\n",
        "['TGCCTAGATA', 'GCGACCTCGG'] True\n",
        "['TGCTTAGATA', 'GCGACCTCGG'] False\n",
        "['TGGGCGTACC', 'AAGTCGGTAA'] False\n",
        "['TGGGCGTATC', 'GCGACCTCGG'] True\n",
        "['TGGGCGTACC', 'AAGTGGGTAA'] True\n",
        "['TGCTTAGATA', 'GCGACCTCGG'] False\n",
        "['TGGGCGTACC', 'AAGTCGGTAA'] False\n",
        "['AGCCTAGATA', 'GCGACCTCGG'] True\n"
       ]
      }
     ],
     "prompt_number": 7
    },
    {
     "cell_type": "code",
     "collapsed": false,
     "input": [
      "print len(e.GetViruses())"
     ],
     "language": "python",
     "metadata": {},
     "outputs": [
      {
       "output_type": "stream",
       "stream": "stdout",
       "text": [
        "13\n"
       ]
      }
     ],
     "prompt_number": 8
    },
    {
     "cell_type": "code",
     "collapsed": false,
     "input": [
      "e.RandomlyReassortTwoViruses(mutate=False)"
     ],
     "language": "python",
     "metadata": {},
     "outputs": [
      {
       "output_type": "stream",
       "stream": "stdout",
       "text": [
        "{0: [0 TGGGCGTACC, 0 TGGGCGTACC], 1: [1 GCGACCTCGG, 1 AAGTCGGTAA]}\n"
       ]
      }
     ],
     "prompt_number": 27
    },
    {
     "cell_type": "markdown",
     "metadata": {},
     "source": [
      "Visualize the network model"
     ]
    },
    {
     "cell_type": "code",
     "collapsed": false,
     "input": [
      "G = nx.DiGraph()"
     ],
     "language": "python",
     "metadata": {},
     "outputs": [],
     "prompt_number": 28
    },
    {
     "cell_type": "code",
     "collapsed": false,
     "input": [
      "for virus in e.GetViruses():\n",
      "    parent = virus.GetParent()\n",
      "    child = virus.GetID()\n",
      "    if parent == None:\n",
      "        G.add_node(child)\n",
      "    elif type(parent) == int:\n",
      "        G.add_edge(parent, child, weight=0.5)\n",
      "    elif len(parent) == 2:\n",
      "        G.add_edge(parent[0], child, weight=0.5)\n",
      "        G.add_edge(parent[1], child, weight=0.5)\n"
     ],
     "language": "python",
     "metadata": {},
     "outputs": [],
     "prompt_number": 29
    },
    {
     "cell_type": "code",
     "collapsed": false,
     "input": [
      "G.nodes()"
     ],
     "language": "python",
     "metadata": {},
     "outputs": [
      {
       "metadata": {},
       "output_type": "pyout",
       "prompt_number": 30,
       "text": [
        "[0, 1, 2, 3, 4, 5, 6, 7, 8, 9, 10, 11, 12, 13]"
       ]
      }
     ],
     "prompt_number": 30
    },
    {
     "cell_type": "code",
     "collapsed": false,
     "input": [
      "G.edges()"
     ],
     "language": "python",
     "metadata": {},
     "outputs": [
      {
       "metadata": {},
       "output_type": "pyout",
       "prompt_number": 31,
       "text": [
        "[(0, 2),\n",
        " (0, 4),\n",
        " (0, 7),\n",
        " (1, 2),\n",
        " (1, 3),\n",
        " (1, 6),\n",
        " (2, 8),\n",
        " (2, 13),\n",
        " (3, 10),\n",
        " (3, 5),\n",
        " (5, 12),\n",
        " (7, 9),\n",
        " (7, 11),\n",
        " (7, 13)]"
       ]
      }
     ],
     "prompt_number": 31
    },
    {
     "cell_type": "code",
     "collapsed": false,
     "input": [
      "nx.draw_circular(G)"
     ],
     "language": "python",
     "metadata": {},
     "outputs": [
      {
       "metadata": {},
       "output_type": "display_data",
       "png": "[encoded data removed]",
       "text": [
        "<matplotlib.figure.Figure at 0x106059390>"
       ]
      }
     ],
     "prompt_number": 32
    },
    {
     "cell_type": "code",
     "collapsed": false,
     "input": [],
     "language": "python",
     "metadata": {},
     "outputs": []
    }
   ],
   "metadata": {}
  }
 ]
}