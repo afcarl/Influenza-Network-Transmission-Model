{
 "metadata": {
  "name": "",
  "signature": "sha256:b091c7e9a2067a2b7f6f9dfd93e9d749fdb371a603af3c1e217f29821bae7fb3"
 },
 "nbformat": 3,
 "nbformat_minor": 0,
 "worksheets": [
  {
   "cells": [
    {
     "cell_type": "code",
     "collapsed": false,
     "input": [
      "from environment import Environment\n",
      "import networkx as nx\n",
      "from random import random"
     ],
     "language": "python",
     "metadata": {},
     "outputs": [],
     "prompt_number": 1
    },
    {
     "cell_type": "code",
     "collapsed": false,
     "input": [
      "# Create an environment with 2 viruses\n",
      "e = Environment(num_viruses=2)\n",
      "\n",
      "# Get the virus IDs\n",
      "e.GetViruses()"
     ],
     "language": "python",
     "metadata": {},
     "outputs": [
      {
       "metadata": {},
       "output_type": "pyout",
       "prompt_number": 2,
       "text": [
        "[0, 1]"
       ]
      }
     ],
     "prompt_number": 2
    },
    {
     "cell_type": "code",
     "collapsed": false,
     "input": [
      "# For each virus, print each segment's ID and sequence\n",
      "for virus in e.GetViruses():\n",
      "    print virus.GetSegments()"
     ],
     "language": "python",
     "metadata": {},
     "outputs": [
      {
       "output_type": "stream",
       "stream": "stdout",
       "text": [
        "[0 TAAGCAGGTC, 1 GCGCCCAGAC]\n",
        "[0 CTGTTGTTGC, 1 GACATGCCAC]\n"
       ]
      }
     ],
     "prompt_number": 3
    },
    {
     "cell_type": "code",
     "collapsed": false,
     "input": [
      "# Pick any two viruses in the current set of viruses in the environment, and subject them to a random reassortment process.\n",
      "e.RandomlyReassortTwoViruses(mutate=False)\n",
      "# If a set with two elements is printed out, then both viruses were the parents.\n",
      "# If a set with one element only is printed, then only that virus was the parent.\n",
      "e.GetViruses()"
     ],
     "language": "python",
     "metadata": {},
     "outputs": [
      {
       "output_type": "stream",
       "stream": "stdout",
       "text": [
        "set([0, 1])\n"
       ]
      },
      {
       "metadata": {},
       "output_type": "pyout",
       "prompt_number": 4,
       "text": [
        "[0, 1, 2]"
       ]
      }
     ],
     "prompt_number": 4
    },
    {
     "cell_type": "code",
     "collapsed": false,
     "input": [
      "# Once again, print the virus sequences to verify that the reassortment did (or did not) take place.\n",
      "for virus in e.GetViruses():\n",
      "    print virus.GetSegments()"
     ],
     "language": "python",
     "metadata": {},
     "outputs": [
      {
       "output_type": "stream",
       "stream": "stdout",
       "text": [
        "[0 TAAGCAGGTC, 1 GCGCCCAGAC]\n",
        "[0 CTGTTGTTGC, 1 GACATGCCAC]\n",
        "[0 TAAGCAGGTC, 1 GACATGCCAC]\n"
       ]
      }
     ],
     "prompt_number": 5
    },
    {
     "cell_type": "code",
     "collapsed": false,
     "input": [
      "# Subject the environment to 10 rounds of replication. Allow the viruses to mutate with some probability (here it is 0.5)\n",
      "replication_rounds = range(10)\n",
      "for n in replication_rounds:\n",
      "    cointoss = random()\n",
      "    if cointoss > 0.5:\n",
      "        mutate = True\n",
      "    else:\n",
      "        mutate = False\n",
      "    e.ReplicateAVirus(mutate)"
     ],
     "language": "python",
     "metadata": {},
     "outputs": [],
     "prompt_number": 6
    },
    {
     "cell_type": "code",
     "collapsed": false,
     "input": [
      "for virus in e.GetViruses():\n",
      "    print virus, virus.GetSegments(), virus.mutated, virus.reassorted"
     ],
     "language": "python",
     "metadata": {},
     "outputs": [
      {
       "output_type": "stream",
       "stream": "stdout",
       "text": [
        "0 [0 TAAGCAGGTC, 1 GCGCCCAGAC] False False\n",
        "1 [0 CTGTTGTTGC, 1 GACATGCCAC] False False\n",
        "2 [0 TAAGCAGGTC, 1 GACATGCCAC] False True\n",
        "3 [0 TAAGCAGGTC, 1 GACATGCCAC] False False\n",
        "4 [0 TAAGCAGGTC, 1 GGCATGCCAC] True False\n",
        "5 [0 TATGCAGGTC, 1 GACATGCCAC] True False\n",
        "6 [0 TAAGCGGGTC, 1 GACATGCCAC] True False\n",
        "7 [0 TAAGCGGGTC, 1 GACATGCCAC] False False\n",
        "8 [0 TAAGCAGGTC, 1 GCGCCCAGAT] True False\n",
        "9 [0 CTGTTGTTGC, 1 AACATGCCAC] True False\n",
        "10 [0 TAAGCGGGTC, 1 GACATGCCAC] False False\n",
        "11 [0 TAAGCAGGTC, 1 TACATGCCAC] True False\n",
        "12 [0 TAAGCAGGTC, 1 GCCATGCCAC] True False\n"
       ]
      }
     ],
     "prompt_number": 7
    },
    {
     "cell_type": "code",
     "collapsed": false,
     "input": [
      "print len(e.GetViruses())"
     ],
     "language": "python",
     "metadata": {},
     "outputs": [
      {
       "output_type": "stream",
       "stream": "stdout",
       "text": [
        "13\n"
       ]
      }
     ],
     "prompt_number": 8
    },
    {
     "cell_type": "code",
     "collapsed": false,
     "input": [
      "e.RandomlyReassortTwoViruses(mutate=False)\n",
      "e.RandomlyReassortTwoViruses(mutate=False)"
     ],
     "language": "python",
     "metadata": {},
     "outputs": [
      {
       "output_type": "stream",
       "stream": "stdout",
       "text": [
        "set([9])\n",
        "set([4, 6])\n"
       ]
      }
     ],
     "prompt_number": 9
    },
    {
     "cell_type": "code",
     "collapsed": false,
     "input": [
      "for virus in e.GetViruses():\n",
      "    print virus, virus.GetSegments(), virus.mutated, virus.reassorted"
     ],
     "language": "python",
     "metadata": {},
     "outputs": [
      {
       "output_type": "stream",
       "stream": "stdout",
       "text": [
        "0 [0 TAAGCAGGTC, 1 GCGCCCAGAC] False False\n",
        "1 [0 CTGTTGTTGC, 1 GACATGCCAC] False False\n",
        "2 [0 TAAGCAGGTC, 1 GACATGCCAC] False True\n",
        "3 [0 TAAGCAGGTC, 1 GACATGCCAC] False False\n",
        "4 [0 TAAGCAGGTC, 1 GGCATGCCAC] True False\n",
        "5 [0 TATGCAGGTC, 1 GACATGCCAC] True False\n",
        "6 [0 TAAGCGGGTC, 1 GACATGCCAC] True False\n",
        "7 [0 TAAGCGGGTC, 1 GACATGCCAC] False False\n",
        "8 [0 TAAGCAGGTC, 1 GCGCCCAGAT] True False\n",
        "9 [0 CTGTTGTTGC, 1 AACATGCCAC] True False\n",
        "10 [0 TAAGCGGGTC, 1 GACATGCCAC] False False\n",
        "11 [0 TAAGCAGGTC, 1 TACATGCCAC] True False\n",
        "12 [0 TAAGCAGGTC, 1 GCCATGCCAC] True False\n",
        "13 [0 CTGTTGTTGC, 1 AACATGCCAC] False True\n",
        "14 [0 TAAGCGGGTC, 1 GGCATGCCAC] False True\n"
       ]
      }
     ],
     "prompt_number": 11
    },
    {
     "cell_type": "markdown",
     "metadata": {},
     "source": [
      "Visualize the network model"
     ]
    },
    {
     "cell_type": "code",
     "collapsed": false,
     "input": [
      "G = nx.DiGraph()"
     ],
     "language": "python",
     "metadata": {},
     "outputs": [],
     "prompt_number": 12
    },
    {
     "cell_type": "code",
     "collapsed": false,
     "input": [
      "for virus in e.GetViruses():\n",
      "    parent = virus.GetParent()\n",
      "    child = virus.GetID()\n",
      "    if parent == None:\n",
      "        G.add_node(child)\n",
      "    elif type(parent) == int:\n",
      "        G.add_edge(parent, child, weight=1)\n",
      "    elif len(parent) == 2:\n",
      "        G.add_edge(parent[0], child, weight=0.5)\n",
      "        G.add_edge(parent[1], child, weight=0.5)\n"
     ],
     "language": "python",
     "metadata": {},
     "outputs": [],
     "prompt_number": 13
    },
    {
     "cell_type": "code",
     "collapsed": false,
     "input": [
      "G.nodes()"
     ],
     "language": "python",
     "metadata": {},
     "outputs": [
      {
       "metadata": {},
       "output_type": "pyout",
       "prompt_number": 14,
       "text": [
        "[0, 1, 2, 3, 4, 5, 6, 7, 8, 9, 10, 11, 12, 13, 14]"
       ]
      }
     ],
     "prompt_number": 14
    },
    {
     "cell_type": "code",
     "collapsed": false,
     "input": [
      "G.edges()"
     ],
     "language": "python",
     "metadata": {},
     "outputs": [
      {
       "metadata": {},
       "output_type": "pyout",
       "prompt_number": 15,
       "text": [
        "[(0, 8),\n",
        " (0, 2),\n",
        " (1, 9),\n",
        " (1, 2),\n",
        " (2, 11),\n",
        " (2, 3),\n",
        " (3, 12),\n",
        " (3, 4),\n",
        " (3, 5),\n",
        " (3, 6),\n",
        " (4, 14),\n",
        " (6, 10),\n",
        " (6, 14),\n",
        " (6, 7),\n",
        " (9, 13)]"
       ]
      }
     ],
     "prompt_number": 15
    },
    {
     "cell_type": "code",
     "collapsed": false,
     "input": [
      "nx.draw_circular(G)"
     ],
     "language": "python",
     "metadata": {},
     "outputs": [
      {
       "metadata": {},
       "output_type": "display_data",
       "png": "[encoded data removed]",
       "text": [
        "<matplotlib.figure.Figure at 0x106046950>"
       ]
      }
     ],
     "prompt_number": 16
    },
    {
     "cell_type": "code",
     "collapsed": false,
     "input": [],
     "language": "python",
     "metadata": {},
     "outputs": [],
     "prompt_number": 15
    },
    {
     "cell_type": "code",
     "collapsed": false,
     "input": [],
     "language": "python",
     "metadata": {},
     "outputs": []
    }
   ],
   "metadata": {}
  }
 ]
}