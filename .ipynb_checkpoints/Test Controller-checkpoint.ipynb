{
 "metadata": {
  "name": "",
  "signature": "sha256:e85f7f8287736cbe6bbd89d92925405dbec0871a0cf838d413dafad282673bf4"
 },
 "nbformat": 3,
 "nbformat_minor": 0,
 "worksheets": [
  {
   "cells": [
    {
     "cell_type": "code",
     "collapsed": false,
     "input": [
      "from controller import Controller"
     ],
     "language": "python",
     "metadata": {},
     "outputs": [],
     "prompt_number": 1
    },
    {
     "cell_type": "code",
     "collapsed": false,
     "input": [
      "c = Controller()"
     ],
     "language": "python",
     "metadata": {},
     "outputs": [],
     "prompt_number": 2
    },
    {
     "cell_type": "code",
     "collapsed": false,
     "input": [
      "c.create_environment(num_hosts=1)"
     ],
     "language": "python",
     "metadata": {},
     "outputs": [],
     "prompt_number": 3
    },
    {
     "cell_type": "code",
     "collapsed": false,
     "input": [
      "c.environments"
     ],
     "language": "python",
     "metadata": {},
     "outputs": [
      {
       "metadata": {},
       "output_type": "pyout",
       "prompt_number": 4,
       "text": [
        "[Environment 6e403cb47e51fdd0a873d19534c5a6121315d8300c86dc7047629695d8e2339452355667f9363f3fda54871bab63c84bd3145eb68c0e81300b5a69d854db0056 with 0 hosts.]"
       ]
      }
     ],
     "prompt_number": 4
    },
    {
     "cell_type": "code",
     "collapsed": false,
     "input": [
      "c.create_host(c.environments[0])"
     ],
     "language": "python",
     "metadata": {},
     "outputs": [],
     "prompt_number": 5
    },
    {
     "cell_type": "code",
     "collapsed": false,
     "input": [
      "c.environments"
     ],
     "language": "python",
     "metadata": {},
     "outputs": [
      {
       "metadata": {},
       "output_type": "pyout",
       "prompt_number": 6,
       "text": [
        "[Environment 6e403cb47e51fdd0a873d19534c5a6121315d8300c86dc7047629695d8e2339452355667f9363f3fda54871bab63c84bd3145eb68c0e81300b5a69d854db0056 with 1 hosts.]"
       ]
      }
     ],
     "prompt_number": 6
    },
    {
     "cell_type": "code",
     "collapsed": false,
     "input": [
      "c.create_hosts(c.environments[0], 3)\n",
      "c.environments"
     ],
     "language": "python",
     "metadata": {},
     "outputs": [
      {
       "metadata": {},
       "output_type": "pyout",
       "prompt_number": 7,
       "text": [
        "[Environment 6e403cb47e51fdd0a873d19534c5a6121315d8300c86dc7047629695d8e2339452355667f9363f3fda54871bab63c84bd3145eb68c0e81300b5a69d854db0056 with 4 hosts.]"
       ]
      }
     ],
     "prompt_number": 7
    },
    {
     "cell_type": "code",
     "collapsed": false,
     "input": [
      "hosts = c.environments[0].hosts\n",
      "hosts"
     ],
     "language": "python",
     "metadata": {},
     "outputs": [
      {
       "metadata": {},
       "output_type": "pyout",
       "prompt_number": 8,
       "text": [
        "[Host d15853f265cb1dfb9758cadcc14c97fd14e3b42366247d86cf4936fe46dfad7d80f8edf87e6cd1992ecb51034dc5a1fd8f5a9a1a128f2446e8d858d452481367 infected with 0 viruses.,\n",
        " Host 194ee9a863c33d6c2abda31bc72983990c15fcd8811a2b558181cdcb5e3d608356af682b29a4c5e702d658386d3a799a45ebb7ace786efb9f3f64e5081130099 infected with 0 viruses.,\n",
        " Host 751dd3da4717b9c951c4b078b7fcf63057895639f4b61bf7ccd54c1715f15e8b22401b106007b14ac7963d3c679e7c707a2703277ebd0a228f1002bfce893582 infected with 0 viruses.,\n",
        " Host d82137a14c2c442493f28bac1a89b4c80fa122e051c8eebb61a399c9c5f0d9bb04bbf3f1df89d107a8f95710846ce0e83606ca2055cef87ee95ffc23f37992d0 infected with 0 viruses.]"
       ]
      }
     ],
     "prompt_number": 8
    },
    {
     "cell_type": "code",
     "collapsed": false,
     "input": [
      "for host in hosts:\n",
      "    c.create_virus(host)"
     ],
     "language": "python",
     "metadata": {},
     "outputs": [],
     "prompt_number": 9
    },
    {
     "cell_type": "code",
     "collapsed": false,
     "input": [
      "hosts"
     ],
     "language": "python",
     "metadata": {},
     "outputs": [
      {
       "metadata": {},
       "output_type": "pyout",
       "prompt_number": 10,
       "text": [
        "[Host d15853f265cb1dfb9758cadcc14c97fd14e3b42366247d86cf4936fe46dfad7d80f8edf87e6cd1992ecb51034dc5a1fd8f5a9a1a128f2446e8d858d452481367 infected with 1 viruses.,\n",
        " Host 194ee9a863c33d6c2abda31bc72983990c15fcd8811a2b558181cdcb5e3d608356af682b29a4c5e702d658386d3a799a45ebb7ace786efb9f3f64e5081130099 infected with 1 viruses.,\n",
        " Host 751dd3da4717b9c951c4b078b7fcf63057895639f4b61bf7ccd54c1715f15e8b22401b106007b14ac7963d3c679e7c707a2703277ebd0a228f1002bfce893582 infected with 1 viruses.,\n",
        " Host d82137a14c2c442493f28bac1a89b4c80fa122e051c8eebb61a399c9c5f0d9bb04bbf3f1df89d107a8f95710846ce0e83606ca2055cef87ee95ffc23f37992d0 infected with 1 viruses.]"
       ]
      }
     ],
     "prompt_number": 10
    },
    {
     "cell_type": "code",
     "collapsed": false,
     "input": [
      "c.increment_timestep()"
     ],
     "language": "python",
     "metadata": {},
     "outputs": [],
     "prompt_number": 11
    },
    {
     "cell_type": "code",
     "collapsed": false,
     "input": [
      "c.environments[0].current_time"
     ],
     "language": "python",
     "metadata": {},
     "outputs": [
      {
       "metadata": {},
       "output_type": "pyout",
       "prompt_number": 12,
       "text": [
        "1"
       ]
      }
     ],
     "prompt_number": 12
    },
    {
     "cell_type": "code",
     "collapsed": false,
     "input": [
      "c.current_time"
     ],
     "language": "python",
     "metadata": {},
     "outputs": [
      {
       "metadata": {},
       "output_type": "pyout",
       "prompt_number": 13,
       "text": [
        "1"
       ]
      }
     ],
     "prompt_number": 13
    },
    {
     "cell_type": "code",
     "collapsed": false,
     "input": [
      "c.increment_one_generation_time(c.environments[0])"
     ],
     "language": "python",
     "metadata": {},
     "outputs": [],
     "prompt_number": 14
    },
    {
     "cell_type": "code",
     "collapsed": false,
     "input": [
      "c.environments[0].hosts"
     ],
     "language": "python",
     "metadata": {},
     "outputs": [
      {
       "metadata": {},
       "output_type": "pyout",
       "prompt_number": 15,
       "text": [
        "[Host d15853f265cb1dfb9758cadcc14c97fd14e3b42366247d86cf4936fe46dfad7d80f8edf87e6cd1992ecb51034dc5a1fd8f5a9a1a128f2446e8d858d452481367 infected with 1 viruses.,\n",
        " Host 194ee9a863c33d6c2abda31bc72983990c15fcd8811a2b558181cdcb5e3d608356af682b29a4c5e702d658386d3a799a45ebb7ace786efb9f3f64e5081130099 infected with 7 viruses.,\n",
        " Host 751dd3da4717b9c951c4b078b7fcf63057895639f4b61bf7ccd54c1715f15e8b22401b106007b14ac7963d3c679e7c707a2703277ebd0a228f1002bfce893582 infected with 7 viruses.,\n",
        " Host d82137a14c2c442493f28bac1a89b4c80fa122e051c8eebb61a399c9c5f0d9bb04bbf3f1df89d107a8f95710846ce0e83606ca2055cef87ee95ffc23f37992d0 infected with 5 viruses.]"
       ]
      }
     ],
     "prompt_number": 15
    },
    {
     "cell_type": "code",
     "collapsed": false,
     "input": [
      "c.increment_one_generation_time(c.environments[0])"
     ],
     "language": "python",
     "metadata": {},
     "outputs": [],
     "prompt_number": 16
    },
    {
     "cell_type": "code",
     "collapsed": false,
     "input": [
      "c.environments[0].hosts"
     ],
     "language": "python",
     "metadata": {},
     "outputs": [
      {
       "metadata": {},
       "output_type": "pyout",
       "prompt_number": 17,
       "text": [
        "[Host d15853f265cb1dfb9758cadcc14c97fd14e3b42366247d86cf4936fe46dfad7d80f8edf87e6cd1992ecb51034dc5a1fd8f5a9a1a128f2446e8d858d452481367 infected with 1 viruses.,\n",
        " Host 194ee9a863c33d6c2abda31bc72983990c15fcd8811a2b558181cdcb5e3d608356af682b29a4c5e702d658386d3a799a45ebb7ace786efb9f3f64e5081130099 infected with 13 viruses.,\n",
        " Host 751dd3da4717b9c951c4b078b7fcf63057895639f4b61bf7ccd54c1715f15e8b22401b106007b14ac7963d3c679e7c707a2703277ebd0a228f1002bfce893582 infected with 41 viruses.,\n",
        " Host d82137a14c2c442493f28bac1a89b4c80fa122e051c8eebb61a399c9c5f0d9bb04bbf3f1df89d107a8f95710846ce0e83606ca2055cef87ee95ffc23f37992d0 infected with 23 viruses.]"
       ]
      }
     ],
     "prompt_number": 17
    },
    {
     "cell_type": "code",
     "collapsed": false,
     "input": [
      "c.create_hosts(c.environments[0], 100)"
     ],
     "language": "python",
     "metadata": {},
     "outputs": [],
     "prompt_number": 18
    },
    {
     "cell_type": "code",
     "collapsed": false,
     "input": [
      "c.environments[0]"
     ],
     "language": "python",
     "metadata": {},
     "outputs": [
      {
       "metadata": {},
       "output_type": "pyout",
       "prompt_number": 19,
       "text": [
        "Environment 6e403cb47e51fdd0a873d19534c5a6121315d8300c86dc7047629695d8e2339452355667f9363f3fda54871bab63c84bd3145eb68c0e81300b5a69d854db0056 with 104 hosts."
       ]
      }
     ],
     "prompt_number": 19
    },
    {
     "cell_type": "code",
     "collapsed": false,
     "input": [
      "c.make_one_infection_happen(c.environments[0])"
     ],
     "language": "python",
     "metadata": {},
     "outputs": [],
     "prompt_number": 20
    },
    {
     "cell_type": "code",
     "collapsed": false,
     "input": [],
     "language": "python",
     "metadata": {},
     "outputs": []
    }
   ],
   "metadata": {}
  }
 ]
}