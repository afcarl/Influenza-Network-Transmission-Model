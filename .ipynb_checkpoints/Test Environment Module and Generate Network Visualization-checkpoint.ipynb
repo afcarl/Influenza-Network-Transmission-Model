{
 "metadata": {
  "name": "",
  "signature": "sha256:3fbe6468fd495ed04031ea42dd7ec6dd12621a3c49f8ab4776770f53552bf91e"
 },
 "nbformat": 3,
 "nbformat_minor": 0,
 "worksheets": [
  {
   "cells": [
    {
     "cell_type": "code",
     "collapsed": false,
     "input": [
      "from environment import Environment\n",
      "import networkx as nx\n",
      "from random import random"
     ],
     "language": "python",
     "metadata": {},
     "outputs": [],
     "prompt_number": 1
    },
    {
     "cell_type": "code",
     "collapsed": false,
     "input": [
      "# Create an environment with 2 viruses\n",
      "e = Environment(num_viruses=2, virus_type='influenza')\n",
      "\n",
      "# Get the virus IDs\n",
      "e.GetViruses()"
     ],
     "language": "python",
     "metadata": {},
     "outputs": [
      {
       "metadata": {},
       "output_type": "pyout",
       "prompt_number": 2,
       "text": [
        "[[0, None], [1, None]]"
       ]
      }
     ],
     "prompt_number": 2
    },
    {
     "cell_type": "code",
     "collapsed": false,
     "input": [
      "# For each virus, print each segment's ID and sequence\n",
      "for virus in e.GetViruses():\n",
      "    print virus"
     ],
     "language": "python",
     "metadata": {},
     "outputs": [
      {
       "output_type": "stream",
       "stream": "stdout",
       "text": [
        "[0, None]\n",
        "[1, None]\n"
       ]
      }
     ],
     "prompt_number": 3
    },
    {
     "cell_type": "code",
     "collapsed": false,
     "input": [
      "# Get a particular virus that is not present in the set.\n",
      "e.GetVirus(2)"
     ],
     "language": "python",
     "metadata": {},
     "outputs": [
      {
       "output_type": "stream",
       "stream": "stdout",
       "text": [
        "ERROR: The virus ID should be between 0 and 1.\n"
       ]
      }
     ],
     "prompt_number": 4
    },
    {
     "cell_type": "code",
     "collapsed": false,
     "input": [
      "# Get a particular virus that is present in the set.\n",
      "e.GetVirus(1)"
     ],
     "language": "python",
     "metadata": {},
     "outputs": [
      {
       "metadata": {},
       "output_type": "pyout",
       "prompt_number": 5,
       "text": [
        "[1, None]"
       ]
      }
     ],
     "prompt_number": 5
    },
    {
     "cell_type": "code",
     "collapsed": false,
     "input": [
      "# Pick any two viruses in the current set of viruses in the environment, and subject them to a random reassortment process.\n",
      "e.RandomlyReassortTwoViruses(mutate=False)\n",
      "# If the new virus that is appended had two parents, then it would have a tuple (i, j) as the second element in the list.\n",
      "# If the new virus that is appended had one parent, then it would have a single integer as the second element in the list.\n",
      "e.GetViruses()"
     ],
     "language": "python",
     "metadata": {},
     "outputs": [
      {
       "metadata": {},
       "output_type": "pyout",
       "prompt_number": 6,
       "text": [
        "[[0, None], [1, None], [2, 0]]"
       ]
      }
     ],
     "prompt_number": 6
    },
    {
     "cell_type": "code",
     "collapsed": false,
     "input": [
      "# Subject the environment to 10 rounds of replication. Allow the viruses to mutate with some probability (here it is 0.5)\n",
      "replication_rounds = range(10)\n",
      "for n in replication_rounds:\n",
      "    cointoss = random()\n",
      "    if cointoss > 0.5:\n",
      "        mutate = True\n",
      "    else:\n",
      "        mutate = False\n",
      "    e.ReplicateAVirus(mutate)"
     ],
     "language": "python",
     "metadata": {},
     "outputs": [],
     "prompt_number": 7
    },
    {
     "cell_type": "code",
     "collapsed": false,
     "input": [
      "for virus in e.GetViruses():\n",
      "    print virus, virus.IsMutated(), virus.IsReassorted()"
     ],
     "language": "python",
     "metadata": {},
     "outputs": [
      {
       "output_type": "stream",
       "stream": "stdout",
       "text": [
        "[0, None] True False\n",
        "[1, None] True False\n",
        "[2, (0, 1)] True True\n",
        "[3, 0] False False\n",
        "[4, 0] False False\n",
        "[5, 3] False False\n",
        "[6, 5] True False\n",
        "[7, 1] False False\n",
        "[8, 3] True False\n",
        "[9, 5] True False\n",
        "[10, 2] True False\n",
        "[11, 1] True False\n",
        "[12, 10] False False\n"
       ]
      }
     ],
     "prompt_number": 9
    },
    {
     "cell_type": "code",
     "collapsed": false,
     "input": [
      "print len(e.GetViruses())"
     ],
     "language": "python",
     "metadata": {},
     "outputs": [
      {
       "output_type": "stream",
       "stream": "stdout",
       "text": [
        "13\n"
       ]
      }
     ],
     "prompt_number": 10
    },
    {
     "cell_type": "code",
     "collapsed": false,
     "input": [
      "# Randomly reassort two viruses again.\n",
      "e.RandomlyReassortTwoViruses(mutate=False)\n",
      "e.RandomlyReassortTwoViruses(mutate=False)"
     ],
     "language": "python",
     "metadata": {},
     "outputs": [],
     "prompt_number": 11
    },
    {
     "cell_type": "code",
     "collapsed": false,
     "input": [
      "# Print out the viruses present in the environment.\n",
      "for virus in e.GetViruses():\n",
      "    print virus, virus.mutated, virus.reassorted"
     ],
     "language": "python",
     "metadata": {},
     "outputs": [
      {
       "output_type": "stream",
       "stream": "stdout",
       "text": [
        "[0, None] True False\n",
        "[1, None] True False\n",
        "[2, (0, 1)] True True\n",
        "[3, 0] False False\n",
        "[4, 0] False False\n",
        "[5, 3] False False\n",
        "[6, 5] True False\n",
        "[7, 1] False False\n",
        "[8, 3] True False\n",
        "[9, 5] True False\n",
        "[10, 2] True False\n",
        "[11, 1] True False\n",
        "[12, 10] False False\n",
        "[13, (3, 4)] True True\n",
        "[14, 9] True False\n"
       ]
      }
     ],
     "prompt_number": 12
    },
    {
     "cell_type": "markdown",
     "metadata": {},
     "source": [
      "# Visualize the network\n",
      "\n",
      "Below, we use NetworkX and matplotlib to visualize the network."
     ]
    },
    {
     "cell_type": "code",
     "collapsed": false,
     "input": [
      "G = nx.DiGraph()"
     ],
     "language": "python",
     "metadata": {},
     "outputs": [],
     "prompt_number": 13
    },
    {
     "cell_type": "code",
     "collapsed": false,
     "input": [
      "for virus in e.GetViruses():\n",
      "    parent = virus.GetParent()\n",
      "    child = virus.GetID()\n",
      "    if parent == None:\n",
      "        G.add_node(child)\n",
      "    elif type(parent) == int:\n",
      "        G.add_edge(parent, child, weight=1)\n",
      "    elif len(parent) == 2:\n",
      "        G.add_edge(parent[0], child, weight=0.5)\n",
      "        G.add_edge(parent[1], child, weight=0.5)\n"
     ],
     "language": "python",
     "metadata": {},
     "outputs": [],
     "prompt_number": 14
    },
    {
     "cell_type": "code",
     "collapsed": false,
     "input": [
      "G.nodes()"
     ],
     "language": "python",
     "metadata": {},
     "outputs": [
      {
       "metadata": {},
       "output_type": "pyout",
       "prompt_number": 15,
       "text": [
        "[0, 1, 2, 3, 4, 5, 6, 7, 8, 9, 10, 11, 12, 13, 14]"
       ]
      }
     ],
     "prompt_number": 15
    },
    {
     "cell_type": "code",
     "collapsed": false,
     "input": [
      "G.edges()"
     ],
     "language": "python",
     "metadata": {},
     "outputs": [
      {
       "metadata": {},
       "output_type": "pyout",
       "prompt_number": 16,
       "text": [
        "[(0, 2),\n",
        " (0, 3),\n",
        " (0, 4),\n",
        " (1, 2),\n",
        " (1, 11),\n",
        " (1, 7),\n",
        " (2, 10),\n",
        " (3, 8),\n",
        " (3, 5),\n",
        " (3, 13),\n",
        " (4, 13),\n",
        " (5, 9),\n",
        " (5, 6),\n",
        " (9, 14),\n",
        " (10, 12)]"
       ]
      }
     ],
     "prompt_number": 16
    },
    {
     "cell_type": "code",
     "collapsed": false,
     "input": [
      "nx.draw_circular(G)"
     ],
     "language": "python",
     "metadata": {},
     "outputs": [
      {
       "metadata": {},
       "output_type": "display_data",
       "png": "[encoded data removed]",
       "text": [
        "<matplotlib.figure.Figure at 0x105f12950>"
       ]
      }
     ],
     "prompt_number": 17
    },
    {
     "cell_type": "code",
     "collapsed": false,
     "input": [],
     "language": "python",
     "metadata": {},
     "outputs": [],
     "prompt_number": 17
    }
   ],
   "metadata": {}
  }
 ]
}