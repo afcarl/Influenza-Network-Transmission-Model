{
 "metadata": {
  "name": "",
  "signature": "sha256:a8805a9153ab6298e732e811bb1d3087f26d18f08248b260b665481d089db28e"
 },
 "nbformat": 3,
 "nbformat_minor": 0,
 "worksheets": [
  {
   "cells": [
    {
     "cell_type": "code",
     "collapsed": false,
     "input": [
      "from environment import Environment\n",
      "import networkx as nx\n",
      "from random import random"
     ],
     "language": "python",
     "metadata": {},
     "outputs": [],
     "prompt_number": 1
    },
    {
     "cell_type": "code",
     "collapsed": false,
     "input": [
      "# Create an environment with 2 viruses\n",
      "e = Environment(num_viruses=2, virus_type='influenza')\n",
      "\n",
      "# Get the virus IDs\n",
      "e.GetViruses()"
     ],
     "language": "python",
     "metadata": {},
     "outputs": [
      {
       "metadata": {},
       "output_type": "pyout",
       "prompt_number": 2,
       "text": [
        "[[1, None], [1, None]]"
       ]
      }
     ],
     "prompt_number": 2
    },
    {
     "cell_type": "code",
     "collapsed": false,
     "input": [
      "# For each virus, print each segment's ID and sequence\n",
      "for virus in e.GetViruses():\n",
      "    print virus"
     ],
     "language": "python",
     "metadata": {},
     "outputs": [
      {
       "output_type": "stream",
       "stream": "stdout",
       "text": [
        "[1, None]\n",
        "[1, None]\n"
       ]
      }
     ],
     "prompt_number": 3
    },
    {
     "cell_type": "code",
     "collapsed": false,
     "input": [
      "# Get a particular virus that is not present in the set.\n",
      "e.GetVirus(2)"
     ],
     "language": "python",
     "metadata": {},
     "outputs": [
      {
       "output_type": "stream",
       "stream": "stdout",
       "text": [
        "ERROR: The virus ID should be between 0 and 1.\n"
       ]
      }
     ],
     "prompt_number": 4
    },
    {
     "cell_type": "code",
     "collapsed": false,
     "input": [
      "# Get a particular virus that is present in the set.\n",
      "e.GetVirus(1)"
     ],
     "language": "python",
     "metadata": {},
     "outputs": [
      {
       "metadata": {},
       "output_type": "pyout",
       "prompt_number": 5,
       "text": [
        "[1, None]"
       ]
      }
     ],
     "prompt_number": 5
    },
    {
     "cell_type": "code",
     "collapsed": false,
     "input": [
      "# Pick any two viruses in the current set of viruses in the environment, and subject them to a random reassortment process.\n",
      "e.RandomlyReassortTwoViruses(mutate=False)\n",
      "# If the new virus that is appended had two parents, then it would have a tuple (i, j) as the second element in the list.\n",
      "# If the new virus that is appended had one parent, then it would have a single integer as the second element in the list.\n",
      "e.GetViruses()"
     ],
     "language": "python",
     "metadata": {},
     "outputs": [
      {
       "ename": "TypeError",
       "evalue": "issubclass() arg 2 must be a class or tuple of classes",
       "output_type": "pyerr",
       "traceback": [
        "\u001b[0;31m---------------------------------------------------------------------------\u001b[0m\n\u001b[0;31mTypeError\u001b[0m                                 Traceback (most recent call last)",
        "\u001b[0;32m<ipython-input-6-e31011a1932a>\u001b[0m in \u001b[0;36m<module>\u001b[0;34m()\u001b[0m\n\u001b[1;32m      1\u001b[0m \u001b[0;31m# Pick any two viruses in the current set of viruses in the environment, and subject them to a random reassortment process.\u001b[0m\u001b[0;34m\u001b[0m\u001b[0;34m\u001b[0m\u001b[0m\n\u001b[0;32m----> 2\u001b[0;31m \u001b[0me\u001b[0m\u001b[0;34m.\u001b[0m\u001b[0mRandomlyReassortTwoViruses\u001b[0m\u001b[0;34m(\u001b[0m\u001b[0mmutate\u001b[0m\u001b[0;34m=\u001b[0m\u001b[0mFalse\u001b[0m\u001b[0;34m)\u001b[0m\u001b[0;34m\u001b[0m\u001b[0m\n\u001b[0m\u001b[1;32m      3\u001b[0m \u001b[0;31m# If the new virus that is appended had two parents, then it would have a tuple (i, j) as the second element in the list.\u001b[0m\u001b[0;34m\u001b[0m\u001b[0;34m\u001b[0m\u001b[0m\n\u001b[1;32m      4\u001b[0m \u001b[0;31m# If the new virus that is appended had one parent, then it would have a single integer as the second element in the list.\u001b[0m\u001b[0;34m\u001b[0m\u001b[0;34m\u001b[0m\u001b[0m\n\u001b[1;32m      5\u001b[0m \u001b[0me\u001b[0m\u001b[0;34m.\u001b[0m\u001b[0mGetViruses\u001b[0m\u001b[0;34m(\u001b[0m\u001b[0;34m)\u001b[0m\u001b[0;34m\u001b[0m\u001b[0m\n",
        "\u001b[0;32m/Users/ericmjl/ericmjl BTSync/Research Projects/Runstadler Lab/Computational Analysis/Influenza-Network-Transmission-Model/environment.py\u001b[0m in \u001b[0;36mRandomlyReassortTwoViruses\u001b[0;34m(self, mutate)\u001b[0m\n\u001b[1;32m     91\u001b[0m \u001b[0;34m\u001b[0m\u001b[0m\n\u001b[1;32m     92\u001b[0m                         \u001b[0mnew_id\u001b[0m \u001b[0;34m=\u001b[0m \u001b[0mlen\u001b[0m\u001b[0;34m(\u001b[0m\u001b[0mself\u001b[0m\u001b[0;34m.\u001b[0m\u001b[0mviruses\u001b[0m\u001b[0;34m)\u001b[0m\u001b[0;34m\u001b[0m\u001b[0m\n\u001b[0;32m---> 93\u001b[0;31m                         \u001b[0;32mif\u001b[0m \u001b[0missubclass\u001b[0m\u001b[0;34m(\u001b[0m\u001b[0mVirus\u001b[0m\u001b[0;34m,\u001b[0m \u001b[0mvirus1\u001b[0m\u001b[0;34m)\u001b[0m \u001b[0;32mand\u001b[0m \u001b[0missubclass\u001b[0m\u001b[0;34m(\u001b[0m\u001b[0mVirus\u001b[0m\u001b[0;34m,\u001b[0m \u001b[0mvirus2\u001b[0m\u001b[0;34m)\u001b[0m\u001b[0;34m:\u001b[0m\u001b[0;34m\u001b[0m\u001b[0m\n\u001b[0m\u001b[1;32m     94\u001b[0m                                 \u001b[0mnew_virus\u001b[0m \u001b[0;34m=\u001b[0m \u001b[0mVirus\u001b[0m\u001b[0;34m(\u001b[0m\u001b[0mid\u001b[0m\u001b[0;34m=\u001b[0m\u001b[0mnew_id\u001b[0m\u001b[0;34m,\u001b[0m \u001b[0mnum_segments\u001b[0m\u001b[0;34m=\u001b[0m\u001b[0mnum_segments\u001b[0m\u001b[0;34m)\u001b[0m\u001b[0;34m\u001b[0m\u001b[0m\n\u001b[1;32m     95\u001b[0m                         \u001b[0;32mif\u001b[0m \u001b[0missubclass\u001b[0m\u001b[0;34m(\u001b[0m\u001b[0mSmallFluVirus\u001b[0m\u001b[0;34m,\u001b[0m \u001b[0mvirus1\u001b[0m\u001b[0;34m)\u001b[0m \u001b[0;32mand\u001b[0m \u001b[0missubclass\u001b[0m\u001b[0;34m(\u001b[0m\u001b[0mSmallFluVirus\u001b[0m\u001b[0;34m,\u001b[0m \u001b[0mvirus2\u001b[0m\u001b[0;34m)\u001b[0m\u001b[0;34m:\u001b[0m\u001b[0;34m\u001b[0m\u001b[0m\n",
        "\u001b[0;31mTypeError\u001b[0m: issubclass() arg 2 must be a class or tuple of classes"
       ]
      }
     ],
     "prompt_number": 6
    },
    {
     "cell_type": "code",
     "collapsed": false,
     "input": [
      "# Once again, print the virus sequences to verify that the reassortment did (or did not) take place.\n",
      "for virus in e.GetViruses():\n",
      "    print virus.GetSegments()"
     ],
     "language": "python",
     "metadata": {},
     "outputs": []
    },
    {
     "cell_type": "code",
     "collapsed": false,
     "input": [
      "# Subject the environment to 10 rounds of replication. Allow the viruses to mutate with some probability (here it is 0.5)\n",
      "replication_rounds = range(10)\n",
      "for n in replication_rounds:\n",
      "    cointoss = random()\n",
      "    if cointoss > 0.5:\n",
      "        mutate = True\n",
      "    else:\n",
      "        mutate = False\n",
      "    e.ReplicateAVirus(mutate)"
     ],
     "language": "python",
     "metadata": {},
     "outputs": []
    },
    {
     "cell_type": "code",
     "collapsed": false,
     "input": [
      "for virus in e.GetViruses():\n",
      "    print virus, virus.IsMutated(), virus.IsReassorted()"
     ],
     "language": "python",
     "metadata": {},
     "outputs": []
    },
    {
     "cell_type": "code",
     "collapsed": false,
     "input": [
      "print len(e.GetViruses())"
     ],
     "language": "python",
     "metadata": {},
     "outputs": []
    },
    {
     "cell_type": "code",
     "collapsed": false,
     "input": [
      "# Randomly reassort two viruses again.\n",
      "e.RandomlyReassortTwoViruses(mutate=False)\n",
      "e.RandomlyReassortTwoViruses(mutate=False)"
     ],
     "language": "python",
     "metadata": {},
     "outputs": []
    },
    {
     "cell_type": "code",
     "collapsed": false,
     "input": [
      "# Print out the viruses present in the environment.\n",
      "for virus in e.GetViruses():\n",
      "    print virus, virus.GetSegments(), virus.mutated, virus.reassorted"
     ],
     "language": "python",
     "metadata": {},
     "outputs": []
    },
    {
     "cell_type": "markdown",
     "metadata": {},
     "source": [
      "# Visualize the network\n",
      "\n",
      "Below, we use NetworkX and matplotlib to visualize the network."
     ]
    },
    {
     "cell_type": "code",
     "collapsed": false,
     "input": [
      "G = nx.DiGraph()"
     ],
     "language": "python",
     "metadata": {},
     "outputs": []
    },
    {
     "cell_type": "code",
     "collapsed": false,
     "input": [
      "for virus in e.GetViruses():\n",
      "    parent = virus.GetParent()\n",
      "    child = virus.GetID()\n",
      "    if parent == None:\n",
      "        G.add_node(child)\n",
      "    elif type(parent) == int:\n",
      "        G.add_edge(parent, child, weight=1)\n",
      "    elif len(parent) == 2:\n",
      "        G.add_edge(parent[0], child, weight=0.5)\n",
      "        G.add_edge(parent[1], child, weight=0.5)\n"
     ],
     "language": "python",
     "metadata": {},
     "outputs": []
    },
    {
     "cell_type": "code",
     "collapsed": false,
     "input": [
      "G.nodes()"
     ],
     "language": "python",
     "metadata": {},
     "outputs": []
    },
    {
     "cell_type": "code",
     "collapsed": false,
     "input": [
      "G.edges()"
     ],
     "language": "python",
     "metadata": {},
     "outputs": []
    },
    {
     "cell_type": "code",
     "collapsed": false,
     "input": [
      "nx.draw_circular(G)"
     ],
     "language": "python",
     "metadata": {},
     "outputs": []
    },
    {
     "cell_type": "code",
     "collapsed": false,
     "input": [],
     "language": "python",
     "metadata": {},
     "outputs": []
    }
   ],
   "metadata": {}
  }
 ]
}