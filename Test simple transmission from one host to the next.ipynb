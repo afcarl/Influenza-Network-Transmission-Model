{
 "metadata": {
  "name": "",
  "signature": "sha256:364dc765178cc8d807e24a43a92f207138e923c3e83b1a0c3a7ae0bc31ce8570"
 },
 "nbformat": 3,
 "nbformat_minor": 0,
 "worksheets": [
  {
   "cells": [
    {
     "cell_type": "code",
     "collapsed": false,
     "input": [
      "from controller import Controller"
     ],
     "language": "python",
     "metadata": {},
     "outputs": [],
     "prompt_number": 10
    },
    {
     "cell_type": "code",
     "collapsed": false,
     "input": [
      "c = Controller()\n",
      "c.create_environment(num_hosts=2)"
     ],
     "language": "python",
     "metadata": {},
     "outputs": [],
     "prompt_number": 11
    },
    {
     "cell_type": "code",
     "collapsed": false,
     "input": [
      "c.environments[0]"
     ],
     "language": "python",
     "metadata": {},
     "outputs": [
      {
       "metadata": {},
       "output_type": "pyout",
       "prompt_number": 12,
       "text": [
        "Environment 890e57dd4f9fbe92ad0d3c9cf6a3b2892c235103202cafb145482c42b5ff1206eafa9386ad6451381c0c53f4d7056d4cbeb44552f6d75fc469ab3320e7b723bd with 2 hosts."
       ]
      }
     ],
     "prompt_number": 12
    },
    {
     "cell_type": "code",
     "collapsed": false,
     "input": [
      "host0 = c.environments[0].hosts[0]\n",
      "host0"
     ],
     "language": "python",
     "metadata": {},
     "outputs": [
      {
       "metadata": {},
       "output_type": "pyout",
       "prompt_number": 13,
       "text": [
        "Host 1bd67e1848932a19591a02eeb93e281ac122f4f0b30d414dcc72bb48ab2d57a8695f00109cf067aaaa97bb8fe5a6dd6a91e43da6ab91a02d97a4627c996a543c infected with 0 viruses"
       ]
      }
     ],
     "prompt_number": 13
    },
    {
     "cell_type": "code",
     "collapsed": false,
     "input": [
      "host1 = c.environments[0].hosts[1]\n",
      "host1"
     ],
     "language": "python",
     "metadata": {},
     "outputs": [
      {
       "metadata": {},
       "output_type": "pyout",
       "prompt_number": 14,
       "text": [
        "Host d475bf5bf1d02b53b884d23c28aa7269c78e6fbc0b0a501739b0c8968ab5dfe2564330def090bb5e129daef35bb06b6652b0142e3785f306eb56d97c471ea297 infected with 0 viruses"
       ]
      }
     ],
     "prompt_number": 14
    },
    {
     "cell_type": "code",
     "collapsed": false,
     "input": [
      "c.create_virus(host0)\n",
      "c.create_virus(host0)"
     ],
     "language": "python",
     "metadata": {},
     "outputs": [],
     "prompt_number": 15
    },
    {
     "cell_type": "code",
     "collapsed": false,
     "input": [
      "c.increment_timestep()\n",
      "c.increment_timestep()\n",
      "c.increment_timestep()"
     ],
     "language": "python",
     "metadata": {},
     "outputs": [
      {
       "output_type": "stream",
       "stream": "stdout",
       "text": [
        "Host 4395921104 currently has 2 viruses.\n",
        "Replicating 1 viruses.\n",
        "Total of 10 viruses generated in host 4395921104. \n",
        "Host 4395921104 now has 12 viruses.\n",
        "Time Difference: 1, Probability: 0.333333333333\n",
        "Removing 3 viruses out of 12 viruses from host 4395921104.\n",
        "Host 4395921104 is left with 9 viruses.\n",
        "Host 4395921104 currently has 9 viruses.\n",
        "Replicating 8 viruses.\n",
        "Total of 63 viruses generated in host 4395921104. \n",
        "Host 4395921104 now has 72 viruses.\n",
        "Time Difference: 2, Probability: 0.5\n",
        "Removing 43 viruses out of 72 viruses from host 4395921104.\n",
        "Host 4395921104 is left with 29 viruses.\n",
        "Host 4395921104 currently has 29 viruses.\n",
        "Replicating 1 viruses.\n",
        "Total of 7 viruses generated in host 4395921104. \n",
        "Host 4395921104 now has 36 viruses.\n",
        "Time Difference: 3, Probability: 0.6\n",
        "Removing 21 viruses out of 36 viruses from host 4395921104.\n",
        "Host 4395921104 is left with 15 viruses.\n"
       ]
      }
     ],
     "prompt_number": 16
    },
    {
     "cell_type": "code",
     "collapsed": false,
     "input": [
      "host0.infect(host1)"
     ],
     "language": "python",
     "metadata": {},
     "outputs": [
      {
       "output_type": "stream",
       "stream": "stdout",
       "text": [
        "Transmission 9 viruses out of 15 viruses from host 4395921104 to host 4395920592.\n"
       ]
      }
     ],
     "prompt_number": 17
    },
    {
     "cell_type": "code",
     "collapsed": false,
     "input": [
      "viruses1 = host1.viruses\n",
      "for virus in viruses1:\n",
      "    print id(virus.host), virus.host.id\n",
      "    print id(host1), host1.id"
     ],
     "language": "python",
     "metadata": {},
     "outputs": [
      {
       "output_type": "stream",
       "stream": "stdout",
       "text": [
        "4395920592 d475bf5bf1d02b53b884d23c28aa7269c78e6fbc0b0a501739b0c8968ab5dfe2564330def090bb5e129daef35bb06b6652b0142e3785f306eb56d97c471ea297\n",
        "4395920592 d475bf5bf1d02b53b884d23c28aa7269c78e6fbc0b0a501739b0c8968ab5dfe2564330def090bb5e129daef35bb06b6652b0142e3785f306eb56d97c471ea297\n",
        "4395920592 d475bf5bf1d02b53b884d23c28aa7269c78e6fbc0b0a501739b0c8968ab5dfe2564330def090bb5e129daef35bb06b6652b0142e3785f306eb56d97c471ea297\n",
        "4395920592 d475bf5bf1d02b53b884d23c28aa7269c78e6fbc0b0a501739b0c8968ab5dfe2564330def090bb5e129daef35bb06b6652b0142e3785f306eb56d97c471ea297\n",
        "4395920592 d475bf5bf1d02b53b884d23c28aa7269c78e6fbc0b0a501739b0c8968ab5dfe2564330def090bb5e129daef35bb06b6652b0142e3785f306eb56d97c471ea297\n",
        "4395920592 d475bf5bf1d02b53b884d23c28aa7269c78e6fbc0b0a501739b0c8968ab5dfe2564330def090bb5e129daef35bb06b6652b0142e3785f306eb56d97c471ea297\n",
        "4395920592 d475bf5bf1d02b53b884d23c28aa7269c78e6fbc0b0a501739b0c8968ab5dfe2564330def090bb5e129daef35bb06b6652b0142e3785f306eb56d97c471ea297\n",
        "4395920592 d475bf5bf1d02b53b884d23c28aa7269c78e6fbc0b0a501739b0c8968ab5dfe2564330def090bb5e129daef35bb06b6652b0142e3785f306eb56d97c471ea297\n",
        "4395920592 d475bf5bf1d02b53b884d23c28aa7269c78e6fbc0b0a501739b0c8968ab5dfe2564330def090bb5e129daef35bb06b6652b0142e3785f306eb56d97c471ea297\n",
        "4395920592 d475bf5bf1d02b53b884d23c28aa7269c78e6fbc0b0a501739b0c8968ab5dfe2564330def090bb5e129daef35bb06b6652b0142e3785f306eb56d97c471ea297\n",
        "4395920592 d475bf5bf1d02b53b884d23c28aa7269c78e6fbc0b0a501739b0c8968ab5dfe2564330def090bb5e129daef35bb06b6652b0142e3785f306eb56d97c471ea297\n",
        "4395920592 d475bf5bf1d02b53b884d23c28aa7269c78e6fbc0b0a501739b0c8968ab5dfe2564330def090bb5e129daef35bb06b6652b0142e3785f306eb56d97c471ea297\n",
        "4395920592 d475bf5bf1d02b53b884d23c28aa7269c78e6fbc0b0a501739b0c8968ab5dfe2564330def090bb5e129daef35bb06b6652b0142e3785f306eb56d97c471ea297\n",
        "4395920592 d475bf5bf1d02b53b884d23c28aa7269c78e6fbc0b0a501739b0c8968ab5dfe2564330def090bb5e129daef35bb06b6652b0142e3785f306eb56d97c471ea297\n",
        "4395920592 d475bf5bf1d02b53b884d23c28aa7269c78e6fbc0b0a501739b0c8968ab5dfe2564330def090bb5e129daef35bb06b6652b0142e3785f306eb56d97c471ea297\n",
        "4395920592 d475bf5bf1d02b53b884d23c28aa7269c78e6fbc0b0a501739b0c8968ab5dfe2564330def090bb5e129daef35bb06b6652b0142e3785f306eb56d97c471ea297\n",
        "4395920592 d475bf5bf1d02b53b884d23c28aa7269c78e6fbc0b0a501739b0c8968ab5dfe2564330def090bb5e129daef35bb06b6652b0142e3785f306eb56d97c471ea297\n",
        "4395920592 d475bf5bf1d02b53b884d23c28aa7269c78e6fbc0b0a501739b0c8968ab5dfe2564330def090bb5e129daef35bb06b6652b0142e3785f306eb56d97c471ea297\n"
       ]
      }
     ],
     "prompt_number": 18
    },
    {
     "cell_type": "code",
     "collapsed": false,
     "input": [],
     "language": "python",
     "metadata": {},
     "outputs": [],
     "prompt_number": 18
    }
   ],
   "metadata": {}
  }
 ]
}