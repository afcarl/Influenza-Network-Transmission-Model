{
 "metadata": {
  "name": "",
  "signature": "sha256:c5b96c3b6110810de938297b1c7d8cda8c0d627367107e23df81d7da0c1eccc9"
 },
 "nbformat": 3,
 "nbformat_minor": 0,
 "worksheets": [
  {
   "cells": [
    {
     "cell_type": "code",
     "collapsed": false,
     "input": [
      "from controller import Controller"
     ],
     "language": "python",
     "metadata": {},
     "outputs": [],
     "prompt_number": 1
    },
    {
     "cell_type": "code",
     "collapsed": false,
     "input": [
      "c = Controller()\n",
      "c.create_environment(num_hosts=2)"
     ],
     "language": "python",
     "metadata": {},
     "outputs": [],
     "prompt_number": 2
    },
    {
     "cell_type": "code",
     "collapsed": false,
     "input": [
      "c.environments[0]"
     ],
     "language": "python",
     "metadata": {},
     "outputs": [
      {
       "metadata": {},
       "output_type": "pyout",
       "prompt_number": 3,
       "text": [
        "Environment 5e9f97bc107e6dc840267e340b525ba045618e2d9f83880aa06a7263fb3a7ffb25fd3c5f24e932e6e16788c667b50a9705374667a272872dba7b5a82dbcd9c50 with 2 hosts."
       ]
      }
     ],
     "prompt_number": 3
    },
    {
     "cell_type": "code",
     "collapsed": false,
     "input": [
      "host0 = c.environments[0].hosts[0]\n",
      "host0"
     ],
     "language": "python",
     "metadata": {},
     "outputs": [
      {
       "metadata": {},
       "output_type": "pyout",
       "prompt_number": 4,
       "text": [
        "Host 0bbee89127f21d04febf0d8e2bc134dcc12e8b38d5b70abf24c72bfa35ca7503a3ef28705a8840930e73ad640a93856c624b61fdc804edc851ab9f53fac64db6 infected with 0 viruses"
       ]
      }
     ],
     "prompt_number": 4
    },
    {
     "cell_type": "code",
     "collapsed": false,
     "input": [
      "host1 = c.environments[0].hosts[1]\n",
      "host1"
     ],
     "language": "python",
     "metadata": {},
     "outputs": [
      {
       "metadata": {},
       "output_type": "pyout",
       "prompt_number": 5,
       "text": [
        "Host 44085e1b9ec3bd4b2e0b2c7c06f403ff46763c98ee7526abb1be7075b2d4ecc2bb5d4cbc35abe168b241af4be4c888394cbeef536bb250d01eeb20c768409c03 infected with 0 viruses"
       ]
      }
     ],
     "prompt_number": 5
    },
    {
     "cell_type": "code",
     "collapsed": false,
     "input": [
      "c.create_virus(host0)\n",
      "c.create_virus(host0)"
     ],
     "language": "python",
     "metadata": {},
     "outputs": [],
     "prompt_number": 6
    },
    {
     "cell_type": "code",
     "collapsed": false,
     "input": [
      "c.increment_timestep()\n",
      "c.increment_timestep()\n",
      "c.increment_timestep()"
     ],
     "language": "python",
     "metadata": {},
     "outputs": [
      {
       "output_type": "stream",
       "stream": "stdout",
       "text": [
        "9 progeny leftover.\n",
        "14 progeny generated.\n",
        "28 progeny leftover.\n",
        "28 progeny generated."
       ]
      },
      {
       "output_type": "stream",
       "stream": "stdout",
       "text": [
        "\n",
        "9 progeny leftover.\n",
        "17 progeny generated."
       ]
      },
      {
       "output_type": "stream",
       "stream": "stdout",
       "text": [
        "\n"
       ]
      }
     ],
     "prompt_number": 7
    },
    {
     "cell_type": "code",
     "collapsed": false,
     "input": [
      "host0.infect(host1)"
     ],
     "language": "python",
     "metadata": {},
     "outputs": [],
     "prompt_number": 8
    },
    {
     "cell_type": "code",
     "collapsed": false,
     "input": [
      "viruses1 = host1.viruses\n",
      "for virus in viruses1:\n",
      "    print id(virus.host), virus.host.id\n",
      "    print id(host1), host1.id"
     ],
     "language": "python",
     "metadata": {},
     "outputs": [
      {
       "output_type": "stream",
       "stream": "stdout",
       "text": [
        "4397095248 44085e1b9ec3bd4b2e0b2c7c06f403ff46763c98ee7526abb1be7075b2d4ecc2bb5d4cbc35abe168b241af4be4c888394cbeef536bb250d01eeb20c768409c03\n",
        "4397095248 44085e1b9ec3bd4b2e0b2c7c06f403ff46763c98ee7526abb1be7075b2d4ecc2bb5d4cbc35abe168b241af4be4c888394cbeef536bb250d01eeb20c768409c03\n",
        "4397095248 44085e1b9ec3bd4b2e0b2c7c06f403ff46763c98ee7526abb1be7075b2d4ecc2bb5d4cbc35abe168b241af4be4c888394cbeef536bb250d01eeb20c768409c03\n",
        "4397095248 44085e1b9ec3bd4b2e0b2c7c06f403ff46763c98ee7526abb1be7075b2d4ecc2bb5d4cbc35abe168b241af4be4c888394cbeef536bb250d01eeb20c768409c03\n",
        "4397095248 44085e1b9ec3bd4b2e0b2c7c06f403ff46763c98ee7526abb1be7075b2d4ecc2bb5d4cbc35abe168b241af4be4c888394cbeef536bb250d01eeb20c768409c03\n",
        "4397095248 44085e1b9ec3bd4b2e0b2c7c06f403ff46763c98ee7526abb1be7075b2d4ecc2bb5d4cbc35abe168b241af4be4c888394cbeef536bb250d01eeb20c768409c03\n",
        "4397095248 44085e1b9ec3bd4b2e0b2c7c06f403ff46763c98ee7526abb1be7075b2d4ecc2bb5d4cbc35abe168b241af4be4c888394cbeef536bb250d01eeb20c768409c03\n",
        "4397095248 44085e1b9ec3bd4b2e0b2c7c06f403ff46763c98ee7526abb1be7075b2d4ecc2bb5d4cbc35abe168b241af4be4c888394cbeef536bb250d01eeb20c768409c03\n",
        "4397095248 44085e1b9ec3bd4b2e0b2c7c06f403ff46763c98ee7526abb1be7075b2d4ecc2bb5d4cbc35abe168b241af4be4c888394cbeef536bb250d01eeb20c768409c03\n",
        "4397095248 44085e1b9ec3bd4b2e0b2c7c06f403ff46763c98ee7526abb1be7075b2d4ecc2bb5d4cbc35abe168b241af4be4c888394cbeef536bb250d01eeb20c768409c03\n",
        "4397095248 44085e1b9ec3bd4b2e0b2c7c06f403ff46763c98ee7526abb1be7075b2d4ecc2bb5d4cbc35abe168b241af4be4c888394cbeef536bb250d01eeb20c768409c03\n",
        "4397095248 44085e1b9ec3bd4b2e0b2c7c06f403ff46763c98ee7526abb1be7075b2d4ecc2bb5d4cbc35abe168b241af4be4c888394cbeef536bb250d01eeb20c768409c03\n"
       ]
      }
     ],
     "prompt_number": 9
    }
   ],
   "metadata": {}
  }
 ]
}