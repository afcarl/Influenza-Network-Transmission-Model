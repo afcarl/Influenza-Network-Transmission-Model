{
 "metadata": {
  "name": "",
  "signature": "sha256:e3a9d98dfc2a3f0dbbf249f5b10cc59fd7e94f212abfbb4c64d205bedfded0a5"
 },
 "nbformat": 3,
 "nbformat_minor": 0,
 "worksheets": [
  {
   "cells": [
    {
     "cell_type": "code",
     "collapsed": false,
     "input": [
      "from environment import Environment\n",
      "import networkx as nx\n",
      "from random import random, choice\n",
      "from sampler import Sampler"
     ],
     "language": "python",
     "metadata": {},
     "outputs": [],
     "prompt_number": 1
    },
    {
     "cell_type": "code",
     "collapsed": false,
     "input": [
      "# Create an environment with 2 viruses\n",
      "e = Environment(num_viruses=2, virus_type='influenza')\n",
      "\n",
      "# Get the virus IDs\n",
      "e.GetViruses()"
     ],
     "language": "python",
     "metadata": {},
     "outputs": [
      {
       "output_type": "stream",
       "stream": "stdout",
       "text": [
        "[93]\n",
        "[272, 271, 298, 264, 289, 288, 267, 240, 212, 290, 204, 249, 230, 256, 247, 207, 295, 278, 255, 279]\n",
        "[260, 255, 231, 234, 248, 235, 295, 233, 265, 244, 292, 213, 204, 256, 250, 218, 219, 210, 203, 242]\n",
        "[173]\n",
        "[277]\n",
        "[267, 224, 284, 236, 283, 200, 271, 291, 227, 230, 209, 210, 205, 232, 276, 245, 262, 258, 295, 278]\n",
        "[286, 265, 201, 214, 208, 211, 283, 272, 257, 221, 263, 256, 262, 222, 285, 281, 240, 266, 280, 299]\n",
        "[118]\n"
       ]
      },
      {
       "metadata": {},
       "output_type": "pyout",
       "prompt_number": 2,
       "text": [
        "[[0, None], [1, None]]"
       ]
      }
     ],
     "prompt_number": 2
    },
    {
     "cell_type": "code",
     "collapsed": false,
     "input": [
      "# For each virus, print each segment's ID and sequence\n",
      "for virus in e.GetViruses():\n",
      "    print virus"
     ],
     "language": "python",
     "metadata": {},
     "outputs": [
      {
       "output_type": "stream",
       "stream": "stdout",
       "text": [
        "[0, None]\n",
        "[1, None]\n"
       ]
      }
     ],
     "prompt_number": 3
    },
    {
     "cell_type": "code",
     "collapsed": false,
     "input": [
      "# Get a particular virus that is not present in the set.\n",
      "e.GetVirus(2)"
     ],
     "language": "python",
     "metadata": {},
     "outputs": [
      {
       "output_type": "stream",
       "stream": "stdout",
       "text": [
        "ERROR: The virus ID should be between 0 and 1.\n"
       ]
      }
     ],
     "prompt_number": 4
    },
    {
     "cell_type": "code",
     "collapsed": false,
     "input": [
      "# Get a particular virus that is present in the set.\n",
      "e.GetVirus(1)"
     ],
     "language": "python",
     "metadata": {},
     "outputs": [
      {
       "metadata": {},
       "output_type": "pyout",
       "prompt_number": 5,
       "text": [
        "[1, None]"
       ]
      }
     ],
     "prompt_number": 5
    },
    {
     "cell_type": "code",
     "collapsed": false,
     "input": [
      "# Pick any two viruses in the current set of viruses in the environment, and subject them to a random reassortment process.\n",
      "e.RandomlyReassortTwoViruses(mutate=False)\n",
      "# If the new virus that is appended had two parents, then it would have a tuple (i, j) as the second element in the list.\n",
      "# If the new virus that is appended had one parent, then it would have a single integer as the second element in the list.\n",
      "e.GetViruses()"
     ],
     "language": "python",
     "metadata": {},
     "outputs": [
      {
       "output_type": "stream",
       "stream": "stdout",
       "text": [
        "[36]\n",
        "[266, 250, 293, 277, 235, 245, 234, 231, 210, 233, 246, 242, 276, 232, 258, 267, 257, 218, 273, 295]\n",
        "[264, 238, 211, 256, 201, 223, 298, 243, 242, 287, 270, 295, 253, 259, 239, 265, 202, 219, 249, 285]\n",
        "[55]\n"
       ]
      },
      {
       "metadata": {},
       "output_type": "pyout",
       "prompt_number": 6,
       "text": [
        "[[0, None], [1, None], [2, (0, 1)]]"
       ]
      }
     ],
     "prompt_number": 6
    },
    {
     "cell_type": "code",
     "collapsed": false,
     "input": [
      "e.ReplicateAVirus(virus=e.GetRandomVirus(), date=3)\n",
      "e.GetViruses()"
     ],
     "language": "python",
     "metadata": {},
     "outputs": [
      {
       "metadata": {},
       "output_type": "pyout",
       "prompt_number": 7,
       "text": [
        "[[0, None], [1, None], [2, (0, 1)], [3, 2]]"
       ]
      }
     ],
     "prompt_number": 7
    },
    {
     "cell_type": "code",
     "collapsed": false,
     "input": [
      "# Subject the environment to 10 time steps.\n",
      "timesteps = range(0, 10)\n",
      "\n",
      "for time in timesteps:\n",
      "    num_of_mutations = e.SampleNumberOfMutations(0.008, e.GetRandomVirus())\n",
      "    num_of_descendents = e.SampleNumberOfDescendants(1.2, 0.5)\n",
      "    \n",
      "    for i in range(num_of_descendents):\n",
      "        e.ReplicateVirus(virus=e.GetRandomVirus(), date=time)"
     ],
     "language": "python",
     "metadata": {},
     "outputs": [],
     "prompt_number": 8
    },
    {
     "cell_type": "code",
     "collapsed": false,
     "input": [
      "e.GetViruses()"
     ],
     "language": "python",
     "metadata": {},
     "outputs": [
      {
       "metadata": {},
       "output_type": "pyout",
       "prompt_number": 9,
       "text": [
        "[[0, None],\n",
        " [1, None],\n",
        " [2, (0, 1)],\n",
        " [3, 2],\n",
        " [4, 3],\n",
        " [5, 0],\n",
        " [6, 3],\n",
        " [7, 5],\n",
        " [8, 4],\n",
        " [9, 4],\n",
        " [10, 2],\n",
        " [11, 10],\n",
        " [12, 5],\n",
        " [13, 11],\n",
        " [14, 9],\n",
        " [15, 12],\n",
        " [16, 10],\n",
        " [17, 5]]"
       ]
      }
     ],
     "prompt_number": 9
    },
    {
     "cell_type": "code",
     "collapsed": false,
     "input": [
      "for virus in e.GetViruses():\n",
      "    print virus, virus.IsMutated(), virus.IsReassorted()"
     ],
     "language": "python",
     "metadata": {},
     "outputs": [
      {
       "output_type": "stream",
       "stream": "stdout",
       "text": [
        "[0, None] False False\n",
        "[1, None] False False\n",
        "[2, (0, 1)] False True\n",
        "[3, 2] False False\n",
        "[4, 3] False False\n",
        "[5, 0] False False\n",
        "[6, 3] False False\n",
        "[7, 5] False False\n",
        "[8, 4] False False\n",
        "[9, 4] False False\n",
        "[10, 2] False False\n",
        "[11, 10] False False\n",
        "[12, 5] False False\n",
        "[13, 11] False False\n",
        "[14, 9] False False\n",
        "[15, 12] False False\n",
        "[16, 10] False False\n",
        "[17, 5] False False\n"
       ]
      }
     ],
     "prompt_number": 10
    },
    {
     "cell_type": "code",
     "collapsed": false,
     "input": [
      "print len(e.GetViruses())"
     ],
     "language": "python",
     "metadata": {},
     "outputs": [
      {
       "output_type": "stream",
       "stream": "stdout",
       "text": [
        "18\n"
       ]
      }
     ],
     "prompt_number": 11
    },
    {
     "cell_type": "code",
     "collapsed": false,
     "input": [
      "# Randomly reassort two viruses again.\n",
      "e.RandomlyReassortTwoViruses(mutate=False)\n",
      "e.RandomlyReassortTwoViruses(mutate=False)"
     ],
     "language": "python",
     "metadata": {},
     "outputs": [
      {
       "output_type": "stream",
       "stream": "stdout",
       "text": [
        "[196]\n",
        "[279, 211, 253, 233, 292, 270, 264, 281, 243, 254, 237, 262, 225, 295, 207, 268, 223, 277, 203, 209]\n",
        "[263, 222, 270, 292, 212, 200, 228, 244, 241, 234, 282, 252, 278, 286, 211, 275, 205, 258, 290, 288]\n",
        "[134]\n",
        "[163]\n",
        "[290, 223, 206, 298, 251, 233, 296, 232, 253, 268, 270, 249, 282, 224, 260, 254, 271, 288, 293, 205]\n",
        "[203, 212, 234, 248, 298, 277, 259, 202, 213, 218, 285, 200, 273, 243, 286, 299, 233, 214, 201, 231]\n",
        "[132]\n"
       ]
      }
     ],
     "prompt_number": 12
    },
    {
     "cell_type": "code",
     "collapsed": false,
     "input": [
      "# Print out the viruses present in the environment.\n",
      "for virus in e.GetViruses():\n",
      "    print virus, virus.mutated, virus.reassorted"
     ],
     "language": "python",
     "metadata": {},
     "outputs": [
      {
       "output_type": "stream",
       "stream": "stdout",
       "text": [
        "[0, None] False False\n",
        "[1, None] False False\n",
        "[2, (0, 1)] False True\n",
        "[3, 2] False False\n",
        "[4, 3] False False\n",
        "[5, 0] False False\n",
        "[6, 3] False False\n",
        "[7, 5] False False\n",
        "[8, 4] False False\n",
        "[9, 4] False False\n",
        "[10, 2] False False\n",
        "[11, 10] False False\n",
        "[12, 5] False False\n",
        "[13, 11] False False\n",
        "[14, 9] False False\n",
        "[15, 12] False False\n",
        "[16, 10] False False\n",
        "[17, 5] False False\n",
        "[18, (16, 17)] False True\n",
        "[19, 5] False False\n"
       ]
      }
     ],
     "prompt_number": 13
    },
    {
     "cell_type": "code",
     "collapsed": false,
     "input": [
      "# Sample some viruses from the population.\n",
      "s = Sampler()\n",
      "\n",
      "s.SampleVirusesFromEnvironment(e, 'all')\n",
      "s.DumpSequences()\n",
      "\n",
      "s.SampleVirusesFromEnvironment(e, 5)\n",
      "s.DumpSequences()"
     ],
     "language": "python",
     "metadata": {},
     "outputs": [],
     "prompt_number": 14
    },
    {
     "cell_type": "markdown",
     "metadata": {},
     "source": [
      "# Visualize the network\n",
      "\n",
      "Below, we use NetworkX and matplotlib to visualize the network."
     ]
    },
    {
     "cell_type": "code",
     "collapsed": false,
     "input": [
      "G = nx.DiGraph()"
     ],
     "language": "python",
     "metadata": {},
     "outputs": [],
     "prompt_number": 15
    },
    {
     "cell_type": "code",
     "collapsed": false,
     "input": [
      "for virus in e.GetViruses():\n",
      "    parent = virus.GetParent()\n",
      "    child = virus.GetID()\n",
      "    if parent == None:\n",
      "        G.add_node(child)\n",
      "    elif type(parent) == int:\n",
      "        G.add_edge(parent, child, weight=1)\n",
      "    elif len(parent) == 2:\n",
      "        G.add_edge(parent[0], child, weight=0.5)\n",
      "        G.add_edge(parent[1], child, weight=0.5)\n"
     ],
     "language": "python",
     "metadata": {},
     "outputs": [],
     "prompt_number": 16
    },
    {
     "cell_type": "code",
     "collapsed": false,
     "input": [
      "G.nodes()"
     ],
     "language": "python",
     "metadata": {},
     "outputs": [
      {
       "metadata": {},
       "output_type": "pyout",
       "prompt_number": 17,
       "text": [
        "[0, 1, 2, 3, 4, 5, 6, 7, 8, 9, 10, 11, 12, 13, 14, 15, 16, 17, 18, 19]"
       ]
      }
     ],
     "prompt_number": 17
    },
    {
     "cell_type": "code",
     "collapsed": false,
     "input": [
      "G.edges()"
     ],
     "language": "python",
     "metadata": {},
     "outputs": [
      {
       "metadata": {},
       "output_type": "pyout",
       "prompt_number": 18,
       "text": [
        "[(0, 2),\n",
        " (0, 5),\n",
        " (1, 2),\n",
        " (2, 10),\n",
        " (2, 3),\n",
        " (3, 4),\n",
        " (3, 6),\n",
        " (4, 8),\n",
        " (4, 9),\n",
        " (5, 17),\n",
        " (5, 19),\n",
        " (5, 12),\n",
        " (5, 7),\n",
        " (9, 14),\n",
        " (10, 16),\n",
        " (10, 11),\n",
        " (11, 13),\n",
        " (12, 15),\n",
        " (16, 18),\n",
        " (17, 18)]"
       ]
      }
     ],
     "prompt_number": 18
    },
    {
     "cell_type": "code",
     "collapsed": false,
     "input": [
      "nx.draw_circular(G)"
     ],
     "language": "python",
     "metadata": {},
     "outputs": [
      {
       "metadata": {},
       "output_type": "display_data",
       "png": "[encoded data removed]",
       "text": [
        "<matplotlib.figure.Figure at 0x10616cf50>"
       ]
      }
     ],
     "prompt_number": 19
    },
    {
     "cell_type": "code",
     "collapsed": false,
     "input": [],
     "language": "python",
     "metadata": {},
     "outputs": []
    }
   ],
   "metadata": {}
  }
 ]
}