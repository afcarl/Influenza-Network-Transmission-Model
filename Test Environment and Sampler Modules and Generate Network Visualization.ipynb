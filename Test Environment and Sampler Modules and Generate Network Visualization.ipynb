{
 "metadata": {
  "name": "",
  "signature": "sha256:c9f88bc0574d654b003d81df3dcb9b4b5b11c41826d57cce24236309540ccb77"
 },
 "nbformat": 3,
 "nbformat_minor": 0,
 "worksheets": [
  {
   "cells": [
    {
     "cell_type": "code",
     "collapsed": false,
     "input": [
      "from environment import Environment\n",
      "import networkx as nx\n",
      "from random import random, choice\n",
      "from sampler import Sampler"
     ],
     "language": "python",
     "metadata": {},
     "outputs": [],
     "prompt_number": 2
    },
    {
     "cell_type": "code",
     "collapsed": false,
     "input": [
      "# Create an environment with 2 viruses\n",
      "e = Environment(num_viruses=2, virus_type='influenza')\n",
      "\n",
      "# Get the virus IDs\n",
      "e.GetViruses()"
     ],
     "language": "python",
     "metadata": {},
     "outputs": [
      {
       "metadata": {},
       "output_type": "pyout",
       "prompt_number": 3,
       "text": [
        "[[0, None], [1, None]]"
       ]
      }
     ],
     "prompt_number": 3
    },
    {
     "cell_type": "code",
     "collapsed": false,
     "input": [
      "# For each virus, print each segment's ID and sequence\n",
      "for virus in e.GetViruses():\n",
      "    print virus"
     ],
     "language": "python",
     "metadata": {},
     "outputs": [
      {
       "output_type": "stream",
       "stream": "stdout",
       "text": [
        "[0, None]\n",
        "[1, None]\n"
       ]
      }
     ],
     "prompt_number": 4
    },
    {
     "cell_type": "code",
     "collapsed": false,
     "input": [
      "# Get a particular virus that is not present in the set.\n",
      "e.GetVirus(2)"
     ],
     "language": "python",
     "metadata": {},
     "outputs": [
      {
       "output_type": "stream",
       "stream": "stdout",
       "text": [
        "ERROR: The virus ID should be between 0 and 1.\n"
       ]
      }
     ],
     "prompt_number": 5
    },
    {
     "cell_type": "code",
     "collapsed": false,
     "input": [
      "# Get a particular virus that is present in the set.\n",
      "e.GetVirus(1)"
     ],
     "language": "python",
     "metadata": {},
     "outputs": [
      {
       "metadata": {},
       "output_type": "pyout",
       "prompt_number": 6,
       "text": [
        "[1, None]"
       ]
      }
     ],
     "prompt_number": 6
    },
    {
     "cell_type": "code",
     "collapsed": false,
     "input": [
      "# Pick any two viruses in the current set of viruses in the environment, and subject them to a random reassortment process.\n",
      "e.RandomlyReassortTwoViruses(mutate=False)\n",
      "# If the new virus that is appended had two parents, then it would have a tuple (i, j) as the second element in the list.\n",
      "# If the new virus that is appended had one parent, then it would have a single integer as the second element in the list.\n",
      "e.GetViruses()"
     ],
     "language": "python",
     "metadata": {},
     "outputs": [
      {
       "metadata": {},
       "output_type": "pyout",
       "prompt_number": 7,
       "text": [
        "[[0, None], [1, None], [2, (0, 1)]]"
       ]
      }
     ],
     "prompt_number": 7
    },
    {
     "cell_type": "code",
     "collapsed": false,
     "input": [
      "print e.GetRandomVirus()\n",
      "e.ReplicateVirus(virus=e.GetRandomVirus(), date=3)\n",
      "e.GetViruses()"
     ],
     "language": "python",
     "metadata": {},
     "outputs": [
      {
       "output_type": "stream",
       "stream": "stdout",
       "text": [
        "[0, None]\n"
       ]
      },
      {
       "metadata": {},
       "output_type": "pyout",
       "prompt_number": 8,
       "text": [
        "[[0, None], [1, None], [2, (0, 1)], [3, 0]]"
       ]
      }
     ],
     "prompt_number": 8
    },
    {
     "cell_type": "code",
     "collapsed": false,
     "input": [
      "# Subject the environment to 10 time steps.\n",
      "timesteps = range(0, 10)\n",
      "\n",
      "for time in timesteps:\n",
      "    num_of_mutations = e.SampleNumberOfMutations(0.008, e.GetRandomVirus())\n",
      "    num_of_descendents = e.SampleNumberOfDescendants(1.2, 0.5)\n",
      "    \n",
      "    for i in range(num_of_descendents):\n",
      "        e.ReplicateVirus(virus=e.GetRandomVirus(), date=time)"
     ],
     "language": "python",
     "metadata": {},
     "outputs": [],
     "prompt_number": 9
    },
    {
     "cell_type": "code",
     "collapsed": false,
     "input": [
      "e.GetViruses()"
     ],
     "language": "python",
     "metadata": {},
     "outputs": [
      {
       "metadata": {},
       "output_type": "pyout",
       "prompt_number": 10,
       "text": [
        "[[0, None],\n",
        " [1, None],\n",
        " [2, (0, 1)],\n",
        " [3, 0],\n",
        " [4, 2],\n",
        " [5, 4],\n",
        " [6, 0],\n",
        " [7, 3],\n",
        " [8, 2],\n",
        " [9, 0],\n",
        " [10, 1],\n",
        " [11, 2],\n",
        " [12, 8],\n",
        " [13, 9],\n",
        " [14, 1],\n",
        " [15, 13],\n",
        " [16, 0],\n",
        " [17, 12]]"
       ]
      }
     ],
     "prompt_number": 10
    },
    {
     "cell_type": "code",
     "collapsed": false,
     "input": [
      "for virus in e.GetViruses():\n",
      "    print virus, virus.IsMutated(), virus.IsReassorted()"
     ],
     "language": "python",
     "metadata": {},
     "outputs": [
      {
       "output_type": "stream",
       "stream": "stdout",
       "text": [
        "[0, None] False False\n",
        "[1, None] False False\n",
        "[2, (0, 1)] False True\n",
        "[3, 0] False False\n",
        "[4, 2] False False\n",
        "[5, 4] False False\n",
        "[6, 0] False False\n",
        "[7, 3] False False\n",
        "[8, 2] False False\n",
        "[9, 0] False False\n",
        "[10, 1] False False\n",
        "[11, 2] False False\n",
        "[12, 8] False False\n",
        "[13, 9] False False\n",
        "[14, 1] False False\n",
        "[15, 13] False False\n",
        "[16, 0] False False\n",
        "[17, 12] False False\n"
       ]
      }
     ],
     "prompt_number": 11
    },
    {
     "cell_type": "code",
     "collapsed": false,
     "input": [
      "print len(e.GetViruses())"
     ],
     "language": "python",
     "metadata": {},
     "outputs": [
      {
       "output_type": "stream",
       "stream": "stdout",
       "text": [
        "18\n"
       ]
      }
     ],
     "prompt_number": 12
    },
    {
     "cell_type": "code",
     "collapsed": false,
     "input": [
      "# Randomly reassort two viruses again.\n",
      "e.RandomlyReassortTwoViruses(mutate=False)\n",
      "e.RandomlyReassortTwoViruses(mutate=False)"
     ],
     "language": "python",
     "metadata": {},
     "outputs": [],
     "prompt_number": 13
    },
    {
     "cell_type": "code",
     "collapsed": false,
     "input": [
      "# Print out the viruses present in the environment.\n",
      "for virus in e.GetViruses():\n",
      "    print virus, virus.mutated, virus.reassorted"
     ],
     "language": "python",
     "metadata": {},
     "outputs": [
      {
       "output_type": "stream",
       "stream": "stdout",
       "text": [
        "[0, None] False False\n",
        "[1, None] False False\n",
        "[2, (0, 1)] False True\n",
        "[3, 0] False False\n",
        "[4, 2] False False\n",
        "[5, 4] False False\n",
        "[6, 0] False False\n",
        "[7, 3] False False\n",
        "[8, 2] False False\n",
        "[9, 0] False False\n",
        "[10, 1] False False\n",
        "[11, 2] False False\n",
        "[12, 8] False False\n",
        "[13, 9] False False\n",
        "[14, 1] False False\n",
        "[15, 13] False False\n",
        "[16, 0] False False\n",
        "[17, 12] False False\n",
        "[18, (0, 6)] False True\n",
        "[19, 16] False False\n"
       ]
      }
     ],
     "prompt_number": 14
    },
    {
     "cell_type": "code",
     "collapsed": false,
     "input": [
      "# Sample some viruses from the population.\n",
      "s = Sampler()\n",
      "\n",
      "s.SampleVirusesFromEnvironment(e, 'all')\n",
      "s.GenerateNetworkVisualization()\n",
      "# s.DumpSequences()"
     ],
     "language": "python",
     "metadata": {},
     "outputs": [
      {
       "metadata": {},
       "output_type": "display_data",
       "png": "[encoded data removed]",
       "text": [
        "<matplotlib.figure.Figure at 0x10647f2d0>"
       ]
      }
     ],
     "prompt_number": 22
    },
    {
     "cell_type": "code",
     "collapsed": false,
     "input": [
      "s.SampleVirusesFromEnvironment(e, 5)\n",
      "s.DumpSequences()"
     ],
     "language": "python",
     "metadata": {},
     "outputs": [],
     "prompt_number": 15
    },
    {
     "cell_type": "markdown",
     "metadata": {},
     "source": [
      "# Visualize the network\n",
      "\n",
      "Below, we use NetworkX and matplotlib to visualize the network."
     ]
    },
    {
     "cell_type": "code",
     "collapsed": false,
     "input": [],
     "language": "python",
     "metadata": {},
     "outputs": [],
     "prompt_number": 16
    },
    {
     "cell_type": "code",
     "collapsed": false,
     "input": [
      "for virus in e.GetViruses():\n",
      "    parent = virus.GetParent()\n",
      "    child = virus.GetID()\n",
      "    if parent == None:\n",
      "        G.add_node(child)\n",
      "    elif type(parent) == int:\n",
      "        G.add_edge(parent, child, weight=1)\n",
      "    elif len(parent) == 2:\n",
      "        G.add_edge(parent[0], child, weight=0.5)\n",
      "        G.add_edge(parent[1], child, weight=0.5)\n"
     ],
     "language": "python",
     "metadata": {},
     "outputs": [],
     "prompt_number": 17
    },
    {
     "cell_type": "code",
     "collapsed": false,
     "input": [
      "G.nodes()"
     ],
     "language": "python",
     "metadata": {},
     "outputs": [
      {
       "metadata": {},
       "output_type": "pyout",
       "prompt_number": 18,
       "text": [
        "[0, 1, 2, 3, 4, 5, 6, 7, 8, 9, 10, 11, 12, 13, 14, 15, 16, 17, 18, 19]"
       ]
      }
     ],
     "prompt_number": 18
    },
    {
     "cell_type": "code",
     "collapsed": false,
     "input": [
      "G.edges()"
     ],
     "language": "python",
     "metadata": {},
     "outputs": [
      {
       "metadata": {},
       "output_type": "pyout",
       "prompt_number": 19,
       "text": [
        "[(0, 2),\n",
        " (0, 3),\n",
        " (0, 6),\n",
        " (0, 9),\n",
        " (0, 16),\n",
        " (0, 18),\n",
        " (1, 2),\n",
        " (1, 10),\n",
        " (1, 14),\n",
        " (2, 8),\n",
        " (2, 11),\n",
        " (2, 4),\n",
        " (3, 7),\n",
        " (4, 5),\n",
        " (6, 18),\n",
        " (8, 12),\n",
        " (9, 13),\n",
        " (12, 17),\n",
        " (13, 15),\n",
        " (16, 19)]"
       ]
      }
     ],
     "prompt_number": 19
    },
    {
     "cell_type": "code",
     "collapsed": false,
     "input": [
      "nx.draw_circular(G)"
     ],
     "language": "python",
     "metadata": {},
     "outputs": [
      {
       "metadata": {},
       "output_type": "display_data",
       "png": "[encoded data removed]",
       "text": [
        "<matplotlib.figure.Figure at 0x1062dae90>"
       ]
      }
     ],
     "prompt_number": 20
    },
    {
     "cell_type": "markdown",
     "metadata": {},
     "source": [
      "# Network Reconstruction"
     ]
    },
    {
     "cell_type": "code",
     "collapsed": false,
     "input": [],
     "language": "python",
     "metadata": {},
     "outputs": []
    }
   ],
   "metadata": {}
  }
 ]
}