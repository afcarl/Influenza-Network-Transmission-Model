{
 "metadata": {
  "name": "",
  "signature": "sha256:cad511dbcb78df7258c18cb33cbb4d7ce79b8eb9c8dc2fa91641372be1038caa"
 },
 "nbformat": 3,
 "nbformat_minor": 0,
 "worksheets": [
  {
   "cells": [
    {
     "cell_type": "code",
     "collapsed": false,
     "input": [
      "from controller import Controller"
     ],
     "language": "python",
     "metadata": {},
     "outputs": [],
     "prompt_number": 1
    },
    {
     "cell_type": "code",
     "collapsed": false,
     "input": [
      "c = Controller()"
     ],
     "language": "python",
     "metadata": {},
     "outputs": [],
     "prompt_number": 2
    },
    {
     "cell_type": "code",
     "collapsed": false,
     "input": [
      "c.create_environment(num_hosts=1)"
     ],
     "language": "python",
     "metadata": {},
     "outputs": [],
     "prompt_number": 3
    },
    {
     "cell_type": "code",
     "collapsed": false,
     "input": [
      "c.environments"
     ],
     "language": "python",
     "metadata": {},
     "outputs": [
      {
       "metadata": {},
       "output_type": "pyout",
       "prompt_number": 4,
       "text": [
        "[Environment 05ee3990f2b998d978aa8bb344e2ab74d408b9bef0ebf4f775addfd775941c5f08e845a5ce000891de2353718868e9a4871367f971933ebf7fcdfd91d58d39fd with 0 hosts.]"
       ]
      }
     ],
     "prompt_number": 4
    },
    {
     "cell_type": "code",
     "collapsed": false,
     "input": [
      "c.create_host(c.environments[0])"
     ],
     "language": "python",
     "metadata": {},
     "outputs": [],
     "prompt_number": 5
    },
    {
     "cell_type": "code",
     "collapsed": false,
     "input": [
      "c.environments"
     ],
     "language": "python",
     "metadata": {},
     "outputs": [
      {
       "metadata": {},
       "output_type": "pyout",
       "prompt_number": 6,
       "text": [
        "[Environment 05ee3990f2b998d978aa8bb344e2ab74d408b9bef0ebf4f775addfd775941c5f08e845a5ce000891de2353718868e9a4871367f971933ebf7fcdfd91d58d39fd with 1 hosts.]"
       ]
      }
     ],
     "prompt_number": 6
    },
    {
     "cell_type": "code",
     "collapsed": false,
     "input": [
      "c.create_hosts(c.environments[0], 3)\n",
      "c.environments"
     ],
     "language": "python",
     "metadata": {},
     "outputs": [
      {
       "metadata": {},
       "output_type": "pyout",
       "prompt_number": 7,
       "text": [
        "[Environment 05ee3990f2b998d978aa8bb344e2ab74d408b9bef0ebf4f775addfd775941c5f08e845a5ce000891de2353718868e9a4871367f971933ebf7fcdfd91d58d39fd with 4 hosts.]"
       ]
      }
     ],
     "prompt_number": 7
    },
    {
     "cell_type": "code",
     "collapsed": false,
     "input": [
      "hosts = c.environments[0].hosts\n",
      "hosts"
     ],
     "language": "python",
     "metadata": {},
     "outputs": [
      {
       "metadata": {},
       "output_type": "pyout",
       "prompt_number": 8,
       "text": [
        "[Host 8343902c5e2078c929e869e8ff51d4e5b1cb45aca540d5bc2f200c0547d9cedbbcb176c7af8acbef9a396708e18b61916f9c92bb5eb0caa0dbfdb2cebc473515 infected with 0 viruses.,\n",
        " Host ca32f0341ea609488042a9fb4d14c9a967d089bfdf4973e5f0f6607609a585f2ec2eabbea17ccab82ddc4a2121500eb721ff6dd344b94252d6d1e75d1dad3f25 infected with 0 viruses.,\n",
        " Host cff4a3dff11a36112e6f4e6affaaefc9a3873b08f33fd642d92bf88d8b022a85a175d45726e819ac28757a776fd64bc6f3d18312487b5bc5d63fdb4c1b0852f6 infected with 0 viruses.,\n",
        " Host 434080bdfbdae76e68e5e6be51b4ab23603ea97e06cb0a7ae0c2ba7c520182bcb7d1766b0af3b046d0a1b42e3a28e27077da08a951b5ce630891fd558d209e73 infected with 0 viruses.]"
       ]
      }
     ],
     "prompt_number": 8
    },
    {
     "cell_type": "code",
     "collapsed": false,
     "input": [
      "for host in hosts:\n",
      "    c.create_virus(host)"
     ],
     "language": "python",
     "metadata": {},
     "outputs": [],
     "prompt_number": 9
    },
    {
     "cell_type": "code",
     "collapsed": false,
     "input": [
      "hosts"
     ],
     "language": "python",
     "metadata": {},
     "outputs": [
      {
       "metadata": {},
       "output_type": "pyout",
       "prompt_number": 10,
       "text": [
        "[Host 8343902c5e2078c929e869e8ff51d4e5b1cb45aca540d5bc2f200c0547d9cedbbcb176c7af8acbef9a396708e18b61916f9c92bb5eb0caa0dbfdb2cebc473515 infected with 1 viruses.,\n",
        " Host ca32f0341ea609488042a9fb4d14c9a967d089bfdf4973e5f0f6607609a585f2ec2eabbea17ccab82ddc4a2121500eb721ff6dd344b94252d6d1e75d1dad3f25 infected with 1 viruses.,\n",
        " Host cff4a3dff11a36112e6f4e6affaaefc9a3873b08f33fd642d92bf88d8b022a85a175d45726e819ac28757a776fd64bc6f3d18312487b5bc5d63fdb4c1b0852f6 infected with 1 viruses.,\n",
        " Host 434080bdfbdae76e68e5e6be51b4ab23603ea97e06cb0a7ae0c2ba7c520182bcb7d1766b0af3b046d0a1b42e3a28e27077da08a951b5ce630891fd558d209e73 infected with 1 viruses.]"
       ]
      }
     ],
     "prompt_number": 10
    },
    {
     "cell_type": "code",
     "collapsed": false,
     "input": [
      "c.increment_timestep()"
     ],
     "language": "python",
     "metadata": {},
     "outputs": [],
     "prompt_number": 11
    },
    {
     "cell_type": "code",
     "collapsed": false,
     "input": [
      "c.environments[0].current_time"
     ],
     "language": "python",
     "metadata": {},
     "outputs": [
      {
       "metadata": {},
       "output_type": "pyout",
       "prompt_number": 12,
       "text": [
        "1"
       ]
      }
     ],
     "prompt_number": 12
    },
    {
     "cell_type": "code",
     "collapsed": false,
     "input": [
      "c.current_time"
     ],
     "language": "python",
     "metadata": {},
     "outputs": [
      {
       "metadata": {},
       "output_type": "pyout",
       "prompt_number": 13,
       "text": [
        "1"
       ]
      }
     ],
     "prompt_number": 13
    },
    {
     "cell_type": "code",
     "collapsed": false,
     "input": [
      "c.increment_one_generation_time(c.environments[0])"
     ],
     "language": "python",
     "metadata": {},
     "outputs": [],
     "prompt_number": 14
    },
    {
     "cell_type": "code",
     "collapsed": false,
     "input": [
      "c.environments[0].hosts"
     ],
     "language": "python",
     "metadata": {},
     "outputs": [
      {
       "metadata": {},
       "output_type": "pyout",
       "prompt_number": 15,
       "text": [
        "[Host 8343902c5e2078c929e869e8ff51d4e5b1cb45aca540d5bc2f200c0547d9cedbbcb176c7af8acbef9a396708e18b61916f9c92bb5eb0caa0dbfdb2cebc473515 infected with 1 viruses.,\n",
        " Host ca32f0341ea609488042a9fb4d14c9a967d089bfdf4973e5f0f6607609a585f2ec2eabbea17ccab82ddc4a2121500eb721ff6dd344b94252d6d1e75d1dad3f25 infected with 5 viruses.,\n",
        " Host cff4a3dff11a36112e6f4e6affaaefc9a3873b08f33fd642d92bf88d8b022a85a175d45726e819ac28757a776fd64bc6f3d18312487b5bc5d63fdb4c1b0852f6 infected with 6 viruses.,\n",
        " Host 434080bdfbdae76e68e5e6be51b4ab23603ea97e06cb0a7ae0c2ba7c520182bcb7d1766b0af3b046d0a1b42e3a28e27077da08a951b5ce630891fd558d209e73 infected with 7 viruses.]"
       ]
      }
     ],
     "prompt_number": 15
    },
    {
     "cell_type": "code",
     "collapsed": false,
     "input": [
      "c.increment_one_generation_time(c.environments[0])"
     ],
     "language": "python",
     "metadata": {},
     "outputs": [],
     "prompt_number": 16
    },
    {
     "cell_type": "code",
     "collapsed": false,
     "input": [
      "c.environments[0].hosts"
     ],
     "language": "python",
     "metadata": {},
     "outputs": [
      {
       "metadata": {},
       "output_type": "pyout",
       "prompt_number": 17,
       "text": [
        "[Host 8343902c5e2078c929e869e8ff51d4e5b1cb45aca540d5bc2f200c0547d9cedbbcb176c7af8acbef9a396708e18b61916f9c92bb5eb0caa0dbfdb2cebc473515 infected with 5 viruses.,\n",
        " Host ca32f0341ea609488042a9fb4d14c9a967d089bfdf4973e5f0f6607609a585f2ec2eabbea17ccab82ddc4a2121500eb721ff6dd344b94252d6d1e75d1dad3f25 infected with 5 viruses.,\n",
        " Host cff4a3dff11a36112e6f4e6affaaefc9a3873b08f33fd642d92bf88d8b022a85a175d45726e819ac28757a776fd64bc6f3d18312487b5bc5d63fdb4c1b0852f6 infected with 6 viruses.,\n",
        " Host 434080bdfbdae76e68e5e6be51b4ab23603ea97e06cb0a7ae0c2ba7c520182bcb7d1766b0af3b046d0a1b42e3a28e27077da08a951b5ce630891fd558d209e73 infected with 27 viruses.]"
       ]
      }
     ],
     "prompt_number": 17
    },
    {
     "cell_type": "code",
     "collapsed": false,
     "input": [],
     "language": "python",
     "metadata": {},
     "outputs": [],
     "prompt_number": 17
    }
   ],
   "metadata": {}
  }
 ]
}