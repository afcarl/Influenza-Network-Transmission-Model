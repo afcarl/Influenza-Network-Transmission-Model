{
 "metadata": {
  "name": "",
  "signature": "sha256:782165a83c8407ee5da68235428a161241b66a7385424230e59042dd4f0ddd2c"
 },
 "nbformat": 3,
 "nbformat_minor": 0,
 "worksheets": [
  {
   "cells": [
    {
     "cell_type": "code",
     "collapsed": false,
     "input": [
      "from controller import Controller"
     ],
     "language": "python",
     "metadata": {},
     "outputs": [],
     "prompt_number": 1
    },
    {
     "cell_type": "code",
     "collapsed": false,
     "input": [
      "c = Controller()"
     ],
     "language": "python",
     "metadata": {},
     "outputs": [],
     "prompt_number": 2
    },
    {
     "cell_type": "code",
     "collapsed": false,
     "input": [
      "c.create_environment(num_hosts=1)"
     ],
     "language": "python",
     "metadata": {},
     "outputs": [],
     "prompt_number": 3
    },
    {
     "cell_type": "code",
     "collapsed": false,
     "input": [
      "c.environments"
     ],
     "language": "python",
     "metadata": {},
     "outputs": [
      {
       "metadata": {},
       "output_type": "pyout",
       "prompt_number": 4,
       "text": [
        "[Environment 8c14425548aa0ace7b8fe1f4872de2c437895591b0d76e471bcfd39f6c9dc5c0736e5a4f335243e839f425b8aafc0673b7a8c3e5af03f80b060a601d3ff3044f with 0 hosts.]"
       ]
      }
     ],
     "prompt_number": 4
    },
    {
     "cell_type": "code",
     "collapsed": false,
     "input": [
      "c.create_host(c.environments[0])"
     ],
     "language": "python",
     "metadata": {},
     "outputs": [],
     "prompt_number": 5
    },
    {
     "cell_type": "code",
     "collapsed": false,
     "input": [
      "c.environments"
     ],
     "language": "python",
     "metadata": {},
     "outputs": [
      {
       "metadata": {},
       "output_type": "pyout",
       "prompt_number": 6,
       "text": [
        "[Environment 8c14425548aa0ace7b8fe1f4872de2c437895591b0d76e471bcfd39f6c9dc5c0736e5a4f335243e839f425b8aafc0673b7a8c3e5af03f80b060a601d3ff3044f with 1 hosts.]"
       ]
      }
     ],
     "prompt_number": 6
    },
    {
     "cell_type": "code",
     "collapsed": false,
     "input": [
      "c.create_hosts(c.environments[0], 3)\n",
      "c.environments"
     ],
     "language": "python",
     "metadata": {},
     "outputs": [
      {
       "metadata": {},
       "output_type": "pyout",
       "prompt_number": 7,
       "text": [
        "[Environment 8c14425548aa0ace7b8fe1f4872de2c437895591b0d76e471bcfd39f6c9dc5c0736e5a4f335243e839f425b8aafc0673b7a8c3e5af03f80b060a601d3ff3044f with 4 hosts.]"
       ]
      }
     ],
     "prompt_number": 7
    },
    {
     "cell_type": "code",
     "collapsed": false,
     "input": [
      "hosts = c.environments[0].hosts\n",
      "hosts"
     ],
     "language": "python",
     "metadata": {},
     "outputs": [
      {
       "metadata": {},
       "output_type": "pyout",
       "prompt_number": 8,
       "text": [
        "[Host c20ea8bb0669ebe83973d65e41c28a9a018525b328eaabe973d01a519f3b88049a9903df45fa54a6333a46af3996053210c4b0334d62c317a2b8aabcb24f998c infected with 0 viruses.,\n",
        " Host d9de9b6bf4f3ee1d84e4e05da3910f863f410ff8367d380bb361c48856dde733cc678be8c06c20dafb4a851b56eb8c39aed7fe2b29d411442a00291a71c703d4 infected with 0 viruses.,\n",
        " Host 3adc847258d14bdbe7c179ca09945f799205ec4de2adbb6fd2912e176e4b12a6973969e336571478899f10045b2d42990bb49c40fb8500550c8efc14d68b4295 infected with 0 viruses.,\n",
        " Host 8cdc3324225377e5e9706e46d3b6a6781c85dba3c7f94e7c01d511ba20779de877988e9831469c44aaeac4d0d1bc8b856ab56bdf52ff0c0e2bf85b3edc69ad4e infected with 0 viruses.]"
       ]
      }
     ],
     "prompt_number": 8
    },
    {
     "cell_type": "code",
     "collapsed": false,
     "input": [
      "for host in hosts:\n",
      "    c.create_virus(host)"
     ],
     "language": "python",
     "metadata": {},
     "outputs": [],
     "prompt_number": 9
    },
    {
     "cell_type": "code",
     "collapsed": false,
     "input": [
      "hosts"
     ],
     "language": "python",
     "metadata": {},
     "outputs": [
      {
       "metadata": {},
       "output_type": "pyout",
       "prompt_number": 10,
       "text": [
        "[Host c20ea8bb0669ebe83973d65e41c28a9a018525b328eaabe973d01a519f3b88049a9903df45fa54a6333a46af3996053210c4b0334d62c317a2b8aabcb24f998c infected with 1 viruses.,\n",
        " Host d9de9b6bf4f3ee1d84e4e05da3910f863f410ff8367d380bb361c48856dde733cc678be8c06c20dafb4a851b56eb8c39aed7fe2b29d411442a00291a71c703d4 infected with 1 viruses.,\n",
        " Host 3adc847258d14bdbe7c179ca09945f799205ec4de2adbb6fd2912e176e4b12a6973969e336571478899f10045b2d42990bb49c40fb8500550c8efc14d68b4295 infected with 1 viruses.,\n",
        " Host 8cdc3324225377e5e9706e46d3b6a6781c85dba3c7f94e7c01d511ba20779de877988e9831469c44aaeac4d0d1bc8b856ab56bdf52ff0c0e2bf85b3edc69ad4e infected with 1 viruses.]"
       ]
      }
     ],
     "prompt_number": 10
    },
    {
     "cell_type": "code",
     "collapsed": false,
     "input": [
      "c.increment_timestep()"
     ],
     "language": "python",
     "metadata": {},
     "outputs": [],
     "prompt_number": 11
    },
    {
     "cell_type": "code",
     "collapsed": false,
     "input": [
      "c.environments[0].current_time"
     ],
     "language": "python",
     "metadata": {},
     "outputs": [
      {
       "metadata": {},
       "output_type": "pyout",
       "prompt_number": 12,
       "text": [
        "1"
       ]
      }
     ],
     "prompt_number": 12
    },
    {
     "cell_type": "code",
     "collapsed": false,
     "input": [
      "c.current_time"
     ],
     "language": "python",
     "metadata": {},
     "outputs": [
      {
       "metadata": {},
       "output_type": "pyout",
       "prompt_number": 13,
       "text": [
        "1"
       ]
      }
     ],
     "prompt_number": 13
    },
    {
     "cell_type": "code",
     "collapsed": false,
     "input": [
      "c.increment_one_viral_generation(c.environments[0])"
     ],
     "language": "python",
     "metadata": {},
     "outputs": [
      {
       "output_type": "stream",
       "stream": "stdout",
       "text": [
        "0\n",
        "1\n",
        "0\n",
        "0\n"
       ]
      }
     ],
     "prompt_number": 14
    },
    {
     "cell_type": "code",
     "collapsed": false,
     "input": [
      "c.environments[0].hosts"
     ],
     "language": "python",
     "metadata": {},
     "outputs": [
      {
       "metadata": {},
       "output_type": "pyout",
       "prompt_number": 15,
       "text": [
        "[Host c20ea8bb0669ebe83973d65e41c28a9a018525b328eaabe973d01a519f3b88049a9903df45fa54a6333a46af3996053210c4b0334d62c317a2b8aabcb24f998c infected with 1 viruses.,\n",
        " Host d9de9b6bf4f3ee1d84e4e05da3910f863f410ff8367d380bb361c48856dde733cc678be8c06c20dafb4a851b56eb8c39aed7fe2b29d411442a00291a71c703d4 infected with 5 viruses.,\n",
        " Host 3adc847258d14bdbe7c179ca09945f799205ec4de2adbb6fd2912e176e4b12a6973969e336571478899f10045b2d42990bb49c40fb8500550c8efc14d68b4295 infected with 1 viruses.,\n",
        " Host 8cdc3324225377e5e9706e46d3b6a6781c85dba3c7f94e7c01d511ba20779de877988e9831469c44aaeac4d0d1bc8b856ab56bdf52ff0c0e2bf85b3edc69ad4e infected with 1 viruses.]"
       ]
      }
     ],
     "prompt_number": 15
    },
    {
     "cell_type": "code",
     "collapsed": false,
     "input": [],
     "language": "python",
     "metadata": {},
     "outputs": []
    }
   ],
   "metadata": {}
  }
 ]
}