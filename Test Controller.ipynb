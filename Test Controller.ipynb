{
 "metadata": {
  "name": "",
  "signature": "sha256:f0e39e2cd525dde55a4c146818da817c943c75625bf6f60389a4dc8116769a34"
 },
 "nbformat": 3,
 "nbformat_minor": 0,
 "worksheets": [
  {
   "cells": [
    {
     "cell_type": "code",
     "collapsed": false,
     "input": [
      "from controller import Controller"
     ],
     "language": "python",
     "metadata": {},
     "outputs": [],
     "prompt_number": 1
    },
    {
     "cell_type": "code",
     "collapsed": false,
     "input": [
      "c = Controller()"
     ],
     "language": "python",
     "metadata": {},
     "outputs": [],
     "prompt_number": 2
    },
    {
     "cell_type": "code",
     "collapsed": false,
     "input": [
      "c.create_environment(num_hosts=1)"
     ],
     "language": "python",
     "metadata": {},
     "outputs": [],
     "prompt_number": 3
    },
    {
     "cell_type": "code",
     "collapsed": false,
     "input": [
      "c.environments"
     ],
     "language": "python",
     "metadata": {},
     "outputs": [
      {
       "metadata": {},
       "output_type": "pyout",
       "prompt_number": 4,
       "text": [
        "[Environment 6378f5ec85879f7ff953dc639392e442d3eaaff4c67b195e34943f52243e5bf16f9d26757521ac775ee60d8015c507e8e08a7b7ba3af2d1aa9f0f98d7ad3158e with 0 hosts.]"
       ]
      }
     ],
     "prompt_number": 4
    },
    {
     "cell_type": "code",
     "collapsed": false,
     "input": [
      "c.create_host(c.environments[0])"
     ],
     "language": "python",
     "metadata": {},
     "outputs": [],
     "prompt_number": 5
    },
    {
     "cell_type": "code",
     "collapsed": false,
     "input": [
      "c.environments"
     ],
     "language": "python",
     "metadata": {},
     "outputs": [
      {
       "metadata": {},
       "output_type": "pyout",
       "prompt_number": 6,
       "text": [
        "[Environment 6378f5ec85879f7ff953dc639392e442d3eaaff4c67b195e34943f52243e5bf16f9d26757521ac775ee60d8015c507e8e08a7b7ba3af2d1aa9f0f98d7ad3158e with 1 hosts.]"
       ]
      }
     ],
     "prompt_number": 6
    },
    {
     "cell_type": "code",
     "collapsed": false,
     "input": [
      "c.create_hosts(c.environments[0], 3)\n",
      "c.environments"
     ],
     "language": "python",
     "metadata": {},
     "outputs": [
      {
       "metadata": {},
       "output_type": "pyout",
       "prompt_number": 7,
       "text": [
        "[Environment 6378f5ec85879f7ff953dc639392e442d3eaaff4c67b195e34943f52243e5bf16f9d26757521ac775ee60d8015c507e8e08a7b7ba3af2d1aa9f0f98d7ad3158e with 4 hosts.]"
       ]
      }
     ],
     "prompt_number": 7
    },
    {
     "cell_type": "code",
     "collapsed": false,
     "input": [
      "hosts = c.environments[0].hosts\n",
      "hosts"
     ],
     "language": "python",
     "metadata": {},
     "outputs": [
      {
       "metadata": {},
       "output_type": "pyout",
       "prompt_number": 8,
       "text": [
        "[Host 945f623b03347725346e119f9f74cf74d24a207af46747f3acf9ff94897fff484e7d97ebe318a57792d6bbdb0d6340857362997699a56f74df860ef781fa6c5e infected with 0 viruses.,\n",
        " Host b1b895c23885cd0b0cb3baa0e6a7851c14cc36a08784ac85bebfe6d99c96ec09adb8b12c91e4c49b4c0c683e45ea622deca14a4b49b3f483da81c9bee8ee32bc infected with 0 viruses.,\n",
        " Host 2686258e0f2d4df95ec8884cf59458d1a8d1eaaf800ff89744766e3348af15a5ba8d76250e9505ca517f17b042ad8087609cb180e91b4299f97aab47afbc65dd infected with 0 viruses.,\n",
        " Host 398f5ed2d79cf16b9cc1f09b1361a662fa9174d629a5407ccb1778ebf6ce1749bcc72d55d814a2580a91ac90815cc97016de4ac99c508215be426904b2cef716 infected with 0 viruses.]"
       ]
      }
     ],
     "prompt_number": 8
    },
    {
     "cell_type": "code",
     "collapsed": false,
     "input": [
      "for host in hosts:\n",
      "    c.create_virus(host)"
     ],
     "language": "python",
     "metadata": {},
     "outputs": [],
     "prompt_number": 9
    },
    {
     "cell_type": "code",
     "collapsed": false,
     "input": [
      "hosts"
     ],
     "language": "python",
     "metadata": {},
     "outputs": [
      {
       "metadata": {},
       "output_type": "pyout",
       "prompt_number": 10,
       "text": [
        "[Host 945f623b03347725346e119f9f74cf74d24a207af46747f3acf9ff94897fff484e7d97ebe318a57792d6bbdb0d6340857362997699a56f74df860ef781fa6c5e infected with 1 viruses.,\n",
        " Host b1b895c23885cd0b0cb3baa0e6a7851c14cc36a08784ac85bebfe6d99c96ec09adb8b12c91e4c49b4c0c683e45ea622deca14a4b49b3f483da81c9bee8ee32bc infected with 1 viruses.,\n",
        " Host 2686258e0f2d4df95ec8884cf59458d1a8d1eaaf800ff89744766e3348af15a5ba8d76250e9505ca517f17b042ad8087609cb180e91b4299f97aab47afbc65dd infected with 1 viruses.,\n",
        " Host 398f5ed2d79cf16b9cc1f09b1361a662fa9174d629a5407ccb1778ebf6ce1749bcc72d55d814a2580a91ac90815cc97016de4ac99c508215be426904b2cef716 infected with 1 viruses.]"
       ]
      }
     ],
     "prompt_number": 10
    },
    {
     "cell_type": "code",
     "collapsed": false,
     "input": [
      "c.increment_timestep()"
     ],
     "language": "python",
     "metadata": {},
     "outputs": [],
     "prompt_number": 11
    },
    {
     "cell_type": "code",
     "collapsed": false,
     "input": [
      "c.environments[0].current_time"
     ],
     "language": "python",
     "metadata": {},
     "outputs": [
      {
       "metadata": {},
       "output_type": "pyout",
       "prompt_number": 12,
       "text": [
        "1"
       ]
      }
     ],
     "prompt_number": 12
    },
    {
     "cell_type": "code",
     "collapsed": false,
     "input": [
      "c.current_time"
     ],
     "language": "python",
     "metadata": {},
     "outputs": [
      {
       "metadata": {},
       "output_type": "pyout",
       "prompt_number": 13,
       "text": [
        "1"
       ]
      }
     ],
     "prompt_number": 13
    },
    {
     "cell_type": "code",
     "collapsed": false,
     "input": [
      "c.increment_one_viral_generation(c.environments[0])"
     ],
     "language": "python",
     "metadata": {},
     "outputs": [],
     "prompt_number": 18
    },
    {
     "cell_type": "code",
     "collapsed": false,
     "input": [
      "c.environments[0].hosts"
     ],
     "language": "python",
     "metadata": {},
     "outputs": [
      {
       "metadata": {},
       "output_type": "pyout",
       "prompt_number": 19,
       "text": [
        "[Host 945f623b03347725346e119f9f74cf74d24a207af46747f3acf9ff94897fff484e7d97ebe318a57792d6bbdb0d6340857362997699a56f74df860ef781fa6c5e infected with 23 viruses.,\n",
        " Host b1b895c23885cd0b0cb3baa0e6a7851c14cc36a08784ac85bebfe6d99c96ec09adb8b12c91e4c49b4c0c683e45ea622deca14a4b49b3f483da81c9bee8ee32bc infected with 20 viruses.,\n",
        " Host 2686258e0f2d4df95ec8884cf59458d1a8d1eaaf800ff89744766e3348af15a5ba8d76250e9505ca517f17b042ad8087609cb180e91b4299f97aab47afbc65dd infected with 4 viruses.,\n",
        " Host 398f5ed2d79cf16b9cc1f09b1361a662fa9174d629a5407ccb1778ebf6ce1749bcc72d55d814a2580a91ac90815cc97016de4ac99c508215be426904b2cef716 infected with 6 viruses.]"
       ]
      }
     ],
     "prompt_number": 19
    },
    {
     "cell_type": "code",
     "collapsed": false,
     "input": [
      "c.increment_one_viral_generation(c.environments[0])"
     ],
     "language": "python",
     "metadata": {},
     "outputs": [],
     "prompt_number": 20
    },
    {
     "cell_type": "code",
     "collapsed": false,
     "input": [
      "c.environments[0].hosts"
     ],
     "language": "python",
     "metadata": {},
     "outputs": [
      {
       "metadata": {},
       "output_type": "pyout",
       "prompt_number": 21,
       "text": [
        "[Host 945f623b03347725346e119f9f74cf74d24a207af46747f3acf9ff94897fff484e7d97ebe318a57792d6bbdb0d6340857362997699a56f74df860ef781fa6c5e infected with 31 viruses.,\n",
        " Host b1b895c23885cd0b0cb3baa0e6a7851c14cc36a08784ac85bebfe6d99c96ec09adb8b12c91e4c49b4c0c683e45ea622deca14a4b49b3f483da81c9bee8ee32bc infected with 86 viruses.,\n",
        " Host 2686258e0f2d4df95ec8884cf59458d1a8d1eaaf800ff89744766e3348af15a5ba8d76250e9505ca517f17b042ad8087609cb180e91b4299f97aab47afbc65dd infected with 9 viruses.,\n",
        " Host 398f5ed2d79cf16b9cc1f09b1361a662fa9174d629a5407ccb1778ebf6ce1749bcc72d55d814a2580a91ac90815cc97016de4ac99c508215be426904b2cef716 infected with 34 viruses.]"
       ]
      }
     ],
     "prompt_number": 21
    },
    {
     "cell_type": "code",
     "collapsed": false,
     "input": [],
     "language": "python",
     "metadata": {},
     "outputs": [],
     "prompt_number": 17
    }
   ],
   "metadata": {}
  }
 ]
}