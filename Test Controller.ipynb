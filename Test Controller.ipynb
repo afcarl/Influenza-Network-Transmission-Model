{
 "metadata": {
  "name": "",
  "signature": "sha256:272d570eb4ec32ef6ba3a736d56816c2e850683566b7c143207fb2a3d7549995"
 },
 "nbformat": 3,
 "nbformat_minor": 0,
 "worksheets": [
  {
   "cells": [
    {
     "cell_type": "code",
     "collapsed": false,
     "input": [
      "from controller import Controller"
     ],
     "language": "python",
     "metadata": {},
     "outputs": [],
     "prompt_number": 13
    },
    {
     "cell_type": "code",
     "collapsed": false,
     "input": [],
     "language": "python",
     "metadata": {},
     "outputs": [],
     "prompt_number": 12
    },
    {
     "cell_type": "code",
     "collapsed": false,
     "input": [
      "c = Controller()"
     ],
     "language": "python",
     "metadata": {},
     "outputs": [],
     "prompt_number": 4
    },
    {
     "cell_type": "code",
     "collapsed": false,
     "input": [
      "c.create_environment(num_hosts=1)"
     ],
     "language": "python",
     "metadata": {},
     "outputs": [],
     "prompt_number": 5
    },
    {
     "cell_type": "code",
     "collapsed": false,
     "input": [
      "c.environments"
     ],
     "language": "python",
     "metadata": {},
     "outputs": [
      {
       "metadata": {},
       "output_type": "pyout",
       "prompt_number": 6,
       "text": [
        "[Environment effc5e252a92162a9e3ad2d59021dd0ec085122a7ed8b9d85864c07222a5eb069869d43969994240e4d7a293eeaa59e7f27fc9205d1caa7500e213ee035950e3 with 1 hosts.]"
       ]
      }
     ],
     "prompt_number": 6
    },
    {
     "cell_type": "code",
     "collapsed": false,
     "input": [
      "c.create_host(c.environments[0])"
     ],
     "language": "python",
     "metadata": {},
     "outputs": [],
     "prompt_number": 7
    },
    {
     "cell_type": "code",
     "collapsed": false,
     "input": [
      "c.environments"
     ],
     "language": "python",
     "metadata": {},
     "outputs": [
      {
       "metadata": {},
       "output_type": "pyout",
       "prompt_number": 8,
       "text": [
        "[Environment effc5e252a92162a9e3ad2d59021dd0ec085122a7ed8b9d85864c07222a5eb069869d43969994240e4d7a293eeaa59e7f27fc9205d1caa7500e213ee035950e3 with 2 hosts.]"
       ]
      }
     ],
     "prompt_number": 8
    },
    {
     "cell_type": "code",
     "collapsed": false,
     "input": [
      "c.create_hosts(c.environments[0], 3)\n",
      "c.environments"
     ],
     "language": "python",
     "metadata": {},
     "outputs": [
      {
       "metadata": {},
       "output_type": "pyout",
       "prompt_number": 9,
       "text": [
        "[Environment effc5e252a92162a9e3ad2d59021dd0ec085122a7ed8b9d85864c07222a5eb069869d43969994240e4d7a293eeaa59e7f27fc9205d1caa7500e213ee035950e3 with 5 hosts.]"
       ]
      }
     ],
     "prompt_number": 9
    },
    {
     "cell_type": "code",
     "collapsed": false,
     "input": [
      "hosts = c.environments[0].hosts\n",
      "hosts"
     ],
     "language": "python",
     "metadata": {},
     "outputs": [
      {
       "metadata": {},
       "output_type": "pyout",
       "prompt_number": 10,
       "text": [
        "[Host 7744768704170c943e17ba27f91154120a5bbcbe69dc4a2e6f9fb937ac1453f61a96baa4ab0e4dcd7ad89b9269ae97c863fef72aecd29979f334a471233a68eb infected with 0 viruses,\n",
        " Host 0ecb8c2fed48ba4a659bbc19c3edeb3ec62b6c77996b9845e4d7c8b43b5fb9c86023db60ad69af8f95262ac4bb0b762e4fc4b6942e8a12008757f8062b31a67e infected with 0 viruses,\n",
        " Host 611623793e541b0dd58d929202e1a446e4b7afae91fe5d81534ae9d66944e19f62be74ebd3cd8e036e06a5baea4a6d9dce7d405589abf4a1fe96c9aae3bb94c6 infected with 0 viruses,\n",
        " Host 3223e76c6d4d83fb355031942a4d97c39906020a4d7e19a4ee88068a0d11d72453e87c8fce0e99e9cb8cbdfd3b65fea3181a2d01fae218a4f949494f87090dd1 infected with 0 viruses,\n",
        " Host 0b866dee2b9aed730041b2232211d14a2f2fc45f7bb1c03cac739fd09ffe76a13237adb7bbf2a970f952a9176fee250c4f459cc15699ed9b7996dc129af893dc infected with 0 viruses]"
       ]
      }
     ],
     "prompt_number": 10
    },
    {
     "cell_type": "code",
     "collapsed": false,
     "input": [
      "for host in hosts:\n",
      "    c.create_virus(host)"
     ],
     "language": "python",
     "metadata": {},
     "outputs": [],
     "prompt_number": 11
    },
    {
     "cell_type": "code",
     "collapsed": false,
     "input": [
      "hosts"
     ],
     "language": "python",
     "metadata": {},
     "outputs": [
      {
       "metadata": {},
       "output_type": "pyout",
       "prompt_number": 12,
       "text": [
        "[Host 7744768704170c943e17ba27f91154120a5bbcbe69dc4a2e6f9fb937ac1453f61a96baa4ab0e4dcd7ad89b9269ae97c863fef72aecd29979f334a471233a68eb infected with 1 viruses,\n",
        " Host 0ecb8c2fed48ba4a659bbc19c3edeb3ec62b6c77996b9845e4d7c8b43b5fb9c86023db60ad69af8f95262ac4bb0b762e4fc4b6942e8a12008757f8062b31a67e infected with 1 viruses,\n",
        " Host 611623793e541b0dd58d929202e1a446e4b7afae91fe5d81534ae9d66944e19f62be74ebd3cd8e036e06a5baea4a6d9dce7d405589abf4a1fe96c9aae3bb94c6 infected with 1 viruses,\n",
        " Host 3223e76c6d4d83fb355031942a4d97c39906020a4d7e19a4ee88068a0d11d72453e87c8fce0e99e9cb8cbdfd3b65fea3181a2d01fae218a4f949494f87090dd1 infected with 1 viruses,\n",
        " Host 0b866dee2b9aed730041b2232211d14a2f2fc45f7bb1c03cac739fd09ffe76a13237adb7bbf2a970f952a9176fee250c4f459cc15699ed9b7996dc129af893dc infected with 1 viruses]"
       ]
      }
     ],
     "prompt_number": 12
    },
    {
     "cell_type": "code",
     "collapsed": false,
     "input": [
      "hosts[0].viruses[0].generate_progeny()"
     ],
     "language": "python",
     "metadata": {},
     "outputs": [],
     "prompt_number": 13
    },
    {
     "cell_type": "code",
     "collapsed": false,
     "input": [
      "hosts"
     ],
     "language": "python",
     "metadata": {},
     "outputs": [
      {
       "metadata": {},
       "output_type": "pyout",
       "prompt_number": 14,
       "text": [
        "[Host 7744768704170c943e17ba27f91154120a5bbcbe69dc4a2e6f9fb937ac1453f61a96baa4ab0e4dcd7ad89b9269ae97c863fef72aecd29979f334a471233a68eb infected with 9 viruses,\n",
        " Host 0ecb8c2fed48ba4a659bbc19c3edeb3ec62b6c77996b9845e4d7c8b43b5fb9c86023db60ad69af8f95262ac4bb0b762e4fc4b6942e8a12008757f8062b31a67e infected with 1 viruses,\n",
        " Host 611623793e541b0dd58d929202e1a446e4b7afae91fe5d81534ae9d66944e19f62be74ebd3cd8e036e06a5baea4a6d9dce7d405589abf4a1fe96c9aae3bb94c6 infected with 1 viruses,\n",
        " Host 3223e76c6d4d83fb355031942a4d97c39906020a4d7e19a4ee88068a0d11d72453e87c8fce0e99e9cb8cbdfd3b65fea3181a2d01fae218a4f949494f87090dd1 infected with 1 viruses,\n",
        " Host 0b866dee2b9aed730041b2232211d14a2f2fc45f7bb1c03cac739fd09ffe76a13237adb7bbf2a970f952a9176fee250c4f459cc15699ed9b7996dc129af893dc infected with 1 viruses]"
       ]
      }
     ],
     "prompt_number": 14
    },
    {
     "cell_type": "code",
     "collapsed": false,
     "input": [
      "c.increment_timestep()"
     ],
     "language": "python",
     "metadata": {},
     "outputs": [
      {
       "output_type": "stream",
       "stream": "stdout",
       "text": [
        "Removing 13 viruses out of 49 viruses.\n",
        "Removing 0 viruses out of 1 viruses.\n",
        "Removing 2 viruses out of 7 viruses.\n",
        "Removing 0 viruses out of 7 viruses.\n",
        "Removing 0 viruses out of 1 viruses.\n"
       ]
      }
     ],
     "prompt_number": 15
    },
    {
     "cell_type": "code",
     "collapsed": false,
     "input": [
      "c.environments[0].current_time"
     ],
     "language": "python",
     "metadata": {},
     "outputs": [
      {
       "metadata": {},
       "output_type": "pyout",
       "prompt_number": 16,
       "text": [
        "1"
       ]
      }
     ],
     "prompt_number": 16
    },
    {
     "cell_type": "code",
     "collapsed": false,
     "input": [
      "c.current_time"
     ],
     "language": "python",
     "metadata": {},
     "outputs": [
      {
       "metadata": {},
       "output_type": "pyout",
       "prompt_number": 17,
       "text": [
        "1"
       ]
      }
     ],
     "prompt_number": 17
    },
    {
     "cell_type": "code",
     "collapsed": false,
     "input": [
      "c.increment_one_generation_time(c.environments[0])"
     ],
     "language": "python",
     "metadata": {},
     "outputs": [
      {
       "ename": "AttributeError",
       "evalue": "'Controller' object has no attribute 'increment_one_generation_time'",
       "output_type": "pyerr",
       "traceback": [
        "\u001b[0;31m---------------------------------------------------------------------------\u001b[0m\n\u001b[0;31mAttributeError\u001b[0m                            Traceback (most recent call last)",
        "\u001b[0;32m<ipython-input-18-0cf5e078b1f0>\u001b[0m in \u001b[0;36m<module>\u001b[0;34m()\u001b[0m\n\u001b[0;32m----> 1\u001b[0;31m \u001b[0mc\u001b[0m\u001b[0;34m.\u001b[0m\u001b[0mincrement_one_generation_time\u001b[0m\u001b[0;34m(\u001b[0m\u001b[0mc\u001b[0m\u001b[0;34m.\u001b[0m\u001b[0menvironments\u001b[0m\u001b[0;34m[\u001b[0m\u001b[0;36m0\u001b[0m\u001b[0;34m]\u001b[0m\u001b[0;34m)\u001b[0m\u001b[0;34m\u001b[0m\u001b[0m\n\u001b[0m",
        "\u001b[0;31mAttributeError\u001b[0m: 'Controller' object has no attribute 'increment_one_generation_time'"
       ]
      }
     ],
     "prompt_number": 18
    },
    {
     "cell_type": "code",
     "collapsed": false,
     "input": [
      "c.environments[0].hosts"
     ],
     "language": "python",
     "metadata": {},
     "outputs": []
    },
    {
     "cell_type": "code",
     "collapsed": false,
     "input": [
      "c.increment_one_generation_time(c.environments[0])"
     ],
     "language": "python",
     "metadata": {},
     "outputs": []
    },
    {
     "cell_type": "code",
     "collapsed": false,
     "input": [
      "c.environments[0].hosts"
     ],
     "language": "python",
     "metadata": {},
     "outputs": []
    },
    {
     "cell_type": "code",
     "collapsed": false,
     "input": [
      "c.create_hosts(c.environments[0], 100)"
     ],
     "language": "python",
     "metadata": {},
     "outputs": []
    },
    {
     "cell_type": "code",
     "collapsed": false,
     "input": [
      "c.environments[0]"
     ],
     "language": "python",
     "metadata": {},
     "outputs": []
    },
    {
     "cell_type": "code",
     "collapsed": false,
     "input": [
      "c.make_one_infection_happen(c.environments[0])"
     ],
     "language": "python",
     "metadata": {},
     "outputs": []
    },
    {
     "cell_type": "code",
     "collapsed": false,
     "input": [
      "c.environments[0].get_infected_hosts()"
     ],
     "language": "python",
     "metadata": {},
     "outputs": []
    },
    {
     "cell_type": "code",
     "collapsed": false,
     "input": [
      "c.environments[0].get_uninfected_hosts()"
     ],
     "language": "python",
     "metadata": {},
     "outputs": []
    },
    {
     "cell_type": "code",
     "collapsed": false,
     "input": [
      "c.environments[0].get_infected_hosts()"
     ],
     "language": "python",
     "metadata": {},
     "outputs": []
    }
   ],
   "metadata": {}
  }
 ]
}