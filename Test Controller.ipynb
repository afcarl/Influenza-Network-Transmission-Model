{
 "metadata": {
  "name": "",
  "signature": "sha256:dd9009e50cf216c12e762f3ebef6676f8741a812c635e0bff56b3f6a6f83eab8"
 },
 "nbformat": 3,
 "nbformat_minor": 0,
 "worksheets": [
  {
   "cells": [
    {
     "cell_type": "code",
     "collapsed": false,
     "input": [
      "from controller import Controller"
     ],
     "language": "python",
     "metadata": {},
     "outputs": [],
     "prompt_number": 1
    },
    {
     "cell_type": "code",
     "collapsed": false,
     "input": [
      "c = Controller()"
     ],
     "language": "python",
     "metadata": {},
     "outputs": [],
     "prompt_number": 2
    },
    {
     "cell_type": "code",
     "collapsed": false,
     "input": [
      "c.create_environment(num_hosts=1)"
     ],
     "language": "python",
     "metadata": {},
     "outputs": [],
     "prompt_number": 3
    },
    {
     "cell_type": "code",
     "collapsed": false,
     "input": [
      "c.environments"
     ],
     "language": "python",
     "metadata": {},
     "outputs": [
      {
       "metadata": {},
       "output_type": "pyout",
       "prompt_number": 4,
       "text": [
        "[Environment 6e403cb47e51fdd0a873d19534c5a6121315d8300c86dc7047629695d8e2339452355667f9363f3fda54871bab63c84bd3145eb68c0e81300b5a69d854db0056 with 0 hosts.]"
       ]
      }
     ],
     "prompt_number": 4
    },
    {
     "cell_type": "code",
     "collapsed": false,
     "input": [
      "c.create_host(c.environments[0])"
     ],
     "language": "python",
     "metadata": {},
     "outputs": [],
     "prompt_number": 5
    },
    {
     "cell_type": "code",
     "collapsed": false,
     "input": [
      "c.environments"
     ],
     "language": "python",
     "metadata": {},
     "outputs": [
      {
       "metadata": {},
       "output_type": "pyout",
       "prompt_number": 6,
       "text": [
        "[Environment 6e403cb47e51fdd0a873d19534c5a6121315d8300c86dc7047629695d8e2339452355667f9363f3fda54871bab63c84bd3145eb68c0e81300b5a69d854db0056 with 1 hosts.]"
       ]
      }
     ],
     "prompt_number": 6
    },
    {
     "cell_type": "code",
     "collapsed": false,
     "input": [
      "c.create_hosts(c.environments[0], 3)\n",
      "c.environments"
     ],
     "language": "python",
     "metadata": {},
     "outputs": [
      {
       "metadata": {},
       "output_type": "pyout",
       "prompt_number": 7,
       "text": [
        "[Environment 6e403cb47e51fdd0a873d19534c5a6121315d8300c86dc7047629695d8e2339452355667f9363f3fda54871bab63c84bd3145eb68c0e81300b5a69d854db0056 with 4 hosts.]"
       ]
      }
     ],
     "prompt_number": 7
    },
    {
     "cell_type": "code",
     "collapsed": false,
     "input": [
      "hosts = c.environments[0].hosts\n",
      "hosts"
     ],
     "language": "python",
     "metadata": {},
     "outputs": [
      {
       "metadata": {},
       "output_type": "pyout",
       "prompt_number": 8,
       "text": [
        "[Host d15853f265cb1dfb9758cadcc14c97fd14e3b42366247d86cf4936fe46dfad7d80f8edf87e6cd1992ecb51034dc5a1fd8f5a9a1a128f2446e8d858d452481367 infected with 0 viruses.,\n",
        " Host 194ee9a863c33d6c2abda31bc72983990c15fcd8811a2b558181cdcb5e3d608356af682b29a4c5e702d658386d3a799a45ebb7ace786efb9f3f64e5081130099 infected with 0 viruses.,\n",
        " Host 751dd3da4717b9c951c4b078b7fcf63057895639f4b61bf7ccd54c1715f15e8b22401b106007b14ac7963d3c679e7c707a2703277ebd0a228f1002bfce893582 infected with 0 viruses.,\n",
        " Host d82137a14c2c442493f28bac1a89b4c80fa122e051c8eebb61a399c9c5f0d9bb04bbf3f1df89d107a8f95710846ce0e83606ca2055cef87ee95ffc23f37992d0 infected with 0 viruses.]"
       ]
      }
     ],
     "prompt_number": 8
    },
    {
     "cell_type": "code",
     "collapsed": false,
     "input": [
      "for host in hosts:\n",
      "    c.create_virus(host)"
     ],
     "language": "python",
     "metadata": {},
     "outputs": [],
     "prompt_number": 9
    },
    {
     "cell_type": "code",
     "collapsed": false,
     "input": [
      "hosts"
     ],
     "language": "python",
     "metadata": {},
     "outputs": [
      {
       "metadata": {},
       "output_type": "pyout",
       "prompt_number": 10,
       "text": [
        "[Host d15853f265cb1dfb9758cadcc14c97fd14e3b42366247d86cf4936fe46dfad7d80f8edf87e6cd1992ecb51034dc5a1fd8f5a9a1a128f2446e8d858d452481367 infected with 1 viruses.,\n",
        " Host 194ee9a863c33d6c2abda31bc72983990c15fcd8811a2b558181cdcb5e3d608356af682b29a4c5e702d658386d3a799a45ebb7ace786efb9f3f64e5081130099 infected with 1 viruses.,\n",
        " Host 751dd3da4717b9c951c4b078b7fcf63057895639f4b61bf7ccd54c1715f15e8b22401b106007b14ac7963d3c679e7c707a2703277ebd0a228f1002bfce893582 infected with 1 viruses.,\n",
        " Host d82137a14c2c442493f28bac1a89b4c80fa122e051c8eebb61a399c9c5f0d9bb04bbf3f1df89d107a8f95710846ce0e83606ca2055cef87ee95ffc23f37992d0 infected with 1 viruses.]"
       ]
      }
     ],
     "prompt_number": 10
    },
    {
     "cell_type": "code",
     "collapsed": false,
     "input": [
      "c.increment_timestep()"
     ],
     "language": "python",
     "metadata": {},
     "outputs": [],
     "prompt_number": 11
    },
    {
     "cell_type": "code",
     "collapsed": false,
     "input": [
      "c.environments[0].current_time"
     ],
     "language": "python",
     "metadata": {},
     "outputs": [
      {
       "metadata": {},
       "output_type": "pyout",
       "prompt_number": 12,
       "text": [
        "1"
       ]
      }
     ],
     "prompt_number": 12
    },
    {
     "cell_type": "code",
     "collapsed": false,
     "input": [
      "c.current_time"
     ],
     "language": "python",
     "metadata": {},
     "outputs": [
      {
       "metadata": {},
       "output_type": "pyout",
       "prompt_number": 13,
       "text": [
        "1"
       ]
      }
     ],
     "prompt_number": 13
    },
    {
     "cell_type": "code",
     "collapsed": false,
     "input": [
      "c.increment_one_generation_time(c.environments[0])"
     ],
     "language": "python",
     "metadata": {},
     "outputs": [],
     "prompt_number": 14
    },
    {
     "cell_type": "code",
     "collapsed": false,
     "input": [
      "c.environments[0].hosts"
     ],
     "language": "python",
     "metadata": {},
     "outputs": [
      {
       "metadata": {},
       "output_type": "pyout",
       "prompt_number": 15,
       "text": [
        "[Host d15853f265cb1dfb9758cadcc14c97fd14e3b42366247d86cf4936fe46dfad7d80f8edf87e6cd1992ecb51034dc5a1fd8f5a9a1a128f2446e8d858d452481367 infected with 1 viruses.,\n",
        " Host 194ee9a863c33d6c2abda31bc72983990c15fcd8811a2b558181cdcb5e3d608356af682b29a4c5e702d658386d3a799a45ebb7ace786efb9f3f64e5081130099 infected with 7 viruses.,\n",
        " Host 751dd3da4717b9c951c4b078b7fcf63057895639f4b61bf7ccd54c1715f15e8b22401b106007b14ac7963d3c679e7c707a2703277ebd0a228f1002bfce893582 infected with 7 viruses.,\n",
        " Host d82137a14c2c442493f28bac1a89b4c80fa122e051c8eebb61a399c9c5f0d9bb04bbf3f1df89d107a8f95710846ce0e83606ca2055cef87ee95ffc23f37992d0 infected with 5 viruses.]"
       ]
      }
     ],
     "prompt_number": 15
    },
    {
     "cell_type": "code",
     "collapsed": false,
     "input": [
      "c.increment_one_generation_time(c.environments[0])"
     ],
     "language": "python",
     "metadata": {},
     "outputs": [],
     "prompt_number": 16
    },
    {
     "cell_type": "code",
     "collapsed": false,
     "input": [
      "c.environments[0].hosts"
     ],
     "language": "python",
     "metadata": {},
     "outputs": [
      {
       "metadata": {},
       "output_type": "pyout",
       "prompt_number": 17,
       "text": [
        "[Host d15853f265cb1dfb9758cadcc14c97fd14e3b42366247d86cf4936fe46dfad7d80f8edf87e6cd1992ecb51034dc5a1fd8f5a9a1a128f2446e8d858d452481367 infected with 1 viruses.,\n",
        " Host 194ee9a863c33d6c2abda31bc72983990c15fcd8811a2b558181cdcb5e3d608356af682b29a4c5e702d658386d3a799a45ebb7ace786efb9f3f64e5081130099 infected with 13 viruses.,\n",
        " Host 751dd3da4717b9c951c4b078b7fcf63057895639f4b61bf7ccd54c1715f15e8b22401b106007b14ac7963d3c679e7c707a2703277ebd0a228f1002bfce893582 infected with 41 viruses.,\n",
        " Host d82137a14c2c442493f28bac1a89b4c80fa122e051c8eebb61a399c9c5f0d9bb04bbf3f1df89d107a8f95710846ce0e83606ca2055cef87ee95ffc23f37992d0 infected with 23 viruses.]"
       ]
      }
     ],
     "prompt_number": 17
    },
    {
     "cell_type": "code",
     "collapsed": false,
     "input": [
      "c.create_hosts(c.environments[0], 100)"
     ],
     "language": "python",
     "metadata": {},
     "outputs": [],
     "prompt_number": 18
    },
    {
     "cell_type": "code",
     "collapsed": false,
     "input": [
      "c.environments[0]"
     ],
     "language": "python",
     "metadata": {},
     "outputs": [
      {
       "metadata": {},
       "output_type": "pyout",
       "prompt_number": 19,
       "text": [
        "Environment 6e403cb47e51fdd0a873d19534c5a6121315d8300c86dc7047629695d8e2339452355667f9363f3fda54871bab63c84bd3145eb68c0e81300b5a69d854db0056 with 104 hosts."
       ]
      }
     ],
     "prompt_number": 19
    },
    {
     "cell_type": "code",
     "collapsed": false,
     "input": [
      "c.make_one_infection_happen(c.environments[0])"
     ],
     "language": "python",
     "metadata": {},
     "outputs": [],
     "prompt_number": 20
    },
    {
     "cell_type": "code",
     "collapsed": false,
     "input": [
      "c.environments[0].get_infected_hosts()"
     ],
     "language": "python",
     "metadata": {},
     "outputs": [
      {
       "metadata": {},
       "output_type": "pyout",
       "prompt_number": 21,
       "text": [
        "[Host d15853f265cb1dfb9758cadcc14c97fd14e3b42366247d86cf4936fe46dfad7d80f8edf87e6cd1992ecb51034dc5a1fd8f5a9a1a128f2446e8d858d452481367 infected with 1 viruses.,\n",
        " Host 194ee9a863c33d6c2abda31bc72983990c15fcd8811a2b558181cdcb5e3d608356af682b29a4c5e702d658386d3a799a45ebb7ace786efb9f3f64e5081130099 infected with 13 viruses.,\n",
        " Host 751dd3da4717b9c951c4b078b7fcf63057895639f4b61bf7ccd54c1715f15e8b22401b106007b14ac7963d3c679e7c707a2703277ebd0a228f1002bfce893582 infected with 32 viruses.,\n",
        " Host d82137a14c2c442493f28bac1a89b4c80fa122e051c8eebb61a399c9c5f0d9bb04bbf3f1df89d107a8f95710846ce0e83606ca2055cef87ee95ffc23f37992d0 infected with 23 viruses.,\n",
        " Host e424826739fc2f4977776c8bea1643325a7cc13765c4b47e2ec8839c6757bc7d10452ed9bd405e8dbca437c9e9448e172fe9f77a7a21696caaed9cc0be12676e infected with 9 viruses.]"
       ]
      }
     ],
     "prompt_number": 21
    },
    {
     "cell_type": "code",
     "collapsed": false,
     "input": [
      "c.environments[0].get_uninfected_hosts()"
     ],
     "language": "python",
     "metadata": {},
     "outputs": [
      {
       "metadata": {},
       "output_type": "pyout",
       "prompt_number": 22,
       "text": [
        "[Host 258311e30206d3ee43272dab4aa03d617f12d834edaf715a543479a7cd0f9cf978a9f2f11d16406cc16e3e0f06b1eb24bd4d76ca4c1d2657b413f21125a52ae8 infected with 0 viruses.,\n",
        " Host 069f61669c4ffde0ebb998a2dd5190a42755c5450f667d0e22f38d9bdb8990ef0e4fc23691d8822b85cbce62dc18e699aa3d238ee7137863fc2dd2552d239ee7 infected with 0 viruses.,\n",
        " Host e3fd2c7d0b6037286798eadf4ec6ba5cec4db2af7cd7ba98fe856cbc69c91ad41fac15e115afa49d116eb718ec5cd5aca6bcc70fd4f038a4116802bccdd332ba infected with 0 viruses.,\n",
        " Host 4cbbd8d8d029a46007cd38ba8ea9fb8cb4f8c9925a4cc5f67834d0586916b7747f764ab8ec836da67aea1874a7314f69e4fc5abeca6defa73ac6712f1e2b3928 infected with 0 viruses.,\n",
        " Host fc8f323810e4d73def6c46e8df17ecc647333187dcc8558e8cf397c91c838ec9689b2446938a54deb418fdf1b050391d7840eccf80e189a5f0997ee240aa4069 infected with 0 viruses.,\n",
        " Host 362a985356465b52f77a0c45ae34ea8285c4313345778f2f30434dc70a566cc49aef5047c3287cf858997a6bf287735af5c6eeddba05e1e54987031e4a5cb088 infected with 0 viruses.,\n",
        " Host fa992ae261932591bfcba38b252a541ba45902cecbe465d3be1671435a3ee7c450ccd806d829cfabbbba4222286fa1714c9dcf6e859545f5f654c9bf654e50d3 infected with 0 viruses.,\n",
        " Host e0a306571dbb7a39b07effbaad9c3cca3ec1636155bc292570786526682a603f124a7cc8df88d42cd20b64c77cf9cff3e3421826892137465b3e3f6b57da73c2 infected with 0 viruses.,\n",
        " Host a138728e9a55919e628e4b5f7f2994af8d984847ddba6cd33c62a085b81258f15dcc33ac262c9204bb6053c7332e89f5f4804f581d461844a093dea14b5008af infected with 0 viruses.,\n",
        " Host 5646f13958a40212cbaf7f3558ddf41e4b902f6d1520b97a78b0a38aac4747270a910b8551c77b9cbaec9852cf0033f456987bffd5890efce50d81a3594cc1f3 infected with 0 viruses.,\n",
        " Host 4ecc41059887da9e0a7242751562f15f2d3d66850fbb6eef483439c7b62f91f36ec7e6afc2b97ae1d2d1a678e84fbee193521ea0131922538fae2df2570a5aa7 infected with 0 viruses.,\n",
        " Host 2387a38a0d2a77451de4c16cf8dbfa28833196bdc4f8a5ffb0be21d0af2da248445b1d5d75442c5b4623f683dadfa427a43c59a4220a6cb0d9f4ec7963361a79 infected with 0 viruses.,\n",
        " Host b925177dd41abe57d2390a54cea208f10a91ac3001edb7ecc1357de3f3b4c5b7830a7558b3a9332c9d7494c532ba567ee1aaee36caa6680f67f8ea153d26d586 infected with 0 viruses.,\n",
        " Host edc3d7a8cc0875d25f28b04838b59485c1405fdc752326ab6d0109e9b9f582d6eb6ef5f22751d12f46e5aa8f9dd3f3461ce7c8b5dde86c8a13a62c4e4f1b74fb infected with 0 viruses.,\n",
        " Host d4f7d688d33caf357a058695bd9205f5df448d6876ad6b1751737e0548778c2542f4f330115e20d3c408f5b7056b5dc4de304f3285be82004e391cf62db3006e infected with 0 viruses.,\n",
        " Host 54348baee4f6b0ab86da7be16a9a67d6c11bd0c9f95ee86181bfa983e338036ea4cba4af6aa573523bb372f1734a6dc039653cb0563586880e839a57c2673a44 infected with 0 viruses.,\n",
        " Host 188b77c3f9b6bdcc4e26f8863e000cba7b47975150a35dd20b6a1d59ad615091296b1a0cbc2af59ceff53467f291644475871628fbebe77f3749f2bf83a2519a infected with 0 viruses.,\n",
        " Host 03b449a5e7c1cc25e3f192ad73e43b4eb719e77831243050cb1bd1f8cfff92594a8e4be34dace125750c4555eca7345daeca7306ddc0bdfa5cea70a64fecd55e infected with 0 viruses.,\n",
        " Host d95a129482e63b0e0c3fd0d791cbaa502b96bcd66d6d2931d9955fadbc155418b81ff0949cdfb1ac1ad4f558e4e57f4cd303ce7e5ca714be049f0887774feecf infected with 0 viruses.,\n",
        " Host 85cea0942d3370a0042c0817eeae25528a8330d03558284bef91bf53761aeb46e4a2b426c070cd833b10a5124c6ccd28b91e6678da24fe14e745e64811e00d4e infected with 0 viruses.,\n",
        " Host 123c410a3754ab2312b12b8732613731b554347d0ce3b5bec0c267b5fa7618b6047342508d20241ce2de2b80b62c973c7508ea83418fdc7022895e93d4203c08 infected with 0 viruses.,\n",
        " Host 2621b1a08328031f82aa7bd44fdf7133ec76fc272dfa1839567b29963b27f1e2197869c604ce2173e5b2edabcd9497a54459ffcfb65afceb0554322163e28280 infected with 0 viruses.,\n",
        " Host d69b9a26a6b3829e93f96570c6e9635227d6ab5a4d198ed92c3d00de6c83de2846faa93276565b0f8386eb391d66a326f7603a52c19e5fe988fbd1ffedcc61ea infected with 0 viruses.,\n",
        " Host 9dd6dab5dd63f19cafe64b85e3a79efc72e8adea4d71ece8e35b1ac560b21704138af7aff748bcd09b492acbfb1ac8fa966d6aacfc38bb20247658838dd6be99 infected with 0 viruses.,\n",
        " Host 7092b60f1a7781caa9c2a496f4ae6e2565afc251997fc418bd3be961d86e6c0ff2ccf11fcfb52c971cc1c553a7eb39405c417e2816ce7f142fb2fe6b483a5cdb infected with 0 viruses.,\n",
        " Host 010b9a68f6f0b412d3bf560c88a411483d092567598905ef3f9f2a4e57b6fd409df97edf33ee0f6f4993a4af0694ac633ad1d8cb1b79c35526d88f73afbd6806 infected with 0 viruses.,\n",
        " Host 5a2e9f6415c29b4127120567c64bb80522a812b5dbbff3e2a9a6c4ee701d214923499ac5b5dade150ebe161b63ea5949d3094db66f85722f2e3c4ff49da476e5 infected with 0 viruses.,\n",
        " Host d9240c5b3a9eb88679fecc304c2a061a59d59c48e127595383dc5ae1b1f0aa076356e15fa43b09428c0a007364d7744ee80fe9de339129a69e43d99770648f9e infected with 0 viruses.,\n",
        " Host 0c197fbe796de22dc7e5a009caf1bf0f5aefb0226d7cbdb29e1615f2d6a6670cdfdae8d4eb817f4603fde1783e380c1e19578ddc78571f7840556ca3ab098f2e infected with 0 viruses.,\n",
        " Host 754e03d36951fca0cc199ff4de1fbd8ef10189f7c3c3c0d7c4ac226e28b29c5822ec7fdadc27717fd1f4d6fe17558a6ac96bf74f3111b219ecd6be23804503e4 infected with 0 viruses.,\n",
        " Host 846412ff1dd7163ef480d5dd08f0c7cb1ce1108c9437478a04c5a1a0c9335406fb9be154d924873d6fcb0e3017be2e17b199ace4a0172b764711cf614dbe1c97 infected with 0 viruses.,\n",
        " Host 946d263ac0dab3d911434c11a3d3bd9b101333e9347aeeba0808f0328dab34a0b9be8e242ca632329d9bb5f4a64ceadd6f27213f0445a983c62ae5e8aef70e11 infected with 0 viruses.,\n",
        " Host 347be9bd16339fa63660c283e21af39a7ad07fbba9b2bb89f069f3c7350e857935178b8d563ea665f42936a2873c8a96461e9fadd0ba6774c3944b4f1bef0d18 infected with 0 viruses.,\n",
        " Host 6619294cae24c4231395c8ce47fc3ddaa7c56769dfe5bc781eacf7cf97e113e16e28ec6c39b326425ec9bccef9a45f45ff406bf40311a946de191c738fb96cd0 infected with 0 viruses.,\n",
        " Host 30e17ebc46f88537e2c036a6f67802869c7e3a71344e70e44d03c80f05ae79b164c052b20b06c61837ac3e27b1764403892449c1d9df49c6b30715ac70d329c9 infected with 0 viruses.,\n",
        " Host 121f91b92c9ad7b3cf1abf52116ac6714393775e2eb847f832cae4f259b42d6d7997bc1b53469ad6ae837a7f9b05321d012c31e063bdc8241d40f932f9120854 infected with 0 viruses.,\n",
        " Host c280f3d03d5cc0a723d4443504f7c7bac8ef99192d96b1a48b9fca1ca27c88031d226866445ebb5450417ff55aa1588d63ed60718d2b1d2fa94dce2620b733f6 infected with 0 viruses.,\n",
        " Host c18cdf7ca9182b750865271daab9bea7ce496e55cdeefc8dded870a847997df4939731b1dad5974ed4cfb25bf42f2183014cfc5abad1a49696170fb03e3119d0 infected with 0 viruses.,\n",
        " Host 64f0df7318a5b3035c8354cac9a094cf7363a2e344daf76f42a1d4c42092d02fd4f607d0301fe842e17e71fac3f7766eac6ef708f3ca375fee1550cb2c250e9f infected with 0 viruses.,\n",
        " Host e68b672e1b810232522cbefcce019108eed856361244418a9ea9903a17ba8258b9d41127c08d60262cf191de5a1b93a5c9be1c947496ad010060443603779f8a infected with 0 viruses.,\n",
        " Host 70df66b67109d3f08868f960f1c27164eff37ad64a226abbe20d6af9f55e43192f4fa5339c914e685738c6976239341bc52d161a7f9075d3230ca44b2801b1a4 infected with 0 viruses.,\n",
        " Host dadb06736764367ae58390f7f992c6c3e3f33c071c075d28c15c212e0dc4b360effe8bd5150a162de7360326719e848d6fd067fa3c7ade176bf1fef2fdf96302 infected with 0 viruses.,\n",
        " Host 39ff7a2560e233750bbe98297e01014ed849b39e9a95d1aa30d9d861eea0cc3f96a1520a3cdc8067e4b43567e0bb8c4ca84f813e38823aa22321973a7167c370 infected with 0 viruses.,\n",
        " Host 78ef8971befc9cff357c626e0d91eece7ea4fdd00db4bd9f7230b4e57131a606cfbec36799cb1de61e2712d7527e3872533f635481fce8d03aa3eeb5d28ffcfd infected with 0 viruses.,\n",
        " Host e79b105d793ddb24bfbf88fac9404b10460c59ef0ce65e0ecd91044dd20da816f58b1a126ceb9f3955e920576450c20a83246af9d749bf578db6822901ff939b infected with 0 viruses.,\n",
        " Host c5f4c49a7c457b033aa407ffa563dbbf69efda68611f6c2d738d87209c76cf9258110dfec9bd7a95b52fc985ae5af3a534e37e1bc7902db23880cf45a2ecb7ec infected with 0 viruses.,\n",
        " Host c3e903577429c4130541f565b498ec4377bdd57169e6b062b3190e42139e533f1e4fbed4479585e36a94da4bbe6162cf154f31d692adbf250734fa616cda9e62 infected with 0 viruses.,\n",
        " Host 55a463cf221764760644cb7100a7e19286a19252a292a0b48deb5e8118d4e0e889208d994aa29b4f9653ef33f249415a905d8b1d5b44f08eeda0890cdd672f7e infected with 0 viruses.,\n",
        " Host 3145a0968593d9bd71c764d16e061624566382cab1c42ae2c36891a7a790fa7620038fc25a0493dac86168e03843da99a053dd17e38b045a2e2a2c9024aa055d infected with 0 viruses.,\n",
        " Host 4c2b4038cdc27d5b5850a47a3fa489f55f850b94d60dfbc58c4616172d3189551dba0d21cff4f1e6a155f9dfb8e1aaa43b8e1db865f4656e838a191f51bded56 infected with 0 viruses.,\n",
        " Host a18701d83f5c63c0e390d9dd3581bdcaffbf9a9163735f25f706704c744765929aea79a3a187aa9c80fcd362b5660808ebe3ddf7809dbf85c70a87795d6a01e4 infected with 0 viruses.,\n",
        " Host ae380ede8b536f85e1e8f6d3b447c8dd40a5d6f18c02d99307dcc2b352a79be3b2d3edf8786cd8c5c41f55ca00d7589577144f1eb0b13121583cadeefa0c3e8e infected with 0 viruses.,\n",
        " Host 1a7f7f1c9e647baa72ac0feb8f8c181b3aac9b0137ec6c8eb703a813935e8022b34aa7402d66fde3826046be088bb6077f28edc717b1d84db7bafd4b9e279d5f infected with 0 viruses.,\n",
        " Host 06d55c2a787b742e7ef739d0689a163295839c13ab60b376dfefaecd0f724e297c2cbf7d46b78c6fc236d3341e973b23a9e0005a86026dcb19624fa0fbf7df30 infected with 0 viruses.,\n",
        " Host 2d343410f897318aa9c282c4e4edb452ea2361cbe1632f507969bdb8da11860a56b5f3dbea81928d5fa2bcdda4da7a2633bca3b28c3e799d464223a6384b6fa0 infected with 0 viruses.,\n",
        " Host ced4c18356f0ddf55c22807071fb1f5996196d137a8a217e795c0878ae80a255872c2cecc0790328c4f2de3f12bd5431b087eb37ab079483533b85145f410d02 infected with 0 viruses.,\n",
        " Host 6d848eb284366ca7e06acabc47a8e8baec0322f9f65098eb0cf27efafd4b08398999ce93637d57d696e6c09c7587f0b864f31d9b0bb03b735db25c70909d58c8 infected with 0 viruses.,\n",
        " Host c5ca76155bf848041ca8f063ad0cc360ac7a6126f2c494fb9d32661afc980b22409b70dc9a619c169537ff85cf59d3809d757f48c30022e87b5b555e2ac97a5e infected with 0 viruses.,\n",
        " Host 1e6ca2040a87a99dfa900f2959664dfc6487d9501b8d296a0e5210c0f669cd3fe8b4632799d5f93f454c91ffb96d16c925a11cfd1cc91ca6e0165ecf7ca1cb05 infected with 0 viruses.,\n",
        " Host 2af8caa6cf3865797201db7daa5445a04779b199d8ecd63fa1035819a2eba91860212981a2893e7d9b0fd95104154c0728d11729631a5e944572868c810e469d infected with 0 viruses.,\n",
        " Host fbaf2c1b919913429f0a879677eabd4f1f9a586e37d6aa3758dd2274974437604ab0f258ac1a7dca00c6930f6873f0696aa4cc3d199b7bf2fe5004a97e0e0081 infected with 0 viruses.,\n",
        " Host 51307a8f360dcc10971ddf35dd7b08e053a19b4bc503dee29286deb2805f64e6fd2dfef03cd2a174b12336447e37dc907be27405024f82b536f10adb5e7ee59b infected with 0 viruses.,\n",
        " Host fabf09a46b486d66427c24e10ba20590acb7d5a5ad0331295ec06403a42c31b9bd341e8a871786230f9665926adb597141c75841915be4662d135fedfaee82e8 infected with 0 viruses.,\n",
        " Host c0ee81cb4aecac088a18aee5e35cc8b1fc00826edc570f017e14a9ef7fbd3781a01f62e9d7f92559d7f3e2a10b75933ab89b35186c642291b5482ff91cbd1e4d infected with 0 viruses.,\n",
        " Host 29a0822ad20aa23edce2cd5cc11785c0603a38c71922ec6f58641c5a0d6e05fe5aa996779b510998c46b44529ef7cdf9fa5e11e12febd6c9ad10ec9f65c1a79f infected with 0 viruses.,\n",
        " Host 2dd690505baf88c184bcbf0bdc6ba19e22d96d98d6cb8229b349a96e48d44d9bdfdf042adc6781d37a96d1001866146cf9391bd35e4c4a1246d1934eb4741739 infected with 0 viruses.,\n",
        " Host b7a93c109537acb5d867c5853c3e2dd87c3817318af2ec23f6a3293347f1f0a39ad071dc0c94069e742dfe18c25bb2f815efd16c81580d8bd38c8ade32b6ee3e infected with 0 viruses.,\n",
        " Host c4be3c60acc4a36dc1b0abfe50bea08b18890a0baa148e7404fa68b218931d7f72fcc77a12dee78d788884e9f06342fb6877cfcba486d2d3610ca877d28f189f infected with 0 viruses.,\n",
        " Host 134931fa7faea49c8cfd4692eeed4977f5c32bcc8d71aa6030a03d371f01a7e581eb683c0552dff30dc16a9bd3e243f5f5e32c4543c997806d1f61b4d266bf55 infected with 0 viruses.,\n",
        " Host d2fb8b1826cfd1df6fba2d74fb3da045a7db17d7293d191f7101667582dde7ac77686c931ac676a1c6159806db09ada889c8a769e6b7241840aa7eb94a6a95eb infected with 0 viruses.,\n",
        " Host b1f879c6528394a03102cd0499e3b65a97d0aa1b80173efb666c28cf91c9e3543791b0509145f2d86fb85d79791963ab37f9caa1e28337c85649f5763faab7af infected with 0 viruses.,\n",
        " Host 0699846612991a85b28abf3e95876104e96c8f06648caea898b4d4506b23931728985359572358f3b874978061ea96c69690d5dc6b8558d689bf392891b672fb infected with 0 viruses.,\n",
        " Host df0bd8317f19f043d45567a2966323f47d933608a041f9bd7212ff08bad35e836c6b4ddafb6decb0981ea1763dba4ccfc1085d630371aa7ca0bfdad0b33af636 infected with 0 viruses.,\n",
        " Host f809632fe6c1893c5ba40631eba3af768a88a4142509df3f49fcc92dc625504d58f845b10a84155ef3ddba99ee7031b998556186f34634519baf3e7502fb2477 infected with 0 viruses.,\n",
        " Host 0028271ad0d300741ef67d8e02d5e0ecd63f64c7a061488c9222741464a6dee2ed816d14fc1efe7f3a46e020fb9c614ca2c6916c22861096bfa2f0327282a839 infected with 0 viruses.,\n",
        " Host 93fd1473f55c0ae9ab744f570762e940ffe8f41898ada87177aad898c2ca2adc675ee46de57eb305c13f63b279e1e11f1d5360d31a44a816f2687dcc7b3b2890 infected with 0 viruses.,\n",
        " Host 2e859bdcc298d48a8f312a45e295fa00570c4ef42769c77ef0348ef6be174a2dc08cc3e40849a581e201e75464c3079c1c67073069e927430bccf3430cd15bcd infected with 0 viruses.,\n",
        " Host 62e4f7b43d44251643d4f16df3ec6db2b011fa793666f5976c68c0d8c304c5564d9e974c3468994465c13a3eaf2b8dac2e03e16f4c7138779e9339e734a34e82 infected with 0 viruses.,\n",
        " Host 9bb244899089692e752db1635ccbadffd602dfcde85e46ed2d9646817ca3abe16ad18ec155ca60a6016a88b7e342a4f16d382a2d1bff08d6ccad71efd606fd48 infected with 0 viruses.,\n",
        " Host 762a614f41ddab839aea64688682421b2f34f713a1201399669d8c1909ba8eb090db1fff2003aeafe6e94f481216437ef1d38893f02679089888d84a55676822 infected with 0 viruses.,\n",
        " Host 090b2e61de8ec978edc6be4c5f60850aac813f18320cde12fe64ea0c013cd72a93bb0ea638b73c4079e086db2b8387c5811ce2e7f2b0d872995fb6516d62b59f infected with 0 viruses.,\n",
        " Host f915a618da1b40051693274ce9a973199707408c0dc9a7825e9f3f527d9fb13c6f0814ff6796f55399f491532267434eb16fd5fa4a48e8ec31ef55133d009d43 infected with 0 viruses.,\n",
        " Host ea55697079e98812bf3ab9ae74c125e7bcd6556a3412a902937f3867e50e232d2a61ef7f97006dd14f9099534c2eed187ca94067215218865aa3a05755e28179 infected with 0 viruses.,\n",
        " Host c29e508276bf8281ec3463d183abce639633732d9a8a613cfa2f6c23011399ac554fdb1103187b0c739cd2486a1baaf27ddf3f31dbde0996f61dc651a0395f40 infected with 0 viruses.,\n",
        " Host f30e1a76e26ba18dfe999b1f75da81ed249cf2656ae781f6b1286d892b77509a870395f84d130ae23dcae6b9e0cd1060292a2e85312cb6a6f60139ef98ac0964 infected with 0 viruses.,\n",
        " Host d6b648e81fa41ca1317320b2bfd28c931ac9ca687f8184ba162f4af1b9119c42c16675fb92329529f63effaba95e40a05d7bf126afb9af8d4059771a811f6d76 infected with 0 viruses.,\n",
        " Host d8e8e4025745ce9235daf890320efbc505856bd1d3b6e3a8d22457e4406732a5d4f0551754b6b2d2198cc5d7c97709a6a98e5e74ae9da89913118f6814b6e1be infected with 0 viruses.,\n",
        " Host a2e467f976e6531dec9117e29014e59ce4c3479e932a66f5b66601ffc54077cac8876fda3dea629a9915d526744fcc169afabf7f5209a02781a0318b692c6c62 infected with 0 viruses.,\n",
        " Host 082f8dd406bd7487f1d69419e4c8ed47645cb57e0b525c07cf77f873b4d5d7ce6c6e9afe23fba43c6636fdaf4915c9c2a45f68568ce036e2f0f119b7cd3044fa infected with 0 viruses.,\n",
        " Host 2fa3ff0f230e4d8378a4802142dcf7575f6a6b03f8ec5d63a04c21bbaca0893ae84e8ab75ea53f1ed68100b18b3bcb6962b44c94bf2fe4a19efe6a9f3b949b3f infected with 0 viruses.,\n",
        " Host 4a9a062aeac0f72c7694dc6dbf4ef5b148a256cabb8d90f26ff1ee8c4e0958b9b9f542f75752194f2e8fb6a5f61916768b90dcbc5ae30668ce4cb0b28c18170b infected with 0 viruses.,\n",
        " Host e1efdf08c089ff89b1b4bc0ed0c5054ad4a46999ca51dc0da0f3613aa9bd127d85d58017e5d4f215a88d9782cc6ccdef09341641c773bf8eadde6c25f5d4dbc8 infected with 0 viruses.,\n",
        " Host 82b3f54564dc900394ebae87dbce41121762d9254389b2479fabb78a019a2632a4c2c931e89afb0d133d99b10a6120e2fa9721b3bbc760478b44b848a1d09677 infected with 0 viruses.,\n",
        " Host 1f0b83f7d981534a284834e3d4abd6aed3f35377f68c74190e61f00674f9df62ddd50c89a4f42f31ad8c39004ac477228c1c1640bad6d4fb356bf374e0610d90 infected with 0 viruses.,\n",
        " Host 5b39c6307bb49c716caa12ddb58e394950123666978fc9929e88122f949d4d714eb558d405d19bce271dc2385f80e4f00ddbe1dc4322de505c4895a68d149508 infected with 0 viruses.,\n",
        " Host 206f6956a83ef2873b65e947c1ba12a78485e06fc6151e7b42e061bbae17d46a9eefc00517976bf78659a55b2061a8f87a0c8a4fa486a9157f2da03ad6f548dd infected with 0 viruses.,\n",
        " Host 9e7884121664b844e48594e28353ab111b9c703d4969d5928138c51db2dc4a3c27ca04aed715e136886518e5be404a2131955e358f3c6e6beae5dd91c4b0da37 infected with 0 viruses.,\n",
        " Host 895dbc2b0af3867bb94d2b9810a78907d787a95b5d57fbda6d9d1ef6d8140bbb80a0c3b89b211676a7c971be1e8fb722a97fd6ae7c20240ce9328f69e4142752 infected with 0 viruses.,\n",
        " Host 72470bb775d7b8b54768ba486cc51dc2da74035cf435716174aaec2e9846632be86465304344824b33348a1f576ee6c6d5fc030cd4cfe2d779f43abbe9247b68 infected with 0 viruses.]"
       ]
      }
     ],
     "prompt_number": 22
    },
    {
     "cell_type": "code",
     "collapsed": false,
     "input": [],
     "language": "python",
     "metadata": {},
     "outputs": []
    }
   ],
   "metadata": {}
  }
 ]
}