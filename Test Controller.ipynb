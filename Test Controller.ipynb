{
 "metadata": {
  "name": "",
  "signature": "sha256:e3f0c14a978ed92cb7a1cf57f3b856b8d5b86597cf9d10f72acb1cc90726e270"
 },
 "nbformat": 3,
 "nbformat_minor": 0,
 "worksheets": [
  {
   "cells": [
    {
     "cell_type": "code",
     "collapsed": false,
     "input": [
      "from controller import Controller"
     ],
     "language": "python",
     "metadata": {},
     "outputs": [],
     "prompt_number": 135
    },
    {
     "cell_type": "code",
     "collapsed": false,
     "input": [],
     "language": "python",
     "metadata": {},
     "outputs": [],
     "prompt_number": 135
    },
    {
     "cell_type": "code",
     "collapsed": false,
     "input": [
      "c = Controller()"
     ],
     "language": "python",
     "metadata": {},
     "outputs": [],
     "prompt_number": 136
    },
    {
     "cell_type": "code",
     "collapsed": false,
     "input": [
      "c.create_environment(num_hosts=1)"
     ],
     "language": "python",
     "metadata": {},
     "outputs": [],
     "prompt_number": 137
    },
    {
     "cell_type": "code",
     "collapsed": false,
     "input": [
      "c.environments"
     ],
     "language": "python",
     "metadata": {},
     "outputs": [
      {
       "metadata": {},
       "output_type": "pyout",
       "prompt_number": 138,
       "text": [
        "[Environment 1e419... with 1 hosts.]"
       ]
      }
     ],
     "prompt_number": 138
    },
    {
     "cell_type": "code",
     "collapsed": false,
     "input": [
      "c.create_host(c.environments[0])"
     ],
     "language": "python",
     "metadata": {},
     "outputs": [],
     "prompt_number": 139
    },
    {
     "cell_type": "code",
     "collapsed": false,
     "input": [
      "c.environments"
     ],
     "language": "python",
     "metadata": {},
     "outputs": [
      {
       "metadata": {},
       "output_type": "pyout",
       "prompt_number": 140,
       "text": [
        "[Environment 1e419... with 2 hosts.]"
       ]
      }
     ],
     "prompt_number": 140
    },
    {
     "cell_type": "code",
     "collapsed": false,
     "input": [
      "c.create_hosts(c.environments[0], 3)\n",
      "c.environments"
     ],
     "language": "python",
     "metadata": {},
     "outputs": [
      {
       "metadata": {},
       "output_type": "pyout",
       "prompt_number": 141,
       "text": [
        "[Environment 1e419... with 5 hosts.]"
       ]
      }
     ],
     "prompt_number": 141
    },
    {
     "cell_type": "code",
     "collapsed": false,
     "input": [
      "hosts = c.environments[0].hosts\n",
      "hosts"
     ],
     "language": "python",
     "metadata": {},
     "outputs": [
      {
       "metadata": {},
       "output_type": "pyout",
       "prompt_number": 142,
       "text": [
        "[Host 75b12149b4bc9f6c5390579ad52a4a3e0faf2b0bf28e6c6d26f0f4d7a26533b6431cea58a364f392be8f6734af209b105e5440ad3f8baf48e82fe9589c96f7b1 infected with 0 viruses,\n",
        " Host b902746ccfe9aafb4c7d88ae44bf18159071fcc67a439dc903fdc986d4d83d9306f60ed34f288ea803af21a0ebd96fe735e3338ff71fa989bd0b8b0305d90a02 infected with 0 viruses,\n",
        " Host 34f1a3055dedfbea63accc92765cb7c9f02110fc0f59baf89a3b89dfcd7d4664c77e865e15d337ff0445fce725bf90d105a177c444d9dfdf84524690cbfe640c infected with 0 viruses,\n",
        " Host 28ff1a0ffd7fc7fa09dd360d64f852048f0980217987863370a6639d075f8c63edbc73bc0a40e4ed4db8fdced6ec5b07afd0a63c61e7c397feb115a56a3b9cf8 infected with 0 viruses,\n",
        " Host 5d1d127d7c8526b45bbb92bad6529d9d659ba8da7a1a1d0fe36f890af0f91dec4ae4ad56f2c8068a1e4bd90aa0eb189436ce94073be0b5d764637bcd18a2454b infected with 0 viruses]"
       ]
      }
     ],
     "prompt_number": 142
    },
    {
     "cell_type": "code",
     "collapsed": false,
     "input": [
      "for host in hosts:\n",
      "    c.create_virus(host)"
     ],
     "language": "python",
     "metadata": {},
     "outputs": [],
     "prompt_number": 143
    },
    {
     "cell_type": "code",
     "collapsed": false,
     "input": [
      "hosts"
     ],
     "language": "python",
     "metadata": {},
     "outputs": [
      {
       "metadata": {},
       "output_type": "pyout",
       "prompt_number": 144,
       "text": [
        "[Host 75b12149b4bc9f6c5390579ad52a4a3e0faf2b0bf28e6c6d26f0f4d7a26533b6431cea58a364f392be8f6734af209b105e5440ad3f8baf48e82fe9589c96f7b1 infected with 1 viruses,\n",
        " Host b902746ccfe9aafb4c7d88ae44bf18159071fcc67a439dc903fdc986d4d83d9306f60ed34f288ea803af21a0ebd96fe735e3338ff71fa989bd0b8b0305d90a02 infected with 1 viruses,\n",
        " Host 34f1a3055dedfbea63accc92765cb7c9f02110fc0f59baf89a3b89dfcd7d4664c77e865e15d337ff0445fce725bf90d105a177c444d9dfdf84524690cbfe640c infected with 1 viruses,\n",
        " Host 28ff1a0ffd7fc7fa09dd360d64f852048f0980217987863370a6639d075f8c63edbc73bc0a40e4ed4db8fdced6ec5b07afd0a63c61e7c397feb115a56a3b9cf8 infected with 1 viruses,\n",
        " Host 5d1d127d7c8526b45bbb92bad6529d9d659ba8da7a1a1d0fe36f890af0f91dec4ae4ad56f2c8068a1e4bd90aa0eb189436ce94073be0b5d764637bcd18a2454b infected with 1 viruses]"
       ]
      }
     ],
     "prompt_number": 144
    },
    {
     "cell_type": "code",
     "collapsed": false,
     "input": [
      "hosts[0].viruses[0].generate_progeny()"
     ],
     "language": "python",
     "metadata": {},
     "outputs": [
      {
       "metadata": {},
       "output_type": "pyout",
       "prompt_number": 145,
       "text": [
        "[31953f35e46bd4ee5168f0c573af5474b70fbe0871378bd9380b00f193574bffdbcaa2925769f72e1907a28326d9a3355a85c5aa4ca2a3a66c67f6046652d66f,\n",
        " 5c57b01d3cd8b22a7b4c57580794b885dbfd1c16951f9faad915a8c5138c95041d5d0826165ec595bf74d7a0d80c6d0b62dc8c23356be9ae139a6051a807de89,\n",
        " e3be0422529dac473e3ebbe6d2cd70b573165033876e0c2b8e40b43ef010d18cb7c0f7664eb728d14d672cc071fa551598411c164d12c18547dca68b3963583f,\n",
        " 7fe1efb7b415e752d03abfb956a42c83c468ec5bd15457c0370728427cf305b98bc269db515efaa568a02cfcce8909de08794c7a5ce9d29a343a66195d1fe43a,\n",
        " 7a52d3402c6b5db0aeecb9f4b1a32c3fd78518c97c88939a65e2a8218821d4f18dafc4887e8d3c33465d6fec23e849a687834f2b1df41bfc49b50dc5041ba1c5,\n",
        " a0fab56cc433006bd0381d4c21170b4e317be8d250ba281481515645627f8d54100a5e34ac3832c9eadbcca04fb6ee670c57b1c15b6e2796cd41d89661b1388b,\n",
        " 7791e7221f7bd1d3443d9d3b34c048cf20580c59b890a487db5bd072c4270758b04dc07cfc05df828116b1c53d20750c1ce300eaee5b3b5e777696423063f412]"
       ]
      }
     ],
     "prompt_number": 145
    },
    {
     "cell_type": "code",
     "collapsed": false,
     "input": [
      "hosts"
     ],
     "language": "python",
     "metadata": {},
     "outputs": [
      {
       "metadata": {},
       "output_type": "pyout",
       "prompt_number": 146,
       "text": [
        "[Host 75b12149b4bc9f6c5390579ad52a4a3e0faf2b0bf28e6c6d26f0f4d7a26533b6431cea58a364f392be8f6734af209b105e5440ad3f8baf48e82fe9589c96f7b1 infected with 1 viruses,\n",
        " Host b902746ccfe9aafb4c7d88ae44bf18159071fcc67a439dc903fdc986d4d83d9306f60ed34f288ea803af21a0ebd96fe735e3338ff71fa989bd0b8b0305d90a02 infected with 1 viruses,\n",
        " Host 34f1a3055dedfbea63accc92765cb7c9f02110fc0f59baf89a3b89dfcd7d4664c77e865e15d337ff0445fce725bf90d105a177c444d9dfdf84524690cbfe640c infected with 1 viruses,\n",
        " Host 28ff1a0ffd7fc7fa09dd360d64f852048f0980217987863370a6639d075f8c63edbc73bc0a40e4ed4db8fdced6ec5b07afd0a63c61e7c397feb115a56a3b9cf8 infected with 1 viruses,\n",
        " Host 5d1d127d7c8526b45bbb92bad6529d9d659ba8da7a1a1d0fe36f890af0f91dec4ae4ad56f2c8068a1e4bd90aa0eb189436ce94073be0b5d764637bcd18a2454b infected with 1 viruses]"
       ]
      }
     ],
     "prompt_number": 146
    },
    {
     "cell_type": "code",
     "collapsed": false,
     "input": [
      "c.increment_timestep()"
     ],
     "language": "python",
     "metadata": {},
     "outputs": [
      {
       "metadata": {},
       "output_type": "pyout",
       "prompt_number": 147,
       "text": [
        "<controller.Controller at 0x106b41850>"
       ]
      }
     ],
     "prompt_number": 147
    },
    {
     "cell_type": "code",
     "collapsed": false,
     "input": [
      "c.environments[0].current_time"
     ],
     "language": "python",
     "metadata": {},
     "outputs": [
      {
       "metadata": {},
       "output_type": "pyout",
       "prompt_number": 148,
       "text": [
        "1"
       ]
      }
     ],
     "prompt_number": 148
    },
    {
     "cell_type": "code",
     "collapsed": false,
     "input": [
      "c.current_time"
     ],
     "language": "python",
     "metadata": {},
     "outputs": [
      {
       "metadata": {},
       "output_type": "pyout",
       "prompt_number": 149,
       "text": [
        "1"
       ]
      }
     ],
     "prompt_number": 149
    },
    {
     "cell_type": "code",
     "collapsed": false,
     "input": [
      "c.increment_timestep(c.environments[0])"
     ],
     "language": "python",
     "metadata": {},
     "outputs": [
      {
       "metadata": {},
       "output_type": "pyout",
       "prompt_number": 150,
       "text": [
        "<controller.Controller at 0x106b41850>"
       ]
      }
     ],
     "prompt_number": 150
    },
    {
     "cell_type": "code",
     "collapsed": false,
     "input": [
      "c.environments[0].hosts"
     ],
     "language": "python",
     "metadata": {},
     "outputs": [
      {
       "metadata": {},
       "output_type": "pyout",
       "prompt_number": 151,
       "text": [
        "[Host 75b12149b4bc9f6c5390579ad52a4a3e0faf2b0bf28e6c6d26f0f4d7a26533b6431cea58a364f392be8f6734af209b105e5440ad3f8baf48e82fe9589c96f7b1 infected with 0 viruses,\n",
        " Host b902746ccfe9aafb4c7d88ae44bf18159071fcc67a439dc903fdc986d4d83d9306f60ed34f288ea803af21a0ebd96fe735e3338ff71fa989bd0b8b0305d90a02 infected with 17 viruses,\n",
        " Host 34f1a3055dedfbea63accc92765cb7c9f02110fc0f59baf89a3b89dfcd7d4664c77e865e15d337ff0445fce725bf90d105a177c444d9dfdf84524690cbfe640c infected with 40 viruses,\n",
        " Host 28ff1a0ffd7fc7fa09dd360d64f852048f0980217987863370a6639d075f8c63edbc73bc0a40e4ed4db8fdced6ec5b07afd0a63c61e7c397feb115a56a3b9cf8 infected with 11 viruses,\n",
        " Host 5d1d127d7c8526b45bbb92bad6529d9d659ba8da7a1a1d0fe36f890af0f91dec4ae4ad56f2c8068a1e4bd90aa0eb189436ce94073be0b5d764637bcd18a2454b infected with 52 viruses]"
       ]
      }
     ],
     "prompt_number": 151
    },
    {
     "cell_type": "code",
     "collapsed": false,
     "input": [
      "c.increment_timestep(c.environments[0])"
     ],
     "language": "python",
     "metadata": {},
     "outputs": [
      {
       "metadata": {},
       "output_type": "pyout",
       "prompt_number": 152,
       "text": [
        "<controller.Controller at 0x106b41850>"
       ]
      }
     ],
     "prompt_number": 152
    },
    {
     "cell_type": "code",
     "collapsed": false,
     "input": [
      "c.environments[0].hosts"
     ],
     "language": "python",
     "metadata": {},
     "outputs": [
      {
       "metadata": {},
       "output_type": "pyout",
       "prompt_number": 153,
       "text": [
        "[Host 75b12149b4bc9f6c5390579ad52a4a3e0faf2b0bf28e6c6d26f0f4d7a26533b6431cea58a364f392be8f6734af209b105e5440ad3f8baf48e82fe9589c96f7b1 infected with 0 viruses,\n",
        " Host b902746ccfe9aafb4c7d88ae44bf18159071fcc67a439dc903fdc986d4d83d9306f60ed34f288ea803af21a0ebd96fe735e3338ff71fa989bd0b8b0305d90a02 infected with 41 viruses,\n",
        " Host 34f1a3055dedfbea63accc92765cb7c9f02110fc0f59baf89a3b89dfcd7d4664c77e865e15d337ff0445fce725bf90d105a177c444d9dfdf84524690cbfe640c infected with 53 viruses,\n",
        " Host 28ff1a0ffd7fc7fa09dd360d64f852048f0980217987863370a6639d075f8c63edbc73bc0a40e4ed4db8fdced6ec5b07afd0a63c61e7c397feb115a56a3b9cf8 infected with 42 viruses,\n",
        " Host 5d1d127d7c8526b45bbb92bad6529d9d659ba8da7a1a1d0fe36f890af0f91dec4ae4ad56f2c8068a1e4bd90aa0eb189436ce94073be0b5d764637bcd18a2454b infected with 54 viruses]"
       ]
      }
     ],
     "prompt_number": 153
    },
    {
     "cell_type": "code",
     "collapsed": false,
     "input": [
      "c.create_hosts(c.environments[0], 100)"
     ],
     "language": "python",
     "metadata": {},
     "outputs": [],
     "prompt_number": 154
    },
    {
     "cell_type": "code",
     "collapsed": false,
     "input": [
      "c.environments[0]"
     ],
     "language": "python",
     "metadata": {},
     "outputs": [
      {
       "metadata": {},
       "output_type": "pyout",
       "prompt_number": 155,
       "text": [
        "Environment 1e419... with 105 hosts."
       ]
      }
     ],
     "prompt_number": 155
    },
    {
     "cell_type": "code",
     "collapsed": false,
     "input": [
      "c.make_one_infection_happen(c.environments[0])"
     ],
     "language": "python",
     "metadata": {},
     "outputs": [],
     "prompt_number": 156
    },
    {
     "cell_type": "code",
     "collapsed": false,
     "input": [
      "c.get_num_of_infected_hosts(c.environments[0])"
     ],
     "language": "python",
     "metadata": {},
     "outputs": [
      {
       "metadata": {},
       "output_type": "pyout",
       "prompt_number": 157,
       "text": [
        "5"
       ]
      }
     ],
     "prompt_number": 157
    },
    {
     "cell_type": "code",
     "collapsed": false,
     "input": [
      "d = Controller()\n",
      "d.create_environment()\n",
      "d.create_host(d.environments[0])\n",
      "d.create_virus(d.environments[0].hosts[0])\n",
      "print(d)\n",
      "print(d.environments)\n",
      "print(d.environments[0].hosts)"
     ],
     "language": "python",
     "metadata": {},
     "outputs": [
      {
       "output_type": "stream",
       "stream": "stdout",
       "text": [
        "<controller.Controller object at 0x107c2b750>\n",
        "[Environment c7a71... with 1 hosts.]\n",
        "[Host 70b34cb03aac6170e108b028e5caa876fa31119c65c01141d8bb16d9b5530939f80790ae22b31e22b971051bc3277579ce472ecaeb19823f5fd7aaf7ce94ca1d infected with 1 viruses]\n"
       ]
      }
     ],
     "prompt_number": 184
    },
    {
     "cell_type": "code",
     "collapsed": false,
     "input": [
      "# This will be used for plotting genetic distances vs. time\n",
      "distances = []\n",
      "times = []\n",
      "viral_loads = []\n",
      "for i in range(100):\n",
      "    d.increment_timestep()\n",
      "    viral_loads.append(d.get_host_virus_population(d.environments[0]))\n",
      "    for distance in d.get_hamming_distances(d.environments[0].hosts[0].viruses):\n",
      "        distances.append(distance)\n",
      "        times.append(i)"
     ],
     "language": "python",
     "metadata": {},
     "outputs": [],
     "prompt_number": 185
    },
    {
     "cell_type": "code",
     "collapsed": false,
     "input": [
      "plt.scatter(times, distances, color='blue', alpha=0.03)"
     ],
     "language": "python",
     "metadata": {},
     "outputs": [
      {
       "metadata": {},
       "output_type": "pyout",
       "prompt_number": 186,
       "text": [
        "<matplotlib.collections.PathCollection at 0x107cba150>"
       ]
      },
      {
       "metadata": {},
       "output_type": "display_data",
       "png": "[encoded data removed]",
       "text": [
        "<matplotlib.figure.Figure at 0x10763dd90>"
       ]
      }
     ],
     "prompt_number": 186
    },
    {
     "cell_type": "code",
     "collapsed": false,
     "input": [
      "plt.plot(viral_loads)\n",
      "plt.xlim(0,25)"
     ],
     "language": "python",
     "metadata": {},
     "outputs": [
      {
       "metadata": {},
       "output_type": "pyout",
       "prompt_number": 188,
       "text": [
        "(0, 25)"
       ]
      },
      {
       "metadata": {},
       "output_type": "display_data",
       "png": "[encoded data removed]",
       "text": [
        "<matplotlib.figure.Figure at 0x107f9bad0>"
       ]
      }
     ],
     "prompt_number": 188
    },
    {
     "cell_type": "code",
     "collapsed": false,
     "input": [],
     "language": "python",
     "metadata": {},
     "outputs": []
    }
   ],
   "metadata": {}
  }
 ]
}